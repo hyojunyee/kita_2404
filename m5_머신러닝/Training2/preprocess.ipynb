{
 "cells": [
  {
   "cell_type": "code",
   "execution_count": 23,
   "metadata": {},
   "outputs": [
    {
     "name": "stdout",
     "output_type": "stream",
     "text": [
      "Computing the cosine similarity matrix...\n",
      "Done computing similarity matrix.\n",
      "RMSE: 0.8832\n",
      "RMSE: 0.9826\n",
      "RMSE: 0.9078\n",
      "SVD RMSE: 0.8832365645948294\n",
      "KNN RMSE: 0.9826409877158173\n",
      "Hybrid RMSE: 0.9077694925505662\n",
      "모델 훈련 및 저장 완료\n",
      "평점 매긴 영화수: 232 추천대상 영화수: 9510 전체 영화수: 9742\n",
      "##### 사용자 1를 위한 Top-10 추천 영화 리스트 #####\n",
      "Jumanji (1995) : 3.50\n",
      "Waiting to Exhale (1995) : 3.50\n",
      "Father of the Bride Part II (1995) : 3.50\n",
      "Sabrina (1995) : 3.50\n",
      "Tom and Huck (1995) : 3.50\n",
      "Sudden Death (1995) : 3.50\n",
      "GoldenEye (1995) : 3.50\n",
      "American President, The (1995) : 3.50\n",
      "Dracula: Dead and Loving It (1995) : 3.50\n",
      "Balto (1995) : 3.50\n"
     ]
    }
   ],
   "source": [
    "import pandas as pd\n",
    "import numpy as np\n",
    "from surprise import Dataset, Reader\n",
    "from surprise import SVD, KNNBasic\n",
    "from surprise.model_selection import train_test_split\n",
    "from surprise import accuracy\n",
    "import os\n",
    "\n",
    "# 데이터 폴더 경로 설정\n",
    "data_folder = 'ml-latest-small'\n",
    "\n",
    "# 데이터 로드\n",
    "movies = pd.read_csv(os.path.join(data_folder, 'movies.csv'))\n",
    "ratings = pd.read_csv(os.path.join(data_folder, 'ratings.csv'))\n",
    "\n",
    "# Surprise 데이터셋 생성\n",
    "reader = Reader(rating_scale=(0.5, 5))\n",
    "data = Dataset.load_from_df(ratings[['userId', 'movieId', 'rating']], reader)\n",
    "\n",
    "# 훈련 세트와 테스트 세트로 분할\n",
    "trainset, testset = train_test_split(data, test_size=0.25, random_state=42)\n",
    "\n",
    "# SVD 모델 (잠재 요인 협업 필터링)\n",
    "svd = SVD(n_factors=100, n_epochs=20, lr_all=0.005, reg_all=0.02)\n",
    "svd.fit(trainset)\n",
    "\n",
    "# KNN 모델 (아이템 기반 협업 필터링)\n",
    "knn = KNNBasic(sim_options={'name': 'cosine', 'user_based': False})\n",
    "knn.fit(trainset)\n",
    "\n",
    "# 하이브리드 모델 (SVD와 KNN의 예측을 결합)\n",
    "def hybrid_predict(uid, iid, r_ui=None):\n",
    "    svd_pred = svd.predict(uid, iid, r_ui)\n",
    "    knn_pred = knn.predict(uid, iid, r_ui)\n",
    "    return (svd_pred.est + knn_pred.est) / 2\n",
    "\n",
    "# 모델 평가\n",
    "svd_accuracy = accuracy.rmse(svd.test(testset))\n",
    "knn_accuracy = accuracy.rmse(knn.test(testset))\n",
    "\n",
    "# 하이브리드 모델 예측 및 정확도 계산\n",
    "hybrid_predictions = []\n",
    "for uid, iid, true_r in testset:\n",
    "    pred = hybrid_predict(uid, iid)\n",
    "    hybrid_predictions.append((uid, iid, true_r, pred, None))\n",
    "\n",
    "hybrid_accuracy = accuracy.rmse(hybrid_predictions)\n",
    "\n",
    "print(f\"SVD RMSE: {svd_accuracy}\")\n",
    "print(f\"KNN RMSE: {knn_accuracy}\")\n",
    "print(f\"Hybrid RMSE: {hybrid_accuracy}\")\n",
    "\n",
    "# 모델 저장\n",
    "import joblib\n",
    "joblib.dump((svd, knn), 'hybrid_model.joblib')\n",
    "\n",
    "print(\"모델 훈련 및 저장 완료\")"
   ]
  }
 ],
 "metadata": {
  "kernelspec": {
   "display_name": "myenv",
   "language": "python",
   "name": "python3"
  },
  "language_info": {
   "codemirror_mode": {
    "name": "ipython",
    "version": 3
   },
   "file_extension": ".py",
   "mimetype": "text/x-python",
   "name": "python",
   "nbconvert_exporter": "python",
   "pygments_lexer": "ipython3",
   "version": "3.10.11"
  }
 },
 "nbformat": 4,
 "nbformat_minor": 2
}
