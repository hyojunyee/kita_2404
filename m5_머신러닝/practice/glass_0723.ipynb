{
  "nbformat": 4,
  "nbformat_minor": 0,
  "metadata": {
    "colab": {
      "provenance": [],
      "authorship_tag": "ABX9TyO/pXyQ9Sokl7j9XWlsaHck",
      "include_colab_link": true
    },
    "kernelspec": {
      "name": "python3",
      "display_name": "Python 3"
    },
    "language_info": {
      "name": "python"
    }
  },
  "cells": [
    {
      "cell_type": "markdown",
      "metadata": {
        "id": "view-in-github",
        "colab_type": "text"
      },
      "source": [
        "<a href=\"https://colab.research.google.com/github/hyojunyee/kita_2404/blob/main/m5_%EB%A8%B8%EC%8B%A0%EB%9F%AC%EB%8B%9D/practice/glass_0723.ipynb\" target=\"_parent\"><img src=\"https://colab.research.google.com/assets/colab-badge.svg\" alt=\"Open In Colab\"/></a>"
      ]
    },
    {
      "cell_type": "markdown",
      "source": [
        "### One-vs-Rest (OvR)와 One-vs-One (OvO)의 차이점\n",
        "\n",
        "One-vs-Rest (OvR)와 One-vs-One (OvO)은 다중 클래스 분류 문제를 해결하기 위한 전략\n",
        "\n",
        "#### **One-vs-Rest (OvR)**\n",
        "\n",
        "One-vs-Rest (OvR), 또는 One-vs-All (OvA) 전략은 다음과 같은 방식으로 작동:\n",
        "\n",
        "- 다중 클래스 분류 문제를 이진 분류 문제로 변환.\n",
        "- 각 클래스에 대해 해당 클래스를 나머지 모든 클래스와 구분하는 이진 분류기를 학습.\n",
        "- 최종 예측은 각 이진 분류기의 출력 확률을 기반으로 가장 높은 확률을 가진 클래스로 결정.\n",
        "\n",
        "##### 예시\n",
        "다음과 같은 세 개의 클래스 (A, B, C)가 있는 경우:\n",
        "1. A vs (B, C)\n",
        "2. B vs (A, C)\n",
        "3. C vs (A, B)\n",
        "\n",
        "각각의 이진 분류기를 학습한 후, 새로운 데이터 포인트가 주어지면 각 분류기의 출력 확률을 비교하여 가장 높은 확률을 가진 클래스를 선택.\n",
        "\n",
        "#### One-vs-One (OvO)\n",
        "\n",
        "One-vs-One (OvO) 전략은 다음과 같은 방식으로 작동:\n",
        "\n",
        "- 각 클래스 쌍에 대해 이진 분류기를 학습.\n",
        "- 총 $\\frac{n(n-1)}{2}$ 개의 이진 분류기를 학습 (n은 클래스의 개수).\n",
        "- 각 이진 분류기는 두 클래스 간의 구분을 학습.\n",
        "- 최종 예측은 다수결 투표를 통해 결정.\n",
        "\n",
        "##### 예시\n",
        "다음과 같은 세 개의 클래스 (A, B, C)가 있는 경우:\n",
        "1. A vs B\n",
        "2. A vs C\n",
        "3. B vs C\n",
        "\n",
        "새로운 데이터 포인트가 주어지면 각 이진 분류기의 예측을 기반으로 다수결 투표를 통해 최종 클래스를 결정.\n",
        "\n",
        "#### 차이점 요약\n",
        "\n",
        "| Feature                    | One-vs-Rest (OvR)                      | One-vs-One (OvO)                  |\n",
        "|----------------------------|----------------------------------------|-----------------------------------|\n",
        "| 분류기 수                    | 클래스 수 (n)                            | \\(\\frac{n(n-1)}{2}\\)                   |\n",
        "| 분류기 당 데이터 양            | 전체 데이터셋                            | 두 클래스 간의 데이터만 사용          |\n",
        "| 예측 방식                    | 가장 높은 확률의 클래스를 선택             | 다수결 투표로 최종 클래스를 결정      |\n",
        "| 계산 비용                    | 상대적으로 낮음                           | 상대적으로 높음                      |\n",
        "| 구현의 복잡성                | 낮음                                     | 높음                                 |\n",
        "\n",
        "#### Logistic Regression과 OvR, OvO\n",
        "\n",
        "`LogisticRegression` 모델에서 `multi_class` 파라미터를 설정하여 OvR 또는 OvO 전략을 사용할 수 있음:\n",
        "\n",
        "- `multi_class='ovr'`: One-vs-Rest (기본값)\n",
        "- `multi_class='multinomial'`와 `solver='lbfgs'` 또는 `solver='saga'`: 소프트맥스를 사용한 다중 클래스 분류 (OvO와 유사하지만 완전히 동일하지는 않음)\n",
        "\n",
        "---"
      ],
      "metadata": {
        "id": "H7jhbzmYr-R2"
      }
    },
    {
      "cell_type": "markdown",
      "source": [
        "유리 데이터\n",
        "- 데이터 셋: https://raw.githubusercontent.com/jbrownlee/Datasets/master/glass.csv\n",
        "- 데이터 설명 : https://raw.githubusercontent.com/jbrownlee/Datasets/master/glass.names\n",
        "\n",
        "\n",
        "특성은 9가지\n",
        "\n",
        "- RI: 굴절률\n",
        "- Na: 나트륨\n",
        "- Mg: 마그네슘\n",
        "- Al: 알루미늄\n",
        "- SI: 실리콘\n",
        "- K: 칼륨\n",
        "- Ca: 칼슘\n",
        "- Ba: 바륨\n",
        "- Fe: 철\n",
        "화학성분 특성은 산화물의 중량 퍼센트로 기록되어있다.\n",
        "\n",
        "\n",
        "\n",
        "예측할 클래스는 7가지이다\n",
        "\n",
        "- Class 1: 빌딩 창문(float processed)\n",
        "- Class 2: 빌딩 창문(non-float processed)\n",
        "- Class 3: 자동차 창문(float processed)\n",
        "- Class 4: 자동차 창문 (non-float processed)\n",
        "- Class 5: 컨테이너\n",
        "- Class 6: 식기류\n",
        "- Class 7: 헤드램프"
      ],
      "metadata": {
        "id": "YdXPOWRBpmaW"
      }
    },
    {
      "cell_type": "code",
      "execution_count": null,
      "metadata": {
        "id": "QtLgg78XpRip",
        "colab": {
          "base_uri": "https://localhost:8080/"
        },
        "outputId": "eebd3c7d-3193-4a38-ba94-bdc8f2ab31c3"
      },
      "outputs": [
        {
          "output_type": "stream",
          "name": "stdout",
          "text": [
            "0.10.1\n"
          ]
        }
      ],
      "source": [
        "# 필요 모듈 임포트\n",
        "import imblearn\n",
        "print(imblearn.__version__)\n",
        "\n",
        "import pandas as pd\n",
        "from collections import Counter\n",
        "from matplotlib import pyplot\n",
        "\n",
        "\n",
        "# 필요 함수 정의\n",
        "def count_and_plot(y):\n",
        "    counter = Counter(y)\n",
        "    for k,v in counter.items():\n",
        "        print('Class=%d, n=%d (%.3f%%)' % (k, v, v / len(y) * 100))\n",
        "    pyplot.bar(counter.keys(), counter.values())\n",
        "    pyplot.show()\n",
        "\n",
        "\n",
        "#데이터 읽어오기\n",
        "url = 'https://raw.githubusercontent.com/jbrownlee/Datasets/master/glass.csv'\n",
        "df = pd.read_csv(url, header=None)\n",
        "data = df.values\n",
        "X, y = data[:, :-1], data[:, -1]"
      ]
    },
    {
      "cell_type": "code",
      "source": [
        "count_and_plot(y)"
      ],
      "metadata": {
        "colab": {
          "base_uri": "https://localhost:8080/",
          "height": 540
        },
        "id": "seyrU6Appj2a",
        "outputId": "40ae1dd8-5b35-4584-c441-b51bfc372f59"
      },
      "execution_count": null,
      "outputs": [
        {
          "output_type": "stream",
          "name": "stdout",
          "text": [
            "Class=1, n=70 (32.710%)\n",
            "Class=2, n=76 (35.514%)\n",
            "Class=3, n=17 (7.944%)\n",
            "Class=5, n=13 (6.075%)\n",
            "Class=6, n=9 (4.206%)\n",
            "Class=7, n=29 (13.551%)\n"
          ]
        },
        {
          "output_type": "display_data",
          "data": {
            "text/plain": [
              "<Figure size 640x480 with 1 Axes>"
            ],
            "image/png": "[encoded data removed]"
          },
          "metadata": {}
        }
      ]
    },
    {
      "cell_type": "markdown",
      "source": [
        "1. 그냥해보기"
      ],
      "metadata": {
        "id": "AUPf-poGsYXD"
      }
    },
    {
      "cell_type": "code",
      "source": [
        "import pandas as pd\n",
        "import numpy as np\n",
        "from sklearn.model_selection import train_test_split\n",
        "from sklearn.ensemble import RandomForestClassifier\n",
        "from sklearn.metrics import accuracy_score, precision_score, recall_score, f1_score, roc_auc_score\n",
        "from sklearn.preprocessing import label_binarize\n",
        "from sklearn.preprocessing import StandardScaler\n",
        "from sklearn.multiclass import OneVsRestClassifier, OneVsOneClassifier\n",
        "\n",
        "# 데이터셋 로드\n",
        "url = \"https://raw.githubusercontent.com/jbrownlee/Datasets/master/glass.csv\"\n",
        "df = pd.read_csv(url, header=None)\n",
        "df.columns = ['RI', 'Na', 'Mg', 'Al', 'SI', 'K', 'Ca', 'Ba', 'Fe', 'Class']\n",
        "\n",
        "# 데이터와 레이블 분리\n",
        "X = df.iloc[:, :-1].values\n",
        "y = df.iloc[:, -1].values\n",
        "\n",
        "# 데이터 스케일링\n",
        "scaler = StandardScaler()\n",
        "X_scaled = scaler.fit_transform(X)\n",
        "\n",
        "# 훈련 데이터와 테스트 데이터 분할\n",
        "X_train, X_test, y_train, y_test = train_test_split(X_scaled, y, test_size=0.2, random_state=42)\n",
        "\n",
        "# 모델 훈련 및 예측 (OvR)\n",
        "model_ovr = OneVsRestClassifier(RandomForestClassifier(random_state=42))\n",
        "model_ovr.fit(X_train, y_train)\n",
        "y_pred_ovr = model_ovr.predict(X_test)\n",
        "\n",
        "# 모델 훈련 및 예측 (OvO)\n",
        "model_ovo = OneVsOneClassifier(RandomForestClassifier(random_state=42))\n",
        "model_ovo.fit(X_train, y_train)\n",
        "y_pred_ovo = model_ovo.predict(X_test)\n",
        "\n",
        "# 출력 레이블 이진화\n",
        "y_test_binarized = label_binarize(y_test, classes=np.unique(y))\n",
        "y_pred_ovr_binarized = label_binarize(y_pred_ovr, classes=np.unique(y))\n",
        "y_pred_ovo_binarized = label_binarize(y_pred_ovo, classes=np.unique(y))\n",
        "\n",
        "# ROC AUC 계산 (OvR 방식)\n",
        "roc_auc_ovr = roc_auc_score(y_test_binarized, y_pred_ovr_binarized, average='weighted', multi_class='ovr')\n",
        "\n",
        "# ROC AUC 계산 (OvO 방식)\n",
        "roc_auc_ovo = roc_auc_score(y_test_binarized, y_pred_ovo_binarized, average='weighted', multi_class='ovo')\n",
        "\n",
        "# 평가 지표 출력\n",
        "accuracy_ovr = accuracy_score(y_test, y_pred_ovr)\n",
        "precision_ovr = precision_score(y_test, y_pred_ovr, average='weighted')\n",
        "recall_ovr = recall_score(y_test, y_pred_ovr, average='weighted')\n",
        "f1_ovr = f1_score(y_test, y_pred_ovr, average='weighted')\n",
        "\n",
        "accuracy_ovo = accuracy_score(y_test, y_pred_ovo)\n",
        "precision_ovo = precision_score(y_test, y_pred_ovo, average='weighted')\n",
        "recall_ovo = recall_score(y_test, y_pred_ovo, average='weighted')\n",
        "f1_ovo = f1_score(y_test, y_pred_ovo, average='weighted')\n",
        "\n",
        "print(f\"**One-vs-Rest (OvR) 방식**\")\n",
        "print(f\"정확도: {accuracy_ovr:.2f}, 정밀도: {precision_ovr:.2f}, 재현율: {recall_ovr:.2f}, F1 Score: {f1_ovr:.2f}\")\n",
        "print(f\"ROC AUC (OvR): {roc_auc_ovr:.2f}\")\n",
        "\n",
        "print(f\"\\n**One-vs-One (OvO) 방식**\")\n",
        "print(f\"정확도: {accuracy_ovo:.2f}, 정밀도: {precision_ovo:.2f}, 재현율: {recall_ovo:.2f}, F1 Score: {f1_ovo:.2f}\")\n",
        "print(f\"ROC AUC (OvO): {roc_auc_ovo:.2f}\")"
      ],
      "metadata": {
        "colab": {
          "base_uri": "https://localhost:8080/"
        },
        "id": "d6qpuliTq7Wk",
        "outputId": "1ce497cd-68e9-4e7f-d32a-dcf5a562faac"
      },
      "execution_count": null,
      "outputs": [
        {
          "output_type": "stream",
          "name": "stdout",
          "text": [
            "**One-vs-Rest (OvR) 방식**\n",
            "정확도: 0.86, 정밀도: 0.87, 재현율: 0.86, F1 Score: 0.85\n",
            "ROC AUC (OvR): 0.90\n",
            "\n",
            "**One-vs-One (OvO) 방식**\n",
            "정확도: 0.79, 정밀도: 0.81, 재현율: 0.79, F1 Score: 0.78\n",
            "ROC AUC (OvO): 0.86\n"
          ]
        }
      ]
    },
    {
      "cell_type": "markdown",
      "source": [
        "- 언더 샘플링의 단점은 잠재적으로 정보의 가치가 높은 데이터도 버려서 유용한 데이터가 사라지는 위험이 있다는 것이다.\n",
        "- 오버 샘플링 방식에는 여러 가지가 있지만 가장 단순한 방식은 동일한 데이터를 똑같이 복사해서 수만 늘리는 것이다. 이럴 경우 오버 피팅의 위험이 생긴다.\n",
        "- 그래서 사용하는 것 중 하나 SMOTE"
      ],
      "metadata": {
        "id": "cqehfDwDtKZd"
      }
    },
    {
      "cell_type": "code",
      "source": [
        "import pandas as pd\n",
        "from sklearn.model_selection import train_test_split\n",
        "from sklearn.ensemble import RandomForestClassifier\n",
        "from sklearn.metrics import accuracy_score, precision_score, recall_score, f1_score, roc_auc_score\n",
        "from sklearn.preprocessing import LabelBinarizer\n",
        "from imblearn.over_sampling import SMOTE\n",
        "\n",
        "# 데이터 로드\n",
        "url = \"https://raw.githubusercontent.com/jbrownlee/Datasets/master/glass.csv\"\n",
        "column_names = [\"ID\", \"RI\", \"Na\", \"Mg\", \"Al\", \"SI\", \"K\", \"Ca\", \"Ba\", \"Fe\", \"Class\"]\n",
        "data = pd.read_csv(url, names=column_names, header=None)\n",
        "\n",
        "# 클래스 4를 제외한 데이터\n",
        "data_filtered = data[data['Class'] != 4]\n",
        "\n",
        "# 결측치 확인 및 처리\n",
        "data_filtered.fillna(data_filtered.mean(), inplace=True)\n",
        "\n",
        "# 특성과 레이블 분리\n",
        "X = data_filtered.drop(['ID', 'Class'], axis=1)\n",
        "y = data_filtered['Class']\n",
        "\n",
        "# 데이터 분할\n",
        "X_train, X_test, y_train, y_test = train_test_split(X, y, test_size=0.2, random_state=42)\n",
        "\n",
        "# SMOTE를 사용하여 소수 클래스 샘플 생성\n",
        "smote = SMOTE(random_state=42)\n",
        "X_train_resampled, y_train_resampled = smote.fit_resample(X_train, y_train)\n",
        "\n",
        "# 모델 훈련\n",
        "model = RandomForestClassifier(random_state=42)\n",
        "model.fit(X_train_resampled, y_train_resampled)\n",
        "\n",
        "# 예측\n",
        "y_pred = model.predict(X_test)\n",
        "\n",
        "# 모델 평가\n",
        "accuracy = accuracy_score(y_test, y_pred)\n",
        "precision = precision_score(y_test, y_pred, average='weighted')\n",
        "recall = recall_score(y_test, y_pred, average='weighted')\n",
        "f1 = f1_score(y_test, y_pred, average='weighted')\n",
        "\n",
        "# 출력레이블 이진화\n",
        "lb = LabelBinarizer()\n",
        "lb.fit(y)\n",
        "y_test_binarized = lb.transform(y_test)\n",
        "y_pred_binarized = lb.transform(y_pred)\n",
        "\n",
        "# ROC AUC (OvO 방식)\n",
        "roc_auc = roc_auc_score(y_test_binarized, y_pred_binarized, average='weighted', multi_class='ovo')\n",
        "\n",
        "# Print evaluation metrics\n",
        "print(f\"정확도: {accuracy:.2f}, 정밀도: {precision:.2f}, 재현율: {recall:.2f}, F1 Score: {f1:.2f}, ROC AUC (OvO): {roc_auc:.2f}\")\n"
      ],
      "metadata": {
        "colab": {
          "base_uri": "https://localhost:8080/",
          "height": 448
        },
        "id": "pGd5hbpAtwm0",
        "outputId": "bdf936cc-0334-4adf-d42a-c7805d7c9728"
      },
      "execution_count": null,
      "outputs": [
        {
          "output_type": "stream",
          "name": "stderr",
          "text": [
            "/usr/local/lib/python3.10/dist-packages/sklearn/utils/multiclass.py:380: RuntimeWarning: invalid value encountered in cast\n",
            "  if xp.any(data != data.astype(int)):\n"
          ]
        },
        {
          "output_type": "error",
          "ename": "ValueError",
          "evalue": "Input y contains NaN.",
          "traceback": [
            "\u001b[0;31m---------------------------------------------------------------------------\u001b[0m",
            "\u001b[0;31mValueError\u001b[0m                                Traceback (most recent call last)",
            "\u001b[0;32m<ipython-input-10-fd923f675b54>\u001b[0m in \u001b[0;36m<cell line: 28>\u001b[0;34m()\u001b[0m\n\u001b[1;32m     26\u001b[0m \u001b[0;31m# SMOTE를 사용하여 소수 클래스 샘플 생성\u001b[0m\u001b[0;34m\u001b[0m\u001b[0;34m\u001b[0m\u001b[0m\n\u001b[1;32m     27\u001b[0m \u001b[0msmote\u001b[0m \u001b[0;34m=\u001b[0m \u001b[0mSMOTE\u001b[0m\u001b[0;34m(\u001b[0m\u001b[0mrandom_state\u001b[0m\u001b[0;34m=\u001b[0m\u001b[0;36m42\u001b[0m\u001b[0;34m)\u001b[0m\u001b[0;34m\u001b[0m\u001b[0;34m\u001b[0m\u001b[0m\n\u001b[0;32m---> 28\u001b[0;31m \u001b[0mX_train_resampled\u001b[0m\u001b[0;34m,\u001b[0m \u001b[0my_train_resampled\u001b[0m \u001b[0;34m=\u001b[0m \u001b[0msmote\u001b[0m\u001b[0;34m.\u001b[0m\u001b[0mfit_resample\u001b[0m\u001b[0;34m(\u001b[0m\u001b[0mX_train\u001b[0m\u001b[0;34m,\u001b[0m \u001b[0my_train\u001b[0m\u001b[0;34m)\u001b[0m\u001b[0;34m\u001b[0m\u001b[0;34m\u001b[0m\u001b[0m\n\u001b[0m\u001b[1;32m     29\u001b[0m \u001b[0;34m\u001b[0m\u001b[0m\n\u001b[1;32m     30\u001b[0m \u001b[0;31m# 모델 훈련\u001b[0m\u001b[0;34m\u001b[0m\u001b[0;34m\u001b[0m\u001b[0m\n",
            "\u001b[0;32m/usr/local/lib/python3.10/dist-packages/imblearn/base.py\u001b[0m in \u001b[0;36mfit_resample\u001b[0;34m(self, X, y)\u001b[0m\n\u001b[1;32m    201\u001b[0m         \"\"\"\n\u001b[1;32m    202\u001b[0m         \u001b[0mself\u001b[0m\u001b[0;34m.\u001b[0m\u001b[0m_validate_params\u001b[0m\u001b[0;34m(\u001b[0m\u001b[0;34m)\u001b[0m\u001b[0;34m\u001b[0m\u001b[0;34m\u001b[0m\u001b[0m\n\u001b[0;32m--> 203\u001b[0;31m         \u001b[0;32mreturn\u001b[0m \u001b[0msuper\u001b[0m\u001b[0;34m(\u001b[0m\u001b[0;34m)\u001b[0m\u001b[0;34m.\u001b[0m\u001b[0mfit_resample\u001b[0m\u001b[0;34m(\u001b[0m\u001b[0mX\u001b[0m\u001b[0;34m,\u001b[0m \u001b[0my\u001b[0m\u001b[0;34m)\u001b[0m\u001b[0;34m\u001b[0m\u001b[0;34m\u001b[0m\u001b[0m\n\u001b[0m\u001b[1;32m    204\u001b[0m \u001b[0;34m\u001b[0m\u001b[0m\n\u001b[1;32m    205\u001b[0m     \u001b[0;32mdef\u001b[0m \u001b[0m_more_tags\u001b[0m\u001b[0;34m(\u001b[0m\u001b[0mself\u001b[0m\u001b[0;34m)\u001b[0m\u001b[0;34m:\u001b[0m\u001b[0;34m\u001b[0m\u001b[0;34m\u001b[0m\u001b[0m\n",
            "\u001b[0;32m/usr/local/lib/python3.10/dist-packages/imblearn/base.py\u001b[0m in \u001b[0;36mfit_resample\u001b[0;34m(self, X, y)\u001b[0m\n\u001b[1;32m     78\u001b[0m             \u001b[0mThe\u001b[0m \u001b[0mcorresponding\u001b[0m \u001b[0mlabel\u001b[0m \u001b[0mof\u001b[0m\u001b[0;31m \u001b[0m\u001b[0;31m`\u001b[0m\u001b[0mX_resampled\u001b[0m\u001b[0;31m`\u001b[0m\u001b[0;34m.\u001b[0m\u001b[0;34m\u001b[0m\u001b[0;34m\u001b[0m\u001b[0m\n\u001b[1;32m     79\u001b[0m         \"\"\"\n\u001b[0;32m---> 80\u001b[0;31m         \u001b[0mcheck_classification_targets\u001b[0m\u001b[0;34m(\u001b[0m\u001b[0my\u001b[0m\u001b[0;34m)\u001b[0m\u001b[0;34m\u001b[0m\u001b[0;34m\u001b[0m\u001b[0m\n\u001b[0m\u001b[1;32m     81\u001b[0m         \u001b[0marrays_transformer\u001b[0m \u001b[0;34m=\u001b[0m \u001b[0mArraysTransformer\u001b[0m\u001b[0;34m(\u001b[0m\u001b[0mX\u001b[0m\u001b[0;34m,\u001b[0m \u001b[0my\u001b[0m\u001b[0;34m)\u001b[0m\u001b[0;34m\u001b[0m\u001b[0;34m\u001b[0m\u001b[0m\n\u001b[1;32m     82\u001b[0m         \u001b[0mX\u001b[0m\u001b[0;34m,\u001b[0m \u001b[0my\u001b[0m\u001b[0;34m,\u001b[0m \u001b[0mbinarize_y\u001b[0m \u001b[0;34m=\u001b[0m \u001b[0mself\u001b[0m\u001b[0;34m.\u001b[0m\u001b[0m_check_X_y\u001b[0m\u001b[0;34m(\u001b[0m\u001b[0mX\u001b[0m\u001b[0;34m,\u001b[0m \u001b[0my\u001b[0m\u001b[0;34m)\u001b[0m\u001b[0;34m\u001b[0m\u001b[0;34m\u001b[0m\u001b[0m\n",
            "\u001b[0;32m/usr/local/lib/python3.10/dist-packages/sklearn/utils/multiclass.py\u001b[0m in \u001b[0;36mcheck_classification_targets\u001b[0;34m(y)\u001b[0m\n\u001b[1;32m    208\u001b[0m         \u001b[0mTarget\u001b[0m \u001b[0mvalues\u001b[0m\u001b[0;34m.\u001b[0m\u001b[0;34m\u001b[0m\u001b[0;34m\u001b[0m\u001b[0m\n\u001b[1;32m    209\u001b[0m     \"\"\"\n\u001b[0;32m--> 210\u001b[0;31m     \u001b[0my_type\u001b[0m \u001b[0;34m=\u001b[0m \u001b[0mtype_of_target\u001b[0m\u001b[0;34m(\u001b[0m\u001b[0my\u001b[0m\u001b[0;34m,\u001b[0m \u001b[0minput_name\u001b[0m\u001b[0;34m=\u001b[0m\u001b[0;34m\"y\"\u001b[0m\u001b[0;34m)\u001b[0m\u001b[0;34m\u001b[0m\u001b[0;34m\u001b[0m\u001b[0m\n\u001b[0m\u001b[1;32m    211\u001b[0m     if y_type not in [\n\u001b[1;32m    212\u001b[0m         \u001b[0;34m\"binary\"\u001b[0m\u001b[0;34m,\u001b[0m\u001b[0;34m\u001b[0m\u001b[0;34m\u001b[0m\u001b[0m\n",
            "\u001b[0;32m/usr/local/lib/python3.10/dist-packages/sklearn/utils/multiclass.py\u001b[0m in \u001b[0;36mtype_of_target\u001b[0;34m(y, input_name)\u001b[0m\n\u001b[1;32m    379\u001b[0m         \u001b[0mdata\u001b[0m \u001b[0;34m=\u001b[0m \u001b[0my\u001b[0m\u001b[0;34m.\u001b[0m\u001b[0mdata\u001b[0m \u001b[0;32mif\u001b[0m \u001b[0missparse\u001b[0m\u001b[0;34m(\u001b[0m\u001b[0my\u001b[0m\u001b[0;34m)\u001b[0m \u001b[0;32melse\u001b[0m \u001b[0my\u001b[0m\u001b[0;34m\u001b[0m\u001b[0;34m\u001b[0m\u001b[0m\n\u001b[1;32m    380\u001b[0m         \u001b[0;32mif\u001b[0m \u001b[0mxp\u001b[0m\u001b[0;34m.\u001b[0m\u001b[0many\u001b[0m\u001b[0;34m(\u001b[0m\u001b[0mdata\u001b[0m \u001b[0;34m!=\u001b[0m \u001b[0mdata\u001b[0m\u001b[0;34m.\u001b[0m\u001b[0mastype\u001b[0m\u001b[0;34m(\u001b[0m\u001b[0mint\u001b[0m\u001b[0;34m)\u001b[0m\u001b[0;34m)\u001b[0m\u001b[0;34m:\u001b[0m\u001b[0;34m\u001b[0m\u001b[0;34m\u001b[0m\u001b[0m\n\u001b[0;32m--> 381\u001b[0;31m             \u001b[0m_assert_all_finite\u001b[0m\u001b[0;34m(\u001b[0m\u001b[0mdata\u001b[0m\u001b[0;34m,\u001b[0m \u001b[0minput_name\u001b[0m\u001b[0;34m=\u001b[0m\u001b[0minput_name\u001b[0m\u001b[0;34m)\u001b[0m\u001b[0;34m\u001b[0m\u001b[0;34m\u001b[0m\u001b[0m\n\u001b[0m\u001b[1;32m    382\u001b[0m             \u001b[0;32mreturn\u001b[0m \u001b[0;34m\"continuous\"\u001b[0m \u001b[0;34m+\u001b[0m \u001b[0msuffix\u001b[0m\u001b[0;34m\u001b[0m\u001b[0;34m\u001b[0m\u001b[0m\n\u001b[1;32m    383\u001b[0m \u001b[0;34m\u001b[0m\u001b[0m\n",
            "\u001b[0;32m/usr/local/lib/python3.10/dist-packages/sklearn/utils/validation.py\u001b[0m in \u001b[0;36m_assert_all_finite\u001b[0;34m(X, allow_nan, msg_dtype, estimator_name, input_name)\u001b[0m\n\u001b[1;32m    159\u001b[0m                 \u001b[0;34m\"#estimators-that-handle-nan-values\"\u001b[0m\u001b[0;34m\u001b[0m\u001b[0;34m\u001b[0m\u001b[0m\n\u001b[1;32m    160\u001b[0m             )\n\u001b[0;32m--> 161\u001b[0;31m         \u001b[0;32mraise\u001b[0m \u001b[0mValueError\u001b[0m\u001b[0;34m(\u001b[0m\u001b[0mmsg_err\u001b[0m\u001b[0;34m)\u001b[0m\u001b[0;34m\u001b[0m\u001b[0;34m\u001b[0m\u001b[0m\n\u001b[0m\u001b[1;32m    162\u001b[0m \u001b[0;34m\u001b[0m\u001b[0m\n\u001b[1;32m    163\u001b[0m \u001b[0;34m\u001b[0m\u001b[0m\n",
            "\u001b[0;31mValueError\u001b[0m: Input y contains NaN."
          ]
        }
      ]
    }
  ]
}