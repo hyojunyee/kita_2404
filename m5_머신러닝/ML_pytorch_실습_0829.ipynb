{
  "nbformat": 4,
  "nbformat_minor": 0,
  "metadata": {
    "colab": {
      "provenance": [],
      "mount_file_id": "1dwyKme-uXZb8zOoJaN1L95UzdXT9Fhph",
      "authorship_tag": "ABX9TyPOJOuPTwdDEGoBeX7t6ZSp",
      "include_colab_link": true
    },
    "kernelspec": {
      "name": "python3",
      "display_name": "Python 3"
    },
    "language_info": {
      "name": "python"
    }
  },
  "cells": [
    {
      "cell_type": "markdown",
      "metadata": {
        "id": "view-in-github",
        "colab_type": "text"
      },
      "source": [
        "<a href=\"https://colab.research.google.com/github/hyojunyee/kita_2404/blob/main/m5_%EB%A8%B8%EC%8B%A0%EB%9F%AC%EB%8B%9D/ML_pytorch_%EC%8B%A4%EC%8A%B5_0829.ipynb\" target=\"_parent\"><img src=\"https://colab.research.google.com/assets/colab-badge.svg\" alt=\"Open In Colab\"/></a>"
      ]
    },
    {
      "cell_type": "markdown",
      "source": [
        "Q. mnist 데이터 셋에 대해서 Pytorch를 적용하여 모델 구성 변경, 조기 학습 중단을 수행하고 Best Model을 저장한 후 다시 불러와서 테스트 데이터로 평가한 결과를 출력하세요"
      ],
      "metadata": {
        "id": "mOzbn2ISjjvO"
      }
    },
    {
      "cell_type": "code",
      "source": [
        "# torch.max(outputs, 1)\n",
        "import torch\n",
        "\n",
        "# 예시 출력 텐서\n",
        "outputs = torch.tensor([[0.1, 0.3, 0.6], [0.2, 0.7, 0.1]])\n",
        "\n",
        "# 가장 큰 값을 가지는 클래스 인덱스를 추출\n",
        "_, predicted = torch.max(outputs, 1) # 각 행에 대해 최대값\n",
        "\n",
        "print(predicted)  # tensor([2, 1])"
      ],
      "metadata": {
        "colab": {
          "base_uri": "https://localhost:8080/"
        },
        "id": "4LPy23g-sD78",
        "outputId": "d94ae356-9af2-4bd3-dcb4-2f4fe3912629"
      },
      "execution_count": 1,
      "outputs": [
        {
          "output_type": "stream",
          "name": "stdout",
          "text": [
            "tensor([2, 1])\n"
          ]
        }
      ]
    },
    {
      "cell_type": "code",
      "source": [
        "import torch\n",
        "import torch.nn as nn\n",
        "import torch.nn.functional as F\n",
        "import torch.optim as optim\n",
        "import torchvision\n",
        "import torchvision.transforms as transforms\n",
        "from torch.utils.data import DataLoader, random_split\n",
        "\n",
        "# MNIST 데이터셋을 위한 전처리 과정 정의\n",
        "transform = transforms.Compose([\n",
        "    transforms.ToTensor(),                  # 이미지를 PyTorch 텐서로 변환\n",
        "    transforms.Normalize((0.5,), (0.5,))    # 이미지를 평균 0.5, 표준편차 0.5로 정규화하여 [-1, 1] 범위로 조정\n",
        "])\n",
        "\n",
        "# MNIST 데이터셋 로드\n",
        "train_dataset = torchvision.datasets.MNIST(root='./data', train=True, download=True, transform=transform)\n",
        "test_dataset = torchvision.datasets.MNIST(root='./data', train=False, download=True, transform=transform)       # test dataset이므로 train=False\n",
        "\n",
        "# 훈련 데이터셋을 훈련 및 검증 세트로 분할\n",
        "train_size = int(0.8 * len(train_dataset))      # 훈련 세트 크기를 전체의 80%로 설정\n",
        "val_size = len(train_dataset) - train_size      # 검증 세트 크기 계산\n",
        "train_dataset, val_dataset = random_split(train_dataset, [train_size, val_size])\n",
        "\n",
        "# 데이터 로더 생성\n",
        "batch_size = 64\n",
        "train_loader = DataLoader(train_dataset, batch_size=batch_size, shuffle=True)\n",
        "val_loader = DataLoader(val_dataset, batch_size=batch_size, shuffle=False)\n",
        "test_loader = DataLoader(test_dataset, batch_size=batch_size, shuffle=False)\n",
        "\n",
        "# 모델 아키텍처 정의\n",
        "class MyModel(nn.Module):\n",
        "    def __init__(self):\n",
        "        super().__init__()\n",
        "        self.conv1 = nn.Conv2d(1, 20, 5)    # 컨볼루션 레이어 정의(입력 채널 1, 출력 채널 20, 커널 크기 5)\n",
        "        self.pool = nn.MaxPool2d(2, 2)      # 멕스풀링 레이어 정의 (2x2 풀링)\n",
        "        self.flatten = nn.Flatten()         # 텐서 평탄화\n",
        "        self.fc1 = nn.Linear(2880, 50)      # 완전 연결 레이어 (입력크기 2880, 출력크기 50)\n",
        "        self.fc2 = nn.Linear(50, 10)        # 출력 레이어 (클래스 수 10)\n",
        "\n",
        "    def forward(self, x):\n",
        "        x = self.pool(F.relu(self.conv1(x)))    # ReLU 활성화 함수 적용 후 맥스풀링\n",
        "        x = self.flatten(x)                     # 평탄화\n",
        "        x = F.relu(self.fc1(x))                 # ReLU 활성화 함수 적용\n",
        "        x = self.fc2(x)                         # 최종 출력 레이어\n",
        "        return x\n",
        "\n",
        "model = MyModel()       # 모델 인스턴스 생성\n",
        "\n",
        "# 손실 함수 및 최적화 알고리즘 지정\n",
        "criterion = nn.CrossEntropyLoss()       # 크로스 엔트로피 손실 함수\n",
        "optimizer = optim.SGD(model.parameters(), lr=0.001, momentum=0.9)    # SGD 최적화 알고리즘\n",
        "\n",
        "# 모델 훈련\n",
        "best_val_loss = float('inf')    # 검증 손실을 추적하기 위한 변수 초기화\n",
        "patience, trials = 5, 0         # 조기 학습 중단을 위한 변수 초기화\n",
        "num_epochs = 20                 # 에폭 수 설정\n",
        "for epoch in range(num_epochs):\n",
        "    model.train()               # 모델을 훈련 모드로 설정\n",
        "    running_loss = 0.0          # 손실을 추적하기 위한 변수 초기화\n",
        "    for inupts, labes in train_loader:\n",
        "        optimizer.zero_grad()               # 그래디언트 초기화\n",
        "        outputs = model(inupts)             # 모델에 입력을 전달하여 출력 계산(모델을 통한 순전파)\n",
        "        loss = criterion(outputs, labes)    # 손실 계산\n",
        "        loss.backward()                     # 역전파 수행하여 그래디언트 계산\n",
        "        optimizer.step()                    # 가중치(파라미터) 업데이트\n",
        "        running_loss += loss.item()         # 손실 누적 계산\n",
        "\n",
        "    # 검증 단계\n",
        "    val_loss = 0.0\n",
        "    model.eval()                # 모델을 평가 모드로 설정\n",
        "    with torch.no_grad():       # 그래디언트 계산 비활성화\n",
        "        for inputs, labels in val_loader:\n",
        "            outputs = model(inputs)\n",
        "            loss = criterion(outputs, labels)\n",
        "            val_loss += loss.item()\n",
        "\n",
        "    val_loss /= len(val_loader)     # 평균 검증 손실 계산\n",
        "    print(f\"Epoch {epoch+1}/{num_epochs}, Training Loss: {running_loss/len(train_loader)}, Validation Loss: {val_loss}\")\n",
        "\n",
        "    # 검증 손실이 개선되었는지 확인하고 모델 저장\n",
        "    if val_loss < best_val_loss:\n",
        "        print(f\"Validation Loss Decreased {best_val_loss:.6f} ---> {val_loss:.6f}. \\t Saving The Model...\")\n",
        "        best_val_loss = val_loss\n",
        "        trials = 0\n",
        "        torch.save(model.state_dict(), 'best_model.pth')    # 모델 저장\n",
        "    else:\n",
        "        trials += 1\n",
        "        if trials >= patience:\n",
        "            print(\"Early stopping triggered!\")\n",
        "            break\n",
        "# 최고의 모델을 불러와서 평가\n",
        "model.load_state_dict(torch.load('best_model.pth'))\n",
        "model.eval()\n",
        "\n",
        "# 테스트 데이터로 모델 평가\n",
        "correct = 0\n",
        "total = 0\n",
        "with torch.no_grad():       # 그래디언트 계산 비활성화\n",
        "    for inputs, labels in test_loader:\n",
        "        outputs = model(inputs)\n",
        "        _, predicted = torch.max(outputs.data, 1)   # torch.max(input, dim), 'dim'은 차원을 의미, 가장 높은 값을 갖는 클래스를 예측하겠다는 의미\n",
        "        total += labels.size(0)\n",
        "        correct += (predicted == labels).sum().item()\n",
        "\n",
        "# 정확도 계산 및 출력\n",
        "accuracy = 100 * correct / total\n",
        "print(f\"Accuracy of the model on the 10000 test images: {accuracy}%\")"
      ],
      "metadata": {
        "colab": {
          "base_uri": "https://localhost:8080/"
        },
        "id": "118VSt4njW11",
        "outputId": "fbc48090-7a5d-4f22-bf1f-3bf1464b48e6"
      },
      "execution_count": 4,
      "outputs": [
        {
          "output_type": "stream",
          "name": "stdout",
          "text": [
            "Epoch 1/20, Training Loss: 0.6940400156080723, Validation Loss: 0.29293933439444986\n",
            "Validation Loss Decreased inf ---> 0.292939. \t Saving The Model...\n",
            "Epoch 2/20, Training Loss: 0.2457382708688577, Validation Loss: 0.21058484733580274\n",
            "Validation Loss Decreased 0.292939 ---> 0.210585. \t Saving The Model...\n",
            "Epoch 3/20, Training Loss: 0.1754001368979613, Validation Loss: 0.16291851566192952\n",
            "Validation Loss Decreased 0.210585 ---> 0.162919. \t Saving The Model...\n",
            "Epoch 4/20, Training Loss: 0.1360593303044637, Validation Loss: 0.1295022857276366\n",
            "Validation Loss Decreased 0.162919 ---> 0.129502. \t Saving The Model...\n",
            "Epoch 5/20, Training Loss: 0.11120735496779283, Validation Loss: 0.10794336425061239\n",
            "Validation Loss Decreased 0.129502 ---> 0.107943. \t Saving The Model...\n",
            "Epoch 6/20, Training Loss: 0.09537954062968493, Validation Loss: 0.1009589708013896\n",
            "Validation Loss Decreased 0.107943 ---> 0.100959. \t Saving The Model...\n",
            "Epoch 7/20, Training Loss: 0.08321228069315353, Validation Loss: 0.08285536751785177\n",
            "Validation Loss Decreased 0.100959 ---> 0.082855. \t Saving The Model...\n",
            "Epoch 8/20, Training Loss: 0.07437273144101103, Validation Loss: 0.07694137923201506\n",
            "Validation Loss Decreased 0.082855 ---> 0.076941. \t Saving The Model...\n",
            "Epoch 9/20, Training Loss: 0.0671760910556962, Validation Loss: 0.07574321628805805\n",
            "Validation Loss Decreased 0.076941 ---> 0.075743. \t Saving The Model...\n",
            "Epoch 10/20, Training Loss: 0.062152166310697796, Validation Loss: 0.07377704952724595\n",
            "Validation Loss Decreased 0.075743 ---> 0.073777. \t Saving The Model...\n",
            "Epoch 11/20, Training Loss: 0.05755920096548895, Validation Loss: 0.06441912693565989\n",
            "Validation Loss Decreased 0.073777 ---> 0.064419. \t Saving The Model...\n",
            "Epoch 12/20, Training Loss: 0.05366969425665836, Validation Loss: 0.06551269787125924\n",
            "Epoch 13/20, Training Loss: 0.050096816511203845, Validation Loss: 0.06125406251645627\n",
            "Validation Loss Decreased 0.064419 ---> 0.061254. \t Saving The Model...\n",
            "Epoch 14/20, Training Loss: 0.04719980184733868, Validation Loss: 0.06026555207666961\n",
            "Validation Loss Decreased 0.061254 ---> 0.060266. \t Saving The Model...\n",
            "Epoch 15/20, Training Loss: 0.04472585985995829, Validation Loss: 0.057968228547635704\n",
            "Validation Loss Decreased 0.060266 ---> 0.057968. \t Saving The Model...\n",
            "Epoch 16/20, Training Loss: 0.04285858295702686, Validation Loss: 0.05737831933731015\n",
            "Validation Loss Decreased 0.057968 ---> 0.057378. \t Saving The Model...\n",
            "Epoch 17/20, Training Loss: 0.04079290173326929, Validation Loss: 0.056050843489851725\n",
            "Validation Loss Decreased 0.057378 ---> 0.056051. \t Saving The Model...\n",
            "Epoch 18/20, Training Loss: 0.03827076971065253, Validation Loss: 0.052859858946597324\n",
            "Validation Loss Decreased 0.056051 ---> 0.052860. \t Saving The Model...\n",
            "Epoch 19/20, Training Loss: 0.03683459619805217, Validation Loss: 0.052576922549014075\n",
            "Validation Loss Decreased 0.052860 ---> 0.052577. \t Saving The Model...\n",
            "Epoch 20/20, Training Loss: 0.035026151039327186, Validation Loss: 0.05342655985844024\n"
          ]
        },
        {
          "output_type": "stream",
          "name": "stderr",
          "text": [
            "<ipython-input-4-2259c93ecb62>:92: FutureWarning: You are using `torch.load` with `weights_only=False` (the current default value), which uses the default pickle module implicitly. It is possible to construct malicious pickle data which will execute arbitrary code during unpickling (See https://github.com/pytorch/pytorch/blob/main/SECURITY.md#untrusted-models for more details). In a future release, the default value for `weights_only` will be flipped to `True`. This limits the functions that could be executed during unpickling. Arbitrary objects will no longer be allowed to be loaded via this mode unless they are explicitly allowlisted by the user via `torch.serialization.add_safe_globals`. We recommend you start setting `weights_only=True` for any use case where you don't have full control of the loaded file. Please open an issue on GitHub for any issues related to this experimental feature.\n",
            "  model.load_state_dict(torch.load('best_model.pth'))\n"
          ]
        },
        {
          "output_type": "stream",
          "name": "stdout",
          "text": [
            "Accuracy of the model on the 10000 test images: 98.37%\n"
          ]
        }
      ]
    },
    {
      "cell_type": "markdown",
      "source": [
        "- torch: 이것은 메인 PyTorch 라이브러리입니다. 여기에는 GPU를 통한 가속 텐서 계산 지원, 신경망 훈련을 용이하게 하는 자동 차별화, 모델 구축 및 훈련을 위한 다양한 유틸리티가 포함됩니다.\n",
        "- torch.nn: 레이어, 활성화 함수, 손실 함수와 같은 신경망의 구성 요소를 제공하는 PyTorch의 하위 모듈입니다. 신경망의 아키텍처를 정의하는 데 필수적입니다.\n",
        "- torch.nn.function: 이 모듈에는 torch.nn 레이어에서 사용되는 기능이 포함되어 있습니다. 입력 데이터 및 가중치에 이러한 함수를 직접 사용할 수 있으므로 일부 작업에 더 많은 유연성을 제공합니다. 여기에는 활성화, 손실 계산 및 상태(즉, 가중치)를 유지하지 않는 다양한 기타 작업을 위한 함수가 포함됩니다.\n",
        "- torch.optim: 이 하위 모듈은 SGD(Stochastic Gradient Descent), Adam 등과 같은 신경망 훈련을 위한 최적화 알고리즘을 제공합니다. 이러한 최적화 프로그램은 계산된 기울기를 기반으로 네트워크의 가중치를 업데이트하는 데 사용됩니다.\n",
        "- torchvision: 이미지 데이터 작업을 위한 유틸리티를 제공하는 PyTorch 프로젝트의 패키지입니다. 여기에는 사전 정의된 데이터세트(예: MNIST, CIFAR10, FashionMNIST), 모델 아키텍처(예: ResNet, AlexNet) 및 전처리를 위한 일반적인 이미지 변환이 포함됩니다.\n",
        "- torchvision.transforms: 일반적인 이미지 변환을 제공하는 torchvision 내의 모듈입니다. 이는 이미지를 신경망에 공급하기 전에 데이터 증대 및 이미지 전처리에 사용될 수 있습니다. 예로는 크기 조정, 정규화, 텐서로 변환 등이 있습니다.\n",
        "- SubsetRandomSampler: 교체 없이 데이터세트에서 요소를 무작위로 샘플링하는 데 사용되는 도구입니다. 데이터 세트를 훈련 및 검증/테스트 세트로 분할하거나 모델 훈련을 위해 사용자 정의 데이터 샘플링 전략을 구현하려는 경우에 특히 유용"
      ],
      "metadata": {
        "id": "omX-6LMrzrdd"
      }
    },
    {
      "cell_type": "markdown",
      "source": [
        "Q. PyTorch를 사용하여 FashionMNIST 데이터세트에 대한 분류 모델링 및 평가를 다음과 같은 단계로 수행하세요.\n",
        "- 1단계: 신경망 모델 정의 - Conv layer 추가\n",
        "- 2단계: FashionMNIST 데이터셋 로드\n",
        "- 3단계: 네트워크, 손실 함수, 최적화 알고리즘 초기화\n",
        "- 4단계: 조기 종료를 포함한 모델 학습 및 best model 저장\n",
        "- 5단계: best model을 로드하고 테스트 데이터셋으로 평가"
      ],
      "metadata": {
        "id": "oO5ZphFDzvY3"
      }
    },
    {
      "cell_type": "code",
      "source": [
        "import torch\n",
        "import torch.nn as nn\n",
        "import torch.nn.functional as F\n",
        "import torch.optim as optim\n",
        "import torchvision\n",
        "import torchvision.transforms as transforms\n",
        "from torch.utils.data import DataLoader, random_split\n",
        "\n",
        "# 1. 신경망 모델 정의 - Conv layer 추가\n",
        "# CNN 모델 정의\n",
        "class FashionCNN(nn.Module):\n",
        "    def __init__(self):\n",
        "        super().__init__()\n",
        "        self.conv1 = nn.Conv2d(1, 32, 3, padding=1)   # 1채널 입력, 32채널 출력, 3x3 커널\n",
        "        self.conv2 = nn.Conv2d(32, 64, 3, padding=1)  # 32채널 입력, 64채널 출력, 3x3 커널\n",
        "        self.pool = nn.MaxPool2d(2, 2)                 # 2x2 맥스풀링\n",
        "        self.fc1 = nn.Linear(64 * 7 * 7, 128)          # 64채널, 7x7 크기 입력, 128 출력\n",
        "        self.fc2 = nn.Linear(128, 10)                  # 128 입력, 10 클래스 출력\n",
        "\n",
        "    def forward(self, x):\n",
        "        x = self.pool(F.relu(self.conv1(x)))  # 첫 번째 Conv 레이어와 맥스풀링\n",
        "        x = self.pool(F.relu(self.conv2(x)))  # 두 번째 Conv 레이어와 맥스풀링\n",
        "        x = x.view(-1, 64 * 7 * 7)            # 평탄화\n",
        "        x = F.relu(self.fc1(x))               # 첫 번째 완전 연결 레이어\n",
        "        x = self.fc2(x)                       # 출력 레이어\n",
        "        return x\n",
        "\n",
        "\n",
        "# 2. FashionMNIST 데이터셋 로드\n",
        "# 데이터 전처리 정의\n",
        "transform = transforms.Compose([\n",
        "    transforms.ToTensor(),                  # 이미지를 텐서로 변환\n",
        "    transforms.Normalize((0.5,), (0.5,))    # 이미지를 [-1, 1] 범위로 정규화\n",
        "])\n",
        "\n",
        "# 데이터셋 로드\n",
        "train_dataset = torchvision.datasets.FashionMNIST(root='./data', train=True, download=True, transform=transform)\n",
        "test_dataset = torchvision.datasets.FashionMNIST(root='./data', train=False, download=True, transform=transform)\n",
        "\n",
        "# 훈련 데이터셋을 훈련 및 검증 세트로 분할\n",
        "train_size = int(0.8 * len(train_dataset))\n",
        "val_size = len(train_dataset) - train_size\n",
        "train_dataset, val_dataset = random_split(train_dataset, [train_size, val_size])\n",
        "\n",
        "# 데이터 로더 생성\n",
        "batch_size = 64\n",
        "train_loader = DataLoader(train_dataset, batch_size=batch_size, shuffle=True)\n",
        "val_loader = DataLoader(val_dataset, batch_size=batch_size, shuffle=False)\n",
        "test_loader = DataLoader(test_dataset, batch_size=batch_size, shuffle=False)\n",
        "\n",
        "\n",
        "# 3. 네트워크, 손실 함수, 최적화 알고리즘 초기화\n",
        "model = FashionCNN()                    # 모델 인스턴스 생성\n",
        "criterion = nn.CrossEntropyLoss()       # 손실 함수 정의\n",
        "optimizer = optim.SGD(model.parameters(), lr=0.001, momentum=0.9)  # 최적화 알고리즘 정의\n",
        "\n",
        "\n",
        "# 4. 조기 종료를 포함한 모델 학습 및 best model 저장\n",
        "best_val_loss = float('inf')    # 최적 검증 손실 초기화\n",
        "patience, trials = 5, 0         # 조기 종료 변수 초기화\n",
        "num_epochs = 20                 # 에폭 수 설정\n",
        "\n",
        "for epoch in range(num_epochs):\n",
        "    model.train()               # 모델을 훈련 모드로 설정\n",
        "    running_loss = 0.0          # 훈련 손실 추적 변수 초기화\n",
        "    for inputs, labels in train_loader:\n",
        "        optimizer.zero_grad()               # 그래디언트 초기화\n",
        "        outputs = model(inputs)            # 모델에 입력 전달\n",
        "        loss = criterion(outputs, labels)  # 손실 계산\n",
        "        loss.backward()                     # 역전파\n",
        "        optimizer.step()                    # 가중치 업데이트\n",
        "        running_loss += loss.item()         # 손실 누적\n",
        "\n",
        "    # 검증 단계\n",
        "    val_loss = 0.0\n",
        "    model.eval()                # 모델을 평가 모드로 설정\n",
        "    with torch.no_grad():       # 그래디언트 계산 비활성화\n",
        "        for inputs, labels in val_loader:\n",
        "            outputs = model(inputs)\n",
        "            loss = criterion(outputs, labels)\n",
        "            val_loss += loss.item()\n",
        "\n",
        "    val_loss /= len(val_loader)     # 평균 검증 손실 계산\n",
        "    print(f\"Epoch {epoch+1}/{num_epochs}, Training Loss: {running_loss/len(train_loader)}, Validation Loss: {val_loss}\")\n",
        "\n",
        "    # 검증 손실이 개선되었는지 확인하고 모델 저장\n",
        "    if val_loss < best_val_loss:\n",
        "        print(f\"Validation Loss Decreased {best_val_loss:.6f} ---> {val_loss:.6f}. \\t Saving The Model...\")\n",
        "        best_val_loss = val_loss\n",
        "        trials = 0\n",
        "        torch.save(model.state_dict(), 'best_model_fashion.pth')    # 모델 저장\n",
        "    else:\n",
        "        trials += 1\n",
        "        if trials >= patience:\n",
        "            print(\"Early stopping triggered!\")\n",
        "            break\n",
        "\n",
        "\n",
        "# 5. best model을 로드하고 테스트 데이터셋으로 평가\n",
        "# 최고의 모델을 불러와서 평가\n",
        "model.load_state_dict(torch.load('best_model_fashion.pth'))\n",
        "model.eval()\n",
        "\n",
        "# 테스트 데이터로 모델 평가\n",
        "correct = 0\n",
        "total = 0\n",
        "with torch.no_grad():       # 그래디언트 계산 비활성화\n",
        "    for inputs, labels in test_loader:\n",
        "        outputs = model(inputs)\n",
        "        _, predicted = torch.max(outputs.data, 1)   # 예측값 계산\n",
        "        total += labels.size(0)\n",
        "        correct += (predicted == labels).sum().item()\n",
        "\n",
        "print(f\"Accuracy of the model on the 10000 test images: {100 * correct / total}%\")"
      ],
      "metadata": {
        "colab": {
          "base_uri": "https://localhost:8080/"
        },
        "id": "91RY0wra-SIy",
        "outputId": "4a0f5052-efd7-44c1-8baa-bb6a2b145dc0"
      },
      "execution_count": 7,
      "outputs": [
        {
          "output_type": "stream",
          "name": "stdout",
          "text": [
            "Downloading http://fashion-mnist.s3-website.eu-central-1.amazonaws.com/train-images-idx3-ubyte.gz\n",
            "Downloading http://fashion-mnist.s3-website.eu-central-1.amazonaws.com/train-images-idx3-ubyte.gz to ./data/FashionMNIST/raw/train-images-idx3-ubyte.gz\n"
          ]
        },
        {
          "output_type": "stream",
          "name": "stderr",
          "text": [
            "100%|██████████| 26421880/26421880 [00:06<00:00, 3811788.91it/s] \n"
          ]
        },
        {
          "output_type": "stream",
          "name": "stdout",
          "text": [
            "Extracting ./data/FashionMNIST/raw/train-images-idx3-ubyte.gz to ./data/FashionMNIST/raw\n",
            "\n",
            "Downloading http://fashion-mnist.s3-website.eu-central-1.amazonaws.com/train-labels-idx1-ubyte.gz\n",
            "Downloading http://fashion-mnist.s3-website.eu-central-1.amazonaws.com/train-labels-idx1-ubyte.gz to ./data/FashionMNIST/raw/train-labels-idx1-ubyte.gz\n"
          ]
        },
        {
          "output_type": "stream",
          "name": "stderr",
          "text": [
            "100%|██████████| 29515/29515 [00:00<00:00, 308901.07it/s]\n"
          ]
        },
        {
          "output_type": "stream",
          "name": "stdout",
          "text": [
            "Extracting ./data/FashionMNIST/raw/train-labels-idx1-ubyte.gz to ./data/FashionMNIST/raw\n",
            "\n",
            "Downloading http://fashion-mnist.s3-website.eu-central-1.amazonaws.com/t10k-images-idx3-ubyte.gz\n",
            "Downloading http://fashion-mnist.s3-website.eu-central-1.amazonaws.com/t10k-images-idx3-ubyte.gz to ./data/FashionMNIST/raw/t10k-images-idx3-ubyte.gz\n"
          ]
        },
        {
          "output_type": "stream",
          "name": "stderr",
          "text": [
            "100%|██████████| 4422102/4422102 [00:00<00:00, 5574100.22it/s]\n"
          ]
        },
        {
          "output_type": "stream",
          "name": "stdout",
          "text": [
            "Extracting ./data/FashionMNIST/raw/t10k-images-idx3-ubyte.gz to ./data/FashionMNIST/raw\n",
            "\n",
            "Downloading http://fashion-mnist.s3-website.eu-central-1.amazonaws.com/t10k-labels-idx1-ubyte.gz\n",
            "Downloading http://fashion-mnist.s3-website.eu-central-1.amazonaws.com/t10k-labels-idx1-ubyte.gz to ./data/FashionMNIST/raw/t10k-labels-idx1-ubyte.gz\n"
          ]
        },
        {
          "output_type": "stream",
          "name": "stderr",
          "text": [
            "100%|██████████| 5148/5148 [00:00<00:00, 12466672.63it/s]\n"
          ]
        },
        {
          "output_type": "stream",
          "name": "stdout",
          "text": [
            "Extracting ./data/FashionMNIST/raw/t10k-labels-idx1-ubyte.gz to ./data/FashionMNIST/raw\n",
            "\n",
            "Epoch 1/20, Training Loss: 1.047073925336202, Validation Loss: 0.5704078032298291\n",
            "Validation Loss Decreased inf ---> 0.570408. \t Saving The Model...\n",
            "Epoch 2/20, Training Loss: 0.5362727802991867, Validation Loss: 0.4737735224214006\n",
            "Validation Loss Decreased 0.570408 ---> 0.473774. \t Saving The Model...\n",
            "Epoch 3/20, Training Loss: 0.46314132169882455, Validation Loss: 0.4598541316041287\n",
            "Validation Loss Decreased 0.473774 ---> 0.459854. \t Saving The Model...\n",
            "Epoch 4/20, Training Loss: 0.4201144840121269, Validation Loss: 0.40168853429086665\n",
            "Validation Loss Decreased 0.459854 ---> 0.401689. \t Saving The Model...\n",
            "Epoch 5/20, Training Loss: 0.39400856286287306, Validation Loss: 0.37509245266939734\n",
            "Validation Loss Decreased 0.401689 ---> 0.375092. \t Saving The Model...\n",
            "Epoch 6/20, Training Loss: 0.3745802163084348, Validation Loss: 0.3770736472562273\n",
            "Epoch 7/20, Training Loss: 0.35913575494289396, Validation Loss: 0.36274653562205905\n",
            "Validation Loss Decreased 0.375092 ---> 0.362747. \t Saving The Model...\n",
            "Epoch 8/20, Training Loss: 0.3423773357272148, Validation Loss: 0.3340635936945043\n",
            "Validation Loss Decreased 0.362747 ---> 0.334064. \t Saving The Model...\n",
            "Epoch 9/20, Training Loss: 0.33290040238698326, Validation Loss: 0.3390345066944335\n",
            "Epoch 10/20, Training Loss: 0.3220856080551942, Validation Loss: 0.3320424168350849\n",
            "Validation Loss Decreased 0.334064 ---> 0.332042. \t Saving The Model...\n",
            "Epoch 11/20, Training Loss: 0.31198144205411277, Validation Loss: 0.3143492102464463\n",
            "Validation Loss Decreased 0.332042 ---> 0.314349. \t Saving The Model...\n",
            "Epoch 12/20, Training Loss: 0.3027273634572824, Validation Loss: 0.31813123180194103\n",
            "Epoch 13/20, Training Loss: 0.29674924129247665, Validation Loss: 0.3061056187812318\n",
            "Validation Loss Decreased 0.314349 ---> 0.306106. \t Saving The Model...\n",
            "Epoch 14/20, Training Loss: 0.29086859518289565, Validation Loss: 0.2968887363342529\n",
            "Validation Loss Decreased 0.306106 ---> 0.296889. \t Saving The Model...\n",
            "Epoch 15/20, Training Loss: 0.28093876406550405, Validation Loss: 0.28607585233576754\n",
            "Validation Loss Decreased 0.296889 ---> 0.286076. \t Saving The Model...\n",
            "Epoch 16/20, Training Loss: 0.2756456488172213, Validation Loss: 0.2901126153450063\n",
            "Epoch 17/20, Training Loss: 0.2677827049791813, Validation Loss: 0.2882967673717661\n",
            "Epoch 18/20, Training Loss: 0.26184733434518176, Validation Loss: 0.2780432218804638\n",
            "Validation Loss Decreased 0.286076 ---> 0.278043. \t Saving The Model...\n",
            "Epoch 19/20, Training Loss: 0.2537645263969898, Validation Loss: 0.27067200288652105\n",
            "Validation Loss Decreased 0.278043 ---> 0.270672. \t Saving The Model...\n",
            "Epoch 20/20, Training Loss: 0.2486396077275276, Validation Loss: 0.2697836077038912\n",
            "Validation Loss Decreased 0.270672 ---> 0.269784. \t Saving The Model...\n"
          ]
        },
        {
          "output_type": "stream",
          "name": "stderr",
          "text": [
            "<ipython-input-7-8f67a10448f9>:97: FutureWarning: You are using `torch.load` with `weights_only=False` (the current default value), which uses the default pickle module implicitly. It is possible to construct malicious pickle data which will execute arbitrary code during unpickling (See https://github.com/pytorch/pytorch/blob/main/SECURITY.md#untrusted-models for more details). In a future release, the default value for `weights_only` will be flipped to `True`. This limits the functions that could be executed during unpickling. Arbitrary objects will no longer be allowed to be loaded via this mode unless they are explicitly allowlisted by the user via `torch.serialization.add_safe_globals`. We recommend you start setting `weights_only=True` for any use case where you don't have full control of the loaded file. Please open an issue on GitHub for any issues related to this experimental feature.\n",
            "  model.load_state_dict(torch.load('best_model_fashion.pth'))\n"
          ]
        },
        {
          "output_type": "stream",
          "name": "stdout",
          "text": [
            "Accuracy of the model on the 10000 test images: 89.49%\n"
          ]
        }
      ]
    },
    {
      "cell_type": "markdown",
      "source": [
        "강사님ver."
      ],
      "metadata": {
        "id": "NEhAu9mDFyuu"
      }
    },
    {
      "cell_type": "code",
      "source": [
        "import torch\n",
        "import torchvision\n",
        "import torchvision.transforms as transforms\n",
        "import torch.nn as nn\n",
        "import torch.nn.functional as F\n",
        "import torch.optim as optim\n",
        "import numpy as np\n",
        "from torch.utils.data.sampler import SubsetRandomSampler\n",
        "\n",
        "# 1단계: 신경망 모델 정의\n",
        "# Net 클래스는 nn.Module을 상속받아 만들어진 사용자 정의 신경망 모델로, FashionMNIST 데이터셋의 이미지 분류를 위해 설계\n",
        "class Net(nn.Module):\n",
        "    def __init__(self):\n",
        "        super(Net, self).__init__()\n",
        "        # 첫 번째 합성곱 레이어: 입력 채널 1개, 출력 채널 6개, 커널 크기 5x5\n",
        "        self.conv1 = nn.Conv2d(1, 6, 5)\n",
        "        # 두 번째 합성곱 레이어: 입력 채널 6개, 출력 채널 16개, 커널 크기 5x5\n",
        "        self.conv2 = nn.Conv2d(6, 16, 5)\n",
        "        self.pool = nn.MaxPool2d(2, 2)\n",
        "        # 전결합 레이어\n",
        "        self.fc1 = nn.Linear(16 * 4 * 4, 120)  # 16개의 채널과 4x4 이미지 크기\n",
        "        self.fc2 = nn.Linear(120, 84)\n",
        "        self.fc3 = nn.Linear(84, 10)\n",
        "\n",
        "    def forward(self, x):\n",
        "        # 첫 번째 합성곱, ReLU 활성화, 맥스 풀링\n",
        "        x = self.pool(F.relu(self.conv1(x)))\n",
        "        # 두 번째 합성곱, ReLU 활성화, 맥스 풀링\n",
        "        x = self.pool(F.relu(self.conv2(x)))\n",
        "        # 입력 데이터를 1차원으로 펼침\n",
        "        x = self.flatten(x)\n",
        "        # x = x.view(-1, 16 * 4 * 4)\n",
        "        # 전결합 레이어와 ReLU 활성화 함수 적용\n",
        "        x = F.relu(self.fc1(x))\n",
        "        x = F.relu(self.fc2(x))\n",
        "        # 마지막 레이어 출력\n",
        "        x = self.fc3(x)\n",
        "        return x\n",
        "\n",
        "# 2단계: FashionMNIST 데이터셋 로드\n",
        "# torchvision 라이브러리를 사용하여 FashionMNIST 데이터셋을 다운로드하고, 데이터를 전처리하기 위한 변환(transform)을 설정하는 과정\n",
        "\n",
        "# transforms.Compose는 여러 전처리 단계를 하나로 묶어주는 역할\n",
        "# transforms.ToTensor(): 이미지를 PyTorch 텐서로 변환. 이미지의 픽셀 값 범위가 0에서 255 사이의 정수에서 0.0에서 1.0 사이의 부동소수점으로 변경\n",
        "# 모든 채널의 평균을 0.5로, 표준편차를 0.5로 설정합니다. 이는 데이터의 범위를 대략적으로 -1.0에서 1.0 사이로 조정\n",
        "transform = transforms.Compose([transforms.ToTensor(), transforms.Normalize((0.5,), (0.5,))])\n",
        "# FashionMNIST 데이터셋을 다운로드하고, 지정된 변환을 적용하여 데이터를 준비하는 함수\n",
        "train_val_dataset = torchvision.datasets.FashionMNIST(root='./data', train=True, download=True, transform=transform)\n",
        "test_dataset = torchvision.datasets.FashionMNIST(root='./data', train=False, download=True, transform=transform)\n",
        "\n",
        "# 훈련 및 검증 분할을 위한 데이터 인덱스 생성\n",
        "dataset_size = len(train_val_dataset) # 훈련 및 검증 데이터셋의 전체 크기\n",
        "indices = list(range(dataset_size)) # 데이터셋 내의 모든 샘플에 대한 인덱스를 포함\n",
        "validation_split = 0.1 # 검증 세트로 사용될 데이터의 비율\n",
        "split = int(np.floor(validation_split * dataset_size)) # 검증 세트의 크기를 계산\n",
        "np.random.shuffle(indices) # 훈련 및 검증 세트가 데이터셋의 특정 부분에 치우치지 않도록 하기 위함\n",
        "train_indices, val_indices = indices[split:], indices[:split] # 섞인 인덱스를 사용하여 훈련 세트와 검증 세트의 인덱스를 분할\n",
        "\n",
        "# PT 데이터 샘플러 및 로더 생성\n",
        "# 훈련 세트와 검증 세트에 대한 데이터 로더를 설정하고, 테스트 세트에 대한 데이터 로더를 별도로 설정하는 과정입니다.\n",
        "# 이러한 데이터 로더들은 모델 학습, 검증, 테스트 과정에서 배치 단위로 데이터를 로드하는 데 사용\n",
        "train_sampler = SubsetRandomSampler(train_indices) # train_indices에 해당하는 훈련 데이터의 인덱스를 무작위로 샘플링하는 샘플러를 생성\n",
        "val_sampler = SubsetRandomSampler(val_indices) # val_indices에 해당하는 검증 데이터의 인덱스로부터 데이터를 무작위로 샘플링하는 샘플러를 생성\n",
        "# 배치 크기 4로 로드하는 훈련 데이터 로더를 생성(# 데이터의 무작위 샘플링을 수행)\n",
        "trainloader = torch.utils.data.DataLoader(train_val_dataset, batch_size=4, sampler=train_sampler)\n",
        "valloader = torch.utils.data.DataLoader(train_val_dataset, batch_size=4, sampler=val_sampler)\n",
        "# shuffle=False 인자를 통해 셔플링 없이 순서대로 데이터를 로드. 테스트 과정에서는 데이터의 순서가 결과에 영향을 미치지 않으므로 셔플링을 수행하지 않습니다.\n",
        "testloader = torch.utils.data.DataLoader(test_dataset, batch_size=4, shuffle=False)\n",
        "\n",
        "# 3단계: 네트워크, 손실 함수, 최적화 알고리즘 초기화\n",
        "net = Net() #  클래스의 인스턴스를 생성하여 net 변수에 할당\n",
        "criterion = nn.CrossEntropyLoss() # 멀티클래스 분류 문제에서 널리 사용되는 손실 함수로, 모델의 예측값과 실제 타겟값 사이의 차이를 측정\n",
        "optimizer = optim.SGD(net.parameters(), lr=0.001, momentum=0.9) # 모멘텀은 최적화 과정에서 이전 그래디언트의 방향을 고려, 파라미터 업데이트 시 관성을 부여\n",
        "\n",
        "# 4단계: 조기 종료를 포함한 모델 학습\n",
        "patience = 5 # 검증 손실이 개선되지 않을 때, 훈련을 계속 진행하기 전에 기다릴 에폭 수를 의미\n",
        "patience_counter = 0\n",
        "best_val_loss = np.Inf # 최고의 검증 손실 값을 무한대로 초기화. 훈련 과정에서 검증 손실이 이전에 기록된 최소 손실보다 낮아지면 업데이트되는 값\n",
        "\n",
        "# 모델을 에폭 단위로 반복 훈련시키면서, 각 배치의 손실을 계산하고 모델 파라미터를 업데이트하는 기본적인 훈련 과정을 구현\n",
        "for epoch in range(20):  # 데이터셋을 여러 번 반복\n",
        "    net.train()  # 모델을 학습 모드로 설정. 이는 모델 내의 특정 레이어(예: 드롭아웃, 배치 정규화 등)가 훈련 시와 평가 시 다르게 동작해야 할 때 필요\n",
        "    running_loss = 0.0 # 현재 에폭의 총 손실을 계산하기 위해 실행 손실을 0으로 초기화\n",
        "    for i, data in enumerate(trainloader, 0): # '0'은 열거의 시작 인덱스를 지정\n",
        "        inputs, labels = data\n",
        "        optimizer.zero_grad() # 최적화를 수행하기 전에 모델의 그래디언트를 0으로 초기화\n",
        "        outputs = net(inputs) # 현재 배치의 입력 데이터를 모델에 전달하여 예측값을 계산\n",
        "        loss = criterion(outputs, labels) # 모델의 예측값과 실제 레이블 간의 손실을 계산\n",
        "        loss.backward() # 손실 함수의 그래디언트를 역전파합니다. 이 과정에서 모델 파라미터에 대한 손실의 미분값이 계산\n",
        "        optimizer.step() # 계산된 그래디언트를 사용하여 모델의 파라미터를 업데이트\n",
        "        running_loss += loss.item() # 현재 배치의 손실을 실행 손실에 누적. 이를 통해 전체 에폭의 평균 손실을 계산\n",
        "\n",
        "    # 검증 단계\n",
        "    net.eval()  # 모델을 평가 모드로 설정\n",
        "    val_loss = 0.0 # 검증 손실을 계산하기 위한 변수를 0으로 초기화\n",
        "    with torch.no_grad(): # 이 블록 내에서는 그래디언트 계산을 비활성화. 평가 모드에서는 모델을 업데이트하지 않으므로, 그래디언트를 계산할 필요가 없습니다\n",
        "        for inputs, labels in valloader: # 검증 데이터 로더(valloader)에서 배치 단위로 데이터를 로드하여 반복\n",
        "            outputs = net(inputs)\n",
        "            loss = criterion(outputs, labels) # criterion은 손실 함수로, 모델의 성능을 측정하는 기준\n",
        "            val_loss += loss.item() # 누적된 검증 손실을 검증 데이터 배치의 총 수로 나누어 평균 검증 손실을 계산\n",
        "    running_loss /= len(trainloader)\n",
        "    val_loss /= len(valloader)\n",
        "    print(f'에폭 {epoch + 1}, 훈련 손실: {running_loss}, 검증 손실: {val_loss}')\n",
        "\n",
        "    # 조기 종료 체크\n",
        "    if val_loss < best_val_loss: # 현재 에폭에서 계산된 검증 손실(val_loss)이 이전에 기록된 최소 검증 손실(best_val_loss)보다 낮은지 확인\n",
        "        print(f'검증 손실이 감소하였습니다. ({best_val_loss:.6f} 에서 {val_loss:.6f}로). 모델 저장 중...')\n",
        "        torch.save(net.state_dict(), '/content/drive/MyDrive/kdt_240424/m6_딥러닝/dataset/model/best_model.pth')\n",
        "        best_val_loss = val_loss\n",
        "        patience_counter = 0\n",
        "    else:\n",
        "        patience_counter += 1\n",
        "        if patience_counter >= patience:\n",
        "            print('조기 종료 발동.')\n",
        "            break\n",
        "\n",
        "# 5단계: 최고의 모델을 로드하고 테스트 데이터셋으로 평가\n",
        "# torch.load 함수는 지정된 경로에서 모델 파라미터를 불러오며, load_state_dict 메서드를 사용하여 이 파라미터를 현재 net 모델에 로드\n",
        "net.load_state_dict(torch.load('/content/drive/MyDrive/kdt_240424/m6_딥러닝/dataset/model/best_model.pth'))\n",
        "correct = 0 # 정확히 분류된 샘플의 수를 세기 위한 변수\n",
        "total = 0 # 테스트셋의 전체 샘플 수를 세기 위한 변수\n",
        "with torch.no_grad():\n",
        "    for data in testloader: # 테스트 데이터셋을 배치 단위로 순회\n",
        "        images, labels = data\n",
        "        outputs = net(images) # 현재 배치의 이미지를 모델에 전달하여 예측값을 계산\n",
        "        _, predicted = torch.max(outputs.data, 1) # torch.max는 각 예측에 대한 최대값과 그 위치(인덱스)를 반환. 위치만 필요하므로 _를 사용하여 최대값은 무시\n",
        "        total += labels.size(0) # labels.size(0)는 현재 배치의 크기(샘플 수)\n",
        "        correct += (predicted == labels).sum().item() # 일치하는 경우의 수를 텐서 형태로 반환하며, .item()으로 이를 파이썬의 스칼라 값으로 변환\n",
        "\n",
        "print(f'10000개의 테스트 이미지에 대한 네트워크의 정확도: {100 * correct / total} %')"
      ],
      "metadata": {
        "colab": {
          "base_uri": "https://localhost:8080/"
        },
        "id": "7j7P69kzFavx",
        "outputId": "31503d11-b31a-4262-d7ac-a5b609a273de"
      },
      "execution_count": 10,
      "outputs": [
        {
          "output_type": "stream",
          "name": "stdout",
          "text": [
            "에폭 1, 훈련 손실: 0.6720112410709133, 검증 손실: 0.4400373150310673\n",
            "검증 손실이 감소하였습니다. (inf 에서 0.440037로). 모델 저장 중...\n",
            "에폭 2, 훈련 손실: 0.38876828034312133, 검증 손실: 0.3975578385499927\n",
            "검증 손실이 감소하였습니다. (0.440037 에서 0.397558로). 모델 저장 중...\n",
            "에폭 3, 훈련 손실: 0.3389457942579131, 검증 손실: 0.3321452489105577\n",
            "검증 손실이 감소하였습니다. (0.397558 에서 0.332145로). 모델 저장 중...\n",
            "에폭 4, 훈련 손실: 0.3108242120296552, 검증 손실: 0.32004278358136556\n",
            "검증 손실이 감소하였습니다. (0.332145 에서 0.320043로). 모델 저장 중...\n",
            "에폭 5, 훈련 손실: 0.2897479466550564, 검증 손실: 0.3214799569537887\n",
            "에폭 6, 훈련 손실: 0.2747122911658438, 검증 손실: 0.3090512726183588\n",
            "검증 손실이 감소하였습니다. (0.320043 에서 0.309051로). 모델 저장 중...\n",
            "에폭 7, 훈련 손실: 0.2597498252504457, 검증 손실: 0.31585567985972135\n",
            "에폭 8, 훈련 손실: 0.2506516980491284, 검증 손실: 0.3142875355743371\n",
            "에폭 9, 훈련 손실: 0.23975225060625963, 검증 손실: 0.2828414982108867\n",
            "검증 손실이 감소하였습니다. (0.309051 에서 0.282841로). 모델 저장 중...\n",
            "에폭 10, 훈련 손실: 0.2282156703758278, 검증 손실: 0.30278751200618936\n",
            "에폭 11, 훈련 손실: 0.22274764801408498, 검증 손실: 0.29372347010137606\n",
            "에폭 12, 훈련 손실: 0.21306074037580758, 검증 손실: 0.29035964189359337\n",
            "에폭 13, 훈련 손실: 0.20668831596509454, 검증 손실: 0.27779424375555056\n",
            "검증 손실이 감소하였습니다. (0.282841 에서 0.277794로). 모델 저장 중...\n",
            "에폭 14, 훈련 손실: 0.19913859508327325, 검증 손실: 0.2859310471122252\n",
            "에폭 15, 훈련 손실: 0.19202459947814307, 검증 손실: 0.2847984701110379\n",
            "에폭 16, 훈련 손실: 0.18676998384032217, 검증 손실: 0.2880742160338862\n",
            "에폭 17, 훈련 손실: 0.1788022500824736, 검증 손실: 0.3152392872721155\n",
            "에폭 18, 훈련 손실: 0.17763606837223603, 검증 손실: 0.3086750635027291\n",
            "조기 종료 발동.\n"
          ]
        },
        {
          "output_type": "stream",
          "name": "stderr",
          "text": [
            "<ipython-input-10-a542ed8fdbcc>:119: FutureWarning: You are using `torch.load` with `weights_only=False` (the current default value), which uses the default pickle module implicitly. It is possible to construct malicious pickle data which will execute arbitrary code during unpickling (See https://github.com/pytorch/pytorch/blob/main/SECURITY.md#untrusted-models for more details). In a future release, the default value for `weights_only` will be flipped to `True`. This limits the functions that could be executed during unpickling. Arbitrary objects will no longer be allowed to be loaded via this mode unless they are explicitly allowlisted by the user via `torch.serialization.add_safe_globals`. We recommend you start setting `weights_only=True` for any use case where you don't have full control of the loaded file. Please open an issue on GitHub for any issues related to this experimental feature.\n",
            "  net.load_state_dict(torch.load('/content/drive/MyDrive/kdt_240424/m6_딥러닝/dataset/model/best_model.pth'))\n"
          ]
        },
        {
          "output_type": "stream",
          "name": "stdout",
          "text": [
            "10000개의 테스트 이미지에 대한 네트워크의 정확도: 89.44 %\n"
          ]
        }
      ]
    }
  ]
}