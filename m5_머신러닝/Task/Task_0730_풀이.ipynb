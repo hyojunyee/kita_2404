{
  "nbformat": 4,
  "nbformat_minor": 0,
  "metadata": {
    "colab": {
      "provenance": [],
      "mount_file_id": "1oBL2aXx9SieQukFtYXPUI_XskoG6JP3f",
      "authorship_tag": "ABX9TyNrYn9gthB3115dYk8VkSld",
      "include_colab_link": true
    },
    "kernelspec": {
      "name": "python3",
      "display_name": "Python 3"
    },
    "language_info": {
      "name": "python"
    }
  },
  "cells": [
    {
      "cell_type": "markdown",
      "metadata": {
        "id": "view-in-github",
        "colab_type": "text"
      },
      "source": [
        "<a href=\"https://colab.research.google.com/github/hyojunyee/kita_2404/blob/main/m5_%EB%A8%B8%EC%8B%A0%EB%9F%AC%EB%8B%9D/Task/Task_0730_%ED%92%80%EC%9D%B4.ipynb\" target=\"_parent\"><img src=\"https://colab.research.google.com/assets/colab-badge.svg\" alt=\"Open In Colab\"/></a>"
      ]
    },
    {
      "cell_type": "markdown",
      "source": [
        "Task1_0730. 교차 검증을 위한 사용자 함수를 생성한 후 아래 회귀트리 모델들에 대한 교차검증을 수행하세요.\n",
        "- dt_reg = DecisionTreeRegressor(random_state=0, max_depth=4)\n",
        "- rf_reg = RandomForestRegressor(random_state=0, n_estimators=1000)\n",
        "- gb_reg = GradientBoostingRegressor(random_state=0, n_estimators=1000)\n",
        "- xgb_reg = XGBRegressor(n_estimators=1000)\n",
        "- lgb_reg = LGBMRegressor(n_estimators=1000, verbose=-1)"
      ],
      "metadata": {
        "id": "8HBiN7kuqsLC"
      }
    },
    {
      "cell_type": "code",
      "source": [
        "import pandas as pd\n",
        "import numpy as np\n",
        "from sklearn.datasets import fetch_openml\n",
        "from sklearn.model_selection import train_test_split, cross_val_score\n",
        "from sklearn.metrics import mean_squared_error, mean_absolute_error, r2_score\n",
        "from math import sqrt\n",
        "\n",
        "# 보스턴 데이터셋 불러오기\n",
        "boston = fetch_openml(name=\"Boston\", version=1, parser='auto')\n",
        "\n",
        "# 데이터셋을 데이터프레임으로 변환\n",
        "boston_df = pd.DataFrame(boston.data, columns=boston.feature_names)\n",
        "boston_df['PRICE'] = boston.target\n",
        "\n",
        "# 필요한 feature이면 dtype 변환\n",
        "for col in boston_df.columns:\n",
        "    if boston_df[col].dtype.name == 'category':\n",
        "        boston_df[col] = boston_df[col].cat.codes\n",
        "        boston_df[col] = boston_df[col].astype(float)\n",
        "\n",
        "# 특성과 타겟 변수 설정\n",
        "X_data = boston_df.drop(['PRICE'], axis=1)\n",
        "y_target = boston_df['PRICE']"
      ],
      "metadata": {
        "id": "cqV9T3QHJx9F"
      },
      "execution_count": 5,
      "outputs": []
    },
    {
      "cell_type": "code",
      "source": [
        "def get_model_cv_prediction(model, X_data, y_target):\n",
        "    neg_mse_scores = cross_val_score(model, X_data, y_target, scoring=\"neg_mean_squared_error\", cv = 5)\n",
        "    rmse_scores  = np.sqrt(-1 * neg_mse_scores)\n",
        "    avg_rmse = np.mean(rmse_scores)\n",
        "    print('##### ',model.__class__.__name__ , ' #####')\n",
        "    print(' 5 교차 검증의 평균 RMSE : {0:.3f} '.format(avg_rmse))"
      ],
      "metadata": {
        "id": "WMM8l46MJLT0"
      },
      "execution_count": 2,
      "outputs": []
    },
    {
      "cell_type": "code",
      "source": [
        "from sklearn.tree import DecisionTreeRegressor\n",
        "from sklearn.ensemble import RandomForestRegressor\n",
        "from sklearn.ensemble import GradientBoostingRegressor\n",
        "from xgboost import XGBRegressor\n",
        "from lightgbm import LGBMRegressor\n",
        "\n",
        "dt_reg = DecisionTreeRegressor(random_state=0, max_depth=4)\n",
        "rf_reg = RandomForestRegressor(random_state=0, n_estimators=1000)\n",
        "gb_reg = GradientBoostingRegressor(random_state=0, n_estimators=1000)\n",
        "xgb_reg = XGBRegressor(n_estimators=1000)\n",
        "lgb_reg = LGBMRegressor(n_estimators=1000, verbose=-1)\n",
        "\n",
        "# 트리 기반의 회귀 모델을 반복하면서 평가 수행\n",
        "models = [dt_reg, rf_reg, gb_reg, xgb_reg, lgb_reg]\n",
        "for model in models:\n",
        "    get_model_cv_prediction(model, X_data, y_target)"
      ],
      "metadata": {
        "id": "GAcIihBwT3UA",
        "colab": {
          "base_uri": "https://localhost:8080/"
        },
        "outputId": "a67d0dec-8886-4f76-9b3f-b3308b3a2245"
      },
      "execution_count": 8,
      "outputs": [
        {
          "output_type": "stream",
          "name": "stdout",
          "text": [
            "#####  DecisionTreeRegressor  #####\n",
            " 5 교차 검증의 평균 RMSE : 5.883 \n",
            "#####  RandomForestRegressor  #####\n",
            " 5 교차 검증의 평균 RMSE : 4.403 \n",
            "#####  GradientBoostingRegressor  #####\n",
            " 5 교차 검증의 평균 RMSE : 4.278 \n",
            "#####  XGBRegressor  #####\n",
            " 5 교차 검증의 평균 RMSE : 4.980 \n",
            "#####  LGBMRegressor  #####\n",
            " 5 교차 검증의 평균 RMSE : 4.531 \n"
          ]
        }
      ]
    },
    {
      "cell_type": "code",
      "source": [
        "import seaborn as sns\n",
        "\n",
        "rf_reg = RandomForestRegressor(n_estimators=1000)\n",
        "\n",
        "# 앞 예제에서 만들어진 X_data, y_target 데이터 셋을 저용하여 학습\n",
        "rf_reg.fit(X_data, y_target)\n",
        "\n",
        "feature_series = pd.Series(data=rf_reg.feature_importances_, index=X_data.columns )\n",
        "feature_series = feature_series.sort_values(ascending=False)\n",
        "sns.barplot(x=feature_series, y=feature_series.index)"
      ],
      "metadata": {
        "colab": {
          "base_uri": "https://localhost:8080/",
          "height": 467
        },
        "id": "kaU3-HRjM4Wo",
        "outputId": "b5e1c104-644b-4aec-bd2c-80ce3edf6256"
      },
      "execution_count": 10,
      "outputs": [
        {
          "output_type": "execute_result",
          "data": {
            "text/plain": [
              "<Axes: xlabel='None', ylabel='None'>"
            ]
          },
          "metadata": {},
          "execution_count": 10
        },
        {
          "output_type": "display_data",
          "data": {
            "text/plain": [
              "<Figure size 640x480 with 1 Axes>"
            ],
            "image/png": "[encoded data removed]"
          },
          "metadata": {}
        }
      ]
    },
    {
      "cell_type": "code",
      "source": [
        "import seaborn as sns\n",
        "\n",
        "xgb = XGBRegressor(n_estimators=1000)\n",
        "\n",
        "# 앞 예제에서 만들어진 X_data, y_target 데이터 셋을 적용하여 학습합니다.\n",
        "xgb.fit(X_data, y_target)\n",
        "\n",
        "feature_series = pd.Series(data=xgb.feature_importances_, index=X_data.columns )\n",
        "feature_series = feature_series.sort_values(ascending=False)\n",
        "sns.barplot(x= feature_series, y=feature_series.index)"
      ],
      "metadata": {
        "colab": {
          "base_uri": "https://localhost:8080/",
          "height": 467
        },
        "id": "QqPMWllrPKCt",
        "outputId": "0bf3c0fb-2e8c-45b3-d8ce-26f0c0651469"
      },
      "execution_count": 12,
      "outputs": [
        {
          "output_type": "execute_result",
          "data": {
            "text/plain": [
              "<Axes: xlabel='None', ylabel='None'>"
            ]
          },
          "metadata": {},
          "execution_count": 12
        },
        {
          "output_type": "display_data",
          "data": {
            "text/plain": [
              "<Figure size 640x480 with 1 Axes>"
            ],
            "image/png": "[encoded data removed]"
          },
          "metadata": {}
        }
      ]
    },
    {
      "cell_type": "code",
      "source": [
        "# sample()은 pandans의 DF 또는 SR의 축에서 항목을 무작위로 샘플링하는데 사용\n",
        "boston_df.sample(n=3,random_state=1)"
      ],
      "metadata": {
        "colab": {
          "base_uri": "https://localhost:8080/",
          "height": 143
        },
        "id": "3cGq61_xPjmP",
        "outputId": "12821c86-cd8e-4e8e-d47f-3beaeba60656"
      },
      "execution_count": 13,
      "outputs": [
        {
          "output_type": "execute_result",
          "data": {
            "text/plain": [
              "        CRIM    ZN  INDUS  CHAS    NOX     RM   AGE     DIS  RAD    TAX  \\\n",
              "307  0.04932  33.0   2.18   0.0  0.472  6.849  70.3  3.1827  7.0  222.0   \n",
              "343  0.02543  55.0   3.78   0.0  0.484  6.696  56.4  5.7321  5.0  370.0   \n",
              "47   0.22927   0.0   6.91   0.0  0.448  6.030  85.5  5.6894  3.0  233.0   \n",
              "\n",
              "     PTRATIO       B  LSTAT  PRICE  \n",
              "307     18.4  396.90   7.53   28.2  \n",
              "343     17.6  396.90   7.18   23.9  \n",
              "47      17.9  392.74  18.80   16.6  "
            ],
            "text/html": [
              "\n",
              "  <div id=\"df-6d67f2bb-f72c-4614-9f81-ab8946894f45\" class=\"colab-df-container\">\n",
              "    <div>\n",
              "<style scoped>\n",
              "    .dataframe tbody tr th:only-of-type {\n",
              "        vertical-align: middle;\n",
              "    }\n",
              "\n",
              "    .dataframe tbody tr th {\n",
              "        vertical-align: top;\n",
              "    }\n",
              "\n",
              "    .dataframe thead th {\n",
              "        text-align: right;\n",
              "    }\n",
              "</style>\n",
              "<table border=\"1\" class=\"dataframe\">\n",
              "  <thead>\n",
              "    <tr style=\"text-align: right;\">\n",
              "      <th></th>\n",
              "      <th>CRIM</th>\n",
              "      <th>ZN</th>\n",
              "      <th>INDUS</th>\n",
              "      <th>CHAS</th>\n",
              "      <th>NOX</th>\n",
              "      <th>RM</th>\n",
              "      <th>AGE</th>\n",
              "      <th>DIS</th>\n",
              "      <th>RAD</th>\n",
              "      <th>TAX</th>\n",
              "      <th>PTRATIO</th>\n",
              "      <th>B</th>\n",
              "      <th>LSTAT</th>\n",
              "      <th>PRICE</th>\n",
              "    </tr>\n",
              "  </thead>\n",
              "  <tbody>\n",
              "    <tr>\n",
              "      <th>307</th>\n",
              "      <td>0.04932</td>\n",
              "      <td>33.0</td>\n",
              "      <td>2.18</td>\n",
              "      <td>0.0</td>\n",
              "      <td>0.472</td>\n",
              "      <td>6.849</td>\n",
              "      <td>70.3</td>\n",
              "      <td>3.1827</td>\n",
              "      <td>7.0</td>\n",
              "      <td>222.0</td>\n",
              "      <td>18.4</td>\n",
              "      <td>396.90</td>\n",
              "      <td>7.53</td>\n",
              "      <td>28.2</td>\n",
              "    </tr>\n",
              "    <tr>\n",
              "      <th>343</th>\n",
              "      <td>0.02543</td>\n",
              "      <td>55.0</td>\n",
              "      <td>3.78</td>\n",
              "      <td>0.0</td>\n",
              "      <td>0.484</td>\n",
              "      <td>6.696</td>\n",
              "      <td>56.4</td>\n",
              "      <td>5.7321</td>\n",
              "      <td>5.0</td>\n",
              "      <td>370.0</td>\n",
              "      <td>17.6</td>\n",
              "      <td>396.90</td>\n",
              "      <td>7.18</td>\n",
              "      <td>23.9</td>\n",
              "    </tr>\n",
              "    <tr>\n",
              "      <th>47</th>\n",
              "      <td>0.22927</td>\n",
              "      <td>0.0</td>\n",
              "      <td>6.91</td>\n",
              "      <td>0.0</td>\n",
              "      <td>0.448</td>\n",
              "      <td>6.030</td>\n",
              "      <td>85.5</td>\n",
              "      <td>5.6894</td>\n",
              "      <td>3.0</td>\n",
              "      <td>233.0</td>\n",
              "      <td>17.9</td>\n",
              "      <td>392.74</td>\n",
              "      <td>18.80</td>\n",
              "      <td>16.6</td>\n",
              "    </tr>\n",
              "  </tbody>\n",
              "</table>\n",
              "</div>\n",
              "    <div class=\"colab-df-buttons\">\n",
              "\n",
              "  <div class=\"colab-df-container\">\n",
              "    <button class=\"colab-df-convert\" onclick=\"convertToInteractive('df-6d67f2bb-f72c-4614-9f81-ab8946894f45')\"\n",
              "            title=\"Convert this dataframe to an interactive table.\"\n",
              "            style=\"display:none;\">\n",
              "\n",
              "  <svg xmlns=\"http://www.w3.org/2000/svg\" height=\"24px\" viewBox=\"0 -960 960 960\">\n",
              "    <path d=\"M120-120v-720h720v720H120Zm60-500h600v-160H180v160Zm220 220h160v-160H400v160Zm0 220h160v-160H400v160ZM180-400h160v-160H180v160Zm440 0h160v-160H620v160ZM180-180h160v-160H180v160Zm440 0h160v-160H620v160Z\"/>\n",
              "  </svg>\n",
              "    </button>\n",
              "\n",
              "  <style>\n",
              "    .colab-df-container {\n",
              "      display:flex;\n",
              "      gap: 12px;\n",
              "    }\n",
              "\n",
              "    .colab-df-convert {\n",
              "      background-color: #E8F0FE;\n",
              "      border: none;\n",
              "      border-radius: 50%;\n",
              "      cursor: pointer;\n",
              "      display: none;\n",
              "      fill: #1967D2;\n",
              "      height: 32px;\n",
              "      padding: 0 0 0 0;\n",
              "      width: 32px;\n",
              "    }\n",
              "\n",
              "    .colab-df-convert:hover {\n",
              "      background-color: #E2EBFA;\n",
              "      box-shadow: 0px 1px 2px rgba(60, 64, 67, 0.3), 0px 1px 3px 1px rgba(60, 64, 67, 0.15);\n",
              "      fill: #174EA6;\n",
              "    }\n",
              "\n",
              "    .colab-df-buttons div {\n",
              "      margin-bottom: 4px;\n",
              "    }\n",
              "\n",
              "    [theme=dark] .colab-df-convert {\n",
              "      background-color: #3B4455;\n",
              "      fill: #D2E3FC;\n",
              "    }\n",
              "\n",
              "    [theme=dark] .colab-df-convert:hover {\n",
              "      background-color: #434B5C;\n",
              "      box-shadow: 0px 1px 3px 1px rgba(0, 0, 0, 0.15);\n",
              "      filter: drop-shadow(0px 1px 2px rgba(0, 0, 0, 0.3));\n",
              "      fill: #FFFFFF;\n",
              "    }\n",
              "  </style>\n",
              "\n",
              "    <script>\n",
              "      const buttonEl =\n",
              "        document.querySelector('#df-6d67f2bb-f72c-4614-9f81-ab8946894f45 button.colab-df-convert');\n",
              "      buttonEl.style.display =\n",
              "        google.colab.kernel.accessAllowed ? 'block' : 'none';\n",
              "\n",
              "      async function convertToInteractive(key) {\n",
              "        const element = document.querySelector('#df-6d67f2bb-f72c-4614-9f81-ab8946894f45');\n",
              "        const dataTable =\n",
              "          await google.colab.kernel.invokeFunction('convertToInteractive',\n",
              "                                                    [key], {});\n",
              "        if (!dataTable) return;\n",
              "\n",
              "        const docLinkHtml = 'Like what you see? Visit the ' +\n",
              "          '<a target=\"_blank\" href=https://colab.research.google.com/notebooks/data_table.ipynb>data table notebook</a>'\n",
              "          + ' to learn more about interactive tables.';\n",
              "        element.innerHTML = '';\n",
              "        dataTable['output_type'] = 'display_data';\n",
              "        await google.colab.output.renderOutput(dataTable, element);\n",
              "        const docLink = document.createElement('div');\n",
              "        docLink.innerHTML = docLinkHtml;\n",
              "        element.appendChild(docLink);\n",
              "      }\n",
              "    </script>\n",
              "  </div>\n",
              "\n",
              "\n",
              "<div id=\"df-8246357c-1556-48c4-b019-0836e97cf032\">\n",
              "  <button class=\"colab-df-quickchart\" onclick=\"quickchart('df-8246357c-1556-48c4-b019-0836e97cf032')\"\n",
              "            title=\"Suggest charts\"\n",
              "            style=\"display:none;\">\n",
              "\n",
              "<svg xmlns=\"http://www.w3.org/2000/svg\" height=\"24px\"viewBox=\"0 0 24 24\"\n",
              "     width=\"24px\">\n",
              "    <g>\n",
              "        <path d=\"M19 3H5c-1.1 0-2 .9-2 2v14c0 1.1.9 2 2 2h14c1.1 0 2-.9 2-2V5c0-1.1-.9-2-2-2zM9 17H7v-7h2v7zm4 0h-2V7h2v10zm4 0h-2v-4h2v4z\"/>\n",
              "    </g>\n",
              "</svg>\n",
              "  </button>\n",
              "\n",
              "<style>\n",
              "  .colab-df-quickchart {\n",
              "      --bg-color: #E8F0FE;\n",
              "      --fill-color: #1967D2;\n",
              "      --hover-bg-color: #E2EBFA;\n",
              "      --hover-fill-color: #174EA6;\n",
              "      --disabled-fill-color: #AAA;\n",
              "      --disabled-bg-color: #DDD;\n",
              "  }\n",
              "\n",
              "  [theme=dark] .colab-df-quickchart {\n",
              "      --bg-color: #3B4455;\n",
              "      --fill-color: #D2E3FC;\n",
              "      --hover-bg-color: #434B5C;\n",
              "      --hover-fill-color: #FFFFFF;\n",
              "      --disabled-bg-color: #3B4455;\n",
              "      --disabled-fill-color: #666;\n",
              "  }\n",
              "\n",
              "  .colab-df-quickchart {\n",
              "    background-color: var(--bg-color);\n",
              "    border: none;\n",
              "    border-radius: 50%;\n",
              "    cursor: pointer;\n",
              "    display: none;\n",
              "    fill: var(--fill-color);\n",
              "    height: 32px;\n",
              "    padding: 0;\n",
              "    width: 32px;\n",
              "  }\n",
              "\n",
              "  .colab-df-quickchart:hover {\n",
              "    background-color: var(--hover-bg-color);\n",
              "    box-shadow: 0 1px 2px rgba(60, 64, 67, 0.3), 0 1px 3px 1px rgba(60, 64, 67, 0.15);\n",
              "    fill: var(--button-hover-fill-color);\n",
              "  }\n",
              "\n",
              "  .colab-df-quickchart-complete:disabled,\n",
              "  .colab-df-quickchart-complete:disabled:hover {\n",
              "    background-color: var(--disabled-bg-color);\n",
              "    fill: var(--disabled-fill-color);\n",
              "    box-shadow: none;\n",
              "  }\n",
              "\n",
              "  .colab-df-spinner {\n",
              "    border: 2px solid var(--fill-color);\n",
              "    border-color: transparent;\n",
              "    border-bottom-color: var(--fill-color);\n",
              "    animation:\n",
              "      spin 1s steps(1) infinite;\n",
              "  }\n",
              "\n",
              "  @keyframes spin {\n",
              "    0% {\n",
              "      border-color: transparent;\n",
              "      border-bottom-color: var(--fill-color);\n",
              "      border-left-color: var(--fill-color);\n",
              "    }\n",
              "    20% {\n",
              "      border-color: transparent;\n",
              "      border-left-color: var(--fill-color);\n",
              "      border-top-color: var(--fill-color);\n",
              "    }\n",
              "    30% {\n",
              "      border-color: transparent;\n",
              "      border-left-color: var(--fill-color);\n",
              "      border-top-color: var(--fill-color);\n",
              "      border-right-color: var(--fill-color);\n",
              "    }\n",
              "    40% {\n",
              "      border-color: transparent;\n",
              "      border-right-color: var(--fill-color);\n",
              "      border-top-color: var(--fill-color);\n",
              "    }\n",
              "    60% {\n",
              "      border-color: transparent;\n",
              "      border-right-color: var(--fill-color);\n",
              "    }\n",
              "    80% {\n",
              "      border-color: transparent;\n",
              "      border-right-color: var(--fill-color);\n",
              "      border-bottom-color: var(--fill-color);\n",
              "    }\n",
              "    90% {\n",
              "      border-color: transparent;\n",
              "      border-bottom-color: var(--fill-color);\n",
              "    }\n",
              "  }\n",
              "</style>\n",
              "\n",
              "  <script>\n",
              "    async function quickchart(key) {\n",
              "      const quickchartButtonEl =\n",
              "        document.querySelector('#' + key + ' button');\n",
              "      quickchartButtonEl.disabled = true;  // To prevent multiple clicks.\n",
              "      quickchartButtonEl.classList.add('colab-df-spinner');\n",
              "      try {\n",
              "        const charts = await google.colab.kernel.invokeFunction(\n",
              "            'suggestCharts', [key], {});\n",
              "      } catch (error) {\n",
              "        console.error('Error during call to suggestCharts:', error);\n",
              "      }\n",
              "      quickchartButtonEl.classList.remove('colab-df-spinner');\n",
              "      quickchartButtonEl.classList.add('colab-df-quickchart-complete');\n",
              "    }\n",
              "    (() => {\n",
              "      let quickchartButtonEl =\n",
              "        document.querySelector('#df-8246357c-1556-48c4-b019-0836e97cf032 button');\n",
              "      quickchartButtonEl.style.display =\n",
              "        google.colab.kernel.accessAllowed ? 'block' : 'none';\n",
              "    })();\n",
              "  </script>\n",
              "</div>\n",
              "\n",
              "    </div>\n",
              "  </div>\n"
            ],
            "application/vnd.google.colaboratory.intrinsic+json": {
              "type": "dataframe",
              "summary": "{\n  \"name\": \"boston_df\",\n  \"rows\": 3,\n  \"fields\": [\n    {\n      \"column\": \"CRIM\",\n      \"properties\": {\n        \"dtype\": \"number\",\n        \"std\": 0.1114327003172767,\n        \"min\": 0.02543,\n        \"max\": 0.22927,\n        \"num_unique_values\": 3,\n        \"samples\": [\n          0.04932,\n          0.02543,\n          0.22927\n        ],\n        \"semantic_type\": \"\",\n        \"description\": \"\"\n      }\n    },\n    {\n      \"column\": \"ZN\",\n      \"properties\": {\n        \"dtype\": \"number\",\n        \"std\": 27.682726262659415,\n        \"min\": 0.0,\n        \"max\": 55.0,\n        \"num_unique_values\": 3,\n        \"samples\": [\n          33.0,\n          55.0,\n          0.0\n        ],\n        \"semantic_type\": \"\",\n        \"description\": \"\"\n      }\n    },\n    {\n      \"column\": \"INDUS\",\n      \"properties\": {\n        \"dtype\": \"number\",\n        \"std\": 2.4058886092252902,\n        \"min\": 2.18,\n        \"max\": 6.91,\n        \"num_unique_values\": 3,\n        \"samples\": [\n          2.18,\n          3.78,\n          6.91\n        ],\n        \"semantic_type\": \"\",\n        \"description\": \"\"\n      }\n    },\n    {\n      \"column\": \"CHAS\",\n      \"properties\": {\n        \"dtype\": \"number\",\n        \"std\": 0.0,\n        \"min\": 0.0,\n        \"max\": 0.0,\n        \"num_unique_values\": 1,\n        \"samples\": [\n          0.0\n        ],\n        \"semantic_type\": \"\",\n        \"description\": \"\"\n      }\n    },\n    {\n      \"column\": \"NOX\",\n      \"properties\": {\n        \"dtype\": \"number\",\n        \"std\": 0.018330302779823344,\n        \"min\": 0.448,\n        \"max\": 0.484,\n        \"num_unique_values\": 3,\n        \"samples\": [\n          0.472\n        ],\n        \"semantic_type\": \"\",\n        \"description\": \"\"\n      }\n    },\n    {\n      \"column\": \"RM\",\n      \"properties\": {\n        \"dtype\": \"number\",\n        \"std\": 0.4354549345225059,\n        \"min\": 6.03,\n        \"max\": 6.849,\n        \"num_unique_values\": 3,\n        \"samples\": [\n          6.849\n        ],\n        \"semantic_type\": \"\",\n        \"description\": \"\"\n      }\n    },\n    {\n      \"column\": \"AGE\",\n      \"properties\": {\n        \"dtype\": \"number\",\n        \"std\": 14.554838828833981,\n        \"min\": 56.4,\n        \"max\": 85.5,\n        \"num_unique_values\": 3,\n        \"samples\": [\n          70.3\n        ],\n        \"semantic_type\": \"\",\n        \"description\": \"\"\n      }\n    },\n    {\n      \"column\": \"DIS\",\n      \"properties\": {\n        \"dtype\": \"number\",\n        \"std\": 1.4597264892209545,\n        \"min\": 3.1827,\n        \"max\": 5.7321,\n        \"num_unique_values\": 3,\n        \"samples\": [\n          3.1827\n        ],\n        \"semantic_type\": \"\",\n        \"description\": \"\"\n      }\n    },\n    {\n      \"column\": \"RAD\",\n      \"properties\": {\n        \"dtype\": \"number\",\n        \"std\": 2.0,\n        \"min\": 3.0,\n        \"max\": 7.0,\n        \"num_unique_values\": 3,\n        \"samples\": [\n          7.0\n        ],\n        \"semantic_type\": \"\",\n        \"description\": \"\"\n      }\n    },\n    {\n      \"column\": \"TAX\",\n      \"properties\": {\n        \"dtype\": \"number\",\n        \"std\": 82.45604889879213,\n        \"min\": 222.0,\n        \"max\": 370.0,\n        \"num_unique_values\": 3,\n        \"samples\": [\n          222.0\n        ],\n        \"semantic_type\": \"\",\n        \"description\": \"\"\n      }\n    },\n    {\n      \"column\": \"PTRATIO\",\n      \"properties\": {\n        \"dtype\": \"number\",\n        \"std\": 0.4041451884327368,\n        \"min\": 17.6,\n        \"max\": 18.4,\n        \"num_unique_values\": 3,\n        \"samples\": [\n          18.4\n        ],\n        \"semantic_type\": \"\",\n        \"description\": \"\"\n      }\n    },\n    {\n      \"column\": \"B\",\n      \"properties\": {\n        \"dtype\": \"number\",\n        \"std\": 2.4017771198288247,\n        \"min\": 392.74,\n        \"max\": 396.9,\n        \"num_unique_values\": 2,\n        \"samples\": [\n          392.74\n        ],\n        \"semantic_type\": \"\",\n        \"description\": \"\"\n      }\n    },\n    {\n      \"column\": \"LSTAT\",\n      \"properties\": {\n        \"dtype\": \"number\",\n        \"std\": 6.610090770934995,\n        \"min\": 7.18,\n        \"max\": 18.8,\n        \"num_unique_values\": 3,\n        \"samples\": [\n          7.53\n        ],\n        \"semantic_type\": \"\",\n        \"description\": \"\"\n      }\n    },\n    {\n      \"column\": \"PRICE\",\n      \"properties\": {\n        \"dtype\": \"number\",\n        \"std\": 5.864298764558298,\n        \"min\": 16.6,\n        \"max\": 28.2,\n        \"num_unique_values\": 3,\n        \"samples\": [\n          28.2\n        ],\n        \"semantic_type\": \"\",\n        \"description\": \"\"\n      }\n    }\n  ]\n}"
            }
          },
          "metadata": {},
          "execution_count": 13
        }
      ]
    },
    {
      "cell_type": "code",
      "source": [
        "import matplotlib.pyplot as plt\n",
        "\n",
        "bostonDF_sample = boston_df[['RM','PRICE']]\n",
        "bostonDF_sample = bostonDF_sample.sample(n=100, random_state=0)\n",
        "print(bostonDF_sample.shape)\n",
        "\n",
        "plt.figure(figsize=(6,6))\n",
        "plt.scatter(bostonDF_sample.RM, bostonDF_sample.PRICE, c='darkorange')"
      ],
      "metadata": {
        "colab": {
          "base_uri": "https://localhost:8080/",
          "height": 559
        },
        "id": "LXHr3Kj9P4Wi",
        "outputId": "e0861230-858c-4232-8783-a85e6633cab8"
      },
      "execution_count": 19,
      "outputs": [
        {
          "output_type": "stream",
          "name": "stdout",
          "text": [
            "(100, 2)\n"
          ]
        },
        {
          "output_type": "execute_result",
          "data": {
            "text/plain": [
              "<matplotlib.collections.PathCollection at 0x7da0bf719f00>"
            ]
          },
          "metadata": {},
          "execution_count": 19
        },
        {
          "output_type": "display_data",
          "data": {
            "text/plain": [
              "<Figure size 600x600 with 1 Axes>"
            ],
            "image/png": "[encoded data removed]"
          },
          "metadata": {}
        }
      ]
    },
    {
      "cell_type": "code",
      "source": [
        "import numpy as np\n",
        "from sklearn.linear_model import LinearRegression\n",
        "\n",
        "# 선형 회귀와 결정 트리 기반의 Regressor 생성. DecisionTreeRegressor의 max_depth는 각각 2, 7\n",
        "lr_reg = LinearRegression()\n",
        "dt_reg2 = DecisionTreeRegressor(max_depth=2)\n",
        "dt_reg7 = DecisionTreeRegressor(max_depth=7)\n",
        "\n",
        "# 실제 예측을 적용할 테스트용 데이터 셋을 4.5 ~ 8.5 까지 100개 데이터 셋 생성.\n",
        "X_test = np.arange(4.5, 8.5, 0.04).reshape(-1, 1)\n",
        "\n",
        "# 보스턴 주택가격 데이터에서 시각화를 위해 피처는 RM만, 그리고 결정 데이터인 PRICE 추출\n",
        "X_feature = bostonDF_sample['RM'].values.reshape(-1,1)\n",
        "y_target = bostonDF_sample['PRICE'].values.reshape(-1,1)\n",
        "\n",
        "# 학습과 예측 수행.\n",
        "lr_reg.fit(X_feature, y_target)\n",
        "dt_reg2.fit(X_feature, y_target)\n",
        "dt_reg7.fit(X_feature, y_target)\n",
        "\n",
        "pred_lr = lr_reg.predict(X_test)\n",
        "pred_dt2 = dt_reg2.predict(X_test)\n",
        "pred_dt7 = dt_reg7.predict(X_test)"
      ],
      "metadata": {
        "id": "VqIZTNOtUdlX"
      },
      "execution_count": 20,
      "outputs": []
    },
    {
      "cell_type": "code",
      "source": [
        "fig , (ax1, ax2, ax3) = plt.subplots(figsize=(10,3), ncols=3)\n",
        "\n",
        "# X축값을 4.5 ~ 8.5로 변환하며 입력했을 때, 선형 회귀와 결정 트리 회귀 예측 선 시각화\n",
        "# 선형 회귀로 학습된 모델 회귀 예측선\n",
        "ax1.set_title('Linear Regression')\n",
        "ax1.scatter(bostonDF_sample.RM, bostonDF_sample.PRICE, c=\"darkorange\")\n",
        "ax1.plot(X_test, pred_lr,label=\"linear\", linewidth=2 )\n",
        "\n",
        "# DecisionTreeRegressor의 max_depth를 2로 했을 때 회귀 예측선\n",
        "ax2.set_title('Decision Tree Regression: \\n max_depth=2')\n",
        "ax2.scatter(bostonDF_sample.RM, bostonDF_sample.PRICE, c=\"darkorange\")\n",
        "ax2.plot(X_test, pred_dt2, label=\"max_depth:2\", linewidth=2 )\n",
        "\n",
        "# DecisionTreeRegressor의 max_depth를 7로 했을 때 회귀 예측선\n",
        "ax3.set_title('Decision Tree Regression: \\n max_depth=7')\n",
        "ax3.scatter(bostonDF_sample.RM, bostonDF_sample.PRICE, c=\"darkorange\")\n",
        "ax3.plot(X_test, pred_dt7, label=\"max_depth:7\", linewidth=2)"
      ],
      "metadata": {
        "colab": {
          "base_uri": "https://localhost:8080/",
          "height": 352
        },
        "id": "EGZ4PWQwT2sx",
        "outputId": "cc88a2fd-6c00-4ac4-9d4f-1278672c9563"
      },
      "execution_count": 21,
      "outputs": [
        {
          "output_type": "execute_result",
          "data": {
            "text/plain": [
              "[<matplotlib.lines.Line2D at 0x7da0bf618a30>]"
            ]
          },
          "metadata": {},
          "execution_count": 21
        },
        {
          "output_type": "display_data",
          "data": {
            "text/plain": [
              "<Figure size 1000x300 with 3 Axes>"
            ],
            "image/png": "[encoded data removed]"
          },
          "metadata": {}
        }
      ]
    },
    {
      "cell_type": "markdown",
      "source": [
        "선형 회귀는 직선으로 예측 회귀선을 표현하는데 반해 회귀 트리의 경우 분할되는 데이터 지점에 따라 브랜치를 만들면서 계단 형태로 회귀선을 만든다. max_depth=7인 경우에는 학습 데이터 세트의 이상치 데이터도 학습하면서 복잡한 계단 형태의 회귀선을 만들어 과적합이 되기 쉬운 모델이 되었음을 알 수 있다."
      ],
      "metadata": {
        "id": "1k_X8gbuUqdm"
      }
    },
    {
      "cell_type": "markdown",
      "source": [
        "Q. 주어진 data에 대하여 회귀 모델을 사용하여 에너지 사용량을 예측하는 모델을 Xgbregressor, Lightgbmregressor 모델을 이용하여 모델링 및 평가 (MAE, MSE, RMSE)를 수행하세요."
      ],
      "metadata": {
        "id": "sYJKYjtzV5jD"
      }
    },
    {
      "cell_type": "markdown",
      "source": [
        "XGBRegressor는 회귀 문제에 특화된 모델로, 여러 하이퍼파라미터를 통해 성능을 최적화할 수 있다.\n",
        "\n",
        "주요 하이퍼파라미터:\n",
        "\n",
        "n_estimators: 부스팅을 위해 생성될 결정 트리의 개수입니다. 일반적으로 더 많은 트리가 모델의 성능을 향상시킬 수 있지만, 너무 많으면 과적합(overfitting)을 일으킬 수 있습니다.\n",
        "\n",
        "learning_rate (eta): 각 부스팅 단계에서의 스텝 사이즈로, 새로운 트리의 기여도를 조절합니다. 낮은 값은 학습을 더 안정적으로 만들지만, 너무 낮으면 많은 트리가 필요하게 되고, 이는 과적합을 초래할 수 있습니다.\n",
        "\n",
        "max_depth: 각 트리의 최대 깊이를 제한합니다. 깊은 트리는 더 복잡한 패턴을 학습할 수 있지만, 과적합의 위험이 있습니다.\n",
        "\n",
        "min_child_weight: 자식 노드를 분할하기 위한 인스턴스 가중치(합)의 최소값입니다. 이 값을 크게 설정하면 더 보수적인 모델이 생성됩니다.\n",
        "\n",
        "gamma (min_split_loss): 리프 노드를 추가로 분할하기 위한 최소 손실 감소 값입니다. 큰 값은 모델이 더 보수적이 되도록 합니다.\n",
        "\n",
        "subsample: 각 트리를 훈련할 때 사용할 데이터 샘플의 비율입니다. 이는 과적합을 방지하는 데 도움이 됩니다.\n",
        "\n",
        "colsample_bytree/colsample_bylevel/colsample_bynode: 트리, 레벨, 노드를 기준으로 각각 훈련에 사용할 특성(열)의 비율입니다. 이를 통해 과적합을 줄일 수 있습니다.\n",
        "\n",
        "lambda (reg_lambda): L2 정규화 항의 가중치입니다. 이는 모델의 복잡도를 제한하여 과적합을 방지하는 데 도움이 됩니다.\n",
        "\n",
        "alpha (reg_alpha): L1 정규화 항의 가중치입니다. 불필요한 특성의 가중치를 0으로 만들어 모델을 더 단순하게 만듭니다.\n",
        "\n",
        "scale_pos_weight: 불균형 데이터셋을 다룰 때 양성 클래스의 가중치를 조절합니다. 주로 분류 문제에서 사용됩니다.\n",
        "\n",
        "objective: 최적화할 손실 함수를 지정합니다. 회귀 문제에서는 reg:squarederror, reg:linear, reg:gamma 등이 사용될 수 있습니다.\n",
        "\n",
        "random_state: 결과의 재현 가능성을 위한 난수 시드입니다."
      ],
      "metadata": {
        "id": "wVL_UX_yWGln"
      }
    },
    {
      "cell_type": "markdown",
      "source": [
        " LightGBM의 여러 하이퍼파라미터를 통해 성능을 조정할 수 있다.\n",
        "\n",
        " 주요 하이퍼파라미터:\n",
        "\n",
        " n_estimators: 부스팅을 위해 생성될 결정 트리의 개수입니다. 더 많은 트리는 일반적으로 모델의 성능을 향상시킬 수 있으나, 너무 많으면 과적합을 일으킬 수 있습니다.\n",
        "\n",
        "learning_rate: 각 부스팅 단계에서의 업데이트 크기를 조절합니다. 낮은 학습률은 학습 과정을 더 안정적으로 만들 수 있지만, 충분한 성능을 달성하기 위해 더 많은 트리가 필요할 수 있습니다.\n",
        "\n",
        "max_depth: 트리의 최대 깊이를 제한합니다. 깊은 트리는 더 복잡한 패턴을 학습할 수 있지만, 과적합의 위험을 증가시킵니다.\n",
        "\n",
        "num_leaves: 하나의 트리가 가질 수 있는 최대 리프의 수입니다. LightGBM에서는 이 값을 통해 트리의 복잡성을 조절합니다. num_leaves의 값이 크면 모델의 복잡도가 증가하므로, 과적합에 주의해야 합니다.\n",
        "\n",
        "min_child_samples (min_data_in_leaf): 리프 노드가 가지고 있어야 할 최소 데이터 수입니다. 과적합을 방지하기 위해 사용됩니다.\n",
        "\n",
        "min_child_weight: 자식 분할을 가지기 위한 인스턴스 가중치 합의 최소값입니다. 더 큰 값은 모델을 더 보수적으로 만듭니다.\n",
        "\n",
        "subsample (bagging_fraction): 트리를 구축할 때 사용할 데이터 샘플의 비율입니다. 이는 과적합을 방지하는 데 도움이 됩니다.\n",
        "\n",
        "colsample_bytree (feature_fraction): 트리를 구축할 때 사용할 특성(열)의 비율입니다. 이를 통해 과적합을 방지하고 학습 속도를 향상시킬 수 있습니다.\n",
        "\n",
        "reg_alpha (lambda_l1): L1 정규화 항의 가중치입니다. 이는 모델의 복잡도를 줄이는 데 도움이 됩니다.\n",
        "\n",
        "reg_lambda (lambda_l2): L2 정규화 항의 가중치입니다. 이는 또한 모델의 복잡도를 줄이고 과적합을 방지하는 데 도움이 됩니다.\n",
        "\n",
        "max_bin: 수치형 변수를 이산화(discretization)할 때 사용되는 최대 bin의 수입니다. 이 값이 크면 모델의 정확도는 향상될 수 있지만, 과적합의 위험과 메모리 사용량이 증가합니다.\n",
        "\n",
        "boosting_type: 부스팅 타입을 지정합니다. LightGBM은 gbdt (기본값), rf (랜덤포레스트), dart, goss 등 여러 부스팅 타입을 지원합니다.\n",
        "\n",
        "objective: 최적화할 손실 함수를 지정합니다. 회귀 문제의 경우 regression, regression_l1, `huber"
      ],
      "metadata": {
        "id": "Nh2ibuQHWqWW"
      }
    },
    {
      "cell_type": "code",
      "source": [
        "import numpy as np\n",
        "import pandas as pd\n",
        "from sklearn.model_selection import train_test_split\n",
        "from sklearn.metrics import mean_squared_error, mean_absolute_error\n",
        "from xgboost import XGBRegressor\n",
        "from lightgbm import LGBMRegressor\n",
        "\n",
        "# 가상의 데이터 생성\n",
        "np.random.seed(42)\n",
        "data_size = 1000\n",
        "data = {\n",
        "    'area': np.random.uniform(1000, 3000, data_size),\n",
        "    'type': np.random.randint(0, 2, data_size),\n",
        "    'location': np.random.randint(0, 3, data_size),\n",
        "    'energy_usage': np.random.uniform(200, 600, data_size)  # kWh\n",
        "}\n",
        "df = pd.DataFrame(data)\n",
        "df.head()"
      ],
      "metadata": {
        "colab": {
          "base_uri": "https://localhost:8080/",
          "height": 206
        },
        "id": "C2hQFjfEV8E6",
        "outputId": "056c972c-6d11-4c6d-ce71-2f218f84b7e8"
      },
      "execution_count": 22,
      "outputs": [
        {
          "output_type": "execute_result",
          "data": {
            "text/plain": [
              "          area  type  location  energy_usage\n",
              "0  1749.080238     0         1    561.443138\n",
              "1  2901.428613     1         1    293.105259\n",
              "2  2463.987884     1         0    522.958412\n",
              "3  2197.316968     1         0    223.637556\n",
              "4  1312.037281     1         1    559.538955"
            ],
            "text/html": [
              "\n",
              "  <div id=\"df-c0e3f7f1-82b9-4a25-8366-03d5ecae4175\" class=\"colab-df-container\">\n",
              "    <div>\n",
              "<style scoped>\n",
              "    .dataframe tbody tr th:only-of-type {\n",
              "        vertical-align: middle;\n",
              "    }\n",
              "\n",
              "    .dataframe tbody tr th {\n",
              "        vertical-align: top;\n",
              "    }\n",
              "\n",
              "    .dataframe thead th {\n",
              "        text-align: right;\n",
              "    }\n",
              "</style>\n",
              "<table border=\"1\" class=\"dataframe\">\n",
              "  <thead>\n",
              "    <tr style=\"text-align: right;\">\n",
              "      <th></th>\n",
              "      <th>area</th>\n",
              "      <th>type</th>\n",
              "      <th>location</th>\n",
              "      <th>energy_usage</th>\n",
              "    </tr>\n",
              "  </thead>\n",
              "  <tbody>\n",
              "    <tr>\n",
              "      <th>0</th>\n",
              "      <td>1749.080238</td>\n",
              "      <td>0</td>\n",
              "      <td>1</td>\n",
              "      <td>561.443138</td>\n",
              "    </tr>\n",
              "    <tr>\n",
              "      <th>1</th>\n",
              "      <td>2901.428613</td>\n",
              "      <td>1</td>\n",
              "      <td>1</td>\n",
              "      <td>293.105259</td>\n",
              "    </tr>\n",
              "    <tr>\n",
              "      <th>2</th>\n",
              "      <td>2463.987884</td>\n",
              "      <td>1</td>\n",
              "      <td>0</td>\n",
              "      <td>522.958412</td>\n",
              "    </tr>\n",
              "    <tr>\n",
              "      <th>3</th>\n",
              "      <td>2197.316968</td>\n",
              "      <td>1</td>\n",
              "      <td>0</td>\n",
              "      <td>223.637556</td>\n",
              "    </tr>\n",
              "    <tr>\n",
              "      <th>4</th>\n",
              "      <td>1312.037281</td>\n",
              "      <td>1</td>\n",
              "      <td>1</td>\n",
              "      <td>559.538955</td>\n",
              "    </tr>\n",
              "  </tbody>\n",
              "</table>\n",
              "</div>\n",
              "    <div class=\"colab-df-buttons\">\n",
              "\n",
              "  <div class=\"colab-df-container\">\n",
              "    <button class=\"colab-df-convert\" onclick=\"convertToInteractive('df-c0e3f7f1-82b9-4a25-8366-03d5ecae4175')\"\n",
              "            title=\"Convert this dataframe to an interactive table.\"\n",
              "            style=\"display:none;\">\n",
              "\n",
              "  <svg xmlns=\"http://www.w3.org/2000/svg\" height=\"24px\" viewBox=\"0 -960 960 960\">\n",
              "    <path d=\"M120-120v-720h720v720H120Zm60-500h600v-160H180v160Zm220 220h160v-160H400v160Zm0 220h160v-160H400v160ZM180-400h160v-160H180v160Zm440 0h160v-160H620v160ZM180-180h160v-160H180v160Zm440 0h160v-160H620v160Z\"/>\n",
              "  </svg>\n",
              "    </button>\n",
              "\n",
              "  <style>\n",
              "    .colab-df-container {\n",
              "      display:flex;\n",
              "      gap: 12px;\n",
              "    }\n",
              "\n",
              "    .colab-df-convert {\n",
              "      background-color: #E8F0FE;\n",
              "      border: none;\n",
              "      border-radius: 50%;\n",
              "      cursor: pointer;\n",
              "      display: none;\n",
              "      fill: #1967D2;\n",
              "      height: 32px;\n",
              "      padding: 0 0 0 0;\n",
              "      width: 32px;\n",
              "    }\n",
              "\n",
              "    .colab-df-convert:hover {\n",
              "      background-color: #E2EBFA;\n",
              "      box-shadow: 0px 1px 2px rgba(60, 64, 67, 0.3), 0px 1px 3px 1px rgba(60, 64, 67, 0.15);\n",
              "      fill: #174EA6;\n",
              "    }\n",
              "\n",
              "    .colab-df-buttons div {\n",
              "      margin-bottom: 4px;\n",
              "    }\n",
              "\n",
              "    [theme=dark] .colab-df-convert {\n",
              "      background-color: #3B4455;\n",
              "      fill: #D2E3FC;\n",
              "    }\n",
              "\n",
              "    [theme=dark] .colab-df-convert:hover {\n",
              "      background-color: #434B5C;\n",
              "      box-shadow: 0px 1px 3px 1px rgba(0, 0, 0, 0.15);\n",
              "      filter: drop-shadow(0px 1px 2px rgba(0, 0, 0, 0.3));\n",
              "      fill: #FFFFFF;\n",
              "    }\n",
              "  </style>\n",
              "\n",
              "    <script>\n",
              "      const buttonEl =\n",
              "        document.querySelector('#df-c0e3f7f1-82b9-4a25-8366-03d5ecae4175 button.colab-df-convert');\n",
              "      buttonEl.style.display =\n",
              "        google.colab.kernel.accessAllowed ? 'block' : 'none';\n",
              "\n",
              "      async function convertToInteractive(key) {\n",
              "        const element = document.querySelector('#df-c0e3f7f1-82b9-4a25-8366-03d5ecae4175');\n",
              "        const dataTable =\n",
              "          await google.colab.kernel.invokeFunction('convertToInteractive',\n",
              "                                                    [key], {});\n",
              "        if (!dataTable) return;\n",
              "\n",
              "        const docLinkHtml = 'Like what you see? Visit the ' +\n",
              "          '<a target=\"_blank\" href=https://colab.research.google.com/notebooks/data_table.ipynb>data table notebook</a>'\n",
              "          + ' to learn more about interactive tables.';\n",
              "        element.innerHTML = '';\n",
              "        dataTable['output_type'] = 'display_data';\n",
              "        await google.colab.output.renderOutput(dataTable, element);\n",
              "        const docLink = document.createElement('div');\n",
              "        docLink.innerHTML = docLinkHtml;\n",
              "        element.appendChild(docLink);\n",
              "      }\n",
              "    </script>\n",
              "  </div>\n",
              "\n",
              "\n",
              "<div id=\"df-50a0b4f3-af12-4c6a-b539-f2cb2be22d32\">\n",
              "  <button class=\"colab-df-quickchart\" onclick=\"quickchart('df-50a0b4f3-af12-4c6a-b539-f2cb2be22d32')\"\n",
              "            title=\"Suggest charts\"\n",
              "            style=\"display:none;\">\n",
              "\n",
              "<svg xmlns=\"http://www.w3.org/2000/svg\" height=\"24px\"viewBox=\"0 0 24 24\"\n",
              "     width=\"24px\">\n",
              "    <g>\n",
              "        <path d=\"M19 3H5c-1.1 0-2 .9-2 2v14c0 1.1.9 2 2 2h14c1.1 0 2-.9 2-2V5c0-1.1-.9-2-2-2zM9 17H7v-7h2v7zm4 0h-2V7h2v10zm4 0h-2v-4h2v4z\"/>\n",
              "    </g>\n",
              "</svg>\n",
              "  </button>\n",
              "\n",
              "<style>\n",
              "  .colab-df-quickchart {\n",
              "      --bg-color: #E8F0FE;\n",
              "      --fill-color: #1967D2;\n",
              "      --hover-bg-color: #E2EBFA;\n",
              "      --hover-fill-color: #174EA6;\n",
              "      --disabled-fill-color: #AAA;\n",
              "      --disabled-bg-color: #DDD;\n",
              "  }\n",
              "\n",
              "  [theme=dark] .colab-df-quickchart {\n",
              "      --bg-color: #3B4455;\n",
              "      --fill-color: #D2E3FC;\n",
              "      --hover-bg-color: #434B5C;\n",
              "      --hover-fill-color: #FFFFFF;\n",
              "      --disabled-bg-color: #3B4455;\n",
              "      --disabled-fill-color: #666;\n",
              "  }\n",
              "\n",
              "  .colab-df-quickchart {\n",
              "    background-color: var(--bg-color);\n",
              "    border: none;\n",
              "    border-radius: 50%;\n",
              "    cursor: pointer;\n",
              "    display: none;\n",
              "    fill: var(--fill-color);\n",
              "    height: 32px;\n",
              "    padding: 0;\n",
              "    width: 32px;\n",
              "  }\n",
              "\n",
              "  .colab-df-quickchart:hover {\n",
              "    background-color: var(--hover-bg-color);\n",
              "    box-shadow: 0 1px 2px rgba(60, 64, 67, 0.3), 0 1px 3px 1px rgba(60, 64, 67, 0.15);\n",
              "    fill: var(--button-hover-fill-color);\n",
              "  }\n",
              "\n",
              "  .colab-df-quickchart-complete:disabled,\n",
              "  .colab-df-quickchart-complete:disabled:hover {\n",
              "    background-color: var(--disabled-bg-color);\n",
              "    fill: var(--disabled-fill-color);\n",
              "    box-shadow: none;\n",
              "  }\n",
              "\n",
              "  .colab-df-spinner {\n",
              "    border: 2px solid var(--fill-color);\n",
              "    border-color: transparent;\n",
              "    border-bottom-color: var(--fill-color);\n",
              "    animation:\n",
              "      spin 1s steps(1) infinite;\n",
              "  }\n",
              "\n",
              "  @keyframes spin {\n",
              "    0% {\n",
              "      border-color: transparent;\n",
              "      border-bottom-color: var(--fill-color);\n",
              "      border-left-color: var(--fill-color);\n",
              "    }\n",
              "    20% {\n",
              "      border-color: transparent;\n",
              "      border-left-color: var(--fill-color);\n",
              "      border-top-color: var(--fill-color);\n",
              "    }\n",
              "    30% {\n",
              "      border-color: transparent;\n",
              "      border-left-color: var(--fill-color);\n",
              "      border-top-color: var(--fill-color);\n",
              "      border-right-color: var(--fill-color);\n",
              "    }\n",
              "    40% {\n",
              "      border-color: transparent;\n",
              "      border-right-color: var(--fill-color);\n",
              "      border-top-color: var(--fill-color);\n",
              "    }\n",
              "    60% {\n",
              "      border-color: transparent;\n",
              "      border-right-color: var(--fill-color);\n",
              "    }\n",
              "    80% {\n",
              "      border-color: transparent;\n",
              "      border-right-color: var(--fill-color);\n",
              "      border-bottom-color: var(--fill-color);\n",
              "    }\n",
              "    90% {\n",
              "      border-color: transparent;\n",
              "      border-bottom-color: var(--fill-color);\n",
              "    }\n",
              "  }\n",
              "</style>\n",
              "\n",
              "  <script>\n",
              "    async function quickchart(key) {\n",
              "      const quickchartButtonEl =\n",
              "        document.querySelector('#' + key + ' button');\n",
              "      quickchartButtonEl.disabled = true;  // To prevent multiple clicks.\n",
              "      quickchartButtonEl.classList.add('colab-df-spinner');\n",
              "      try {\n",
              "        const charts = await google.colab.kernel.invokeFunction(\n",
              "            'suggestCharts', [key], {});\n",
              "      } catch (error) {\n",
              "        console.error('Error during call to suggestCharts:', error);\n",
              "      }\n",
              "      quickchartButtonEl.classList.remove('colab-df-spinner');\n",
              "      quickchartButtonEl.classList.add('colab-df-quickchart-complete');\n",
              "    }\n",
              "    (() => {\n",
              "      let quickchartButtonEl =\n",
              "        document.querySelector('#df-50a0b4f3-af12-4c6a-b539-f2cb2be22d32 button');\n",
              "      quickchartButtonEl.style.display =\n",
              "        google.colab.kernel.accessAllowed ? 'block' : 'none';\n",
              "    })();\n",
              "  </script>\n",
              "</div>\n",
              "\n",
              "    </div>\n",
              "  </div>\n"
            ],
            "application/vnd.google.colaboratory.intrinsic+json": {
              "type": "dataframe",
              "variable_name": "df",
              "summary": "{\n  \"name\": \"df\",\n  \"rows\": 1000,\n  \"fields\": [\n    {\n      \"column\": \"area\",\n      \"properties\": {\n        \"dtype\": \"number\",\n        \"std\": 584.2747238949721,\n        \"min\": 1009.2640460092057,\n        \"max\": 2999.435346572261,\n        \"num_unique_values\": 1000,\n        \"samples\": [\n          1761.781713262043,\n          2633.1988789431543,\n          1925.3595713392128\n        ],\n        \"semantic_type\": \"\",\n        \"description\": \"\"\n      }\n    },\n    {\n      \"column\": \"type\",\n      \"properties\": {\n        \"dtype\": \"number\",\n        \"std\": 0,\n        \"min\": 0,\n        \"max\": 1,\n        \"num_unique_values\": 2,\n        \"samples\": [\n          1,\n          0\n        ],\n        \"semantic_type\": \"\",\n        \"description\": \"\"\n      }\n    },\n    {\n      \"column\": \"location\",\n      \"properties\": {\n        \"dtype\": \"number\",\n        \"std\": 0,\n        \"min\": 0,\n        \"max\": 2,\n        \"num_unique_values\": 3,\n        \"samples\": [\n          1,\n          0\n        ],\n        \"semantic_type\": \"\",\n        \"description\": \"\"\n      }\n    },\n    {\n      \"column\": \"energy_usage\",\n      \"properties\": {\n        \"dtype\": \"number\",\n        \"std\": 115.79671558684618,\n        \"min\": 200.07535982263275,\n        \"max\": 599.8855216623656,\n        \"num_unique_values\": 1000,\n        \"samples\": [\n          272.6956762837852,\n          308.57543105368006\n        ],\n        \"semantic_type\": \"\",\n        \"description\": \"\"\n      }\n    }\n  ]\n}"
            }
          },
          "metadata": {},
          "execution_count": 22
        }
      ]
    },
    {
      "cell_type": "code",
      "source": [
        "X = df[['area', 'type', 'location']]\n",
        "y = df['energy_usage']\n",
        "\n",
        "# 데이터 분할\n",
        "X_train, X_test, y_train, y_test = train_test_split(X, y, test_size=0.2, random_state=42)\n",
        "\n",
        "# XGBoost 모델 훈련\n",
        "# objective 매개변수는 모델이 최소화하려는 손실함수나 최적화할 목표\n",
        "# xgb_regressor = XGBRegressor(n_estimators=100, learning_rate=0.1, random_state=42)\n",
        "xgb_regressor = XGBRegressor(objective='reg:squarederror', n_estimators=100, learning_rate=0.1, random_state=42)\n",
        "xgb_regressor.fit(X_train, y_train)\n",
        "\n",
        "# LightGBM 모델 훈련\n",
        "# lgbm_regressor = LGBMRegressor(n_estimators=100, learning_rate=0.1, random_state=42, verbose=-1)\n",
        "lgbm_regressor = LGBMRegressor(objective='regression', n_estimators=100, learning_rate=0.1, random_state=42, verbose=-1)\n",
        "lgbm_regressor.fit(X_train, y_train)\n",
        "\n",
        "# 예측 및 평가\n",
        "y_pred_xgb = xgb_regressor.predict(X_test)\n",
        "mae_xgb = mean_absolute_error(y_test, y_pred_xgb)\n",
        "mse_xgb = mean_squared_error(y_test, y_pred_xgb)\n",
        "rmse_xgb = np.sqrt(mean_squared_error(y_test, y_pred_xgb))\n",
        "\n",
        "print(f'XGBoost MAE: {mae_xgb:.2f}')\n",
        "print(f'XGBoost MSE: {mse_xgb:.2f}')\n",
        "print(f'XGBoost RMSE: {rmse_xgb:.2f}')\n",
        "\n",
        "y_pred_lgbm = lgbm_regressor.predict(X_test)\n",
        "mae_lgbm = mean_absolute_error(y_test, y_pred_lgbm)\n",
        "mse_lgbm = mean_squared_error(y_test, y_pred_lgbm)\n",
        "rmse_lgbm = np.sqrt(mean_squared_error(y_test, y_pred_lgbm))\n",
        "\n",
        "print(f'LightGBM MAE: {mae_lgbm:.2f}')\n",
        "print(f'LightGBM MSE: {mse_lgbm:.2f}')\n",
        "print(f'LightGBM RMSE: {rmse_lgbm:.2f}')"
      ],
      "metadata": {
        "colab": {
          "base_uri": "https://localhost:8080/"
        },
        "id": "v3SKVxHfWlnN",
        "outputId": "d282fadb-4450-471c-98c5-03ca68535833"
      },
      "execution_count": 23,
      "outputs": [
        {
          "output_type": "stream",
          "name": "stdout",
          "text": [
            "XGBoost MAE: 100.91\n",
            "XGBoost MSE: 14651.81\n",
            "XGBoost RMSE: 121.04\n",
            "LightGBM MAE: 97.31\n",
            "LightGBM MSE: 13658.11\n",
            "LightGBM RMSE: 116.87\n"
          ]
        }
      ]
    },
    {
      "cell_type": "markdown",
      "source": [
        "Task2_0730. iris 데이터셋에 대하여 랜덤포레스트로 학습 및 평가한 결과와 차원축소한 후 c1,c2를 적용하여 학습 평가한 결과를 비교하세요. (단 cross_val_score를 적용하여 평가)"
      ],
      "metadata": {
        "id": "Qb6mRMLCT91f"
      }
    },
    {
      "cell_type": "code",
      "source": [
        "# 분류를 적용한 결과 비교\n",
        "import numpy as np\n",
        "from sklearn.datasets import load_iris\n",
        "from sklearn.ensemble import RandomForestClassifier\n",
        "from sklearn.model_selection import cross_val_score\n",
        "\n",
        "iris = load_iris()\n",
        "\n",
        "rcf = RandomForestClassifier(random_state=156)\n",
        "scores = cross_val_score(rcf, iris.data, iris.target, scoring='accuracy',cv=3)\n",
        "print('cv=3인 경우의 개별 폴드 세트별 정확도:', scores)\n",
        "print('평균 정확도 : {:.2f}'.format(np.mean(scores)))"
      ],
      "metadata": {
        "id": "FVQ4qWWqT-bV"
      },
      "execution_count": null,
      "outputs": []
    },
    {
      "cell_type": "code",
      "source": [
        "# PCA 변환 데이터 세트 적용\n",
        "pca_X = df_iris_pca[['pca_component_1','pca_component_2']]\n",
        "scores_pca = cross_val_score(rcf,pca_X,iris.target,scoring='accuracy',cv=3)\n",
        "print('cv=3인 경우의 개별 폴드 세트별 정확도:', scores_pca)\n",
        "print('평균 정확도 : {:.2f}'.format(np.mean(scores_pca)))"
      ],
      "metadata": {
        "colab": {
          "base_uri": "https://localhost:8080/"
        },
        "id": "xAWy0851hTV2",
        "outputId": "da96a6e8-cb17-485b-8689-ce1a475be75c"
      },
      "execution_count": null,
      "outputs": [
        {
          "output_type": "stream",
          "name": "stdout",
          "text": [
            "차원 축소 전 평균 정확도: 0.9667\n"
          ]
        }
      ]
    },
    {
      "cell_type": "markdown",
      "source": [
        "Task3_0730. 상관도가 높은 BILL_AMT1 ~ BILL_AMT6 까지 6개의 속성에 대하여 2개의 컴포넌트로 PCA 변환하고 변동성을 알아보기 위하여 explained_variance_ratio_ 계산하세요."
      ],
      "metadata": {
        "id": "1N-UmsCrWnTU"
      }
    },
    {
      "cell_type": "code",
      "source": [
        "import pandas as pd\n",
        "from google.colab import drive\n",
        "drive.mount('/content/drive')\n",
        "\n",
        "df = pd.read_excel('/content/drive/MyDrive/kdt_240424/m5_머신러닝/dataset/credit_card.xls', sheet_name='Data',header=1)\n",
        "print(df.shape)"
      ],
      "metadata": {
        "colab": {
          "base_uri": "https://localhost:8080/"
        },
        "id": "ax-vFEM1WnmW",
        "outputId": "fab0f9ba-b339-4d98-ed21-9425f1a44297"
      },
      "execution_count": 25,
      "outputs": [
        {
          "output_type": "stream",
          "name": "stdout",
          "text": [
            "Mounted at /content/drive\n",
            "(30000, 25)\n"
          ]
        }
      ]
    },
    {
      "cell_type": "code",
      "source": [
        "# PAY_0 칼럼을 PAY_1으로 'default payment next month' 칼럼도 'default'로 칼럼명 변경. ID 삭제.\n",
        "df.rename(columns={'PAY_0':'PAY_1','default payment next month':'default'}, inplace=True)\n",
        "y_target = df['default']\n",
        "X_features = df.drop(['default','ID'], axis=1)"
      ],
      "metadata": {
        "id": "BoS5FKmTXkdO"
      },
      "execution_count": 26,
      "outputs": []
    },
    {
      "cell_type": "code",
      "source": [
        "# 상관도가 높은 속성을 PCA로 변환한 뒤 explained_variance_ratio_ 속성으로 확인\n",
        "from sklearn.decomposition import PCA\n",
        "from sklearn.preprocessing import StandardScaler\n",
        "\n",
        "# BILL_AMT1 ~ BILL_AMT6 까지 6개의 속성명 생성\n",
        "cols_bill = ['BILL_AMT'+str(i) for i in range(1,7)]\n",
        "print('대상 속성명:', cols_bill)\n",
        "\n",
        "# 6개의 속성을 2개의 컴포넌트로 PCA 변환하고 변동성을 알아보기 위하여 explained_variance_ratio_ 계산\n",
        "scaler = StandardScaler()\n",
        "df_cols_scaled = scaler.fit_transform(X_features[cols_bill])\n",
        "pca = PCA(n_components=2)\n",
        "pca.fit(df_cols_scaled)\n",
        "# 2개의 PCA 컴포넌트만으로도 6개 속성의 변동성을 약 95% 이상 설명\n",
        "print('PCA Component 별 변동성:', pca.explained_variance_ratio_)"
      ],
      "metadata": {
        "colab": {
          "base_uri": "https://localhost:8080/"
        },
        "id": "nc-RIU6Ebcal",
        "outputId": "fb396dfc-c8ca-4731-f612-3348cb74d263"
      },
      "execution_count": 27,
      "outputs": [
        {
          "output_type": "stream",
          "name": "stdout",
          "text": [
            "대상 속성명: ['BILL_AMT1', 'BILL_AMT2', 'BILL_AMT3', 'BILL_AMT4', 'BILL_AMT5', 'BILL_AMT6']\n",
            "PCA Component 별 변동성: [0.90555253 0.0509867 ]\n"
          ]
        }
      ]
    },
    {
      "cell_type": "code",
      "source": [
        "# 원본 데이터 세트와 PCA 변환한 데이터 세트의 분류 예측 결과 비교\n",
        "\n",
        "import numpy as np\n",
        "from sklearn.ensemble import RandomForestClassifier\n",
        "from sklearn.model_selection import cross_val_score\n",
        "\n",
        "rcf = RandomForestClassifier(n_estimators=300, random_state=150)\n",
        "scores = cross_val_score(rcf, X_features, y_target, scoring='accuracy', cv=3)\n",
        "\n",
        "print('CV=3 인 경우의 개별 Fold세트별 정확도:', scores)\n",
        "print('평균 정확도:{0:.4f}'.format(np.mean(scores)))\n",
        "\n",
        "# 원본 데이터 세트의 분류 예측 결과"
      ],
      "metadata": {
        "colab": {
          "base_uri": "https://localhost:8080/"
        },
        "id": "1OsaMTIPcFmZ",
        "outputId": "69c55b6f-ef54-40e8-ca93-ea4cc539f6a8"
      },
      "execution_count": 28,
      "outputs": [
        {
          "output_type": "stream",
          "name": "stdout",
          "text": [
            "CV=3 인 경우의 개별 Fold세트별 정확도: [0.8067 0.8214 0.8225]\n",
            "평균 정확도:0.8169\n"
          ]
        }
      ]
    },
    {
      "cell_type": "markdown",
      "source": [
        "Task4_0730. 신용카드 데이터셋 전체 23개 속성에 대하여 6개의 컴포넌트를 가진 PCA 변환을 수행하고 모델은 RF, cv=3, scoring='accuracy'을 적용하여 cross_val_score()로 분류 예측 수행하세요."
      ],
      "metadata": {
        "id": "qLroPe6_WuVN"
      }
    },
    {
      "cell_type": "code",
      "source": [
        "# 전체 23개 속성의 1/4 수준인 6개의 PCA 컴포넌트만으로도 원본 데이터를 기반으로 한 분류 예측결과 보다\n",
        "# 1~2% 정도의 예측 성능 저하만 발생\n",
        "from sklearn.decomposition import PCA\n",
        "from sklearn.preprocessing import StandardScaler\n",
        "\n",
        "# 원본 데이터 세트에 StandardScaler 적용\n",
        "scaler = StandardScaler()\n",
        "df_scaled = scaler.fit_transform(X_features)\n",
        "rcf = RandomForestClassifier(n_estimators=300, random_state=150)\n",
        "\n",
        "# 6개의 컴포넌트를 가진 PCA 변환을 수행하고 cross_val_score()로 분류 예측 수행\n",
        "pca = PCA(n_components=6)\n",
        "df_pca = pca.fit_transform(df_scaled)\n",
        "scores_pca = cross_val_score(rcf, df_pca, y_target, scoring='accuracy', cv=3)\n",
        "\n",
        "print('CV=3인 경우의 PCA 변환된 개별 Fold 세트별 정확도:', scores_pca)\n",
        "print('PCA 변환 데이터 세트 평균 정확도:{0:.4f}'.format(np.mean(scores_pca)))\n",
        "\n",
        "# 6개의 컴포넌트로 PCA 변환한 데이터 세트에 대한 동일한 분류 예측"
      ],
      "metadata": {
        "id": "9Nadc2OGmApF",
        "colab": {
          "base_uri": "https://localhost:8080/"
        },
        "outputId": "e901f9a5-e9c8-4e8c-fde0-9e0c7e5cb4e4"
      },
      "execution_count": 29,
      "outputs": [
        {
          "output_type": "stream",
          "name": "stdout",
          "text": [
            "CV=3인 경우의 PCA 변환된 개별 Fold 세트별 정확도: [0.7902 0.7964 0.8035]\n",
            "PCA 변환 데이터 세트 평균 정확도:0.7967\n"
          ]
        }
      ]
    }
  ]
}