{
  "nbformat": 4,
  "nbformat_minor": 0,
  "metadata": {
    "colab": {
      "provenance": [],
      "authorship_tag": "ABX9TyPrLytsHlsBRDavfGMFSWXL",
      "include_colab_link": true
    },
    "kernelspec": {
      "name": "python3",
      "display_name": "Python 3"
    },
    "language_info": {
      "name": "python"
    }
  },
  "cells": [
    {
      "cell_type": "markdown",
      "metadata": {
        "id": "view-in-github",
        "colab_type": "text"
      },
      "source": [
        "<a href=\"https://colab.research.google.com/github/hyojunyee/kita_2404/blob/main/m5_%EB%A8%B8%EC%8B%A0%EB%9F%AC%EB%8B%9D/Task/Task_0726.ipynb\" target=\"_parent\"><img src=\"https://colab.research.google.com/assets/colab-badge.svg\" alt=\"Open In Colab\"/></a>"
      ]
    },
    {
      "cell_type": "markdown",
      "source": [
        "Task1_0726. 신용카드 사기 검출 모델을 아래와 같이 생성하고 평가하세요.\n",
        "\n",
        "- 데이터 일차 가공 및 모델 학습/예측/평가\n",
        "  - Time 컬럼 삭제, 로지스틱 회귀, LightGBM을 이용하여 모델링 및 평가\n",
        "\n",
        "- Amount 컬럼 데이터 분포도 변환 후 모델 학습/예측/평가\n",
        "  - 표준화한 후 로지스틱 회귀, LightGBM을 이용하여 모델링 및 평가\n",
        "\n",
        "- 이상치 데이터 제거 후 모델 학습/예측/평가\n",
        "  - 데이터의 상관관계를 시각화 V14와 클래스의 상관관계 높음을 확인 후 V14 컬럼의 이상치 제거한 후 로지스틱 회귀, LightGBM을 이용하여 모델링 및 평가\n",
        "\n",
        "- SMOTE 오버 샘플링 적용 후 모델 학습/예측/평가\n",
        "  - 불균형한 데이터셋 처리를 위한 imbalanced-learn 라이브러리를 설치\n",
        "  - %pip install imbalanced-learn\n",
        "  - SMOTE(Synthetic Minority Over-sampling Technique)를 사용하여 불균형한 데이터셋을 처리\n",
        "  - from imblearn.over_sampling import SMOTE\n",
        "  - smote = SMOTE(random_state=0)\n",
        "  - X_train_over, y_train_over = smote.fit_resample(X_train, y_train)\n",
        "  - SMOTE를 적용한 학습 데이터셋을 사용하여 로지스틱 회귀 모델을 학습하고 예측 성능을 평가\n",
        "  - Precision-Recall 커브를 시각화하는 함수\n",
        "  - LightGBM을 이용하여 모델링 및 평가"
      ],
      "metadata": {
        "id": "8w_8c2Bq3vbz"
      }
    },
    {
      "cell_type": "code",
      "execution_count": null,
      "metadata": {
        "id": "CHopF9sB3jK_"
      },
      "outputs": [],
      "source": []
    }
  ]
}