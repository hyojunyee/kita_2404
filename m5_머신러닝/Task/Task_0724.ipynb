{
  "nbformat": 4,
  "nbformat_minor": 0,
  "metadata": {
    "colab": {
      "provenance": [],
      "authorship_tag": "ABX9TyPy18XayOUaOufz7NOwoHAC",
      "include_colab_link": true
    },
    "kernelspec": {
      "name": "python3",
      "display_name": "Python 3"
    },
    "language_info": {
      "name": "python"
    }
  },
  "cells": [
    {
      "cell_type": "markdown",
      "metadata": {
        "id": "view-in-github",
        "colab_type": "text"
      },
      "source": [
        "<a href=\"https://colab.research.google.com/github/hyojunyee/kita_2404/blob/main/m5_%EB%A8%B8%EC%8B%A0%EB%9F%AC%EB%8B%9D/Task/Task_0724.ipynb\" target=\"_parent\"><img src=\"https://colab.research.google.com/assets/colab-badge.svg\" alt=\"Open In Colab\"/></a>"
      ]
    },
    {
      "cell_type": "markdown",
      "source": [],
      "metadata": {
        "id": "D8BD2rpuR_4a"
      }
    },
    {
      "cell_type": "markdown",
      "source": [
        "Task1_0724. Wine 데이터셋에 대하여 SVM 모델에 3개의 커널을 적용하여 학습 및 평가 결과를 출력하세요."
      ],
      "metadata": {
        "id": "A47W-B3URbXi"
      }
    },
    {
      "cell_type": "code",
      "execution_count": 4,
      "metadata": {
        "colab": {
          "base_uri": "https://localhost:8080/"
        },
        "id": "ebG86X5-RPDz",
        "outputId": "23a7bb3f-be60-45f8-f0e0-9a2b04f33f29"
      },
      "outputs": [
        {
          "output_type": "stream",
          "name": "stdout",
          "text": [
            "Kernel: linear\n",
            "Accuracy: 0.9815\n",
            "Classification Report:\n",
            "              precision    recall  f1-score   support\n",
            "\n",
            "           0       1.00      1.00      1.00        19\n",
            "           1       1.00      0.95      0.98        21\n",
            "           2       0.93      1.00      0.97        14\n",
            "\n",
            "    accuracy                           0.98        54\n",
            "   macro avg       0.98      0.98      0.98        54\n",
            "weighted avg       0.98      0.98      0.98        54\n",
            "\n",
            "\n",
            "============================================================\n",
            "\n",
            "Kernel: poly\n",
            "Accuracy: 0.9630\n",
            "Classification Report:\n",
            "              precision    recall  f1-score   support\n",
            "\n",
            "           0       1.00      0.89      0.94        19\n",
            "           1       0.91      1.00      0.95        21\n",
            "           2       1.00      1.00      1.00        14\n",
            "\n",
            "    accuracy                           0.96        54\n",
            "   macro avg       0.97      0.96      0.97        54\n",
            "weighted avg       0.97      0.96      0.96        54\n",
            "\n",
            "\n",
            "============================================================\n",
            "\n",
            "Kernel: rbf\n",
            "Accuracy: 0.9815\n",
            "Classification Report:\n",
            "              precision    recall  f1-score   support\n",
            "\n",
            "           0       1.00      1.00      1.00        19\n",
            "           1       0.95      1.00      0.98        21\n",
            "           2       1.00      0.93      0.96        14\n",
            "\n",
            "    accuracy                           0.98        54\n",
            "   macro avg       0.98      0.98      0.98        54\n",
            "weighted avg       0.98      0.98      0.98        54\n",
            "\n",
            "\n",
            "============================================================\n",
            "\n"
          ]
        }
      ],
      "source": [
        "from sklearn import datasets\n",
        "from sklearn.model_selection import train_test_split\n",
        "from sklearn.svm import SVC\n",
        "from sklearn.metrics import accuracy_score\n",
        "from sklearn.metrics import classification_report\n",
        "from sklearn.preprocessing import StandardScaler\n",
        "\n",
        "# 데이터 로드\n",
        "wine = datasets.load_wine()\n",
        "X, y = wine.data, wine.target\n",
        "X_train, X_test, y_train, y_test = train_test_split(X, y, test_size=0.3, random_state=42)\n",
        "\n",
        "# 데이터 스케일링\n",
        "scaler = StandardScaler()\n",
        "X_train = scaler.fit_transform(X_train)\n",
        "X_test = scaler.transform(X_test)\n",
        "\n",
        "# SVM 모델 생성 및 학습\n",
        "kernels = ['linear', 'poly', 'rbf']\n",
        "models = {}\n",
        "\n",
        "for kernel in kernels:\n",
        "    svc = SVC(kernel=kernel, random_state=42)\n",
        "    svc.fit(X_train, y_train)\n",
        "    models[kernel] = svc\n",
        "\n",
        "# 모델 평가 및 결과 출력\n",
        "for kernel in kernels:\n",
        "    model = models[kernel]\n",
        "    y_pred = model.predict(X_test)\n",
        "\n",
        "    print(f\"Kernel: {kernel}\")\n",
        "    print(f\"Accuracy: {accuracy_score(y_test, y_pred):.4f}\")\n",
        "    print(\"Classification Report:\")\n",
        "    print(classification_report(y_test, y_pred))\n",
        "    print(\"\\n\" + \"=\"*60 + \"\\n\")"
      ]
    },
    {
      "cell_type": "markdown",
      "source": [
        "Task2_0724. breast_cancer dataset으로 랜덤포레스트를 적용하여 모델링 및 평가를 아래의 하이퍼 파라미터를 이용하여 수행한 후 최적의 하이퍼파라미터를 구하세요.\n",
        "\n",
        "- 'n_estimators': [50, 100, 200],\n",
        "- 'max_depth': [None, 10, 20],\n",
        "- 'max_features': ['auto', 'sqrt', 'log2'],\n",
        "- 'min_samples_split': [2, 5, 10],\n",
        "- 'min_samples_leaf': [1, 2, 4]"
      ],
      "metadata": {
        "id": "GjGxjGVpk0lL"
      }
    },
    {
      "cell_type": "code",
      "source": [
        "from itertools import product\n",
        "from sklearn import datasets\n",
        "from sklearn.model_selection import train_test_split\n",
        "from sklearn.ensemble import RandomForestClassifier\n",
        "from sklearn.metrics import accuracy_score, classification_report\n",
        "from sklearn.preprocessing import StandardScaler\n",
        "\n",
        "# 데이터 로드\n",
        "cancer = datasets.load_breast_cancer()\n",
        "X, y = cancer.data, cancer.target\n",
        "X_train, X_test, y_train, y_test = train_test_split(X, y, test_size=0.3, random_state=42)\n",
        "\n",
        "# 데이터 스케일링\n",
        "scaler = StandardScaler()\n",
        "X_train = scaler.fit_transform(X_train)\n",
        "X_test = scaler.transform(X_test)\n",
        "\n",
        "# 하이퍼파라미터 리스트\n",
        "hyperparameters = {\n",
        "    'n_estimators': [50, 100, 200],\n",
        "    'max_depth': [None, 10, 20],\n",
        "    'max_features': ['auto', 'sqrt', 'log2'],\n",
        "    'min_samples_split': [2, 5, 10],\n",
        "    'min_samples_leaf': [1, 2, 4]\n",
        "}\n",
        "\n",
        "# 하이퍼파라미터 조합 생성\n",
        "keys, values = zip(*hyperparameters.items())\n",
        "hyperparameter_combinations = [dict(zip(keys, v)) for v in product(*values)]\n",
        "\n",
        "# 각 하이퍼파라미터 세트에 대해 모델 훈련 및 평가\n",
        "best_score = 0\n",
        "best_params = None\n",
        "best_report = None\n",
        "\n",
        "for params in hyperparameter_combinations:\n",
        "    print(f\"Training with parameters: {params}\")\n",
        "    model = RandomForestClassifier(**params, random_state=42)\n",
        "    model.fit(X_train, y_train)\n",
        "    y_pred = model.predict(X_test)\n",
        "\n",
        "    score = accuracy_score(y_test, y_pred)\n",
        "    report = classification_report(y_test, y_pred, output_dict=True)\n",
        "\n",
        "    print(f\"Accuracy: {score:.4f}\")\n",
        "    print(\"Classification Report:\")\n",
        "    print(report)\n",
        "    print(\"\\n\" + \"=\"*60 + \"\\n\")\n",
        "\n",
        "#     if score > best_score:\n",
        "#         best_score = score\n",
        "#         best_params = params\n",
        "#         best_report = report\n",
        "\n",
        "# print(f\"Best Parameters: {best_params}\")\n",
        "# print(f\"Best Accuracy: {best_score:.4f}\")\n",
        "# print(\"Best Classification Report:\")\n",
        "# print(best_report)\n"
      ],
      "metadata": {
        "colab": {
          "base_uri": "https://localhost:8080/"
        },
        "id": "Ug8QD6W3dOJT",
        "outputId": "a2a11ffd-ac07-46d3-ae28-16099e7eefdd"
      },
      "execution_count": 1,
      "outputs": [
        {
          "output_type": "stream",
          "name": "stdout",
          "text": [
            "Training with parameters: {'n_estimators': 50, 'max_depth': None, 'max_features': 'auto', 'min_samples_split': 2, 'min_samples_leaf': 1}\n"
          ]
        },
        {
          "output_type": "stream",
          "name": "stderr",
          "text": [
            "/usr/local/lib/python3.10/dist-packages/sklearn/ensemble/_forest.py:424: FutureWarning: `max_features='auto'` has been deprecated in 1.1 and will be removed in 1.3. To keep the past behaviour, explicitly set `max_features='sqrt'` or remove this parameter as it is also the default value for RandomForestClassifiers and ExtraTreesClassifiers.\n",
            "  warn(\n"
          ]
        },
        {
          "output_type": "stream",
          "name": "stdout",
          "text": [
            "Accuracy: 0.9708\n",
            "Classification Report:\n",
            "{'0': {'precision': 0.9833333333333333, 'recall': 0.9365079365079365, 'f1-score': 0.9593495934959351, 'support': 63}, '1': {'precision': 0.963963963963964, 'recall': 0.9907407407407407, 'f1-score': 0.9771689497716894, 'support': 108}, 'accuracy': 0.9707602339181286, 'macro avg': {'precision': 0.9736486486486486, 'recall': 0.9636243386243386, 'f1-score': 0.9682592716338123, 'support': 171}, 'weighted avg': {'precision': 0.9711000474158369, 'recall': 0.9707602339181286, 'f1-score': 0.970603923775359, 'support': 171}}\n",
            "\n",
            "============================================================\n",
            "\n",
            "Training with parameters: {'n_estimators': 50, 'max_depth': None, 'max_features': 'auto', 'min_samples_split': 2, 'min_samples_leaf': 2}\n"
          ]
        },
        {
          "output_type": "stream",
          "name": "stderr",
          "text": [
            "/usr/local/lib/python3.10/dist-packages/sklearn/ensemble/_forest.py:424: FutureWarning: `max_features='auto'` has been deprecated in 1.1 and will be removed in 1.3. To keep the past behaviour, explicitly set `max_features='sqrt'` or remove this parameter as it is also the default value for RandomForestClassifiers and ExtraTreesClassifiers.\n",
            "  warn(\n"
          ]
        },
        {
          "output_type": "stream",
          "name": "stdout",
          "text": [
            "Accuracy: 0.9591\n",
            "Classification Report:\n",
            "{'0': {'precision': 0.9666666666666667, 'recall': 0.9206349206349206, 'f1-score': 0.943089430894309, 'support': 63}, '1': {'precision': 0.954954954954955, 'recall': 0.9814814814814815, 'f1-score': 0.9680365296803655, 'support': 108}, 'accuracy': 0.9590643274853801, 'macro avg': {'precision': 0.9608108108108109, 'recall': 0.951058201058201, 'f1-score': 0.9555629802873372, 'support': 171}, 'weighted avg': {'precision': 0.9592697961119013, 'recall': 0.9590643274853801, 'f1-score': 0.9588454932855025, 'support': 171}}\n",
            "\n",
            "============================================================\n",
            "\n",
            "Training with parameters: {'n_estimators': 50, 'max_depth': None, 'max_features': 'auto', 'min_samples_split': 2, 'min_samples_leaf': 4}\n"
          ]
        },
        {
          "output_type": "stream",
          "name": "stderr",
          "text": [
            "/usr/local/lib/python3.10/dist-packages/sklearn/ensemble/_forest.py:424: FutureWarning: `max_features='auto'` has been deprecated in 1.1 and will be removed in 1.3. To keep the past behaviour, explicitly set `max_features='sqrt'` or remove this parameter as it is also the default value for RandomForestClassifiers and ExtraTreesClassifiers.\n",
            "  warn(\n"
          ]
        },
        {
          "output_type": "stream",
          "name": "stdout",
          "text": [
            "Accuracy: 0.9708\n",
            "Classification Report:\n",
            "{'0': {'precision': 0.9833333333333333, 'recall': 0.9365079365079365, 'f1-score': 0.9593495934959351, 'support': 63}, '1': {'precision': 0.963963963963964, 'recall': 0.9907407407407407, 'f1-score': 0.9771689497716894, 'support': 108}, 'accuracy': 0.9707602339181286, 'macro avg': {'precision': 0.9736486486486486, 'recall': 0.9636243386243386, 'f1-score': 0.9682592716338123, 'support': 171}, 'weighted avg': {'precision': 0.9711000474158369, 'recall': 0.9707602339181286, 'f1-score': 0.970603923775359, 'support': 171}}\n",
            "\n",
            "============================================================\n",
            "\n",
            "Training with parameters: {'n_estimators': 50, 'max_depth': None, 'max_features': 'auto', 'min_samples_split': 5, 'min_samples_leaf': 1}\n"
          ]
        },
        {
          "output_type": "stream",
          "name": "stderr",
          "text": [
            "/usr/local/lib/python3.10/dist-packages/sklearn/ensemble/_forest.py:424: FutureWarning: `max_features='auto'` has been deprecated in 1.1 and will be removed in 1.3. To keep the past behaviour, explicitly set `max_features='sqrt'` or remove this parameter as it is also the default value for RandomForestClassifiers and ExtraTreesClassifiers.\n",
            "  warn(\n"
          ]
        },
        {
          "output_type": "stream",
          "name": "stdout",
          "text": [
            "Accuracy: 0.9649\n",
            "Classification Report:\n",
            "{'0': {'precision': 0.9672131147540983, 'recall': 0.9365079365079365, 'f1-score': 0.9516129032258064, 'support': 63}, '1': {'precision': 0.9636363636363636, 'recall': 0.9814814814814815, 'f1-score': 0.9724770642201834, 'support': 108}, 'accuracy': 0.9649122807017544, 'macro avg': {'precision': 0.965424739195231, 'recall': 0.9589947089947091, 'f1-score': 0.962044983722995, 'support': 171}, 'weighted avg': {'precision': 0.9649541140481607, 'recall': 0.9649122807017544, 'f1-score': 0.9647902680643603, 'support': 171}}\n",
            "\n",
            "============================================================\n",
            "\n",
            "Training with parameters: {'n_estimators': 50, 'max_depth': None, 'max_features': 'auto', 'min_samples_split': 5, 'min_samples_leaf': 2}\n"
          ]
        },
        {
          "output_type": "stream",
          "name": "stderr",
          "text": [
            "/usr/local/lib/python3.10/dist-packages/sklearn/ensemble/_forest.py:424: FutureWarning: `max_features='auto'` has been deprecated in 1.1 and will be removed in 1.3. To keep the past behaviour, explicitly set `max_features='sqrt'` or remove this parameter as it is also the default value for RandomForestClassifiers and ExtraTreesClassifiers.\n",
            "  warn(\n"
          ]
        },
        {
          "output_type": "stream",
          "name": "stdout",
          "text": [
            "Accuracy: 0.9649\n",
            "Classification Report:\n",
            "{'0': {'precision': 0.9672131147540983, 'recall': 0.9365079365079365, 'f1-score': 0.9516129032258064, 'support': 63}, '1': {'precision': 0.9636363636363636, 'recall': 0.9814814814814815, 'f1-score': 0.9724770642201834, 'support': 108}, 'accuracy': 0.9649122807017544, 'macro avg': {'precision': 0.965424739195231, 'recall': 0.9589947089947091, 'f1-score': 0.962044983722995, 'support': 171}, 'weighted avg': {'precision': 0.9649541140481607, 'recall': 0.9649122807017544, 'f1-score': 0.9647902680643603, 'support': 171}}\n",
            "\n",
            "============================================================\n",
            "\n",
            "Training with parameters: {'n_estimators': 50, 'max_depth': None, 'max_features': 'auto', 'min_samples_split': 5, 'min_samples_leaf': 4}\n"
          ]
        },
        {
          "output_type": "stream",
          "name": "stderr",
          "text": [
            "/usr/local/lib/python3.10/dist-packages/sklearn/ensemble/_forest.py:424: FutureWarning: `max_features='auto'` has been deprecated in 1.1 and will be removed in 1.3. To keep the past behaviour, explicitly set `max_features='sqrt'` or remove this parameter as it is also the default value for RandomForestClassifiers and ExtraTreesClassifiers.\n",
            "  warn(\n"
          ]
        },
        {
          "output_type": "stream",
          "name": "stdout",
          "text": [
            "Accuracy: 0.9708\n",
            "Classification Report:\n",
            "{'0': {'precision': 0.9833333333333333, 'recall': 0.9365079365079365, 'f1-score': 0.9593495934959351, 'support': 63}, '1': {'precision': 0.963963963963964, 'recall': 0.9907407407407407, 'f1-score': 0.9771689497716894, 'support': 108}, 'accuracy': 0.9707602339181286, 'macro avg': {'precision': 0.9736486486486486, 'recall': 0.9636243386243386, 'f1-score': 0.9682592716338123, 'support': 171}, 'weighted avg': {'precision': 0.9711000474158369, 'recall': 0.9707602339181286, 'f1-score': 0.970603923775359, 'support': 171}}\n",
            "\n",
            "============================================================\n",
            "\n",
            "Training with parameters: {'n_estimators': 50, 'max_depth': None, 'max_features': 'auto', 'min_samples_split': 10, 'min_samples_leaf': 1}\n"
          ]
        },
        {
          "output_type": "stream",
          "name": "stderr",
          "text": [
            "/usr/local/lib/python3.10/dist-packages/sklearn/ensemble/_forest.py:424: FutureWarning: `max_features='auto'` has been deprecated in 1.1 and will be removed in 1.3. To keep the past behaviour, explicitly set `max_features='sqrt'` or remove this parameter as it is also the default value for RandomForestClassifiers and ExtraTreesClassifiers.\n",
            "  warn(\n"
          ]
        },
        {
          "output_type": "stream",
          "name": "stdout",
          "text": [
            "Accuracy: 0.9649\n",
            "Classification Report:\n",
            "{'0': {'precision': 0.9672131147540983, 'recall': 0.9365079365079365, 'f1-score': 0.9516129032258064, 'support': 63}, '1': {'precision': 0.9636363636363636, 'recall': 0.9814814814814815, 'f1-score': 0.9724770642201834, 'support': 108}, 'accuracy': 0.9649122807017544, 'macro avg': {'precision': 0.965424739195231, 'recall': 0.9589947089947091, 'f1-score': 0.962044983722995, 'support': 171}, 'weighted avg': {'precision': 0.9649541140481607, 'recall': 0.9649122807017544, 'f1-score': 0.9647902680643603, 'support': 171}}\n",
            "\n",
            "============================================================\n",
            "\n",
            "Training with parameters: {'n_estimators': 50, 'max_depth': None, 'max_features': 'auto', 'min_samples_split': 10, 'min_samples_leaf': 2}\n",
            "Accuracy: 0.9649\n",
            "Classification Report:\n",
            "{'0': {'precision': 0.9672131147540983, 'recall': 0.9365079365079365, 'f1-score': 0.9516129032258064, 'support': 63}, '1': {'precision': 0.9636363636363636, 'recall': 0.9814814814814815, 'f1-score': 0.9724770642201834, 'support': 108}, 'accuracy': 0.9649122807017544, 'macro avg': {'precision': 0.965424739195231, 'recall': 0.9589947089947091, 'f1-score': 0.962044983722995, 'support': 171}, 'weighted avg': {'precision': 0.9649541140481607, 'recall': 0.9649122807017544, 'f1-score': 0.9647902680643603, 'support': 171}}\n",
            "\n",
            "============================================================\n",
            "\n",
            "Training with parameters: {'n_estimators': 50, 'max_depth': None, 'max_features': 'auto', 'min_samples_split': 10, 'min_samples_leaf': 4}\n"
          ]
        },
        {
          "output_type": "stream",
          "name": "stderr",
          "text": [
            "/usr/local/lib/python3.10/dist-packages/sklearn/ensemble/_forest.py:424: FutureWarning: `max_features='auto'` has been deprecated in 1.1 and will be removed in 1.3. To keep the past behaviour, explicitly set `max_features='sqrt'` or remove this parameter as it is also the default value for RandomForestClassifiers and ExtraTreesClassifiers.\n",
            "  warn(\n",
            "/usr/local/lib/python3.10/dist-packages/sklearn/ensemble/_forest.py:424: FutureWarning: `max_features='auto'` has been deprecated in 1.1 and will be removed in 1.3. To keep the past behaviour, explicitly set `max_features='sqrt'` or remove this parameter as it is also the default value for RandomForestClassifiers and ExtraTreesClassifiers.\n",
            "  warn(\n"
          ]
        },
        {
          "output_type": "stream",
          "name": "stdout",
          "text": [
            "Accuracy: 0.9649\n",
            "Classification Report:\n",
            "{'0': {'precision': 0.9672131147540983, 'recall': 0.9365079365079365, 'f1-score': 0.9516129032258064, 'support': 63}, '1': {'precision': 0.9636363636363636, 'recall': 0.9814814814814815, 'f1-score': 0.9724770642201834, 'support': 108}, 'accuracy': 0.9649122807017544, 'macro avg': {'precision': 0.965424739195231, 'recall': 0.9589947089947091, 'f1-score': 0.962044983722995, 'support': 171}, 'weighted avg': {'precision': 0.9649541140481607, 'recall': 0.9649122807017544, 'f1-score': 0.9647902680643603, 'support': 171}}\n",
            "\n",
            "============================================================\n",
            "\n",
            "Training with parameters: {'n_estimators': 50, 'max_depth': None, 'max_features': 'sqrt', 'min_samples_split': 2, 'min_samples_leaf': 1}\n",
            "Accuracy: 0.9708\n",
            "Classification Report:\n",
            "{'0': {'precision': 0.9833333333333333, 'recall': 0.9365079365079365, 'f1-score': 0.9593495934959351, 'support': 63}, '1': {'precision': 0.963963963963964, 'recall': 0.9907407407407407, 'f1-score': 0.9771689497716894, 'support': 108}, 'accuracy': 0.9707602339181286, 'macro avg': {'precision': 0.9736486486486486, 'recall': 0.9636243386243386, 'f1-score': 0.9682592716338123, 'support': 171}, 'weighted avg': {'precision': 0.9711000474158369, 'recall': 0.9707602339181286, 'f1-score': 0.970603923775359, 'support': 171}}\n",
            "\n",
            "============================================================\n",
            "\n",
            "Training with parameters: {'n_estimators': 50, 'max_depth': None, 'max_features': 'sqrt', 'min_samples_split': 2, 'min_samples_leaf': 2}\n",
            "Accuracy: 0.9591\n",
            "Classification Report:\n",
            "{'0': {'precision': 0.9666666666666667, 'recall': 0.9206349206349206, 'f1-score': 0.943089430894309, 'support': 63}, '1': {'precision': 0.954954954954955, 'recall': 0.9814814814814815, 'f1-score': 0.9680365296803655, 'support': 108}, 'accuracy': 0.9590643274853801, 'macro avg': {'precision': 0.9608108108108109, 'recall': 0.951058201058201, 'f1-score': 0.9555629802873372, 'support': 171}, 'weighted avg': {'precision': 0.9592697961119013, 'recall': 0.9590643274853801, 'f1-score': 0.9588454932855025, 'support': 171}}\n",
            "\n",
            "============================================================\n",
            "\n",
            "Training with parameters: {'n_estimators': 50, 'max_depth': None, 'max_features': 'sqrt', 'min_samples_split': 2, 'min_samples_leaf': 4}\n",
            "Accuracy: 0.9708\n",
            "Classification Report:\n",
            "{'0': {'precision': 0.9833333333333333, 'recall': 0.9365079365079365, 'f1-score': 0.9593495934959351, 'support': 63}, '1': {'precision': 0.963963963963964, 'recall': 0.9907407407407407, 'f1-score': 0.9771689497716894, 'support': 108}, 'accuracy': 0.9707602339181286, 'macro avg': {'precision': 0.9736486486486486, 'recall': 0.9636243386243386, 'f1-score': 0.9682592716338123, 'support': 171}, 'weighted avg': {'precision': 0.9711000474158369, 'recall': 0.9707602339181286, 'f1-score': 0.970603923775359, 'support': 171}}\n",
            "\n",
            "============================================================\n",
            "\n",
            "Training with parameters: {'n_estimators': 50, 'max_depth': None, 'max_features': 'sqrt', 'min_samples_split': 5, 'min_samples_leaf': 1}\n",
            "Accuracy: 0.9649\n",
            "Classification Report:\n",
            "{'0': {'precision': 0.9672131147540983, 'recall': 0.9365079365079365, 'f1-score': 0.9516129032258064, 'support': 63}, '1': {'precision': 0.9636363636363636, 'recall': 0.9814814814814815, 'f1-score': 0.9724770642201834, 'support': 108}, 'accuracy': 0.9649122807017544, 'macro avg': {'precision': 0.965424739195231, 'recall': 0.9589947089947091, 'f1-score': 0.962044983722995, 'support': 171}, 'weighted avg': {'precision': 0.9649541140481607, 'recall': 0.9649122807017544, 'f1-score': 0.9647902680643603, 'support': 171}}\n",
            "\n",
            "============================================================\n",
            "\n",
            "Training with parameters: {'n_estimators': 50, 'max_depth': None, 'max_features': 'sqrt', 'min_samples_split': 5, 'min_samples_leaf': 2}\n",
            "Accuracy: 0.9649\n",
            "Classification Report:\n",
            "{'0': {'precision': 0.9672131147540983, 'recall': 0.9365079365079365, 'f1-score': 0.9516129032258064, 'support': 63}, '1': {'precision': 0.9636363636363636, 'recall': 0.9814814814814815, 'f1-score': 0.9724770642201834, 'support': 108}, 'accuracy': 0.9649122807017544, 'macro avg': {'precision': 0.965424739195231, 'recall': 0.9589947089947091, 'f1-score': 0.962044983722995, 'support': 171}, 'weighted avg': {'precision': 0.9649541140481607, 'recall': 0.9649122807017544, 'f1-score': 0.9647902680643603, 'support': 171}}\n",
            "\n",
            "============================================================\n",
            "\n",
            "Training with parameters: {'n_estimators': 50, 'max_depth': None, 'max_features': 'sqrt', 'min_samples_split': 5, 'min_samples_leaf': 4}\n",
            "Accuracy: 0.9708\n",
            "Classification Report:\n",
            "{'0': {'precision': 0.9833333333333333, 'recall': 0.9365079365079365, 'f1-score': 0.9593495934959351, 'support': 63}, '1': {'precision': 0.963963963963964, 'recall': 0.9907407407407407, 'f1-score': 0.9771689497716894, 'support': 108}, 'accuracy': 0.9707602339181286, 'macro avg': {'precision': 0.9736486486486486, 'recall': 0.9636243386243386, 'f1-score': 0.9682592716338123, 'support': 171}, 'weighted avg': {'precision': 0.9711000474158369, 'recall': 0.9707602339181286, 'f1-score': 0.970603923775359, 'support': 171}}\n",
            "\n",
            "============================================================\n",
            "\n",
            "Training with parameters: {'n_estimators': 50, 'max_depth': None, 'max_features': 'sqrt', 'min_samples_split': 10, 'min_samples_leaf': 1}\n",
            "Accuracy: 0.9649\n",
            "Classification Report:\n",
            "{'0': {'precision': 0.9672131147540983, 'recall': 0.9365079365079365, 'f1-score': 0.9516129032258064, 'support': 63}, '1': {'precision': 0.9636363636363636, 'recall': 0.9814814814814815, 'f1-score': 0.9724770642201834, 'support': 108}, 'accuracy': 0.9649122807017544, 'macro avg': {'precision': 0.965424739195231, 'recall': 0.9589947089947091, 'f1-score': 0.962044983722995, 'support': 171}, 'weighted avg': {'precision': 0.9649541140481607, 'recall': 0.9649122807017544, 'f1-score': 0.9647902680643603, 'support': 171}}\n",
            "\n",
            "============================================================\n",
            "\n",
            "Training with parameters: {'n_estimators': 50, 'max_depth': None, 'max_features': 'sqrt', 'min_samples_split': 10, 'min_samples_leaf': 2}\n",
            "Accuracy: 0.9649\n",
            "Classification Report:\n",
            "{'0': {'precision': 0.9672131147540983, 'recall': 0.9365079365079365, 'f1-score': 0.9516129032258064, 'support': 63}, '1': {'precision': 0.9636363636363636, 'recall': 0.9814814814814815, 'f1-score': 0.9724770642201834, 'support': 108}, 'accuracy': 0.9649122807017544, 'macro avg': {'precision': 0.965424739195231, 'recall': 0.9589947089947091, 'f1-score': 0.962044983722995, 'support': 171}, 'weighted avg': {'precision': 0.9649541140481607, 'recall': 0.9649122807017544, 'f1-score': 0.9647902680643603, 'support': 171}}\n",
            "\n",
            "============================================================\n",
            "\n",
            "Training with parameters: {'n_estimators': 50, 'max_depth': None, 'max_features': 'sqrt', 'min_samples_split': 10, 'min_samples_leaf': 4}\n",
            "Accuracy: 0.9649\n",
            "Classification Report:\n",
            "{'0': {'precision': 0.9672131147540983, 'recall': 0.9365079365079365, 'f1-score': 0.9516129032258064, 'support': 63}, '1': {'precision': 0.9636363636363636, 'recall': 0.9814814814814815, 'f1-score': 0.9724770642201834, 'support': 108}, 'accuracy': 0.9649122807017544, 'macro avg': {'precision': 0.965424739195231, 'recall': 0.9589947089947091, 'f1-score': 0.962044983722995, 'support': 171}, 'weighted avg': {'precision': 0.9649541140481607, 'recall': 0.9649122807017544, 'f1-score': 0.9647902680643603, 'support': 171}}\n",
            "\n",
            "============================================================\n",
            "\n",
            "Training with parameters: {'n_estimators': 50, 'max_depth': None, 'max_features': 'log2', 'min_samples_split': 2, 'min_samples_leaf': 1}\n",
            "Accuracy: 0.9708\n",
            "Classification Report:\n",
            "{'0': {'precision': 0.967741935483871, 'recall': 0.9523809523809523, 'f1-score': 0.96, 'support': 63}, '1': {'precision': 0.9724770642201835, 'recall': 0.9814814814814815, 'f1-score': 0.9769585253456222, 'support': 108}, 'accuracy': 0.9707602339181286, 'macro avg': {'precision': 0.9701094998520272, 'recall': 0.966931216931217, 'f1-score': 0.9684792626728111, 'support': 171}, 'weighted avg': {'precision': 0.9707325431068053, 'recall': 0.9707602339181286, 'f1-score': 0.9707106475867088, 'support': 171}}\n",
            "\n",
            "============================================================\n",
            "\n",
            "Training with parameters: {'n_estimators': 50, 'max_depth': None, 'max_features': 'log2', 'min_samples_split': 2, 'min_samples_leaf': 2}\n",
            "Accuracy: 0.9766\n",
            "Classification Report:\n",
            "{'0': {'precision': 0.9836065573770492, 'recall': 0.9523809523809523, 'f1-score': 0.9677419354838709, 'support': 63}, '1': {'precision': 0.9727272727272728, 'recall': 0.9907407407407407, 'f1-score': 0.981651376146789, 'support': 108}, 'accuracy': 0.9766081871345029, 'macro avg': {'precision': 0.978166915052161, 'recall': 0.9715608465608465, 'f1-score': 0.9746966558153299, 'support': 171}, 'weighted avg': {'precision': 0.9767354302298219, 'recall': 0.9766081871345029, 'f1-score': 0.9765268453762402, 'support': 171}}\n",
            "\n",
            "============================================================\n",
            "\n",
            "Training with parameters: {'n_estimators': 50, 'max_depth': None, 'max_features': 'log2', 'min_samples_split': 2, 'min_samples_leaf': 4}\n",
            "Accuracy: 0.9708\n",
            "Classification Report:\n",
            "{'0': {'precision': 0.9833333333333333, 'recall': 0.9365079365079365, 'f1-score': 0.9593495934959351, 'support': 63}, '1': {'precision': 0.963963963963964, 'recall': 0.9907407407407407, 'f1-score': 0.9771689497716894, 'support': 108}, 'accuracy': 0.9707602339181286, 'macro avg': {'precision': 0.9736486486486486, 'recall': 0.9636243386243386, 'f1-score': 0.9682592716338123, 'support': 171}, 'weighted avg': {'precision': 0.9711000474158369, 'recall': 0.9707602339181286, 'f1-score': 0.970603923775359, 'support': 171}}\n",
            "\n",
            "============================================================\n",
            "\n",
            "Training with parameters: {'n_estimators': 50, 'max_depth': None, 'max_features': 'log2', 'min_samples_split': 5, 'min_samples_leaf': 1}\n",
            "Accuracy: 0.9708\n",
            "Classification Report:\n",
            "{'0': {'precision': 0.9833333333333333, 'recall': 0.9365079365079365, 'f1-score': 0.9593495934959351, 'support': 63}, '1': {'precision': 0.963963963963964, 'recall': 0.9907407407407407, 'f1-score': 0.9771689497716894, 'support': 108}, 'accuracy': 0.9707602339181286, 'macro avg': {'precision': 0.9736486486486486, 'recall': 0.9636243386243386, 'f1-score': 0.9682592716338123, 'support': 171}, 'weighted avg': {'precision': 0.9711000474158369, 'recall': 0.9707602339181286, 'f1-score': 0.970603923775359, 'support': 171}}\n",
            "\n",
            "============================================================\n",
            "\n",
            "Training with parameters: {'n_estimators': 50, 'max_depth': None, 'max_features': 'log2', 'min_samples_split': 5, 'min_samples_leaf': 2}\n",
            "Accuracy: 0.9708\n",
            "Classification Report:\n",
            "{'0': {'precision': 0.9833333333333333, 'recall': 0.9365079365079365, 'f1-score': 0.9593495934959351, 'support': 63}, '1': {'precision': 0.963963963963964, 'recall': 0.9907407407407407, 'f1-score': 0.9771689497716894, 'support': 108}, 'accuracy': 0.9707602339181286, 'macro avg': {'precision': 0.9736486486486486, 'recall': 0.9636243386243386, 'f1-score': 0.9682592716338123, 'support': 171}, 'weighted avg': {'precision': 0.9711000474158369, 'recall': 0.9707602339181286, 'f1-score': 0.970603923775359, 'support': 171}}\n",
            "\n",
            "============================================================\n",
            "\n",
            "Training with parameters: {'n_estimators': 50, 'max_depth': None, 'max_features': 'log2', 'min_samples_split': 5, 'min_samples_leaf': 4}\n",
            "Accuracy: 0.9708\n",
            "Classification Report:\n",
            "{'0': {'precision': 0.9833333333333333, 'recall': 0.9365079365079365, 'f1-score': 0.9593495934959351, 'support': 63}, '1': {'precision': 0.963963963963964, 'recall': 0.9907407407407407, 'f1-score': 0.9771689497716894, 'support': 108}, 'accuracy': 0.9707602339181286, 'macro avg': {'precision': 0.9736486486486486, 'recall': 0.9636243386243386, 'f1-score': 0.9682592716338123, 'support': 171}, 'weighted avg': {'precision': 0.9711000474158369, 'recall': 0.9707602339181286, 'f1-score': 0.970603923775359, 'support': 171}}\n",
            "\n",
            "============================================================\n",
            "\n",
            "Training with parameters: {'n_estimators': 50, 'max_depth': None, 'max_features': 'log2', 'min_samples_split': 10, 'min_samples_leaf': 1}\n",
            "Accuracy: 0.9649\n",
            "Classification Report:\n",
            "{'0': {'precision': 0.9830508474576272, 'recall': 0.9206349206349206, 'f1-score': 0.9508196721311476, 'support': 63}, '1': {'precision': 0.9553571428571429, 'recall': 0.9907407407407407, 'f1-score': 0.9727272727272727, 'support': 108}, 'accuracy': 0.9649122807017544, 'macro avg': {'precision': 0.969203995157385, 'recall': 0.9556878306878307, 'f1-score': 0.9617734724292102, 'support': 171}, 'weighted avg': {'precision': 0.9655600866573213, 'recall': 0.9649122807017544, 'f1-score': 0.9646560514550161, 'support': 171}}\n",
            "\n",
            "============================================================\n",
            "\n",
            "Training with parameters: {'n_estimators': 50, 'max_depth': None, 'max_features': 'log2', 'min_samples_split': 10, 'min_samples_leaf': 2}\n",
            "Accuracy: 0.9649\n",
            "Classification Report:\n",
            "{'0': {'precision': 0.9830508474576272, 'recall': 0.9206349206349206, 'f1-score': 0.9508196721311476, 'support': 63}, '1': {'precision': 0.9553571428571429, 'recall': 0.9907407407407407, 'f1-score': 0.9727272727272727, 'support': 108}, 'accuracy': 0.9649122807017544, 'macro avg': {'precision': 0.969203995157385, 'recall': 0.9556878306878307, 'f1-score': 0.9617734724292102, 'support': 171}, 'weighted avg': {'precision': 0.9655600866573213, 'recall': 0.9649122807017544, 'f1-score': 0.9646560514550161, 'support': 171}}\n",
            "\n",
            "============================================================\n",
            "\n",
            "Training with parameters: {'n_estimators': 50, 'max_depth': None, 'max_features': 'log2', 'min_samples_split': 10, 'min_samples_leaf': 4}\n",
            "Accuracy: 0.9649\n",
            "Classification Report:\n",
            "{'0': {'precision': 0.9830508474576272, 'recall': 0.9206349206349206, 'f1-score': 0.9508196721311476, 'support': 63}, '1': {'precision': 0.9553571428571429, 'recall': 0.9907407407407407, 'f1-score': 0.9727272727272727, 'support': 108}, 'accuracy': 0.9649122807017544, 'macro avg': {'precision': 0.969203995157385, 'recall': 0.9556878306878307, 'f1-score': 0.9617734724292102, 'support': 171}, 'weighted avg': {'precision': 0.9655600866573213, 'recall': 0.9649122807017544, 'f1-score': 0.9646560514550161, 'support': 171}}\n",
            "\n",
            "============================================================\n",
            "\n",
            "Training with parameters: {'n_estimators': 50, 'max_depth': 10, 'max_features': 'auto', 'min_samples_split': 2, 'min_samples_leaf': 1}\n"
          ]
        },
        {
          "output_type": "stream",
          "name": "stderr",
          "text": [
            "/usr/local/lib/python3.10/dist-packages/sklearn/ensemble/_forest.py:424: FutureWarning: `max_features='auto'` has been deprecated in 1.1 and will be removed in 1.3. To keep the past behaviour, explicitly set `max_features='sqrt'` or remove this parameter as it is also the default value for RandomForestClassifiers and ExtraTreesClassifiers.\n",
            "  warn(\n"
          ]
        },
        {
          "output_type": "stream",
          "name": "stdout",
          "text": [
            "Accuracy: 0.9708\n",
            "Classification Report:\n",
            "{'0': {'precision': 0.9833333333333333, 'recall': 0.9365079365079365, 'f1-score': 0.9593495934959351, 'support': 63}, '1': {'precision': 0.963963963963964, 'recall': 0.9907407407407407, 'f1-score': 0.9771689497716894, 'support': 108}, 'accuracy': 0.9707602339181286, 'macro avg': {'precision': 0.9736486486486486, 'recall': 0.9636243386243386, 'f1-score': 0.9682592716338123, 'support': 171}, 'weighted avg': {'precision': 0.9711000474158369, 'recall': 0.9707602339181286, 'f1-score': 0.970603923775359, 'support': 171}}\n",
            "\n",
            "============================================================\n",
            "\n",
            "Training with parameters: {'n_estimators': 50, 'max_depth': 10, 'max_features': 'auto', 'min_samples_split': 2, 'min_samples_leaf': 2}\n"
          ]
        },
        {
          "output_type": "stream",
          "name": "stderr",
          "text": [
            "/usr/local/lib/python3.10/dist-packages/sklearn/ensemble/_forest.py:424: FutureWarning: `max_features='auto'` has been deprecated in 1.1 and will be removed in 1.3. To keep the past behaviour, explicitly set `max_features='sqrt'` or remove this parameter as it is also the default value for RandomForestClassifiers and ExtraTreesClassifiers.\n",
            "  warn(\n"
          ]
        },
        {
          "output_type": "stream",
          "name": "stdout",
          "text": [
            "Accuracy: 0.9591\n",
            "Classification Report:\n",
            "{'0': {'precision': 0.9666666666666667, 'recall': 0.9206349206349206, 'f1-score': 0.943089430894309, 'support': 63}, '1': {'precision': 0.954954954954955, 'recall': 0.9814814814814815, 'f1-score': 0.9680365296803655, 'support': 108}, 'accuracy': 0.9590643274853801, 'macro avg': {'precision': 0.9608108108108109, 'recall': 0.951058201058201, 'f1-score': 0.9555629802873372, 'support': 171}, 'weighted avg': {'precision': 0.9592697961119013, 'recall': 0.9590643274853801, 'f1-score': 0.9588454932855025, 'support': 171}}\n",
            "\n",
            "============================================================\n",
            "\n",
            "Training with parameters: {'n_estimators': 50, 'max_depth': 10, 'max_features': 'auto', 'min_samples_split': 2, 'min_samples_leaf': 4}\n"
          ]
        },
        {
          "output_type": "stream",
          "name": "stderr",
          "text": [
            "/usr/local/lib/python3.10/dist-packages/sklearn/ensemble/_forest.py:424: FutureWarning: `max_features='auto'` has been deprecated in 1.1 and will be removed in 1.3. To keep the past behaviour, explicitly set `max_features='sqrt'` or remove this parameter as it is also the default value for RandomForestClassifiers and ExtraTreesClassifiers.\n",
            "  warn(\n"
          ]
        },
        {
          "output_type": "stream",
          "name": "stdout",
          "text": [
            "Accuracy: 0.9708\n",
            "Classification Report:\n",
            "{'0': {'precision': 0.9833333333333333, 'recall': 0.9365079365079365, 'f1-score': 0.9593495934959351, 'support': 63}, '1': {'precision': 0.963963963963964, 'recall': 0.9907407407407407, 'f1-score': 0.9771689497716894, 'support': 108}, 'accuracy': 0.9707602339181286, 'macro avg': {'precision': 0.9736486486486486, 'recall': 0.9636243386243386, 'f1-score': 0.9682592716338123, 'support': 171}, 'weighted avg': {'precision': 0.9711000474158369, 'recall': 0.9707602339181286, 'f1-score': 0.970603923775359, 'support': 171}}\n",
            "\n",
            "============================================================\n",
            "\n",
            "Training with parameters: {'n_estimators': 50, 'max_depth': 10, 'max_features': 'auto', 'min_samples_split': 5, 'min_samples_leaf': 1}\n"
          ]
        },
        {
          "output_type": "stream",
          "name": "stderr",
          "text": [
            "/usr/local/lib/python3.10/dist-packages/sklearn/ensemble/_forest.py:424: FutureWarning: `max_features='auto'` has been deprecated in 1.1 and will be removed in 1.3. To keep the past behaviour, explicitly set `max_features='sqrt'` or remove this parameter as it is also the default value for RandomForestClassifiers and ExtraTreesClassifiers.\n",
            "  warn(\n"
          ]
        },
        {
          "output_type": "stream",
          "name": "stdout",
          "text": [
            "Accuracy: 0.9649\n",
            "Classification Report:\n",
            "{'0': {'precision': 0.9672131147540983, 'recall': 0.9365079365079365, 'f1-score': 0.9516129032258064, 'support': 63}, '1': {'precision': 0.9636363636363636, 'recall': 0.9814814814814815, 'f1-score': 0.9724770642201834, 'support': 108}, 'accuracy': 0.9649122807017544, 'macro avg': {'precision': 0.965424739195231, 'recall': 0.9589947089947091, 'f1-score': 0.962044983722995, 'support': 171}, 'weighted avg': {'precision': 0.9649541140481607, 'recall': 0.9649122807017544, 'f1-score': 0.9647902680643603, 'support': 171}}\n",
            "\n",
            "============================================================\n",
            "\n",
            "Training with parameters: {'n_estimators': 50, 'max_depth': 10, 'max_features': 'auto', 'min_samples_split': 5, 'min_samples_leaf': 2}\n"
          ]
        },
        {
          "output_type": "stream",
          "name": "stderr",
          "text": [
            "/usr/local/lib/python3.10/dist-packages/sklearn/ensemble/_forest.py:424: FutureWarning: `max_features='auto'` has been deprecated in 1.1 and will be removed in 1.3. To keep the past behaviour, explicitly set `max_features='sqrt'` or remove this parameter as it is also the default value for RandomForestClassifiers and ExtraTreesClassifiers.\n",
            "  warn(\n"
          ]
        },
        {
          "output_type": "stream",
          "name": "stdout",
          "text": [
            "Accuracy: 0.9649\n",
            "Classification Report:\n",
            "{'0': {'precision': 0.9672131147540983, 'recall': 0.9365079365079365, 'f1-score': 0.9516129032258064, 'support': 63}, '1': {'precision': 0.9636363636363636, 'recall': 0.9814814814814815, 'f1-score': 0.9724770642201834, 'support': 108}, 'accuracy': 0.9649122807017544, 'macro avg': {'precision': 0.965424739195231, 'recall': 0.9589947089947091, 'f1-score': 0.962044983722995, 'support': 171}, 'weighted avg': {'precision': 0.9649541140481607, 'recall': 0.9649122807017544, 'f1-score': 0.9647902680643603, 'support': 171}}\n",
            "\n",
            "============================================================\n",
            "\n",
            "Training with parameters: {'n_estimators': 50, 'max_depth': 10, 'max_features': 'auto', 'min_samples_split': 5, 'min_samples_leaf': 4}\n"
          ]
        },
        {
          "output_type": "stream",
          "name": "stderr",
          "text": [
            "/usr/local/lib/python3.10/dist-packages/sklearn/ensemble/_forest.py:424: FutureWarning: `max_features='auto'` has been deprecated in 1.1 and will be removed in 1.3. To keep the past behaviour, explicitly set `max_features='sqrt'` or remove this parameter as it is also the default value for RandomForestClassifiers and ExtraTreesClassifiers.\n",
            "  warn(\n"
          ]
        },
        {
          "output_type": "stream",
          "name": "stdout",
          "text": [
            "Accuracy: 0.9708\n",
            "Classification Report:\n",
            "{'0': {'precision': 0.9833333333333333, 'recall': 0.9365079365079365, 'f1-score': 0.9593495934959351, 'support': 63}, '1': {'precision': 0.963963963963964, 'recall': 0.9907407407407407, 'f1-score': 0.9771689497716894, 'support': 108}, 'accuracy': 0.9707602339181286, 'macro avg': {'precision': 0.9736486486486486, 'recall': 0.9636243386243386, 'f1-score': 0.9682592716338123, 'support': 171}, 'weighted avg': {'precision': 0.9711000474158369, 'recall': 0.9707602339181286, 'f1-score': 0.970603923775359, 'support': 171}}\n",
            "\n",
            "============================================================\n",
            "\n",
            "Training with parameters: {'n_estimators': 50, 'max_depth': 10, 'max_features': 'auto', 'min_samples_split': 10, 'min_samples_leaf': 1}\n"
          ]
        },
        {
          "output_type": "stream",
          "name": "stderr",
          "text": [
            "/usr/local/lib/python3.10/dist-packages/sklearn/ensemble/_forest.py:424: FutureWarning: `max_features='auto'` has been deprecated in 1.1 and will be removed in 1.3. To keep the past behaviour, explicitly set `max_features='sqrt'` or remove this parameter as it is also the default value for RandomForestClassifiers and ExtraTreesClassifiers.\n",
            "  warn(\n"
          ]
        },
        {
          "output_type": "stream",
          "name": "stdout",
          "text": [
            "Accuracy: 0.9649\n",
            "Classification Report:\n",
            "{'0': {'precision': 0.9672131147540983, 'recall': 0.9365079365079365, 'f1-score': 0.9516129032258064, 'support': 63}, '1': {'precision': 0.9636363636363636, 'recall': 0.9814814814814815, 'f1-score': 0.9724770642201834, 'support': 108}, 'accuracy': 0.9649122807017544, 'macro avg': {'precision': 0.965424739195231, 'recall': 0.9589947089947091, 'f1-score': 0.962044983722995, 'support': 171}, 'weighted avg': {'precision': 0.9649541140481607, 'recall': 0.9649122807017544, 'f1-score': 0.9647902680643603, 'support': 171}}\n",
            "\n",
            "============================================================\n",
            "\n",
            "Training with parameters: {'n_estimators': 50, 'max_depth': 10, 'max_features': 'auto', 'min_samples_split': 10, 'min_samples_leaf': 2}\n"
          ]
        },
        {
          "output_type": "stream",
          "name": "stderr",
          "text": [
            "/usr/local/lib/python3.10/dist-packages/sklearn/ensemble/_forest.py:424: FutureWarning: `max_features='auto'` has been deprecated in 1.1 and will be removed in 1.3. To keep the past behaviour, explicitly set `max_features='sqrt'` or remove this parameter as it is also the default value for RandomForestClassifiers and ExtraTreesClassifiers.\n",
            "  warn(\n"
          ]
        },
        {
          "output_type": "stream",
          "name": "stdout",
          "text": [
            "Accuracy: 0.9649\n",
            "Classification Report:\n",
            "{'0': {'precision': 0.9672131147540983, 'recall': 0.9365079365079365, 'f1-score': 0.9516129032258064, 'support': 63}, '1': {'precision': 0.9636363636363636, 'recall': 0.9814814814814815, 'f1-score': 0.9724770642201834, 'support': 108}, 'accuracy': 0.9649122807017544, 'macro avg': {'precision': 0.965424739195231, 'recall': 0.9589947089947091, 'f1-score': 0.962044983722995, 'support': 171}, 'weighted avg': {'precision': 0.9649541140481607, 'recall': 0.9649122807017544, 'f1-score': 0.9647902680643603, 'support': 171}}\n",
            "\n",
            "============================================================\n",
            "\n",
            "Training with parameters: {'n_estimators': 50, 'max_depth': 10, 'max_features': 'auto', 'min_samples_split': 10, 'min_samples_leaf': 4}\n"
          ]
        },
        {
          "output_type": "stream",
          "name": "stderr",
          "text": [
            "/usr/local/lib/python3.10/dist-packages/sklearn/ensemble/_forest.py:424: FutureWarning: `max_features='auto'` has been deprecated in 1.1 and will be removed in 1.3. To keep the past behaviour, explicitly set `max_features='sqrt'` or remove this parameter as it is also the default value for RandomForestClassifiers and ExtraTreesClassifiers.\n",
            "  warn(\n"
          ]
        },
        {
          "output_type": "stream",
          "name": "stdout",
          "text": [
            "Accuracy: 0.9649\n",
            "Classification Report:\n",
            "{'0': {'precision': 0.9672131147540983, 'recall': 0.9365079365079365, 'f1-score': 0.9516129032258064, 'support': 63}, '1': {'precision': 0.9636363636363636, 'recall': 0.9814814814814815, 'f1-score': 0.9724770642201834, 'support': 108}, 'accuracy': 0.9649122807017544, 'macro avg': {'precision': 0.965424739195231, 'recall': 0.9589947089947091, 'f1-score': 0.962044983722995, 'support': 171}, 'weighted avg': {'precision': 0.9649541140481607, 'recall': 0.9649122807017544, 'f1-score': 0.9647902680643603, 'support': 171}}\n",
            "\n",
            "============================================================\n",
            "\n",
            "Training with parameters: {'n_estimators': 50, 'max_depth': 10, 'max_features': 'sqrt', 'min_samples_split': 2, 'min_samples_leaf': 1}\n",
            "Accuracy: 0.9708\n",
            "Classification Report:\n",
            "{'0': {'precision': 0.9833333333333333, 'recall': 0.9365079365079365, 'f1-score': 0.9593495934959351, 'support': 63}, '1': {'precision': 0.963963963963964, 'recall': 0.9907407407407407, 'f1-score': 0.9771689497716894, 'support': 108}, 'accuracy': 0.9707602339181286, 'macro avg': {'precision': 0.9736486486486486, 'recall': 0.9636243386243386, 'f1-score': 0.9682592716338123, 'support': 171}, 'weighted avg': {'precision': 0.9711000474158369, 'recall': 0.9707602339181286, 'f1-score': 0.970603923775359, 'support': 171}}\n",
            "\n",
            "============================================================\n",
            "\n",
            "Training with parameters: {'n_estimators': 50, 'max_depth': 10, 'max_features': 'sqrt', 'min_samples_split': 2, 'min_samples_leaf': 2}\n",
            "Accuracy: 0.9591\n",
            "Classification Report:\n",
            "{'0': {'precision': 0.9666666666666667, 'recall': 0.9206349206349206, 'f1-score': 0.943089430894309, 'support': 63}, '1': {'precision': 0.954954954954955, 'recall': 0.9814814814814815, 'f1-score': 0.9680365296803655, 'support': 108}, 'accuracy': 0.9590643274853801, 'macro avg': {'precision': 0.9608108108108109, 'recall': 0.951058201058201, 'f1-score': 0.9555629802873372, 'support': 171}, 'weighted avg': {'precision': 0.9592697961119013, 'recall': 0.9590643274853801, 'f1-score': 0.9588454932855025, 'support': 171}}\n",
            "\n",
            "============================================================\n",
            "\n",
            "Training with parameters: {'n_estimators': 50, 'max_depth': 10, 'max_features': 'sqrt', 'min_samples_split': 2, 'min_samples_leaf': 4}\n",
            "Accuracy: 0.9708\n",
            "Classification Report:\n",
            "{'0': {'precision': 0.9833333333333333, 'recall': 0.9365079365079365, 'f1-score': 0.9593495934959351, 'support': 63}, '1': {'precision': 0.963963963963964, 'recall': 0.9907407407407407, 'f1-score': 0.9771689497716894, 'support': 108}, 'accuracy': 0.9707602339181286, 'macro avg': {'precision': 0.9736486486486486, 'recall': 0.9636243386243386, 'f1-score': 0.9682592716338123, 'support': 171}, 'weighted avg': {'precision': 0.9711000474158369, 'recall': 0.9707602339181286, 'f1-score': 0.970603923775359, 'support': 171}}\n",
            "\n",
            "============================================================\n",
            "\n",
            "Training with parameters: {'n_estimators': 50, 'max_depth': 10, 'max_features': 'sqrt', 'min_samples_split': 5, 'min_samples_leaf': 1}\n",
            "Accuracy: 0.9649\n",
            "Classification Report:\n",
            "{'0': {'precision': 0.9672131147540983, 'recall': 0.9365079365079365, 'f1-score': 0.9516129032258064, 'support': 63}, '1': {'precision': 0.9636363636363636, 'recall': 0.9814814814814815, 'f1-score': 0.9724770642201834, 'support': 108}, 'accuracy': 0.9649122807017544, 'macro avg': {'precision': 0.965424739195231, 'recall': 0.9589947089947091, 'f1-score': 0.962044983722995, 'support': 171}, 'weighted avg': {'precision': 0.9649541140481607, 'recall': 0.9649122807017544, 'f1-score': 0.9647902680643603, 'support': 171}}\n",
            "\n",
            "============================================================\n",
            "\n",
            "Training with parameters: {'n_estimators': 50, 'max_depth': 10, 'max_features': 'sqrt', 'min_samples_split': 5, 'min_samples_leaf': 2}\n",
            "Accuracy: 0.9649\n",
            "Classification Report:\n",
            "{'0': {'precision': 0.9672131147540983, 'recall': 0.9365079365079365, 'f1-score': 0.9516129032258064, 'support': 63}, '1': {'precision': 0.9636363636363636, 'recall': 0.9814814814814815, 'f1-score': 0.9724770642201834, 'support': 108}, 'accuracy': 0.9649122807017544, 'macro avg': {'precision': 0.965424739195231, 'recall': 0.9589947089947091, 'f1-score': 0.962044983722995, 'support': 171}, 'weighted avg': {'precision': 0.9649541140481607, 'recall': 0.9649122807017544, 'f1-score': 0.9647902680643603, 'support': 171}}\n",
            "\n",
            "============================================================\n",
            "\n",
            "Training with parameters: {'n_estimators': 50, 'max_depth': 10, 'max_features': 'sqrt', 'min_samples_split': 5, 'min_samples_leaf': 4}\n",
            "Accuracy: 0.9708\n",
            "Classification Report:\n",
            "{'0': {'precision': 0.9833333333333333, 'recall': 0.9365079365079365, 'f1-score': 0.9593495934959351, 'support': 63}, '1': {'precision': 0.963963963963964, 'recall': 0.9907407407407407, 'f1-score': 0.9771689497716894, 'support': 108}, 'accuracy': 0.9707602339181286, 'macro avg': {'precision': 0.9736486486486486, 'recall': 0.9636243386243386, 'f1-score': 0.9682592716338123, 'support': 171}, 'weighted avg': {'precision': 0.9711000474158369, 'recall': 0.9707602339181286, 'f1-score': 0.970603923775359, 'support': 171}}\n",
            "\n",
            "============================================================\n",
            "\n",
            "Training with parameters: {'n_estimators': 50, 'max_depth': 10, 'max_features': 'sqrt', 'min_samples_split': 10, 'min_samples_leaf': 1}\n",
            "Accuracy: 0.9649\n",
            "Classification Report:\n",
            "{'0': {'precision': 0.9672131147540983, 'recall': 0.9365079365079365, 'f1-score': 0.9516129032258064, 'support': 63}, '1': {'precision': 0.9636363636363636, 'recall': 0.9814814814814815, 'f1-score': 0.9724770642201834, 'support': 108}, 'accuracy': 0.9649122807017544, 'macro avg': {'precision': 0.965424739195231, 'recall': 0.9589947089947091, 'f1-score': 0.962044983722995, 'support': 171}, 'weighted avg': {'precision': 0.9649541140481607, 'recall': 0.9649122807017544, 'f1-score': 0.9647902680643603, 'support': 171}}\n",
            "\n",
            "============================================================\n",
            "\n",
            "Training with parameters: {'n_estimators': 50, 'max_depth': 10, 'max_features': 'sqrt', 'min_samples_split': 10, 'min_samples_leaf': 2}\n",
            "Accuracy: 0.9649\n",
            "Classification Report:\n",
            "{'0': {'precision': 0.9672131147540983, 'recall': 0.9365079365079365, 'f1-score': 0.9516129032258064, 'support': 63}, '1': {'precision': 0.9636363636363636, 'recall': 0.9814814814814815, 'f1-score': 0.9724770642201834, 'support': 108}, 'accuracy': 0.9649122807017544, 'macro avg': {'precision': 0.965424739195231, 'recall': 0.9589947089947091, 'f1-score': 0.962044983722995, 'support': 171}, 'weighted avg': {'precision': 0.9649541140481607, 'recall': 0.9649122807017544, 'f1-score': 0.9647902680643603, 'support': 171}}\n",
            "\n",
            "============================================================\n",
            "\n",
            "Training with parameters: {'n_estimators': 50, 'max_depth': 10, 'max_features': 'sqrt', 'min_samples_split': 10, 'min_samples_leaf': 4}\n",
            "Accuracy: 0.9649\n",
            "Classification Report:\n",
            "{'0': {'precision': 0.9672131147540983, 'recall': 0.9365079365079365, 'f1-score': 0.9516129032258064, 'support': 63}, '1': {'precision': 0.9636363636363636, 'recall': 0.9814814814814815, 'f1-score': 0.9724770642201834, 'support': 108}, 'accuracy': 0.9649122807017544, 'macro avg': {'precision': 0.965424739195231, 'recall': 0.9589947089947091, 'f1-score': 0.962044983722995, 'support': 171}, 'weighted avg': {'precision': 0.9649541140481607, 'recall': 0.9649122807017544, 'f1-score': 0.9647902680643603, 'support': 171}}\n",
            "\n",
            "============================================================\n",
            "\n",
            "Training with parameters: {'n_estimators': 50, 'max_depth': 10, 'max_features': 'log2', 'min_samples_split': 2, 'min_samples_leaf': 1}\n",
            "Accuracy: 0.9708\n",
            "Classification Report:\n",
            "{'0': {'precision': 0.967741935483871, 'recall': 0.9523809523809523, 'f1-score': 0.96, 'support': 63}, '1': {'precision': 0.9724770642201835, 'recall': 0.9814814814814815, 'f1-score': 0.9769585253456222, 'support': 108}, 'accuracy': 0.9707602339181286, 'macro avg': {'precision': 0.9701094998520272, 'recall': 0.966931216931217, 'f1-score': 0.9684792626728111, 'support': 171}, 'weighted avg': {'precision': 0.9707325431068053, 'recall': 0.9707602339181286, 'f1-score': 0.9707106475867088, 'support': 171}}\n",
            "\n",
            "============================================================\n",
            "\n",
            "Training with parameters: {'n_estimators': 50, 'max_depth': 10, 'max_features': 'log2', 'min_samples_split': 2, 'min_samples_leaf': 2}\n",
            "Accuracy: 0.9766\n",
            "Classification Report:\n",
            "{'0': {'precision': 0.9836065573770492, 'recall': 0.9523809523809523, 'f1-score': 0.9677419354838709, 'support': 63}, '1': {'precision': 0.9727272727272728, 'recall': 0.9907407407407407, 'f1-score': 0.981651376146789, 'support': 108}, 'accuracy': 0.9766081871345029, 'macro avg': {'precision': 0.978166915052161, 'recall': 0.9715608465608465, 'f1-score': 0.9746966558153299, 'support': 171}, 'weighted avg': {'precision': 0.9767354302298219, 'recall': 0.9766081871345029, 'f1-score': 0.9765268453762402, 'support': 171}}\n",
            "\n",
            "============================================================\n",
            "\n",
            "Training with parameters: {'n_estimators': 50, 'max_depth': 10, 'max_features': 'log2', 'min_samples_split': 2, 'min_samples_leaf': 4}\n",
            "Accuracy: 0.9708\n",
            "Classification Report:\n",
            "{'0': {'precision': 0.9833333333333333, 'recall': 0.9365079365079365, 'f1-score': 0.9593495934959351, 'support': 63}, '1': {'precision': 0.963963963963964, 'recall': 0.9907407407407407, 'f1-score': 0.9771689497716894, 'support': 108}, 'accuracy': 0.9707602339181286, 'macro avg': {'precision': 0.9736486486486486, 'recall': 0.9636243386243386, 'f1-score': 0.9682592716338123, 'support': 171}, 'weighted avg': {'precision': 0.9711000474158369, 'recall': 0.9707602339181286, 'f1-score': 0.970603923775359, 'support': 171}}\n",
            "\n",
            "============================================================\n",
            "\n",
            "Training with parameters: {'n_estimators': 50, 'max_depth': 10, 'max_features': 'log2', 'min_samples_split': 5, 'min_samples_leaf': 1}\n",
            "Accuracy: 0.9708\n",
            "Classification Report:\n",
            "{'0': {'precision': 0.9833333333333333, 'recall': 0.9365079365079365, 'f1-score': 0.9593495934959351, 'support': 63}, '1': {'precision': 0.963963963963964, 'recall': 0.9907407407407407, 'f1-score': 0.9771689497716894, 'support': 108}, 'accuracy': 0.9707602339181286, 'macro avg': {'precision': 0.9736486486486486, 'recall': 0.9636243386243386, 'f1-score': 0.9682592716338123, 'support': 171}, 'weighted avg': {'precision': 0.9711000474158369, 'recall': 0.9707602339181286, 'f1-score': 0.970603923775359, 'support': 171}}\n",
            "\n",
            "============================================================\n",
            "\n",
            "Training with parameters: {'n_estimators': 50, 'max_depth': 10, 'max_features': 'log2', 'min_samples_split': 5, 'min_samples_leaf': 2}\n",
            "Accuracy: 0.9708\n",
            "Classification Report:\n",
            "{'0': {'precision': 0.9833333333333333, 'recall': 0.9365079365079365, 'f1-score': 0.9593495934959351, 'support': 63}, '1': {'precision': 0.963963963963964, 'recall': 0.9907407407407407, 'f1-score': 0.9771689497716894, 'support': 108}, 'accuracy': 0.9707602339181286, 'macro avg': {'precision': 0.9736486486486486, 'recall': 0.9636243386243386, 'f1-score': 0.9682592716338123, 'support': 171}, 'weighted avg': {'precision': 0.9711000474158369, 'recall': 0.9707602339181286, 'f1-score': 0.970603923775359, 'support': 171}}\n",
            "\n",
            "============================================================\n",
            "\n",
            "Training with parameters: {'n_estimators': 50, 'max_depth': 10, 'max_features': 'log2', 'min_samples_split': 5, 'min_samples_leaf': 4}\n",
            "Accuracy: 0.9708\n",
            "Classification Report:\n",
            "{'0': {'precision': 0.9833333333333333, 'recall': 0.9365079365079365, 'f1-score': 0.9593495934959351, 'support': 63}, '1': {'precision': 0.963963963963964, 'recall': 0.9907407407407407, 'f1-score': 0.9771689497716894, 'support': 108}, 'accuracy': 0.9707602339181286, 'macro avg': {'precision': 0.9736486486486486, 'recall': 0.9636243386243386, 'f1-score': 0.9682592716338123, 'support': 171}, 'weighted avg': {'precision': 0.9711000474158369, 'recall': 0.9707602339181286, 'f1-score': 0.970603923775359, 'support': 171}}\n",
            "\n",
            "============================================================\n",
            "\n",
            "Training with parameters: {'n_estimators': 50, 'max_depth': 10, 'max_features': 'log2', 'min_samples_split': 10, 'min_samples_leaf': 1}\n",
            "Accuracy: 0.9649\n",
            "Classification Report:\n",
            "{'0': {'precision': 0.9830508474576272, 'recall': 0.9206349206349206, 'f1-score': 0.9508196721311476, 'support': 63}, '1': {'precision': 0.9553571428571429, 'recall': 0.9907407407407407, 'f1-score': 0.9727272727272727, 'support': 108}, 'accuracy': 0.9649122807017544, 'macro avg': {'precision': 0.969203995157385, 'recall': 0.9556878306878307, 'f1-score': 0.9617734724292102, 'support': 171}, 'weighted avg': {'precision': 0.9655600866573213, 'recall': 0.9649122807017544, 'f1-score': 0.9646560514550161, 'support': 171}}\n",
            "\n",
            "============================================================\n",
            "\n",
            "Training with parameters: {'n_estimators': 50, 'max_depth': 10, 'max_features': 'log2', 'min_samples_split': 10, 'min_samples_leaf': 2}\n",
            "Accuracy: 0.9649\n",
            "Classification Report:\n",
            "{'0': {'precision': 0.9830508474576272, 'recall': 0.9206349206349206, 'f1-score': 0.9508196721311476, 'support': 63}, '1': {'precision': 0.9553571428571429, 'recall': 0.9907407407407407, 'f1-score': 0.9727272727272727, 'support': 108}, 'accuracy': 0.9649122807017544, 'macro avg': {'precision': 0.969203995157385, 'recall': 0.9556878306878307, 'f1-score': 0.9617734724292102, 'support': 171}, 'weighted avg': {'precision': 0.9655600866573213, 'recall': 0.9649122807017544, 'f1-score': 0.9646560514550161, 'support': 171}}\n",
            "\n",
            "============================================================\n",
            "\n",
            "Training with parameters: {'n_estimators': 50, 'max_depth': 10, 'max_features': 'log2', 'min_samples_split': 10, 'min_samples_leaf': 4}\n",
            "Accuracy: 0.9649\n",
            "Classification Report:\n",
            "{'0': {'precision': 0.9830508474576272, 'recall': 0.9206349206349206, 'f1-score': 0.9508196721311476, 'support': 63}, '1': {'precision': 0.9553571428571429, 'recall': 0.9907407407407407, 'f1-score': 0.9727272727272727, 'support': 108}, 'accuracy': 0.9649122807017544, 'macro avg': {'precision': 0.969203995157385, 'recall': 0.9556878306878307, 'f1-score': 0.9617734724292102, 'support': 171}, 'weighted avg': {'precision': 0.9655600866573213, 'recall': 0.9649122807017544, 'f1-score': 0.9646560514550161, 'support': 171}}\n",
            "\n",
            "============================================================\n",
            "\n",
            "Training with parameters: {'n_estimators': 50, 'max_depth': 20, 'max_features': 'auto', 'min_samples_split': 2, 'min_samples_leaf': 1}\n"
          ]
        },
        {
          "output_type": "stream",
          "name": "stderr",
          "text": [
            "/usr/local/lib/python3.10/dist-packages/sklearn/ensemble/_forest.py:424: FutureWarning: `max_features='auto'` has been deprecated in 1.1 and will be removed in 1.3. To keep the past behaviour, explicitly set `max_features='sqrt'` or remove this parameter as it is also the default value for RandomForestClassifiers and ExtraTreesClassifiers.\n",
            "  warn(\n",
            "/usr/local/lib/python3.10/dist-packages/sklearn/ensemble/_forest.py:424: FutureWarning: `max_features='auto'` has been deprecated in 1.1 and will be removed in 1.3. To keep the past behaviour, explicitly set `max_features='sqrt'` or remove this parameter as it is also the default value for RandomForestClassifiers and ExtraTreesClassifiers.\n",
            "  warn(\n"
          ]
        },
        {
          "output_type": "stream",
          "name": "stdout",
          "text": [
            "Accuracy: 0.9708\n",
            "Classification Report:\n",
            "{'0': {'precision': 0.9833333333333333, 'recall': 0.9365079365079365, 'f1-score': 0.9593495934959351, 'support': 63}, '1': {'precision': 0.963963963963964, 'recall': 0.9907407407407407, 'f1-score': 0.9771689497716894, 'support': 108}, 'accuracy': 0.9707602339181286, 'macro avg': {'precision': 0.9736486486486486, 'recall': 0.9636243386243386, 'f1-score': 0.9682592716338123, 'support': 171}, 'weighted avg': {'precision': 0.9711000474158369, 'recall': 0.9707602339181286, 'f1-score': 0.970603923775359, 'support': 171}}\n",
            "\n",
            "============================================================\n",
            "\n",
            "Training with parameters: {'n_estimators': 50, 'max_depth': 20, 'max_features': 'auto', 'min_samples_split': 2, 'min_samples_leaf': 2}\n",
            "Accuracy: 0.9591\n",
            "Classification Report:\n",
            "{'0': {'precision': 0.9666666666666667, 'recall': 0.9206349206349206, 'f1-score': 0.943089430894309, 'support': 63}, '1': {'precision': 0.954954954954955, 'recall': 0.9814814814814815, 'f1-score': 0.9680365296803655, 'support': 108}, 'accuracy': 0.9590643274853801, 'macro avg': {'precision': 0.9608108108108109, 'recall': 0.951058201058201, 'f1-score': 0.9555629802873372, 'support': 171}, 'weighted avg': {'precision': 0.9592697961119013, 'recall': 0.9590643274853801, 'f1-score': 0.9588454932855025, 'support': 171}}\n",
            "\n",
            "============================================================\n",
            "\n",
            "Training with parameters: {'n_estimators': 50, 'max_depth': 20, 'max_features': 'auto', 'min_samples_split': 2, 'min_samples_leaf': 4}\n"
          ]
        },
        {
          "output_type": "stream",
          "name": "stderr",
          "text": [
            "/usr/local/lib/python3.10/dist-packages/sklearn/ensemble/_forest.py:424: FutureWarning: `max_features='auto'` has been deprecated in 1.1 and will be removed in 1.3. To keep the past behaviour, explicitly set `max_features='sqrt'` or remove this parameter as it is also the default value for RandomForestClassifiers and ExtraTreesClassifiers.\n",
            "  warn(\n",
            "/usr/local/lib/python3.10/dist-packages/sklearn/ensemble/_forest.py:424: FutureWarning: `max_features='auto'` has been deprecated in 1.1 and will be removed in 1.3. To keep the past behaviour, explicitly set `max_features='sqrt'` or remove this parameter as it is also the default value for RandomForestClassifiers and ExtraTreesClassifiers.\n",
            "  warn(\n"
          ]
        },
        {
          "output_type": "stream",
          "name": "stdout",
          "text": [
            "Accuracy: 0.9708\n",
            "Classification Report:\n",
            "{'0': {'precision': 0.9833333333333333, 'recall': 0.9365079365079365, 'f1-score': 0.9593495934959351, 'support': 63}, '1': {'precision': 0.963963963963964, 'recall': 0.9907407407407407, 'f1-score': 0.9771689497716894, 'support': 108}, 'accuracy': 0.9707602339181286, 'macro avg': {'precision': 0.9736486486486486, 'recall': 0.9636243386243386, 'f1-score': 0.9682592716338123, 'support': 171}, 'weighted avg': {'precision': 0.9711000474158369, 'recall': 0.9707602339181286, 'f1-score': 0.970603923775359, 'support': 171}}\n",
            "\n",
            "============================================================\n",
            "\n",
            "Training with parameters: {'n_estimators': 50, 'max_depth': 20, 'max_features': 'auto', 'min_samples_split': 5, 'min_samples_leaf': 1}\n",
            "Accuracy: 0.9649\n",
            "Classification Report:\n",
            "{'0': {'precision': 0.9672131147540983, 'recall': 0.9365079365079365, 'f1-score': 0.9516129032258064, 'support': 63}, '1': {'precision': 0.9636363636363636, 'recall': 0.9814814814814815, 'f1-score': 0.9724770642201834, 'support': 108}, 'accuracy': 0.9649122807017544, 'macro avg': {'precision': 0.965424739195231, 'recall': 0.9589947089947091, 'f1-score': 0.962044983722995, 'support': 171}, 'weighted avg': {'precision': 0.9649541140481607, 'recall': 0.9649122807017544, 'f1-score': 0.9647902680643603, 'support': 171}}\n",
            "\n",
            "============================================================\n",
            "\n",
            "Training with parameters: {'n_estimators': 50, 'max_depth': 20, 'max_features': 'auto', 'min_samples_split': 5, 'min_samples_leaf': 2}\n"
          ]
        },
        {
          "output_type": "stream",
          "name": "stderr",
          "text": [
            "/usr/local/lib/python3.10/dist-packages/sklearn/ensemble/_forest.py:424: FutureWarning: `max_features='auto'` has been deprecated in 1.1 and will be removed in 1.3. To keep the past behaviour, explicitly set `max_features='sqrt'` or remove this parameter as it is also the default value for RandomForestClassifiers and ExtraTreesClassifiers.\n",
            "  warn(\n",
            "/usr/local/lib/python3.10/dist-packages/sklearn/ensemble/_forest.py:424: FutureWarning: `max_features='auto'` has been deprecated in 1.1 and will be removed in 1.3. To keep the past behaviour, explicitly set `max_features='sqrt'` or remove this parameter as it is also the default value for RandomForestClassifiers and ExtraTreesClassifiers.\n",
            "  warn(\n"
          ]
        },
        {
          "output_type": "stream",
          "name": "stdout",
          "text": [
            "Accuracy: 0.9649\n",
            "Classification Report:\n",
            "{'0': {'precision': 0.9672131147540983, 'recall': 0.9365079365079365, 'f1-score': 0.9516129032258064, 'support': 63}, '1': {'precision': 0.9636363636363636, 'recall': 0.9814814814814815, 'f1-score': 0.9724770642201834, 'support': 108}, 'accuracy': 0.9649122807017544, 'macro avg': {'precision': 0.965424739195231, 'recall': 0.9589947089947091, 'f1-score': 0.962044983722995, 'support': 171}, 'weighted avg': {'precision': 0.9649541140481607, 'recall': 0.9649122807017544, 'f1-score': 0.9647902680643603, 'support': 171}}\n",
            "\n",
            "============================================================\n",
            "\n",
            "Training with parameters: {'n_estimators': 50, 'max_depth': 20, 'max_features': 'auto', 'min_samples_split': 5, 'min_samples_leaf': 4}\n",
            "Accuracy: 0.9708\n",
            "Classification Report:\n",
            "{'0': {'precision': 0.9833333333333333, 'recall': 0.9365079365079365, 'f1-score': 0.9593495934959351, 'support': 63}, '1': {'precision': 0.963963963963964, 'recall': 0.9907407407407407, 'f1-score': 0.9771689497716894, 'support': 108}, 'accuracy': 0.9707602339181286, 'macro avg': {'precision': 0.9736486486486486, 'recall': 0.9636243386243386, 'f1-score': 0.9682592716338123, 'support': 171}, 'weighted avg': {'precision': 0.9711000474158369, 'recall': 0.9707602339181286, 'f1-score': 0.970603923775359, 'support': 171}}\n",
            "\n",
            "============================================================\n",
            "\n",
            "Training with parameters: {'n_estimators': 50, 'max_depth': 20, 'max_features': 'auto', 'min_samples_split': 10, 'min_samples_leaf': 1}\n"
          ]
        },
        {
          "output_type": "stream",
          "name": "stderr",
          "text": [
            "/usr/local/lib/python3.10/dist-packages/sklearn/ensemble/_forest.py:424: FutureWarning: `max_features='auto'` has been deprecated in 1.1 and will be removed in 1.3. To keep the past behaviour, explicitly set `max_features='sqrt'` or remove this parameter as it is also the default value for RandomForestClassifiers and ExtraTreesClassifiers.\n",
            "  warn(\n",
            "/usr/local/lib/python3.10/dist-packages/sklearn/ensemble/_forest.py:424: FutureWarning: `max_features='auto'` has been deprecated in 1.1 and will be removed in 1.3. To keep the past behaviour, explicitly set `max_features='sqrt'` or remove this parameter as it is also the default value for RandomForestClassifiers and ExtraTreesClassifiers.\n",
            "  warn(\n"
          ]
        },
        {
          "output_type": "stream",
          "name": "stdout",
          "text": [
            "Accuracy: 0.9649\n",
            "Classification Report:\n",
            "{'0': {'precision': 0.9672131147540983, 'recall': 0.9365079365079365, 'f1-score': 0.9516129032258064, 'support': 63}, '1': {'precision': 0.9636363636363636, 'recall': 0.9814814814814815, 'f1-score': 0.9724770642201834, 'support': 108}, 'accuracy': 0.9649122807017544, 'macro avg': {'precision': 0.965424739195231, 'recall': 0.9589947089947091, 'f1-score': 0.962044983722995, 'support': 171}, 'weighted avg': {'precision': 0.9649541140481607, 'recall': 0.9649122807017544, 'f1-score': 0.9647902680643603, 'support': 171}}\n",
            "\n",
            "============================================================\n",
            "\n",
            "Training with parameters: {'n_estimators': 50, 'max_depth': 20, 'max_features': 'auto', 'min_samples_split': 10, 'min_samples_leaf': 2}\n",
            "Accuracy: 0.9649\n",
            "Classification Report:\n",
            "{'0': {'precision': 0.9672131147540983, 'recall': 0.9365079365079365, 'f1-score': 0.9516129032258064, 'support': 63}, '1': {'precision': 0.9636363636363636, 'recall': 0.9814814814814815, 'f1-score': 0.9724770642201834, 'support': 108}, 'accuracy': 0.9649122807017544, 'macro avg': {'precision': 0.965424739195231, 'recall': 0.9589947089947091, 'f1-score': 0.962044983722995, 'support': 171}, 'weighted avg': {'precision': 0.9649541140481607, 'recall': 0.9649122807017544, 'f1-score': 0.9647902680643603, 'support': 171}}\n",
            "\n",
            "============================================================\n",
            "\n",
            "Training with parameters: {'n_estimators': 50, 'max_depth': 20, 'max_features': 'auto', 'min_samples_split': 10, 'min_samples_leaf': 4}\n"
          ]
        },
        {
          "output_type": "stream",
          "name": "stderr",
          "text": [
            "/usr/local/lib/python3.10/dist-packages/sklearn/ensemble/_forest.py:424: FutureWarning: `max_features='auto'` has been deprecated in 1.1 and will be removed in 1.3. To keep the past behaviour, explicitly set `max_features='sqrt'` or remove this parameter as it is also the default value for RandomForestClassifiers and ExtraTreesClassifiers.\n",
            "  warn(\n"
          ]
        },
        {
          "output_type": "stream",
          "name": "stdout",
          "text": [
            "Accuracy: 0.9649\n",
            "Classification Report:\n",
            "{'0': {'precision': 0.9672131147540983, 'recall': 0.9365079365079365, 'f1-score': 0.9516129032258064, 'support': 63}, '1': {'precision': 0.9636363636363636, 'recall': 0.9814814814814815, 'f1-score': 0.9724770642201834, 'support': 108}, 'accuracy': 0.9649122807017544, 'macro avg': {'precision': 0.965424739195231, 'recall': 0.9589947089947091, 'f1-score': 0.962044983722995, 'support': 171}, 'weighted avg': {'precision': 0.9649541140481607, 'recall': 0.9649122807017544, 'f1-score': 0.9647902680643603, 'support': 171}}\n",
            "\n",
            "============================================================\n",
            "\n",
            "Training with parameters: {'n_estimators': 50, 'max_depth': 20, 'max_features': 'sqrt', 'min_samples_split': 2, 'min_samples_leaf': 1}\n",
            "Accuracy: 0.9708\n",
            "Classification Report:\n",
            "{'0': {'precision': 0.9833333333333333, 'recall': 0.9365079365079365, 'f1-score': 0.9593495934959351, 'support': 63}, '1': {'precision': 0.963963963963964, 'recall': 0.9907407407407407, 'f1-score': 0.9771689497716894, 'support': 108}, 'accuracy': 0.9707602339181286, 'macro avg': {'precision': 0.9736486486486486, 'recall': 0.9636243386243386, 'f1-score': 0.9682592716338123, 'support': 171}, 'weighted avg': {'precision': 0.9711000474158369, 'recall': 0.9707602339181286, 'f1-score': 0.970603923775359, 'support': 171}}\n",
            "\n",
            "============================================================\n",
            "\n",
            "Training with parameters: {'n_estimators': 50, 'max_depth': 20, 'max_features': 'sqrt', 'min_samples_split': 2, 'min_samples_leaf': 2}\n",
            "Accuracy: 0.9591\n",
            "Classification Report:\n",
            "{'0': {'precision': 0.9666666666666667, 'recall': 0.9206349206349206, 'f1-score': 0.943089430894309, 'support': 63}, '1': {'precision': 0.954954954954955, 'recall': 0.9814814814814815, 'f1-score': 0.9680365296803655, 'support': 108}, 'accuracy': 0.9590643274853801, 'macro avg': {'precision': 0.9608108108108109, 'recall': 0.951058201058201, 'f1-score': 0.9555629802873372, 'support': 171}, 'weighted avg': {'precision': 0.9592697961119013, 'recall': 0.9590643274853801, 'f1-score': 0.9588454932855025, 'support': 171}}\n",
            "\n",
            "============================================================\n",
            "\n",
            "Training with parameters: {'n_estimators': 50, 'max_depth': 20, 'max_features': 'sqrt', 'min_samples_split': 2, 'min_samples_leaf': 4}\n",
            "Accuracy: 0.9708\n",
            "Classification Report:\n",
            "{'0': {'precision': 0.9833333333333333, 'recall': 0.9365079365079365, 'f1-score': 0.9593495934959351, 'support': 63}, '1': {'precision': 0.963963963963964, 'recall': 0.9907407407407407, 'f1-score': 0.9771689497716894, 'support': 108}, 'accuracy': 0.9707602339181286, 'macro avg': {'precision': 0.9736486486486486, 'recall': 0.9636243386243386, 'f1-score': 0.9682592716338123, 'support': 171}, 'weighted avg': {'precision': 0.9711000474158369, 'recall': 0.9707602339181286, 'f1-score': 0.970603923775359, 'support': 171}}\n",
            "\n",
            "============================================================\n",
            "\n",
            "Training with parameters: {'n_estimators': 50, 'max_depth': 20, 'max_features': 'sqrt', 'min_samples_split': 5, 'min_samples_leaf': 1}\n",
            "Accuracy: 0.9649\n",
            "Classification Report:\n",
            "{'0': {'precision': 0.9672131147540983, 'recall': 0.9365079365079365, 'f1-score': 0.9516129032258064, 'support': 63}, '1': {'precision': 0.9636363636363636, 'recall': 0.9814814814814815, 'f1-score': 0.9724770642201834, 'support': 108}, 'accuracy': 0.9649122807017544, 'macro avg': {'precision': 0.965424739195231, 'recall': 0.9589947089947091, 'f1-score': 0.962044983722995, 'support': 171}, 'weighted avg': {'precision': 0.9649541140481607, 'recall': 0.9649122807017544, 'f1-score': 0.9647902680643603, 'support': 171}}\n",
            "\n",
            "============================================================\n",
            "\n",
            "Training with parameters: {'n_estimators': 50, 'max_depth': 20, 'max_features': 'sqrt', 'min_samples_split': 5, 'min_samples_leaf': 2}\n",
            "Accuracy: 0.9649\n",
            "Classification Report:\n",
            "{'0': {'precision': 0.9672131147540983, 'recall': 0.9365079365079365, 'f1-score': 0.9516129032258064, 'support': 63}, '1': {'precision': 0.9636363636363636, 'recall': 0.9814814814814815, 'f1-score': 0.9724770642201834, 'support': 108}, 'accuracy': 0.9649122807017544, 'macro avg': {'precision': 0.965424739195231, 'recall': 0.9589947089947091, 'f1-score': 0.962044983722995, 'support': 171}, 'weighted avg': {'precision': 0.9649541140481607, 'recall': 0.9649122807017544, 'f1-score': 0.9647902680643603, 'support': 171}}\n",
            "\n",
            "============================================================\n",
            "\n",
            "Training with parameters: {'n_estimators': 50, 'max_depth': 20, 'max_features': 'sqrt', 'min_samples_split': 5, 'min_samples_leaf': 4}\n",
            "Accuracy: 0.9708\n",
            "Classification Report:\n",
            "{'0': {'precision': 0.9833333333333333, 'recall': 0.9365079365079365, 'f1-score': 0.9593495934959351, 'support': 63}, '1': {'precision': 0.963963963963964, 'recall': 0.9907407407407407, 'f1-score': 0.9771689497716894, 'support': 108}, 'accuracy': 0.9707602339181286, 'macro avg': {'precision': 0.9736486486486486, 'recall': 0.9636243386243386, 'f1-score': 0.9682592716338123, 'support': 171}, 'weighted avg': {'precision': 0.9711000474158369, 'recall': 0.9707602339181286, 'f1-score': 0.970603923775359, 'support': 171}}\n",
            "\n",
            "============================================================\n",
            "\n",
            "Training with parameters: {'n_estimators': 50, 'max_depth': 20, 'max_features': 'sqrt', 'min_samples_split': 10, 'min_samples_leaf': 1}\n",
            "Accuracy: 0.9649\n",
            "Classification Report:\n",
            "{'0': {'precision': 0.9672131147540983, 'recall': 0.9365079365079365, 'f1-score': 0.9516129032258064, 'support': 63}, '1': {'precision': 0.9636363636363636, 'recall': 0.9814814814814815, 'f1-score': 0.9724770642201834, 'support': 108}, 'accuracy': 0.9649122807017544, 'macro avg': {'precision': 0.965424739195231, 'recall': 0.9589947089947091, 'f1-score': 0.962044983722995, 'support': 171}, 'weighted avg': {'precision': 0.9649541140481607, 'recall': 0.9649122807017544, 'f1-score': 0.9647902680643603, 'support': 171}}\n",
            "\n",
            "============================================================\n",
            "\n",
            "Training with parameters: {'n_estimators': 50, 'max_depth': 20, 'max_features': 'sqrt', 'min_samples_split': 10, 'min_samples_leaf': 2}\n",
            "Accuracy: 0.9649\n",
            "Classification Report:\n",
            "{'0': {'precision': 0.9672131147540983, 'recall': 0.9365079365079365, 'f1-score': 0.9516129032258064, 'support': 63}, '1': {'precision': 0.9636363636363636, 'recall': 0.9814814814814815, 'f1-score': 0.9724770642201834, 'support': 108}, 'accuracy': 0.9649122807017544, 'macro avg': {'precision': 0.965424739195231, 'recall': 0.9589947089947091, 'f1-score': 0.962044983722995, 'support': 171}, 'weighted avg': {'precision': 0.9649541140481607, 'recall': 0.9649122807017544, 'f1-score': 0.9647902680643603, 'support': 171}}\n",
            "\n",
            "============================================================\n",
            "\n",
            "Training with parameters: {'n_estimators': 50, 'max_depth': 20, 'max_features': 'sqrt', 'min_samples_split': 10, 'min_samples_leaf': 4}\n",
            "Accuracy: 0.9649\n",
            "Classification Report:\n",
            "{'0': {'precision': 0.9672131147540983, 'recall': 0.9365079365079365, 'f1-score': 0.9516129032258064, 'support': 63}, '1': {'precision': 0.9636363636363636, 'recall': 0.9814814814814815, 'f1-score': 0.9724770642201834, 'support': 108}, 'accuracy': 0.9649122807017544, 'macro avg': {'precision': 0.965424739195231, 'recall': 0.9589947089947091, 'f1-score': 0.962044983722995, 'support': 171}, 'weighted avg': {'precision': 0.9649541140481607, 'recall': 0.9649122807017544, 'f1-score': 0.9647902680643603, 'support': 171}}\n",
            "\n",
            "============================================================\n",
            "\n",
            "Training with parameters: {'n_estimators': 50, 'max_depth': 20, 'max_features': 'log2', 'min_samples_split': 2, 'min_samples_leaf': 1}\n",
            "Accuracy: 0.9708\n",
            "Classification Report:\n",
            "{'0': {'precision': 0.967741935483871, 'recall': 0.9523809523809523, 'f1-score': 0.96, 'support': 63}, '1': {'precision': 0.9724770642201835, 'recall': 0.9814814814814815, 'f1-score': 0.9769585253456222, 'support': 108}, 'accuracy': 0.9707602339181286, 'macro avg': {'precision': 0.9701094998520272, 'recall': 0.966931216931217, 'f1-score': 0.9684792626728111, 'support': 171}, 'weighted avg': {'precision': 0.9707325431068053, 'recall': 0.9707602339181286, 'f1-score': 0.9707106475867088, 'support': 171}}\n",
            "\n",
            "============================================================\n",
            "\n",
            "Training with parameters: {'n_estimators': 50, 'max_depth': 20, 'max_features': 'log2', 'min_samples_split': 2, 'min_samples_leaf': 2}\n",
            "Accuracy: 0.9766\n",
            "Classification Report:\n",
            "{'0': {'precision': 0.9836065573770492, 'recall': 0.9523809523809523, 'f1-score': 0.9677419354838709, 'support': 63}, '1': {'precision': 0.9727272727272728, 'recall': 0.9907407407407407, 'f1-score': 0.981651376146789, 'support': 108}, 'accuracy': 0.9766081871345029, 'macro avg': {'precision': 0.978166915052161, 'recall': 0.9715608465608465, 'f1-score': 0.9746966558153299, 'support': 171}, 'weighted avg': {'precision': 0.9767354302298219, 'recall': 0.9766081871345029, 'f1-score': 0.9765268453762402, 'support': 171}}\n",
            "\n",
            "============================================================\n",
            "\n",
            "Training with parameters: {'n_estimators': 50, 'max_depth': 20, 'max_features': 'log2', 'min_samples_split': 2, 'min_samples_leaf': 4}\n",
            "Accuracy: 0.9708\n",
            "Classification Report:\n",
            "{'0': {'precision': 0.9833333333333333, 'recall': 0.9365079365079365, 'f1-score': 0.9593495934959351, 'support': 63}, '1': {'precision': 0.963963963963964, 'recall': 0.9907407407407407, 'f1-score': 0.9771689497716894, 'support': 108}, 'accuracy': 0.9707602339181286, 'macro avg': {'precision': 0.9736486486486486, 'recall': 0.9636243386243386, 'f1-score': 0.9682592716338123, 'support': 171}, 'weighted avg': {'precision': 0.9711000474158369, 'recall': 0.9707602339181286, 'f1-score': 0.970603923775359, 'support': 171}}\n",
            "\n",
            "============================================================\n",
            "\n",
            "Training with parameters: {'n_estimators': 50, 'max_depth': 20, 'max_features': 'log2', 'min_samples_split': 5, 'min_samples_leaf': 1}\n",
            "Accuracy: 0.9708\n",
            "Classification Report:\n",
            "{'0': {'precision': 0.9833333333333333, 'recall': 0.9365079365079365, 'f1-score': 0.9593495934959351, 'support': 63}, '1': {'precision': 0.963963963963964, 'recall': 0.9907407407407407, 'f1-score': 0.9771689497716894, 'support': 108}, 'accuracy': 0.9707602339181286, 'macro avg': {'precision': 0.9736486486486486, 'recall': 0.9636243386243386, 'f1-score': 0.9682592716338123, 'support': 171}, 'weighted avg': {'precision': 0.9711000474158369, 'recall': 0.9707602339181286, 'f1-score': 0.970603923775359, 'support': 171}}\n",
            "\n",
            "============================================================\n",
            "\n",
            "Training with parameters: {'n_estimators': 50, 'max_depth': 20, 'max_features': 'log2', 'min_samples_split': 5, 'min_samples_leaf': 2}\n",
            "Accuracy: 0.9708\n",
            "Classification Report:\n",
            "{'0': {'precision': 0.9833333333333333, 'recall': 0.9365079365079365, 'f1-score': 0.9593495934959351, 'support': 63}, '1': {'precision': 0.963963963963964, 'recall': 0.9907407407407407, 'f1-score': 0.9771689497716894, 'support': 108}, 'accuracy': 0.9707602339181286, 'macro avg': {'precision': 0.9736486486486486, 'recall': 0.9636243386243386, 'f1-score': 0.9682592716338123, 'support': 171}, 'weighted avg': {'precision': 0.9711000474158369, 'recall': 0.9707602339181286, 'f1-score': 0.970603923775359, 'support': 171}}\n",
            "\n",
            "============================================================\n",
            "\n",
            "Training with parameters: {'n_estimators': 50, 'max_depth': 20, 'max_features': 'log2', 'min_samples_split': 5, 'min_samples_leaf': 4}\n",
            "Accuracy: 0.9708\n",
            "Classification Report:\n",
            "{'0': {'precision': 0.9833333333333333, 'recall': 0.9365079365079365, 'f1-score': 0.9593495934959351, 'support': 63}, '1': {'precision': 0.963963963963964, 'recall': 0.9907407407407407, 'f1-score': 0.9771689497716894, 'support': 108}, 'accuracy': 0.9707602339181286, 'macro avg': {'precision': 0.9736486486486486, 'recall': 0.9636243386243386, 'f1-score': 0.9682592716338123, 'support': 171}, 'weighted avg': {'precision': 0.9711000474158369, 'recall': 0.9707602339181286, 'f1-score': 0.970603923775359, 'support': 171}}\n",
            "\n",
            "============================================================\n",
            "\n",
            "Training with parameters: {'n_estimators': 50, 'max_depth': 20, 'max_features': 'log2', 'min_samples_split': 10, 'min_samples_leaf': 1}\n",
            "Accuracy: 0.9649\n",
            "Classification Report:\n",
            "{'0': {'precision': 0.9830508474576272, 'recall': 0.9206349206349206, 'f1-score': 0.9508196721311476, 'support': 63}, '1': {'precision': 0.9553571428571429, 'recall': 0.9907407407407407, 'f1-score': 0.9727272727272727, 'support': 108}, 'accuracy': 0.9649122807017544, 'macro avg': {'precision': 0.969203995157385, 'recall': 0.9556878306878307, 'f1-score': 0.9617734724292102, 'support': 171}, 'weighted avg': {'precision': 0.9655600866573213, 'recall': 0.9649122807017544, 'f1-score': 0.9646560514550161, 'support': 171}}\n",
            "\n",
            "============================================================\n",
            "\n",
            "Training with parameters: {'n_estimators': 50, 'max_depth': 20, 'max_features': 'log2', 'min_samples_split': 10, 'min_samples_leaf': 2}\n",
            "Accuracy: 0.9649\n",
            "Classification Report:\n",
            "{'0': {'precision': 0.9830508474576272, 'recall': 0.9206349206349206, 'f1-score': 0.9508196721311476, 'support': 63}, '1': {'precision': 0.9553571428571429, 'recall': 0.9907407407407407, 'f1-score': 0.9727272727272727, 'support': 108}, 'accuracy': 0.9649122807017544, 'macro avg': {'precision': 0.969203995157385, 'recall': 0.9556878306878307, 'f1-score': 0.9617734724292102, 'support': 171}, 'weighted avg': {'precision': 0.9655600866573213, 'recall': 0.9649122807017544, 'f1-score': 0.9646560514550161, 'support': 171}}\n",
            "\n",
            "============================================================\n",
            "\n",
            "Training with parameters: {'n_estimators': 50, 'max_depth': 20, 'max_features': 'log2', 'min_samples_split': 10, 'min_samples_leaf': 4}\n",
            "Accuracy: 0.9649\n",
            "Classification Report:\n",
            "{'0': {'precision': 0.9830508474576272, 'recall': 0.9206349206349206, 'f1-score': 0.9508196721311476, 'support': 63}, '1': {'precision': 0.9553571428571429, 'recall': 0.9907407407407407, 'f1-score': 0.9727272727272727, 'support': 108}, 'accuracy': 0.9649122807017544, 'macro avg': {'precision': 0.969203995157385, 'recall': 0.9556878306878307, 'f1-score': 0.9617734724292102, 'support': 171}, 'weighted avg': {'precision': 0.9655600866573213, 'recall': 0.9649122807017544, 'f1-score': 0.9646560514550161, 'support': 171}}\n",
            "\n",
            "============================================================\n",
            "\n",
            "Training with parameters: {'n_estimators': 100, 'max_depth': None, 'max_features': 'auto', 'min_samples_split': 2, 'min_samples_leaf': 1}\n"
          ]
        },
        {
          "output_type": "stream",
          "name": "stderr",
          "text": [
            "/usr/local/lib/python3.10/dist-packages/sklearn/ensemble/_forest.py:424: FutureWarning: `max_features='auto'` has been deprecated in 1.1 and will be removed in 1.3. To keep the past behaviour, explicitly set `max_features='sqrt'` or remove this parameter as it is also the default value for RandomForestClassifiers and ExtraTreesClassifiers.\n",
            "  warn(\n"
          ]
        },
        {
          "output_type": "stream",
          "name": "stdout",
          "text": [
            "Accuracy: 0.9708\n",
            "Classification Report:\n",
            "{'0': {'precision': 0.9833333333333333, 'recall': 0.9365079365079365, 'f1-score': 0.9593495934959351, 'support': 63}, '1': {'precision': 0.963963963963964, 'recall': 0.9907407407407407, 'f1-score': 0.9771689497716894, 'support': 108}, 'accuracy': 0.9707602339181286, 'macro avg': {'precision': 0.9736486486486486, 'recall': 0.9636243386243386, 'f1-score': 0.9682592716338123, 'support': 171}, 'weighted avg': {'precision': 0.9711000474158369, 'recall': 0.9707602339181286, 'f1-score': 0.970603923775359, 'support': 171}}\n",
            "\n",
            "============================================================\n",
            "\n",
            "Training with parameters: {'n_estimators': 100, 'max_depth': None, 'max_features': 'auto', 'min_samples_split': 2, 'min_samples_leaf': 2}\n"
          ]
        },
        {
          "output_type": "stream",
          "name": "stderr",
          "text": [
            "/usr/local/lib/python3.10/dist-packages/sklearn/ensemble/_forest.py:424: FutureWarning: `max_features='auto'` has been deprecated in 1.1 and will be removed in 1.3. To keep the past behaviour, explicitly set `max_features='sqrt'` or remove this parameter as it is also the default value for RandomForestClassifiers and ExtraTreesClassifiers.\n",
            "  warn(\n"
          ]
        },
        {
          "output_type": "stream",
          "name": "stdout",
          "text": [
            "Accuracy: 0.9649\n",
            "Classification Report:\n",
            "{'0': {'precision': 0.9672131147540983, 'recall': 0.9365079365079365, 'f1-score': 0.9516129032258064, 'support': 63}, '1': {'precision': 0.9636363636363636, 'recall': 0.9814814814814815, 'f1-score': 0.9724770642201834, 'support': 108}, 'accuracy': 0.9649122807017544, 'macro avg': {'precision': 0.965424739195231, 'recall': 0.9589947089947091, 'f1-score': 0.962044983722995, 'support': 171}, 'weighted avg': {'precision': 0.9649541140481607, 'recall': 0.9649122807017544, 'f1-score': 0.9647902680643603, 'support': 171}}\n",
            "\n",
            "============================================================\n",
            "\n",
            "Training with parameters: {'n_estimators': 100, 'max_depth': None, 'max_features': 'auto', 'min_samples_split': 2, 'min_samples_leaf': 4}\n"
          ]
        },
        {
          "output_type": "stream",
          "name": "stderr",
          "text": [
            "/usr/local/lib/python3.10/dist-packages/sklearn/ensemble/_forest.py:424: FutureWarning: `max_features='auto'` has been deprecated in 1.1 and will be removed in 1.3. To keep the past behaviour, explicitly set `max_features='sqrt'` or remove this parameter as it is also the default value for RandomForestClassifiers and ExtraTreesClassifiers.\n",
            "  warn(\n"
          ]
        },
        {
          "output_type": "stream",
          "name": "stdout",
          "text": [
            "Accuracy: 0.9708\n",
            "Classification Report:\n",
            "{'0': {'precision': 0.9833333333333333, 'recall': 0.9365079365079365, 'f1-score': 0.9593495934959351, 'support': 63}, '1': {'precision': 0.963963963963964, 'recall': 0.9907407407407407, 'f1-score': 0.9771689497716894, 'support': 108}, 'accuracy': 0.9707602339181286, 'macro avg': {'precision': 0.9736486486486486, 'recall': 0.9636243386243386, 'f1-score': 0.9682592716338123, 'support': 171}, 'weighted avg': {'precision': 0.9711000474158369, 'recall': 0.9707602339181286, 'f1-score': 0.970603923775359, 'support': 171}}\n",
            "\n",
            "============================================================\n",
            "\n",
            "Training with parameters: {'n_estimators': 100, 'max_depth': None, 'max_features': 'auto', 'min_samples_split': 5, 'min_samples_leaf': 1}\n"
          ]
        },
        {
          "output_type": "stream",
          "name": "stderr",
          "text": [
            "/usr/local/lib/python3.10/dist-packages/sklearn/ensemble/_forest.py:424: FutureWarning: `max_features='auto'` has been deprecated in 1.1 and will be removed in 1.3. To keep the past behaviour, explicitly set `max_features='sqrt'` or remove this parameter as it is also the default value for RandomForestClassifiers and ExtraTreesClassifiers.\n",
            "  warn(\n"
          ]
        },
        {
          "output_type": "stream",
          "name": "stdout",
          "text": [
            "Accuracy: 0.9591\n",
            "Classification Report:\n",
            "{'0': {'precision': 0.9666666666666667, 'recall': 0.9206349206349206, 'f1-score': 0.943089430894309, 'support': 63}, '1': {'precision': 0.954954954954955, 'recall': 0.9814814814814815, 'f1-score': 0.9680365296803655, 'support': 108}, 'accuracy': 0.9590643274853801, 'macro avg': {'precision': 0.9608108108108109, 'recall': 0.951058201058201, 'f1-score': 0.9555629802873372, 'support': 171}, 'weighted avg': {'precision': 0.9592697961119013, 'recall': 0.9590643274853801, 'f1-score': 0.9588454932855025, 'support': 171}}\n",
            "\n",
            "============================================================\n",
            "\n",
            "Training with parameters: {'n_estimators': 100, 'max_depth': None, 'max_features': 'auto', 'min_samples_split': 5, 'min_samples_leaf': 2}\n"
          ]
        },
        {
          "output_type": "stream",
          "name": "stderr",
          "text": [
            "/usr/local/lib/python3.10/dist-packages/sklearn/ensemble/_forest.py:424: FutureWarning: `max_features='auto'` has been deprecated in 1.1 and will be removed in 1.3. To keep the past behaviour, explicitly set `max_features='sqrt'` or remove this parameter as it is also the default value for RandomForestClassifiers and ExtraTreesClassifiers.\n",
            "  warn(\n"
          ]
        },
        {
          "output_type": "stream",
          "name": "stdout",
          "text": [
            "Accuracy: 0.9591\n",
            "Classification Report:\n",
            "{'0': {'precision': 0.9666666666666667, 'recall': 0.9206349206349206, 'f1-score': 0.943089430894309, 'support': 63}, '1': {'precision': 0.954954954954955, 'recall': 0.9814814814814815, 'f1-score': 0.9680365296803655, 'support': 108}, 'accuracy': 0.9590643274853801, 'macro avg': {'precision': 0.9608108108108109, 'recall': 0.951058201058201, 'f1-score': 0.9555629802873372, 'support': 171}, 'weighted avg': {'precision': 0.9592697961119013, 'recall': 0.9590643274853801, 'f1-score': 0.9588454932855025, 'support': 171}}\n",
            "\n",
            "============================================================\n",
            "\n",
            "Training with parameters: {'n_estimators': 100, 'max_depth': None, 'max_features': 'auto', 'min_samples_split': 5, 'min_samples_leaf': 4}\n"
          ]
        },
        {
          "output_type": "stream",
          "name": "stderr",
          "text": [
            "/usr/local/lib/python3.10/dist-packages/sklearn/ensemble/_forest.py:424: FutureWarning: `max_features='auto'` has been deprecated in 1.1 and will be removed in 1.3. To keep the past behaviour, explicitly set `max_features='sqrt'` or remove this parameter as it is also the default value for RandomForestClassifiers and ExtraTreesClassifiers.\n",
            "  warn(\n"
          ]
        },
        {
          "output_type": "stream",
          "name": "stdout",
          "text": [
            "Accuracy: 0.9708\n",
            "Classification Report:\n",
            "{'0': {'precision': 0.9833333333333333, 'recall': 0.9365079365079365, 'f1-score': 0.9593495934959351, 'support': 63}, '1': {'precision': 0.963963963963964, 'recall': 0.9907407407407407, 'f1-score': 0.9771689497716894, 'support': 108}, 'accuracy': 0.9707602339181286, 'macro avg': {'precision': 0.9736486486486486, 'recall': 0.9636243386243386, 'f1-score': 0.9682592716338123, 'support': 171}, 'weighted avg': {'precision': 0.9711000474158369, 'recall': 0.9707602339181286, 'f1-score': 0.970603923775359, 'support': 171}}\n",
            "\n",
            "============================================================\n",
            "\n",
            "Training with parameters: {'n_estimators': 100, 'max_depth': None, 'max_features': 'auto', 'min_samples_split': 10, 'min_samples_leaf': 1}\n"
          ]
        },
        {
          "output_type": "stream",
          "name": "stderr",
          "text": [
            "/usr/local/lib/python3.10/dist-packages/sklearn/ensemble/_forest.py:424: FutureWarning: `max_features='auto'` has been deprecated in 1.1 and will be removed in 1.3. To keep the past behaviour, explicitly set `max_features='sqrt'` or remove this parameter as it is also the default value for RandomForestClassifiers and ExtraTreesClassifiers.\n",
            "  warn(\n"
          ]
        },
        {
          "output_type": "stream",
          "name": "stdout",
          "text": [
            "Accuracy: 0.9649\n",
            "Classification Report:\n",
            "{'0': {'precision': 0.9672131147540983, 'recall': 0.9365079365079365, 'f1-score': 0.9516129032258064, 'support': 63}, '1': {'precision': 0.9636363636363636, 'recall': 0.9814814814814815, 'f1-score': 0.9724770642201834, 'support': 108}, 'accuracy': 0.9649122807017544, 'macro avg': {'precision': 0.965424739195231, 'recall': 0.9589947089947091, 'f1-score': 0.962044983722995, 'support': 171}, 'weighted avg': {'precision': 0.9649541140481607, 'recall': 0.9649122807017544, 'f1-score': 0.9647902680643603, 'support': 171}}\n",
            "\n",
            "============================================================\n",
            "\n",
            "Training with parameters: {'n_estimators': 100, 'max_depth': None, 'max_features': 'auto', 'min_samples_split': 10, 'min_samples_leaf': 2}\n"
          ]
        },
        {
          "output_type": "stream",
          "name": "stderr",
          "text": [
            "/usr/local/lib/python3.10/dist-packages/sklearn/ensemble/_forest.py:424: FutureWarning: `max_features='auto'` has been deprecated in 1.1 and will be removed in 1.3. To keep the past behaviour, explicitly set `max_features='sqrt'` or remove this parameter as it is also the default value for RandomForestClassifiers and ExtraTreesClassifiers.\n",
            "  warn(\n"
          ]
        },
        {
          "output_type": "stream",
          "name": "stdout",
          "text": [
            "Accuracy: 0.9649\n",
            "Classification Report:\n",
            "{'0': {'precision': 0.9672131147540983, 'recall': 0.9365079365079365, 'f1-score': 0.9516129032258064, 'support': 63}, '1': {'precision': 0.9636363636363636, 'recall': 0.9814814814814815, 'f1-score': 0.9724770642201834, 'support': 108}, 'accuracy': 0.9649122807017544, 'macro avg': {'precision': 0.965424739195231, 'recall': 0.9589947089947091, 'f1-score': 0.962044983722995, 'support': 171}, 'weighted avg': {'precision': 0.9649541140481607, 'recall': 0.9649122807017544, 'f1-score': 0.9647902680643603, 'support': 171}}\n",
            "\n",
            "============================================================\n",
            "\n",
            "Training with parameters: {'n_estimators': 100, 'max_depth': None, 'max_features': 'auto', 'min_samples_split': 10, 'min_samples_leaf': 4}\n"
          ]
        },
        {
          "output_type": "stream",
          "name": "stderr",
          "text": [
            "/usr/local/lib/python3.10/dist-packages/sklearn/ensemble/_forest.py:424: FutureWarning: `max_features='auto'` has been deprecated in 1.1 and will be removed in 1.3. To keep the past behaviour, explicitly set `max_features='sqrt'` or remove this parameter as it is also the default value for RandomForestClassifiers and ExtraTreesClassifiers.\n",
            "  warn(\n"
          ]
        },
        {
          "output_type": "stream",
          "name": "stdout",
          "text": [
            "Accuracy: 0.9649\n",
            "Classification Report:\n",
            "{'0': {'precision': 0.9672131147540983, 'recall': 0.9365079365079365, 'f1-score': 0.9516129032258064, 'support': 63}, '1': {'precision': 0.9636363636363636, 'recall': 0.9814814814814815, 'f1-score': 0.9724770642201834, 'support': 108}, 'accuracy': 0.9649122807017544, 'macro avg': {'precision': 0.965424739195231, 'recall': 0.9589947089947091, 'f1-score': 0.962044983722995, 'support': 171}, 'weighted avg': {'precision': 0.9649541140481607, 'recall': 0.9649122807017544, 'f1-score': 0.9647902680643603, 'support': 171}}\n",
            "\n",
            "============================================================\n",
            "\n",
            "Training with parameters: {'n_estimators': 100, 'max_depth': None, 'max_features': 'sqrt', 'min_samples_split': 2, 'min_samples_leaf': 1}\n",
            "Accuracy: 0.9708\n",
            "Classification Report:\n",
            "{'0': {'precision': 0.9833333333333333, 'recall': 0.9365079365079365, 'f1-score': 0.9593495934959351, 'support': 63}, '1': {'precision': 0.963963963963964, 'recall': 0.9907407407407407, 'f1-score': 0.9771689497716894, 'support': 108}, 'accuracy': 0.9707602339181286, 'macro avg': {'precision': 0.9736486486486486, 'recall': 0.9636243386243386, 'f1-score': 0.9682592716338123, 'support': 171}, 'weighted avg': {'precision': 0.9711000474158369, 'recall': 0.9707602339181286, 'f1-score': 0.970603923775359, 'support': 171}}\n",
            "\n",
            "============================================================\n",
            "\n",
            "Training with parameters: {'n_estimators': 100, 'max_depth': None, 'max_features': 'sqrt', 'min_samples_split': 2, 'min_samples_leaf': 2}\n",
            "Accuracy: 0.9649\n",
            "Classification Report:\n",
            "{'0': {'precision': 0.9672131147540983, 'recall': 0.9365079365079365, 'f1-score': 0.9516129032258064, 'support': 63}, '1': {'precision': 0.9636363636363636, 'recall': 0.9814814814814815, 'f1-score': 0.9724770642201834, 'support': 108}, 'accuracy': 0.9649122807017544, 'macro avg': {'precision': 0.965424739195231, 'recall': 0.9589947089947091, 'f1-score': 0.962044983722995, 'support': 171}, 'weighted avg': {'precision': 0.9649541140481607, 'recall': 0.9649122807017544, 'f1-score': 0.9647902680643603, 'support': 171}}\n",
            "\n",
            "============================================================\n",
            "\n",
            "Training with parameters: {'n_estimators': 100, 'max_depth': None, 'max_features': 'sqrt', 'min_samples_split': 2, 'min_samples_leaf': 4}\n",
            "Accuracy: 0.9708\n",
            "Classification Report:\n",
            "{'0': {'precision': 0.9833333333333333, 'recall': 0.9365079365079365, 'f1-score': 0.9593495934959351, 'support': 63}, '1': {'precision': 0.963963963963964, 'recall': 0.9907407407407407, 'f1-score': 0.9771689497716894, 'support': 108}, 'accuracy': 0.9707602339181286, 'macro avg': {'precision': 0.9736486486486486, 'recall': 0.9636243386243386, 'f1-score': 0.9682592716338123, 'support': 171}, 'weighted avg': {'precision': 0.9711000474158369, 'recall': 0.9707602339181286, 'f1-score': 0.970603923775359, 'support': 171}}\n",
            "\n",
            "============================================================\n",
            "\n",
            "Training with parameters: {'n_estimators': 100, 'max_depth': None, 'max_features': 'sqrt', 'min_samples_split': 5, 'min_samples_leaf': 1}\n",
            "Accuracy: 0.9591\n",
            "Classification Report:\n",
            "{'0': {'precision': 0.9666666666666667, 'recall': 0.9206349206349206, 'f1-score': 0.943089430894309, 'support': 63}, '1': {'precision': 0.954954954954955, 'recall': 0.9814814814814815, 'f1-score': 0.9680365296803655, 'support': 108}, 'accuracy': 0.9590643274853801, 'macro avg': {'precision': 0.9608108108108109, 'recall': 0.951058201058201, 'f1-score': 0.9555629802873372, 'support': 171}, 'weighted avg': {'precision': 0.9592697961119013, 'recall': 0.9590643274853801, 'f1-score': 0.9588454932855025, 'support': 171}}\n",
            "\n",
            "============================================================\n",
            "\n",
            "Training with parameters: {'n_estimators': 100, 'max_depth': None, 'max_features': 'sqrt', 'min_samples_split': 5, 'min_samples_leaf': 2}\n",
            "Accuracy: 0.9591\n",
            "Classification Report:\n",
            "{'0': {'precision': 0.9666666666666667, 'recall': 0.9206349206349206, 'f1-score': 0.943089430894309, 'support': 63}, '1': {'precision': 0.954954954954955, 'recall': 0.9814814814814815, 'f1-score': 0.9680365296803655, 'support': 108}, 'accuracy': 0.9590643274853801, 'macro avg': {'precision': 0.9608108108108109, 'recall': 0.951058201058201, 'f1-score': 0.9555629802873372, 'support': 171}, 'weighted avg': {'precision': 0.9592697961119013, 'recall': 0.9590643274853801, 'f1-score': 0.9588454932855025, 'support': 171}}\n",
            "\n",
            "============================================================\n",
            "\n",
            "Training with parameters: {'n_estimators': 100, 'max_depth': None, 'max_features': 'sqrt', 'min_samples_split': 5, 'min_samples_leaf': 4}\n",
            "Accuracy: 0.9708\n",
            "Classification Report:\n",
            "{'0': {'precision': 0.9833333333333333, 'recall': 0.9365079365079365, 'f1-score': 0.9593495934959351, 'support': 63}, '1': {'precision': 0.963963963963964, 'recall': 0.9907407407407407, 'f1-score': 0.9771689497716894, 'support': 108}, 'accuracy': 0.9707602339181286, 'macro avg': {'precision': 0.9736486486486486, 'recall': 0.9636243386243386, 'f1-score': 0.9682592716338123, 'support': 171}, 'weighted avg': {'precision': 0.9711000474158369, 'recall': 0.9707602339181286, 'f1-score': 0.970603923775359, 'support': 171}}\n",
            "\n",
            "============================================================\n",
            "\n",
            "Training with parameters: {'n_estimators': 100, 'max_depth': None, 'max_features': 'sqrt', 'min_samples_split': 10, 'min_samples_leaf': 1}\n",
            "Accuracy: 0.9649\n",
            "Classification Report:\n",
            "{'0': {'precision': 0.9672131147540983, 'recall': 0.9365079365079365, 'f1-score': 0.9516129032258064, 'support': 63}, '1': {'precision': 0.9636363636363636, 'recall': 0.9814814814814815, 'f1-score': 0.9724770642201834, 'support': 108}, 'accuracy': 0.9649122807017544, 'macro avg': {'precision': 0.965424739195231, 'recall': 0.9589947089947091, 'f1-score': 0.962044983722995, 'support': 171}, 'weighted avg': {'precision': 0.9649541140481607, 'recall': 0.9649122807017544, 'f1-score': 0.9647902680643603, 'support': 171}}\n",
            "\n",
            "============================================================\n",
            "\n",
            "Training with parameters: {'n_estimators': 100, 'max_depth': None, 'max_features': 'sqrt', 'min_samples_split': 10, 'min_samples_leaf': 2}\n",
            "Accuracy: 0.9649\n",
            "Classification Report:\n",
            "{'0': {'precision': 0.9672131147540983, 'recall': 0.9365079365079365, 'f1-score': 0.9516129032258064, 'support': 63}, '1': {'precision': 0.9636363636363636, 'recall': 0.9814814814814815, 'f1-score': 0.9724770642201834, 'support': 108}, 'accuracy': 0.9649122807017544, 'macro avg': {'precision': 0.965424739195231, 'recall': 0.9589947089947091, 'f1-score': 0.962044983722995, 'support': 171}, 'weighted avg': {'precision': 0.9649541140481607, 'recall': 0.9649122807017544, 'f1-score': 0.9647902680643603, 'support': 171}}\n",
            "\n",
            "============================================================\n",
            "\n",
            "Training with parameters: {'n_estimators': 100, 'max_depth': None, 'max_features': 'sqrt', 'min_samples_split': 10, 'min_samples_leaf': 4}\n",
            "Accuracy: 0.9649\n",
            "Classification Report:\n",
            "{'0': {'precision': 0.9672131147540983, 'recall': 0.9365079365079365, 'f1-score': 0.9516129032258064, 'support': 63}, '1': {'precision': 0.9636363636363636, 'recall': 0.9814814814814815, 'f1-score': 0.9724770642201834, 'support': 108}, 'accuracy': 0.9649122807017544, 'macro avg': {'precision': 0.965424739195231, 'recall': 0.9589947089947091, 'f1-score': 0.962044983722995, 'support': 171}, 'weighted avg': {'precision': 0.9649541140481607, 'recall': 0.9649122807017544, 'f1-score': 0.9647902680643603, 'support': 171}}\n",
            "\n",
            "============================================================\n",
            "\n",
            "Training with parameters: {'n_estimators': 100, 'max_depth': None, 'max_features': 'log2', 'min_samples_split': 2, 'min_samples_leaf': 1}\n",
            "Accuracy: 0.9708\n",
            "Classification Report:\n",
            "{'0': {'precision': 0.9833333333333333, 'recall': 0.9365079365079365, 'f1-score': 0.9593495934959351, 'support': 63}, '1': {'precision': 0.963963963963964, 'recall': 0.9907407407407407, 'f1-score': 0.9771689497716894, 'support': 108}, 'accuracy': 0.9707602339181286, 'macro avg': {'precision': 0.9736486486486486, 'recall': 0.9636243386243386, 'f1-score': 0.9682592716338123, 'support': 171}, 'weighted avg': {'precision': 0.9711000474158369, 'recall': 0.9707602339181286, 'f1-score': 0.970603923775359, 'support': 171}}\n",
            "\n",
            "============================================================\n",
            "\n",
            "Training with parameters: {'n_estimators': 100, 'max_depth': None, 'max_features': 'log2', 'min_samples_split': 2, 'min_samples_leaf': 2}\n",
            "Accuracy: 0.9708\n",
            "Classification Report:\n",
            "{'0': {'precision': 0.9833333333333333, 'recall': 0.9365079365079365, 'f1-score': 0.9593495934959351, 'support': 63}, '1': {'precision': 0.963963963963964, 'recall': 0.9907407407407407, 'f1-score': 0.9771689497716894, 'support': 108}, 'accuracy': 0.9707602339181286, 'macro avg': {'precision': 0.9736486486486486, 'recall': 0.9636243386243386, 'f1-score': 0.9682592716338123, 'support': 171}, 'weighted avg': {'precision': 0.9711000474158369, 'recall': 0.9707602339181286, 'f1-score': 0.970603923775359, 'support': 171}}\n",
            "\n",
            "============================================================\n",
            "\n",
            "Training with parameters: {'n_estimators': 100, 'max_depth': None, 'max_features': 'log2', 'min_samples_split': 2, 'min_samples_leaf': 4}\n",
            "Accuracy: 0.9708\n",
            "Classification Report:\n",
            "{'0': {'precision': 0.9833333333333333, 'recall': 0.9365079365079365, 'f1-score': 0.9593495934959351, 'support': 63}, '1': {'precision': 0.963963963963964, 'recall': 0.9907407407407407, 'f1-score': 0.9771689497716894, 'support': 108}, 'accuracy': 0.9707602339181286, 'macro avg': {'precision': 0.9736486486486486, 'recall': 0.9636243386243386, 'f1-score': 0.9682592716338123, 'support': 171}, 'weighted avg': {'precision': 0.9711000474158369, 'recall': 0.9707602339181286, 'f1-score': 0.970603923775359, 'support': 171}}\n",
            "\n",
            "============================================================\n",
            "\n",
            "Training with parameters: {'n_estimators': 100, 'max_depth': None, 'max_features': 'log2', 'min_samples_split': 5, 'min_samples_leaf': 1}\n",
            "Accuracy: 0.9708\n",
            "Classification Report:\n",
            "{'0': {'precision': 0.9833333333333333, 'recall': 0.9365079365079365, 'f1-score': 0.9593495934959351, 'support': 63}, '1': {'precision': 0.963963963963964, 'recall': 0.9907407407407407, 'f1-score': 0.9771689497716894, 'support': 108}, 'accuracy': 0.9707602339181286, 'macro avg': {'precision': 0.9736486486486486, 'recall': 0.9636243386243386, 'f1-score': 0.9682592716338123, 'support': 171}, 'weighted avg': {'precision': 0.9711000474158369, 'recall': 0.9707602339181286, 'f1-score': 0.970603923775359, 'support': 171}}\n",
            "\n",
            "============================================================\n",
            "\n",
            "Training with parameters: {'n_estimators': 100, 'max_depth': None, 'max_features': 'log2', 'min_samples_split': 5, 'min_samples_leaf': 2}\n",
            "Accuracy: 0.9708\n",
            "Classification Report:\n",
            "{'0': {'precision': 0.9833333333333333, 'recall': 0.9365079365079365, 'f1-score': 0.9593495934959351, 'support': 63}, '1': {'precision': 0.963963963963964, 'recall': 0.9907407407407407, 'f1-score': 0.9771689497716894, 'support': 108}, 'accuracy': 0.9707602339181286, 'macro avg': {'precision': 0.9736486486486486, 'recall': 0.9636243386243386, 'f1-score': 0.9682592716338123, 'support': 171}, 'weighted avg': {'precision': 0.9711000474158369, 'recall': 0.9707602339181286, 'f1-score': 0.970603923775359, 'support': 171}}\n",
            "\n",
            "============================================================\n",
            "\n",
            "Training with parameters: {'n_estimators': 100, 'max_depth': None, 'max_features': 'log2', 'min_samples_split': 5, 'min_samples_leaf': 4}\n",
            "Accuracy: 0.9708\n",
            "Classification Report:\n",
            "{'0': {'precision': 0.9833333333333333, 'recall': 0.9365079365079365, 'f1-score': 0.9593495934959351, 'support': 63}, '1': {'precision': 0.963963963963964, 'recall': 0.9907407407407407, 'f1-score': 0.9771689497716894, 'support': 108}, 'accuracy': 0.9707602339181286, 'macro avg': {'precision': 0.9736486486486486, 'recall': 0.9636243386243386, 'f1-score': 0.9682592716338123, 'support': 171}, 'weighted avg': {'precision': 0.9711000474158369, 'recall': 0.9707602339181286, 'f1-score': 0.970603923775359, 'support': 171}}\n",
            "\n",
            "============================================================\n",
            "\n",
            "Training with parameters: {'n_estimators': 100, 'max_depth': None, 'max_features': 'log2', 'min_samples_split': 10, 'min_samples_leaf': 1}\n",
            "Accuracy: 0.9708\n",
            "Classification Report:\n",
            "{'0': {'precision': 0.9833333333333333, 'recall': 0.9365079365079365, 'f1-score': 0.9593495934959351, 'support': 63}, '1': {'precision': 0.963963963963964, 'recall': 0.9907407407407407, 'f1-score': 0.9771689497716894, 'support': 108}, 'accuracy': 0.9707602339181286, 'macro avg': {'precision': 0.9736486486486486, 'recall': 0.9636243386243386, 'f1-score': 0.9682592716338123, 'support': 171}, 'weighted avg': {'precision': 0.9711000474158369, 'recall': 0.9707602339181286, 'f1-score': 0.970603923775359, 'support': 171}}\n",
            "\n",
            "============================================================\n",
            "\n",
            "Training with parameters: {'n_estimators': 100, 'max_depth': None, 'max_features': 'log2', 'min_samples_split': 10, 'min_samples_leaf': 2}\n",
            "Accuracy: 0.9708\n",
            "Classification Report:\n",
            "{'0': {'precision': 0.9833333333333333, 'recall': 0.9365079365079365, 'f1-score': 0.9593495934959351, 'support': 63}, '1': {'precision': 0.963963963963964, 'recall': 0.9907407407407407, 'f1-score': 0.9771689497716894, 'support': 108}, 'accuracy': 0.9707602339181286, 'macro avg': {'precision': 0.9736486486486486, 'recall': 0.9636243386243386, 'f1-score': 0.9682592716338123, 'support': 171}, 'weighted avg': {'precision': 0.9711000474158369, 'recall': 0.9707602339181286, 'f1-score': 0.970603923775359, 'support': 171}}\n",
            "\n",
            "============================================================\n",
            "\n",
            "Training with parameters: {'n_estimators': 100, 'max_depth': None, 'max_features': 'log2', 'min_samples_split': 10, 'min_samples_leaf': 4}\n",
            "Accuracy: 0.9708\n",
            "Classification Report:\n",
            "{'0': {'precision': 0.9833333333333333, 'recall': 0.9365079365079365, 'f1-score': 0.9593495934959351, 'support': 63}, '1': {'precision': 0.963963963963964, 'recall': 0.9907407407407407, 'f1-score': 0.9771689497716894, 'support': 108}, 'accuracy': 0.9707602339181286, 'macro avg': {'precision': 0.9736486486486486, 'recall': 0.9636243386243386, 'f1-score': 0.9682592716338123, 'support': 171}, 'weighted avg': {'precision': 0.9711000474158369, 'recall': 0.9707602339181286, 'f1-score': 0.970603923775359, 'support': 171}}\n",
            "\n",
            "============================================================\n",
            "\n",
            "Training with parameters: {'n_estimators': 100, 'max_depth': 10, 'max_features': 'auto', 'min_samples_split': 2, 'min_samples_leaf': 1}\n"
          ]
        },
        {
          "output_type": "stream",
          "name": "stderr",
          "text": [
            "/usr/local/lib/python3.10/dist-packages/sklearn/ensemble/_forest.py:424: FutureWarning: `max_features='auto'` has been deprecated in 1.1 and will be removed in 1.3. To keep the past behaviour, explicitly set `max_features='sqrt'` or remove this parameter as it is also the default value for RandomForestClassifiers and ExtraTreesClassifiers.\n",
            "  warn(\n"
          ]
        },
        {
          "output_type": "stream",
          "name": "stdout",
          "text": [
            "Accuracy: 0.9708\n",
            "Classification Report:\n",
            "{'0': {'precision': 0.9833333333333333, 'recall': 0.9365079365079365, 'f1-score': 0.9593495934959351, 'support': 63}, '1': {'precision': 0.963963963963964, 'recall': 0.9907407407407407, 'f1-score': 0.9771689497716894, 'support': 108}, 'accuracy': 0.9707602339181286, 'macro avg': {'precision': 0.9736486486486486, 'recall': 0.9636243386243386, 'f1-score': 0.9682592716338123, 'support': 171}, 'weighted avg': {'precision': 0.9711000474158369, 'recall': 0.9707602339181286, 'f1-score': 0.970603923775359, 'support': 171}}\n",
            "\n",
            "============================================================\n",
            "\n",
            "Training with parameters: {'n_estimators': 100, 'max_depth': 10, 'max_features': 'auto', 'min_samples_split': 2, 'min_samples_leaf': 2}\n"
          ]
        },
        {
          "output_type": "stream",
          "name": "stderr",
          "text": [
            "/usr/local/lib/python3.10/dist-packages/sklearn/ensemble/_forest.py:424: FutureWarning: `max_features='auto'` has been deprecated in 1.1 and will be removed in 1.3. To keep the past behaviour, explicitly set `max_features='sqrt'` or remove this parameter as it is also the default value for RandomForestClassifiers and ExtraTreesClassifiers.\n",
            "  warn(\n"
          ]
        },
        {
          "output_type": "stream",
          "name": "stdout",
          "text": [
            "Accuracy: 0.9649\n",
            "Classification Report:\n",
            "{'0': {'precision': 0.9672131147540983, 'recall': 0.9365079365079365, 'f1-score': 0.9516129032258064, 'support': 63}, '1': {'precision': 0.9636363636363636, 'recall': 0.9814814814814815, 'f1-score': 0.9724770642201834, 'support': 108}, 'accuracy': 0.9649122807017544, 'macro avg': {'precision': 0.965424739195231, 'recall': 0.9589947089947091, 'f1-score': 0.962044983722995, 'support': 171}, 'weighted avg': {'precision': 0.9649541140481607, 'recall': 0.9649122807017544, 'f1-score': 0.9647902680643603, 'support': 171}}\n",
            "\n",
            "============================================================\n",
            "\n",
            "Training with parameters: {'n_estimators': 100, 'max_depth': 10, 'max_features': 'auto', 'min_samples_split': 2, 'min_samples_leaf': 4}\n"
          ]
        },
        {
          "output_type": "stream",
          "name": "stderr",
          "text": [
            "/usr/local/lib/python3.10/dist-packages/sklearn/ensemble/_forest.py:424: FutureWarning: `max_features='auto'` has been deprecated in 1.1 and will be removed in 1.3. To keep the past behaviour, explicitly set `max_features='sqrt'` or remove this parameter as it is also the default value for RandomForestClassifiers and ExtraTreesClassifiers.\n",
            "  warn(\n"
          ]
        },
        {
          "output_type": "stream",
          "name": "stdout",
          "text": [
            "Accuracy: 0.9708\n",
            "Classification Report:\n",
            "{'0': {'precision': 0.9833333333333333, 'recall': 0.9365079365079365, 'f1-score': 0.9593495934959351, 'support': 63}, '1': {'precision': 0.963963963963964, 'recall': 0.9907407407407407, 'f1-score': 0.9771689497716894, 'support': 108}, 'accuracy': 0.9707602339181286, 'macro avg': {'precision': 0.9736486486486486, 'recall': 0.9636243386243386, 'f1-score': 0.9682592716338123, 'support': 171}, 'weighted avg': {'precision': 0.9711000474158369, 'recall': 0.9707602339181286, 'f1-score': 0.970603923775359, 'support': 171}}\n",
            "\n",
            "============================================================\n",
            "\n",
            "Training with parameters: {'n_estimators': 100, 'max_depth': 10, 'max_features': 'auto', 'min_samples_split': 5, 'min_samples_leaf': 1}\n"
          ]
        },
        {
          "output_type": "stream",
          "name": "stderr",
          "text": [
            "/usr/local/lib/python3.10/dist-packages/sklearn/ensemble/_forest.py:424: FutureWarning: `max_features='auto'` has been deprecated in 1.1 and will be removed in 1.3. To keep the past behaviour, explicitly set `max_features='sqrt'` or remove this parameter as it is also the default value for RandomForestClassifiers and ExtraTreesClassifiers.\n",
            "  warn(\n"
          ]
        },
        {
          "output_type": "stream",
          "name": "stdout",
          "text": [
            "Accuracy: 0.9591\n",
            "Classification Report:\n",
            "{'0': {'precision': 0.9666666666666667, 'recall': 0.9206349206349206, 'f1-score': 0.943089430894309, 'support': 63}, '1': {'precision': 0.954954954954955, 'recall': 0.9814814814814815, 'f1-score': 0.9680365296803655, 'support': 108}, 'accuracy': 0.9590643274853801, 'macro avg': {'precision': 0.9608108108108109, 'recall': 0.951058201058201, 'f1-score': 0.9555629802873372, 'support': 171}, 'weighted avg': {'precision': 0.9592697961119013, 'recall': 0.9590643274853801, 'f1-score': 0.9588454932855025, 'support': 171}}\n",
            "\n",
            "============================================================\n",
            "\n",
            "Training with parameters: {'n_estimators': 100, 'max_depth': 10, 'max_features': 'auto', 'min_samples_split': 5, 'min_samples_leaf': 2}\n"
          ]
        },
        {
          "output_type": "stream",
          "name": "stderr",
          "text": [
            "/usr/local/lib/python3.10/dist-packages/sklearn/ensemble/_forest.py:424: FutureWarning: `max_features='auto'` has been deprecated in 1.1 and will be removed in 1.3. To keep the past behaviour, explicitly set `max_features='sqrt'` or remove this parameter as it is also the default value for RandomForestClassifiers and ExtraTreesClassifiers.\n",
            "  warn(\n"
          ]
        },
        {
          "output_type": "stream",
          "name": "stdout",
          "text": [
            "Accuracy: 0.9591\n",
            "Classification Report:\n",
            "{'0': {'precision': 0.9666666666666667, 'recall': 0.9206349206349206, 'f1-score': 0.943089430894309, 'support': 63}, '1': {'precision': 0.954954954954955, 'recall': 0.9814814814814815, 'f1-score': 0.9680365296803655, 'support': 108}, 'accuracy': 0.9590643274853801, 'macro avg': {'precision': 0.9608108108108109, 'recall': 0.951058201058201, 'f1-score': 0.9555629802873372, 'support': 171}, 'weighted avg': {'precision': 0.9592697961119013, 'recall': 0.9590643274853801, 'f1-score': 0.9588454932855025, 'support': 171}}\n",
            "\n",
            "============================================================\n",
            "\n",
            "Training with parameters: {'n_estimators': 100, 'max_depth': 10, 'max_features': 'auto', 'min_samples_split': 5, 'min_samples_leaf': 4}\n"
          ]
        },
        {
          "output_type": "stream",
          "name": "stderr",
          "text": [
            "/usr/local/lib/python3.10/dist-packages/sklearn/ensemble/_forest.py:424: FutureWarning: `max_features='auto'` has been deprecated in 1.1 and will be removed in 1.3. To keep the past behaviour, explicitly set `max_features='sqrt'` or remove this parameter as it is also the default value for RandomForestClassifiers and ExtraTreesClassifiers.\n",
            "  warn(\n"
          ]
        },
        {
          "output_type": "stream",
          "name": "stdout",
          "text": [
            "Accuracy: 0.9708\n",
            "Classification Report:\n",
            "{'0': {'precision': 0.9833333333333333, 'recall': 0.9365079365079365, 'f1-score': 0.9593495934959351, 'support': 63}, '1': {'precision': 0.963963963963964, 'recall': 0.9907407407407407, 'f1-score': 0.9771689497716894, 'support': 108}, 'accuracy': 0.9707602339181286, 'macro avg': {'precision': 0.9736486486486486, 'recall': 0.9636243386243386, 'f1-score': 0.9682592716338123, 'support': 171}, 'weighted avg': {'precision': 0.9711000474158369, 'recall': 0.9707602339181286, 'f1-score': 0.970603923775359, 'support': 171}}\n",
            "\n",
            "============================================================\n",
            "\n",
            "Training with parameters: {'n_estimators': 100, 'max_depth': 10, 'max_features': 'auto', 'min_samples_split': 10, 'min_samples_leaf': 1}\n"
          ]
        },
        {
          "output_type": "stream",
          "name": "stderr",
          "text": [
            "/usr/local/lib/python3.10/dist-packages/sklearn/ensemble/_forest.py:424: FutureWarning: `max_features='auto'` has been deprecated in 1.1 and will be removed in 1.3. To keep the past behaviour, explicitly set `max_features='sqrt'` or remove this parameter as it is also the default value for RandomForestClassifiers and ExtraTreesClassifiers.\n",
            "  warn(\n"
          ]
        },
        {
          "output_type": "stream",
          "name": "stdout",
          "text": [
            "Accuracy: 0.9649\n",
            "Classification Report:\n",
            "{'0': {'precision': 0.9672131147540983, 'recall': 0.9365079365079365, 'f1-score': 0.9516129032258064, 'support': 63}, '1': {'precision': 0.9636363636363636, 'recall': 0.9814814814814815, 'f1-score': 0.9724770642201834, 'support': 108}, 'accuracy': 0.9649122807017544, 'macro avg': {'precision': 0.965424739195231, 'recall': 0.9589947089947091, 'f1-score': 0.962044983722995, 'support': 171}, 'weighted avg': {'precision': 0.9649541140481607, 'recall': 0.9649122807017544, 'f1-score': 0.9647902680643603, 'support': 171}}\n",
            "\n",
            "============================================================\n",
            "\n",
            "Training with parameters: {'n_estimators': 100, 'max_depth': 10, 'max_features': 'auto', 'min_samples_split': 10, 'min_samples_leaf': 2}\n"
          ]
        },
        {
          "output_type": "stream",
          "name": "stderr",
          "text": [
            "/usr/local/lib/python3.10/dist-packages/sklearn/ensemble/_forest.py:424: FutureWarning: `max_features='auto'` has been deprecated in 1.1 and will be removed in 1.3. To keep the past behaviour, explicitly set `max_features='sqrt'` or remove this parameter as it is also the default value for RandomForestClassifiers and ExtraTreesClassifiers.\n",
            "  warn(\n"
          ]
        },
        {
          "output_type": "stream",
          "name": "stdout",
          "text": [
            "Accuracy: 0.9649\n",
            "Classification Report:\n",
            "{'0': {'precision': 0.9672131147540983, 'recall': 0.9365079365079365, 'f1-score': 0.9516129032258064, 'support': 63}, '1': {'precision': 0.9636363636363636, 'recall': 0.9814814814814815, 'f1-score': 0.9724770642201834, 'support': 108}, 'accuracy': 0.9649122807017544, 'macro avg': {'precision': 0.965424739195231, 'recall': 0.9589947089947091, 'f1-score': 0.962044983722995, 'support': 171}, 'weighted avg': {'precision': 0.9649541140481607, 'recall': 0.9649122807017544, 'f1-score': 0.9647902680643603, 'support': 171}}\n",
            "\n",
            "============================================================\n",
            "\n",
            "Training with parameters: {'n_estimators': 100, 'max_depth': 10, 'max_features': 'auto', 'min_samples_split': 10, 'min_samples_leaf': 4}\n"
          ]
        },
        {
          "output_type": "stream",
          "name": "stderr",
          "text": [
            "/usr/local/lib/python3.10/dist-packages/sklearn/ensemble/_forest.py:424: FutureWarning: `max_features='auto'` has been deprecated in 1.1 and will be removed in 1.3. To keep the past behaviour, explicitly set `max_features='sqrt'` or remove this parameter as it is also the default value for RandomForestClassifiers and ExtraTreesClassifiers.\n",
            "  warn(\n"
          ]
        },
        {
          "output_type": "stream",
          "name": "stdout",
          "text": [
            "Accuracy: 0.9649\n",
            "Classification Report:\n",
            "{'0': {'precision': 0.9672131147540983, 'recall': 0.9365079365079365, 'f1-score': 0.9516129032258064, 'support': 63}, '1': {'precision': 0.9636363636363636, 'recall': 0.9814814814814815, 'f1-score': 0.9724770642201834, 'support': 108}, 'accuracy': 0.9649122807017544, 'macro avg': {'precision': 0.965424739195231, 'recall': 0.9589947089947091, 'f1-score': 0.962044983722995, 'support': 171}, 'weighted avg': {'precision': 0.9649541140481607, 'recall': 0.9649122807017544, 'f1-score': 0.9647902680643603, 'support': 171}}\n",
            "\n",
            "============================================================\n",
            "\n",
            "Training with parameters: {'n_estimators': 100, 'max_depth': 10, 'max_features': 'sqrt', 'min_samples_split': 2, 'min_samples_leaf': 1}\n",
            "Accuracy: 0.9708\n",
            "Classification Report:\n",
            "{'0': {'precision': 0.9833333333333333, 'recall': 0.9365079365079365, 'f1-score': 0.9593495934959351, 'support': 63}, '1': {'precision': 0.963963963963964, 'recall': 0.9907407407407407, 'f1-score': 0.9771689497716894, 'support': 108}, 'accuracy': 0.9707602339181286, 'macro avg': {'precision': 0.9736486486486486, 'recall': 0.9636243386243386, 'f1-score': 0.9682592716338123, 'support': 171}, 'weighted avg': {'precision': 0.9711000474158369, 'recall': 0.9707602339181286, 'f1-score': 0.970603923775359, 'support': 171}}\n",
            "\n",
            "============================================================\n",
            "\n",
            "Training with parameters: {'n_estimators': 100, 'max_depth': 10, 'max_features': 'sqrt', 'min_samples_split': 2, 'min_samples_leaf': 2}\n",
            "Accuracy: 0.9649\n",
            "Classification Report:\n",
            "{'0': {'precision': 0.9672131147540983, 'recall': 0.9365079365079365, 'f1-score': 0.9516129032258064, 'support': 63}, '1': {'precision': 0.9636363636363636, 'recall': 0.9814814814814815, 'f1-score': 0.9724770642201834, 'support': 108}, 'accuracy': 0.9649122807017544, 'macro avg': {'precision': 0.965424739195231, 'recall': 0.9589947089947091, 'f1-score': 0.962044983722995, 'support': 171}, 'weighted avg': {'precision': 0.9649541140481607, 'recall': 0.9649122807017544, 'f1-score': 0.9647902680643603, 'support': 171}}\n",
            "\n",
            "============================================================\n",
            "\n",
            "Training with parameters: {'n_estimators': 100, 'max_depth': 10, 'max_features': 'sqrt', 'min_samples_split': 2, 'min_samples_leaf': 4}\n",
            "Accuracy: 0.9708\n",
            "Classification Report:\n",
            "{'0': {'precision': 0.9833333333333333, 'recall': 0.9365079365079365, 'f1-score': 0.9593495934959351, 'support': 63}, '1': {'precision': 0.963963963963964, 'recall': 0.9907407407407407, 'f1-score': 0.9771689497716894, 'support': 108}, 'accuracy': 0.9707602339181286, 'macro avg': {'precision': 0.9736486486486486, 'recall': 0.9636243386243386, 'f1-score': 0.9682592716338123, 'support': 171}, 'weighted avg': {'precision': 0.9711000474158369, 'recall': 0.9707602339181286, 'f1-score': 0.970603923775359, 'support': 171}}\n",
            "\n",
            "============================================================\n",
            "\n",
            "Training with parameters: {'n_estimators': 100, 'max_depth': 10, 'max_features': 'sqrt', 'min_samples_split': 5, 'min_samples_leaf': 1}\n",
            "Accuracy: 0.9591\n",
            "Classification Report:\n",
            "{'0': {'precision': 0.9666666666666667, 'recall': 0.9206349206349206, 'f1-score': 0.943089430894309, 'support': 63}, '1': {'precision': 0.954954954954955, 'recall': 0.9814814814814815, 'f1-score': 0.9680365296803655, 'support': 108}, 'accuracy': 0.9590643274853801, 'macro avg': {'precision': 0.9608108108108109, 'recall': 0.951058201058201, 'f1-score': 0.9555629802873372, 'support': 171}, 'weighted avg': {'precision': 0.9592697961119013, 'recall': 0.9590643274853801, 'f1-score': 0.9588454932855025, 'support': 171}}\n",
            "\n",
            "============================================================\n",
            "\n",
            "Training with parameters: {'n_estimators': 100, 'max_depth': 10, 'max_features': 'sqrt', 'min_samples_split': 5, 'min_samples_leaf': 2}\n",
            "Accuracy: 0.9591\n",
            "Classification Report:\n",
            "{'0': {'precision': 0.9666666666666667, 'recall': 0.9206349206349206, 'f1-score': 0.943089430894309, 'support': 63}, '1': {'precision': 0.954954954954955, 'recall': 0.9814814814814815, 'f1-score': 0.9680365296803655, 'support': 108}, 'accuracy': 0.9590643274853801, 'macro avg': {'precision': 0.9608108108108109, 'recall': 0.951058201058201, 'f1-score': 0.9555629802873372, 'support': 171}, 'weighted avg': {'precision': 0.9592697961119013, 'recall': 0.9590643274853801, 'f1-score': 0.9588454932855025, 'support': 171}}\n",
            "\n",
            "============================================================\n",
            "\n",
            "Training with parameters: {'n_estimators': 100, 'max_depth': 10, 'max_features': 'sqrt', 'min_samples_split': 5, 'min_samples_leaf': 4}\n",
            "Accuracy: 0.9708\n",
            "Classification Report:\n",
            "{'0': {'precision': 0.9833333333333333, 'recall': 0.9365079365079365, 'f1-score': 0.9593495934959351, 'support': 63}, '1': {'precision': 0.963963963963964, 'recall': 0.9907407407407407, 'f1-score': 0.9771689497716894, 'support': 108}, 'accuracy': 0.9707602339181286, 'macro avg': {'precision': 0.9736486486486486, 'recall': 0.9636243386243386, 'f1-score': 0.9682592716338123, 'support': 171}, 'weighted avg': {'precision': 0.9711000474158369, 'recall': 0.9707602339181286, 'f1-score': 0.970603923775359, 'support': 171}}\n",
            "\n",
            "============================================================\n",
            "\n",
            "Training with parameters: {'n_estimators': 100, 'max_depth': 10, 'max_features': 'sqrt', 'min_samples_split': 10, 'min_samples_leaf': 1}\n",
            "Accuracy: 0.9649\n",
            "Classification Report:\n",
            "{'0': {'precision': 0.9672131147540983, 'recall': 0.9365079365079365, 'f1-score': 0.9516129032258064, 'support': 63}, '1': {'precision': 0.9636363636363636, 'recall': 0.9814814814814815, 'f1-score': 0.9724770642201834, 'support': 108}, 'accuracy': 0.9649122807017544, 'macro avg': {'precision': 0.965424739195231, 'recall': 0.9589947089947091, 'f1-score': 0.962044983722995, 'support': 171}, 'weighted avg': {'precision': 0.9649541140481607, 'recall': 0.9649122807017544, 'f1-score': 0.9647902680643603, 'support': 171}}\n",
            "\n",
            "============================================================\n",
            "\n",
            "Training with parameters: {'n_estimators': 100, 'max_depth': 10, 'max_features': 'sqrt', 'min_samples_split': 10, 'min_samples_leaf': 2}\n",
            "Accuracy: 0.9649\n",
            "Classification Report:\n",
            "{'0': {'precision': 0.9672131147540983, 'recall': 0.9365079365079365, 'f1-score': 0.9516129032258064, 'support': 63}, '1': {'precision': 0.9636363636363636, 'recall': 0.9814814814814815, 'f1-score': 0.9724770642201834, 'support': 108}, 'accuracy': 0.9649122807017544, 'macro avg': {'precision': 0.965424739195231, 'recall': 0.9589947089947091, 'f1-score': 0.962044983722995, 'support': 171}, 'weighted avg': {'precision': 0.9649541140481607, 'recall': 0.9649122807017544, 'f1-score': 0.9647902680643603, 'support': 171}}\n",
            "\n",
            "============================================================\n",
            "\n",
            "Training with parameters: {'n_estimators': 100, 'max_depth': 10, 'max_features': 'sqrt', 'min_samples_split': 10, 'min_samples_leaf': 4}\n",
            "Accuracy: 0.9649\n",
            "Classification Report:\n",
            "{'0': {'precision': 0.9672131147540983, 'recall': 0.9365079365079365, 'f1-score': 0.9516129032258064, 'support': 63}, '1': {'precision': 0.9636363636363636, 'recall': 0.9814814814814815, 'f1-score': 0.9724770642201834, 'support': 108}, 'accuracy': 0.9649122807017544, 'macro avg': {'precision': 0.965424739195231, 'recall': 0.9589947089947091, 'f1-score': 0.962044983722995, 'support': 171}, 'weighted avg': {'precision': 0.9649541140481607, 'recall': 0.9649122807017544, 'f1-score': 0.9647902680643603, 'support': 171}}\n",
            "\n",
            "============================================================\n",
            "\n",
            "Training with parameters: {'n_estimators': 100, 'max_depth': 10, 'max_features': 'log2', 'min_samples_split': 2, 'min_samples_leaf': 1}\n",
            "Accuracy: 0.9708\n",
            "Classification Report:\n",
            "{'0': {'precision': 0.9833333333333333, 'recall': 0.9365079365079365, 'f1-score': 0.9593495934959351, 'support': 63}, '1': {'precision': 0.963963963963964, 'recall': 0.9907407407407407, 'f1-score': 0.9771689497716894, 'support': 108}, 'accuracy': 0.9707602339181286, 'macro avg': {'precision': 0.9736486486486486, 'recall': 0.9636243386243386, 'f1-score': 0.9682592716338123, 'support': 171}, 'weighted avg': {'precision': 0.9711000474158369, 'recall': 0.9707602339181286, 'f1-score': 0.970603923775359, 'support': 171}}\n",
            "\n",
            "============================================================\n",
            "\n",
            "Training with parameters: {'n_estimators': 100, 'max_depth': 10, 'max_features': 'log2', 'min_samples_split': 2, 'min_samples_leaf': 2}\n",
            "Accuracy: 0.9708\n",
            "Classification Report:\n",
            "{'0': {'precision': 0.9833333333333333, 'recall': 0.9365079365079365, 'f1-score': 0.9593495934959351, 'support': 63}, '1': {'precision': 0.963963963963964, 'recall': 0.9907407407407407, 'f1-score': 0.9771689497716894, 'support': 108}, 'accuracy': 0.9707602339181286, 'macro avg': {'precision': 0.9736486486486486, 'recall': 0.9636243386243386, 'f1-score': 0.9682592716338123, 'support': 171}, 'weighted avg': {'precision': 0.9711000474158369, 'recall': 0.9707602339181286, 'f1-score': 0.970603923775359, 'support': 171}}\n",
            "\n",
            "============================================================\n",
            "\n",
            "Training with parameters: {'n_estimators': 100, 'max_depth': 10, 'max_features': 'log2', 'min_samples_split': 2, 'min_samples_leaf': 4}\n",
            "Accuracy: 0.9708\n",
            "Classification Report:\n",
            "{'0': {'precision': 0.9833333333333333, 'recall': 0.9365079365079365, 'f1-score': 0.9593495934959351, 'support': 63}, '1': {'precision': 0.963963963963964, 'recall': 0.9907407407407407, 'f1-score': 0.9771689497716894, 'support': 108}, 'accuracy': 0.9707602339181286, 'macro avg': {'precision': 0.9736486486486486, 'recall': 0.9636243386243386, 'f1-score': 0.9682592716338123, 'support': 171}, 'weighted avg': {'precision': 0.9711000474158369, 'recall': 0.9707602339181286, 'f1-score': 0.970603923775359, 'support': 171}}\n",
            "\n",
            "============================================================\n",
            "\n",
            "Training with parameters: {'n_estimators': 100, 'max_depth': 10, 'max_features': 'log2', 'min_samples_split': 5, 'min_samples_leaf': 1}\n",
            "Accuracy: 0.9708\n",
            "Classification Report:\n",
            "{'0': {'precision': 0.9833333333333333, 'recall': 0.9365079365079365, 'f1-score': 0.9593495934959351, 'support': 63}, '1': {'precision': 0.963963963963964, 'recall': 0.9907407407407407, 'f1-score': 0.9771689497716894, 'support': 108}, 'accuracy': 0.9707602339181286, 'macro avg': {'precision': 0.9736486486486486, 'recall': 0.9636243386243386, 'f1-score': 0.9682592716338123, 'support': 171}, 'weighted avg': {'precision': 0.9711000474158369, 'recall': 0.9707602339181286, 'f1-score': 0.970603923775359, 'support': 171}}\n",
            "\n",
            "============================================================\n",
            "\n",
            "Training with parameters: {'n_estimators': 100, 'max_depth': 10, 'max_features': 'log2', 'min_samples_split': 5, 'min_samples_leaf': 2}\n",
            "Accuracy: 0.9708\n",
            "Classification Report:\n",
            "{'0': {'precision': 0.9833333333333333, 'recall': 0.9365079365079365, 'f1-score': 0.9593495934959351, 'support': 63}, '1': {'precision': 0.963963963963964, 'recall': 0.9907407407407407, 'f1-score': 0.9771689497716894, 'support': 108}, 'accuracy': 0.9707602339181286, 'macro avg': {'precision': 0.9736486486486486, 'recall': 0.9636243386243386, 'f1-score': 0.9682592716338123, 'support': 171}, 'weighted avg': {'precision': 0.9711000474158369, 'recall': 0.9707602339181286, 'f1-score': 0.970603923775359, 'support': 171}}\n",
            "\n",
            "============================================================\n",
            "\n",
            "Training with parameters: {'n_estimators': 100, 'max_depth': 10, 'max_features': 'log2', 'min_samples_split': 5, 'min_samples_leaf': 4}\n",
            "Accuracy: 0.9708\n",
            "Classification Report:\n",
            "{'0': {'precision': 0.9833333333333333, 'recall': 0.9365079365079365, 'f1-score': 0.9593495934959351, 'support': 63}, '1': {'precision': 0.963963963963964, 'recall': 0.9907407407407407, 'f1-score': 0.9771689497716894, 'support': 108}, 'accuracy': 0.9707602339181286, 'macro avg': {'precision': 0.9736486486486486, 'recall': 0.9636243386243386, 'f1-score': 0.9682592716338123, 'support': 171}, 'weighted avg': {'precision': 0.9711000474158369, 'recall': 0.9707602339181286, 'f1-score': 0.970603923775359, 'support': 171}}\n",
            "\n",
            "============================================================\n",
            "\n",
            "Training with parameters: {'n_estimators': 100, 'max_depth': 10, 'max_features': 'log2', 'min_samples_split': 10, 'min_samples_leaf': 1}\n",
            "Accuracy: 0.9708\n",
            "Classification Report:\n",
            "{'0': {'precision': 0.9833333333333333, 'recall': 0.9365079365079365, 'f1-score': 0.9593495934959351, 'support': 63}, '1': {'precision': 0.963963963963964, 'recall': 0.9907407407407407, 'f1-score': 0.9771689497716894, 'support': 108}, 'accuracy': 0.9707602339181286, 'macro avg': {'precision': 0.9736486486486486, 'recall': 0.9636243386243386, 'f1-score': 0.9682592716338123, 'support': 171}, 'weighted avg': {'precision': 0.9711000474158369, 'recall': 0.9707602339181286, 'f1-score': 0.970603923775359, 'support': 171}}\n",
            "\n",
            "============================================================\n",
            "\n",
            "Training with parameters: {'n_estimators': 100, 'max_depth': 10, 'max_features': 'log2', 'min_samples_split': 10, 'min_samples_leaf': 2}\n",
            "Accuracy: 0.9708\n",
            "Classification Report:\n",
            "{'0': {'precision': 0.9833333333333333, 'recall': 0.9365079365079365, 'f1-score': 0.9593495934959351, 'support': 63}, '1': {'precision': 0.963963963963964, 'recall': 0.9907407407407407, 'f1-score': 0.9771689497716894, 'support': 108}, 'accuracy': 0.9707602339181286, 'macro avg': {'precision': 0.9736486486486486, 'recall': 0.9636243386243386, 'f1-score': 0.9682592716338123, 'support': 171}, 'weighted avg': {'precision': 0.9711000474158369, 'recall': 0.9707602339181286, 'f1-score': 0.970603923775359, 'support': 171}}\n",
            "\n",
            "============================================================\n",
            "\n",
            "Training with parameters: {'n_estimators': 100, 'max_depth': 10, 'max_features': 'log2', 'min_samples_split': 10, 'min_samples_leaf': 4}\n",
            "Accuracy: 0.9708\n",
            "Classification Report:\n",
            "{'0': {'precision': 0.9833333333333333, 'recall': 0.9365079365079365, 'f1-score': 0.9593495934959351, 'support': 63}, '1': {'precision': 0.963963963963964, 'recall': 0.9907407407407407, 'f1-score': 0.9771689497716894, 'support': 108}, 'accuracy': 0.9707602339181286, 'macro avg': {'precision': 0.9736486486486486, 'recall': 0.9636243386243386, 'f1-score': 0.9682592716338123, 'support': 171}, 'weighted avg': {'precision': 0.9711000474158369, 'recall': 0.9707602339181286, 'f1-score': 0.970603923775359, 'support': 171}}\n",
            "\n",
            "============================================================\n",
            "\n",
            "Training with parameters: {'n_estimators': 100, 'max_depth': 20, 'max_features': 'auto', 'min_samples_split': 2, 'min_samples_leaf': 1}\n"
          ]
        },
        {
          "output_type": "stream",
          "name": "stderr",
          "text": [
            "/usr/local/lib/python3.10/dist-packages/sklearn/ensemble/_forest.py:424: FutureWarning: `max_features='auto'` has been deprecated in 1.1 and will be removed in 1.3. To keep the past behaviour, explicitly set `max_features='sqrt'` or remove this parameter as it is also the default value for RandomForestClassifiers and ExtraTreesClassifiers.\n",
            "  warn(\n"
          ]
        },
        {
          "output_type": "stream",
          "name": "stdout",
          "text": [
            "Accuracy: 0.9708\n",
            "Classification Report:\n",
            "{'0': {'precision': 0.9833333333333333, 'recall': 0.9365079365079365, 'f1-score': 0.9593495934959351, 'support': 63}, '1': {'precision': 0.963963963963964, 'recall': 0.9907407407407407, 'f1-score': 0.9771689497716894, 'support': 108}, 'accuracy': 0.9707602339181286, 'macro avg': {'precision': 0.9736486486486486, 'recall': 0.9636243386243386, 'f1-score': 0.9682592716338123, 'support': 171}, 'weighted avg': {'precision': 0.9711000474158369, 'recall': 0.9707602339181286, 'f1-score': 0.970603923775359, 'support': 171}}\n",
            "\n",
            "============================================================\n",
            "\n",
            "Training with parameters: {'n_estimators': 100, 'max_depth': 20, 'max_features': 'auto', 'min_samples_split': 2, 'min_samples_leaf': 2}\n"
          ]
        },
        {
          "output_type": "stream",
          "name": "stderr",
          "text": [
            "/usr/local/lib/python3.10/dist-packages/sklearn/ensemble/_forest.py:424: FutureWarning: `max_features='auto'` has been deprecated in 1.1 and will be removed in 1.3. To keep the past behaviour, explicitly set `max_features='sqrt'` or remove this parameter as it is also the default value for RandomForestClassifiers and ExtraTreesClassifiers.\n",
            "  warn(\n"
          ]
        },
        {
          "output_type": "stream",
          "name": "stdout",
          "text": [
            "Accuracy: 0.9649\n",
            "Classification Report:\n",
            "{'0': {'precision': 0.9672131147540983, 'recall': 0.9365079365079365, 'f1-score': 0.9516129032258064, 'support': 63}, '1': {'precision': 0.9636363636363636, 'recall': 0.9814814814814815, 'f1-score': 0.9724770642201834, 'support': 108}, 'accuracy': 0.9649122807017544, 'macro avg': {'precision': 0.965424739195231, 'recall': 0.9589947089947091, 'f1-score': 0.962044983722995, 'support': 171}, 'weighted avg': {'precision': 0.9649541140481607, 'recall': 0.9649122807017544, 'f1-score': 0.9647902680643603, 'support': 171}}\n",
            "\n",
            "============================================================\n",
            "\n",
            "Training with parameters: {'n_estimators': 100, 'max_depth': 20, 'max_features': 'auto', 'min_samples_split': 2, 'min_samples_leaf': 4}\n"
          ]
        },
        {
          "output_type": "stream",
          "name": "stderr",
          "text": [
            "/usr/local/lib/python3.10/dist-packages/sklearn/ensemble/_forest.py:424: FutureWarning: `max_features='auto'` has been deprecated in 1.1 and will be removed in 1.3. To keep the past behaviour, explicitly set `max_features='sqrt'` or remove this parameter as it is also the default value for RandomForestClassifiers and ExtraTreesClassifiers.\n",
            "  warn(\n"
          ]
        },
        {
          "output_type": "stream",
          "name": "stdout",
          "text": [
            "Accuracy: 0.9708\n",
            "Classification Report:\n",
            "{'0': {'precision': 0.9833333333333333, 'recall': 0.9365079365079365, 'f1-score': 0.9593495934959351, 'support': 63}, '1': {'precision': 0.963963963963964, 'recall': 0.9907407407407407, 'f1-score': 0.9771689497716894, 'support': 108}, 'accuracy': 0.9707602339181286, 'macro avg': {'precision': 0.9736486486486486, 'recall': 0.9636243386243386, 'f1-score': 0.9682592716338123, 'support': 171}, 'weighted avg': {'precision': 0.9711000474158369, 'recall': 0.9707602339181286, 'f1-score': 0.970603923775359, 'support': 171}}\n",
            "\n",
            "============================================================\n",
            "\n",
            "Training with parameters: {'n_estimators': 100, 'max_depth': 20, 'max_features': 'auto', 'min_samples_split': 5, 'min_samples_leaf': 1}\n"
          ]
        },
        {
          "output_type": "stream",
          "name": "stderr",
          "text": [
            "/usr/local/lib/python3.10/dist-packages/sklearn/ensemble/_forest.py:424: FutureWarning: `max_features='auto'` has been deprecated in 1.1 and will be removed in 1.3. To keep the past behaviour, explicitly set `max_features='sqrt'` or remove this parameter as it is also the default value for RandomForestClassifiers and ExtraTreesClassifiers.\n",
            "  warn(\n"
          ]
        },
        {
          "output_type": "stream",
          "name": "stdout",
          "text": [
            "Accuracy: 0.9591\n",
            "Classification Report:\n",
            "{'0': {'precision': 0.9666666666666667, 'recall': 0.9206349206349206, 'f1-score': 0.943089430894309, 'support': 63}, '1': {'precision': 0.954954954954955, 'recall': 0.9814814814814815, 'f1-score': 0.9680365296803655, 'support': 108}, 'accuracy': 0.9590643274853801, 'macro avg': {'precision': 0.9608108108108109, 'recall': 0.951058201058201, 'f1-score': 0.9555629802873372, 'support': 171}, 'weighted avg': {'precision': 0.9592697961119013, 'recall': 0.9590643274853801, 'f1-score': 0.9588454932855025, 'support': 171}}\n",
            "\n",
            "============================================================\n",
            "\n",
            "Training with parameters: {'n_estimators': 100, 'max_depth': 20, 'max_features': 'auto', 'min_samples_split': 5, 'min_samples_leaf': 2}\n"
          ]
        },
        {
          "output_type": "stream",
          "name": "stderr",
          "text": [
            "/usr/local/lib/python3.10/dist-packages/sklearn/ensemble/_forest.py:424: FutureWarning: `max_features='auto'` has been deprecated in 1.1 and will be removed in 1.3. To keep the past behaviour, explicitly set `max_features='sqrt'` or remove this parameter as it is also the default value for RandomForestClassifiers and ExtraTreesClassifiers.\n",
            "  warn(\n"
          ]
        },
        {
          "output_type": "stream",
          "name": "stdout",
          "text": [
            "Accuracy: 0.9591\n",
            "Classification Report:\n",
            "{'0': {'precision': 0.9666666666666667, 'recall': 0.9206349206349206, 'f1-score': 0.943089430894309, 'support': 63}, '1': {'precision': 0.954954954954955, 'recall': 0.9814814814814815, 'f1-score': 0.9680365296803655, 'support': 108}, 'accuracy': 0.9590643274853801, 'macro avg': {'precision': 0.9608108108108109, 'recall': 0.951058201058201, 'f1-score': 0.9555629802873372, 'support': 171}, 'weighted avg': {'precision': 0.9592697961119013, 'recall': 0.9590643274853801, 'f1-score': 0.9588454932855025, 'support': 171}}\n",
            "\n",
            "============================================================\n",
            "\n",
            "Training with parameters: {'n_estimators': 100, 'max_depth': 20, 'max_features': 'auto', 'min_samples_split': 5, 'min_samples_leaf': 4}\n"
          ]
        },
        {
          "output_type": "stream",
          "name": "stderr",
          "text": [
            "/usr/local/lib/python3.10/dist-packages/sklearn/ensemble/_forest.py:424: FutureWarning: `max_features='auto'` has been deprecated in 1.1 and will be removed in 1.3. To keep the past behaviour, explicitly set `max_features='sqrt'` or remove this parameter as it is also the default value for RandomForestClassifiers and ExtraTreesClassifiers.\n",
            "  warn(\n"
          ]
        },
        {
          "output_type": "stream",
          "name": "stdout",
          "text": [
            "Accuracy: 0.9708\n",
            "Classification Report:\n",
            "{'0': {'precision': 0.9833333333333333, 'recall': 0.9365079365079365, 'f1-score': 0.9593495934959351, 'support': 63}, '1': {'precision': 0.963963963963964, 'recall': 0.9907407407407407, 'f1-score': 0.9771689497716894, 'support': 108}, 'accuracy': 0.9707602339181286, 'macro avg': {'precision': 0.9736486486486486, 'recall': 0.9636243386243386, 'f1-score': 0.9682592716338123, 'support': 171}, 'weighted avg': {'precision': 0.9711000474158369, 'recall': 0.9707602339181286, 'f1-score': 0.970603923775359, 'support': 171}}\n",
            "\n",
            "============================================================\n",
            "\n",
            "Training with parameters: {'n_estimators': 100, 'max_depth': 20, 'max_features': 'auto', 'min_samples_split': 10, 'min_samples_leaf': 1}\n"
          ]
        },
        {
          "output_type": "stream",
          "name": "stderr",
          "text": [
            "/usr/local/lib/python3.10/dist-packages/sklearn/ensemble/_forest.py:424: FutureWarning: `max_features='auto'` has been deprecated in 1.1 and will be removed in 1.3. To keep the past behaviour, explicitly set `max_features='sqrt'` or remove this parameter as it is also the default value for RandomForestClassifiers and ExtraTreesClassifiers.\n",
            "  warn(\n"
          ]
        },
        {
          "output_type": "stream",
          "name": "stdout",
          "text": [
            "Accuracy: 0.9649\n",
            "Classification Report:\n",
            "{'0': {'precision': 0.9672131147540983, 'recall': 0.9365079365079365, 'f1-score': 0.9516129032258064, 'support': 63}, '1': {'precision': 0.9636363636363636, 'recall': 0.9814814814814815, 'f1-score': 0.9724770642201834, 'support': 108}, 'accuracy': 0.9649122807017544, 'macro avg': {'precision': 0.965424739195231, 'recall': 0.9589947089947091, 'f1-score': 0.962044983722995, 'support': 171}, 'weighted avg': {'precision': 0.9649541140481607, 'recall': 0.9649122807017544, 'f1-score': 0.9647902680643603, 'support': 171}}\n",
            "\n",
            "============================================================\n",
            "\n",
            "Training with parameters: {'n_estimators': 100, 'max_depth': 20, 'max_features': 'auto', 'min_samples_split': 10, 'min_samples_leaf': 2}\n"
          ]
        },
        {
          "output_type": "stream",
          "name": "stderr",
          "text": [
            "/usr/local/lib/python3.10/dist-packages/sklearn/ensemble/_forest.py:424: FutureWarning: `max_features='auto'` has been deprecated in 1.1 and will be removed in 1.3. To keep the past behaviour, explicitly set `max_features='sqrt'` or remove this parameter as it is also the default value for RandomForestClassifiers and ExtraTreesClassifiers.\n",
            "  warn(\n"
          ]
        },
        {
          "output_type": "stream",
          "name": "stdout",
          "text": [
            "Accuracy: 0.9649\n",
            "Classification Report:\n",
            "{'0': {'precision': 0.9672131147540983, 'recall': 0.9365079365079365, 'f1-score': 0.9516129032258064, 'support': 63}, '1': {'precision': 0.9636363636363636, 'recall': 0.9814814814814815, 'f1-score': 0.9724770642201834, 'support': 108}, 'accuracy': 0.9649122807017544, 'macro avg': {'precision': 0.965424739195231, 'recall': 0.9589947089947091, 'f1-score': 0.962044983722995, 'support': 171}, 'weighted avg': {'precision': 0.9649541140481607, 'recall': 0.9649122807017544, 'f1-score': 0.9647902680643603, 'support': 171}}\n",
            "\n",
            "============================================================\n",
            "\n",
            "Training with parameters: {'n_estimators': 100, 'max_depth': 20, 'max_features': 'auto', 'min_samples_split': 10, 'min_samples_leaf': 4}\n"
          ]
        },
        {
          "output_type": "stream",
          "name": "stderr",
          "text": [
            "/usr/local/lib/python3.10/dist-packages/sklearn/ensemble/_forest.py:424: FutureWarning: `max_features='auto'` has been deprecated in 1.1 and will be removed in 1.3. To keep the past behaviour, explicitly set `max_features='sqrt'` or remove this parameter as it is also the default value for RandomForestClassifiers and ExtraTreesClassifiers.\n",
            "  warn(\n"
          ]
        },
        {
          "output_type": "stream",
          "name": "stdout",
          "text": [
            "Accuracy: 0.9649\n",
            "Classification Report:\n",
            "{'0': {'precision': 0.9672131147540983, 'recall': 0.9365079365079365, 'f1-score': 0.9516129032258064, 'support': 63}, '1': {'precision': 0.9636363636363636, 'recall': 0.9814814814814815, 'f1-score': 0.9724770642201834, 'support': 108}, 'accuracy': 0.9649122807017544, 'macro avg': {'precision': 0.965424739195231, 'recall': 0.9589947089947091, 'f1-score': 0.962044983722995, 'support': 171}, 'weighted avg': {'precision': 0.9649541140481607, 'recall': 0.9649122807017544, 'f1-score': 0.9647902680643603, 'support': 171}}\n",
            "\n",
            "============================================================\n",
            "\n",
            "Training with parameters: {'n_estimators': 100, 'max_depth': 20, 'max_features': 'sqrt', 'min_samples_split': 2, 'min_samples_leaf': 1}\n",
            "Accuracy: 0.9708\n",
            "Classification Report:\n",
            "{'0': {'precision': 0.9833333333333333, 'recall': 0.9365079365079365, 'f1-score': 0.9593495934959351, 'support': 63}, '1': {'precision': 0.963963963963964, 'recall': 0.9907407407407407, 'f1-score': 0.9771689497716894, 'support': 108}, 'accuracy': 0.9707602339181286, 'macro avg': {'precision': 0.9736486486486486, 'recall': 0.9636243386243386, 'f1-score': 0.9682592716338123, 'support': 171}, 'weighted avg': {'precision': 0.9711000474158369, 'recall': 0.9707602339181286, 'f1-score': 0.970603923775359, 'support': 171}}\n",
            "\n",
            "============================================================\n",
            "\n",
            "Training with parameters: {'n_estimators': 100, 'max_depth': 20, 'max_features': 'sqrt', 'min_samples_split': 2, 'min_samples_leaf': 2}\n",
            "Accuracy: 0.9649\n",
            "Classification Report:\n",
            "{'0': {'precision': 0.9672131147540983, 'recall': 0.9365079365079365, 'f1-score': 0.9516129032258064, 'support': 63}, '1': {'precision': 0.9636363636363636, 'recall': 0.9814814814814815, 'f1-score': 0.9724770642201834, 'support': 108}, 'accuracy': 0.9649122807017544, 'macro avg': {'precision': 0.965424739195231, 'recall': 0.9589947089947091, 'f1-score': 0.962044983722995, 'support': 171}, 'weighted avg': {'precision': 0.9649541140481607, 'recall': 0.9649122807017544, 'f1-score': 0.9647902680643603, 'support': 171}}\n",
            "\n",
            "============================================================\n",
            "\n",
            "Training with parameters: {'n_estimators': 100, 'max_depth': 20, 'max_features': 'sqrt', 'min_samples_split': 2, 'min_samples_leaf': 4}\n",
            "Accuracy: 0.9708\n",
            "Classification Report:\n",
            "{'0': {'precision': 0.9833333333333333, 'recall': 0.9365079365079365, 'f1-score': 0.9593495934959351, 'support': 63}, '1': {'precision': 0.963963963963964, 'recall': 0.9907407407407407, 'f1-score': 0.9771689497716894, 'support': 108}, 'accuracy': 0.9707602339181286, 'macro avg': {'precision': 0.9736486486486486, 'recall': 0.9636243386243386, 'f1-score': 0.9682592716338123, 'support': 171}, 'weighted avg': {'precision': 0.9711000474158369, 'recall': 0.9707602339181286, 'f1-score': 0.970603923775359, 'support': 171}}\n",
            "\n",
            "============================================================\n",
            "\n",
            "Training with parameters: {'n_estimators': 100, 'max_depth': 20, 'max_features': 'sqrt', 'min_samples_split': 5, 'min_samples_leaf': 1}\n",
            "Accuracy: 0.9591\n",
            "Classification Report:\n",
            "{'0': {'precision': 0.9666666666666667, 'recall': 0.9206349206349206, 'f1-score': 0.943089430894309, 'support': 63}, '1': {'precision': 0.954954954954955, 'recall': 0.9814814814814815, 'f1-score': 0.9680365296803655, 'support': 108}, 'accuracy': 0.9590643274853801, 'macro avg': {'precision': 0.9608108108108109, 'recall': 0.951058201058201, 'f1-score': 0.9555629802873372, 'support': 171}, 'weighted avg': {'precision': 0.9592697961119013, 'recall': 0.9590643274853801, 'f1-score': 0.9588454932855025, 'support': 171}}\n",
            "\n",
            "============================================================\n",
            "\n",
            "Training with parameters: {'n_estimators': 100, 'max_depth': 20, 'max_features': 'sqrt', 'min_samples_split': 5, 'min_samples_leaf': 2}\n",
            "Accuracy: 0.9591\n",
            "Classification Report:\n",
            "{'0': {'precision': 0.9666666666666667, 'recall': 0.9206349206349206, 'f1-score': 0.943089430894309, 'support': 63}, '1': {'precision': 0.954954954954955, 'recall': 0.9814814814814815, 'f1-score': 0.9680365296803655, 'support': 108}, 'accuracy': 0.9590643274853801, 'macro avg': {'precision': 0.9608108108108109, 'recall': 0.951058201058201, 'f1-score': 0.9555629802873372, 'support': 171}, 'weighted avg': {'precision': 0.9592697961119013, 'recall': 0.9590643274853801, 'f1-score': 0.9588454932855025, 'support': 171}}\n",
            "\n",
            "============================================================\n",
            "\n",
            "Training with parameters: {'n_estimators': 100, 'max_depth': 20, 'max_features': 'sqrt', 'min_samples_split': 5, 'min_samples_leaf': 4}\n",
            "Accuracy: 0.9708\n",
            "Classification Report:\n",
            "{'0': {'precision': 0.9833333333333333, 'recall': 0.9365079365079365, 'f1-score': 0.9593495934959351, 'support': 63}, '1': {'precision': 0.963963963963964, 'recall': 0.9907407407407407, 'f1-score': 0.9771689497716894, 'support': 108}, 'accuracy': 0.9707602339181286, 'macro avg': {'precision': 0.9736486486486486, 'recall': 0.9636243386243386, 'f1-score': 0.9682592716338123, 'support': 171}, 'weighted avg': {'precision': 0.9711000474158369, 'recall': 0.9707602339181286, 'f1-score': 0.970603923775359, 'support': 171}}\n",
            "\n",
            "============================================================\n",
            "\n",
            "Training with parameters: {'n_estimators': 100, 'max_depth': 20, 'max_features': 'sqrt', 'min_samples_split': 10, 'min_samples_leaf': 1}\n",
            "Accuracy: 0.9649\n",
            "Classification Report:\n",
            "{'0': {'precision': 0.9672131147540983, 'recall': 0.9365079365079365, 'f1-score': 0.9516129032258064, 'support': 63}, '1': {'precision': 0.9636363636363636, 'recall': 0.9814814814814815, 'f1-score': 0.9724770642201834, 'support': 108}, 'accuracy': 0.9649122807017544, 'macro avg': {'precision': 0.965424739195231, 'recall': 0.9589947089947091, 'f1-score': 0.962044983722995, 'support': 171}, 'weighted avg': {'precision': 0.9649541140481607, 'recall': 0.9649122807017544, 'f1-score': 0.9647902680643603, 'support': 171}}\n",
            "\n",
            "============================================================\n",
            "\n",
            "Training with parameters: {'n_estimators': 100, 'max_depth': 20, 'max_features': 'sqrt', 'min_samples_split': 10, 'min_samples_leaf': 2}\n",
            "Accuracy: 0.9649\n",
            "Classification Report:\n",
            "{'0': {'precision': 0.9672131147540983, 'recall': 0.9365079365079365, 'f1-score': 0.9516129032258064, 'support': 63}, '1': {'precision': 0.9636363636363636, 'recall': 0.9814814814814815, 'f1-score': 0.9724770642201834, 'support': 108}, 'accuracy': 0.9649122807017544, 'macro avg': {'precision': 0.965424739195231, 'recall': 0.9589947089947091, 'f1-score': 0.962044983722995, 'support': 171}, 'weighted avg': {'precision': 0.9649541140481607, 'recall': 0.9649122807017544, 'f1-score': 0.9647902680643603, 'support': 171}}\n",
            "\n",
            "============================================================\n",
            "\n",
            "Training with parameters: {'n_estimators': 100, 'max_depth': 20, 'max_features': 'sqrt', 'min_samples_split': 10, 'min_samples_leaf': 4}\n",
            "Accuracy: 0.9649\n",
            "Classification Report:\n",
            "{'0': {'precision': 0.9672131147540983, 'recall': 0.9365079365079365, 'f1-score': 0.9516129032258064, 'support': 63}, '1': {'precision': 0.9636363636363636, 'recall': 0.9814814814814815, 'f1-score': 0.9724770642201834, 'support': 108}, 'accuracy': 0.9649122807017544, 'macro avg': {'precision': 0.965424739195231, 'recall': 0.9589947089947091, 'f1-score': 0.962044983722995, 'support': 171}, 'weighted avg': {'precision': 0.9649541140481607, 'recall': 0.9649122807017544, 'f1-score': 0.9647902680643603, 'support': 171}}\n",
            "\n",
            "============================================================\n",
            "\n",
            "Training with parameters: {'n_estimators': 100, 'max_depth': 20, 'max_features': 'log2', 'min_samples_split': 2, 'min_samples_leaf': 1}\n",
            "Accuracy: 0.9708\n",
            "Classification Report:\n",
            "{'0': {'precision': 0.9833333333333333, 'recall': 0.9365079365079365, 'f1-score': 0.9593495934959351, 'support': 63}, '1': {'precision': 0.963963963963964, 'recall': 0.9907407407407407, 'f1-score': 0.9771689497716894, 'support': 108}, 'accuracy': 0.9707602339181286, 'macro avg': {'precision': 0.9736486486486486, 'recall': 0.9636243386243386, 'f1-score': 0.9682592716338123, 'support': 171}, 'weighted avg': {'precision': 0.9711000474158369, 'recall': 0.9707602339181286, 'f1-score': 0.970603923775359, 'support': 171}}\n",
            "\n",
            "============================================================\n",
            "\n",
            "Training with parameters: {'n_estimators': 100, 'max_depth': 20, 'max_features': 'log2', 'min_samples_split': 2, 'min_samples_leaf': 2}\n",
            "Accuracy: 0.9708\n",
            "Classification Report:\n",
            "{'0': {'precision': 0.9833333333333333, 'recall': 0.9365079365079365, 'f1-score': 0.9593495934959351, 'support': 63}, '1': {'precision': 0.963963963963964, 'recall': 0.9907407407407407, 'f1-score': 0.9771689497716894, 'support': 108}, 'accuracy': 0.9707602339181286, 'macro avg': {'precision': 0.9736486486486486, 'recall': 0.9636243386243386, 'f1-score': 0.9682592716338123, 'support': 171}, 'weighted avg': {'precision': 0.9711000474158369, 'recall': 0.9707602339181286, 'f1-score': 0.970603923775359, 'support': 171}}\n",
            "\n",
            "============================================================\n",
            "\n",
            "Training with parameters: {'n_estimators': 100, 'max_depth': 20, 'max_features': 'log2', 'min_samples_split': 2, 'min_samples_leaf': 4}\n",
            "Accuracy: 0.9708\n",
            "Classification Report:\n",
            "{'0': {'precision': 0.9833333333333333, 'recall': 0.9365079365079365, 'f1-score': 0.9593495934959351, 'support': 63}, '1': {'precision': 0.963963963963964, 'recall': 0.9907407407407407, 'f1-score': 0.9771689497716894, 'support': 108}, 'accuracy': 0.9707602339181286, 'macro avg': {'precision': 0.9736486486486486, 'recall': 0.9636243386243386, 'f1-score': 0.9682592716338123, 'support': 171}, 'weighted avg': {'precision': 0.9711000474158369, 'recall': 0.9707602339181286, 'f1-score': 0.970603923775359, 'support': 171}}\n",
            "\n",
            "============================================================\n",
            "\n",
            "Training with parameters: {'n_estimators': 100, 'max_depth': 20, 'max_features': 'log2', 'min_samples_split': 5, 'min_samples_leaf': 1}\n",
            "Accuracy: 0.9708\n",
            "Classification Report:\n",
            "{'0': {'precision': 0.9833333333333333, 'recall': 0.9365079365079365, 'f1-score': 0.9593495934959351, 'support': 63}, '1': {'precision': 0.963963963963964, 'recall': 0.9907407407407407, 'f1-score': 0.9771689497716894, 'support': 108}, 'accuracy': 0.9707602339181286, 'macro avg': {'precision': 0.9736486486486486, 'recall': 0.9636243386243386, 'f1-score': 0.9682592716338123, 'support': 171}, 'weighted avg': {'precision': 0.9711000474158369, 'recall': 0.9707602339181286, 'f1-score': 0.970603923775359, 'support': 171}}\n",
            "\n",
            "============================================================\n",
            "\n",
            "Training with parameters: {'n_estimators': 100, 'max_depth': 20, 'max_features': 'log2', 'min_samples_split': 5, 'min_samples_leaf': 2}\n",
            "Accuracy: 0.9708\n",
            "Classification Report:\n",
            "{'0': {'precision': 0.9833333333333333, 'recall': 0.9365079365079365, 'f1-score': 0.9593495934959351, 'support': 63}, '1': {'precision': 0.963963963963964, 'recall': 0.9907407407407407, 'f1-score': 0.9771689497716894, 'support': 108}, 'accuracy': 0.9707602339181286, 'macro avg': {'precision': 0.9736486486486486, 'recall': 0.9636243386243386, 'f1-score': 0.9682592716338123, 'support': 171}, 'weighted avg': {'precision': 0.9711000474158369, 'recall': 0.9707602339181286, 'f1-score': 0.970603923775359, 'support': 171}}\n",
            "\n",
            "============================================================\n",
            "\n",
            "Training with parameters: {'n_estimators': 100, 'max_depth': 20, 'max_features': 'log2', 'min_samples_split': 5, 'min_samples_leaf': 4}\n",
            "Accuracy: 0.9708\n",
            "Classification Report:\n",
            "{'0': {'precision': 0.9833333333333333, 'recall': 0.9365079365079365, 'f1-score': 0.9593495934959351, 'support': 63}, '1': {'precision': 0.963963963963964, 'recall': 0.9907407407407407, 'f1-score': 0.9771689497716894, 'support': 108}, 'accuracy': 0.9707602339181286, 'macro avg': {'precision': 0.9736486486486486, 'recall': 0.9636243386243386, 'f1-score': 0.9682592716338123, 'support': 171}, 'weighted avg': {'precision': 0.9711000474158369, 'recall': 0.9707602339181286, 'f1-score': 0.970603923775359, 'support': 171}}\n",
            "\n",
            "============================================================\n",
            "\n",
            "Training with parameters: {'n_estimators': 100, 'max_depth': 20, 'max_features': 'log2', 'min_samples_split': 10, 'min_samples_leaf': 1}\n",
            "Accuracy: 0.9708\n",
            "Classification Report:\n",
            "{'0': {'precision': 0.9833333333333333, 'recall': 0.9365079365079365, 'f1-score': 0.9593495934959351, 'support': 63}, '1': {'precision': 0.963963963963964, 'recall': 0.9907407407407407, 'f1-score': 0.9771689497716894, 'support': 108}, 'accuracy': 0.9707602339181286, 'macro avg': {'precision': 0.9736486486486486, 'recall': 0.9636243386243386, 'f1-score': 0.9682592716338123, 'support': 171}, 'weighted avg': {'precision': 0.9711000474158369, 'recall': 0.9707602339181286, 'f1-score': 0.970603923775359, 'support': 171}}\n",
            "\n",
            "============================================================\n",
            "\n",
            "Training with parameters: {'n_estimators': 100, 'max_depth': 20, 'max_features': 'log2', 'min_samples_split': 10, 'min_samples_leaf': 2}\n",
            "Accuracy: 0.9708\n",
            "Classification Report:\n",
            "{'0': {'precision': 0.9833333333333333, 'recall': 0.9365079365079365, 'f1-score': 0.9593495934959351, 'support': 63}, '1': {'precision': 0.963963963963964, 'recall': 0.9907407407407407, 'f1-score': 0.9771689497716894, 'support': 108}, 'accuracy': 0.9707602339181286, 'macro avg': {'precision': 0.9736486486486486, 'recall': 0.9636243386243386, 'f1-score': 0.9682592716338123, 'support': 171}, 'weighted avg': {'precision': 0.9711000474158369, 'recall': 0.9707602339181286, 'f1-score': 0.970603923775359, 'support': 171}}\n",
            "\n",
            "============================================================\n",
            "\n",
            "Training with parameters: {'n_estimators': 100, 'max_depth': 20, 'max_features': 'log2', 'min_samples_split': 10, 'min_samples_leaf': 4}\n",
            "Accuracy: 0.9708\n",
            "Classification Report:\n",
            "{'0': {'precision': 0.9833333333333333, 'recall': 0.9365079365079365, 'f1-score': 0.9593495934959351, 'support': 63}, '1': {'precision': 0.963963963963964, 'recall': 0.9907407407407407, 'f1-score': 0.9771689497716894, 'support': 108}, 'accuracy': 0.9707602339181286, 'macro avg': {'precision': 0.9736486486486486, 'recall': 0.9636243386243386, 'f1-score': 0.9682592716338123, 'support': 171}, 'weighted avg': {'precision': 0.9711000474158369, 'recall': 0.9707602339181286, 'f1-score': 0.970603923775359, 'support': 171}}\n",
            "\n",
            "============================================================\n",
            "\n",
            "Training with parameters: {'n_estimators': 200, 'max_depth': None, 'max_features': 'auto', 'min_samples_split': 2, 'min_samples_leaf': 1}\n"
          ]
        },
        {
          "output_type": "stream",
          "name": "stderr",
          "text": [
            "/usr/local/lib/python3.10/dist-packages/sklearn/ensemble/_forest.py:424: FutureWarning: `max_features='auto'` has been deprecated in 1.1 and will be removed in 1.3. To keep the past behaviour, explicitly set `max_features='sqrt'` or remove this parameter as it is also the default value for RandomForestClassifiers and ExtraTreesClassifiers.\n",
            "  warn(\n"
          ]
        },
        {
          "output_type": "stream",
          "name": "stdout",
          "text": [
            "Accuracy: 0.9708\n",
            "Classification Report:\n",
            "{'0': {'precision': 0.9833333333333333, 'recall': 0.9365079365079365, 'f1-score': 0.9593495934959351, 'support': 63}, '1': {'precision': 0.963963963963964, 'recall': 0.9907407407407407, 'f1-score': 0.9771689497716894, 'support': 108}, 'accuracy': 0.9707602339181286, 'macro avg': {'precision': 0.9736486486486486, 'recall': 0.9636243386243386, 'f1-score': 0.9682592716338123, 'support': 171}, 'weighted avg': {'precision': 0.9711000474158369, 'recall': 0.9707602339181286, 'f1-score': 0.970603923775359, 'support': 171}}\n",
            "\n",
            "============================================================\n",
            "\n",
            "Training with parameters: {'n_estimators': 200, 'max_depth': None, 'max_features': 'auto', 'min_samples_split': 2, 'min_samples_leaf': 2}\n"
          ]
        },
        {
          "output_type": "stream",
          "name": "stderr",
          "text": [
            "/usr/local/lib/python3.10/dist-packages/sklearn/ensemble/_forest.py:424: FutureWarning: `max_features='auto'` has been deprecated in 1.1 and will be removed in 1.3. To keep the past behaviour, explicitly set `max_features='sqrt'` or remove this parameter as it is also the default value for RandomForestClassifiers and ExtraTreesClassifiers.\n",
            "  warn(\n"
          ]
        },
        {
          "output_type": "stream",
          "name": "stdout",
          "text": [
            "Accuracy: 0.9708\n",
            "Classification Report:\n",
            "{'0': {'precision': 0.9833333333333333, 'recall': 0.9365079365079365, 'f1-score': 0.9593495934959351, 'support': 63}, '1': {'precision': 0.963963963963964, 'recall': 0.9907407407407407, 'f1-score': 0.9771689497716894, 'support': 108}, 'accuracy': 0.9707602339181286, 'macro avg': {'precision': 0.9736486486486486, 'recall': 0.9636243386243386, 'f1-score': 0.9682592716338123, 'support': 171}, 'weighted avg': {'precision': 0.9711000474158369, 'recall': 0.9707602339181286, 'f1-score': 0.970603923775359, 'support': 171}}\n",
            "\n",
            "============================================================\n",
            "\n",
            "Training with parameters: {'n_estimators': 200, 'max_depth': None, 'max_features': 'auto', 'min_samples_split': 2, 'min_samples_leaf': 4}\n"
          ]
        },
        {
          "output_type": "stream",
          "name": "stderr",
          "text": [
            "/usr/local/lib/python3.10/dist-packages/sklearn/ensemble/_forest.py:424: FutureWarning: `max_features='auto'` has been deprecated in 1.1 and will be removed in 1.3. To keep the past behaviour, explicitly set `max_features='sqrt'` or remove this parameter as it is also the default value for RandomForestClassifiers and ExtraTreesClassifiers.\n",
            "  warn(\n"
          ]
        },
        {
          "output_type": "stream",
          "name": "stdout",
          "text": [
            "Accuracy: 0.9708\n",
            "Classification Report:\n",
            "{'0': {'precision': 0.9833333333333333, 'recall': 0.9365079365079365, 'f1-score': 0.9593495934959351, 'support': 63}, '1': {'precision': 0.963963963963964, 'recall': 0.9907407407407407, 'f1-score': 0.9771689497716894, 'support': 108}, 'accuracy': 0.9707602339181286, 'macro avg': {'precision': 0.9736486486486486, 'recall': 0.9636243386243386, 'f1-score': 0.9682592716338123, 'support': 171}, 'weighted avg': {'precision': 0.9711000474158369, 'recall': 0.9707602339181286, 'f1-score': 0.970603923775359, 'support': 171}}\n",
            "\n",
            "============================================================\n",
            "\n",
            "Training with parameters: {'n_estimators': 200, 'max_depth': None, 'max_features': 'auto', 'min_samples_split': 5, 'min_samples_leaf': 1}\n"
          ]
        },
        {
          "output_type": "stream",
          "name": "stderr",
          "text": [
            "/usr/local/lib/python3.10/dist-packages/sklearn/ensemble/_forest.py:424: FutureWarning: `max_features='auto'` has been deprecated in 1.1 and will be removed in 1.3. To keep the past behaviour, explicitly set `max_features='sqrt'` or remove this parameter as it is also the default value for RandomForestClassifiers and ExtraTreesClassifiers.\n",
            "  warn(\n"
          ]
        },
        {
          "output_type": "stream",
          "name": "stdout",
          "text": [
            "Accuracy: 0.9649\n",
            "Classification Report:\n",
            "{'0': {'precision': 0.9672131147540983, 'recall': 0.9365079365079365, 'f1-score': 0.9516129032258064, 'support': 63}, '1': {'precision': 0.9636363636363636, 'recall': 0.9814814814814815, 'f1-score': 0.9724770642201834, 'support': 108}, 'accuracy': 0.9649122807017544, 'macro avg': {'precision': 0.965424739195231, 'recall': 0.9589947089947091, 'f1-score': 0.962044983722995, 'support': 171}, 'weighted avg': {'precision': 0.9649541140481607, 'recall': 0.9649122807017544, 'f1-score': 0.9647902680643603, 'support': 171}}\n",
            "\n",
            "============================================================\n",
            "\n",
            "Training with parameters: {'n_estimators': 200, 'max_depth': None, 'max_features': 'auto', 'min_samples_split': 5, 'min_samples_leaf': 2}\n"
          ]
        },
        {
          "output_type": "stream",
          "name": "stderr",
          "text": [
            "/usr/local/lib/python3.10/dist-packages/sklearn/ensemble/_forest.py:424: FutureWarning: `max_features='auto'` has been deprecated in 1.1 and will be removed in 1.3. To keep the past behaviour, explicitly set `max_features='sqrt'` or remove this parameter as it is also the default value for RandomForestClassifiers and ExtraTreesClassifiers.\n",
            "  warn(\n"
          ]
        },
        {
          "output_type": "stream",
          "name": "stdout",
          "text": [
            "Accuracy: 0.9708\n",
            "Classification Report:\n",
            "{'0': {'precision': 0.9833333333333333, 'recall': 0.9365079365079365, 'f1-score': 0.9593495934959351, 'support': 63}, '1': {'precision': 0.963963963963964, 'recall': 0.9907407407407407, 'f1-score': 0.9771689497716894, 'support': 108}, 'accuracy': 0.9707602339181286, 'macro avg': {'precision': 0.9736486486486486, 'recall': 0.9636243386243386, 'f1-score': 0.9682592716338123, 'support': 171}, 'weighted avg': {'precision': 0.9711000474158369, 'recall': 0.9707602339181286, 'f1-score': 0.970603923775359, 'support': 171}}\n",
            "\n",
            "============================================================\n",
            "\n",
            "Training with parameters: {'n_estimators': 200, 'max_depth': None, 'max_features': 'auto', 'min_samples_split': 5, 'min_samples_leaf': 4}\n"
          ]
        },
        {
          "output_type": "stream",
          "name": "stderr",
          "text": [
            "/usr/local/lib/python3.10/dist-packages/sklearn/ensemble/_forest.py:424: FutureWarning: `max_features='auto'` has been deprecated in 1.1 and will be removed in 1.3. To keep the past behaviour, explicitly set `max_features='sqrt'` or remove this parameter as it is also the default value for RandomForestClassifiers and ExtraTreesClassifiers.\n",
            "  warn(\n"
          ]
        },
        {
          "output_type": "stream",
          "name": "stdout",
          "text": [
            "Accuracy: 0.9708\n",
            "Classification Report:\n",
            "{'0': {'precision': 0.9833333333333333, 'recall': 0.9365079365079365, 'f1-score': 0.9593495934959351, 'support': 63}, '1': {'precision': 0.963963963963964, 'recall': 0.9907407407407407, 'f1-score': 0.9771689497716894, 'support': 108}, 'accuracy': 0.9707602339181286, 'macro avg': {'precision': 0.9736486486486486, 'recall': 0.9636243386243386, 'f1-score': 0.9682592716338123, 'support': 171}, 'weighted avg': {'precision': 0.9711000474158369, 'recall': 0.9707602339181286, 'f1-score': 0.970603923775359, 'support': 171}}\n",
            "\n",
            "============================================================\n",
            "\n",
            "Training with parameters: {'n_estimators': 200, 'max_depth': None, 'max_features': 'auto', 'min_samples_split': 10, 'min_samples_leaf': 1}\n"
          ]
        },
        {
          "output_type": "stream",
          "name": "stderr",
          "text": [
            "/usr/local/lib/python3.10/dist-packages/sklearn/ensemble/_forest.py:424: FutureWarning: `max_features='auto'` has been deprecated in 1.1 and will be removed in 1.3. To keep the past behaviour, explicitly set `max_features='sqrt'` or remove this parameter as it is also the default value for RandomForestClassifiers and ExtraTreesClassifiers.\n",
            "  warn(\n"
          ]
        },
        {
          "output_type": "stream",
          "name": "stdout",
          "text": [
            "Accuracy: 0.9649\n",
            "Classification Report:\n",
            "{'0': {'precision': 0.9672131147540983, 'recall': 0.9365079365079365, 'f1-score': 0.9516129032258064, 'support': 63}, '1': {'precision': 0.9636363636363636, 'recall': 0.9814814814814815, 'f1-score': 0.9724770642201834, 'support': 108}, 'accuracy': 0.9649122807017544, 'macro avg': {'precision': 0.965424739195231, 'recall': 0.9589947089947091, 'f1-score': 0.962044983722995, 'support': 171}, 'weighted avg': {'precision': 0.9649541140481607, 'recall': 0.9649122807017544, 'f1-score': 0.9647902680643603, 'support': 171}}\n",
            "\n",
            "============================================================\n",
            "\n",
            "Training with parameters: {'n_estimators': 200, 'max_depth': None, 'max_features': 'auto', 'min_samples_split': 10, 'min_samples_leaf': 2}\n"
          ]
        },
        {
          "output_type": "stream",
          "name": "stderr",
          "text": [
            "/usr/local/lib/python3.10/dist-packages/sklearn/ensemble/_forest.py:424: FutureWarning: `max_features='auto'` has been deprecated in 1.1 and will be removed in 1.3. To keep the past behaviour, explicitly set `max_features='sqrt'` or remove this parameter as it is also the default value for RandomForestClassifiers and ExtraTreesClassifiers.\n",
            "  warn(\n"
          ]
        },
        {
          "output_type": "stream",
          "name": "stdout",
          "text": [
            "Accuracy: 0.9649\n",
            "Classification Report:\n",
            "{'0': {'precision': 0.9672131147540983, 'recall': 0.9365079365079365, 'f1-score': 0.9516129032258064, 'support': 63}, '1': {'precision': 0.9636363636363636, 'recall': 0.9814814814814815, 'f1-score': 0.9724770642201834, 'support': 108}, 'accuracy': 0.9649122807017544, 'macro avg': {'precision': 0.965424739195231, 'recall': 0.9589947089947091, 'f1-score': 0.962044983722995, 'support': 171}, 'weighted avg': {'precision': 0.9649541140481607, 'recall': 0.9649122807017544, 'f1-score': 0.9647902680643603, 'support': 171}}\n",
            "\n",
            "============================================================\n",
            "\n",
            "Training with parameters: {'n_estimators': 200, 'max_depth': None, 'max_features': 'auto', 'min_samples_split': 10, 'min_samples_leaf': 4}\n"
          ]
        },
        {
          "output_type": "stream",
          "name": "stderr",
          "text": [
            "/usr/local/lib/python3.10/dist-packages/sklearn/ensemble/_forest.py:424: FutureWarning: `max_features='auto'` has been deprecated in 1.1 and will be removed in 1.3. To keep the past behaviour, explicitly set `max_features='sqrt'` or remove this parameter as it is also the default value for RandomForestClassifiers and ExtraTreesClassifiers.\n",
            "  warn(\n"
          ]
        },
        {
          "output_type": "stream",
          "name": "stdout",
          "text": [
            "Accuracy: 0.9708\n",
            "Classification Report:\n",
            "{'0': {'precision': 0.9833333333333333, 'recall': 0.9365079365079365, 'f1-score': 0.9593495934959351, 'support': 63}, '1': {'precision': 0.963963963963964, 'recall': 0.9907407407407407, 'f1-score': 0.9771689497716894, 'support': 108}, 'accuracy': 0.9707602339181286, 'macro avg': {'precision': 0.9736486486486486, 'recall': 0.9636243386243386, 'f1-score': 0.9682592716338123, 'support': 171}, 'weighted avg': {'precision': 0.9711000474158369, 'recall': 0.9707602339181286, 'f1-score': 0.970603923775359, 'support': 171}}\n",
            "\n",
            "============================================================\n",
            "\n",
            "Training with parameters: {'n_estimators': 200, 'max_depth': None, 'max_features': 'sqrt', 'min_samples_split': 2, 'min_samples_leaf': 1}\n",
            "Accuracy: 0.9708\n",
            "Classification Report:\n",
            "{'0': {'precision': 0.9833333333333333, 'recall': 0.9365079365079365, 'f1-score': 0.9593495934959351, 'support': 63}, '1': {'precision': 0.963963963963964, 'recall': 0.9907407407407407, 'f1-score': 0.9771689497716894, 'support': 108}, 'accuracy': 0.9707602339181286, 'macro avg': {'precision': 0.9736486486486486, 'recall': 0.9636243386243386, 'f1-score': 0.9682592716338123, 'support': 171}, 'weighted avg': {'precision': 0.9711000474158369, 'recall': 0.9707602339181286, 'f1-score': 0.970603923775359, 'support': 171}}\n",
            "\n",
            "============================================================\n",
            "\n",
            "Training with parameters: {'n_estimators': 200, 'max_depth': None, 'max_features': 'sqrt', 'min_samples_split': 2, 'min_samples_leaf': 2}\n",
            "Accuracy: 0.9708\n",
            "Classification Report:\n",
            "{'0': {'precision': 0.9833333333333333, 'recall': 0.9365079365079365, 'f1-score': 0.9593495934959351, 'support': 63}, '1': {'precision': 0.963963963963964, 'recall': 0.9907407407407407, 'f1-score': 0.9771689497716894, 'support': 108}, 'accuracy': 0.9707602339181286, 'macro avg': {'precision': 0.9736486486486486, 'recall': 0.9636243386243386, 'f1-score': 0.9682592716338123, 'support': 171}, 'weighted avg': {'precision': 0.9711000474158369, 'recall': 0.9707602339181286, 'f1-score': 0.970603923775359, 'support': 171}}\n",
            "\n",
            "============================================================\n",
            "\n",
            "Training with parameters: {'n_estimators': 200, 'max_depth': None, 'max_features': 'sqrt', 'min_samples_split': 2, 'min_samples_leaf': 4}\n",
            "Accuracy: 0.9708\n",
            "Classification Report:\n",
            "{'0': {'precision': 0.9833333333333333, 'recall': 0.9365079365079365, 'f1-score': 0.9593495934959351, 'support': 63}, '1': {'precision': 0.963963963963964, 'recall': 0.9907407407407407, 'f1-score': 0.9771689497716894, 'support': 108}, 'accuracy': 0.9707602339181286, 'macro avg': {'precision': 0.9736486486486486, 'recall': 0.9636243386243386, 'f1-score': 0.9682592716338123, 'support': 171}, 'weighted avg': {'precision': 0.9711000474158369, 'recall': 0.9707602339181286, 'f1-score': 0.970603923775359, 'support': 171}}\n",
            "\n",
            "============================================================\n",
            "\n",
            "Training with parameters: {'n_estimators': 200, 'max_depth': None, 'max_features': 'sqrt', 'min_samples_split': 5, 'min_samples_leaf': 1}\n",
            "Accuracy: 0.9649\n",
            "Classification Report:\n",
            "{'0': {'precision': 0.9672131147540983, 'recall': 0.9365079365079365, 'f1-score': 0.9516129032258064, 'support': 63}, '1': {'precision': 0.9636363636363636, 'recall': 0.9814814814814815, 'f1-score': 0.9724770642201834, 'support': 108}, 'accuracy': 0.9649122807017544, 'macro avg': {'precision': 0.965424739195231, 'recall': 0.9589947089947091, 'f1-score': 0.962044983722995, 'support': 171}, 'weighted avg': {'precision': 0.9649541140481607, 'recall': 0.9649122807017544, 'f1-score': 0.9647902680643603, 'support': 171}}\n",
            "\n",
            "============================================================\n",
            "\n",
            "Training with parameters: {'n_estimators': 200, 'max_depth': None, 'max_features': 'sqrt', 'min_samples_split': 5, 'min_samples_leaf': 2}\n",
            "Accuracy: 0.9708\n",
            "Classification Report:\n",
            "{'0': {'precision': 0.9833333333333333, 'recall': 0.9365079365079365, 'f1-score': 0.9593495934959351, 'support': 63}, '1': {'precision': 0.963963963963964, 'recall': 0.9907407407407407, 'f1-score': 0.9771689497716894, 'support': 108}, 'accuracy': 0.9707602339181286, 'macro avg': {'precision': 0.9736486486486486, 'recall': 0.9636243386243386, 'f1-score': 0.9682592716338123, 'support': 171}, 'weighted avg': {'precision': 0.9711000474158369, 'recall': 0.9707602339181286, 'f1-score': 0.970603923775359, 'support': 171}}\n",
            "\n",
            "============================================================\n",
            "\n",
            "Training with parameters: {'n_estimators': 200, 'max_depth': None, 'max_features': 'sqrt', 'min_samples_split': 5, 'min_samples_leaf': 4}\n",
            "Accuracy: 0.9708\n",
            "Classification Report:\n",
            "{'0': {'precision': 0.9833333333333333, 'recall': 0.9365079365079365, 'f1-score': 0.9593495934959351, 'support': 63}, '1': {'precision': 0.963963963963964, 'recall': 0.9907407407407407, 'f1-score': 0.9771689497716894, 'support': 108}, 'accuracy': 0.9707602339181286, 'macro avg': {'precision': 0.9736486486486486, 'recall': 0.9636243386243386, 'f1-score': 0.9682592716338123, 'support': 171}, 'weighted avg': {'precision': 0.9711000474158369, 'recall': 0.9707602339181286, 'f1-score': 0.970603923775359, 'support': 171}}\n",
            "\n",
            "============================================================\n",
            "\n",
            "Training with parameters: {'n_estimators': 200, 'max_depth': None, 'max_features': 'sqrt', 'min_samples_split': 10, 'min_samples_leaf': 1}\n",
            "Accuracy: 0.9649\n",
            "Classification Report:\n",
            "{'0': {'precision': 0.9672131147540983, 'recall': 0.9365079365079365, 'f1-score': 0.9516129032258064, 'support': 63}, '1': {'precision': 0.9636363636363636, 'recall': 0.9814814814814815, 'f1-score': 0.9724770642201834, 'support': 108}, 'accuracy': 0.9649122807017544, 'macro avg': {'precision': 0.965424739195231, 'recall': 0.9589947089947091, 'f1-score': 0.962044983722995, 'support': 171}, 'weighted avg': {'precision': 0.9649541140481607, 'recall': 0.9649122807017544, 'f1-score': 0.9647902680643603, 'support': 171}}\n",
            "\n",
            "============================================================\n",
            "\n",
            "Training with parameters: {'n_estimators': 200, 'max_depth': None, 'max_features': 'sqrt', 'min_samples_split': 10, 'min_samples_leaf': 2}\n",
            "Accuracy: 0.9649\n",
            "Classification Report:\n",
            "{'0': {'precision': 0.9672131147540983, 'recall': 0.9365079365079365, 'f1-score': 0.9516129032258064, 'support': 63}, '1': {'precision': 0.9636363636363636, 'recall': 0.9814814814814815, 'f1-score': 0.9724770642201834, 'support': 108}, 'accuracy': 0.9649122807017544, 'macro avg': {'precision': 0.965424739195231, 'recall': 0.9589947089947091, 'f1-score': 0.962044983722995, 'support': 171}, 'weighted avg': {'precision': 0.9649541140481607, 'recall': 0.9649122807017544, 'f1-score': 0.9647902680643603, 'support': 171}}\n",
            "\n",
            "============================================================\n",
            "\n",
            "Training with parameters: {'n_estimators': 200, 'max_depth': None, 'max_features': 'sqrt', 'min_samples_split': 10, 'min_samples_leaf': 4}\n",
            "Accuracy: 0.9708\n",
            "Classification Report:\n",
            "{'0': {'precision': 0.9833333333333333, 'recall': 0.9365079365079365, 'f1-score': 0.9593495934959351, 'support': 63}, '1': {'precision': 0.963963963963964, 'recall': 0.9907407407407407, 'f1-score': 0.9771689497716894, 'support': 108}, 'accuracy': 0.9707602339181286, 'macro avg': {'precision': 0.9736486486486486, 'recall': 0.9636243386243386, 'f1-score': 0.9682592716338123, 'support': 171}, 'weighted avg': {'precision': 0.9711000474158369, 'recall': 0.9707602339181286, 'f1-score': 0.970603923775359, 'support': 171}}\n",
            "\n",
            "============================================================\n",
            "\n",
            "Training with parameters: {'n_estimators': 200, 'max_depth': None, 'max_features': 'log2', 'min_samples_split': 2, 'min_samples_leaf': 1}\n",
            "Accuracy: 0.9708\n",
            "Classification Report:\n",
            "{'0': {'precision': 0.9833333333333333, 'recall': 0.9365079365079365, 'f1-score': 0.9593495934959351, 'support': 63}, '1': {'precision': 0.963963963963964, 'recall': 0.9907407407407407, 'f1-score': 0.9771689497716894, 'support': 108}, 'accuracy': 0.9707602339181286, 'macro avg': {'precision': 0.9736486486486486, 'recall': 0.9636243386243386, 'f1-score': 0.9682592716338123, 'support': 171}, 'weighted avg': {'precision': 0.9711000474158369, 'recall': 0.9707602339181286, 'f1-score': 0.970603923775359, 'support': 171}}\n",
            "\n",
            "============================================================\n",
            "\n",
            "Training with parameters: {'n_estimators': 200, 'max_depth': None, 'max_features': 'log2', 'min_samples_split': 2, 'min_samples_leaf': 2}\n",
            "Accuracy: 0.9708\n",
            "Classification Report:\n",
            "{'0': {'precision': 0.9833333333333333, 'recall': 0.9365079365079365, 'f1-score': 0.9593495934959351, 'support': 63}, '1': {'precision': 0.963963963963964, 'recall': 0.9907407407407407, 'f1-score': 0.9771689497716894, 'support': 108}, 'accuracy': 0.9707602339181286, 'macro avg': {'precision': 0.9736486486486486, 'recall': 0.9636243386243386, 'f1-score': 0.9682592716338123, 'support': 171}, 'weighted avg': {'precision': 0.9711000474158369, 'recall': 0.9707602339181286, 'f1-score': 0.970603923775359, 'support': 171}}\n",
            "\n",
            "============================================================\n",
            "\n",
            "Training with parameters: {'n_estimators': 200, 'max_depth': None, 'max_features': 'log2', 'min_samples_split': 2, 'min_samples_leaf': 4}\n",
            "Accuracy: 0.9708\n",
            "Classification Report:\n",
            "{'0': {'precision': 0.9833333333333333, 'recall': 0.9365079365079365, 'f1-score': 0.9593495934959351, 'support': 63}, '1': {'precision': 0.963963963963964, 'recall': 0.9907407407407407, 'f1-score': 0.9771689497716894, 'support': 108}, 'accuracy': 0.9707602339181286, 'macro avg': {'precision': 0.9736486486486486, 'recall': 0.9636243386243386, 'f1-score': 0.9682592716338123, 'support': 171}, 'weighted avg': {'precision': 0.9711000474158369, 'recall': 0.9707602339181286, 'f1-score': 0.970603923775359, 'support': 171}}\n",
            "\n",
            "============================================================\n",
            "\n",
            "Training with parameters: {'n_estimators': 200, 'max_depth': None, 'max_features': 'log2', 'min_samples_split': 5, 'min_samples_leaf': 1}\n",
            "Accuracy: 0.9708\n",
            "Classification Report:\n",
            "{'0': {'precision': 0.9833333333333333, 'recall': 0.9365079365079365, 'f1-score': 0.9593495934959351, 'support': 63}, '1': {'precision': 0.963963963963964, 'recall': 0.9907407407407407, 'f1-score': 0.9771689497716894, 'support': 108}, 'accuracy': 0.9707602339181286, 'macro avg': {'precision': 0.9736486486486486, 'recall': 0.9636243386243386, 'f1-score': 0.9682592716338123, 'support': 171}, 'weighted avg': {'precision': 0.9711000474158369, 'recall': 0.9707602339181286, 'f1-score': 0.970603923775359, 'support': 171}}\n",
            "\n",
            "============================================================\n",
            "\n",
            "Training with parameters: {'n_estimators': 200, 'max_depth': None, 'max_features': 'log2', 'min_samples_split': 5, 'min_samples_leaf': 2}\n",
            "Accuracy: 0.9708\n",
            "Classification Report:\n",
            "{'0': {'precision': 0.9833333333333333, 'recall': 0.9365079365079365, 'f1-score': 0.9593495934959351, 'support': 63}, '1': {'precision': 0.963963963963964, 'recall': 0.9907407407407407, 'f1-score': 0.9771689497716894, 'support': 108}, 'accuracy': 0.9707602339181286, 'macro avg': {'precision': 0.9736486486486486, 'recall': 0.9636243386243386, 'f1-score': 0.9682592716338123, 'support': 171}, 'weighted avg': {'precision': 0.9711000474158369, 'recall': 0.9707602339181286, 'f1-score': 0.970603923775359, 'support': 171}}\n",
            "\n",
            "============================================================\n",
            "\n",
            "Training with parameters: {'n_estimators': 200, 'max_depth': None, 'max_features': 'log2', 'min_samples_split': 5, 'min_samples_leaf': 4}\n",
            "Accuracy: 0.9708\n",
            "Classification Report:\n",
            "{'0': {'precision': 0.9833333333333333, 'recall': 0.9365079365079365, 'f1-score': 0.9593495934959351, 'support': 63}, '1': {'precision': 0.963963963963964, 'recall': 0.9907407407407407, 'f1-score': 0.9771689497716894, 'support': 108}, 'accuracy': 0.9707602339181286, 'macro avg': {'precision': 0.9736486486486486, 'recall': 0.9636243386243386, 'f1-score': 0.9682592716338123, 'support': 171}, 'weighted avg': {'precision': 0.9711000474158369, 'recall': 0.9707602339181286, 'f1-score': 0.970603923775359, 'support': 171}}\n",
            "\n",
            "============================================================\n",
            "\n",
            "Training with parameters: {'n_estimators': 200, 'max_depth': None, 'max_features': 'log2', 'min_samples_split': 10, 'min_samples_leaf': 1}\n",
            "Accuracy: 0.9708\n",
            "Classification Report:\n",
            "{'0': {'precision': 0.9833333333333333, 'recall': 0.9365079365079365, 'f1-score': 0.9593495934959351, 'support': 63}, '1': {'precision': 0.963963963963964, 'recall': 0.9907407407407407, 'f1-score': 0.9771689497716894, 'support': 108}, 'accuracy': 0.9707602339181286, 'macro avg': {'precision': 0.9736486486486486, 'recall': 0.9636243386243386, 'f1-score': 0.9682592716338123, 'support': 171}, 'weighted avg': {'precision': 0.9711000474158369, 'recall': 0.9707602339181286, 'f1-score': 0.970603923775359, 'support': 171}}\n",
            "\n",
            "============================================================\n",
            "\n",
            "Training with parameters: {'n_estimators': 200, 'max_depth': None, 'max_features': 'log2', 'min_samples_split': 10, 'min_samples_leaf': 2}\n",
            "Accuracy: 0.9708\n",
            "Classification Report:\n",
            "{'0': {'precision': 0.9833333333333333, 'recall': 0.9365079365079365, 'f1-score': 0.9593495934959351, 'support': 63}, '1': {'precision': 0.963963963963964, 'recall': 0.9907407407407407, 'f1-score': 0.9771689497716894, 'support': 108}, 'accuracy': 0.9707602339181286, 'macro avg': {'precision': 0.9736486486486486, 'recall': 0.9636243386243386, 'f1-score': 0.9682592716338123, 'support': 171}, 'weighted avg': {'precision': 0.9711000474158369, 'recall': 0.9707602339181286, 'f1-score': 0.970603923775359, 'support': 171}}\n",
            "\n",
            "============================================================\n",
            "\n",
            "Training with parameters: {'n_estimators': 200, 'max_depth': None, 'max_features': 'log2', 'min_samples_split': 10, 'min_samples_leaf': 4}\n",
            "Accuracy: 0.9708\n",
            "Classification Report:\n",
            "{'0': {'precision': 0.9833333333333333, 'recall': 0.9365079365079365, 'f1-score': 0.9593495934959351, 'support': 63}, '1': {'precision': 0.963963963963964, 'recall': 0.9907407407407407, 'f1-score': 0.9771689497716894, 'support': 108}, 'accuracy': 0.9707602339181286, 'macro avg': {'precision': 0.9736486486486486, 'recall': 0.9636243386243386, 'f1-score': 0.9682592716338123, 'support': 171}, 'weighted avg': {'precision': 0.9711000474158369, 'recall': 0.9707602339181286, 'f1-score': 0.970603923775359, 'support': 171}}\n",
            "\n",
            "============================================================\n",
            "\n",
            "Training with parameters: {'n_estimators': 200, 'max_depth': 10, 'max_features': 'auto', 'min_samples_split': 2, 'min_samples_leaf': 1}\n"
          ]
        },
        {
          "output_type": "stream",
          "name": "stderr",
          "text": [
            "/usr/local/lib/python3.10/dist-packages/sklearn/ensemble/_forest.py:424: FutureWarning: `max_features='auto'` has been deprecated in 1.1 and will be removed in 1.3. To keep the past behaviour, explicitly set `max_features='sqrt'` or remove this parameter as it is also the default value for RandomForestClassifiers and ExtraTreesClassifiers.\n",
            "  warn(\n"
          ]
        },
        {
          "output_type": "stream",
          "name": "stdout",
          "text": [
            "Accuracy: 0.9708\n",
            "Classification Report:\n",
            "{'0': {'precision': 0.9833333333333333, 'recall': 0.9365079365079365, 'f1-score': 0.9593495934959351, 'support': 63}, '1': {'precision': 0.963963963963964, 'recall': 0.9907407407407407, 'f1-score': 0.9771689497716894, 'support': 108}, 'accuracy': 0.9707602339181286, 'macro avg': {'precision': 0.9736486486486486, 'recall': 0.9636243386243386, 'f1-score': 0.9682592716338123, 'support': 171}, 'weighted avg': {'precision': 0.9711000474158369, 'recall': 0.9707602339181286, 'f1-score': 0.970603923775359, 'support': 171}}\n",
            "\n",
            "============================================================\n",
            "\n",
            "Training with parameters: {'n_estimators': 200, 'max_depth': 10, 'max_features': 'auto', 'min_samples_split': 2, 'min_samples_leaf': 2}\n"
          ]
        },
        {
          "output_type": "stream",
          "name": "stderr",
          "text": [
            "/usr/local/lib/python3.10/dist-packages/sklearn/ensemble/_forest.py:424: FutureWarning: `max_features='auto'` has been deprecated in 1.1 and will be removed in 1.3. To keep the past behaviour, explicitly set `max_features='sqrt'` or remove this parameter as it is also the default value for RandomForestClassifiers and ExtraTreesClassifiers.\n",
            "  warn(\n"
          ]
        },
        {
          "output_type": "stream",
          "name": "stdout",
          "text": [
            "Accuracy: 0.9708\n",
            "Classification Report:\n",
            "{'0': {'precision': 0.9833333333333333, 'recall': 0.9365079365079365, 'f1-score': 0.9593495934959351, 'support': 63}, '1': {'precision': 0.963963963963964, 'recall': 0.9907407407407407, 'f1-score': 0.9771689497716894, 'support': 108}, 'accuracy': 0.9707602339181286, 'macro avg': {'precision': 0.9736486486486486, 'recall': 0.9636243386243386, 'f1-score': 0.9682592716338123, 'support': 171}, 'weighted avg': {'precision': 0.9711000474158369, 'recall': 0.9707602339181286, 'f1-score': 0.970603923775359, 'support': 171}}\n",
            "\n",
            "============================================================\n",
            "\n",
            "Training with parameters: {'n_estimators': 200, 'max_depth': 10, 'max_features': 'auto', 'min_samples_split': 2, 'min_samples_leaf': 4}\n"
          ]
        },
        {
          "output_type": "stream",
          "name": "stderr",
          "text": [
            "/usr/local/lib/python3.10/dist-packages/sklearn/ensemble/_forest.py:424: FutureWarning: `max_features='auto'` has been deprecated in 1.1 and will be removed in 1.3. To keep the past behaviour, explicitly set `max_features='sqrt'` or remove this parameter as it is also the default value for RandomForestClassifiers and ExtraTreesClassifiers.\n",
            "  warn(\n"
          ]
        },
        {
          "output_type": "stream",
          "name": "stdout",
          "text": [
            "Accuracy: 0.9708\n",
            "Classification Report:\n",
            "{'0': {'precision': 0.9833333333333333, 'recall': 0.9365079365079365, 'f1-score': 0.9593495934959351, 'support': 63}, '1': {'precision': 0.963963963963964, 'recall': 0.9907407407407407, 'f1-score': 0.9771689497716894, 'support': 108}, 'accuracy': 0.9707602339181286, 'macro avg': {'precision': 0.9736486486486486, 'recall': 0.9636243386243386, 'f1-score': 0.9682592716338123, 'support': 171}, 'weighted avg': {'precision': 0.9711000474158369, 'recall': 0.9707602339181286, 'f1-score': 0.970603923775359, 'support': 171}}\n",
            "\n",
            "============================================================\n",
            "\n",
            "Training with parameters: {'n_estimators': 200, 'max_depth': 10, 'max_features': 'auto', 'min_samples_split': 5, 'min_samples_leaf': 1}\n"
          ]
        },
        {
          "output_type": "stream",
          "name": "stderr",
          "text": [
            "/usr/local/lib/python3.10/dist-packages/sklearn/ensemble/_forest.py:424: FutureWarning: `max_features='auto'` has been deprecated in 1.1 and will be removed in 1.3. To keep the past behaviour, explicitly set `max_features='sqrt'` or remove this parameter as it is also the default value for RandomForestClassifiers and ExtraTreesClassifiers.\n",
            "  warn(\n"
          ]
        },
        {
          "output_type": "stream",
          "name": "stdout",
          "text": [
            "Accuracy: 0.9649\n",
            "Classification Report:\n",
            "{'0': {'precision': 0.9672131147540983, 'recall': 0.9365079365079365, 'f1-score': 0.9516129032258064, 'support': 63}, '1': {'precision': 0.9636363636363636, 'recall': 0.9814814814814815, 'f1-score': 0.9724770642201834, 'support': 108}, 'accuracy': 0.9649122807017544, 'macro avg': {'precision': 0.965424739195231, 'recall': 0.9589947089947091, 'f1-score': 0.962044983722995, 'support': 171}, 'weighted avg': {'precision': 0.9649541140481607, 'recall': 0.9649122807017544, 'f1-score': 0.9647902680643603, 'support': 171}}\n",
            "\n",
            "============================================================\n",
            "\n",
            "Training with parameters: {'n_estimators': 200, 'max_depth': 10, 'max_features': 'auto', 'min_samples_split': 5, 'min_samples_leaf': 2}\n"
          ]
        },
        {
          "output_type": "stream",
          "name": "stderr",
          "text": [
            "/usr/local/lib/python3.10/dist-packages/sklearn/ensemble/_forest.py:424: FutureWarning: `max_features='auto'` has been deprecated in 1.1 and will be removed in 1.3. To keep the past behaviour, explicitly set `max_features='sqrt'` or remove this parameter as it is also the default value for RandomForestClassifiers and ExtraTreesClassifiers.\n",
            "  warn(\n"
          ]
        },
        {
          "output_type": "stream",
          "name": "stdout",
          "text": [
            "Accuracy: 0.9708\n",
            "Classification Report:\n",
            "{'0': {'precision': 0.9833333333333333, 'recall': 0.9365079365079365, 'f1-score': 0.9593495934959351, 'support': 63}, '1': {'precision': 0.963963963963964, 'recall': 0.9907407407407407, 'f1-score': 0.9771689497716894, 'support': 108}, 'accuracy': 0.9707602339181286, 'macro avg': {'precision': 0.9736486486486486, 'recall': 0.9636243386243386, 'f1-score': 0.9682592716338123, 'support': 171}, 'weighted avg': {'precision': 0.9711000474158369, 'recall': 0.9707602339181286, 'f1-score': 0.970603923775359, 'support': 171}}\n",
            "\n",
            "============================================================\n",
            "\n",
            "Training with parameters: {'n_estimators': 200, 'max_depth': 10, 'max_features': 'auto', 'min_samples_split': 5, 'min_samples_leaf': 4}\n"
          ]
        },
        {
          "output_type": "stream",
          "name": "stderr",
          "text": [
            "/usr/local/lib/python3.10/dist-packages/sklearn/ensemble/_forest.py:424: FutureWarning: `max_features='auto'` has been deprecated in 1.1 and will be removed in 1.3. To keep the past behaviour, explicitly set `max_features='sqrt'` or remove this parameter as it is also the default value for RandomForestClassifiers and ExtraTreesClassifiers.\n",
            "  warn(\n"
          ]
        },
        {
          "output_type": "stream",
          "name": "stdout",
          "text": [
            "Accuracy: 0.9708\n",
            "Classification Report:\n",
            "{'0': {'precision': 0.9833333333333333, 'recall': 0.9365079365079365, 'f1-score': 0.9593495934959351, 'support': 63}, '1': {'precision': 0.963963963963964, 'recall': 0.9907407407407407, 'f1-score': 0.9771689497716894, 'support': 108}, 'accuracy': 0.9707602339181286, 'macro avg': {'precision': 0.9736486486486486, 'recall': 0.9636243386243386, 'f1-score': 0.9682592716338123, 'support': 171}, 'weighted avg': {'precision': 0.9711000474158369, 'recall': 0.9707602339181286, 'f1-score': 0.970603923775359, 'support': 171}}\n",
            "\n",
            "============================================================\n",
            "\n",
            "Training with parameters: {'n_estimators': 200, 'max_depth': 10, 'max_features': 'auto', 'min_samples_split': 10, 'min_samples_leaf': 1}\n"
          ]
        },
        {
          "output_type": "stream",
          "name": "stderr",
          "text": [
            "/usr/local/lib/python3.10/dist-packages/sklearn/ensemble/_forest.py:424: FutureWarning: `max_features='auto'` has been deprecated in 1.1 and will be removed in 1.3. To keep the past behaviour, explicitly set `max_features='sqrt'` or remove this parameter as it is also the default value for RandomForestClassifiers and ExtraTreesClassifiers.\n",
            "  warn(\n"
          ]
        },
        {
          "output_type": "stream",
          "name": "stdout",
          "text": [
            "Accuracy: 0.9649\n",
            "Classification Report:\n",
            "{'0': {'precision': 0.9672131147540983, 'recall': 0.9365079365079365, 'f1-score': 0.9516129032258064, 'support': 63}, '1': {'precision': 0.9636363636363636, 'recall': 0.9814814814814815, 'f1-score': 0.9724770642201834, 'support': 108}, 'accuracy': 0.9649122807017544, 'macro avg': {'precision': 0.965424739195231, 'recall': 0.9589947089947091, 'f1-score': 0.962044983722995, 'support': 171}, 'weighted avg': {'precision': 0.9649541140481607, 'recall': 0.9649122807017544, 'f1-score': 0.9647902680643603, 'support': 171}}\n",
            "\n",
            "============================================================\n",
            "\n",
            "Training with parameters: {'n_estimators': 200, 'max_depth': 10, 'max_features': 'auto', 'min_samples_split': 10, 'min_samples_leaf': 2}\n"
          ]
        },
        {
          "output_type": "stream",
          "name": "stderr",
          "text": [
            "/usr/local/lib/python3.10/dist-packages/sklearn/ensemble/_forest.py:424: FutureWarning: `max_features='auto'` has been deprecated in 1.1 and will be removed in 1.3. To keep the past behaviour, explicitly set `max_features='sqrt'` or remove this parameter as it is also the default value for RandomForestClassifiers and ExtraTreesClassifiers.\n",
            "  warn(\n"
          ]
        },
        {
          "output_type": "stream",
          "name": "stdout",
          "text": [
            "Accuracy: 0.9649\n",
            "Classification Report:\n",
            "{'0': {'precision': 0.9672131147540983, 'recall': 0.9365079365079365, 'f1-score': 0.9516129032258064, 'support': 63}, '1': {'precision': 0.9636363636363636, 'recall': 0.9814814814814815, 'f1-score': 0.9724770642201834, 'support': 108}, 'accuracy': 0.9649122807017544, 'macro avg': {'precision': 0.965424739195231, 'recall': 0.9589947089947091, 'f1-score': 0.962044983722995, 'support': 171}, 'weighted avg': {'precision': 0.9649541140481607, 'recall': 0.9649122807017544, 'f1-score': 0.9647902680643603, 'support': 171}}\n",
            "\n",
            "============================================================\n",
            "\n",
            "Training with parameters: {'n_estimators': 200, 'max_depth': 10, 'max_features': 'auto', 'min_samples_split': 10, 'min_samples_leaf': 4}\n"
          ]
        },
        {
          "output_type": "stream",
          "name": "stderr",
          "text": [
            "/usr/local/lib/python3.10/dist-packages/sklearn/ensemble/_forest.py:424: FutureWarning: `max_features='auto'` has been deprecated in 1.1 and will be removed in 1.3. To keep the past behaviour, explicitly set `max_features='sqrt'` or remove this parameter as it is also the default value for RandomForestClassifiers and ExtraTreesClassifiers.\n",
            "  warn(\n"
          ]
        },
        {
          "output_type": "stream",
          "name": "stdout",
          "text": [
            "Accuracy: 0.9708\n",
            "Classification Report:\n",
            "{'0': {'precision': 0.9833333333333333, 'recall': 0.9365079365079365, 'f1-score': 0.9593495934959351, 'support': 63}, '1': {'precision': 0.963963963963964, 'recall': 0.9907407407407407, 'f1-score': 0.9771689497716894, 'support': 108}, 'accuracy': 0.9707602339181286, 'macro avg': {'precision': 0.9736486486486486, 'recall': 0.9636243386243386, 'f1-score': 0.9682592716338123, 'support': 171}, 'weighted avg': {'precision': 0.9711000474158369, 'recall': 0.9707602339181286, 'f1-score': 0.970603923775359, 'support': 171}}\n",
            "\n",
            "============================================================\n",
            "\n",
            "Training with parameters: {'n_estimators': 200, 'max_depth': 10, 'max_features': 'sqrt', 'min_samples_split': 2, 'min_samples_leaf': 1}\n",
            "Accuracy: 0.9708\n",
            "Classification Report:\n",
            "{'0': {'precision': 0.9833333333333333, 'recall': 0.9365079365079365, 'f1-score': 0.9593495934959351, 'support': 63}, '1': {'precision': 0.963963963963964, 'recall': 0.9907407407407407, 'f1-score': 0.9771689497716894, 'support': 108}, 'accuracy': 0.9707602339181286, 'macro avg': {'precision': 0.9736486486486486, 'recall': 0.9636243386243386, 'f1-score': 0.9682592716338123, 'support': 171}, 'weighted avg': {'precision': 0.9711000474158369, 'recall': 0.9707602339181286, 'f1-score': 0.970603923775359, 'support': 171}}\n",
            "\n",
            "============================================================\n",
            "\n",
            "Training with parameters: {'n_estimators': 200, 'max_depth': 10, 'max_features': 'sqrt', 'min_samples_split': 2, 'min_samples_leaf': 2}\n",
            "Accuracy: 0.9708\n",
            "Classification Report:\n",
            "{'0': {'precision': 0.9833333333333333, 'recall': 0.9365079365079365, 'f1-score': 0.9593495934959351, 'support': 63}, '1': {'precision': 0.963963963963964, 'recall': 0.9907407407407407, 'f1-score': 0.9771689497716894, 'support': 108}, 'accuracy': 0.9707602339181286, 'macro avg': {'precision': 0.9736486486486486, 'recall': 0.9636243386243386, 'f1-score': 0.9682592716338123, 'support': 171}, 'weighted avg': {'precision': 0.9711000474158369, 'recall': 0.9707602339181286, 'f1-score': 0.970603923775359, 'support': 171}}\n",
            "\n",
            "============================================================\n",
            "\n",
            "Training with parameters: {'n_estimators': 200, 'max_depth': 10, 'max_features': 'sqrt', 'min_samples_split': 2, 'min_samples_leaf': 4}\n",
            "Accuracy: 0.9708\n",
            "Classification Report:\n",
            "{'0': {'precision': 0.9833333333333333, 'recall': 0.9365079365079365, 'f1-score': 0.9593495934959351, 'support': 63}, '1': {'precision': 0.963963963963964, 'recall': 0.9907407407407407, 'f1-score': 0.9771689497716894, 'support': 108}, 'accuracy': 0.9707602339181286, 'macro avg': {'precision': 0.9736486486486486, 'recall': 0.9636243386243386, 'f1-score': 0.9682592716338123, 'support': 171}, 'weighted avg': {'precision': 0.9711000474158369, 'recall': 0.9707602339181286, 'f1-score': 0.970603923775359, 'support': 171}}\n",
            "\n",
            "============================================================\n",
            "\n",
            "Training with parameters: {'n_estimators': 200, 'max_depth': 10, 'max_features': 'sqrt', 'min_samples_split': 5, 'min_samples_leaf': 1}\n",
            "Accuracy: 0.9649\n",
            "Classification Report:\n",
            "{'0': {'precision': 0.9672131147540983, 'recall': 0.9365079365079365, 'f1-score': 0.9516129032258064, 'support': 63}, '1': {'precision': 0.9636363636363636, 'recall': 0.9814814814814815, 'f1-score': 0.9724770642201834, 'support': 108}, 'accuracy': 0.9649122807017544, 'macro avg': {'precision': 0.965424739195231, 'recall': 0.9589947089947091, 'f1-score': 0.962044983722995, 'support': 171}, 'weighted avg': {'precision': 0.9649541140481607, 'recall': 0.9649122807017544, 'f1-score': 0.9647902680643603, 'support': 171}}\n",
            "\n",
            "============================================================\n",
            "\n",
            "Training with parameters: {'n_estimators': 200, 'max_depth': 10, 'max_features': 'sqrt', 'min_samples_split': 5, 'min_samples_leaf': 2}\n",
            "Accuracy: 0.9708\n",
            "Classification Report:\n",
            "{'0': {'precision': 0.9833333333333333, 'recall': 0.9365079365079365, 'f1-score': 0.9593495934959351, 'support': 63}, '1': {'precision': 0.963963963963964, 'recall': 0.9907407407407407, 'f1-score': 0.9771689497716894, 'support': 108}, 'accuracy': 0.9707602339181286, 'macro avg': {'precision': 0.9736486486486486, 'recall': 0.9636243386243386, 'f1-score': 0.9682592716338123, 'support': 171}, 'weighted avg': {'precision': 0.9711000474158369, 'recall': 0.9707602339181286, 'f1-score': 0.970603923775359, 'support': 171}}\n",
            "\n",
            "============================================================\n",
            "\n",
            "Training with parameters: {'n_estimators': 200, 'max_depth': 10, 'max_features': 'sqrt', 'min_samples_split': 5, 'min_samples_leaf': 4}\n",
            "Accuracy: 0.9708\n",
            "Classification Report:\n",
            "{'0': {'precision': 0.9833333333333333, 'recall': 0.9365079365079365, 'f1-score': 0.9593495934959351, 'support': 63}, '1': {'precision': 0.963963963963964, 'recall': 0.9907407407407407, 'f1-score': 0.9771689497716894, 'support': 108}, 'accuracy': 0.9707602339181286, 'macro avg': {'precision': 0.9736486486486486, 'recall': 0.9636243386243386, 'f1-score': 0.9682592716338123, 'support': 171}, 'weighted avg': {'precision': 0.9711000474158369, 'recall': 0.9707602339181286, 'f1-score': 0.970603923775359, 'support': 171}}\n",
            "\n",
            "============================================================\n",
            "\n",
            "Training with parameters: {'n_estimators': 200, 'max_depth': 10, 'max_features': 'sqrt', 'min_samples_split': 10, 'min_samples_leaf': 1}\n",
            "Accuracy: 0.9649\n",
            "Classification Report:\n",
            "{'0': {'precision': 0.9672131147540983, 'recall': 0.9365079365079365, 'f1-score': 0.9516129032258064, 'support': 63}, '1': {'precision': 0.9636363636363636, 'recall': 0.9814814814814815, 'f1-score': 0.9724770642201834, 'support': 108}, 'accuracy': 0.9649122807017544, 'macro avg': {'precision': 0.965424739195231, 'recall': 0.9589947089947091, 'f1-score': 0.962044983722995, 'support': 171}, 'weighted avg': {'precision': 0.9649541140481607, 'recall': 0.9649122807017544, 'f1-score': 0.9647902680643603, 'support': 171}}\n",
            "\n",
            "============================================================\n",
            "\n",
            "Training with parameters: {'n_estimators': 200, 'max_depth': 10, 'max_features': 'sqrt', 'min_samples_split': 10, 'min_samples_leaf': 2}\n",
            "Accuracy: 0.9649\n",
            "Classification Report:\n",
            "{'0': {'precision': 0.9672131147540983, 'recall': 0.9365079365079365, 'f1-score': 0.9516129032258064, 'support': 63}, '1': {'precision': 0.9636363636363636, 'recall': 0.9814814814814815, 'f1-score': 0.9724770642201834, 'support': 108}, 'accuracy': 0.9649122807017544, 'macro avg': {'precision': 0.965424739195231, 'recall': 0.9589947089947091, 'f1-score': 0.962044983722995, 'support': 171}, 'weighted avg': {'precision': 0.9649541140481607, 'recall': 0.9649122807017544, 'f1-score': 0.9647902680643603, 'support': 171}}\n",
            "\n",
            "============================================================\n",
            "\n",
            "Training with parameters: {'n_estimators': 200, 'max_depth': 10, 'max_features': 'sqrt', 'min_samples_split': 10, 'min_samples_leaf': 4}\n",
            "Accuracy: 0.9708\n",
            "Classification Report:\n",
            "{'0': {'precision': 0.9833333333333333, 'recall': 0.9365079365079365, 'f1-score': 0.9593495934959351, 'support': 63}, '1': {'precision': 0.963963963963964, 'recall': 0.9907407407407407, 'f1-score': 0.9771689497716894, 'support': 108}, 'accuracy': 0.9707602339181286, 'macro avg': {'precision': 0.9736486486486486, 'recall': 0.9636243386243386, 'f1-score': 0.9682592716338123, 'support': 171}, 'weighted avg': {'precision': 0.9711000474158369, 'recall': 0.9707602339181286, 'f1-score': 0.970603923775359, 'support': 171}}\n",
            "\n",
            "============================================================\n",
            "\n",
            "Training with parameters: {'n_estimators': 200, 'max_depth': 10, 'max_features': 'log2', 'min_samples_split': 2, 'min_samples_leaf': 1}\n",
            "Accuracy: 0.9708\n",
            "Classification Report:\n",
            "{'0': {'precision': 0.9833333333333333, 'recall': 0.9365079365079365, 'f1-score': 0.9593495934959351, 'support': 63}, '1': {'precision': 0.963963963963964, 'recall': 0.9907407407407407, 'f1-score': 0.9771689497716894, 'support': 108}, 'accuracy': 0.9707602339181286, 'macro avg': {'precision': 0.9736486486486486, 'recall': 0.9636243386243386, 'f1-score': 0.9682592716338123, 'support': 171}, 'weighted avg': {'precision': 0.9711000474158369, 'recall': 0.9707602339181286, 'f1-score': 0.970603923775359, 'support': 171}}\n",
            "\n",
            "============================================================\n",
            "\n",
            "Training with parameters: {'n_estimators': 200, 'max_depth': 10, 'max_features': 'log2', 'min_samples_split': 2, 'min_samples_leaf': 2}\n",
            "Accuracy: 0.9708\n",
            "Classification Report:\n",
            "{'0': {'precision': 0.9833333333333333, 'recall': 0.9365079365079365, 'f1-score': 0.9593495934959351, 'support': 63}, '1': {'precision': 0.963963963963964, 'recall': 0.9907407407407407, 'f1-score': 0.9771689497716894, 'support': 108}, 'accuracy': 0.9707602339181286, 'macro avg': {'precision': 0.9736486486486486, 'recall': 0.9636243386243386, 'f1-score': 0.9682592716338123, 'support': 171}, 'weighted avg': {'precision': 0.9711000474158369, 'recall': 0.9707602339181286, 'f1-score': 0.970603923775359, 'support': 171}}\n",
            "\n",
            "============================================================\n",
            "\n",
            "Training with parameters: {'n_estimators': 200, 'max_depth': 10, 'max_features': 'log2', 'min_samples_split': 2, 'min_samples_leaf': 4}\n",
            "Accuracy: 0.9708\n",
            "Classification Report:\n",
            "{'0': {'precision': 0.9833333333333333, 'recall': 0.9365079365079365, 'f1-score': 0.9593495934959351, 'support': 63}, '1': {'precision': 0.963963963963964, 'recall': 0.9907407407407407, 'f1-score': 0.9771689497716894, 'support': 108}, 'accuracy': 0.9707602339181286, 'macro avg': {'precision': 0.9736486486486486, 'recall': 0.9636243386243386, 'f1-score': 0.9682592716338123, 'support': 171}, 'weighted avg': {'precision': 0.9711000474158369, 'recall': 0.9707602339181286, 'f1-score': 0.970603923775359, 'support': 171}}\n",
            "\n",
            "============================================================\n",
            "\n",
            "Training with parameters: {'n_estimators': 200, 'max_depth': 10, 'max_features': 'log2', 'min_samples_split': 5, 'min_samples_leaf': 1}\n",
            "Accuracy: 0.9708\n",
            "Classification Report:\n",
            "{'0': {'precision': 0.9833333333333333, 'recall': 0.9365079365079365, 'f1-score': 0.9593495934959351, 'support': 63}, '1': {'precision': 0.963963963963964, 'recall': 0.9907407407407407, 'f1-score': 0.9771689497716894, 'support': 108}, 'accuracy': 0.9707602339181286, 'macro avg': {'precision': 0.9736486486486486, 'recall': 0.9636243386243386, 'f1-score': 0.9682592716338123, 'support': 171}, 'weighted avg': {'precision': 0.9711000474158369, 'recall': 0.9707602339181286, 'f1-score': 0.970603923775359, 'support': 171}}\n",
            "\n",
            "============================================================\n",
            "\n",
            "Training with parameters: {'n_estimators': 200, 'max_depth': 10, 'max_features': 'log2', 'min_samples_split': 5, 'min_samples_leaf': 2}\n",
            "Accuracy: 0.9708\n",
            "Classification Report:\n",
            "{'0': {'precision': 0.9833333333333333, 'recall': 0.9365079365079365, 'f1-score': 0.9593495934959351, 'support': 63}, '1': {'precision': 0.963963963963964, 'recall': 0.9907407407407407, 'f1-score': 0.9771689497716894, 'support': 108}, 'accuracy': 0.9707602339181286, 'macro avg': {'precision': 0.9736486486486486, 'recall': 0.9636243386243386, 'f1-score': 0.9682592716338123, 'support': 171}, 'weighted avg': {'precision': 0.9711000474158369, 'recall': 0.9707602339181286, 'f1-score': 0.970603923775359, 'support': 171}}\n",
            "\n",
            "============================================================\n",
            "\n",
            "Training with parameters: {'n_estimators': 200, 'max_depth': 10, 'max_features': 'log2', 'min_samples_split': 5, 'min_samples_leaf': 4}\n",
            "Accuracy: 0.9708\n",
            "Classification Report:\n",
            "{'0': {'precision': 0.9833333333333333, 'recall': 0.9365079365079365, 'f1-score': 0.9593495934959351, 'support': 63}, '1': {'precision': 0.963963963963964, 'recall': 0.9907407407407407, 'f1-score': 0.9771689497716894, 'support': 108}, 'accuracy': 0.9707602339181286, 'macro avg': {'precision': 0.9736486486486486, 'recall': 0.9636243386243386, 'f1-score': 0.9682592716338123, 'support': 171}, 'weighted avg': {'precision': 0.9711000474158369, 'recall': 0.9707602339181286, 'f1-score': 0.970603923775359, 'support': 171}}\n",
            "\n",
            "============================================================\n",
            "\n",
            "Training with parameters: {'n_estimators': 200, 'max_depth': 10, 'max_features': 'log2', 'min_samples_split': 10, 'min_samples_leaf': 1}\n",
            "Accuracy: 0.9708\n",
            "Classification Report:\n",
            "{'0': {'precision': 0.9833333333333333, 'recall': 0.9365079365079365, 'f1-score': 0.9593495934959351, 'support': 63}, '1': {'precision': 0.963963963963964, 'recall': 0.9907407407407407, 'f1-score': 0.9771689497716894, 'support': 108}, 'accuracy': 0.9707602339181286, 'macro avg': {'precision': 0.9736486486486486, 'recall': 0.9636243386243386, 'f1-score': 0.9682592716338123, 'support': 171}, 'weighted avg': {'precision': 0.9711000474158369, 'recall': 0.9707602339181286, 'f1-score': 0.970603923775359, 'support': 171}}\n",
            "\n",
            "============================================================\n",
            "\n",
            "Training with parameters: {'n_estimators': 200, 'max_depth': 10, 'max_features': 'log2', 'min_samples_split': 10, 'min_samples_leaf': 2}\n",
            "Accuracy: 0.9708\n",
            "Classification Report:\n",
            "{'0': {'precision': 0.9833333333333333, 'recall': 0.9365079365079365, 'f1-score': 0.9593495934959351, 'support': 63}, '1': {'precision': 0.963963963963964, 'recall': 0.9907407407407407, 'f1-score': 0.9771689497716894, 'support': 108}, 'accuracy': 0.9707602339181286, 'macro avg': {'precision': 0.9736486486486486, 'recall': 0.9636243386243386, 'f1-score': 0.9682592716338123, 'support': 171}, 'weighted avg': {'precision': 0.9711000474158369, 'recall': 0.9707602339181286, 'f1-score': 0.970603923775359, 'support': 171}}\n",
            "\n",
            "============================================================\n",
            "\n",
            "Training with parameters: {'n_estimators': 200, 'max_depth': 10, 'max_features': 'log2', 'min_samples_split': 10, 'min_samples_leaf': 4}\n",
            "Accuracy: 0.9708\n",
            "Classification Report:\n",
            "{'0': {'precision': 0.9833333333333333, 'recall': 0.9365079365079365, 'f1-score': 0.9593495934959351, 'support': 63}, '1': {'precision': 0.963963963963964, 'recall': 0.9907407407407407, 'f1-score': 0.9771689497716894, 'support': 108}, 'accuracy': 0.9707602339181286, 'macro avg': {'precision': 0.9736486486486486, 'recall': 0.9636243386243386, 'f1-score': 0.9682592716338123, 'support': 171}, 'weighted avg': {'precision': 0.9711000474158369, 'recall': 0.9707602339181286, 'f1-score': 0.970603923775359, 'support': 171}}\n",
            "\n",
            "============================================================\n",
            "\n",
            "Training with parameters: {'n_estimators': 200, 'max_depth': 20, 'max_features': 'auto', 'min_samples_split': 2, 'min_samples_leaf': 1}\n"
          ]
        },
        {
          "output_type": "stream",
          "name": "stderr",
          "text": [
            "/usr/local/lib/python3.10/dist-packages/sklearn/ensemble/_forest.py:424: FutureWarning: `max_features='auto'` has been deprecated in 1.1 and will be removed in 1.3. To keep the past behaviour, explicitly set `max_features='sqrt'` or remove this parameter as it is also the default value for RandomForestClassifiers and ExtraTreesClassifiers.\n",
            "  warn(\n"
          ]
        },
        {
          "output_type": "stream",
          "name": "stdout",
          "text": [
            "Accuracy: 0.9708\n",
            "Classification Report:\n",
            "{'0': {'precision': 0.9833333333333333, 'recall': 0.9365079365079365, 'f1-score': 0.9593495934959351, 'support': 63}, '1': {'precision': 0.963963963963964, 'recall': 0.9907407407407407, 'f1-score': 0.9771689497716894, 'support': 108}, 'accuracy': 0.9707602339181286, 'macro avg': {'precision': 0.9736486486486486, 'recall': 0.9636243386243386, 'f1-score': 0.9682592716338123, 'support': 171}, 'weighted avg': {'precision': 0.9711000474158369, 'recall': 0.9707602339181286, 'f1-score': 0.970603923775359, 'support': 171}}\n",
            "\n",
            "============================================================\n",
            "\n",
            "Training with parameters: {'n_estimators': 200, 'max_depth': 20, 'max_features': 'auto', 'min_samples_split': 2, 'min_samples_leaf': 2}\n"
          ]
        },
        {
          "output_type": "stream",
          "name": "stderr",
          "text": [
            "/usr/local/lib/python3.10/dist-packages/sklearn/ensemble/_forest.py:424: FutureWarning: `max_features='auto'` has been deprecated in 1.1 and will be removed in 1.3. To keep the past behaviour, explicitly set `max_features='sqrt'` or remove this parameter as it is also the default value for RandomForestClassifiers and ExtraTreesClassifiers.\n",
            "  warn(\n"
          ]
        },
        {
          "output_type": "stream",
          "name": "stdout",
          "text": [
            "Accuracy: 0.9708\n",
            "Classification Report:\n",
            "{'0': {'precision': 0.9833333333333333, 'recall': 0.9365079365079365, 'f1-score': 0.9593495934959351, 'support': 63}, '1': {'precision': 0.963963963963964, 'recall': 0.9907407407407407, 'f1-score': 0.9771689497716894, 'support': 108}, 'accuracy': 0.9707602339181286, 'macro avg': {'precision': 0.9736486486486486, 'recall': 0.9636243386243386, 'f1-score': 0.9682592716338123, 'support': 171}, 'weighted avg': {'precision': 0.9711000474158369, 'recall': 0.9707602339181286, 'f1-score': 0.970603923775359, 'support': 171}}\n",
            "\n",
            "============================================================\n",
            "\n",
            "Training with parameters: {'n_estimators': 200, 'max_depth': 20, 'max_features': 'auto', 'min_samples_split': 2, 'min_samples_leaf': 4}\n"
          ]
        },
        {
          "output_type": "stream",
          "name": "stderr",
          "text": [
            "/usr/local/lib/python3.10/dist-packages/sklearn/ensemble/_forest.py:424: FutureWarning: `max_features='auto'` has been deprecated in 1.1 and will be removed in 1.3. To keep the past behaviour, explicitly set `max_features='sqrt'` or remove this parameter as it is also the default value for RandomForestClassifiers and ExtraTreesClassifiers.\n",
            "  warn(\n"
          ]
        },
        {
          "output_type": "stream",
          "name": "stdout",
          "text": [
            "Accuracy: 0.9708\n",
            "Classification Report:\n",
            "{'0': {'precision': 0.9833333333333333, 'recall': 0.9365079365079365, 'f1-score': 0.9593495934959351, 'support': 63}, '1': {'precision': 0.963963963963964, 'recall': 0.9907407407407407, 'f1-score': 0.9771689497716894, 'support': 108}, 'accuracy': 0.9707602339181286, 'macro avg': {'precision': 0.9736486486486486, 'recall': 0.9636243386243386, 'f1-score': 0.9682592716338123, 'support': 171}, 'weighted avg': {'precision': 0.9711000474158369, 'recall': 0.9707602339181286, 'f1-score': 0.970603923775359, 'support': 171}}\n",
            "\n",
            "============================================================\n",
            "\n",
            "Training with parameters: {'n_estimators': 200, 'max_depth': 20, 'max_features': 'auto', 'min_samples_split': 5, 'min_samples_leaf': 1}\n"
          ]
        },
        {
          "output_type": "stream",
          "name": "stderr",
          "text": [
            "/usr/local/lib/python3.10/dist-packages/sklearn/ensemble/_forest.py:424: FutureWarning: `max_features='auto'` has been deprecated in 1.1 and will be removed in 1.3. To keep the past behaviour, explicitly set `max_features='sqrt'` or remove this parameter as it is also the default value for RandomForestClassifiers and ExtraTreesClassifiers.\n",
            "  warn(\n"
          ]
        },
        {
          "output_type": "stream",
          "name": "stdout",
          "text": [
            "Accuracy: 0.9649\n",
            "Classification Report:\n",
            "{'0': {'precision': 0.9672131147540983, 'recall': 0.9365079365079365, 'f1-score': 0.9516129032258064, 'support': 63}, '1': {'precision': 0.9636363636363636, 'recall': 0.9814814814814815, 'f1-score': 0.9724770642201834, 'support': 108}, 'accuracy': 0.9649122807017544, 'macro avg': {'precision': 0.965424739195231, 'recall': 0.9589947089947091, 'f1-score': 0.962044983722995, 'support': 171}, 'weighted avg': {'precision': 0.9649541140481607, 'recall': 0.9649122807017544, 'f1-score': 0.9647902680643603, 'support': 171}}\n",
            "\n",
            "============================================================\n",
            "\n",
            "Training with parameters: {'n_estimators': 200, 'max_depth': 20, 'max_features': 'auto', 'min_samples_split': 5, 'min_samples_leaf': 2}\n"
          ]
        },
        {
          "output_type": "stream",
          "name": "stderr",
          "text": [
            "/usr/local/lib/python3.10/dist-packages/sklearn/ensemble/_forest.py:424: FutureWarning: `max_features='auto'` has been deprecated in 1.1 and will be removed in 1.3. To keep the past behaviour, explicitly set `max_features='sqrt'` or remove this parameter as it is also the default value for RandomForestClassifiers and ExtraTreesClassifiers.\n",
            "  warn(\n"
          ]
        },
        {
          "output_type": "stream",
          "name": "stdout",
          "text": [
            "Accuracy: 0.9708\n",
            "Classification Report:\n",
            "{'0': {'precision': 0.9833333333333333, 'recall': 0.9365079365079365, 'f1-score': 0.9593495934959351, 'support': 63}, '1': {'precision': 0.963963963963964, 'recall': 0.9907407407407407, 'f1-score': 0.9771689497716894, 'support': 108}, 'accuracy': 0.9707602339181286, 'macro avg': {'precision': 0.9736486486486486, 'recall': 0.9636243386243386, 'f1-score': 0.9682592716338123, 'support': 171}, 'weighted avg': {'precision': 0.9711000474158369, 'recall': 0.9707602339181286, 'f1-score': 0.970603923775359, 'support': 171}}\n",
            "\n",
            "============================================================\n",
            "\n",
            "Training with parameters: {'n_estimators': 200, 'max_depth': 20, 'max_features': 'auto', 'min_samples_split': 5, 'min_samples_leaf': 4}\n"
          ]
        },
        {
          "output_type": "stream",
          "name": "stderr",
          "text": [
            "/usr/local/lib/python3.10/dist-packages/sklearn/ensemble/_forest.py:424: FutureWarning: `max_features='auto'` has been deprecated in 1.1 and will be removed in 1.3. To keep the past behaviour, explicitly set `max_features='sqrt'` or remove this parameter as it is also the default value for RandomForestClassifiers and ExtraTreesClassifiers.\n",
            "  warn(\n"
          ]
        },
        {
          "output_type": "stream",
          "name": "stdout",
          "text": [
            "Accuracy: 0.9708\n",
            "Classification Report:\n",
            "{'0': {'precision': 0.9833333333333333, 'recall': 0.9365079365079365, 'f1-score': 0.9593495934959351, 'support': 63}, '1': {'precision': 0.963963963963964, 'recall': 0.9907407407407407, 'f1-score': 0.9771689497716894, 'support': 108}, 'accuracy': 0.9707602339181286, 'macro avg': {'precision': 0.9736486486486486, 'recall': 0.9636243386243386, 'f1-score': 0.9682592716338123, 'support': 171}, 'weighted avg': {'precision': 0.9711000474158369, 'recall': 0.9707602339181286, 'f1-score': 0.970603923775359, 'support': 171}}\n",
            "\n",
            "============================================================\n",
            "\n",
            "Training with parameters: {'n_estimators': 200, 'max_depth': 20, 'max_features': 'auto', 'min_samples_split': 10, 'min_samples_leaf': 1}\n"
          ]
        },
        {
          "output_type": "stream",
          "name": "stderr",
          "text": [
            "/usr/local/lib/python3.10/dist-packages/sklearn/ensemble/_forest.py:424: FutureWarning: `max_features='auto'` has been deprecated in 1.1 and will be removed in 1.3. To keep the past behaviour, explicitly set `max_features='sqrt'` or remove this parameter as it is also the default value for RandomForestClassifiers and ExtraTreesClassifiers.\n",
            "  warn(\n"
          ]
        },
        {
          "output_type": "stream",
          "name": "stdout",
          "text": [
            "Accuracy: 0.9649\n",
            "Classification Report:\n",
            "{'0': {'precision': 0.9672131147540983, 'recall': 0.9365079365079365, 'f1-score': 0.9516129032258064, 'support': 63}, '1': {'precision': 0.9636363636363636, 'recall': 0.9814814814814815, 'f1-score': 0.9724770642201834, 'support': 108}, 'accuracy': 0.9649122807017544, 'macro avg': {'precision': 0.965424739195231, 'recall': 0.9589947089947091, 'f1-score': 0.962044983722995, 'support': 171}, 'weighted avg': {'precision': 0.9649541140481607, 'recall': 0.9649122807017544, 'f1-score': 0.9647902680643603, 'support': 171}}\n",
            "\n",
            "============================================================\n",
            "\n",
            "Training with parameters: {'n_estimators': 200, 'max_depth': 20, 'max_features': 'auto', 'min_samples_split': 10, 'min_samples_leaf': 2}\n"
          ]
        },
        {
          "output_type": "stream",
          "name": "stderr",
          "text": [
            "/usr/local/lib/python3.10/dist-packages/sklearn/ensemble/_forest.py:424: FutureWarning: `max_features='auto'` has been deprecated in 1.1 and will be removed in 1.3. To keep the past behaviour, explicitly set `max_features='sqrt'` or remove this parameter as it is also the default value for RandomForestClassifiers and ExtraTreesClassifiers.\n",
            "  warn(\n"
          ]
        },
        {
          "output_type": "stream",
          "name": "stdout",
          "text": [
            "Accuracy: 0.9649\n",
            "Classification Report:\n",
            "{'0': {'precision': 0.9672131147540983, 'recall': 0.9365079365079365, 'f1-score': 0.9516129032258064, 'support': 63}, '1': {'precision': 0.9636363636363636, 'recall': 0.9814814814814815, 'f1-score': 0.9724770642201834, 'support': 108}, 'accuracy': 0.9649122807017544, 'macro avg': {'precision': 0.965424739195231, 'recall': 0.9589947089947091, 'f1-score': 0.962044983722995, 'support': 171}, 'weighted avg': {'precision': 0.9649541140481607, 'recall': 0.9649122807017544, 'f1-score': 0.9647902680643603, 'support': 171}}\n",
            "\n",
            "============================================================\n",
            "\n",
            "Training with parameters: {'n_estimators': 200, 'max_depth': 20, 'max_features': 'auto', 'min_samples_split': 10, 'min_samples_leaf': 4}\n"
          ]
        },
        {
          "output_type": "stream",
          "name": "stderr",
          "text": [
            "/usr/local/lib/python3.10/dist-packages/sklearn/ensemble/_forest.py:424: FutureWarning: `max_features='auto'` has been deprecated in 1.1 and will be removed in 1.3. To keep the past behaviour, explicitly set `max_features='sqrt'` or remove this parameter as it is also the default value for RandomForestClassifiers and ExtraTreesClassifiers.\n",
            "  warn(\n"
          ]
        },
        {
          "output_type": "stream",
          "name": "stdout",
          "text": [
            "Accuracy: 0.9708\n",
            "Classification Report:\n",
            "{'0': {'precision': 0.9833333333333333, 'recall': 0.9365079365079365, 'f1-score': 0.9593495934959351, 'support': 63}, '1': {'precision': 0.963963963963964, 'recall': 0.9907407407407407, 'f1-score': 0.9771689497716894, 'support': 108}, 'accuracy': 0.9707602339181286, 'macro avg': {'precision': 0.9736486486486486, 'recall': 0.9636243386243386, 'f1-score': 0.9682592716338123, 'support': 171}, 'weighted avg': {'precision': 0.9711000474158369, 'recall': 0.9707602339181286, 'f1-score': 0.970603923775359, 'support': 171}}\n",
            "\n",
            "============================================================\n",
            "\n",
            "Training with parameters: {'n_estimators': 200, 'max_depth': 20, 'max_features': 'sqrt', 'min_samples_split': 2, 'min_samples_leaf': 1}\n",
            "Accuracy: 0.9708\n",
            "Classification Report:\n",
            "{'0': {'precision': 0.9833333333333333, 'recall': 0.9365079365079365, 'f1-score': 0.9593495934959351, 'support': 63}, '1': {'precision': 0.963963963963964, 'recall': 0.9907407407407407, 'f1-score': 0.9771689497716894, 'support': 108}, 'accuracy': 0.9707602339181286, 'macro avg': {'precision': 0.9736486486486486, 'recall': 0.9636243386243386, 'f1-score': 0.9682592716338123, 'support': 171}, 'weighted avg': {'precision': 0.9711000474158369, 'recall': 0.9707602339181286, 'f1-score': 0.970603923775359, 'support': 171}}\n",
            "\n",
            "============================================================\n",
            "\n",
            "Training with parameters: {'n_estimators': 200, 'max_depth': 20, 'max_features': 'sqrt', 'min_samples_split': 2, 'min_samples_leaf': 2}\n",
            "Accuracy: 0.9708\n",
            "Classification Report:\n",
            "{'0': {'precision': 0.9833333333333333, 'recall': 0.9365079365079365, 'f1-score': 0.9593495934959351, 'support': 63}, '1': {'precision': 0.963963963963964, 'recall': 0.9907407407407407, 'f1-score': 0.9771689497716894, 'support': 108}, 'accuracy': 0.9707602339181286, 'macro avg': {'precision': 0.9736486486486486, 'recall': 0.9636243386243386, 'f1-score': 0.9682592716338123, 'support': 171}, 'weighted avg': {'precision': 0.9711000474158369, 'recall': 0.9707602339181286, 'f1-score': 0.970603923775359, 'support': 171}}\n",
            "\n",
            "============================================================\n",
            "\n",
            "Training with parameters: {'n_estimators': 200, 'max_depth': 20, 'max_features': 'sqrt', 'min_samples_split': 2, 'min_samples_leaf': 4}\n",
            "Accuracy: 0.9708\n",
            "Classification Report:\n",
            "{'0': {'precision': 0.9833333333333333, 'recall': 0.9365079365079365, 'f1-score': 0.9593495934959351, 'support': 63}, '1': {'precision': 0.963963963963964, 'recall': 0.9907407407407407, 'f1-score': 0.9771689497716894, 'support': 108}, 'accuracy': 0.9707602339181286, 'macro avg': {'precision': 0.9736486486486486, 'recall': 0.9636243386243386, 'f1-score': 0.9682592716338123, 'support': 171}, 'weighted avg': {'precision': 0.9711000474158369, 'recall': 0.9707602339181286, 'f1-score': 0.970603923775359, 'support': 171}}\n",
            "\n",
            "============================================================\n",
            "\n",
            "Training with parameters: {'n_estimators': 200, 'max_depth': 20, 'max_features': 'sqrt', 'min_samples_split': 5, 'min_samples_leaf': 1}\n",
            "Accuracy: 0.9649\n",
            "Classification Report:\n",
            "{'0': {'precision': 0.9672131147540983, 'recall': 0.9365079365079365, 'f1-score': 0.9516129032258064, 'support': 63}, '1': {'precision': 0.9636363636363636, 'recall': 0.9814814814814815, 'f1-score': 0.9724770642201834, 'support': 108}, 'accuracy': 0.9649122807017544, 'macro avg': {'precision': 0.965424739195231, 'recall': 0.9589947089947091, 'f1-score': 0.962044983722995, 'support': 171}, 'weighted avg': {'precision': 0.9649541140481607, 'recall': 0.9649122807017544, 'f1-score': 0.9647902680643603, 'support': 171}}\n",
            "\n",
            "============================================================\n",
            "\n",
            "Training with parameters: {'n_estimators': 200, 'max_depth': 20, 'max_features': 'sqrt', 'min_samples_split': 5, 'min_samples_leaf': 2}\n",
            "Accuracy: 0.9708\n",
            "Classification Report:\n",
            "{'0': {'precision': 0.9833333333333333, 'recall': 0.9365079365079365, 'f1-score': 0.9593495934959351, 'support': 63}, '1': {'precision': 0.963963963963964, 'recall': 0.9907407407407407, 'f1-score': 0.9771689497716894, 'support': 108}, 'accuracy': 0.9707602339181286, 'macro avg': {'precision': 0.9736486486486486, 'recall': 0.9636243386243386, 'f1-score': 0.9682592716338123, 'support': 171}, 'weighted avg': {'precision': 0.9711000474158369, 'recall': 0.9707602339181286, 'f1-score': 0.970603923775359, 'support': 171}}\n",
            "\n",
            "============================================================\n",
            "\n",
            "Training with parameters: {'n_estimators': 200, 'max_depth': 20, 'max_features': 'sqrt', 'min_samples_split': 5, 'min_samples_leaf': 4}\n",
            "Accuracy: 0.9708\n",
            "Classification Report:\n",
            "{'0': {'precision': 0.9833333333333333, 'recall': 0.9365079365079365, 'f1-score': 0.9593495934959351, 'support': 63}, '1': {'precision': 0.963963963963964, 'recall': 0.9907407407407407, 'f1-score': 0.9771689497716894, 'support': 108}, 'accuracy': 0.9707602339181286, 'macro avg': {'precision': 0.9736486486486486, 'recall': 0.9636243386243386, 'f1-score': 0.9682592716338123, 'support': 171}, 'weighted avg': {'precision': 0.9711000474158369, 'recall': 0.9707602339181286, 'f1-score': 0.970603923775359, 'support': 171}}\n",
            "\n",
            "============================================================\n",
            "\n",
            "Training with parameters: {'n_estimators': 200, 'max_depth': 20, 'max_features': 'sqrt', 'min_samples_split': 10, 'min_samples_leaf': 1}\n",
            "Accuracy: 0.9649\n",
            "Classification Report:\n",
            "{'0': {'precision': 0.9672131147540983, 'recall': 0.9365079365079365, 'f1-score': 0.9516129032258064, 'support': 63}, '1': {'precision': 0.9636363636363636, 'recall': 0.9814814814814815, 'f1-score': 0.9724770642201834, 'support': 108}, 'accuracy': 0.9649122807017544, 'macro avg': {'precision': 0.965424739195231, 'recall': 0.9589947089947091, 'f1-score': 0.962044983722995, 'support': 171}, 'weighted avg': {'precision': 0.9649541140481607, 'recall': 0.9649122807017544, 'f1-score': 0.9647902680643603, 'support': 171}}\n",
            "\n",
            "============================================================\n",
            "\n",
            "Training with parameters: {'n_estimators': 200, 'max_depth': 20, 'max_features': 'sqrt', 'min_samples_split': 10, 'min_samples_leaf': 2}\n",
            "Accuracy: 0.9649\n",
            "Classification Report:\n",
            "{'0': {'precision': 0.9672131147540983, 'recall': 0.9365079365079365, 'f1-score': 0.9516129032258064, 'support': 63}, '1': {'precision': 0.9636363636363636, 'recall': 0.9814814814814815, 'f1-score': 0.9724770642201834, 'support': 108}, 'accuracy': 0.9649122807017544, 'macro avg': {'precision': 0.965424739195231, 'recall': 0.9589947089947091, 'f1-score': 0.962044983722995, 'support': 171}, 'weighted avg': {'precision': 0.9649541140481607, 'recall': 0.9649122807017544, 'f1-score': 0.9647902680643603, 'support': 171}}\n",
            "\n",
            "============================================================\n",
            "\n",
            "Training with parameters: {'n_estimators': 200, 'max_depth': 20, 'max_features': 'sqrt', 'min_samples_split': 10, 'min_samples_leaf': 4}\n",
            "Accuracy: 0.9708\n",
            "Classification Report:\n",
            "{'0': {'precision': 0.9833333333333333, 'recall': 0.9365079365079365, 'f1-score': 0.9593495934959351, 'support': 63}, '1': {'precision': 0.963963963963964, 'recall': 0.9907407407407407, 'f1-score': 0.9771689497716894, 'support': 108}, 'accuracy': 0.9707602339181286, 'macro avg': {'precision': 0.9736486486486486, 'recall': 0.9636243386243386, 'f1-score': 0.9682592716338123, 'support': 171}, 'weighted avg': {'precision': 0.9711000474158369, 'recall': 0.9707602339181286, 'f1-score': 0.970603923775359, 'support': 171}}\n",
            "\n",
            "============================================================\n",
            "\n",
            "Training with parameters: {'n_estimators': 200, 'max_depth': 20, 'max_features': 'log2', 'min_samples_split': 2, 'min_samples_leaf': 1}\n",
            "Accuracy: 0.9708\n",
            "Classification Report:\n",
            "{'0': {'precision': 0.9833333333333333, 'recall': 0.9365079365079365, 'f1-score': 0.9593495934959351, 'support': 63}, '1': {'precision': 0.963963963963964, 'recall': 0.9907407407407407, 'f1-score': 0.9771689497716894, 'support': 108}, 'accuracy': 0.9707602339181286, 'macro avg': {'precision': 0.9736486486486486, 'recall': 0.9636243386243386, 'f1-score': 0.9682592716338123, 'support': 171}, 'weighted avg': {'precision': 0.9711000474158369, 'recall': 0.9707602339181286, 'f1-score': 0.970603923775359, 'support': 171}}\n",
            "\n",
            "============================================================\n",
            "\n",
            "Training with parameters: {'n_estimators': 200, 'max_depth': 20, 'max_features': 'log2', 'min_samples_split': 2, 'min_samples_leaf': 2}\n",
            "Accuracy: 0.9708\n",
            "Classification Report:\n",
            "{'0': {'precision': 0.9833333333333333, 'recall': 0.9365079365079365, 'f1-score': 0.9593495934959351, 'support': 63}, '1': {'precision': 0.963963963963964, 'recall': 0.9907407407407407, 'f1-score': 0.9771689497716894, 'support': 108}, 'accuracy': 0.9707602339181286, 'macro avg': {'precision': 0.9736486486486486, 'recall': 0.9636243386243386, 'f1-score': 0.9682592716338123, 'support': 171}, 'weighted avg': {'precision': 0.9711000474158369, 'recall': 0.9707602339181286, 'f1-score': 0.970603923775359, 'support': 171}}\n",
            "\n",
            "============================================================\n",
            "\n",
            "Training with parameters: {'n_estimators': 200, 'max_depth': 20, 'max_features': 'log2', 'min_samples_split': 2, 'min_samples_leaf': 4}\n",
            "Accuracy: 0.9708\n",
            "Classification Report:\n",
            "{'0': {'precision': 0.9833333333333333, 'recall': 0.9365079365079365, 'f1-score': 0.9593495934959351, 'support': 63}, '1': {'precision': 0.963963963963964, 'recall': 0.9907407407407407, 'f1-score': 0.9771689497716894, 'support': 108}, 'accuracy': 0.9707602339181286, 'macro avg': {'precision': 0.9736486486486486, 'recall': 0.9636243386243386, 'f1-score': 0.9682592716338123, 'support': 171}, 'weighted avg': {'precision': 0.9711000474158369, 'recall': 0.9707602339181286, 'f1-score': 0.970603923775359, 'support': 171}}\n",
            "\n",
            "============================================================\n",
            "\n",
            "Training with parameters: {'n_estimators': 200, 'max_depth': 20, 'max_features': 'log2', 'min_samples_split': 5, 'min_samples_leaf': 1}\n",
            "Accuracy: 0.9708\n",
            "Classification Report:\n",
            "{'0': {'precision': 0.9833333333333333, 'recall': 0.9365079365079365, 'f1-score': 0.9593495934959351, 'support': 63}, '1': {'precision': 0.963963963963964, 'recall': 0.9907407407407407, 'f1-score': 0.9771689497716894, 'support': 108}, 'accuracy': 0.9707602339181286, 'macro avg': {'precision': 0.9736486486486486, 'recall': 0.9636243386243386, 'f1-score': 0.9682592716338123, 'support': 171}, 'weighted avg': {'precision': 0.9711000474158369, 'recall': 0.9707602339181286, 'f1-score': 0.970603923775359, 'support': 171}}\n",
            "\n",
            "============================================================\n",
            "\n",
            "Training with parameters: {'n_estimators': 200, 'max_depth': 20, 'max_features': 'log2', 'min_samples_split': 5, 'min_samples_leaf': 2}\n",
            "Accuracy: 0.9708\n",
            "Classification Report:\n",
            "{'0': {'precision': 0.9833333333333333, 'recall': 0.9365079365079365, 'f1-score': 0.9593495934959351, 'support': 63}, '1': {'precision': 0.963963963963964, 'recall': 0.9907407407407407, 'f1-score': 0.9771689497716894, 'support': 108}, 'accuracy': 0.9707602339181286, 'macro avg': {'precision': 0.9736486486486486, 'recall': 0.9636243386243386, 'f1-score': 0.9682592716338123, 'support': 171}, 'weighted avg': {'precision': 0.9711000474158369, 'recall': 0.9707602339181286, 'f1-score': 0.970603923775359, 'support': 171}}\n",
            "\n",
            "============================================================\n",
            "\n",
            "Training with parameters: {'n_estimators': 200, 'max_depth': 20, 'max_features': 'log2', 'min_samples_split': 5, 'min_samples_leaf': 4}\n",
            "Accuracy: 0.9708\n",
            "Classification Report:\n",
            "{'0': {'precision': 0.9833333333333333, 'recall': 0.9365079365079365, 'f1-score': 0.9593495934959351, 'support': 63}, '1': {'precision': 0.963963963963964, 'recall': 0.9907407407407407, 'f1-score': 0.9771689497716894, 'support': 108}, 'accuracy': 0.9707602339181286, 'macro avg': {'precision': 0.9736486486486486, 'recall': 0.9636243386243386, 'f1-score': 0.9682592716338123, 'support': 171}, 'weighted avg': {'precision': 0.9711000474158369, 'recall': 0.9707602339181286, 'f1-score': 0.970603923775359, 'support': 171}}\n",
            "\n",
            "============================================================\n",
            "\n",
            "Training with parameters: {'n_estimators': 200, 'max_depth': 20, 'max_features': 'log2', 'min_samples_split': 10, 'min_samples_leaf': 1}\n",
            "Accuracy: 0.9708\n",
            "Classification Report:\n",
            "{'0': {'precision': 0.9833333333333333, 'recall': 0.9365079365079365, 'f1-score': 0.9593495934959351, 'support': 63}, '1': {'precision': 0.963963963963964, 'recall': 0.9907407407407407, 'f1-score': 0.9771689497716894, 'support': 108}, 'accuracy': 0.9707602339181286, 'macro avg': {'precision': 0.9736486486486486, 'recall': 0.9636243386243386, 'f1-score': 0.9682592716338123, 'support': 171}, 'weighted avg': {'precision': 0.9711000474158369, 'recall': 0.9707602339181286, 'f1-score': 0.970603923775359, 'support': 171}}\n",
            "\n",
            "============================================================\n",
            "\n",
            "Training with parameters: {'n_estimators': 200, 'max_depth': 20, 'max_features': 'log2', 'min_samples_split': 10, 'min_samples_leaf': 2}\n",
            "Accuracy: 0.9708\n",
            "Classification Report:\n",
            "{'0': {'precision': 0.9833333333333333, 'recall': 0.9365079365079365, 'f1-score': 0.9593495934959351, 'support': 63}, '1': {'precision': 0.963963963963964, 'recall': 0.9907407407407407, 'f1-score': 0.9771689497716894, 'support': 108}, 'accuracy': 0.9707602339181286, 'macro avg': {'precision': 0.9736486486486486, 'recall': 0.9636243386243386, 'f1-score': 0.9682592716338123, 'support': 171}, 'weighted avg': {'precision': 0.9711000474158369, 'recall': 0.9707602339181286, 'f1-score': 0.970603923775359, 'support': 171}}\n",
            "\n",
            "============================================================\n",
            "\n",
            "Training with parameters: {'n_estimators': 200, 'max_depth': 20, 'max_features': 'log2', 'min_samples_split': 10, 'min_samples_leaf': 4}\n",
            "Accuracy: 0.9708\n",
            "Classification Report:\n",
            "{'0': {'precision': 0.9833333333333333, 'recall': 0.9365079365079365, 'f1-score': 0.9593495934959351, 'support': 63}, '1': {'precision': 0.963963963963964, 'recall': 0.9907407407407407, 'f1-score': 0.9771689497716894, 'support': 108}, 'accuracy': 0.9707602339181286, 'macro avg': {'precision': 0.9736486486486486, 'recall': 0.9636243386243386, 'f1-score': 0.9682592716338123, 'support': 171}, 'weighted avg': {'precision': 0.9711000474158369, 'recall': 0.9707602339181286, 'f1-score': 0.970603923775359, 'support': 171}}\n",
            "\n",
            "============================================================\n",
            "\n"
          ]
        }
      ]
    },
    {
      "cell_type": "code",
      "source": [
        "best_score = 0\n",
        "best_params = None\n",
        "best_report = None\n",
        "\n",
        "for params in hyperparameter_combinations:\n",
        "    print(f\"Training with parameters: {params}\")\n",
        "    model = RandomForestClassifier(**params, random_state=42)\n",
        "    model.fit(X_train, y_train)\n",
        "    y_pred = model.predict(X_test)\n",
        "\n",
        "    score = accuracy_score(y_test, y_pred)\n",
        "    report = classification_report(y_test, y_pred, output_dict=True)\n",
        "\n",
        "    if score > best_score:\n",
        "        best_score = score\n",
        "        best_params = params\n",
        "        best_report = report\n",
        "\n",
        "print(f\"Best Parameters: {best_params}\")\n",
        "print(f\"Best Accuracy: {best_score:.4f}\")\n",
        "print(\"Best Classification Report:\")\n",
        "print(best_report)"
      ],
      "metadata": {
        "colab": {
          "base_uri": "https://localhost:8080/"
        },
        "id": "ZMK_th7Qnzuh",
        "outputId": "33dc79fb-5217-4f5c-c45e-d8d200a46df1"
      },
      "execution_count": 2,
      "outputs": [
        {
          "output_type": "stream",
          "name": "stdout",
          "text": [
            "Training with parameters: {'n_estimators': 50, 'max_depth': None, 'max_features': 'auto', 'min_samples_split': 2, 'min_samples_leaf': 1}\n",
            "Training with parameters: {'n_estimators': 50, 'max_depth': None, 'max_features': 'auto', 'min_samples_split': 2, 'min_samples_leaf': 2}\n"
          ]
        },
        {
          "output_type": "stream",
          "name": "stderr",
          "text": [
            "/usr/local/lib/python3.10/dist-packages/sklearn/ensemble/_forest.py:424: FutureWarning: `max_features='auto'` has been deprecated in 1.1 and will be removed in 1.3. To keep the past behaviour, explicitly set `max_features='sqrt'` or remove this parameter as it is also the default value for RandomForestClassifiers and ExtraTreesClassifiers.\n",
            "  warn(\n",
            "/usr/local/lib/python3.10/dist-packages/sklearn/ensemble/_forest.py:424: FutureWarning: `max_features='auto'` has been deprecated in 1.1 and will be removed in 1.3. To keep the past behaviour, explicitly set `max_features='sqrt'` or remove this parameter as it is also the default value for RandomForestClassifiers and ExtraTreesClassifiers.\n",
            "  warn(\n"
          ]
        },
        {
          "output_type": "stream",
          "name": "stdout",
          "text": [
            "Training with parameters: {'n_estimators': 50, 'max_depth': None, 'max_features': 'auto', 'min_samples_split': 2, 'min_samples_leaf': 4}\n",
            "Training with parameters: {'n_estimators': 50, 'max_depth': None, 'max_features': 'auto', 'min_samples_split': 5, 'min_samples_leaf': 1}\n"
          ]
        },
        {
          "output_type": "stream",
          "name": "stderr",
          "text": [
            "/usr/local/lib/python3.10/dist-packages/sklearn/ensemble/_forest.py:424: FutureWarning: `max_features='auto'` has been deprecated in 1.1 and will be removed in 1.3. To keep the past behaviour, explicitly set `max_features='sqrt'` or remove this parameter as it is also the default value for RandomForestClassifiers and ExtraTreesClassifiers.\n",
            "  warn(\n",
            "/usr/local/lib/python3.10/dist-packages/sklearn/ensemble/_forest.py:424: FutureWarning: `max_features='auto'` has been deprecated in 1.1 and will be removed in 1.3. To keep the past behaviour, explicitly set `max_features='sqrt'` or remove this parameter as it is also the default value for RandomForestClassifiers and ExtraTreesClassifiers.\n",
            "  warn(\n"
          ]
        },
        {
          "output_type": "stream",
          "name": "stdout",
          "text": [
            "Training with parameters: {'n_estimators': 50, 'max_depth': None, 'max_features': 'auto', 'min_samples_split': 5, 'min_samples_leaf': 2}\n",
            "Training with parameters: {'n_estimators': 50, 'max_depth': None, 'max_features': 'auto', 'min_samples_split': 5, 'min_samples_leaf': 4}\n"
          ]
        },
        {
          "output_type": "stream",
          "name": "stderr",
          "text": [
            "/usr/local/lib/python3.10/dist-packages/sklearn/ensemble/_forest.py:424: FutureWarning: `max_features='auto'` has been deprecated in 1.1 and will be removed in 1.3. To keep the past behaviour, explicitly set `max_features='sqrt'` or remove this parameter as it is also the default value for RandomForestClassifiers and ExtraTreesClassifiers.\n",
            "  warn(\n",
            "/usr/local/lib/python3.10/dist-packages/sklearn/ensemble/_forest.py:424: FutureWarning: `max_features='auto'` has been deprecated in 1.1 and will be removed in 1.3. To keep the past behaviour, explicitly set `max_features='sqrt'` or remove this parameter as it is also the default value for RandomForestClassifiers and ExtraTreesClassifiers.\n",
            "  warn(\n"
          ]
        },
        {
          "output_type": "stream",
          "name": "stdout",
          "text": [
            "Training with parameters: {'n_estimators': 50, 'max_depth': None, 'max_features': 'auto', 'min_samples_split': 10, 'min_samples_leaf': 1}\n",
            "Training with parameters: {'n_estimators': 50, 'max_depth': None, 'max_features': 'auto', 'min_samples_split': 10, 'min_samples_leaf': 2}\n"
          ]
        },
        {
          "output_type": "stream",
          "name": "stderr",
          "text": [
            "/usr/local/lib/python3.10/dist-packages/sklearn/ensemble/_forest.py:424: FutureWarning: `max_features='auto'` has been deprecated in 1.1 and will be removed in 1.3. To keep the past behaviour, explicitly set `max_features='sqrt'` or remove this parameter as it is also the default value for RandomForestClassifiers and ExtraTreesClassifiers.\n",
            "  warn(\n",
            "/usr/local/lib/python3.10/dist-packages/sklearn/ensemble/_forest.py:424: FutureWarning: `max_features='auto'` has been deprecated in 1.1 and will be removed in 1.3. To keep the past behaviour, explicitly set `max_features='sqrt'` or remove this parameter as it is also the default value for RandomForestClassifiers and ExtraTreesClassifiers.\n",
            "  warn(\n"
          ]
        },
        {
          "output_type": "stream",
          "name": "stdout",
          "text": [
            "Training with parameters: {'n_estimators': 50, 'max_depth': None, 'max_features': 'auto', 'min_samples_split': 10, 'min_samples_leaf': 4}\n",
            "Training with parameters: {'n_estimators': 50, 'max_depth': None, 'max_features': 'sqrt', 'min_samples_split': 2, 'min_samples_leaf': 1}\n"
          ]
        },
        {
          "output_type": "stream",
          "name": "stderr",
          "text": [
            "/usr/local/lib/python3.10/dist-packages/sklearn/ensemble/_forest.py:424: FutureWarning: `max_features='auto'` has been deprecated in 1.1 and will be removed in 1.3. To keep the past behaviour, explicitly set `max_features='sqrt'` or remove this parameter as it is also the default value for RandomForestClassifiers and ExtraTreesClassifiers.\n",
            "  warn(\n"
          ]
        },
        {
          "output_type": "stream",
          "name": "stdout",
          "text": [
            "Training with parameters: {'n_estimators': 50, 'max_depth': None, 'max_features': 'sqrt', 'min_samples_split': 2, 'min_samples_leaf': 2}\n",
            "Training with parameters: {'n_estimators': 50, 'max_depth': None, 'max_features': 'sqrt', 'min_samples_split': 2, 'min_samples_leaf': 4}\n",
            "Training with parameters: {'n_estimators': 50, 'max_depth': None, 'max_features': 'sqrt', 'min_samples_split': 5, 'min_samples_leaf': 1}\n",
            "Training with parameters: {'n_estimators': 50, 'max_depth': None, 'max_features': 'sqrt', 'min_samples_split': 5, 'min_samples_leaf': 2}\n",
            "Training with parameters: {'n_estimators': 50, 'max_depth': None, 'max_features': 'sqrt', 'min_samples_split': 5, 'min_samples_leaf': 4}\n",
            "Training with parameters: {'n_estimators': 50, 'max_depth': None, 'max_features': 'sqrt', 'min_samples_split': 10, 'min_samples_leaf': 1}\n",
            "Training with parameters: {'n_estimators': 50, 'max_depth': None, 'max_features': 'sqrt', 'min_samples_split': 10, 'min_samples_leaf': 2}\n",
            "Training with parameters: {'n_estimators': 50, 'max_depth': None, 'max_features': 'sqrt', 'min_samples_split': 10, 'min_samples_leaf': 4}\n",
            "Training with parameters: {'n_estimators': 50, 'max_depth': None, 'max_features': 'log2', 'min_samples_split': 2, 'min_samples_leaf': 1}\n",
            "Training with parameters: {'n_estimators': 50, 'max_depth': None, 'max_features': 'log2', 'min_samples_split': 2, 'min_samples_leaf': 2}\n",
            "Training with parameters: {'n_estimators': 50, 'max_depth': None, 'max_features': 'log2', 'min_samples_split': 2, 'min_samples_leaf': 4}\n",
            "Training with parameters: {'n_estimators': 50, 'max_depth': None, 'max_features': 'log2', 'min_samples_split': 5, 'min_samples_leaf': 1}\n",
            "Training with parameters: {'n_estimators': 50, 'max_depth': None, 'max_features': 'log2', 'min_samples_split': 5, 'min_samples_leaf': 2}\n",
            "Training with parameters: {'n_estimators': 50, 'max_depth': None, 'max_features': 'log2', 'min_samples_split': 5, 'min_samples_leaf': 4}\n",
            "Training with parameters: {'n_estimators': 50, 'max_depth': None, 'max_features': 'log2', 'min_samples_split': 10, 'min_samples_leaf': 1}\n",
            "Training with parameters: {'n_estimators': 50, 'max_depth': None, 'max_features': 'log2', 'min_samples_split': 10, 'min_samples_leaf': 2}\n",
            "Training with parameters: {'n_estimators': 50, 'max_depth': None, 'max_features': 'log2', 'min_samples_split': 10, 'min_samples_leaf': 4}\n",
            "Training with parameters: {'n_estimators': 50, 'max_depth': 10, 'max_features': 'auto', 'min_samples_split': 2, 'min_samples_leaf': 1}\n"
          ]
        },
        {
          "output_type": "stream",
          "name": "stderr",
          "text": [
            "/usr/local/lib/python3.10/dist-packages/sklearn/ensemble/_forest.py:424: FutureWarning: `max_features='auto'` has been deprecated in 1.1 and will be removed in 1.3. To keep the past behaviour, explicitly set `max_features='sqrt'` or remove this parameter as it is also the default value for RandomForestClassifiers and ExtraTreesClassifiers.\n",
            "  warn(\n",
            "/usr/local/lib/python3.10/dist-packages/sklearn/ensemble/_forest.py:424: FutureWarning: `max_features='auto'` has been deprecated in 1.1 and will be removed in 1.3. To keep the past behaviour, explicitly set `max_features='sqrt'` or remove this parameter as it is also the default value for RandomForestClassifiers and ExtraTreesClassifiers.\n",
            "  warn(\n"
          ]
        },
        {
          "output_type": "stream",
          "name": "stdout",
          "text": [
            "Training with parameters: {'n_estimators': 50, 'max_depth': 10, 'max_features': 'auto', 'min_samples_split': 2, 'min_samples_leaf': 2}\n",
            "Training with parameters: {'n_estimators': 50, 'max_depth': 10, 'max_features': 'auto', 'min_samples_split': 2, 'min_samples_leaf': 4}\n"
          ]
        },
        {
          "output_type": "stream",
          "name": "stderr",
          "text": [
            "/usr/local/lib/python3.10/dist-packages/sklearn/ensemble/_forest.py:424: FutureWarning: `max_features='auto'` has been deprecated in 1.1 and will be removed in 1.3. To keep the past behaviour, explicitly set `max_features='sqrt'` or remove this parameter as it is also the default value for RandomForestClassifiers and ExtraTreesClassifiers.\n",
            "  warn(\n",
            "/usr/local/lib/python3.10/dist-packages/sklearn/ensemble/_forest.py:424: FutureWarning: `max_features='auto'` has been deprecated in 1.1 and will be removed in 1.3. To keep the past behaviour, explicitly set `max_features='sqrt'` or remove this parameter as it is also the default value for RandomForestClassifiers and ExtraTreesClassifiers.\n",
            "  warn(\n"
          ]
        },
        {
          "output_type": "stream",
          "name": "stdout",
          "text": [
            "Training with parameters: {'n_estimators': 50, 'max_depth': 10, 'max_features': 'auto', 'min_samples_split': 5, 'min_samples_leaf': 1}\n",
            "Training with parameters: {'n_estimators': 50, 'max_depth': 10, 'max_features': 'auto', 'min_samples_split': 5, 'min_samples_leaf': 2}\n"
          ]
        },
        {
          "output_type": "stream",
          "name": "stderr",
          "text": [
            "/usr/local/lib/python3.10/dist-packages/sklearn/ensemble/_forest.py:424: FutureWarning: `max_features='auto'` has been deprecated in 1.1 and will be removed in 1.3. To keep the past behaviour, explicitly set `max_features='sqrt'` or remove this parameter as it is also the default value for RandomForestClassifiers and ExtraTreesClassifiers.\n",
            "  warn(\n",
            "/usr/local/lib/python3.10/dist-packages/sklearn/ensemble/_forest.py:424: FutureWarning: `max_features='auto'` has been deprecated in 1.1 and will be removed in 1.3. To keep the past behaviour, explicitly set `max_features='sqrt'` or remove this parameter as it is also the default value for RandomForestClassifiers and ExtraTreesClassifiers.\n",
            "  warn(\n"
          ]
        },
        {
          "output_type": "stream",
          "name": "stdout",
          "text": [
            "Training with parameters: {'n_estimators': 50, 'max_depth': 10, 'max_features': 'auto', 'min_samples_split': 5, 'min_samples_leaf': 4}\n",
            "Training with parameters: {'n_estimators': 50, 'max_depth': 10, 'max_features': 'auto', 'min_samples_split': 10, 'min_samples_leaf': 1}\n"
          ]
        },
        {
          "output_type": "stream",
          "name": "stderr",
          "text": [
            "/usr/local/lib/python3.10/dist-packages/sklearn/ensemble/_forest.py:424: FutureWarning: `max_features='auto'` has been deprecated in 1.1 and will be removed in 1.3. To keep the past behaviour, explicitly set `max_features='sqrt'` or remove this parameter as it is also the default value for RandomForestClassifiers and ExtraTreesClassifiers.\n",
            "  warn(\n",
            "/usr/local/lib/python3.10/dist-packages/sklearn/ensemble/_forest.py:424: FutureWarning: `max_features='auto'` has been deprecated in 1.1 and will be removed in 1.3. To keep the past behaviour, explicitly set `max_features='sqrt'` or remove this parameter as it is also the default value for RandomForestClassifiers and ExtraTreesClassifiers.\n",
            "  warn(\n"
          ]
        },
        {
          "output_type": "stream",
          "name": "stdout",
          "text": [
            "Training with parameters: {'n_estimators': 50, 'max_depth': 10, 'max_features': 'auto', 'min_samples_split': 10, 'min_samples_leaf': 2}\n",
            "Training with parameters: {'n_estimators': 50, 'max_depth': 10, 'max_features': 'auto', 'min_samples_split': 10, 'min_samples_leaf': 4}\n"
          ]
        },
        {
          "output_type": "stream",
          "name": "stderr",
          "text": [
            "/usr/local/lib/python3.10/dist-packages/sklearn/ensemble/_forest.py:424: FutureWarning: `max_features='auto'` has been deprecated in 1.1 and will be removed in 1.3. To keep the past behaviour, explicitly set `max_features='sqrt'` or remove this parameter as it is also the default value for RandomForestClassifiers and ExtraTreesClassifiers.\n",
            "  warn(\n"
          ]
        },
        {
          "output_type": "stream",
          "name": "stdout",
          "text": [
            "Training with parameters: {'n_estimators': 50, 'max_depth': 10, 'max_features': 'sqrt', 'min_samples_split': 2, 'min_samples_leaf': 1}\n",
            "Training with parameters: {'n_estimators': 50, 'max_depth': 10, 'max_features': 'sqrt', 'min_samples_split': 2, 'min_samples_leaf': 2}\n",
            "Training with parameters: {'n_estimators': 50, 'max_depth': 10, 'max_features': 'sqrt', 'min_samples_split': 2, 'min_samples_leaf': 4}\n",
            "Training with parameters: {'n_estimators': 50, 'max_depth': 10, 'max_features': 'sqrt', 'min_samples_split': 5, 'min_samples_leaf': 1}\n",
            "Training with parameters: {'n_estimators': 50, 'max_depth': 10, 'max_features': 'sqrt', 'min_samples_split': 5, 'min_samples_leaf': 2}\n",
            "Training with parameters: {'n_estimators': 50, 'max_depth': 10, 'max_features': 'sqrt', 'min_samples_split': 5, 'min_samples_leaf': 4}\n",
            "Training with parameters: {'n_estimators': 50, 'max_depth': 10, 'max_features': 'sqrt', 'min_samples_split': 10, 'min_samples_leaf': 1}\n",
            "Training with parameters: {'n_estimators': 50, 'max_depth': 10, 'max_features': 'sqrt', 'min_samples_split': 10, 'min_samples_leaf': 2}\n",
            "Training with parameters: {'n_estimators': 50, 'max_depth': 10, 'max_features': 'sqrt', 'min_samples_split': 10, 'min_samples_leaf': 4}\n",
            "Training with parameters: {'n_estimators': 50, 'max_depth': 10, 'max_features': 'log2', 'min_samples_split': 2, 'min_samples_leaf': 1}\n",
            "Training with parameters: {'n_estimators': 50, 'max_depth': 10, 'max_features': 'log2', 'min_samples_split': 2, 'min_samples_leaf': 2}\n",
            "Training with parameters: {'n_estimators': 50, 'max_depth': 10, 'max_features': 'log2', 'min_samples_split': 2, 'min_samples_leaf': 4}\n",
            "Training with parameters: {'n_estimators': 50, 'max_depth': 10, 'max_features': 'log2', 'min_samples_split': 5, 'min_samples_leaf': 1}\n",
            "Training with parameters: {'n_estimators': 50, 'max_depth': 10, 'max_features': 'log2', 'min_samples_split': 5, 'min_samples_leaf': 2}\n",
            "Training with parameters: {'n_estimators': 50, 'max_depth': 10, 'max_features': 'log2', 'min_samples_split': 5, 'min_samples_leaf': 4}\n",
            "Training with parameters: {'n_estimators': 50, 'max_depth': 10, 'max_features': 'log2', 'min_samples_split': 10, 'min_samples_leaf': 1}\n",
            "Training with parameters: {'n_estimators': 50, 'max_depth': 10, 'max_features': 'log2', 'min_samples_split': 10, 'min_samples_leaf': 2}\n",
            "Training with parameters: {'n_estimators': 50, 'max_depth': 10, 'max_features': 'log2', 'min_samples_split': 10, 'min_samples_leaf': 4}\n",
            "Training with parameters: {'n_estimators': 50, 'max_depth': 20, 'max_features': 'auto', 'min_samples_split': 2, 'min_samples_leaf': 1}\n",
            "Training with parameters: {'n_estimators': 50, 'max_depth': 20, 'max_features': 'auto', 'min_samples_split': 2, 'min_samples_leaf': 2}\n"
          ]
        },
        {
          "output_type": "stream",
          "name": "stderr",
          "text": [
            "/usr/local/lib/python3.10/dist-packages/sklearn/ensemble/_forest.py:424: FutureWarning: `max_features='auto'` has been deprecated in 1.1 and will be removed in 1.3. To keep the past behaviour, explicitly set `max_features='sqrt'` or remove this parameter as it is also the default value for RandomForestClassifiers and ExtraTreesClassifiers.\n",
            "  warn(\n",
            "/usr/local/lib/python3.10/dist-packages/sklearn/ensemble/_forest.py:424: FutureWarning: `max_features='auto'` has been deprecated in 1.1 and will be removed in 1.3. To keep the past behaviour, explicitly set `max_features='sqrt'` or remove this parameter as it is also the default value for RandomForestClassifiers and ExtraTreesClassifiers.\n",
            "  warn(\n"
          ]
        },
        {
          "output_type": "stream",
          "name": "stdout",
          "text": [
            "Training with parameters: {'n_estimators': 50, 'max_depth': 20, 'max_features': 'auto', 'min_samples_split': 2, 'min_samples_leaf': 4}\n",
            "Training with parameters: {'n_estimators': 50, 'max_depth': 20, 'max_features': 'auto', 'min_samples_split': 5, 'min_samples_leaf': 1}\n"
          ]
        },
        {
          "output_type": "stream",
          "name": "stderr",
          "text": [
            "/usr/local/lib/python3.10/dist-packages/sklearn/ensemble/_forest.py:424: FutureWarning: `max_features='auto'` has been deprecated in 1.1 and will be removed in 1.3. To keep the past behaviour, explicitly set `max_features='sqrt'` or remove this parameter as it is also the default value for RandomForestClassifiers and ExtraTreesClassifiers.\n",
            "  warn(\n",
            "/usr/local/lib/python3.10/dist-packages/sklearn/ensemble/_forest.py:424: FutureWarning: `max_features='auto'` has been deprecated in 1.1 and will be removed in 1.3. To keep the past behaviour, explicitly set `max_features='sqrt'` or remove this parameter as it is also the default value for RandomForestClassifiers and ExtraTreesClassifiers.\n",
            "  warn(\n"
          ]
        },
        {
          "output_type": "stream",
          "name": "stdout",
          "text": [
            "Training with parameters: {'n_estimators': 50, 'max_depth': 20, 'max_features': 'auto', 'min_samples_split': 5, 'min_samples_leaf': 2}\n",
            "Training with parameters: {'n_estimators': 50, 'max_depth': 20, 'max_features': 'auto', 'min_samples_split': 5, 'min_samples_leaf': 4}\n"
          ]
        },
        {
          "output_type": "stream",
          "name": "stderr",
          "text": [
            "/usr/local/lib/python3.10/dist-packages/sklearn/ensemble/_forest.py:424: FutureWarning: `max_features='auto'` has been deprecated in 1.1 and will be removed in 1.3. To keep the past behaviour, explicitly set `max_features='sqrt'` or remove this parameter as it is also the default value for RandomForestClassifiers and ExtraTreesClassifiers.\n",
            "  warn(\n",
            "/usr/local/lib/python3.10/dist-packages/sklearn/ensemble/_forest.py:424: FutureWarning: `max_features='auto'` has been deprecated in 1.1 and will be removed in 1.3. To keep the past behaviour, explicitly set `max_features='sqrt'` or remove this parameter as it is also the default value for RandomForestClassifiers and ExtraTreesClassifiers.\n",
            "  warn(\n"
          ]
        },
        {
          "output_type": "stream",
          "name": "stdout",
          "text": [
            "Training with parameters: {'n_estimators': 50, 'max_depth': 20, 'max_features': 'auto', 'min_samples_split': 10, 'min_samples_leaf': 1}\n",
            "Training with parameters: {'n_estimators': 50, 'max_depth': 20, 'max_features': 'auto', 'min_samples_split': 10, 'min_samples_leaf': 2}\n"
          ]
        },
        {
          "output_type": "stream",
          "name": "stderr",
          "text": [
            "/usr/local/lib/python3.10/dist-packages/sklearn/ensemble/_forest.py:424: FutureWarning: `max_features='auto'` has been deprecated in 1.1 and will be removed in 1.3. To keep the past behaviour, explicitly set `max_features='sqrt'` or remove this parameter as it is also the default value for RandomForestClassifiers and ExtraTreesClassifiers.\n",
            "  warn(\n",
            "/usr/local/lib/python3.10/dist-packages/sklearn/ensemble/_forest.py:424: FutureWarning: `max_features='auto'` has been deprecated in 1.1 and will be removed in 1.3. To keep the past behaviour, explicitly set `max_features='sqrt'` or remove this parameter as it is also the default value for RandomForestClassifiers and ExtraTreesClassifiers.\n",
            "  warn(\n"
          ]
        },
        {
          "output_type": "stream",
          "name": "stdout",
          "text": [
            "Training with parameters: {'n_estimators': 50, 'max_depth': 20, 'max_features': 'auto', 'min_samples_split': 10, 'min_samples_leaf': 4}\n",
            "Training with parameters: {'n_estimators': 50, 'max_depth': 20, 'max_features': 'sqrt', 'min_samples_split': 2, 'min_samples_leaf': 1}\n"
          ]
        },
        {
          "output_type": "stream",
          "name": "stderr",
          "text": [
            "/usr/local/lib/python3.10/dist-packages/sklearn/ensemble/_forest.py:424: FutureWarning: `max_features='auto'` has been deprecated in 1.1 and will be removed in 1.3. To keep the past behaviour, explicitly set `max_features='sqrt'` or remove this parameter as it is also the default value for RandomForestClassifiers and ExtraTreesClassifiers.\n",
            "  warn(\n"
          ]
        },
        {
          "output_type": "stream",
          "name": "stdout",
          "text": [
            "Training with parameters: {'n_estimators': 50, 'max_depth': 20, 'max_features': 'sqrt', 'min_samples_split': 2, 'min_samples_leaf': 2}\n",
            "Training with parameters: {'n_estimators': 50, 'max_depth': 20, 'max_features': 'sqrt', 'min_samples_split': 2, 'min_samples_leaf': 4}\n",
            "Training with parameters: {'n_estimators': 50, 'max_depth': 20, 'max_features': 'sqrt', 'min_samples_split': 5, 'min_samples_leaf': 1}\n",
            "Training with parameters: {'n_estimators': 50, 'max_depth': 20, 'max_features': 'sqrt', 'min_samples_split': 5, 'min_samples_leaf': 2}\n",
            "Training with parameters: {'n_estimators': 50, 'max_depth': 20, 'max_features': 'sqrt', 'min_samples_split': 5, 'min_samples_leaf': 4}\n",
            "Training with parameters: {'n_estimators': 50, 'max_depth': 20, 'max_features': 'sqrt', 'min_samples_split': 10, 'min_samples_leaf': 1}\n",
            "Training with parameters: {'n_estimators': 50, 'max_depth': 20, 'max_features': 'sqrt', 'min_samples_split': 10, 'min_samples_leaf': 2}\n",
            "Training with parameters: {'n_estimators': 50, 'max_depth': 20, 'max_features': 'sqrt', 'min_samples_split': 10, 'min_samples_leaf': 4}\n",
            "Training with parameters: {'n_estimators': 50, 'max_depth': 20, 'max_features': 'log2', 'min_samples_split': 2, 'min_samples_leaf': 1}\n",
            "Training with parameters: {'n_estimators': 50, 'max_depth': 20, 'max_features': 'log2', 'min_samples_split': 2, 'min_samples_leaf': 2}\n",
            "Training with parameters: {'n_estimators': 50, 'max_depth': 20, 'max_features': 'log2', 'min_samples_split': 2, 'min_samples_leaf': 4}\n",
            "Training with parameters: {'n_estimators': 50, 'max_depth': 20, 'max_features': 'log2', 'min_samples_split': 5, 'min_samples_leaf': 1}\n",
            "Training with parameters: {'n_estimators': 50, 'max_depth': 20, 'max_features': 'log2', 'min_samples_split': 5, 'min_samples_leaf': 2}\n",
            "Training with parameters: {'n_estimators': 50, 'max_depth': 20, 'max_features': 'log2', 'min_samples_split': 5, 'min_samples_leaf': 4}\n",
            "Training with parameters: {'n_estimators': 50, 'max_depth': 20, 'max_features': 'log2', 'min_samples_split': 10, 'min_samples_leaf': 1}\n",
            "Training with parameters: {'n_estimators': 50, 'max_depth': 20, 'max_features': 'log2', 'min_samples_split': 10, 'min_samples_leaf': 2}\n",
            "Training with parameters: {'n_estimators': 50, 'max_depth': 20, 'max_features': 'log2', 'min_samples_split': 10, 'min_samples_leaf': 4}\n",
            "Training with parameters: {'n_estimators': 100, 'max_depth': None, 'max_features': 'auto', 'min_samples_split': 2, 'min_samples_leaf': 1}\n"
          ]
        },
        {
          "output_type": "stream",
          "name": "stderr",
          "text": [
            "/usr/local/lib/python3.10/dist-packages/sklearn/ensemble/_forest.py:424: FutureWarning: `max_features='auto'` has been deprecated in 1.1 and will be removed in 1.3. To keep the past behaviour, explicitly set `max_features='sqrt'` or remove this parameter as it is also the default value for RandomForestClassifiers and ExtraTreesClassifiers.\n",
            "  warn(\n"
          ]
        },
        {
          "output_type": "stream",
          "name": "stdout",
          "text": [
            "Training with parameters: {'n_estimators': 100, 'max_depth': None, 'max_features': 'auto', 'min_samples_split': 2, 'min_samples_leaf': 2}\n"
          ]
        },
        {
          "output_type": "stream",
          "name": "stderr",
          "text": [
            "/usr/local/lib/python3.10/dist-packages/sklearn/ensemble/_forest.py:424: FutureWarning: `max_features='auto'` has been deprecated in 1.1 and will be removed in 1.3. To keep the past behaviour, explicitly set `max_features='sqrt'` or remove this parameter as it is also the default value for RandomForestClassifiers and ExtraTreesClassifiers.\n",
            "  warn(\n"
          ]
        },
        {
          "output_type": "stream",
          "name": "stdout",
          "text": [
            "Training with parameters: {'n_estimators': 100, 'max_depth': None, 'max_features': 'auto', 'min_samples_split': 2, 'min_samples_leaf': 4}\n"
          ]
        },
        {
          "output_type": "stream",
          "name": "stderr",
          "text": [
            "/usr/local/lib/python3.10/dist-packages/sklearn/ensemble/_forest.py:424: FutureWarning: `max_features='auto'` has been deprecated in 1.1 and will be removed in 1.3. To keep the past behaviour, explicitly set `max_features='sqrt'` or remove this parameter as it is also the default value for RandomForestClassifiers and ExtraTreesClassifiers.\n",
            "  warn(\n"
          ]
        },
        {
          "output_type": "stream",
          "name": "stdout",
          "text": [
            "Training with parameters: {'n_estimators': 100, 'max_depth': None, 'max_features': 'auto', 'min_samples_split': 5, 'min_samples_leaf': 1}\n"
          ]
        },
        {
          "output_type": "stream",
          "name": "stderr",
          "text": [
            "/usr/local/lib/python3.10/dist-packages/sklearn/ensemble/_forest.py:424: FutureWarning: `max_features='auto'` has been deprecated in 1.1 and will be removed in 1.3. To keep the past behaviour, explicitly set `max_features='sqrt'` or remove this parameter as it is also the default value for RandomForestClassifiers and ExtraTreesClassifiers.\n",
            "  warn(\n"
          ]
        },
        {
          "output_type": "stream",
          "name": "stdout",
          "text": [
            "Training with parameters: {'n_estimators': 100, 'max_depth': None, 'max_features': 'auto', 'min_samples_split': 5, 'min_samples_leaf': 2}\n"
          ]
        },
        {
          "output_type": "stream",
          "name": "stderr",
          "text": [
            "/usr/local/lib/python3.10/dist-packages/sklearn/ensemble/_forest.py:424: FutureWarning: `max_features='auto'` has been deprecated in 1.1 and will be removed in 1.3. To keep the past behaviour, explicitly set `max_features='sqrt'` or remove this parameter as it is also the default value for RandomForestClassifiers and ExtraTreesClassifiers.\n",
            "  warn(\n"
          ]
        },
        {
          "output_type": "stream",
          "name": "stdout",
          "text": [
            "Training with parameters: {'n_estimators': 100, 'max_depth': None, 'max_features': 'auto', 'min_samples_split': 5, 'min_samples_leaf': 4}\n"
          ]
        },
        {
          "output_type": "stream",
          "name": "stderr",
          "text": [
            "/usr/local/lib/python3.10/dist-packages/sklearn/ensemble/_forest.py:424: FutureWarning: `max_features='auto'` has been deprecated in 1.1 and will be removed in 1.3. To keep the past behaviour, explicitly set `max_features='sqrt'` or remove this parameter as it is also the default value for RandomForestClassifiers and ExtraTreesClassifiers.\n",
            "  warn(\n"
          ]
        },
        {
          "output_type": "stream",
          "name": "stdout",
          "text": [
            "Training with parameters: {'n_estimators': 100, 'max_depth': None, 'max_features': 'auto', 'min_samples_split': 10, 'min_samples_leaf': 1}\n"
          ]
        },
        {
          "output_type": "stream",
          "name": "stderr",
          "text": [
            "/usr/local/lib/python3.10/dist-packages/sklearn/ensemble/_forest.py:424: FutureWarning: `max_features='auto'` has been deprecated in 1.1 and will be removed in 1.3. To keep the past behaviour, explicitly set `max_features='sqrt'` or remove this parameter as it is also the default value for RandomForestClassifiers and ExtraTreesClassifiers.\n",
            "  warn(\n"
          ]
        },
        {
          "output_type": "stream",
          "name": "stdout",
          "text": [
            "Training with parameters: {'n_estimators': 100, 'max_depth': None, 'max_features': 'auto', 'min_samples_split': 10, 'min_samples_leaf': 2}\n"
          ]
        },
        {
          "output_type": "stream",
          "name": "stderr",
          "text": [
            "/usr/local/lib/python3.10/dist-packages/sklearn/ensemble/_forest.py:424: FutureWarning: `max_features='auto'` has been deprecated in 1.1 and will be removed in 1.3. To keep the past behaviour, explicitly set `max_features='sqrt'` or remove this parameter as it is also the default value for RandomForestClassifiers and ExtraTreesClassifiers.\n",
            "  warn(\n"
          ]
        },
        {
          "output_type": "stream",
          "name": "stdout",
          "text": [
            "Training with parameters: {'n_estimators': 100, 'max_depth': None, 'max_features': 'auto', 'min_samples_split': 10, 'min_samples_leaf': 4}\n"
          ]
        },
        {
          "output_type": "stream",
          "name": "stderr",
          "text": [
            "/usr/local/lib/python3.10/dist-packages/sklearn/ensemble/_forest.py:424: FutureWarning: `max_features='auto'` has been deprecated in 1.1 and will be removed in 1.3. To keep the past behaviour, explicitly set `max_features='sqrt'` or remove this parameter as it is also the default value for RandomForestClassifiers and ExtraTreesClassifiers.\n",
            "  warn(\n"
          ]
        },
        {
          "output_type": "stream",
          "name": "stdout",
          "text": [
            "Training with parameters: {'n_estimators': 100, 'max_depth': None, 'max_features': 'sqrt', 'min_samples_split': 2, 'min_samples_leaf': 1}\n",
            "Training with parameters: {'n_estimators': 100, 'max_depth': None, 'max_features': 'sqrt', 'min_samples_split': 2, 'min_samples_leaf': 2}\n",
            "Training with parameters: {'n_estimators': 100, 'max_depth': None, 'max_features': 'sqrt', 'min_samples_split': 2, 'min_samples_leaf': 4}\n",
            "Training with parameters: {'n_estimators': 100, 'max_depth': None, 'max_features': 'sqrt', 'min_samples_split': 5, 'min_samples_leaf': 1}\n",
            "Training with parameters: {'n_estimators': 100, 'max_depth': None, 'max_features': 'sqrt', 'min_samples_split': 5, 'min_samples_leaf': 2}\n",
            "Training with parameters: {'n_estimators': 100, 'max_depth': None, 'max_features': 'sqrt', 'min_samples_split': 5, 'min_samples_leaf': 4}\n",
            "Training with parameters: {'n_estimators': 100, 'max_depth': None, 'max_features': 'sqrt', 'min_samples_split': 10, 'min_samples_leaf': 1}\n",
            "Training with parameters: {'n_estimators': 100, 'max_depth': None, 'max_features': 'sqrt', 'min_samples_split': 10, 'min_samples_leaf': 2}\n",
            "Training with parameters: {'n_estimators': 100, 'max_depth': None, 'max_features': 'sqrt', 'min_samples_split': 10, 'min_samples_leaf': 4}\n",
            "Training with parameters: {'n_estimators': 100, 'max_depth': None, 'max_features': 'log2', 'min_samples_split': 2, 'min_samples_leaf': 1}\n",
            "Training with parameters: {'n_estimators': 100, 'max_depth': None, 'max_features': 'log2', 'min_samples_split': 2, 'min_samples_leaf': 2}\n",
            "Training with parameters: {'n_estimators': 100, 'max_depth': None, 'max_features': 'log2', 'min_samples_split': 2, 'min_samples_leaf': 4}\n",
            "Training with parameters: {'n_estimators': 100, 'max_depth': None, 'max_features': 'log2', 'min_samples_split': 5, 'min_samples_leaf': 1}\n",
            "Training with parameters: {'n_estimators': 100, 'max_depth': None, 'max_features': 'log2', 'min_samples_split': 5, 'min_samples_leaf': 2}\n",
            "Training with parameters: {'n_estimators': 100, 'max_depth': None, 'max_features': 'log2', 'min_samples_split': 5, 'min_samples_leaf': 4}\n",
            "Training with parameters: {'n_estimators': 100, 'max_depth': None, 'max_features': 'log2', 'min_samples_split': 10, 'min_samples_leaf': 1}\n",
            "Training with parameters: {'n_estimators': 100, 'max_depth': None, 'max_features': 'log2', 'min_samples_split': 10, 'min_samples_leaf': 2}\n",
            "Training with parameters: {'n_estimators': 100, 'max_depth': None, 'max_features': 'log2', 'min_samples_split': 10, 'min_samples_leaf': 4}\n",
            "Training with parameters: {'n_estimators': 100, 'max_depth': 10, 'max_features': 'auto', 'min_samples_split': 2, 'min_samples_leaf': 1}\n"
          ]
        },
        {
          "output_type": "stream",
          "name": "stderr",
          "text": [
            "/usr/local/lib/python3.10/dist-packages/sklearn/ensemble/_forest.py:424: FutureWarning: `max_features='auto'` has been deprecated in 1.1 and will be removed in 1.3. To keep the past behaviour, explicitly set `max_features='sqrt'` or remove this parameter as it is also the default value for RandomForestClassifiers and ExtraTreesClassifiers.\n",
            "  warn(\n"
          ]
        },
        {
          "output_type": "stream",
          "name": "stdout",
          "text": [
            "Training with parameters: {'n_estimators': 100, 'max_depth': 10, 'max_features': 'auto', 'min_samples_split': 2, 'min_samples_leaf': 2}\n"
          ]
        },
        {
          "output_type": "stream",
          "name": "stderr",
          "text": [
            "/usr/local/lib/python3.10/dist-packages/sklearn/ensemble/_forest.py:424: FutureWarning: `max_features='auto'` has been deprecated in 1.1 and will be removed in 1.3. To keep the past behaviour, explicitly set `max_features='sqrt'` or remove this parameter as it is also the default value for RandomForestClassifiers and ExtraTreesClassifiers.\n",
            "  warn(\n"
          ]
        },
        {
          "output_type": "stream",
          "name": "stdout",
          "text": [
            "Training with parameters: {'n_estimators': 100, 'max_depth': 10, 'max_features': 'auto', 'min_samples_split': 2, 'min_samples_leaf': 4}\n"
          ]
        },
        {
          "output_type": "stream",
          "name": "stderr",
          "text": [
            "/usr/local/lib/python3.10/dist-packages/sklearn/ensemble/_forest.py:424: FutureWarning: `max_features='auto'` has been deprecated in 1.1 and will be removed in 1.3. To keep the past behaviour, explicitly set `max_features='sqrt'` or remove this parameter as it is also the default value for RandomForestClassifiers and ExtraTreesClassifiers.\n",
            "  warn(\n"
          ]
        },
        {
          "output_type": "stream",
          "name": "stdout",
          "text": [
            "Training with parameters: {'n_estimators': 100, 'max_depth': 10, 'max_features': 'auto', 'min_samples_split': 5, 'min_samples_leaf': 1}\n"
          ]
        },
        {
          "output_type": "stream",
          "name": "stderr",
          "text": [
            "/usr/local/lib/python3.10/dist-packages/sklearn/ensemble/_forest.py:424: FutureWarning: `max_features='auto'` has been deprecated in 1.1 and will be removed in 1.3. To keep the past behaviour, explicitly set `max_features='sqrt'` or remove this parameter as it is also the default value for RandomForestClassifiers and ExtraTreesClassifiers.\n",
            "  warn(\n"
          ]
        },
        {
          "output_type": "stream",
          "name": "stdout",
          "text": [
            "Training with parameters: {'n_estimators': 100, 'max_depth': 10, 'max_features': 'auto', 'min_samples_split': 5, 'min_samples_leaf': 2}\n"
          ]
        },
        {
          "output_type": "stream",
          "name": "stderr",
          "text": [
            "/usr/local/lib/python3.10/dist-packages/sklearn/ensemble/_forest.py:424: FutureWarning: `max_features='auto'` has been deprecated in 1.1 and will be removed in 1.3. To keep the past behaviour, explicitly set `max_features='sqrt'` or remove this parameter as it is also the default value for RandomForestClassifiers and ExtraTreesClassifiers.\n",
            "  warn(\n"
          ]
        },
        {
          "output_type": "stream",
          "name": "stdout",
          "text": [
            "Training with parameters: {'n_estimators': 100, 'max_depth': 10, 'max_features': 'auto', 'min_samples_split': 5, 'min_samples_leaf': 4}\n"
          ]
        },
        {
          "output_type": "stream",
          "name": "stderr",
          "text": [
            "/usr/local/lib/python3.10/dist-packages/sklearn/ensemble/_forest.py:424: FutureWarning: `max_features='auto'` has been deprecated in 1.1 and will be removed in 1.3. To keep the past behaviour, explicitly set `max_features='sqrt'` or remove this parameter as it is also the default value for RandomForestClassifiers and ExtraTreesClassifiers.\n",
            "  warn(\n"
          ]
        },
        {
          "output_type": "stream",
          "name": "stdout",
          "text": [
            "Training with parameters: {'n_estimators': 100, 'max_depth': 10, 'max_features': 'auto', 'min_samples_split': 10, 'min_samples_leaf': 1}\n"
          ]
        },
        {
          "output_type": "stream",
          "name": "stderr",
          "text": [
            "/usr/local/lib/python3.10/dist-packages/sklearn/ensemble/_forest.py:424: FutureWarning: `max_features='auto'` has been deprecated in 1.1 and will be removed in 1.3. To keep the past behaviour, explicitly set `max_features='sqrt'` or remove this parameter as it is also the default value for RandomForestClassifiers and ExtraTreesClassifiers.\n",
            "  warn(\n"
          ]
        },
        {
          "output_type": "stream",
          "name": "stdout",
          "text": [
            "Training with parameters: {'n_estimators': 100, 'max_depth': 10, 'max_features': 'auto', 'min_samples_split': 10, 'min_samples_leaf': 2}\n"
          ]
        },
        {
          "output_type": "stream",
          "name": "stderr",
          "text": [
            "/usr/local/lib/python3.10/dist-packages/sklearn/ensemble/_forest.py:424: FutureWarning: `max_features='auto'` has been deprecated in 1.1 and will be removed in 1.3. To keep the past behaviour, explicitly set `max_features='sqrt'` or remove this parameter as it is also the default value for RandomForestClassifiers and ExtraTreesClassifiers.\n",
            "  warn(\n"
          ]
        },
        {
          "output_type": "stream",
          "name": "stdout",
          "text": [
            "Training with parameters: {'n_estimators': 100, 'max_depth': 10, 'max_features': 'auto', 'min_samples_split': 10, 'min_samples_leaf': 4}\n"
          ]
        },
        {
          "output_type": "stream",
          "name": "stderr",
          "text": [
            "/usr/local/lib/python3.10/dist-packages/sklearn/ensemble/_forest.py:424: FutureWarning: `max_features='auto'` has been deprecated in 1.1 and will be removed in 1.3. To keep the past behaviour, explicitly set `max_features='sqrt'` or remove this parameter as it is also the default value for RandomForestClassifiers and ExtraTreesClassifiers.\n",
            "  warn(\n"
          ]
        },
        {
          "output_type": "stream",
          "name": "stdout",
          "text": [
            "Training with parameters: {'n_estimators': 100, 'max_depth': 10, 'max_features': 'sqrt', 'min_samples_split': 2, 'min_samples_leaf': 1}\n",
            "Training with parameters: {'n_estimators': 100, 'max_depth': 10, 'max_features': 'sqrt', 'min_samples_split': 2, 'min_samples_leaf': 2}\n",
            "Training with parameters: {'n_estimators': 100, 'max_depth': 10, 'max_features': 'sqrt', 'min_samples_split': 2, 'min_samples_leaf': 4}\n",
            "Training with parameters: {'n_estimators': 100, 'max_depth': 10, 'max_features': 'sqrt', 'min_samples_split': 5, 'min_samples_leaf': 1}\n",
            "Training with parameters: {'n_estimators': 100, 'max_depth': 10, 'max_features': 'sqrt', 'min_samples_split': 5, 'min_samples_leaf': 2}\n",
            "Training with parameters: {'n_estimators': 100, 'max_depth': 10, 'max_features': 'sqrt', 'min_samples_split': 5, 'min_samples_leaf': 4}\n",
            "Training with parameters: {'n_estimators': 100, 'max_depth': 10, 'max_features': 'sqrt', 'min_samples_split': 10, 'min_samples_leaf': 1}\n",
            "Training with parameters: {'n_estimators': 100, 'max_depth': 10, 'max_features': 'sqrt', 'min_samples_split': 10, 'min_samples_leaf': 2}\n",
            "Training with parameters: {'n_estimators': 100, 'max_depth': 10, 'max_features': 'sqrt', 'min_samples_split': 10, 'min_samples_leaf': 4}\n",
            "Training with parameters: {'n_estimators': 100, 'max_depth': 10, 'max_features': 'log2', 'min_samples_split': 2, 'min_samples_leaf': 1}\n",
            "Training with parameters: {'n_estimators': 100, 'max_depth': 10, 'max_features': 'log2', 'min_samples_split': 2, 'min_samples_leaf': 2}\n",
            "Training with parameters: {'n_estimators': 100, 'max_depth': 10, 'max_features': 'log2', 'min_samples_split': 2, 'min_samples_leaf': 4}\n",
            "Training with parameters: {'n_estimators': 100, 'max_depth': 10, 'max_features': 'log2', 'min_samples_split': 5, 'min_samples_leaf': 1}\n",
            "Training with parameters: {'n_estimators': 100, 'max_depth': 10, 'max_features': 'log2', 'min_samples_split': 5, 'min_samples_leaf': 2}\n",
            "Training with parameters: {'n_estimators': 100, 'max_depth': 10, 'max_features': 'log2', 'min_samples_split': 5, 'min_samples_leaf': 4}\n",
            "Training with parameters: {'n_estimators': 100, 'max_depth': 10, 'max_features': 'log2', 'min_samples_split': 10, 'min_samples_leaf': 1}\n",
            "Training with parameters: {'n_estimators': 100, 'max_depth': 10, 'max_features': 'log2', 'min_samples_split': 10, 'min_samples_leaf': 2}\n",
            "Training with parameters: {'n_estimators': 100, 'max_depth': 10, 'max_features': 'log2', 'min_samples_split': 10, 'min_samples_leaf': 4}\n",
            "Training with parameters: {'n_estimators': 100, 'max_depth': 20, 'max_features': 'auto', 'min_samples_split': 2, 'min_samples_leaf': 1}\n"
          ]
        },
        {
          "output_type": "stream",
          "name": "stderr",
          "text": [
            "/usr/local/lib/python3.10/dist-packages/sklearn/ensemble/_forest.py:424: FutureWarning: `max_features='auto'` has been deprecated in 1.1 and will be removed in 1.3. To keep the past behaviour, explicitly set `max_features='sqrt'` or remove this parameter as it is also the default value for RandomForestClassifiers and ExtraTreesClassifiers.\n",
            "  warn(\n"
          ]
        },
        {
          "output_type": "stream",
          "name": "stdout",
          "text": [
            "Training with parameters: {'n_estimators': 100, 'max_depth': 20, 'max_features': 'auto', 'min_samples_split': 2, 'min_samples_leaf': 2}\n"
          ]
        },
        {
          "output_type": "stream",
          "name": "stderr",
          "text": [
            "/usr/local/lib/python3.10/dist-packages/sklearn/ensemble/_forest.py:424: FutureWarning: `max_features='auto'` has been deprecated in 1.1 and will be removed in 1.3. To keep the past behaviour, explicitly set `max_features='sqrt'` or remove this parameter as it is also the default value for RandomForestClassifiers and ExtraTreesClassifiers.\n",
            "  warn(\n"
          ]
        },
        {
          "output_type": "stream",
          "name": "stdout",
          "text": [
            "Training with parameters: {'n_estimators': 100, 'max_depth': 20, 'max_features': 'auto', 'min_samples_split': 2, 'min_samples_leaf': 4}\n"
          ]
        },
        {
          "output_type": "stream",
          "name": "stderr",
          "text": [
            "/usr/local/lib/python3.10/dist-packages/sklearn/ensemble/_forest.py:424: FutureWarning: `max_features='auto'` has been deprecated in 1.1 and will be removed in 1.3. To keep the past behaviour, explicitly set `max_features='sqrt'` or remove this parameter as it is also the default value for RandomForestClassifiers and ExtraTreesClassifiers.\n",
            "  warn(\n"
          ]
        },
        {
          "output_type": "stream",
          "name": "stdout",
          "text": [
            "Training with parameters: {'n_estimators': 100, 'max_depth': 20, 'max_features': 'auto', 'min_samples_split': 5, 'min_samples_leaf': 1}\n"
          ]
        },
        {
          "output_type": "stream",
          "name": "stderr",
          "text": [
            "/usr/local/lib/python3.10/dist-packages/sklearn/ensemble/_forest.py:424: FutureWarning: `max_features='auto'` has been deprecated in 1.1 and will be removed in 1.3. To keep the past behaviour, explicitly set `max_features='sqrt'` or remove this parameter as it is also the default value for RandomForestClassifiers and ExtraTreesClassifiers.\n",
            "  warn(\n"
          ]
        },
        {
          "output_type": "stream",
          "name": "stdout",
          "text": [
            "Training with parameters: {'n_estimators': 100, 'max_depth': 20, 'max_features': 'auto', 'min_samples_split': 5, 'min_samples_leaf': 2}\n"
          ]
        },
        {
          "output_type": "stream",
          "name": "stderr",
          "text": [
            "/usr/local/lib/python3.10/dist-packages/sklearn/ensemble/_forest.py:424: FutureWarning: `max_features='auto'` has been deprecated in 1.1 and will be removed in 1.3. To keep the past behaviour, explicitly set `max_features='sqrt'` or remove this parameter as it is also the default value for RandomForestClassifiers and ExtraTreesClassifiers.\n",
            "  warn(\n"
          ]
        },
        {
          "output_type": "stream",
          "name": "stdout",
          "text": [
            "Training with parameters: {'n_estimators': 100, 'max_depth': 20, 'max_features': 'auto', 'min_samples_split': 5, 'min_samples_leaf': 4}\n"
          ]
        },
        {
          "output_type": "stream",
          "name": "stderr",
          "text": [
            "/usr/local/lib/python3.10/dist-packages/sklearn/ensemble/_forest.py:424: FutureWarning: `max_features='auto'` has been deprecated in 1.1 and will be removed in 1.3. To keep the past behaviour, explicitly set `max_features='sqrt'` or remove this parameter as it is also the default value for RandomForestClassifiers and ExtraTreesClassifiers.\n",
            "  warn(\n"
          ]
        },
        {
          "output_type": "stream",
          "name": "stdout",
          "text": [
            "Training with parameters: {'n_estimators': 100, 'max_depth': 20, 'max_features': 'auto', 'min_samples_split': 10, 'min_samples_leaf': 1}\n"
          ]
        },
        {
          "output_type": "stream",
          "name": "stderr",
          "text": [
            "/usr/local/lib/python3.10/dist-packages/sklearn/ensemble/_forest.py:424: FutureWarning: `max_features='auto'` has been deprecated in 1.1 and will be removed in 1.3. To keep the past behaviour, explicitly set `max_features='sqrt'` or remove this parameter as it is also the default value for RandomForestClassifiers and ExtraTreesClassifiers.\n",
            "  warn(\n"
          ]
        },
        {
          "output_type": "stream",
          "name": "stdout",
          "text": [
            "Training with parameters: {'n_estimators': 100, 'max_depth': 20, 'max_features': 'auto', 'min_samples_split': 10, 'min_samples_leaf': 2}\n"
          ]
        },
        {
          "output_type": "stream",
          "name": "stderr",
          "text": [
            "/usr/local/lib/python3.10/dist-packages/sklearn/ensemble/_forest.py:424: FutureWarning: `max_features='auto'` has been deprecated in 1.1 and will be removed in 1.3. To keep the past behaviour, explicitly set `max_features='sqrt'` or remove this parameter as it is also the default value for RandomForestClassifiers and ExtraTreesClassifiers.\n",
            "  warn(\n"
          ]
        },
        {
          "output_type": "stream",
          "name": "stdout",
          "text": [
            "Training with parameters: {'n_estimators': 100, 'max_depth': 20, 'max_features': 'auto', 'min_samples_split': 10, 'min_samples_leaf': 4}\n"
          ]
        },
        {
          "output_type": "stream",
          "name": "stderr",
          "text": [
            "/usr/local/lib/python3.10/dist-packages/sklearn/ensemble/_forest.py:424: FutureWarning: `max_features='auto'` has been deprecated in 1.1 and will be removed in 1.3. To keep the past behaviour, explicitly set `max_features='sqrt'` or remove this parameter as it is also the default value for RandomForestClassifiers and ExtraTreesClassifiers.\n",
            "  warn(\n"
          ]
        },
        {
          "output_type": "stream",
          "name": "stdout",
          "text": [
            "Training with parameters: {'n_estimators': 100, 'max_depth': 20, 'max_features': 'sqrt', 'min_samples_split': 2, 'min_samples_leaf': 1}\n",
            "Training with parameters: {'n_estimators': 100, 'max_depth': 20, 'max_features': 'sqrt', 'min_samples_split': 2, 'min_samples_leaf': 2}\n",
            "Training with parameters: {'n_estimators': 100, 'max_depth': 20, 'max_features': 'sqrt', 'min_samples_split': 2, 'min_samples_leaf': 4}\n",
            "Training with parameters: {'n_estimators': 100, 'max_depth': 20, 'max_features': 'sqrt', 'min_samples_split': 5, 'min_samples_leaf': 1}\n",
            "Training with parameters: {'n_estimators': 100, 'max_depth': 20, 'max_features': 'sqrt', 'min_samples_split': 5, 'min_samples_leaf': 2}\n",
            "Training with parameters: {'n_estimators': 100, 'max_depth': 20, 'max_features': 'sqrt', 'min_samples_split': 5, 'min_samples_leaf': 4}\n",
            "Training with parameters: {'n_estimators': 100, 'max_depth': 20, 'max_features': 'sqrt', 'min_samples_split': 10, 'min_samples_leaf': 1}\n",
            "Training with parameters: {'n_estimators': 100, 'max_depth': 20, 'max_features': 'sqrt', 'min_samples_split': 10, 'min_samples_leaf': 2}\n",
            "Training with parameters: {'n_estimators': 100, 'max_depth': 20, 'max_features': 'sqrt', 'min_samples_split': 10, 'min_samples_leaf': 4}\n",
            "Training with parameters: {'n_estimators': 100, 'max_depth': 20, 'max_features': 'log2', 'min_samples_split': 2, 'min_samples_leaf': 1}\n",
            "Training with parameters: {'n_estimators': 100, 'max_depth': 20, 'max_features': 'log2', 'min_samples_split': 2, 'min_samples_leaf': 2}\n",
            "Training with parameters: {'n_estimators': 100, 'max_depth': 20, 'max_features': 'log2', 'min_samples_split': 2, 'min_samples_leaf': 4}\n",
            "Training with parameters: {'n_estimators': 100, 'max_depth': 20, 'max_features': 'log2', 'min_samples_split': 5, 'min_samples_leaf': 1}\n",
            "Training with parameters: {'n_estimators': 100, 'max_depth': 20, 'max_features': 'log2', 'min_samples_split': 5, 'min_samples_leaf': 2}\n",
            "Training with parameters: {'n_estimators': 100, 'max_depth': 20, 'max_features': 'log2', 'min_samples_split': 5, 'min_samples_leaf': 4}\n",
            "Training with parameters: {'n_estimators': 100, 'max_depth': 20, 'max_features': 'log2', 'min_samples_split': 10, 'min_samples_leaf': 1}\n",
            "Training with parameters: {'n_estimators': 100, 'max_depth': 20, 'max_features': 'log2', 'min_samples_split': 10, 'min_samples_leaf': 2}\n",
            "Training with parameters: {'n_estimators': 100, 'max_depth': 20, 'max_features': 'log2', 'min_samples_split': 10, 'min_samples_leaf': 4}\n",
            "Training with parameters: {'n_estimators': 200, 'max_depth': None, 'max_features': 'auto', 'min_samples_split': 2, 'min_samples_leaf': 1}\n"
          ]
        },
        {
          "output_type": "stream",
          "name": "stderr",
          "text": [
            "/usr/local/lib/python3.10/dist-packages/sklearn/ensemble/_forest.py:424: FutureWarning: `max_features='auto'` has been deprecated in 1.1 and will be removed in 1.3. To keep the past behaviour, explicitly set `max_features='sqrt'` or remove this parameter as it is also the default value for RandomForestClassifiers and ExtraTreesClassifiers.\n",
            "  warn(\n"
          ]
        },
        {
          "output_type": "stream",
          "name": "stdout",
          "text": [
            "Training with parameters: {'n_estimators': 200, 'max_depth': None, 'max_features': 'auto', 'min_samples_split': 2, 'min_samples_leaf': 2}\n"
          ]
        },
        {
          "output_type": "stream",
          "name": "stderr",
          "text": [
            "/usr/local/lib/python3.10/dist-packages/sklearn/ensemble/_forest.py:424: FutureWarning: `max_features='auto'` has been deprecated in 1.1 and will be removed in 1.3. To keep the past behaviour, explicitly set `max_features='sqrt'` or remove this parameter as it is also the default value for RandomForestClassifiers and ExtraTreesClassifiers.\n",
            "  warn(\n"
          ]
        },
        {
          "output_type": "stream",
          "name": "stdout",
          "text": [
            "Training with parameters: {'n_estimators': 200, 'max_depth': None, 'max_features': 'auto', 'min_samples_split': 2, 'min_samples_leaf': 4}\n"
          ]
        },
        {
          "output_type": "stream",
          "name": "stderr",
          "text": [
            "/usr/local/lib/python3.10/dist-packages/sklearn/ensemble/_forest.py:424: FutureWarning: `max_features='auto'` has been deprecated in 1.1 and will be removed in 1.3. To keep the past behaviour, explicitly set `max_features='sqrt'` or remove this parameter as it is also the default value for RandomForestClassifiers and ExtraTreesClassifiers.\n",
            "  warn(\n"
          ]
        },
        {
          "output_type": "stream",
          "name": "stdout",
          "text": [
            "Training with parameters: {'n_estimators': 200, 'max_depth': None, 'max_features': 'auto', 'min_samples_split': 5, 'min_samples_leaf': 1}\n"
          ]
        },
        {
          "output_type": "stream",
          "name": "stderr",
          "text": [
            "/usr/local/lib/python3.10/dist-packages/sklearn/ensemble/_forest.py:424: FutureWarning: `max_features='auto'` has been deprecated in 1.1 and will be removed in 1.3. To keep the past behaviour, explicitly set `max_features='sqrt'` or remove this parameter as it is also the default value for RandomForestClassifiers and ExtraTreesClassifiers.\n",
            "  warn(\n"
          ]
        },
        {
          "output_type": "stream",
          "name": "stdout",
          "text": [
            "Training with parameters: {'n_estimators': 200, 'max_depth': None, 'max_features': 'auto', 'min_samples_split': 5, 'min_samples_leaf': 2}\n"
          ]
        },
        {
          "output_type": "stream",
          "name": "stderr",
          "text": [
            "/usr/local/lib/python3.10/dist-packages/sklearn/ensemble/_forest.py:424: FutureWarning: `max_features='auto'` has been deprecated in 1.1 and will be removed in 1.3. To keep the past behaviour, explicitly set `max_features='sqrt'` or remove this parameter as it is also the default value for RandomForestClassifiers and ExtraTreesClassifiers.\n",
            "  warn(\n"
          ]
        },
        {
          "output_type": "stream",
          "name": "stdout",
          "text": [
            "Training with parameters: {'n_estimators': 200, 'max_depth': None, 'max_features': 'auto', 'min_samples_split': 5, 'min_samples_leaf': 4}\n"
          ]
        },
        {
          "output_type": "stream",
          "name": "stderr",
          "text": [
            "/usr/local/lib/python3.10/dist-packages/sklearn/ensemble/_forest.py:424: FutureWarning: `max_features='auto'` has been deprecated in 1.1 and will be removed in 1.3. To keep the past behaviour, explicitly set `max_features='sqrt'` or remove this parameter as it is also the default value for RandomForestClassifiers and ExtraTreesClassifiers.\n",
            "  warn(\n"
          ]
        },
        {
          "output_type": "stream",
          "name": "stdout",
          "text": [
            "Training with parameters: {'n_estimators': 200, 'max_depth': None, 'max_features': 'auto', 'min_samples_split': 10, 'min_samples_leaf': 1}\n"
          ]
        },
        {
          "output_type": "stream",
          "name": "stderr",
          "text": [
            "/usr/local/lib/python3.10/dist-packages/sklearn/ensemble/_forest.py:424: FutureWarning: `max_features='auto'` has been deprecated in 1.1 and will be removed in 1.3. To keep the past behaviour, explicitly set `max_features='sqrt'` or remove this parameter as it is also the default value for RandomForestClassifiers and ExtraTreesClassifiers.\n",
            "  warn(\n"
          ]
        },
        {
          "output_type": "stream",
          "name": "stdout",
          "text": [
            "Training with parameters: {'n_estimators': 200, 'max_depth': None, 'max_features': 'auto', 'min_samples_split': 10, 'min_samples_leaf': 2}\n"
          ]
        },
        {
          "output_type": "stream",
          "name": "stderr",
          "text": [
            "/usr/local/lib/python3.10/dist-packages/sklearn/ensemble/_forest.py:424: FutureWarning: `max_features='auto'` has been deprecated in 1.1 and will be removed in 1.3. To keep the past behaviour, explicitly set `max_features='sqrt'` or remove this parameter as it is also the default value for RandomForestClassifiers and ExtraTreesClassifiers.\n",
            "  warn(\n"
          ]
        },
        {
          "output_type": "stream",
          "name": "stdout",
          "text": [
            "Training with parameters: {'n_estimators': 200, 'max_depth': None, 'max_features': 'auto', 'min_samples_split': 10, 'min_samples_leaf': 4}\n"
          ]
        },
        {
          "output_type": "stream",
          "name": "stderr",
          "text": [
            "/usr/local/lib/python3.10/dist-packages/sklearn/ensemble/_forest.py:424: FutureWarning: `max_features='auto'` has been deprecated in 1.1 and will be removed in 1.3. To keep the past behaviour, explicitly set `max_features='sqrt'` or remove this parameter as it is also the default value for RandomForestClassifiers and ExtraTreesClassifiers.\n",
            "  warn(\n"
          ]
        },
        {
          "output_type": "stream",
          "name": "stdout",
          "text": [
            "Training with parameters: {'n_estimators': 200, 'max_depth': None, 'max_features': 'sqrt', 'min_samples_split': 2, 'min_samples_leaf': 1}\n",
            "Training with parameters: {'n_estimators': 200, 'max_depth': None, 'max_features': 'sqrt', 'min_samples_split': 2, 'min_samples_leaf': 2}\n",
            "Training with parameters: {'n_estimators': 200, 'max_depth': None, 'max_features': 'sqrt', 'min_samples_split': 2, 'min_samples_leaf': 4}\n",
            "Training with parameters: {'n_estimators': 200, 'max_depth': None, 'max_features': 'sqrt', 'min_samples_split': 5, 'min_samples_leaf': 1}\n",
            "Training with parameters: {'n_estimators': 200, 'max_depth': None, 'max_features': 'sqrt', 'min_samples_split': 5, 'min_samples_leaf': 2}\n",
            "Training with parameters: {'n_estimators': 200, 'max_depth': None, 'max_features': 'sqrt', 'min_samples_split': 5, 'min_samples_leaf': 4}\n",
            "Training with parameters: {'n_estimators': 200, 'max_depth': None, 'max_features': 'sqrt', 'min_samples_split': 10, 'min_samples_leaf': 1}\n",
            "Training with parameters: {'n_estimators': 200, 'max_depth': None, 'max_features': 'sqrt', 'min_samples_split': 10, 'min_samples_leaf': 2}\n",
            "Training with parameters: {'n_estimators': 200, 'max_depth': None, 'max_features': 'sqrt', 'min_samples_split': 10, 'min_samples_leaf': 4}\n",
            "Training with parameters: {'n_estimators': 200, 'max_depth': None, 'max_features': 'log2', 'min_samples_split': 2, 'min_samples_leaf': 1}\n",
            "Training with parameters: {'n_estimators': 200, 'max_depth': None, 'max_features': 'log2', 'min_samples_split': 2, 'min_samples_leaf': 2}\n",
            "Training with parameters: {'n_estimators': 200, 'max_depth': None, 'max_features': 'log2', 'min_samples_split': 2, 'min_samples_leaf': 4}\n",
            "Training with parameters: {'n_estimators': 200, 'max_depth': None, 'max_features': 'log2', 'min_samples_split': 5, 'min_samples_leaf': 1}\n",
            "Training with parameters: {'n_estimators': 200, 'max_depth': None, 'max_features': 'log2', 'min_samples_split': 5, 'min_samples_leaf': 2}\n",
            "Training with parameters: {'n_estimators': 200, 'max_depth': None, 'max_features': 'log2', 'min_samples_split': 5, 'min_samples_leaf': 4}\n",
            "Training with parameters: {'n_estimators': 200, 'max_depth': None, 'max_features': 'log2', 'min_samples_split': 10, 'min_samples_leaf': 1}\n",
            "Training with parameters: {'n_estimators': 200, 'max_depth': None, 'max_features': 'log2', 'min_samples_split': 10, 'min_samples_leaf': 2}\n",
            "Training with parameters: {'n_estimators': 200, 'max_depth': None, 'max_features': 'log2', 'min_samples_split': 10, 'min_samples_leaf': 4}\n",
            "Training with parameters: {'n_estimators': 200, 'max_depth': 10, 'max_features': 'auto', 'min_samples_split': 2, 'min_samples_leaf': 1}\n"
          ]
        },
        {
          "output_type": "stream",
          "name": "stderr",
          "text": [
            "/usr/local/lib/python3.10/dist-packages/sklearn/ensemble/_forest.py:424: FutureWarning: `max_features='auto'` has been deprecated in 1.1 and will be removed in 1.3. To keep the past behaviour, explicitly set `max_features='sqrt'` or remove this parameter as it is also the default value for RandomForestClassifiers and ExtraTreesClassifiers.\n",
            "  warn(\n"
          ]
        },
        {
          "output_type": "stream",
          "name": "stdout",
          "text": [
            "Training with parameters: {'n_estimators': 200, 'max_depth': 10, 'max_features': 'auto', 'min_samples_split': 2, 'min_samples_leaf': 2}\n"
          ]
        },
        {
          "output_type": "stream",
          "name": "stderr",
          "text": [
            "/usr/local/lib/python3.10/dist-packages/sklearn/ensemble/_forest.py:424: FutureWarning: `max_features='auto'` has been deprecated in 1.1 and will be removed in 1.3. To keep the past behaviour, explicitly set `max_features='sqrt'` or remove this parameter as it is also the default value for RandomForestClassifiers and ExtraTreesClassifiers.\n",
            "  warn(\n"
          ]
        },
        {
          "output_type": "stream",
          "name": "stdout",
          "text": [
            "Training with parameters: {'n_estimators': 200, 'max_depth': 10, 'max_features': 'auto', 'min_samples_split': 2, 'min_samples_leaf': 4}\n"
          ]
        },
        {
          "output_type": "stream",
          "name": "stderr",
          "text": [
            "/usr/local/lib/python3.10/dist-packages/sklearn/ensemble/_forest.py:424: FutureWarning: `max_features='auto'` has been deprecated in 1.1 and will be removed in 1.3. To keep the past behaviour, explicitly set `max_features='sqrt'` or remove this parameter as it is also the default value for RandomForestClassifiers and ExtraTreesClassifiers.\n",
            "  warn(\n"
          ]
        },
        {
          "output_type": "stream",
          "name": "stdout",
          "text": [
            "Training with parameters: {'n_estimators': 200, 'max_depth': 10, 'max_features': 'auto', 'min_samples_split': 5, 'min_samples_leaf': 1}\n"
          ]
        },
        {
          "output_type": "stream",
          "name": "stderr",
          "text": [
            "/usr/local/lib/python3.10/dist-packages/sklearn/ensemble/_forest.py:424: FutureWarning: `max_features='auto'` has been deprecated in 1.1 and will be removed in 1.3. To keep the past behaviour, explicitly set `max_features='sqrt'` or remove this parameter as it is also the default value for RandomForestClassifiers and ExtraTreesClassifiers.\n",
            "  warn(\n"
          ]
        },
        {
          "output_type": "stream",
          "name": "stdout",
          "text": [
            "Training with parameters: {'n_estimators': 200, 'max_depth': 10, 'max_features': 'auto', 'min_samples_split': 5, 'min_samples_leaf': 2}\n"
          ]
        },
        {
          "output_type": "stream",
          "name": "stderr",
          "text": [
            "/usr/local/lib/python3.10/dist-packages/sklearn/ensemble/_forest.py:424: FutureWarning: `max_features='auto'` has been deprecated in 1.1 and will be removed in 1.3. To keep the past behaviour, explicitly set `max_features='sqrt'` or remove this parameter as it is also the default value for RandomForestClassifiers and ExtraTreesClassifiers.\n",
            "  warn(\n"
          ]
        },
        {
          "output_type": "stream",
          "name": "stdout",
          "text": [
            "Training with parameters: {'n_estimators': 200, 'max_depth': 10, 'max_features': 'auto', 'min_samples_split': 5, 'min_samples_leaf': 4}\n"
          ]
        },
        {
          "output_type": "stream",
          "name": "stderr",
          "text": [
            "/usr/local/lib/python3.10/dist-packages/sklearn/ensemble/_forest.py:424: FutureWarning: `max_features='auto'` has been deprecated in 1.1 and will be removed in 1.3. To keep the past behaviour, explicitly set `max_features='sqrt'` or remove this parameter as it is also the default value for RandomForestClassifiers and ExtraTreesClassifiers.\n",
            "  warn(\n"
          ]
        },
        {
          "output_type": "stream",
          "name": "stdout",
          "text": [
            "Training with parameters: {'n_estimators': 200, 'max_depth': 10, 'max_features': 'auto', 'min_samples_split': 10, 'min_samples_leaf': 1}\n"
          ]
        },
        {
          "output_type": "stream",
          "name": "stderr",
          "text": [
            "/usr/local/lib/python3.10/dist-packages/sklearn/ensemble/_forest.py:424: FutureWarning: `max_features='auto'` has been deprecated in 1.1 and will be removed in 1.3. To keep the past behaviour, explicitly set `max_features='sqrt'` or remove this parameter as it is also the default value for RandomForestClassifiers and ExtraTreesClassifiers.\n",
            "  warn(\n"
          ]
        },
        {
          "output_type": "stream",
          "name": "stdout",
          "text": [
            "Training with parameters: {'n_estimators': 200, 'max_depth': 10, 'max_features': 'auto', 'min_samples_split': 10, 'min_samples_leaf': 2}\n"
          ]
        },
        {
          "output_type": "stream",
          "name": "stderr",
          "text": [
            "/usr/local/lib/python3.10/dist-packages/sklearn/ensemble/_forest.py:424: FutureWarning: `max_features='auto'` has been deprecated in 1.1 and will be removed in 1.3. To keep the past behaviour, explicitly set `max_features='sqrt'` or remove this parameter as it is also the default value for RandomForestClassifiers and ExtraTreesClassifiers.\n",
            "  warn(\n"
          ]
        },
        {
          "output_type": "stream",
          "name": "stdout",
          "text": [
            "Training with parameters: {'n_estimators': 200, 'max_depth': 10, 'max_features': 'auto', 'min_samples_split': 10, 'min_samples_leaf': 4}\n"
          ]
        },
        {
          "output_type": "stream",
          "name": "stderr",
          "text": [
            "/usr/local/lib/python3.10/dist-packages/sklearn/ensemble/_forest.py:424: FutureWarning: `max_features='auto'` has been deprecated in 1.1 and will be removed in 1.3. To keep the past behaviour, explicitly set `max_features='sqrt'` or remove this parameter as it is also the default value for RandomForestClassifiers and ExtraTreesClassifiers.\n",
            "  warn(\n"
          ]
        },
        {
          "output_type": "stream",
          "name": "stdout",
          "text": [
            "Training with parameters: {'n_estimators': 200, 'max_depth': 10, 'max_features': 'sqrt', 'min_samples_split': 2, 'min_samples_leaf': 1}\n",
            "Training with parameters: {'n_estimators': 200, 'max_depth': 10, 'max_features': 'sqrt', 'min_samples_split': 2, 'min_samples_leaf': 2}\n",
            "Training with parameters: {'n_estimators': 200, 'max_depth': 10, 'max_features': 'sqrt', 'min_samples_split': 2, 'min_samples_leaf': 4}\n",
            "Training with parameters: {'n_estimators': 200, 'max_depth': 10, 'max_features': 'sqrt', 'min_samples_split': 5, 'min_samples_leaf': 1}\n",
            "Training with parameters: {'n_estimators': 200, 'max_depth': 10, 'max_features': 'sqrt', 'min_samples_split': 5, 'min_samples_leaf': 2}\n",
            "Training with parameters: {'n_estimators': 200, 'max_depth': 10, 'max_features': 'sqrt', 'min_samples_split': 5, 'min_samples_leaf': 4}\n",
            "Training with parameters: {'n_estimators': 200, 'max_depth': 10, 'max_features': 'sqrt', 'min_samples_split': 10, 'min_samples_leaf': 1}\n",
            "Training with parameters: {'n_estimators': 200, 'max_depth': 10, 'max_features': 'sqrt', 'min_samples_split': 10, 'min_samples_leaf': 2}\n",
            "Training with parameters: {'n_estimators': 200, 'max_depth': 10, 'max_features': 'sqrt', 'min_samples_split': 10, 'min_samples_leaf': 4}\n",
            "Training with parameters: {'n_estimators': 200, 'max_depth': 10, 'max_features': 'log2', 'min_samples_split': 2, 'min_samples_leaf': 1}\n",
            "Training with parameters: {'n_estimators': 200, 'max_depth': 10, 'max_features': 'log2', 'min_samples_split': 2, 'min_samples_leaf': 2}\n",
            "Training with parameters: {'n_estimators': 200, 'max_depth': 10, 'max_features': 'log2', 'min_samples_split': 2, 'min_samples_leaf': 4}\n",
            "Training with parameters: {'n_estimators': 200, 'max_depth': 10, 'max_features': 'log2', 'min_samples_split': 5, 'min_samples_leaf': 1}\n",
            "Training with parameters: {'n_estimators': 200, 'max_depth': 10, 'max_features': 'log2', 'min_samples_split': 5, 'min_samples_leaf': 2}\n",
            "Training with parameters: {'n_estimators': 200, 'max_depth': 10, 'max_features': 'log2', 'min_samples_split': 5, 'min_samples_leaf': 4}\n",
            "Training with parameters: {'n_estimators': 200, 'max_depth': 10, 'max_features': 'log2', 'min_samples_split': 10, 'min_samples_leaf': 1}\n",
            "Training with parameters: {'n_estimators': 200, 'max_depth': 10, 'max_features': 'log2', 'min_samples_split': 10, 'min_samples_leaf': 2}\n",
            "Training with parameters: {'n_estimators': 200, 'max_depth': 10, 'max_features': 'log2', 'min_samples_split': 10, 'min_samples_leaf': 4}\n",
            "Training with parameters: {'n_estimators': 200, 'max_depth': 20, 'max_features': 'auto', 'min_samples_split': 2, 'min_samples_leaf': 1}\n"
          ]
        },
        {
          "output_type": "stream",
          "name": "stderr",
          "text": [
            "/usr/local/lib/python3.10/dist-packages/sklearn/ensemble/_forest.py:424: FutureWarning: `max_features='auto'` has been deprecated in 1.1 and will be removed in 1.3. To keep the past behaviour, explicitly set `max_features='sqrt'` or remove this parameter as it is also the default value for RandomForestClassifiers and ExtraTreesClassifiers.\n",
            "  warn(\n"
          ]
        },
        {
          "output_type": "stream",
          "name": "stdout",
          "text": [
            "Training with parameters: {'n_estimators': 200, 'max_depth': 20, 'max_features': 'auto', 'min_samples_split': 2, 'min_samples_leaf': 2}\n"
          ]
        },
        {
          "output_type": "stream",
          "name": "stderr",
          "text": [
            "/usr/local/lib/python3.10/dist-packages/sklearn/ensemble/_forest.py:424: FutureWarning: `max_features='auto'` has been deprecated in 1.1 and will be removed in 1.3. To keep the past behaviour, explicitly set `max_features='sqrt'` or remove this parameter as it is also the default value for RandomForestClassifiers and ExtraTreesClassifiers.\n",
            "  warn(\n"
          ]
        },
        {
          "output_type": "stream",
          "name": "stdout",
          "text": [
            "Training with parameters: {'n_estimators': 200, 'max_depth': 20, 'max_features': 'auto', 'min_samples_split': 2, 'min_samples_leaf': 4}\n"
          ]
        },
        {
          "output_type": "stream",
          "name": "stderr",
          "text": [
            "/usr/local/lib/python3.10/dist-packages/sklearn/ensemble/_forest.py:424: FutureWarning: `max_features='auto'` has been deprecated in 1.1 and will be removed in 1.3. To keep the past behaviour, explicitly set `max_features='sqrt'` or remove this parameter as it is also the default value for RandomForestClassifiers and ExtraTreesClassifiers.\n",
            "  warn(\n"
          ]
        },
        {
          "output_type": "stream",
          "name": "stdout",
          "text": [
            "Training with parameters: {'n_estimators': 200, 'max_depth': 20, 'max_features': 'auto', 'min_samples_split': 5, 'min_samples_leaf': 1}\n"
          ]
        },
        {
          "output_type": "stream",
          "name": "stderr",
          "text": [
            "/usr/local/lib/python3.10/dist-packages/sklearn/ensemble/_forest.py:424: FutureWarning: `max_features='auto'` has been deprecated in 1.1 and will be removed in 1.3. To keep the past behaviour, explicitly set `max_features='sqrt'` or remove this parameter as it is also the default value for RandomForestClassifiers and ExtraTreesClassifiers.\n",
            "  warn(\n"
          ]
        },
        {
          "output_type": "stream",
          "name": "stdout",
          "text": [
            "Training with parameters: {'n_estimators': 200, 'max_depth': 20, 'max_features': 'auto', 'min_samples_split': 5, 'min_samples_leaf': 2}\n"
          ]
        },
        {
          "output_type": "stream",
          "name": "stderr",
          "text": [
            "/usr/local/lib/python3.10/dist-packages/sklearn/ensemble/_forest.py:424: FutureWarning: `max_features='auto'` has been deprecated in 1.1 and will be removed in 1.3. To keep the past behaviour, explicitly set `max_features='sqrt'` or remove this parameter as it is also the default value for RandomForestClassifiers and ExtraTreesClassifiers.\n",
            "  warn(\n"
          ]
        },
        {
          "output_type": "stream",
          "name": "stdout",
          "text": [
            "Training with parameters: {'n_estimators': 200, 'max_depth': 20, 'max_features': 'auto', 'min_samples_split': 5, 'min_samples_leaf': 4}\n"
          ]
        },
        {
          "output_type": "stream",
          "name": "stderr",
          "text": [
            "/usr/local/lib/python3.10/dist-packages/sklearn/ensemble/_forest.py:424: FutureWarning: `max_features='auto'` has been deprecated in 1.1 and will be removed in 1.3. To keep the past behaviour, explicitly set `max_features='sqrt'` or remove this parameter as it is also the default value for RandomForestClassifiers and ExtraTreesClassifiers.\n",
            "  warn(\n"
          ]
        },
        {
          "output_type": "stream",
          "name": "stdout",
          "text": [
            "Training with parameters: {'n_estimators': 200, 'max_depth': 20, 'max_features': 'auto', 'min_samples_split': 10, 'min_samples_leaf': 1}\n"
          ]
        },
        {
          "output_type": "stream",
          "name": "stderr",
          "text": [
            "/usr/local/lib/python3.10/dist-packages/sklearn/ensemble/_forest.py:424: FutureWarning: `max_features='auto'` has been deprecated in 1.1 and will be removed in 1.3. To keep the past behaviour, explicitly set `max_features='sqrt'` or remove this parameter as it is also the default value for RandomForestClassifiers and ExtraTreesClassifiers.\n",
            "  warn(\n"
          ]
        },
        {
          "output_type": "stream",
          "name": "stdout",
          "text": [
            "Training with parameters: {'n_estimators': 200, 'max_depth': 20, 'max_features': 'auto', 'min_samples_split': 10, 'min_samples_leaf': 2}\n"
          ]
        },
        {
          "output_type": "stream",
          "name": "stderr",
          "text": [
            "/usr/local/lib/python3.10/dist-packages/sklearn/ensemble/_forest.py:424: FutureWarning: `max_features='auto'` has been deprecated in 1.1 and will be removed in 1.3. To keep the past behaviour, explicitly set `max_features='sqrt'` or remove this parameter as it is also the default value for RandomForestClassifiers and ExtraTreesClassifiers.\n",
            "  warn(\n"
          ]
        },
        {
          "output_type": "stream",
          "name": "stdout",
          "text": [
            "Training with parameters: {'n_estimators': 200, 'max_depth': 20, 'max_features': 'auto', 'min_samples_split': 10, 'min_samples_leaf': 4}\n"
          ]
        },
        {
          "output_type": "stream",
          "name": "stderr",
          "text": [
            "/usr/local/lib/python3.10/dist-packages/sklearn/ensemble/_forest.py:424: FutureWarning: `max_features='auto'` has been deprecated in 1.1 and will be removed in 1.3. To keep the past behaviour, explicitly set `max_features='sqrt'` or remove this parameter as it is also the default value for RandomForestClassifiers and ExtraTreesClassifiers.\n",
            "  warn(\n"
          ]
        },
        {
          "output_type": "stream",
          "name": "stdout",
          "text": [
            "Training with parameters: {'n_estimators': 200, 'max_depth': 20, 'max_features': 'sqrt', 'min_samples_split': 2, 'min_samples_leaf': 1}\n",
            "Training with parameters: {'n_estimators': 200, 'max_depth': 20, 'max_features': 'sqrt', 'min_samples_split': 2, 'min_samples_leaf': 2}\n",
            "Training with parameters: {'n_estimators': 200, 'max_depth': 20, 'max_features': 'sqrt', 'min_samples_split': 2, 'min_samples_leaf': 4}\n",
            "Training with parameters: {'n_estimators': 200, 'max_depth': 20, 'max_features': 'sqrt', 'min_samples_split': 5, 'min_samples_leaf': 1}\n",
            "Training with parameters: {'n_estimators': 200, 'max_depth': 20, 'max_features': 'sqrt', 'min_samples_split': 5, 'min_samples_leaf': 2}\n",
            "Training with parameters: {'n_estimators': 200, 'max_depth': 20, 'max_features': 'sqrt', 'min_samples_split': 5, 'min_samples_leaf': 4}\n",
            "Training with parameters: {'n_estimators': 200, 'max_depth': 20, 'max_features': 'sqrt', 'min_samples_split': 10, 'min_samples_leaf': 1}\n",
            "Training with parameters: {'n_estimators': 200, 'max_depth': 20, 'max_features': 'sqrt', 'min_samples_split': 10, 'min_samples_leaf': 2}\n",
            "Training with parameters: {'n_estimators': 200, 'max_depth': 20, 'max_features': 'sqrt', 'min_samples_split': 10, 'min_samples_leaf': 4}\n",
            "Training with parameters: {'n_estimators': 200, 'max_depth': 20, 'max_features': 'log2', 'min_samples_split': 2, 'min_samples_leaf': 1}\n",
            "Training with parameters: {'n_estimators': 200, 'max_depth': 20, 'max_features': 'log2', 'min_samples_split': 2, 'min_samples_leaf': 2}\n",
            "Training with parameters: {'n_estimators': 200, 'max_depth': 20, 'max_features': 'log2', 'min_samples_split': 2, 'min_samples_leaf': 4}\n",
            "Training with parameters: {'n_estimators': 200, 'max_depth': 20, 'max_features': 'log2', 'min_samples_split': 5, 'min_samples_leaf': 1}\n",
            "Training with parameters: {'n_estimators': 200, 'max_depth': 20, 'max_features': 'log2', 'min_samples_split': 5, 'min_samples_leaf': 2}\n",
            "Training with parameters: {'n_estimators': 200, 'max_depth': 20, 'max_features': 'log2', 'min_samples_split': 5, 'min_samples_leaf': 4}\n",
            "Training with parameters: {'n_estimators': 200, 'max_depth': 20, 'max_features': 'log2', 'min_samples_split': 10, 'min_samples_leaf': 1}\n",
            "Training with parameters: {'n_estimators': 200, 'max_depth': 20, 'max_features': 'log2', 'min_samples_split': 10, 'min_samples_leaf': 2}\n",
            "Training with parameters: {'n_estimators': 200, 'max_depth': 20, 'max_features': 'log2', 'min_samples_split': 10, 'min_samples_leaf': 4}\n",
            "Best Parameters: {'n_estimators': 50, 'max_depth': None, 'max_features': 'log2', 'min_samples_split': 2, 'min_samples_leaf': 2}\n",
            "Best Accuracy: 0.9766\n",
            "Best Classification Report:\n",
            "{'0': {'precision': 0.9836065573770492, 'recall': 0.9523809523809523, 'f1-score': 0.9677419354838709, 'support': 63}, '1': {'precision': 0.9727272727272728, 'recall': 0.9907407407407407, 'f1-score': 0.981651376146789, 'support': 108}, 'accuracy': 0.9766081871345029, 'macro avg': {'precision': 0.978166915052161, 'recall': 0.9715608465608465, 'f1-score': 0.9746966558153299, 'support': 171}, 'weighted avg': {'precision': 0.9767354302298219, 'recall': 0.9766081871345029, 'f1-score': 0.9765268453762402, 'support': 171}}\n"
          ]
        }
      ]
    },
    {
      "cell_type": "markdown",
      "source": [
        "### 모델 성능 요약\n",
        "**Best Parameters**:\n",
        "- `n_estimators`: 50\n",
        "- `max_depth`: None\n",
        "- `max_features`: 'log2'\n",
        "- `min_samples_split`: 2\n",
        "- `min_samples_leaf`: 2\n",
        "\n",
        "**Best Accuracy**: 0.9766 (약, 97.66% 정확도)\n",
        "\n",
        "### 성능 지표\n",
        "- **Precision (정밀도)**: 모델이 양성 클래스로 예측한 사례 중 실제 양성 클래스인 사례의 비율.\n",
        "- **Recall (재현율)**: 실제 양성 클래스인 사례 중 모델이 양성 클래스로 예측한 사례의 비율.\n",
        "- **F1-Score**: 정밀도와 재현율의 조화 평균, 두 지표의 균형을 측정.\n",
        "\n",
        "### 클래스별 성능\n",
        "**클래스 0**:\n",
        "- Precision: 0.9836\n",
        "- Recall: 0.9523\n",
        "- F1-Score: 0.9677\n",
        "- Support: 63 (실제 데이터에서 클래스 0의 샘플 수)\n",
        "\n",
        "**클래스 1**:\n",
        "- Precision: 0.9727\n",
        "- Recall: 0.9907\n",
        "- F1-Score: 0.9816\n",
        "- Support: 108 (실제 데이터에서 클래스 1의 샘플 수)\n",
        "\n",
        "\n",
        "### 평균 성능\n",
        "**Macro Avg (평균 성능)**:\n",
        "- Precision: 0.9781\n",
        "- Recall: 0.9715\n",
        "- F1-Score: 0.9746\n",
        "- Support: 171 (전체 샘플 수)\n",
        "\n",
        "**Weighted Avg (가중 평균 성능)**:\n",
        "- Precision: 0.9767\n",
        "- Recall: 0.9766\n",
        "- F1-Score: 0.9765\n",
        "- Support: 171 (전체 샘플 수)\n"
      ],
      "metadata": {
        "id": "9Mv8qsBBpRu0"
      }
    }
  ]
}