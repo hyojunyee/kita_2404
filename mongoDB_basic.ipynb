{
 "cells": [
  {
   "cell_type": "code",
   "execution_count": null,
   "metadata": {},
   "outputs": [],
   "source": [
    "# 설치가 되어있지 않으면 pip install pymongo를 실행하세요!"
   ]
  },
  {
   "cell_type": "code",
   "execution_count": null,
   "metadata": {},
   "outputs": [],
   "source": [
    "from pymongo import MongoClient\n",
    "\n",
    "# MongoDB 클라이언트 생성\n",
    "client = MongoClient(\"mongodb://localhost:27017/\")"
   ]
  },
  {
   "cell_type": "code",
   "execution_count": 4,
   "metadata": {},
   "outputs": [
    {
     "name": "stdout",
     "output_type": "stream",
     "text": [
      "{'_id': ObjectId('66bc4b51ee0af5be331b62d4'), 'name': 'Bob', 'age': 28}\n"
     ]
    }
   ],
   "source": [
    "# # 데이터베이스와 컬렉션 선택\n",
    "# db = client[\"mydatabase\"]\n",
    "# collection = db[\"users\"]\n",
    "\n",
    "# # 문서 삽입\n",
    "# collection.insert_one({\"name\": \"Alice\", \"age\": 25})\n",
    "# collection.insert_one({\"name\": \"Bob\", \"age\": 28})"
   ]
  },
  {
   "cell_type": "code",
   "execution_count": 12,
   "metadata": {},
   "outputs": [
    {
     "name": "stdout",
     "output_type": "stream",
     "text": [
      "<pymongo.cursor.Cursor object at 0x0000024A8E164EE0>\n"
     ]
    }
   ],
   "source": [
    "# # 문서 쿼리\n",
    "# user = collection.find({\"age\": 25})\n",
    "# print(user)\n",
    "# # 문서 쿼리\n",
    "# user = collection.find_one({\"name\": \"Alice\"})\n",
    "# print(user)"
   ]
  },
  {
   "cell_type": "code",
   "execution_count": 14,
   "metadata": {},
   "outputs": [],
   "source": [
    "# 모든 문서 조회\n",
    "for document in collection.find():\n",
    "    print(document)"
   ]
  },
  {
   "cell_type": "code",
   "execution_count": 13,
   "metadata": {},
   "outputs": [
    {
     "data": {
      "text/plain": [
       "InsertManyResult([ObjectId('66bc4d60ee0af5be331b62d8'), ObjectId('66bc4d60ee0af5be331b62d9')], acknowledged=True)"
      ]
     },
     "execution_count": 13,
     "metadata": {},
     "output_type": "execute_result"
    }
   ],
   "source": [
    "from pymongo import MongoClient\n",
    "\n",
    "# MongoDB 클라이언트 생성\n",
    "client = MongoClient(\"mongodb://localhost:27017/\")\n",
    "\n",
    "# 데이터베이스 선택\n",
    "db = client[\"company\"]\n",
    "\n",
    "# 인사팀과 경영팀 컬렉션 선택\n",
    "hr_team = db[\"hr_team\"]\n",
    "management_team = db[\"management_team\"]\n",
    "\n",
    "# 인사팀에 문서 삽입\n",
    "hr_team.insert_many([\n",
    "    {\"name\": \"Alice\", \"role\": \"HR Specialist\"},\n",
    "    {\"name\": \"Bob\", \"role\": \"HR Manager\"}\n",
    "])\n",
    "\n",
    "# 경영팀에 문서 삽입\n",
    "management_team.insert_many([\n",
    "    {\"name\": \"Charlie\", \"role\": \"CEO\"},\n",
    "    {\"name\": \"David\", \"role\": \"COO\"}\n",
    "])"
   ]
  },
  {
   "cell_type": "code",
   "execution_count": 16,
   "metadata": {},
   "outputs": [
    {
     "name": "stdout",
     "output_type": "stream",
     "text": [
      "HR Team:\n",
      "{'_id': ObjectId('66bc4e3eee0af5be331b62db'), 'name': 'Alice', 'role': 'HR Specialist'}\n",
      "{'_id': ObjectId('66bc4e3eee0af5be331b62dc'), 'name': 'Bob', 'role': 'HR Manager'}\n",
      "\n",
      "Management Team:\n",
      "{'_id': ObjectId('66bc4e3eee0af5be331b62dd'), 'name': 'Charlie', 'role': 'CEO'}\n",
      "{'_id': ObjectId('66bc4e3eee0af5be331b62de'), 'name': 'David', 'role': 'COO'}\n"
     ]
    }
   ],
   "source": [
    "# 각 컬렉션의 문서 조회 및 출력\n",
    "print(\"HR Team:\")\n",
    "for document in hr_team.find():\n",
    "    print(document)\n",
    "\n",
    "print(\"\\nManagement Team:\")\n",
    "for document in management_team.find():\n",
    "    print(document)"
   ]
  },
  {
   "cell_type": "code",
   "execution_count": 17,
   "metadata": {},
   "outputs": [
    {
     "name": "stdout",
     "output_type": "stream",
     "text": [
      "Name: Alice\n",
      "Age: 30\n",
      "Role: HR Specialist\n",
      "Email: alice@example.com\n",
      "Phone: 123-456-7890\n",
      "\n",
      "Name: Bob\n",
      "Age: 35\n",
      "Role: HR Manager\n",
      "Email: bob@example.com\n",
      "Phone: 987-654-3210\n",
      "\n",
      "Name: Charlie\n",
      "Age: 45\n",
      "Role: CEO\n",
      "Email: charlie@example.com\n",
      "Phone: 555-123-4567\n",
      "\n",
      "Name: David\n",
      "Age: 40\n",
      "Role: COO\n",
      "Email: david@example.com\n",
      "Phone: 555-765-4321\n",
      "\n"
     ]
    }
   ],
   "source": [
    "employees = {\n",
    "    \"Alice\": {\n",
    "        \"age\": 30,\n",
    "        \"role\": \"HR Specialist\",\n",
    "        \"contact\": {\n",
    "            \"email\": \"alice@example.com\",\n",
    "            \"phone\": \"123-456-7890\"\n",
    "        }\n",
    "    },\n",
    "    \"Bob\": {\n",
    "        \"age\": 35,\n",
    "        \"role\": \"HR Manager\",\n",
    "        \"contact\": {\n",
    "            \"email\": \"bob@example.com\",\n",
    "            \"phone\": \"987-654-3210\"\n",
    "        }\n",
    "    },\n",
    "    \"Charlie\": {\n",
    "        \"age\": 45,\n",
    "        \"role\": \"CEO\",\n",
    "        \"contact\": {\n",
    "            \"email\": \"charlie@example.com\",\n",
    "            \"phone\": \"555-123-4567\"\n",
    "        }\n",
    "    },\n",
    "    \"David\": {\n",
    "        \"age\": 40,\n",
    "        \"role\": \"COO\",\n",
    "        \"contact\": {\n",
    "            \"email\": \"david@example.com\",\n",
    "            \"phone\": \"555-765-4321\"\n",
    "        }\n",
    "    }\n",
    "}\n",
    "\n",
    "# 출력 예제\n",
    "for name, details in employees.items():\n",
    "    print(f\"Name: {name}\")\n",
    "    print(f\"Age: {details['age']}\")\n",
    "    print(f\"Role: {details['role']}\")\n",
    "    print(f\"Email: {details['contact']['email']}\")\n",
    "    print(f\"Phone: {details['contact']['phone']}\")\n",
    "    print()  # 줄바꿈"
   ]
  },
  {
   "cell_type": "code",
   "execution_count": 15,
   "metadata": {},
   "outputs": [
    {
     "name": "stdout",
     "output_type": "stream",
     "text": [
      "HR Team:\n",
      "{'_id': ObjectId('66bc4e3eee0af5be331b62db'), 'name': 'Alice', 'role': 'HR Specialist'}\n",
      "{'_id': ObjectId('66bc4e3eee0af5be331b62dc'), 'name': 'Bob', 'role': 'HR Manager'}\n",
      "\n",
      "Management Team:\n",
      "{'_id': ObjectId('66bc4e3eee0af5be331b62dd'), 'name': 'Charlie', 'role': 'CEO'}\n",
      "{'_id': ObjectId('66bc4e3eee0af5be331b62de'), 'name': 'David', 'role': 'COO'}\n"
     ]
    }
   ],
   "source": [
    "from pymongo import MongoClient\n",
    "\n",
    "# MongoDB 클라이언트 생성\n",
    "client = MongoClient(\"mongodb://localhost:27017/\")\n",
    "\n",
    "# 데이터베이스 선택\n",
    "db = client[\"company\"]\n",
    "\n",
    "# 기존 컬렉션 삭제 (옵션)\n",
    "db[\"hr_team\"].drop()\n",
    "db[\"management_team\"].drop()\n",
    "\n",
    "# 새 컬렉션 선택\n",
    "hr_team = db[\"hr_team\"]\n",
    "management_team = db[\"management_team\"]\n",
    "\n",
    "# 문서 삽입\n",
    "hr_team.insert_many([\n",
    "    {\"name\": \"Alice\", \"role\": \"HR Specialist\"},\n",
    "    {\"name\": \"Bob\", \"role\": \"HR Manager\"}\n",
    "])\n",
    "\n",
    "management_team.insert_many([\n",
    "    {\"name\": \"Charlie\", \"role\": \"CEO\"},\n",
    "    {\"name\": \"David\", \"role\": \"COO\"}\n",
    "])\n",
    "\n",
    "# 각 컬렉션의 문서 조회 및 출력\n",
    "print(\"HR Team:\")\n",
    "for document in hr_team.find():\n",
    "    print(document)\n",
    "\n",
    "print(\"\\nManagement Team:\")\n",
    "for document in management_team.find():\n",
    "    print(document)"
   ]
  },
  {
   "cell_type": "code",
   "execution_count": 18,
   "metadata": {},
   "outputs": [
    {
     "name": "stdout",
     "output_type": "stream",
     "text": [
      "HR Team:\n",
      "{'_id': ObjectId('66bc4e3eee0af5be331b62db'), 'name': 'Alice', 'role': 'HR Specialist', 'contact': {'email': 'unknown@example.com', 'phone': '000-000-0000'}}\n",
      "{'_id': ObjectId('66bc4e3eee0af5be331b62dc'), 'name': 'Bob', 'role': 'HR Manager', 'contact': {'email': 'unknown@example.com', 'phone': '000-000-0000'}}\n",
      "\n",
      "Management Team:\n",
      "{'_id': ObjectId('66bc4e3eee0af5be331b62dd'), 'name': 'Charlie', 'role': 'CEO', 'contact': {'email': 'unknown@example.com', 'phone': '000-000-0000'}}\n",
      "{'_id': ObjectId('66bc4e3eee0af5be331b62de'), 'name': 'David', 'role': 'COO', 'contact': {'email': 'unknown@example.com', 'phone': '000-000-0000'}}\n"
     ]
    }
   ],
   "source": [
    "from pymongo import MongoClient\n",
    "\n",
    "# MongoDB 클라이언트 생성\n",
    "client = MongoClient(\"mongodb://localhost:27017/\")\n",
    "\n",
    "# 데이터베이스 선택\n",
    "db = client[\"company\"]\n",
    "\n",
    "# 컬렉션 선택\n",
    "hr_team = db[\"hr_team\"]\n",
    "management_team = db[\"management_team\"]\n",
    "\n",
    "# 인사팀에 contact 필드 추가\n",
    "hr_team.update_many(\n",
    "    {},\n",
    "    {\n",
    "        \"$set\": {\n",
    "            \"contact\": {\n",
    "                \"email\": \"unknown@example.com\",\n",
    "                \"phone\": \"000-000-0000\"\n",
    "            }\n",
    "        }\n",
    "    }\n",
    ")\n",
    "\n",
    "# 경영팀에 contact 필드 추가\n",
    "management_team.update_many(\n",
    "    {},\n",
    "    {\n",
    "        \"$set\": {\n",
    "            \"contact\": {\n",
    "                \"email\": \"unknown@example.com\",\n",
    "                \"phone\": \"000-000-0000\"\n",
    "            }\n",
    "        }\n",
    "    }\n",
    ")\n",
    "\n",
    "# 문서 조회 및 출력\n",
    "print(\"HR Team:\")\n",
    "for document in hr_team.find():\n",
    "    print(document)\n",
    "\n",
    "print(\"\\nManagement Team:\")\n",
    "for document in management_team.find():\n",
    "    print(document)\n"
   ]
  },
  {
   "cell_type": "code",
   "execution_count": 19,
   "metadata": {},
   "outputs": [
    {
     "data": {
      "text/plain": [
       "UpdateResult({'n': 1, 'nModified': 1, 'ok': 1.0, 'updatedExisting': True}, acknowledged=True)"
      ]
     },
     "execution_count": 19,
     "metadata": {},
     "output_type": "execute_result"
    }
   ],
   "source": [
    "# Alice의 contact 정보 업데이트\n",
    "hr_team.update_one(\n",
    "    {\"name\": \"Alice\"},\n",
    "    {\n",
    "        \"$set\": {\n",
    "            \"contact\": {\n",
    "                \"email\": \"alice@example.com\",\n",
    "                \"phone\": \"123-456-7890\"\n",
    "            }\n",
    "        }\n",
    "    }\n",
    ")\n",
    "\n",
    "# Charlie의 contact 정보 업데이트\n",
    "management_team.update_one(\n",
    "    {\"name\": \"Charlie\"},\n",
    "    {\n",
    "        \"$set\": {\n",
    "            \"contact\": {\n",
    "                \"email\": \"charlie@example.com\",\n",
    "                \"phone\": \"555-123-4567\"\n",
    "            }\n",
    "        }\n",
    "    }\n",
    ")\n"
   ]
  },
  {
   "cell_type": "code",
   "execution_count": 22,
   "metadata": {},
   "outputs": [
    {
     "name": "stdout",
     "output_type": "stream",
     "text": [
      "Updated contact info for Bob in hr_team.\n",
      "Updated contact info for David in management_team.\n"
     ]
    }
   ],
   "source": [
    "from pymongo import MongoClient\n",
    "\n",
    "# MongoDB 클라이언트 생성\n",
    "client = MongoClient(\"mongodb://localhost:27017/\")\n",
    "\n",
    "# 데이터베이스 선택\n",
    "db = client[\"company\"]\n",
    "\n",
    "def update_contact_info(collection_name, employee_name, email, phone):\n",
    "    \"\"\"\n",
    "    특정 컬렉션에서 특정 직원의 contact 정보를 업데이트합니다.\n",
    "    \n",
    "    :param collection_name: 업데이트할 컬렉션의 이름\n",
    "    :param employee_name: 업데이트할 직원의 이름\n",
    "    :param email: 직원의 새로운 이메일 주소\n",
    "    :param phone: 직원의 새로운 전화번호\n",
    "    \"\"\"\n",
    "    collection = db[collection_name]\n",
    "    result = collection.update_one(\n",
    "        {\"name\": employee_name},\n",
    "        {\n",
    "            \"$set\": {\n",
    "                \"contact\": {\n",
    "                    \"email\": email,\n",
    "                    \"phone\": phone\n",
    "                }\n",
    "            }\n",
    "        }\n",
    "    )\n",
    "    if result.matched_count > 0:\n",
    "        print(f\"Updated contact info for {employee_name} in {collection_name}.\")\n",
    "    else:\n",
    "        print(f\"Employee {employee_name} not found in {collection_name}.\")\n",
    "\n",
    "# 함수 사용 예제\n",
    "update_contact_info(\"hr_team\", \"Bob\", \"Bob@example.com\", \"121-657-2255\")\n",
    "update_contact_info(\"management_team\", \"David\", \"David@example.com\", \"462-711-2234\")"
   ]
  },
  {
   "cell_type": "code",
   "execution_count": 21,
   "metadata": {},
   "outputs": [
    {
     "name": "stdout",
     "output_type": "stream",
     "text": [
      "Alice's Information:\n",
      "{'_id': ObjectId('66bc4e3eee0af5be331b62db'), 'name': 'Alice', 'role': 'HR Specialist', 'contact': {'email': 'alice@example.com', 'phone': '123-456-7890'}}\n"
     ]
    }
   ],
   "source": [
    "hr_team = db[\"hr_team\"]\n",
    "\n",
    "# \"Alice\"의 정보를 쿼리\n",
    "alice_info = hr_team.find_one({\"name\": \"Alice\"})\n",
    "\n",
    "# 결과 출력\n",
    "print(\"Alice's Information:\")\n",
    "print(alice_info)"
   ]
  },
  {
   "cell_type": "code",
   "execution_count": 23,
   "metadata": {},
   "outputs": [],
   "source": [
    "# DB 초기화\n",
    "from pymongo import MongoClient\n",
    "\n",
    "# MongoDB 클라이언트 생성\n",
    "client = MongoClient(\"mongodb://localhost:27017/\")\n",
    "\n",
    "# 데이터베이스 선택\n",
    "db = client[\"company\"]\n",
    "\n",
    "# 데이터베이스 삭제\n",
    "client.drop_database(\"company\")"
   ]
  },
  {
   "cell_type": "code",
   "execution_count": 24,
   "metadata": {},
   "outputs": [
    {
     "data": {
      "text/plain": [
       "InsertOneResult(ObjectId('66bc580aee0af5be331b62e4'), acknowledged=True)"
      ]
     },
     "execution_count": 24,
     "metadata": {},
     "output_type": "execute_result"
    }
   ],
   "source": [
    "from pymongo import MongoClient\n",
    "from datetime import datetime\n",
    "\n",
    "# MongoDB 클라이언트 생성\n",
    "client = MongoClient(\"mongodb://localhost:27017/\")\n",
    "db = client[\"chatbot_training\"]\n",
    "collection = db[\"conversations\"]\n",
    "\n",
    "# 대화 데이터 문서\n",
    "conversation = {\n",
    "    \"conversation_id\": \"conv_001\",\n",
    "    \"messages\": [\n",
    "        {\n",
    "            \"role\": \"system\",\n",
    "            \"content\": {\n",
    "                \"text\": \"당신은 고용복지공단 직원입니다.\",\n",
    "                \"type\": \"text\"\n",
    "            }\n",
    "        },\n",
    "        {\n",
    "            \"role\": \"user\",\n",
    "            \"content\": {\n",
    "                \"text\": \"안녕하세요 연차생성 기준이 어려워서 그러는데 한번 확인 부탁드립니다입사일 2021. 07. 17일 퇴사일 2024. 07. 17일 경우 신규로 연차 16개 추가 생성되는거 맞을까요?? 전체 연차개수가 57일이 맞는지 계산부탁드립니다 모든 회사들은 퇴사시 근로기준법 기준으로 연차계산되는거 맞죠? 회계기준일과 비교시 일수 차이가 좀 많아서요..\",\n",
    "                \"type\": \"text\"\n",
    "            }\n",
    "        },\n",
    "        {\n",
    "            \"role\": \"assistant\",\n",
    "            \"content\": {\n",
    "                \"text\": \"안녕하세요! 연차 생성 기준에 대해 질문 주셔서 감사합니다.\\n\\n근로기준법에 따라 연차 유급휴가는 1년 근무 시 15일이 부여됩니다. 2021년 7월 17일에 입사하여 2024년 7월 17일에 퇴사하는 경우, 연차 계산은 다음과 같이 진행됩니다.\\n\\n1. **입사일로부터 1년까지**: 2021년 7월 17일부터 2022년 7월 17일까지의 1년 동안 15일의 연차가 발생합니다.\\n2. **입사 2년째**: 2022년 7월 17일부터 2023년 7월 17일까지의 2년 차 연차로 15일 추가 발생합니다.\\n3. **입사 3년째**: 2023년 7월 17일부터 2024년 7월 16일까지의 3년 차 연차는 2023년 7월 17일부터 2024년 7월 16일까지의 1년 기준으로 계산되는데, 이 경우 근로기준법에 따라 1년의 근무에 대해 15일의 연차가 발생하는 규정이 적용됩니다. 따라서, 퇴사일인 2024년 7월 17일에 도달하기 전 1년을 채우지 못했으므로, 해당 연도에 대한 연차는 추가로 발생하지 않습니다.\\n\\n따라서 다음과 같은 연차가 발생합니다:\\n\\n- **2021년 7월 17일 ~ 2022년 7월 17일**: 15일\\n- **2022년 7월 17일 ~ 2023년 7월 17일**: 15일\\n- **2023년 7월 17일 ~ 2024년 7월 16일**: 15일 (2024년 7월 17일 퇴사 전까지 1년이 채워지지 않아 추가 발생 없음)\\n\\n결론적으로,\\n- **총 연차 개수**: 15일 + 15일 = 30일\\n\\n그러므로, 퇴사 시 보유하고 있는 연차 개수는 30일이 됩니다.\\n\\n모든 회사는 근로기준법에 따라 연차 계산을 해야 하며, 특정 상황에 따라 재량적으로 연차를 부여하거나 관리할 수 있지만, 기본적으로 법적인 기준에 따르는 것이 원칙입니다.\\n\\n회계 기준일과의 차이가 나는 이유는 회계적 기준이 근로기준법의 연차 유연성 및 변동성과는 다를 수 있기 때문입니다. 이러한 내용을 참고하시기 바랍니다. 추가로 궁금한 사항이 있으시면 언제든지 문의해 주세요!\",\n",
    "                \"type\": \"text\"\n",
    "            }\n",
    "        }\n",
    "    ],\n",
    "    \"created_at\": datetime.utcnow()\n",
    "}\n",
    "\n",
    "# 데이터 삽입\n",
    "collection.insert_one(conversation)"
   ]
  },
  {
   "cell_type": "code",
   "execution_count": 4,
   "metadata": {},
   "outputs": [
    {
     "ename": "OpenAIError",
     "evalue": "The api_key client option must be set either by passing api_key to the client or by setting the OPENAI_API_KEY environment variable",
     "output_type": "error",
     "traceback": [
      "\u001b[1;31m---------------------------------------------------------------------------\u001b[0m",
      "\u001b[1;31mOpenAIError\u001b[0m                               Traceback (most recent call last)",
      "Cell \u001b[1;32mIn[4], line 5\u001b[0m\n\u001b[0;32m      2\u001b[0m \u001b[38;5;28;01mfrom\u001b[39;00m \u001b[38;5;21;01mopenai\u001b[39;00m \u001b[38;5;28;01mimport\u001b[39;00m OpenAI\n\u001b[0;32m      4\u001b[0m \u001b[38;5;66;03m# OpenAI 클라이언트 초기화\u001b[39;00m\n\u001b[1;32m----> 5\u001b[0m client \u001b[38;5;241m=\u001b[39m \u001b[43mOpenAI\u001b[49m\u001b[43m(\u001b[49m\u001b[43m)\u001b[49m\n\u001b[0;32m      7\u001b[0m \u001b[38;5;66;03m# JSON 파일에서 데이터 읽기\u001b[39;00m\n\u001b[0;32m      8\u001b[0m \u001b[38;5;28;01mdef\u001b[39;00m \u001b[38;5;21mload_data\u001b[39m(file_path):\n",
      "File \u001b[1;32md:\\kdt_240424\\workspace\\3Team_chatBotProject\\myenv\\lib\\site-packages\\openai\\_client.py:105\u001b[0m, in \u001b[0;36mOpenAI.__init__\u001b[1;34m(self, api_key, organization, project, base_url, timeout, max_retries, default_headers, default_query, http_client, _strict_response_validation)\u001b[0m\n\u001b[0;32m    103\u001b[0m     api_key \u001b[38;5;241m=\u001b[39m os\u001b[38;5;241m.\u001b[39menviron\u001b[38;5;241m.\u001b[39mget(\u001b[38;5;124m\"\u001b[39m\u001b[38;5;124mOPENAI_API_KEY\u001b[39m\u001b[38;5;124m\"\u001b[39m)\n\u001b[0;32m    104\u001b[0m \u001b[38;5;28;01mif\u001b[39;00m api_key \u001b[38;5;129;01mis\u001b[39;00m \u001b[38;5;28;01mNone\u001b[39;00m:\n\u001b[1;32m--> 105\u001b[0m     \u001b[38;5;28;01mraise\u001b[39;00m OpenAIError(\n\u001b[0;32m    106\u001b[0m         \u001b[38;5;124m\"\u001b[39m\u001b[38;5;124mThe api_key client option must be set either by passing api_key to the client or by setting the OPENAI_API_KEY environment variable\u001b[39m\u001b[38;5;124m\"\u001b[39m\n\u001b[0;32m    107\u001b[0m     )\n\u001b[0;32m    108\u001b[0m \u001b[38;5;28mself\u001b[39m\u001b[38;5;241m.\u001b[39mapi_key \u001b[38;5;241m=\u001b[39m api_key\n\u001b[0;32m    110\u001b[0m \u001b[38;5;28;01mif\u001b[39;00m organization \u001b[38;5;129;01mis\u001b[39;00m \u001b[38;5;28;01mNone\u001b[39;00m:\n",
      "\u001b[1;31mOpenAIError\u001b[0m: The api_key client option must be set either by passing api_key to the client or by setting the OPENAI_API_KEY environment variable"
     ]
    }
   ],
   "source": [
    "import json\n",
    "from openai import OpenAI\n",
    "\n",
    "# OpenAI 클라이언트 초기화\n",
    "client = OpenAI()\n",
    "\n",
    "# JSON 파일에서 데이터 읽기\n",
    "def load_data(file_path):\n",
    "    with open(file_path, 'r') as file:\n",
    "        return json.load(file)\n",
    "\n",
    "# 데이터 처리 함수\n",
    "def process_data(data):\n",
    "    for item in data:\n",
    "        response = client.chat.completions.create(\n",
    "            model=\"gpt-4\",\n",
    "            messages=[\n",
    "                {\"role\": \"system\", \"content\": item[\"context\"]},\n",
    "                *item[\"prompts\"]\n",
    "            ],\n",
    "            temperature=1,\n",
    "            max_tokens=1500,\n",
    "            top_p=1,\n",
    "            frequency_penalty=0,\n",
    "            presence_penalty=0\n",
    "        )\n",
    "        print(response)\n",
    "\n",
    "# 파일 경로\n",
    "file_path = 'your_data_file.json'\n",
    "data = load_data(file_path)\n",
    "process_data(data)"
   ]
  },
  {
   "cell_type": "code",
   "execution_count": null,
   "metadata": {},
   "outputs": [],
   "source": [
    "from pymongo import MongoClient\n",
    "from openai import OpenAI\n",
    "\n",
    "# MongoDB 연결 및 데이터 검색\n",
    "client = MongoClient(\"mongodb://localhost:27017/\")\n",
    "db = client[\"chatbot_training\"]\n",
    "collection = db[\"conversations\"]\n",
    "\n",
    "def retrieve_relevant_conversations(query):\n",
    "    # MongoDB에서 관련 대화 검색\n",
    "    results = collection.find({\"messages.content.text\": {\"$regex\": query, \"$options\": \"i\"}})\n",
    "    return list(results)\n",
    "\n",
    "# OpenAI API 호출\n",
    "def generate_response(query):\n",
    "    # 관련 대화 검색\n",
    "    conversations = retrieve_relevant_conversations(query)\n",
    "    # MongoDB에서 검색된 대화를 기반으로 OpenAI API 호출\n",
    "    openai_client = OpenAI()\n",
    "    response = openai_client.chat.completions.create(\n",
    "        model=\"gpt-4\",\n",
    "        messages=[{\"role\": \"system\", \"content\": {\"text\": \"대화 시나리오\"}}, {\"role\": \"user\", \"content\": {\"text\": query}}],\n",
    "        temperature=0.7,\n",
    "        max_tokens=150\n",
    "    )\n",
    "    return response.choices[0].message['content']\n",
    "\n",
    "# 사용 예\n",
    "user_query = \"연차 생성 기준\"\n",
    "print(generate_response(user_query))\n"
   ]
  },
  {
   "cell_type": "markdown",
   "metadata": {},
   "source": [
    "### 2. Fine-Tuning\n",
    "Fine-Tuning은 OpenAI의 모델을 특정 도메인이나 데이터셋에 맞게 재훈련시키는 과정입니다. 대화형 데이터를 학습 데이터로 사용하여 모델의 응답 품질을 개선할 수 있습니다.\n",
    "\n",
    "- 데이터 활용 방식:\n",
    "\n",
    "    - MongoDB에 저장된 대화형 데이터를 기반으로 모델을 Fine-Tune합니다.\n",
    "    - Fine-Tuning된 모델은 대화형 데이터의 패턴과 특성을 반영하여 사용자 질문에 보다 정확한 응답을 생성합니다.\n",
    "\n",
    "- 장점:\n",
    "    - 모델이 특정 도메인에 맞게 조정되므로, 보다 자연스럽고 적절한 응답을 생성할 수 있습니다.\n",
    "    - 장기적으로 더 높은 품질의 응답을 제공할 수 있습니다."
   ]
  },
  {
   "cell_type": "code",
   "execution_count": null,
   "metadata": {},
   "outputs": [],
   "source": [
    "import json\n",
    "\n",
    "# MongoDB에서 대화형 데이터 가져오기\n",
    "def export_conversations():\n",
    "    client = MongoClient(\"mongodb://localhost:27017/\")\n",
    "    db = client[\"chatbot_training\"]\n",
    "    collection = db[\"conversations\"]\n",
    "    conversations = list(collection.find({}))\n",
    "    \n",
    "    # 데이터 포맷팅\n",
    "    training_data = []\n",
    "    for conv in conversations:\n",
    "        messages = conv['messages']\n",
    "        conversation = []\n",
    "        for message in messages:\n",
    "            conversation.append({\n",
    "                \"role\": message['role'],\n",
    "                \"content\": message['content']['text']\n",
    "            })\n",
    "        training_data.append({\"conversation\": conversation})\n",
    "    \n",
    "    # JSON 파일로 저장\n",
    "    with open('fine_tuning_data.json', 'w') as file:\n",
    "        json.dump(training_data, file)\n",
    "\n",
    "export_conversations()\n"
   ]
  },
  {
   "cell_type": "code",
   "execution_count": 1,
   "metadata": {},
   "outputs": [
    {
     "ename": "ModuleNotFoundError",
     "evalue": "No module named 'pymongo'",
     "output_type": "error",
     "traceback": [
      "\u001b[1;31m---------------------------------------------------------------------------\u001b[0m",
      "\u001b[1;31mModuleNotFoundError\u001b[0m                       Traceback (most recent call last)",
      "Cell \u001b[1;32mIn[1], line 1\u001b[0m\n\u001b[1;32m----> 1\u001b[0m \u001b[38;5;28;01mfrom\u001b[39;00m \u001b[38;5;21;01mpymongo\u001b[39;00m \u001b[38;5;28;01mimport\u001b[39;00m MongoClient\n\u001b[0;32m      2\u001b[0m \u001b[38;5;28;01mfrom\u001b[39;00m \u001b[38;5;21;01mdatetime\u001b[39;00m \u001b[38;5;28;01mimport\u001b[39;00m datetime\n\u001b[0;32m      4\u001b[0m \u001b[38;5;28;01mdef\u001b[39;00m \u001b[38;5;21minsert_conversations\u001b[39m(conversations):\n",
      "\u001b[1;31mModuleNotFoundError\u001b[0m: No module named 'pymongo'"
     ]
    }
   ],
   "source": [
    "from pymongo import MongoClient\n",
    "from datetime import datetime\n",
    "\n",
    "def insert_conversations(conversations):\n",
    "    client = MongoClient(\"mongodb://localhost:27017/\")\n",
    "    db = client[\"chatbot_training\"]\n",
    "    collection = db[\"conversations\"]\n",
    "    \n",
    "    result = collection.insert_many(conversations)\n",
    "    print(f\"Inserted {len(result.inserted_ids)} conversations\")\n",
    "\n",
    "# 사용 예\n",
    "insert_conversations(conversations)"
   ]
  },
  {
   "cell_type": "code",
   "execution_count": null,
   "metadata": {},
   "outputs": [],
   "source": [
    "import json\n",
    "import nbformat\n",
    "\n",
    "def extract_conversations_from_notebook(notebook_path):\n",
    "    with open(notebook_path, 'r', encoding='utf-8') as f:\n",
    "        nb = nbformat.read(f, as_version=4)\n",
    "    \n",
    "    conversations = []\n",
    "    for cell in nb.cells:\n",
    "        if cell.cell_type == 'code':\n",
    "            if 'messages=' in cell.source:\n",
    "                # 메시지 부분 추출 및 파싱\n",
    "                messages_str = cell.source.split('messages=')[1].split(']')[0] + ']'\n",
    "                messages = json.loads(messages_str)\n",
    "                \n",
    "                conversation = {\n",
    "                    \"conversation_id\": f\"conv_{len(conversations)+1:03d}\",\n",
    "                    \"messages\": [\n",
    "                        {\n",
    "                            \"role\": msg[\"role\"],\n",
    "                            \"content\": msg[\"content\"][0][\"text\"] if isinstance(msg[\"content\"], list) else msg[\"content\"]\n",
    "                        } for msg in messages\n",
    "                    ],\n",
    "                    \"created_at\": datetime.utcnow()\n",
    "                }\n",
    "                conversations.append(conversation)\n",
    "    \n",
    "    return conversations\n",
    "\n",
    "# 사용 예\n",
    "notebook_path = 'path/to/your/notebook.ipynb'\n",
    "extracted_conversations = extract_conversations_from_notebook(notebook_path)\n",
    "insert_conversations(extracted_conversations)"
   ]
  },
  {
   "cell_type": "code",
   "execution_count": 4,
   "metadata": {},
   "outputs": [
    {
     "ename": "ModuleNotFoundError",
     "evalue": "No module named 'nbformat'",
     "output_type": "error",
     "traceback": [
      "\u001b[1;31m---------------------------------------------------------------------------\u001b[0m",
      "\u001b[1;31mModuleNotFoundError\u001b[0m                       Traceback (most recent call last)",
      "Cell \u001b[1;32mIn[4], line 1\u001b[0m\n\u001b[1;32m----> 1\u001b[0m \u001b[38;5;28;01mimport\u001b[39;00m \u001b[38;5;21;01mnbformat\u001b[39;00m\n",
      "\u001b[1;31mModuleNotFoundError\u001b[0m: No module named 'nbformat'"
     ]
    }
   ],
   "source": [
    "import nbformat"
   ]
  },
  {
   "cell_type": "code",
   "execution_count": null,
   "metadata": {},
   "outputs": [],
   "source": [
    "import json\n",
    "import nbformat\n",
    "from datetime import datetime\n",
    "\n",
    "def extract_conversations_from_notebook(notebook_path):\n",
    "    with open(notebook_path, 'r', encoding='utf-8') as f:\n",
    "        nb = nbformat.read(f, as_version=4)\n",
    "    \n",
    "    conversations = []\n",
    "    current_conversation = None\n",
    "    metadata = \"\"\n",
    "\n",
    "    for cell in nb.cells:\n",
    "        if cell.cell_type == 'code':\n",
    "            if cell.source.startswith('# '):\n",
    "                # 새로운 대화의 시작\n",
    "                if current_conversation:\n",
    "                    conversations.append(current_conversation)\n",
    "                metadata = cell.source.strip()\n",
    "                current_conversation = {\n",
    "                    \"conversation_id\": f\"conv_{len(conversations)+1:03d}\",\n",
    "                    \"metadata\": metadata,\n",
    "                    \"messages\": [],\n",
    "                    \"created_at\": datetime.utcnow()\n",
    "                }\n",
    "            elif 'messages=' in cell.source:\n",
    "                # 메시지 부분 추출 및 파싱\n",
    "                messages_str = cell.source.split('messages=')[1].split(']')[0] + ']'\n",
    "                messages = json.loads(messages_str)\n",
    "                \n",
    "                for msg in messages:\n",
    "                    content = msg[\"content\"][0][\"text\"] if isinstance(msg[\"content\"], list) else msg[\"content\"]\n",
    "                    current_conversation[\"messages\"].append({\n",
    "                        \"role\": msg[\"role\"],\n",
    "                        \"content\": content\n",
    "                    })\n",
    "    \n",
    "    # 마지막 대화 추가\n",
    "    if current_conversation:\n",
    "        conversations.append(current_conversation)\n",
    "    \n",
    "    return conversations\n",
    "\n",
    "# 사용 예\n",
    "notebook_path = 'path/to/your/notebook.ipynb'\n",
    "extracted_conversations = extract_conversations_from_notebook(notebook_path)\n",
    "\n",
    "# MongoDB에 삽입\n",
    "from pymongo import MongoClient\n",
    "\n",
    "def insert_conversations(conversations):\n",
    "    client = MongoClient(\"mongodb://localhost:27017/\")\n",
    "    db = client[\"chatbot_training\"]\n",
    "    collection = db[\"conversations\"]\n",
    "    \n",
    "    result = collection.insert_many(conversations)\n",
    "    print(f\"Inserted {len(result.inserted_ids)} conversations\")\n",
    "\n",
    "insert_conversations(extracted_conversations)"
   ]
  }
 ],
 "metadata": {
  "kernelspec": {
   "display_name": "myenv",
   "language": "python",
   "name": "python3"
  },
  "language_info": {
   "codemirror_mode": {
    "name": "ipython",
    "version": 3
   },
   "file_extension": ".py",
   "mimetype": "text/x-python",
   "name": "python",
   "nbconvert_exporter": "python",
   "pygments_lexer": "ipython3",
   "version": "3.10.11"
  }
 },
 "nbformat": 4,
 "nbformat_minor": 2
}
