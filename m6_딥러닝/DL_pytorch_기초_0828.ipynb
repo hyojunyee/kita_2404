{
  "nbformat": 4,
  "nbformat_minor": 0,
  "metadata": {
    "colab": {
      "provenance": [],
      "mount_file_id": "1al4Cwvi7bREhe9HewRAirIycwsSXXZfz",
      "authorship_tag": "ABX9TyPOr699R5HIGsqrwBjLLSHv",
      "include_colab_link": true
    },
    "kernelspec": {
      "name": "python3",
      "display_name": "Python 3"
    },
    "language_info": {
      "name": "python"
    }
  },
  "cells": [
    {
      "cell_type": "markdown",
      "metadata": {
        "id": "view-in-github",
        "colab_type": "text"
      },
      "source": [
        "<a href=\"https://colab.research.google.com/github/hyojunyee/kita_2404/blob/main/m6_%EB%94%A5%EB%9F%AC%EB%8B%9D/DL_pytorch_%EA%B8%B0%EC%B4%88_0828.ipynb\" target=\"_parent\"><img src=\"https://colab.research.google.com/assets/colab-badge.svg\" alt=\"Open In Colab\"/></a>"
      ]
    },
    {
      "cell_type": "markdown",
      "source": [
        "## PyTorch vs. Tensorflow/Keras\n",
        "\n",
        "### 1. **PyTorch**\n",
        "\n",
        "#### 1.1. **개요**\n",
        "PyTorch는 Facebook의 AI Research Lab에서 개발한 오픈 소스 딥러닝 프레임워크입니다. Pythonic한 인터페이스와 동적 계산 그래프(dynamic computational graph) 특성 덕분에 학습 곡선이 상대적으로 완만하고, Python 스타일의 코드를 사용할 수 있어서 자연스럽게 익숙해질 수 있습니다. 주로 연구 커뮤니티에서 인기를 얻었고, 최근에는 산업적 사용도 점점 증가하고 있습니다.\n",
        "\n",
        "#### 1.2. **주요 특징**\n",
        "- **동적 계산 그래프 (Dynamic Computation Graph)**\n",
        "  - PyTorch의 가장 큰 특징 중 하나는 동적 계산 그래프입니다. 이를 통해 런타임에 그래프가 생성되므로, 코드 디버깅이나 변경이 훨씬 용이합니다. 이 특성 덕분에 PyTorch는 특히 연구에서 새로운 아이디어를 실험하기에 적합합니다.\n",
        "  \n",
        "- **직관적인 인터페이스**\n",
        "  - Pythonic한 코딩 스타일을 가지고 있으며, 익숙한 Python 문법을 사용합니다. 이로 인해 TensorFlow보다 코드 작성이 상대적으로 간결하고 직관적입니다.\n",
        "  \n",
        "- **TorchScript**\n",
        "  - PyTorch는 TorchScript를 사용하여 Python과 독립적으로 모델을 실행할 수 있게 해줍니다. 이는 모델을 실제 프로덕션 환경에 배포할 때 유용합니다.\n",
        "  \n",
        "- **Autograd**\n",
        "  - PyTorch의 Autograd 기능은 자동 미분을 처리하는데, 이를 통해 백프로퍼게이션 과정에서 파생되는 모든 미분을 자동으로 계산할 수 있습니다.\n",
        "\n",
        "- **커뮤니티**\n",
        "  - 연구 커뮤니티와 긴밀하게 연계되어 있어 많은 논문에서 PyTorch로 구현된 코드가 제공됩니다. 딥러닝 연구에 적합한 프레임워크로 자리 잡고 있습니다.\n",
        "\n",
        "### 2. **TensorFlow / Keras**\n",
        "\n",
        "#### 2.1. **개요**\n",
        "TensorFlow는 Google Brain 팀에서 개발한 오픈 소스 딥러닝 프레임워크로, Keras는 TensorFlow와 통합되어 사용되는 고수준 API입니다. TensorFlow는 생산 환경에서 대규모로 딥러닝 모델을 구축하고 배포하기에 적합하며, Keras는 사용자 친화적인 인터페이스를 제공하여 초보자들도 쉽게 사용할 수 있도록 설계되었습니다.\n",
        "\n",
        "#### 2.2. **주요 특징**\n",
        "- **정적 계산 그래프 (Static Computation Graph)**\n",
        "  - TensorFlow는 초기에는 정적 계산 그래프를 사용했습니다. 즉, 그래프를 먼저 정의하고 나중에 실행하는 방식으로, 한 번 그래프를 정의하면 고정되어 변형이 어렵습니다. 최근에는 TensorFlow 2.0 이후 동적 계산 그래프(Eager Execution)를 도입해 PyTorch처럼 동적 그래프를 지원합니다.\n",
        "  \n",
        "- **확장성과 배포**\n",
        "  - TensorFlow는 대규모 배포 환경에서 매우 강력합니다. TensorFlow Serving, TensorFlow Lite, TensorFlow.js 등 다양한 배포 옵션을 제공하여 모바일, 웹, 임베디드 디바이스까지 모델을 배포할 수 있습니다.\n",
        "  \n",
        "- **Keras (TensorFlow의 고수준 API)**\n",
        "  - Keras는 TensorFlow와 통합된 고수준 API로, 사용자 친화적이고 빠르게 모델을 설계, 구축, 학습할 수 있습니다. 특히 Keras는 초보자들이 쉽게 딥러닝 모델을 시작할 수 있게 해줍니다.\n",
        "  \n",
        "- **TensorBoard**\n",
        "  - TensorFlow는 강력한 시각화 도구인 TensorBoard를 제공합니다. 이를 통해 모델의 학습 과정을 실시간으로 모니터링하고, 그래프 및 파라미터의 변화를 시각적으로 확인할 수 있습니다.\n",
        "\n",
        "- **TensorFlow Hub**\n",
        "  - TensorFlow Hub는 사전 학습된 모델을 재사용할 수 있는 플랫폼으로, 연구자나 개발자들이 이미 학습된 모델을 쉽게 가져와 사용하거나 재학습할 수 있게 도와줍니다.\n",
        "\n",
        "### 3. **PyTorch와 TensorFlow/Keras의 비교**\n",
        "\n",
        "| **비교 항목**           | **PyTorch**                           | **TensorFlow/Keras**                |\n",
        "|------------------------|---------------------------------------|-------------------------------------|\n",
        "| **계산 그래프**         | 동적 계산 그래프 (Dynamic Graph)       | 정적 계산 그래프 (Static Graph) + 동적 지원 (Eager Execution) |\n",
        "| **코딩 스타일**         | Pythonic, 간결하고 직관적             | Keras: 간결, TensorFlow: 다소 복잡함 |\n",
        "| **배포 및 확장성**      | TorchScript로 배포 가능                | TensorFlow Serving, Lite, JS 등 다양한 배포 옵션 |\n",
        "| **자동 미분 (Autograd)**| 매우 직관적                            | 자동 미분 제공하지만, PyTorch만큼 직관적이지 않음 |\n",
        "| **성능**                | 연구 중심, 모델 실험에 적합            | 대규모 배포 환경에서 강력한 성능 제공 |\n",
        "| **커뮤니티**            | 연구 중심, 최신 논문 구현 많이 제공    | 산업계와 연구계 모두 널리 사용됨    |\n",
        "| **시각화 도구**         | TensorBoard 대안은 부족함              | TensorBoard 제공, 강력한 시각화 도구 |\n",
        "| **모바일 및 웹 지원**   | 비교적 미약한 지원                    | TensorFlow Lite, TensorFlow.js 등 폭넓은 지원 |\n",
        "| **프로덕션 환경 지원**  | TorchServe로 배포 가능하지만 한정적     | TensorFlow Extended(TFX)로 대규모 배포 지원 |\n",
        "\n",
        "### 4. **결론**\n",
        "\n",
        "- **PyTorch**는 직관적인 코드 작성과 동적 계산 그래프 덕분에 **연구 및 실험**에 적합합니다. 새로운 아이디어를 빠르게 실험하고 싶거나, 딥러닝 모델을 배우는 데 자연스럽게 접근하고 싶다면 PyTorch가 좋은 선택입니다.\n",
        "- **TensorFlow/Keras**는 **대규모 배포**와 **프로덕션 환경**에서 딥러닝 모델을 사용하는 데 더 적합합니다. 특히 TensorFlow는 다양한 배포 옵션과 확장성을 지원하며, Keras는 간결한 API로 초보자들이 쉽게 접근할 수 있는 장점이 있습니다.\n",
        "\n",
        "둘 다 매우 강력한 딥러닝 프레임워크로, 연구 목적인지, 대규모 배포 목적에 맞는지에 따라 선택할 수 있습니다."
      ],
      "metadata": {
        "id": "m_GMD9FSYv7Z"
      }
    },
    {
      "cell_type": "markdown",
      "source": [
        "PyTorch의 **동적 계산 그래프 (Dynamic Computation Graph)**는 딥러닝 모델을 구축하고 학습할 때 PyTorch가 제공하는 매우 중요한 기능 중 하나입니다. 이는 \"즉시 실행 (eager execution)\"이라고도 불리며, TensorFlow와 같은 프레임워크의 정적 계산 그래프(static computation graph)와 대비됩니다.\n",
        "\n",
        "### 동적 계산 그래프의 핵심 개념\n",
        "동적 계산 그래프는 학습 중에 그래프를 즉시 정의하고 실행하는 방식입니다. 즉, 계산을 수행할 때마다 새로운 그래프를 만들고, 이를 바로 실행하는 특징을 갖고 있습니다. 이를 통해 계산 과정 중 변수나 모델 구조의 변경이 매우 유연하게 이루어질 수 있습니다.\n",
        "\n",
        "#### 1. **즉시 실행 (Eager Execution)**\n",
        "PyTorch는 코드가 실행될 때마다 계산 그래프를 동적으로 생성하고, 이를 즉시 실행합니다. 즉, 딥러닝 모델에서 데이터를 전방 패스로 전달할 때, 해당 연산이 바로 수행되고 그 결과가 즉시 반환됩니다. 이런 즉시 실행 방식은 디버깅을 매우 용이하게 만들어 줍니다.\n",
        "\n",
        "예를 들어, 다음과 같은 코드를 생각해 봅시다:\n",
        "\n",
        "```python\n",
        "import torch\n",
        "\n",
        "x = torch.tensor(2.0, requires_grad=True)\n",
        "y = torch.tensor(3.0, requires_grad=True)\n",
        "\n",
        "z = x * y + y\n",
        "```\n",
        "\n",
        "여기서 `z`를 계산할 때 `x * y + y`가 바로 실행되고, 이 과정에서 계산 그래프가 동적으로 생성됩니다. 이후 `z.backward()`를 호출하면, PyTorch는 자동으로 그래프를 통해 미분을 수행하여 각 변수의 gradient를 계산합니다.\n",
        "\n",
        "#### 2. **유연성 (Flexibility)**\n",
        "동적 계산 그래프는 모델 구조를 즉석에서 정의하고, 계산 과정 중에도 그래프의 변경이 가능합니다. 이는 복잡한 구조를 가진 모델을 구현할 때 매우 유용합니다. 예를 들어, if문이나 for문을 통해 네트워크의 구조를 유연하게 변경할 수 있습니다.\n",
        "\n",
        "```python\n",
        "for i in range(5):\n",
        "    if i % 2 == 0:\n",
        "        z = z * x\n",
        "    else:\n",
        "        z = z + y\n",
        "```\n",
        "\n",
        "이 코드는 실행할 때마다 그래프의 구조가 바뀔 수 있는데, PyTorch의 동적 계산 그래프는 이러한 경우에도 문제없이 작동합니다. 이는 정적 계산 그래프에서 불가능하거나 복잡한 코드로 구현해야 하는 것을 동적 계산 그래프에서는 자연스럽게 구현할 수 있게 해줍니다.\n",
        "\n",
        "#### 3. **Autograd: 자동 미분 기능**\n",
        "PyTorch에서 동적 계산 그래프는 **Autograd** 기능과 밀접하게 연결되어 있습니다. Autograd는 계산 그래프를 추적하여, 미분이 필요한 연산에 대한 그래프를 자동으로 만들어 줍니다. 연산이 수행되면 PyTorch는 이를 기록하고, `backward()` 함수를 호출할 때 그래프를 따라 역전파를 통해 기울기(gradient)를 계산합니다.\n",
        "\n",
        "```python\n",
        "z.backward()  # z의 연산을 바탕으로 역전파 수행\n",
        "print(x.grad)  # x의 gradient 값 출력\n",
        "```\n",
        "\n",
        "Autograd는 동적으로 그래프를 구성하기 때문에, 계산 그래프는 전방 패스(forward pass) 중에 실시간으로 생성되고, 역전파(backward pass)가 끝나면 필요에 따라 버려집니다. 이는 메모리 효율성을 높이고, 메모리 관리를 쉽게 해줍니다.\n",
        "\n",
        "### 동적 계산 그래프의 장점\n",
        "- **디버깅이 용이함**: 계산이 즉시 실행되므로, 중간 결과를 쉽게 확인할 수 있어 디버깅 과정이 매우 직관적입니다. 오류가 발생하면 즉시 알 수 있습니다.\n",
        "- **유연한 모델 설계**: 반복문, 조건문 등을 사용해 네트워크 구조를 동적으로 변경할 수 있으며, 이는 매우 복잡한 모델을 쉽게 구현하는 데 도움을 줍니다.\n",
        "- **학습 시 효율적**: 필요할 때만 그래프가 생성되고 역전파에 사용되며, 이후 메모리에서 제거되므로 메모리 사용이 효율적입니다.\n",
        "\n",
        "### 정적 계산 그래프와의 차이점\n",
        "- **정적 계산 그래프 (TensorFlow, Theano)**는 모델을 먼저 정의한 후, 그래프 전체를 컴파일하여 실행합니다. 이런 방식은 실행 전에 최적화된 모델을 만들 수 있지만, 그래프를 수정하려면 다시 컴파일해야 하므로 덜 유연합니다.\n",
        "- 반면, **동적 계산 그래프 (PyTorch)**는 실행 시점에서 그래프를 생성하므로 더 유연하지만, 실행 속도는 정적 그래프에 비해 다소 느릴 수 있습니다. 하지만 최근에는 PyTorch에서도 정적 그래프처럼 최적화를 할 수 있는 방법이 연구되고 있습니다(예: TorchScript).\n",
        "\n",
        "### PyTorch의 동적 계산 그래프 작동 방식\n",
        "PyTorch의 동적 계산 그래프는 연산을 할 때마다 다음과 같은 과정을 거칩니다:\n",
        "\n",
        "1. **Tensor와 연산 정의**: 계산 그래프는 Tensor와 연산으로 구성됩니다. Tensor는 `requires_grad=True` 옵션을 통해 그라디언트를 추적할지 여부를 설정할 수 있습니다.\n",
        "2. **전방 패스 실행**: 전방 패스가 실행되면서 연산 결과가 생성되고, 그와 동시에 계산 그래프가 생성됩니다.\n",
        "3. **역전파 실행**: `backward()` 호출 시, 계산 그래프를 타고 내려가면서 그라디언트가 자동으로 계산됩니다.\n",
        "\n",
        "결론적으로, PyTorch의 동적 계산 그래프는 코드가 실행될 때마다 실시간으로 그래프를 구성하여 유연한 모델 설계와 디버깅을 가능하게 합니다. 이 특성 덕분에 PyTorch는 연구나 개발 환경에서 널리 사용되며, 특히 복잡하고 유연한 모델 설계에 적합한 딥러닝 프레임워크로 자리 잡았습니다."
      ],
      "metadata": {
        "id": "cJVrXVLfabTI"
      }
    },
    {
      "cell_type": "code",
      "execution_count": null,
      "metadata": {
        "colab": {
          "base_uri": "https://localhost:8080/"
        },
        "id": "b5yDRq1nYpRo",
        "outputId": "b0bb86c4-d345-41e3-d30f-198e8e46864b"
      },
      "outputs": [
        {
          "output_type": "execute_result",
          "data": {
            "text/plain": [
              "tensor(9., grad_fn=<AddBackward0>)"
            ]
          },
          "metadata": {},
          "execution_count": 5
        }
      ],
      "source": [
        "# 여기서 z를 계산할 때 x * y + y가 바로 실행되고, 이 과정에서 계산 그래프가 동적으로 생성\n",
        "# 이후 z.backward()를 호출하면, PyTorch는 자동으로 그래프를 통해 미분을 수행하여 각 변수의 gradient를 계산\n",
        "import torch\n",
        "\n",
        "x = torch.tensor(2.0, requires_grad=True)\n",
        "y = torch.tensor(3.0, requires_grad=True)\n",
        "\n",
        "z = x * y + y\n",
        "z"
      ]
    },
    {
      "cell_type": "code",
      "source": [
        "# 동적 계산 그래프는 모델 구조를 즉석해서 정의하고, 계산 과정 중에도 그래프의 변경이 가능\n",
        "# if 문이나, for 문을 통해 네트워크의 구조를 유연하게 변경할 수 있음\n",
        "for i in range(5):\n",
        "    if i % 2 == 0:\n",
        "        z = z * x\n",
        "    else:\n",
        "        z = z + y"
      ],
      "metadata": {
        "id": "uuP8VkHZctrN"
      },
      "execution_count": null,
      "outputs": []
    },
    {
      "cell_type": "code",
      "source": [
        "# autograd는 계산 그래프를 추적하여, 미분이 필요한 연산에 대한 그래프를 자동으로 만들어 줌\n",
        "# 연산이 수행되면 PyTorch는 이를 기록하고, backward() 함수를 호출할 때 그래프를 따라 역전파를 통해 기울기(gradient)를 계산\n",
        "z.backward()  # z의 연산을 바탕으로 역전파 수행\n",
        "print(x.grad)  # x의 gradient 값 출력"
      ],
      "metadata": {
        "colab": {
          "base_uri": "https://localhost:8080/"
        },
        "id": "Vu1psrwmcu20",
        "outputId": "adb62cc9-e7df-43c3-e86e-14cebb47a5d0"
      },
      "execution_count": null,
      "outputs": [
        {
          "output_type": "stream",
          "name": "stdout",
          "text": [
            "tensor(147.)\n"
          ]
        }
      ]
    },
    {
      "cell_type": "markdown",
      "source": [
        "계산 그래프의 사례를 간단한 수식과 함께 살펴볼 수 있습니다. 예를 들어, 다음과 같은 수식을 고려해 보겠습니다:\n",
        "\n",
        "\\[\n",
        "z = (x + y) * w\n",
        "\\]\n",
        "\n",
        "여기서 \\(x\\), \\(y\\), \\(w\\)는 입력 변수이고, \\(z\\)는 결과입니다. 이 수식을 계산 그래프로 나타내면, 각 연산이 그래프의 노드로 표현되고, 변수와 연산 사이의 의존 관계가 엣지로 연결됩니다. 이제 이 수식을 계산 그래프로 표현한 사례를 보여드리겠습니다:\n",
        "\n",
        "### 수식: \\( z = (x + y) * w \\)\n",
        "\n",
        "1. **입력 노드**: \\(x\\), \\(y\\), \\(w\\)는 그래프의 입력 변수입니다.\n",
        "2. **덧셈 연산 노드**: 먼저, \\(x\\)와 \\(y\\)를 더하는 연산이 일어납니다.\n",
        "3. **곱셈 연산 노드**: 그다음, 덧셈 결과와 \\(w\\)를 곱하는 연산이 일어납니다.\n",
        "4. **출력 노드**: 최종 결과인 \\(z\\)가 나옵니다.\n",
        "\n",
        "### 계산 그래프의 시각적 표현\n",
        "다음과 같이 계산 과정을 그래프로 나타낼 수 있습니다:\n",
        "\n",
        "```\n",
        "   x -----\n",
        "          |\n",
        "          + ----> (x + y) -----> * ----> z\n",
        "          |                      |\n",
        "   y -----                       w\n",
        "```\n",
        "\n",
        "여기서 각 단계는 다음과 같습니다:\n",
        "- **덧셈 연산**: \\(x + y\\)는 하나의 노드로 표현됩니다.\n",
        "- **곱셈 연산**: 그다음 덧셈 결과와 \\(w\\)의 곱이 또 다른 노드로 표현됩니다.\n",
        "- **출력**: 최종 결과인 \\(z\\)가 마지막에 나옵니다.\n",
        "\n",
        "### 역전파 과정\n",
        "이 계산 그래프는 **역전파** 과정에서 중요한 역할을 합니다. 예를 들어, 손실 함수에서 \\(z\\)에 대한 기울기를 계산할 때, 연쇄 법칙에 따라 각 연산에 대한 기울기를 차례대로 계산하여 전달합니다.\n",
        "\n",
        "1. **\\(z\\)에 대한 기울기 계산**: 먼저, \\(z\\)에 대한 손실 함수의 기울기를 구합니다.\n",
        "2. **곱셈 연산의 기울기**: \\(z\\)의 기울기를 \\(w\\)와 \\((x + y)\\) 각각에 대해 계산하여 전달합니다.\n",
        "3. **덧셈 연산의 기울기**: \\((x + y)\\)의 기울기를 \\(x\\)와 \\(y\\)에 대해 계산하여 전달합니다.\n",
        "\n",
        "이 과정에서 PyTorch와 같은 프레임워크는 자동으로 역전파를 수행해 각 파라미터에 대한 기울기를 구할 수 있습니다.\n",
        "\n",
        "### 더 복잡한 사례\n",
        "실제 딥러닝 모델에서는 이보다 훨씬 복잡한 계산 그래프가 형성됩니다. 예를 들어, **합성곱 신경망(CNN)**이나 **순환 신경망(RNN)**은 여러 층(layer)과 비선형 활성화 함수, 매트릭스 연산 등이 포함되어 있으며, 이러한 모든 연산이 하나의 거대한 계산 그래프로 연결됩니다. 각 층의 가중치와 입력 간의 연산들이 일련의 계산 그래프를 형성하고, 이 그래프를 통해 역전파가 이루어집니다.\n",
        "\n",
        "---\n",
        "\n",
        "### 요약\n",
        "계산 그래프는 모델의 연산을 시각적으로 표현한 것이며, 이 그래프를 통해 딥러닝 모델의 학습 과정에서 자동 미분과 역전파가 가능합니다."
      ],
      "metadata": {
        "id": "wuszMzKRdoxZ"
      }
    },
    {
      "cell_type": "markdown",
      "source": [
        "## 파이토치의 구성요소\n",
        "\n",
        "- `torch`: 메인 네임스페이스, 텐서 등의 다양한 수학 함수가 포함\n",
        "- `torch.autograd`: 자동 미분 기능을 제공하는 라이브러리\n",
        "- `torch.nn`: 신경망 구축을 위한 데이터 구조나 레이어 등의 라이브러리\n",
        "- `torch.multiprocessing`: 병럴처리 기능을 제공하는 라이브러리\n",
        "- `torch.optim`: SGD(Stochastic Gradient Descent)를 중심으로 한 파라미터 최적화 알고리즘 제공\n",
        "- `torch.utils`: 데이터 조작 등 유틸리티 기능 제공\n",
        "- `torch.onnx`: ONNX(Open Neural Network Exchange), 서로 다른 프레임워크 간의 모델을 공유할 때 사용"
      ],
      "metadata": {
        "id": "wqFwOkmdgkOI"
      }
    },
    {
      "cell_type": "markdown",
      "source": [
        "## 텐서(Tensors)\n",
        "\n",
        "* 데이터 표현을 위한 기본 구조로 텐서(tensor)를 사용\n",
        "* 텐서는 데이터를 담기위한 컨테이너(container)로서 일반적으로 수치형 데이터를 저장\n",
        "* 넘파이(NumPy)의 ndarray와 유사\n",
        "* GPU를 사용한 연산 가속 가능\n",
        "\n",
        "[ ndarray와 텐서 비교 ]\n",
        "- GPU 지원: PyTorch의 Tensor와 TensorFlow의 텐서는 GPU를 통한 가속을 지원. 이는 대규모 배열 연산에서 상당한 성능 향상을 가져올 수 있는 반면, NumPy ndarray는 기본적으로 CPU에서만 작동.\n",
        "- 자동 미분 지원: PyTorch와 TensorFlow는 딥러닝 모델 학습을 위해 자동 미분을 지원하는 반면, NumPy는 이러한 기능을 내장하고 있지 않다. 이는 신경망의 역전파와 같은 복잡한 연산을 구현할 때 중요한 차이점이다.\n",
        "- API 호환성: PyTorch와 TensorFlow/Keras는 NumPy와의 호환성을 중시하며, 많은 경우에 NumPy의 API를 모방. 이는 NumPy 사용자가 쉽게 이러한 프레임워크로 전환할 수 있도록 돕는다. 그러나 각 프레임워크는 자체적인 최적화와 기능을 제공하기 때문에, 모든 NumPy 연산이 그대로 사용될 수 있는 것은 아니다.\n",
        "\n",
        "[ PyTorch와 TensorFlow/Keras에서의 ndarray 사용 ]\n",
        "- PyTorch에서의 사용: PyTorch는 torch.from_numpy() 함수를 통해 NumPy ndarray를 PyTorch의 Tensor로 변환할 수 있다. 변환된 텐서는 원래 ndarray와 메모리를 공유하기 때문에, 한 객체의 변경이 다른 객체에도 반영된다. 반대로, .numpy() 메소드를 사용하여 PyTorch 텐서를 NumPy 배열로 변환할 수 있다.\n",
        "- TensorFlow/Keras에서의 사용: TensorFlow에서는 tf.convert_to_tensor() 함수를 사용하여 NumPy ndarray를 TensorFlow의 텐서로 변환할 수 있다. 이 변환된 텐서는 TensorFlow 연산에 사용될 수 있다. TensorFlow 텐서를 NumPy 배열로 변환하기 위해서는 .numpy() 메소드를 사용할 수 있다.\n",
        "\n",
        "PyTorch와 TensorFlow/Keras 모두 NumPy ndarray와의 상호 운용성을 지원하며, 이를 통해 각 프레임워크의 텐서로 쉽게 변환할 수 있다. 각 프레임워크의 텐서는 GPU 지원과 자동 미분과 같은 추가적인 기능을 제공하여 딥러닝 모델의 개발과 학습을 효율적으로 할 수 있게 한다."
      ],
      "metadata": {
        "id": "fj2B48c0hXww"
      }
    },
    {
      "cell_type": "markdown",
      "source": [
        "3D Tensor\n",
        "\n",
        "* 큐브(cube)와 같은 모양으로 세개의 축이 존재\n",
        "* 데이터가 연속된 시퀀스 데이터나 시간 축이 포함된 시계열 데이터에 해당\n",
        "* 주식 가격 데이터셋, 시간에 따른 질병 발병 데이터 등이 존재\n",
        "* 주로 샘플(samples), 타임스텝(timesteps), 특성(features)을 가진 구조로 사용\n",
        "\n",
        "4D Tensor\n",
        "\n",
        "* 4개의 축\n",
        "* 컬러 이미지 데이터가 대표적인 사례 (흑백 이미지 데이터는 3D Tensor로 가능)\n",
        "* 주로 샘플(samples), 높이(height), 너비(width), 컬러 채널(channel)을 가진 구조로 사용\n",
        "\n",
        "5D Tensor\n",
        "\n",
        "* 5개의 축\n",
        "* 비디오 데이터가 대표적인 사례\n",
        "* 주로 샘플(samples), 프레임(frames), 높이(height), 너비(width), 컬러 채널(channel)을 가진 구조로 사용"
      ],
      "metadata": {
        "id": "FdYK5mCHhZ0k"
      }
    },
    {
      "cell_type": "code",
      "source": [
        "# 텐서에 대한 수학 연산, 삼각함수, 비트 연산, 비교 연산, 집계 등 제공\n",
        "\n",
        "a = torch.randn(1,2) * 2 - 1    # 표준 정규 분포(평균 = 0, 표준편차 = 1)에서 가져온 값의 각 요소에 2를 곱한다음 1을 뺌\n",
        "print(a,'\\n')\n",
        "print(torch.abs(a),'\\n')        # 절대값\n",
        "print(torch.ceil(a),'\\n')       # 텐서 a의 요소에 천장함수를 적용\n",
        "print(torch.floor(a),'\\n')      # 텐서 a의 각 요소에 바닥함수를 적용\n",
        "print(torch.clamp(a,-0.5,0.5))  # '-0.5'이하의 값은 '-0.5'로 설정되고, '0.5'이상의 값은 '0.5'로 설정"
      ],
      "metadata": {
        "colab": {
          "base_uri": "https://localhost:8080/"
        },
        "id": "l5XW3g0alsHC",
        "outputId": "e985e78d-62a4-493e-f4f4-88ccd88b665a"
      },
      "execution_count": null,
      "outputs": [
        {
          "output_type": "stream",
          "name": "stdout",
          "text": [
            "tensor([[-0.7024, -0.3379]]) \n",
            "\n",
            "tensor([[0.7024, 0.3379]]) \n",
            "\n",
            "tensor([[-0., -0.]]) \n",
            "\n",
            "tensor([[-1., -1.]]) \n",
            "\n",
            "tensor([[-0.5000, -0.3379]])\n"
          ]
        }
      ]
    },
    {
      "cell_type": "markdown",
      "source": [
        "`in-place` 방식\n",
        "- in-place 방식으로 텐서의 값을 변경하는 연산 뒤에는 \"_\"가 붙음\n",
        "- `x.copy_(y), x.t_()`"
      ],
      "metadata": {
        "id": "eluVxJEvm5uv"
      }
    },
    {
      "cell_type": "code",
      "source": [
        "import torch\n",
        "\n",
        "x = torch.tensor([1.0, -1.0, 0.5])\n",
        "\n",
        "# 일반 연산 (새로운 텐서 생성)\n",
        "y = x.abs()     # 절대값을 구하지만 x는 그대로\n",
        "print(x)\n",
        "print(y,'\\n')\n",
        "\n",
        "# in-place 연산 (원본 텐서 변경)\n",
        "x.abs_()        # 기존의 텐서 x의 값을 직접 변경\n",
        "print(x)"
      ],
      "metadata": {
        "colab": {
          "base_uri": "https://localhost:8080/"
        },
        "id": "UqwmuaAQnIqM",
        "outputId": "fd7b2437-1a12-42b8-9642-0a959e50efa4"
      },
      "execution_count": null,
      "outputs": [
        {
          "output_type": "stream",
          "name": "stdout",
          "text": [
            "tensor([ 1.0000, -1.0000,  0.5000])\n",
            "tensor([1.0000, 1.0000, 0.5000]) \n",
            "\n",
            "tensor([1.0000, 1.0000, 0.5000])\n"
          ]
        }
      ]
    },
    {
      "cell_type": "code",
      "source": [
        "x = torch.rand(2,2)     # 0과 1사이의 값을 가지는 균등분포(continuous uniform distribution)로 부터 무작위로 생성된 행렬을 반환\n",
        "print(x)\n",
        "y = torch.rand(2,2)\n",
        "print(y)\n",
        "print()\n",
        "print(y.add(x))\n",
        "print()\n",
        "y.add_(x)               # _가 있는 add_는 메서드가 y 자체를 변경한다는 의미이며 y의 값이 변경\n",
        "print(y)"
      ],
      "metadata": {
        "colab": {
          "base_uri": "https://localhost:8080/"
        },
        "id": "7ztte-7lny8N",
        "outputId": "6b337c50-97fe-45cb-f836-5ad09eebe9ea"
      },
      "execution_count": null,
      "outputs": [
        {
          "output_type": "stream",
          "name": "stdout",
          "text": [
            "tensor([[0.9951, 0.4624],\n",
            "        [0.8319, 0.1268]])\n",
            "tensor([[0.4691, 0.8057],\n",
            "        [0.7390, 0.9817]])\n",
            "\n",
            "tensor([[1.4642, 1.2682],\n",
            "        [1.5709, 1.1085]])\n",
            "\n",
            "tensor([[1.4642, 1.2682],\n",
            "        [1.5709, 1.1085]])\n"
          ]
        }
      ]
    },
    {
      "cell_type": "markdown",
      "source": [
        "인덱싱(Indexing): Numpy 처럼 인덱싱 형태로 사용가능"
      ],
      "metadata": {
        "id": "w2Qlr5B2pNIn"
      }
    },
    {
      "cell_type": "code",
      "source": [
        "import torch\n",
        "x = torch.Tensor([[1,2],[3,4]])\n",
        "print(x)\n",
        "\n",
        "print(x[0,0])\n",
        "print(x[0,1])\n",
        "print(x[1,0])\n",
        "print(x[1,1])\n",
        "print(x[:,0])\n",
        "print(x[:,1])\n",
        "print(x[0,:])\n",
        "print(x[1,:])"
      ],
      "metadata": {
        "colab": {
          "base_uri": "https://localhost:8080/"
        },
        "id": "cNSjy7azpMXO",
        "outputId": "ad87792b-2543-4eb1-f573-502fba7ccb10"
      },
      "execution_count": null,
      "outputs": [
        {
          "output_type": "stream",
          "name": "stdout",
          "text": [
            "tensor([[1., 2.],\n",
            "        [3., 4.]])\n",
            "tensor(1.)\n",
            "tensor(2.)\n",
            "tensor(3.)\n",
            "tensor(4.)\n",
            "tensor([1., 3.])\n",
            "tensor([2., 4.])\n",
            "tensor([1., 2.])\n",
            "tensor([3., 4.])\n"
          ]
        }
      ]
    },
    {
      "cell_type": "markdown",
      "source": [
        "º 랜덤한 값을 가지는 텐서 생성\n",
        "\n",
        "1. torch.rand() : 0과 1 사이의 숫자를 균등하게 생성\n",
        "\n",
        "2. torch.rand_like() : 사이즈를 튜플로 입력하지 않고 기존의 텐서로 정의\n",
        "\n",
        "3. torch.randn() : 평균이 0이고 표준편차가 1인 가우시안 정규분포를 이용해 생성\n",
        "\n",
        "4. torch.randn_like() :  사이즈를 튜플로 입력하지 않고 기존의 텐서로 정의\n",
        "\n",
        "5. torch.randint() : 주어진 범위 내의 정수를 균등하게 생성\n",
        "\n",
        "6. torch.randint_like() : 사이즈를 튜플로 입력하지 않고 기존의 텐서로 정의\n",
        "\n",
        "7. torch.randperm() : 주어진 범위 내의 정수를 랜덤하게 생성"
      ],
      "metadata": {
        "id": "9lw_LiQhpsNf"
      }
    },
    {
      "cell_type": "code",
      "source": [
        "import torch\n",
        "\n",
        "# Create a tensor with random values\n",
        "tensor_rand = torch.rand(3, 3)\n",
        "existing_tensor = torch.tensor([[1, 2], [3, 4]])\n",
        "tensor_rand_like = torch.rand_like(existing_tensor, dtype=torch.float)\n",
        "\n",
        "tensor_randn = torch.randn(3, 3)\n",
        "tensor_randn_like = torch.randn_like(existing_tensor, dtype=torch.float)\n",
        "\n",
        "tensor_randint = torch.randint(0, 10, (3, 3))       # 0-9사이 정수\n",
        "# tensor_randint = torch.randint(low=0, high=10, size=(3, 3))\n",
        "tensor_randint_like = torch.randint_like(existing_tensor, low=0, high=10, dtype=torch.int)\n",
        "tensor_randperm = torch.randperm(10)        # 0부터 n-1까지의 정수를 무작위로 섞은 순열(permutation)을 반환, 중복 없는 무작위 정수 시퀀스\n",
        "\n",
        "tensor_rand, tensor_rand_like, tensor_randn, tensor_randn_like, tensor_randint, tensor_randint_like, tensor_randperm"
      ],
      "metadata": {
        "colab": {
          "base_uri": "https://localhost:8080/"
        },
        "id": "xBpWytk4ps5p",
        "outputId": "c93d7ab6-e488-4734-9cb2-f270606be696"
      },
      "execution_count": null,
      "outputs": [
        {
          "output_type": "execute_result",
          "data": {
            "text/plain": [
              "(tensor([[0.4183, 0.6045, 0.6717],\n",
              "         [0.5162, 0.0853, 0.7785],\n",
              "         [0.3619, 0.3752, 0.5242]]),\n",
              " tensor([[0.4978, 0.1513],\n",
              "         [0.2169, 0.6421]]),\n",
              " tensor([[-0.7336, -0.4829, -0.3446],\n",
              "         [ 0.4292, -0.4445,  0.5005],\n",
              "         [-0.5562,  1.4029,  0.7245]]),\n",
              " tensor([[-0.4690,  1.1421],\n",
              "         [-1.9188,  0.3047]]),\n",
              " tensor([[2, 9, 4],\n",
              "         [5, 2, 2],\n",
              "         [1, 9, 9]]),\n",
              " tensor([[5, 9],\n",
              "         [1, 9]], dtype=torch.int32),\n",
              " tensor([3, 4, 7, 1, 8, 0, 2, 9, 6, 5]))"
            ]
          },
          "metadata": {},
          "execution_count": 22
        }
      ]
    },
    {
      "cell_type": "markdown",
      "source": [
        "º 특정한 값을 가지는 텐서 생성\n",
        "\n",
        "1. torch.arange() : 주어진 범위 내의 정수를 순서대로 생성\n",
        "\n",
        "2. torch.ones() : 주어진 사이즈의 1로 이루어진 텐서 생성\n",
        "\n",
        "3. torch.zeros() : 주어진 사이즈의 0으로 이루어진 텐서 생성\n",
        "\n",
        "4. torch.ones_like() : 사이즈를 튜플로 입력하지 않고 기존의 텐서로 정의\n",
        "\n",
        "5. torch.zeros_like() : 사이즈를 튜플로 입력하지 않고 기존의 텐서로 정의\n",
        "\n",
        "6. torch.linspace() : 시작점과 끝점을 주어진 갯수만큼 균등하게 나눈 간격점을 행벡터로 출력\n",
        "\n",
        "7. torch.logspace() : 시작점과 끝점을 주어진 갯수만큼 로그간격으로 나눈 간격점을 행벡터로 출력"
      ],
      "metadata": {
        "id": "NjhBykE5sc2S"
      }
    },
    {
      "cell_type": "code",
      "source": [
        "# create a tensor with a specific value\n",
        "tensor_arange = torch.arange(0, 10)\n",
        "tensor_ones = torch.ones(3, 3)\n",
        "tensor_zeros = torch.zeros(3, 3)\n",
        "tensor_ones_like = torch.ones_like(existing_tensor)\n",
        "tensor_zeros_like = torch.zeros_like(existing_tensor)\n",
        "tensor_linspace = torch.linspace(0, 10, steps=5)\n",
        "tensor_logspace = torch.logspace(start=0, end=1, steps=5)\n",
        "\n",
        "tensor_arange, tensor_ones, tensor_zeros, tensor_ones_like, tensor_zeros_like, tensor_linspace, tensor_logspace"
      ],
      "metadata": {
        "colab": {
          "base_uri": "https://localhost:8080/"
        },
        "id": "-vPie6rNsnW_",
        "outputId": "f6f50ad0-be4f-4e32-dcea-2101e5e7e9b6"
      },
      "execution_count": null,
      "outputs": [
        {
          "output_type": "execute_result",
          "data": {
            "text/plain": [
              "(tensor([0, 1, 2, 3, 4, 5, 6, 7, 8, 9]),\n",
              " tensor([[1., 1., 1.],\n",
              "         [1., 1., 1.],\n",
              "         [1., 1., 1.]]),\n",
              " tensor([[0., 0., 0.],\n",
              "         [0., 0., 0.],\n",
              "         [0., 0., 0.]]),\n",
              " tensor([[1, 1],\n",
              "         [1, 1]]),\n",
              " tensor([[0, 0],\n",
              "         [0, 0]]),\n",
              " tensor([ 0.0000,  2.5000,  5.0000,  7.5000, 10.0000]),\n",
              " tensor([ 1.0000,  1.7783,  3.1623,  5.6234, 10.0000]))"
            ]
          },
          "metadata": {},
          "execution_count": 32
        }
      ]
    },
    {
      "cell_type": "markdown",
      "source": [
        "`view`: 텐서의 크기(size)나 모양(shape)을 변경\n",
        "- 기본적으로 변경 전과 후에 텐서 안의 원소 개수가 유지되어야 함\n",
        "- -1로 설정되면 계산을 통해 해당 크기 값을 유추"
      ],
      "metadata": {
        "id": "_cedyKcvtn6J"
      }
    },
    {
      "cell_type": "code",
      "source": [
        "x = torch.randn(4,5)\n",
        "print(x, '\\n')\n",
        "\n",
        "y = x.view(20)      # view() 함수는 텐서의 크기를 변경\n",
        "print(y,'\\n')\n",
        "\n",
        "z = x.view(5,-1)\n",
        "print(z)"
      ],
      "metadata": {
        "colab": {
          "base_uri": "https://localhost:8080/"
        },
        "id": "tURDtCrct0Q5",
        "outputId": "c157eeae-2c07-4510-f63e-ca1607176b24"
      },
      "execution_count": null,
      "outputs": [
        {
          "output_type": "stream",
          "name": "stdout",
          "text": [
            "tensor([[-1.8137,  1.0326, -0.3347, -0.4091, -2.2303],\n",
            "        [-1.4992,  0.7980,  0.1365, -0.6423,  1.0518],\n",
            "        [ 0.6739,  1.4180,  1.3641,  1.2412,  2.3225],\n",
            "        [-0.6015, -0.4342, -0.2413,  1.7974, -0.3516]]) \n",
            "\n",
            "tensor([-1.8137,  1.0326, -0.3347, -0.4091, -2.2303, -1.4992,  0.7980,  0.1365,\n",
            "        -0.6423,  1.0518,  0.6739,  1.4180,  1.3641,  1.2412,  2.3225, -0.6015,\n",
            "        -0.4342, -0.2413,  1.7974, -0.3516]) \n",
            "\n",
            "tensor([[-1.8137,  1.0326, -0.3347, -0.4091],\n",
            "        [-2.2303, -1.4992,  0.7980,  0.1365],\n",
            "        [-0.6423,  1.0518,  0.6739,  1.4180],\n",
            "        [ 1.3641,  1.2412,  2.3225, -0.6015],\n",
            "        [-0.4342, -0.2413,  1.7974, -0.3516]])\n"
          ]
        }
      ]
    },
    {
      "cell_type": "code",
      "source": [
        "# 'itme': 텐서에 값이 단 하나라도 존재하면 숫자값을 얻을 수 있음\n",
        "x = torch.randn(1)\n",
        "print(x, '\\n')\n",
        "print(x.item(), '\\n')\n",
        "print(x.dtype)"
      ],
      "metadata": {
        "colab": {
          "base_uri": "https://localhost:8080/"
        },
        "id": "9NdDTiqOugpI",
        "outputId": "3d4ed40c-0431-49c8-9832-e31bd5db38ec"
      },
      "execution_count": null,
      "outputs": [
        {
          "output_type": "stream",
          "name": "stdout",
          "text": [
            "tensor([-1.3239]) \n",
            "\n",
            "-1.323883056640625 \n",
            "\n",
            "torch.float32\n"
          ]
        }
      ]
    },
    {
      "cell_type": "markdown",
      "source": [
        "squeeze() 함수는 크기가 1인 입력 텐서의 모든 차원을 제거하는 데 사용\n",
        "- dim이 제공되지 않으면 squeeze()는 텐서에서 크기 1의 모든 차원을 제거\n",
        "- dim이 제공되면 크기가 1인 경우에만 지정된 차원만 제거. 즉 (1, 2, 1, 3)인 텐서가 있고 dim이 2이면 결과의 크기는 (1, 2, 3)"
      ],
      "metadata": {
        "id": "FDyXgWm7vHLH"
      }
    },
    {
      "cell_type": "code",
      "source": [
        "# 'squeeze': 차원을 축소(제거)\n",
        "tensor = torch.rand(1,3,3)\n",
        "print(tensor)\n",
        "print(tensor.shape,'\\n')\n",
        "\n",
        "tensor_squeezed = tensor.squeeze()\n",
        "print(tensor_squeezed)\n",
        "print(tensor_squeezed.shape)"
      ],
      "metadata": {
        "colab": {
          "base_uri": "https://localhost:8080/"
        },
        "id": "HU2yOUaIvKL_",
        "outputId": "6f44db4e-f35b-4cbf-9b20-f28c1a5c62a4"
      },
      "execution_count": null,
      "outputs": [
        {
          "output_type": "stream",
          "name": "stdout",
          "text": [
            "tensor([[[0.8938, 0.7754, 0.4011],\n",
            "         [0.7428, 0.7116, 0.2174],\n",
            "         [0.6883, 0.9529, 0.2115]]])\n",
            "torch.Size([1, 3, 3]) \n",
            "\n",
            "tensor([[0.8938, 0.7754, 0.4011],\n",
            "        [0.7428, 0.7116, 0.2174],\n",
            "        [0.6883, 0.9529, 0.2115]])\n",
            "torch.Size([3, 3])\n"
          ]
        }
      ]
    },
    {
      "cell_type": "code",
      "source": [
        "tensor = torch.rand(1,2,1,3)\n",
        "print(tensor)\n",
        "print(tensor.shape,'\\n')\n",
        "\n",
        "tensor_squeezed = tensor.squeeze(dim=0)\n",
        "print(tensor_squeezed)\n",
        "print(tensor_squeezed.shape)"
      ],
      "metadata": {
        "colab": {
          "base_uri": "https://localhost:8080/"
        },
        "id": "fA09gU9DvoHf",
        "outputId": "09061bb1-f548-4f28-8159-f2e6cf5ed3ed"
      },
      "execution_count": null,
      "outputs": [
        {
          "output_type": "stream",
          "name": "stdout",
          "text": [
            "tensor([[[[0.4850, 0.3418, 0.2135]],\n",
            "\n",
            "         [[0.7812, 0.4126, 0.0670]]]])\n",
            "torch.Size([1, 2, 1, 3]) \n",
            "\n",
            "tensor([[[0.4850, 0.3418, 0.2135]],\n",
            "\n",
            "        [[0.7812, 0.4126, 0.0670]]])\n",
            "torch.Size([2, 1, 3])\n"
          ]
        }
      ]
    },
    {
      "cell_type": "markdown",
      "source": [
        "tensor.unsqueeze(dim=2)\n",
        "\n",
        "- unsqueeze 함수는 텐서에 새로운 차원을 추가. 여기서 dim=2는 새로운 차원이 추가될 위치를 나타내며 기존 텐서의 모든 차원의 인덱스를 증가시키고, 새로운 차원은 dim=2에 위치.\n",
        "\n",
        "- 원래 텐서의 모양(shape)이 (3, 4)이었다면, unsqueeze(dim=2)를 적용한 후의 모양은 (3, 4, 1)이 됩니다. 따라서, 이 코드에서는 기존 텐서에 1차원을 추가"
      ],
      "metadata": {
        "id": "7pl_nC5T1sZq"
      }
    },
    {
      "cell_type": "code",
      "source": [
        "t = torch.rand(3,3)\n",
        "print(t)\n",
        "print(t.shape,'\\n')\n",
        "\n",
        "t_unsqueezed = t.unsqueeze(dim=0)\n",
        "print(t_unsqueezed)\n",
        "print(t_unsqueezed.shape)"
      ],
      "metadata": {
        "colab": {
          "base_uri": "https://localhost:8080/"
        },
        "id": "jshE8-t-1-Cs",
        "outputId": "51bfd778-21aa-4456-a222-a39635bf3702"
      },
      "execution_count": null,
      "outputs": [
        {
          "output_type": "stream",
          "name": "stdout",
          "text": [
            "tensor([[0.4609, 0.8521, 0.5052],\n",
            "        [0.5645, 0.4815, 0.9795],\n",
            "        [0.4563, 0.7472, 0.8604]])\n",
            "torch.Size([3, 3]) \n",
            "\n",
            "tensor([[[0.4609, 0.8521, 0.5052],\n",
            "         [0.5645, 0.4815, 0.9795],\n",
            "         [0.4563, 0.7472, 0.8604]]])\n",
            "torch.Size([1, 3, 3])\n"
          ]
        }
      ]
    },
    {
      "cell_type": "markdown",
      "source": [
        "Q. 아래 텐서를 torch.Size([3,5])로 변경하세요"
      ],
      "metadata": {
        "id": "6ulSgZ1x2gqB"
      }
    },
    {
      "cell_type": "code",
      "source": [
        "import torch\n",
        "\n",
        "# 초기 텐서 생성\n",
        "tensor_for_sqeeze = torch.randn(1, 3, 1, 5)\n",
        "print(f\"차원 축소 전 텐서 (squeeze 전):\\n{tensor_for_sqeeze}\\n\")\n",
        "print(f\"차원 축소 전 텐서의 형태: {tensor_for_sqeeze.shape}\")"
      ],
      "metadata": {
        "colab": {
          "base_uri": "https://localhost:8080/"
        },
        "id": "1ZfRW7nI2ObV",
        "outputId": "bb6ecfd7-83e6-4f51-8a6b-d5fafcc44691"
      },
      "execution_count": null,
      "outputs": [
        {
          "output_type": "stream",
          "name": "stdout",
          "text": [
            "차원 축소 전 텐서 (squeeze 전):\n",
            "tensor([[[[ 2.1818, -1.1052, -0.3297,  1.4393, -0.6001]],\n",
            "\n",
            "         [[ 0.2871,  0.6994,  0.5284, -1.1785, -1.2171]],\n",
            "\n",
            "         [[-0.4967,  0.5321, -0.3468,  0.6163, -1.8507]]]])\n",
            "\n",
            "차원 축소 전 텐서의 형태: torch.Size([1, 3, 1, 5])\n"
          ]
        }
      ]
    },
    {
      "cell_type": "code",
      "source": [
        "# torch.squeeze()는 모든 크기의 1인 차원을 자동으로 제거하지만, 특정 차원만 제거하고 싶다면 차원을 지정할 수 도 있음\n",
        "squeezed_tensor = torch.squeeze(tensor_for_sqeeze)\n",
        "print(squeezed_tensor.shape)"
      ],
      "metadata": {
        "colab": {
          "base_uri": "https://localhost:8080/"
        },
        "id": "0J5a-Ojd2-Uv",
        "outputId": "0ff127e1-ebee-4a79-fc71-780bc4a35f02"
      },
      "execution_count": null,
      "outputs": [
        {
          "output_type": "stream",
          "name": "stdout",
          "text": [
            "torch.Size([3, 5])\n"
          ]
        }
      ]
    },
    {
      "cell_type": "markdown",
      "source": [
        "Q. 아래 텐서를 torch.Size([1,3,5])로 변경하세요"
      ],
      "metadata": {
        "id": "Of29lP7c3apr"
      }
    },
    {
      "cell_type": "code",
      "source": [
        "unsqueezed_tensor = torch.unsqueeze(squeezed_tensor, dim=0)         # 0번째 차원에 추가\n",
        "print(unsqueezed_tensor.shape)"
      ],
      "metadata": {
        "colab": {
          "base_uri": "https://localhost:8080/"
        },
        "id": "WE1c5eaA3aA_",
        "outputId": "24695178-a1a0-42d7-d4b6-49465941ec2a"
      },
      "execution_count": null,
      "outputs": [
        {
          "output_type": "stream",
          "name": "stdout",
          "text": [
            "torch.Size([1, 3, 5])\n"
          ]
        }
      ]
    },
    {
      "cell_type": "markdown",
      "source": [
        "stack은 새로운 차원을 추가하여 텐서들을 결합하는 반면, cat은 기존 차원을 따라 텐서들을 연결\n",
        "\n",
        "- stack : torch.stack()은 새로운 차원을 추가한 후 텐서를 결합합니다. 즉, 텐서들의 차원 수가 1 증가하며, 지정된 차원에 새로운 차원을 추가한 뒤 해당 차원을 따라 텐서들을 쌓습니다.\n",
        "- cat: torch.cat()은 기존의 차원을 따라 텐서들을 연결합니다. 즉, 텐서의 차원 수는 그대로 유지되며, 지정된 차원(axis)에서 텐서들이 연결됩니다."
      ],
      "metadata": {
        "id": "6TVJNG3qV_Iw"
      }
    },
    {
      "cell_type": "code",
      "source": [
        "# 자동으로 데이터타입 추론\n",
        "t = torch.tensor([1,4])     # -> int\n",
        "# t = torch.tensor([1,4], dtype=torch.float32)\n",
        "print(t, t.dtype)\n",
        "# float32가 기본형\n",
        "f = torch.FloatTensor([2, 1])\n",
        "print(f, f.dtype)"
      ],
      "metadata": {
        "colab": {
          "base_uri": "https://localhost:8080/"
        },
        "id": "dK3b9x9vXqLG",
        "outputId": "49938f7f-06ed-4380-dbce-d8cb08276c1d"
      },
      "execution_count": 8,
      "outputs": [
        {
          "output_type": "stream",
          "name": "stdout",
          "text": [
            "tensor([1, 4]) torch.int64\n",
            "tensor([2., 1.]) torch.float32\n"
          ]
        }
      ]
    },
    {
      "cell_type": "code",
      "source": [
        "import torch\n",
        "\n",
        "x = torch.FloatTensor([1, 4])\n",
        "print(x)\n",
        "y = torch.FloatTensor([2, 5])\n",
        "print(y)\n",
        "z = torch.FloatTensor([3, 6])\n",
        "print(z)\n",
        "print()\n",
        "print(torch.stack([x, y, z]))"
      ],
      "metadata": {
        "colab": {
          "base_uri": "https://localhost:8080/"
        },
        "id": "no63-0bKV_Z0",
        "outputId": "86a5bb59-acb2-4eb5-a1b7-205bfb03727b"
      },
      "execution_count": 2,
      "outputs": [
        {
          "output_type": "stream",
          "name": "stdout",
          "text": [
            "tensor([1., 4.])\n",
            "tensor([2., 5.])\n",
            "tensor([3., 6.])\n",
            "\n",
            "tensor([[1., 4.],\n",
            "        [2., 5.],\n",
            "        [3., 6.]])\n"
          ]
        }
      ]
    },
    {
      "cell_type": "code",
      "source": [
        "a = torch.randn(1,3,3)\n",
        "print(a,'\\n')\n",
        "b = torch.randn(1,3,3)\n",
        "print(b,'\\n')\n",
        "c = torch.cat((a,b),dim=0)\n",
        "print(c,'\\n')\n",
        "print(c.size())"
      ],
      "metadata": {
        "colab": {
          "base_uri": "https://localhost:8080/"
        },
        "id": "eGiW8AcBWgWu",
        "outputId": "e320b403-0540-41e0-8de3-e4633db8349e"
      },
      "execution_count": 4,
      "outputs": [
        {
          "output_type": "stream",
          "name": "stdout",
          "text": [
            "tensor([[[-0.5083,  0.0223, -1.1216],\n",
            "         [-0.9580, -1.7182,  1.4567],\n",
            "         [ 0.5060, -1.0935,  0.5599]]]) \n",
            "\n",
            "tensor([[[-0.9850, -0.1821, -0.5363],\n",
            "         [ 2.3360, -0.7023,  1.1049],\n",
            "         [-0.6174,  0.5637,  1.7978]]]) \n",
            "\n",
            "tensor([[[-0.5083,  0.0223, -1.1216],\n",
            "         [-0.9580, -1.7182,  1.4567],\n",
            "         [ 0.5060, -1.0935,  0.5599]],\n",
            "\n",
            "        [[-0.9850, -0.1821, -0.5363],\n",
            "         [ 2.3360, -0.7023,  1.1049],\n",
            "         [-0.6174,  0.5637,  1.7978]]]) \n",
            "\n",
            "torch.Size([2, 3, 3])\n"
          ]
        }
      ]
    },
    {
      "cell_type": "markdown",
      "source": [
        "chunk: torch.chunk()는 텐서를 주어진 개수의 균등한 크기로 나눕니다. 나누어진 텐서들의 크기는 가능한 한 동일하게 유지되며, 전체 크기를 나누어 떨어지지 않으면 마지막 텐서는 더 작은 크기가 될 수 있습니다.(몇 개로 나눌 것인가?)\n",
        "\n",
        "split: torch.split()은 텐서를 주어진 크기를 기준으로 나눕니다. 분할되는 각 텐서의 크기를 직접 지정할 수 있습니다. 크기가 균등하지 않아도 되며, 마지막 텐서의 크기는 자동으로 조정됩니다. (텐서의 크기는 몇인가?)"
      ],
      "metadata": {
        "id": "2F-luTF7Y6TB"
      }
    },
    {
      "cell_type": "code",
      "source": [
        "tensor = torch.rand(3,6)\n",
        "print(tensor, '\\n')\n",
        "\n",
        "t1, t2 = torch.chunk(tensor, 2, dim=1)\n",
        "# t1, t2, t3 = torch.chunk(tensor, 3, dim=1)\n",
        "print(t1, t1.shape, '\\n')\n",
        "print(t2)\n",
        "# print('\\n', t3)"
      ],
      "metadata": {
        "colab": {
          "base_uri": "https://localhost:8080/"
        },
        "id": "ajFiApkoY5P9",
        "outputId": "4e4b5a02-f0aa-443f-abef-e883929cec18"
      },
      "execution_count": 22,
      "outputs": [
        {
          "output_type": "stream",
          "name": "stdout",
          "text": [
            "tensor([[0.0968, 0.3138, 0.8406, 0.0695, 0.6742, 0.4491],\n",
            "        [0.5988, 0.2266, 0.0277, 0.8785, 0.5912, 0.2225],\n",
            "        [0.5542, 0.0092, 0.3249, 0.8001, 0.8575, 0.4170]]) \n",
            "\n",
            "tensor([[0.0968, 0.3138, 0.8406],\n",
            "        [0.5988, 0.2266, 0.0277],\n",
            "        [0.5542, 0.0092, 0.3249]]) torch.Size([3, 3]) \n",
            "\n",
            "tensor([[0.0695, 0.6742, 0.4491],\n",
            "        [0.8785, 0.5912, 0.2225],\n",
            "        [0.8001, 0.8575, 0.4170]])\n"
          ]
        }
      ]
    },
    {
      "cell_type": "code",
      "source": [
        "tensor = torch.rand(3,6)\n",
        "# t1, t2 = torch.split(tensor, 3, dim=1)        # -> 활성화시 t3열 주석처리 필요\n",
        "t1, t2, t3 = torch.split(tensor, 2, dim=1)\n",
        "\n",
        "print(tensor, '\\n')\n",
        "print(t1, t1.shape, '\\n')\n",
        "print(t2, '\\n')\n",
        "print(t3, '\\n')"
      ],
      "metadata": {
        "colab": {
          "base_uri": "https://localhost:8080/"
        },
        "id": "XjcEn9_BaOFF",
        "outputId": "96499faf-d6da-41e1-b1bc-0f66b2b2530c"
      },
      "execution_count": 26,
      "outputs": [
        {
          "output_type": "stream",
          "name": "stdout",
          "text": [
            "tensor([[0.4967, 0.2335, 0.4901, 0.4771, 0.8303, 0.1841],\n",
            "        [0.2084, 0.1260, 0.1732, 0.0628, 0.1526, 0.4523],\n",
            "        [0.1863, 0.1953, 0.9256, 0.9362, 0.2252, 0.8727]]) \n",
            "\n",
            "tensor([[0.4967, 0.2335],\n",
            "        [0.2084, 0.1260],\n",
            "        [0.1863, 0.1953]]) torch.Size([3, 2]) \n",
            "\n",
            "tensor([[0.4901, 0.4771],\n",
            "        [0.1732, 0.0628],\n",
            "        [0.9256, 0.9362]]) \n",
            "\n",
            "tensor([[0.8303, 0.1841],\n",
            "        [0.1526, 0.4523],\n",
            "        [0.2252, 0.8727]]) \n",
            "\n"
          ]
        }
      ]
    },
    {
      "cell_type": "markdown",
      "source": [
        "### PyTorch 데이터 타입\n",
        "PyTorch에서 Tensor는 다양한 데이터 타입을 가질 수 있으며, 각 데이터 타입은 Tensor의 저장 및 연산 방식에 영향을 미칩니다. PyTorch에서 지원하는 주요 데이터 타입은 각기 다른 크기와 표현 방식으로 데이터를 처리하는 데 사용되며, 특히 GPU와 CPU 간의 효율적인 메모리 사용과 성능 최적화에 중요합니다.\n",
        "\n",
        "아래는 PyTorch에서 지원하는 주요 데이터 타입들을 정리한 표입니다.\n",
        "\n",
        "| 데이터 타입                | 설명                              | 약어  |\n",
        "|----------------------------|-----------------------------------|-------|\n",
        "| `torch.float32` (기본값)    | 32비트 부동 소수점                | `torch.float` 또는 `torch.FloatTensor` |\n",
        "| `torch.float64`             | 64비트 부동 소수점 (double precision) | `torch.double` 또는 `torch.DoubleTensor` |\n",
        "| `torch.float16`             | 16비트 부동 소수점 (half precision) | `torch.half` 또는 `torch.HalfTensor` |\n",
        "| `torch.int8`                | 8비트 정수                       | `torch.int8` |\n",
        "| `torch.uint8`               | 8비트 부호 없는 정수             | `torch.uint8` |\n",
        "| `torch.int16`               | 16비트 정수                      | `torch.short` 또는 `torch.ShortTensor` |\n",
        "| `torch.int32`               | 32비트 정수                      | `torch.int` 또는 `torch.IntTensor` |\n",
        "| `torch.int64`               | 64비트 정수 (long precision)     | `torch.long` 또는 `torch.LongTensor` |\n",
        "| `torch.bool`                | Boolean 타입 (True/False)         | `torch.bool` |\n",
        "| `torch.bfloat16`            | 16비트 블록 부동 소수점 (bfloat16) | `torch.bfloat16` |\n",
        "\n",
        "### 데이터 타입 설명\n",
        "\n",
        "1. **부동 소수점 타입 (Floating-Point Types)**\n",
        "   - `torch.float32` (기본값): 32비트 부동 소수점 타입입니다. 딥러닝에서 일반적으로 사용되는 데이터 타입이며, 많은 연산의 기본 데이터 타입입니다.\n",
        "   - `torch.float64`: 64비트 부동 소수점 타입으로, 더 높은 정밀도를 필요로 하는 연산에 사용됩니다. 메모리 사용량은 `torch.float32`에 비해 2배이지만, 연산 속도는 느릴 수 있습니다.\n",
        "   - `torch.float16`: 16비트 부동 소수점 타입으로, 메모리 사용량을 줄이고 빠른 연산을 위해 사용됩니다. 주로 GPU에서 사용되며, 정밀도가 낮아 질 수 있지만, 최근의 GPU들은 이를 효율적으로 처리합니다.\n",
        "   - `torch.bfloat16`: 16비트 블록 부동 소수점 타입으로, 부동 소수점보다 적은 비트로 표현하지만, 적은 정밀도로도 더 넓은 범위를 표현할 수 있습니다. 주로 메모리 최적화와 성능 향상 목적으로 사용됩니다.\n",
        "\n",
        "2. **정수 타입 (Integer Types)**\n",
        "   - `torch.int8`: 8비트 정수 타입으로, 매우 작은 메모리 공간을 차지하는 정수 연산에 사용됩니다.\n",
        "   - `torch.uint8`: 8비트 부호 없는 정수 타입으로, 음수를 표현하지 않고 0에서 255 범위의 양수만 표현하는 정수형입니다. 주로 이미지 데이터에서 픽셀 값으로 사용됩니다.\n",
        "   - `torch.int16`: 16비트 정수 타입으로, 음수를 포함한 정수 표현이 가능합니다.\n",
        "   - `torch.int32`: 32비트 정수 타입으로, 딥러닝에서 주로 사용되는 정수 타입입니다.\n",
        "   - `torch.int64`: 64비트 정수 타입으로, 더 큰 범위의 정수를 필요로 하는 연산에 사용됩니다. PyTorch에서는 `torch.long`이 기본적으로 `torch.int64`를 가리킵니다.\n",
        "\n",
        "3. **Boolean 타입**\n",
        "   - `torch.bool`: Boolean 타입으로, 참(True)과 거짓(False) 값만을 가집니다. 논리 연산에 사용되며, 메모리 효율적입니다.\n",
        "\n",
        "### 데이터 타입 선택 가이드\n",
        "- **`float32`**: 딥러닝에서 기본적으로 사용되는 타입. 대부분의 모델에서 연산 성능과 메모리 사용량의 균형이 잘 맞음.\n",
        "- **`float64`**: 높은 정밀도가 필요한 계산에서 사용. 연산 성능은 떨어지지만, 정밀도가 중요할 때 선택.\n",
        "- **`float16`** 및 **`bfloat16`**: 메모리 절약과 속도를 위해 주로 GPU 환경에서 사용. 특히 큰 모델에서 메모리 부족 문제를 해결하는 데 유용.\n",
        "- **`int32` 및 `int64`**: 정수 계산에서 사용. 기본적으로 `int64`는 큰 정수를 다룰 수 있지만 메모리 사용량이 크므로, `int32`를 사용할 수 있는 경우 선택.\n",
        "- **`bool`**: 논리 연산 및 마스크 연산에 사용. True/False를 표현하는 데 매우 효율적."
      ],
      "metadata": {
        "id": "iZiRMK9ygdaV"
      }
    },
    {
      "cell_type": "markdown",
      "source": [
        "torch ↔ numpy\n",
        "- Torch Tensor(텐서)를 NumPy array(배열)로 변환 가능\n",
        "    - `numpy()`\n",
        "    - `from_numpy()`\n",
        "- Tensor가 CPU상에 있다면 NumPy 배열은 메모리 공간을 공유하므로 하나가 변하면, 다른 하나도 변함"
      ],
      "metadata": {
        "id": "gOYavGpMcBHF"
      }
    },
    {
      "cell_type": "code",
      "source": [
        "import torch\n",
        "device = torch.device('cuda' if torch.cuda.is_available() else 'cpu')\n",
        "print(device)"
      ],
      "metadata": {
        "id": "rkRLtzfybZn9"
      },
      "execution_count": null,
      "outputs": []
    },
    {
      "cell_type": "code",
      "source": [
        "a = torch.ones(7)\n",
        "print(a)\n",
        "print(a.dtype)"
      ],
      "metadata": {
        "colab": {
          "base_uri": "https://localhost:8080/"
        },
        "id": "uijWXaMicsSB",
        "outputId": "1a48d876-34d3-4f13-bc7f-7afd933058c9"
      },
      "execution_count": 34,
      "outputs": [
        {
          "output_type": "stream",
          "name": "stdout",
          "text": [
            "tensor([1., 1., 1., 1., 1., 1., 1.])\n",
            "torch.float32\n"
          ]
        }
      ]
    },
    {
      "cell_type": "code",
      "source": [
        "# 텐서 'a'가 아직 CPU에 없으면 CPU로 이동, 텐서 a의 데이터 유형을 PyTorch의 데이터 유형인 torch.double로 변환\n",
        "print(a.to('cpu', torch.double))\n",
        "print(type(a))"
      ],
      "metadata": {
        "colab": {
          "base_uri": "https://localhost:8080/"
        },
        "id": "ZpcVKCbfdWOi",
        "outputId": "e8db6ed1-9337-446b-cfd1-3ec77095248f"
      },
      "execution_count": 35,
      "outputs": [
        {
          "output_type": "stream",
          "name": "stdout",
          "text": [
            "tensor([1., 1., 1., 1., 1., 1., 1.], dtype=torch.float64)\n",
            "<class 'torch.Tensor'>\n"
          ]
        }
      ]
    },
    {
      "cell_type": "code",
      "source": [
        "b = a.numpy()\n",
        "print(b)\n",
        "print(type(b))"
      ],
      "metadata": {
        "colab": {
          "base_uri": "https://localhost:8080/"
        },
        "id": "qoHigwWRdtkD",
        "outputId": "3640d3aa-ca21-49fa-d605-eb4342f7d3d5"
      },
      "execution_count": 36,
      "outputs": [
        {
          "output_type": "stream",
          "name": "stdout",
          "text": [
            "[1. 1. 1. 1. 1. 1. 1.]\n",
            "<class 'numpy.ndarray'>\n"
          ]
        }
      ]
    },
    {
      "cell_type": "code",
      "source": [
        "a.add_(1)       # a 값에 1을 더해 줌\n",
        "print(a)\n",
        "print(type(a))\n",
        "print(b)\n",
        "print(type(b))"
      ],
      "metadata": {
        "colab": {
          "base_uri": "https://localhost:8080/"
        },
        "id": "NcsWV6r7gd4O",
        "outputId": "3205b497-742d-4f4e-c1cf-89b74efce1bf"
      },
      "execution_count": 31,
      "outputs": [
        {
          "output_type": "stream",
          "name": "stdout",
          "text": [
            "tensor([2., 2., 2., 2., 2., 2., 2.])\n",
            "<class 'torch.Tensor'>\n",
            "[2. 2. 2. 2. 2. 2. 2.]\n",
            "<class 'numpy.ndarray'>\n"
          ]
        }
      ]
    },
    {
      "cell_type": "markdown",
      "source": [
        "https://tutorials.pytorch.kr/beginner/basics/quickstart_tutorial.html"
      ],
      "metadata": {
        "id": "ej6_mfsSjRj5"
      }
    },
    {
      "cell_type": "markdown",
      "source": [
        "파이토치(PyTorch)에는 데이터 작업을 위한 기본 요소 두가지인\n",
        "torch.utils.data.DataLoader 와 torch.utils.data.Dataset 가 있습니다.\n",
        "- Dataset 은 샘플과 정답(label)을 저장하고,\n",
        "- DataLoader 는 Dataset 을 순회 가능한 객체(iterable)로 감쌉니다."
      ],
      "metadata": {
        "id": "_-a_neIAjVSF"
      }
    },
    {
      "cell_type": "markdown",
      "source": [
        "ToTensor는 PyTorch의 torchvision.transforms 모듈에 포함된 클레스 중 하나로, 이미지 데이터를 PyTorch에서 사용할 수 있는 Tensor로 변환하는 역할"
      ],
      "metadata": {
        "id": "yZTIQXIlj5Qb"
      }
    },
    {
      "cell_type": "code",
      "source": [
        "import torch\n",
        "from torch import nn        # Neural Network\n",
        "from torch.utils.data import DataLoader\n",
        "from torchvision import datasets\n",
        "from torchvision.transforms import ToTensor"
      ],
      "metadata": {
        "id": "372leIHnjR7j"
      },
      "execution_count": 78,
      "outputs": []
    },
    {
      "cell_type": "markdown",
      "source": [
        "#### 데이터셋 불러오기\n",
        "TorchVision 에서 Fashion-MNIST 데이터셋을 불러오는 예제를 살펴보겠습니다. Fashion-MNIST는 Zalando의 기사 이미지 데이터셋으로 60,000개의 학습 예제와 10,000개의 테스트 예제로 이루어져 있습니다. 각 예제는 흑백(grayscale)의 28x28 이미지와 10개 분류(class) 중 하나인 정답(label)으로 구성됩니다.\n",
        "\n",
        "다음 매개변수들을 사용하여 FashionMNIST 데이터셋 을 불러옵니다:\n",
        "- root 는 학습/테스트 데이터가 저장되는 경로입니다.\n",
        "- train 은 학습용 또는 테스트용 데이터셋 여부를 지정합니다.\n",
        "- download=True 는 root 에 데이터가 없는 경우 인터넷에서 다운로드합니다.\n",
        "- transform 과 target_transform 은 특징(feature)과 정답(label) 변형(transform)을 지정합니다."
      ],
      "metadata": {
        "id": "F_sUBhyOjbxP"
      }
    },
    {
      "cell_type": "code",
      "source": [
        "# 공개 데이터셋에서 학습 데이터를 내려받습니다.\n",
        "training_data = datasets.FashionMNIST(\n",
        "    root=\"data\",\n",
        "    train=True,\n",
        "    download=True,\n",
        "    transform=ToTensor(),\n",
        ")\n",
        "\n",
        "# 공개 데이터셋에서 테스트 데이터를 내려받습니다.\n",
        "test_data = datasets.FashionMNIST(\n",
        "    root=\"data\",\n",
        "    train=False,\n",
        "    download=True,\n",
        "    transform=ToTensor(),\n",
        ")"
      ],
      "metadata": {
        "id": "M2j4r5y6jbj8"
      },
      "execution_count": 79,
      "outputs": []
    },
    {
      "cell_type": "code",
      "source": [
        "training_data"
      ],
      "metadata": {
        "colab": {
          "base_uri": "https://localhost:8080/"
        },
        "id": "T346M5hDoR6w",
        "outputId": "d6607f5b-9f81-490d-c37a-61a8614158ae"
      },
      "execution_count": 80,
      "outputs": [
        {
          "output_type": "execute_result",
          "data": {
            "text/plain": [
              "Dataset FashionMNIST\n",
              "    Number of datapoints: 60000\n",
              "    Root location: data\n",
              "    Split: Train\n",
              "    StandardTransform\n",
              "Transform: ToTensor()"
            ]
          },
          "metadata": {},
          "execution_count": 80
        }
      ]
    },
    {
      "cell_type": "code",
      "source": [
        "!ls data"
      ],
      "metadata": {
        "colab": {
          "base_uri": "https://localhost:8080/"
        },
        "id": "jPpZHsAAorAV",
        "outputId": "833f183e-7026-41ff-e412-ff459cc389b5"
      },
      "execution_count": 81,
      "outputs": [
        {
          "output_type": "stream",
          "name": "stdout",
          "text": [
            "FashionMNIST\n"
          ]
        }
      ]
    },
    {
      "cell_type": "markdown",
      "source": [
        "#### matplotlib을 이용한 시각화\n",
        "DataSet에 리스트(list)처럼 직접 접근(index) 가능: training_data[index], matplotlib을 사용하여 학습데이터를 일부 시각화"
      ],
      "metadata": {
        "id": "3AzYWPp7pJET"
      }
    },
    {
      "cell_type": "code",
      "source": [
        "import matplotlib.pyplot as plt\n",
        "\n",
        "labels_map = {\n",
        "    0: \"T-Shirt\",\n",
        "    1: \"Trouser\",\n",
        "    2: \"Pullover\",\n",
        "    3: \"Dress\",\n",
        "    4: \"Coat\",\n",
        "    5: \"Sandal\",\n",
        "    6: \"Shirt\",\n",
        "    7: \"Sneaker\",\n",
        "    8: \"Bag\",\n",
        "    9: \"Ankle Boot\",\n",
        "}\n",
        "\n",
        "figure = plt.figure(figsize=(8, 8))\n",
        "cols, rows = 3, 3\n",
        "for i in range(1, cols * rows + 1):     # 3개의 이미지를 위한 반복문을 시작\n",
        "    sample_idx = torch.randint(len(training_data), size=(1,)).item()     # torch.randint(100, size(1,))은 [0, 99] 범위의 랜덤 정수 하나를 생성해 (1,)크기의 텐서를 반환\n",
        "    img, label = training_data[sample_idx]\n",
        "    figure.add_subplot(rows, cols, i)       # 현재의 서브플롯(이미지가 표시될 위치)을 3x3 그리드에서 i번째 위치로 설정\n",
        "    plt.title(labels_map[label])\n",
        "    plt.axis(\"off\")\n",
        "    plt.imshow(img.squeeze(), cmap=\"gray\")\n",
        "plt.show()"
      ],
      "metadata": {
        "colab": {
          "base_uri": "https://localhost:8080/",
          "height": 675
        },
        "id": "cL1W1ljLpDwo",
        "outputId": "f746f8f0-3763-4de5-ae20-21026805a4e3"
      },
      "execution_count": 82,
      "outputs": [
        {
          "output_type": "display_data",
          "data": {
            "text/plain": [
              "<Figure size 800x800 with 9 Axes>"
            ],
            "image/png": "[encoded data removed]"
          },
          "metadata": {}
        }
      ]
    },
    {
      "cell_type": "markdown",
      "source": [
        "\n",
        "### PyTorch 모델 구성 방법\n",
        "PyTorch에서 딥러닝 모델을 구성하는 방법은 매우 직관적이며, 주요 방식은 클래스를 정의하여 모델을 설계하는 것입니다. PyTorch의 모든 모델은 torch.nn.Module 클래스를 기반으로 하며, 이 클래스를 상속하여 사용자 정의 모델을 구성할 수 있습니다. 아래는 PyTorch에서 모델을 구성하는 주요 단계와 방식에 대한 설명입니다.\n",
        "\n",
        "### 1. 순전파 (Forward Propagation)\n",
        "순전파는 입력 데이터를 모델에 전달해 예측값을 계산하는 과정입니다. 이때 PyTorch는 각 연산에 대한 계산 그래프를 내부적으로 생성하고, 이 그래프를 통해 역전파를 진행할 준비를 합니다.\n",
        "\n",
        "```python\n",
        "output = model(input_data)  # 순전파\n",
        "```\n",
        "\n",
        "### 2. 손실 함수 계산\n",
        "순전파 결과인 예측값을 기반으로 손실(loss)을 계산합니다. 손실 함수는 예측값과 실제값 간의 차이를 측정하는 함수입니다.\n",
        "\n",
        "```python\n",
        "loss = loss_fn(output, target)  # 예측값과 실제값의 차이로 손실 계산\n",
        "```\n",
        "\n",
        "### 3. 역전파 (Backward Propagation)\n",
        "역전파는 모델의 각 매개변수에 대한 기울기(gradient)를 계산하는 과정입니다. 손실 함수에 대한 각 매개변수의 편미분 값을 구하여 가중치를 업데이트할 수 있는 방향을 결정합니다. PyTorch에서는 `loss.backward()`를 호출함으로써 자동으로 역전파가 수행됩니다.\n",
        "\n",
        "```python\n",
        "loss.backward()  # 역전파 실행, 각 매개변수에 대한 기울기 계산\n",
        "```\n",
        "\n",
        "이 과정을 통해 **모델의 매개변수(가중치)**에 대해 손실 함수의 기울기가 계산되며, 계산된 기울기는 `parameter.grad` 속성에 저장됩니다.\n",
        "\n",
        "### 4. 옵티마이저를 사용한 가중치 갱신\n",
        "역전파를 통해 계산된 기울기를 바탕으로 옵티마이저(optimizer)가 가중치를 갱신합니다. 이를 위해 옵티마이저의 `step()` 함수를 호출합니다.\n",
        "\n",
        "```python\n",
        "optimizer.step()  # 기울기를 이용해 가중치 업데이트\n",
        "```\n",
        "\n",
        "### 역전파의 내부 동작\n",
        "역전파가 어떻게 동작하는지를 자세히 설명하면 다음과 같습니다:\n",
        "\n",
        "1. **계산 그래프 생성**: 순전파에서 각 연산이 수행될 때, PyTorch는 각 연산을 노드로 하는 계산 그래프를 생성합니다. 이 그래프는 텐서 간의 연산을 추적하며, 역전파를 위해 각 연산에 대한 미분 방법도 저장합니다.\n",
        "\n",
        "2. **체인 룰 (Chain Rule)**: 역전파는 체인 룰(연쇄 법칙)을 이용하여 손실에 대한 각 매개변수의 기울기를 계산합니다. 체인 룰이란 복합 함수의 미분을 계산할 때, 각 함수의 미분을 곱하는 방법입니다. PyTorch는 이 체인 룰을 자동으로 적용해, 순전파에서 쌓인 연산들을 역순으로 따라가며 미분을 계산합니다.\n",
        "\n",
        "3. **기울기 저장**: 각 연산을 역으로 추적하면서, 각 매개변수에 대해 손실 함수의 기울기를 계산하고, 이를 해당 매개변수의 `.grad` 속성에 저장합니다. 이 기울기는 이후 옵티마이저에 의해 사용되어 가중치가 갱신됩니다.\n",
        "\n",
        "### 예시 코드\n",
        "\n",
        "```python\n",
        "import torch\n",
        "import torch.nn as nn\n",
        "import torch.optim as optim\n",
        "\n",
        "# 간단한 선형 모델 정의\n",
        "model = nn.Linear(2, 1)  # 입력 2, 출력 1\n",
        "\n",
        "# 입력과 타겟 데이터 생성\n",
        "input_data = torch.tensor([[1.0, 2.0]], requires_grad=True)\n",
        "target = torch.tensor([[1.0]])\n",
        "\n",
        "# 손실 함수와 옵티마이저 정의\n",
        "loss_fn = nn.MSELoss()  # Mean Squared Error Loss\n",
        "optimizer = optim.SGD(model.parameters(), lr=0.01)\n",
        "\n",
        "# 순전파\n",
        "output = model(input_data)\n",
        "loss = loss_fn(output, target)\n",
        "\n",
        "# 역전파\n",
        "optimizer.zero_grad()  # 기울기 초기화\n",
        "loss.backward()        # 역전파 실행\n",
        "optimizer.step()       # 옵티마이저를 통한 가중치 갱신\n",
        "```\n",
        "\n",
        "### `requires_grad`와 계산 기록\n",
        "PyTorch에서는 텐서의 `requires_grad` 속성을 `True`로 설정하면 해당 텐서와 관련된 모든 연산을 추적하여 자동 미분을 가능하게 합니다.\n",
        "\n",
        "- 텐서 `input_data`에서 `requires_grad=True`로 설정했기 때문에, 역전파 시 해당 텐서에 대한 기울기도 계산됩니다.\n",
        "- 계산 그래프를 추적하고 싶지 않은 경우, `torch.no_grad()` 블록 안에서 연산을 수행할 수 있습니다.\n",
        "\n",
        "```python\n",
        "with torch.no_grad():\n",
        "    output = model(input_data)  # 역전파 없이 순전파만 수행\n",
        "```\n",
        "\n",
        "### 중요 개념 요약\n",
        "1. **순전파**: 입력 데이터를 모델에 전달해 출력을 계산하고, 각 연산을 추적하여 계산 그래프를 만듭니다.\n",
        "2. **손실 계산**: 예측값과 실제값의 차이를 계산하여 손실(loss)을 구합니다.\n",
        "3. **역전파**: 손실 함수에 대한 각 매개변수의 기울기를 계산합니다. PyTorch는 자동으로 체인 룰을 적용해 기울기를 계산합니다.\n",
        "4. **기울기 업데이트**: 옵티마이저가 계산된 기울기를 사용하여 매개변수(가중치)를 갱신합니다.\n",
        "\n",
        "이 과정이 반복되면서 모델의 성능이 점차 개선되게 됩니다."
      ],
      "metadata": {
        "id": "QYbm9PWivTfM"
      }
    },
    {
      "cell_type": "markdown",
      "source": [
        " PyTorch의 DataLoader를 사용하여 학습 데이터(training_data)와 테스트 데이터(test_data)를 배치로 로딩하고, 테스트 데이터로더에서 첫 번째 배치의 형태(shape)와 데이터 타입을 출력하는 과정\n",
        "\n",
        "Dataset 을 DataLoader 의 인자로 전달합니다. 이는 데이터셋을 순회 가능한 객체(iterable)로 감싸고, 자동화된 배치(batch), 샘플링(sampling),\n",
        "섞기(shuffle) 및 다중 프로세스로 데이터 불러오기(multiprocess data loading)를 지원합니다. 여기서는 배치 크기(batch size)를 64로 정의합니다.\n",
        "즉, 데이터로더(dataloader) 객체의 각 요소는 64개의 특징(feature)과 정답(label)을 묶음(batch)으로 반환합니다."
      ],
      "metadata": {
        "id": "yhJqVqOzm6QC"
      }
    },
    {
      "cell_type": "code",
      "source": [
        "batch_size = 64\n",
        "\n",
        "# 데이터로더를 생성합니다.\n",
        "train_dataloader = DataLoader(training_data, batch_size=batch_size)\n",
        "test_dataloader = DataLoader(test_data, batch_size=batch_size)\n",
        "\n",
        "for X, y in test_dataloader:\n",
        "    print(f\"Shape of X [N, C, H, W]: {X.shape}\")        # [N, C, H, W]는 일반적으로 이미지 데이터의 차원. 각각 배치크기(N), 채널 수(C), 높이(H), 너비(W)를 의미\n",
        "    print(f\"Shape of y: {y.shape} {y.dtype}\")\n",
        "    break"
      ],
      "metadata": {
        "colab": {
          "base_uri": "https://localhost:8080/"
        },
        "id": "hwFXw3Feke6g",
        "outputId": "a691dc85-c95e-4f1d-aad0-b28aecdfe270"
      },
      "execution_count": 83,
      "outputs": [
        {
          "output_type": "stream",
          "name": "stdout",
          "text": [
            "Shape of X [N, C, H, W]: torch.Size([64, 1, 28, 28])\n",
            "Shape of y: torch.Size([64]) torch.int64\n"
          ]
        }
      ]
    },
    {
      "cell_type": "markdown",
      "source": [
        "#### 모델 만들기\n",
        "PyTorch에서 신경망 모델은 nn.Module을 상속받는 클래스(class)를 생성하여 정의합니다. ``__init__`` 함수에서 신경망의 계층(layer)들을 정의하고 ``forward`` 함수에서 신경망에 데이터를 어떻게 전달할지 지정합니다. 가능한 경우 GPU로 신경망을 이동시켜 연산을 가속(accelerate)합니다."
      ],
      "metadata": {
        "id": "AykMaAgTnASc"
      }
    },
    {
      "cell_type": "code",
      "source": [
        "# 학습에 사용할 CPU나 GPU, MPS 장치를 얻습니다.\n",
        "device = (\n",
        "    \"cuda\"\n",
        "    if torch.cuda.is_available()\n",
        "    else \"mps\"\n",
        "    if torch.backends.mps.is_available()\n",
        "    else \"cpu\"\n",
        ")\n",
        "print(f\"Using {device} device\")\n",
        "\n",
        "# 모델을 정의합니다.\n",
        "class NeuralNetwork(nn.Module):\n",
        "    def __init__(self):\n",
        "        super().__init__()\n",
        "        self.flatten = nn.Flatten()\n",
        "        self.linear_relu_stack = nn.Sequential(\n",
        "            nn.Linear(28*28, 512),\n",
        "            nn.ReLU(),\n",
        "            nn.Linear(512, 512),\n",
        "            nn.ReLU(),\n",
        "            nn.Linear(512, 10)\n",
        "        )\n",
        "\n",
        "    def forward(self, x):\n",
        "        x = self.flatten(x)\n",
        "        logits = self.linear_relu_stack(x)\n",
        "        return logits\n",
        "\n",
        "model = NeuralNetwork().to(device)\n",
        "print(model)"
      ],
      "metadata": {
        "colab": {
          "base_uri": "https://localhost:8080/"
        },
        "id": "pL8SvO-ZkxtY",
        "outputId": "3e23a131-951e-4ebe-b3a7-c4b99a616461"
      },
      "execution_count": 84,
      "outputs": [
        {
          "output_type": "stream",
          "name": "stdout",
          "text": [
            "Using cpu device\n",
            "NeuralNetwork(\n",
            "  (flatten): Flatten(start_dim=1, end_dim=-1)\n",
            "  (linear_relu_stack): Sequential(\n",
            "    (0): Linear(in_features=784, out_features=512, bias=True)\n",
            "    (1): ReLU()\n",
            "    (2): Linear(in_features=512, out_features=512, bias=True)\n",
            "    (3): ReLU()\n",
            "    (4): Linear(in_features=512, out_features=10, bias=True)\n",
            "  )\n",
            ")\n"
          ]
        }
      ]
    },
    {
      "cell_type": "markdown",
      "source": [
        "Linear, ReLU 사용하지 않고 모델 생성"
      ],
      "metadata": {
        "id": "iRxQHHbO2tFp"
      }
    },
    {
      "cell_type": "code",
      "source": [
        "# 학습에 사용할 CPU나 GPU, MPS 장치를 얻습니다.\n",
        "device = (\n",
        "    \"cuda\"\n",
        "    if torch.cuda.is_available()\n",
        "    else \"mps\"\n",
        "    if torch.backends.mps.is_available()\n",
        "    else \"cpu\"\n",
        ")\n",
        "print(f\"Using {device} device\")\n",
        "\n",
        "# 모델을 정의합니다.\n",
        "class NeuralNetwork(nn.Module):\n",
        "    def __init__(self):\n",
        "        super().__init__()\n",
        "        # 각 레이어를 개별적으로 정의\n",
        "        self.flatten = nn.Flatten()\n",
        "        self.fc1 = nn.Linear(28*28, 512)    # 첫 번째 완전 연결 레이어\n",
        "        self.relu1 = nn.ReLU()              # 첫 번째 ReLU 활성화 함수\n",
        "        self.fc2 = nn.Linear(512, 512)      # 두 번째 완전 연결 레이어\n",
        "        self.relu2 = nn.ReLU()              # 두 번째 ReLU 활성화 함수\n",
        "        self.fc3 = nn.Linear(512, 10)       # 세 번째 선형 계층 (출력 레이어)\n",
        "\n",
        "    def forward(self, x):\n",
        "        x = self.flatten(x)\n",
        "        x = self.fc1(x)\n",
        "        x = self.relu1(x)\n",
        "        x = self.fc2(x)\n",
        "        x = self.relu2(x)\n",
        "        return x\n",
        "\n",
        "# 모델을 정의하고 장치에 할당\n",
        "device = torch.device(\"cuda\" if torch.backends.mps.is_available() else \"cpu\")\n",
        "model = NeuralNetwork().to(device)\n",
        "\n",
        "# 모델 구조 출력\n",
        "print(model)"
      ],
      "metadata": {
        "colab": {
          "base_uri": "https://localhost:8080/"
        },
        "id": "Rgpap2ZD2kMj",
        "outputId": "02bbf5c3-4a98-46b8-d31a-d6ffeb9dd31f"
      },
      "execution_count": 85,
      "outputs": [
        {
          "output_type": "stream",
          "name": "stdout",
          "text": [
            "Using cpu device\n",
            "NeuralNetwork(\n",
            "  (flatten): Flatten(start_dim=1, end_dim=-1)\n",
            "  (fc1): Linear(in_features=784, out_features=512, bias=True)\n",
            "  (relu1): ReLU()\n",
            "  (fc2): Linear(in_features=512, out_features=512, bias=True)\n",
            "  (relu2): ReLU()\n",
            "  (fc3): Linear(in_features=512, out_features=10, bias=True)\n",
            ")\n"
          ]
        }
      ]
    },
    {
      "cell_type": "markdown",
      "source": [
        "#### 모델 매개변수 최적화하기\n",
        "모델을 학습하려면 손실 함수(loss function) 와 옵티마이저(optimizer) 가 필요합니다."
      ],
      "metadata": {
        "id": "RzcLvu1KnLBM"
      }
    },
    {
      "cell_type": "code",
      "source": [
        "loss_fn = nn.CrossEntropyLoss()\n",
        "optimizer = torch.optim.SGD(model.parameters(), lr=1e-3)"
      ],
      "metadata": {
        "id": "x9BY8HmNk3fb"
      },
      "execution_count": 86,
      "outputs": []
    },
    {
      "cell_type": "markdown",
      "source": [
        "각 학습 단계(training loop)에서 모델은 (배치(batch)로 제공되는) 학습 데이터셋에 대한 예측을 수행하고, 예측 오류를 역전파하여 모델의 매개변수를 조정합니다."
      ],
      "metadata": {
        "id": "pRzWv9wT7_lN"
      }
    },
    {
      "cell_type": "code",
      "source": [
        "def train(dataloader, model, loss_fn, optimizer):\n",
        "    size = len(dataloader.dataset)\n",
        "    for batch, (X, y) in enumerate(dataloader):\n",
        "        X, y = X.to(device), y.to(device)\n",
        "\n",
        "        # 예측 오류 계산\n",
        "        pred = model(X)\n",
        "        loss = loss_fn(pred, y)\n",
        "\n",
        "        # 역전파\n",
        "        loss.backward()\n",
        "        optimizer.step()\n",
        "        optimizer.zero_grad()\n",
        "\n",
        "        if batch % 100 == 0:\n",
        "            loss, current = loss.item(), (batch + 1) * len(X)\n",
        "            print(f\"loss: {loss:>7f}  [{current:>5d}/{size:>5d}]\")"
      ],
      "metadata": {
        "id": "q_rm1Qbyk7mA"
      },
      "execution_count": 87,
      "outputs": []
    },
    {
      "cell_type": "markdown",
      "source": [
        "모델이 학습하고 있는지를 확인하기 위해 테스트 데이터셋으로 모델의 성능을 확인합니다."
      ],
      "metadata": {
        "id": "R51_6syF8DXU"
      }
    },
    {
      "cell_type": "code",
      "source": [
        "def test(dataloader, model, loss_fn):\n",
        "    size = len(dataloader.dataset)\n",
        "    num_batches = len(dataloader)\n",
        "    model.eval()\n",
        "    test_loss, correct = 0, 0\n",
        "    with torch.no_grad():\n",
        "        for X, y in dataloader:\n",
        "            X, y = X.to(device), y.to(device)\n",
        "            pred = model(X)\n",
        "            test_loss += loss_fn(pred, y).item()\n",
        "            correct += (pred.argmax(1) == y).type(torch.float).sum().item()\n",
        "    test_loss /= num_batches\n",
        "    correct /= size\n",
        "    print(f\"Test Error: \\n Accuracy: {(100*correct):>0.1f}%, Avg loss: {test_loss:>8f} \\n\")"
      ],
      "metadata": {
        "id": "aT6oei7Kk9Uh"
      },
      "execution_count": 88,
      "outputs": []
    },
    {
      "cell_type": "markdown",
      "source": [
        "학습 단계는 여러번의 반복 단계 (에폭(epochs)) 를 거쳐서 수행됩니다. 각 에폭에서는 모델은 더 나은 예측을 하기 위해 매개변수를 학습합니다. 각 에폭마다 모델의 정확도(accuracy)와 손실(loss)을 출력합니다; 에폭마다 정확도가 증가하고 손실이 감소하는 것을 보려고 합니다."
      ],
      "metadata": {
        "id": "WjNNbZAynixs"
      }
    },
    {
      "cell_type": "code",
      "source": [
        "epochs = 5\n",
        "for t in range(epochs):\n",
        "    print(f\"Epoch {t+1}\\n-------------------------------\")\n",
        "    train(train_dataloader, model, loss_fn, optimizer)\n",
        "    test(test_dataloader, model, loss_fn)\n",
        "print(\"Done!\")"
      ],
      "metadata": {
        "colab": {
          "base_uri": "https://localhost:8080/"
        },
        "id": "tpf0IrCik-3a",
        "outputId": "0ad8620e-18e5-4961-cdf1-f7a3e95459d8"
      },
      "execution_count": 89,
      "outputs": [
        {
          "output_type": "stream",
          "name": "stdout",
          "text": [
            "Epoch 1\n",
            "-------------------------------\n",
            "loss: 6.265050  [   64/60000]\n",
            "loss: 6.135075  [ 6464/60000]\n",
            "loss: 5.914940  [12864/60000]\n",
            "loss: 5.637220  [19264/60000]\n",
            "loss: 5.107598  [25664/60000]\n",
            "loss: 4.406988  [32064/60000]\n",
            "loss: 4.200580  [38464/60000]\n",
            "loss: 3.994896  [44864/60000]\n",
            "loss: 3.838632  [51264/60000]\n",
            "loss: 3.141522  [57664/60000]\n",
            "Test Error: \n",
            " Accuracy: 47.8%, Avg loss: 3.441879 \n",
            "\n",
            "Epoch 2\n",
            "-------------------------------\n",
            "loss: 3.921127  [   64/60000]\n",
            "loss: 3.895329  [ 6464/60000]\n",
            "loss: 3.835706  [12864/60000]\n",
            "loss: 3.295402  [19264/60000]\n",
            "loss: 3.289303  [25664/60000]\n",
            "loss: 3.467719  [32064/60000]\n",
            "loss: 3.104257  [38464/60000]\n",
            "loss: 3.502330  [44864/60000]\n",
            "loss: 3.349907  [51264/60000]\n",
            "loss: 2.536972  [57664/60000]\n",
            "Test Error: \n",
            " Accuracy: 52.0%, Avg loss: 3.008692 \n",
            "\n",
            "Epoch 3\n",
            "-------------------------------\n",
            "loss: 3.589482  [   64/60000]\n",
            "loss: 3.559628  [ 6464/60000]\n",
            "loss: 3.532750  [12864/60000]\n",
            "loss: 2.935449  [19264/60000]\n",
            "loss: 2.949599  [25664/60000]\n",
            "loss: 3.201958  [32064/60000]\n",
            "loss: 2.804610  [38464/60000]\n",
            "loss: 3.261456  [44864/60000]\n",
            "loss: 3.082335  [51264/60000]\n",
            "loss: 2.289212  [57664/60000]\n",
            "Test Error: \n",
            " Accuracy: 54.4%, Avg loss: 2.771469 \n",
            "\n",
            "Epoch 4\n",
            "-------------------------------\n",
            "loss: 3.351324  [   64/60000]\n",
            "loss: 3.346372  [ 6464/60000]\n",
            "loss: 3.290211  [12864/60000]\n",
            "loss: 2.726521  [19264/60000]\n",
            "loss: 2.737383  [25664/60000]\n",
            "loss: 3.002487  [32064/60000]\n",
            "loss: 2.628834  [38464/60000]\n",
            "loss: 3.100244  [44864/60000]\n",
            "loss: 2.905416  [51264/60000]\n",
            "loss: 2.143198  [57664/60000]\n",
            "Test Error: \n",
            " Accuracy: 55.5%, Avg loss: 2.616137 \n",
            "\n",
            "Epoch 5\n",
            "-------------------------------\n",
            "loss: 3.176617  [   64/60000]\n",
            "loss: 3.197845  [ 6464/60000]\n",
            "loss: 3.110866  [12864/60000]\n",
            "loss: 2.584825  [19264/60000]\n",
            "loss: 2.594773  [25664/60000]\n",
            "loss: 2.856086  [32064/60000]\n",
            "loss: 2.506915  [38464/60000]\n",
            "loss: 2.985709  [44864/60000]\n",
            "loss: 2.778659  [51264/60000]\n",
            "loss: 2.045228  [57664/60000]\n",
            "Test Error: \n",
            " Accuracy: 56.5%, Avg loss: 2.505540 \n",
            "\n",
            "Done!\n"
          ]
        }
      ]
    },
    {
      "cell_type": "markdown",
      "source": [
        "#### 모델 저장하기\n",
        "모델을 저장하는 일반적인 방법은 (모델의 매개변수들을 포함하여) 내부 상태 사전(internal state dictionary)을 직렬화(serialize)하는 것입니다."
      ],
      "metadata": {
        "id": "6076vYBonpnH"
      }
    },
    {
      "cell_type": "code",
      "source": [
        "# from google.colab import drive\n",
        "# drive.mount('/content/drive')"
      ],
      "metadata": {
        "id": "GMaCPsRmCW5M"
      },
      "execution_count": 90,
      "outputs": []
    },
    {
      "cell_type": "code",
      "source": [
        "# import os\n",
        "# save_path = '/content/drive/MyDrive/kdt_240424/m6_딥러닝/dataset/model/pytorch_model.pth'\n",
        "\n",
        "# os.makedirs(os.path.dirname(save_path), exist_ok=True)"
      ],
      "metadata": {
        "id": "ijy8LM6mClYY"
      },
      "execution_count": 91,
      "outputs": []
    },
    {
      "cell_type": "code",
      "source": [
        "# # 이 과정에서는 모델 가중치만 저장함\n",
        "# torch.save(model.state_dict(), save_path)\n",
        "# print(\"Saved PyTorch Model State to model.path\")"
      ],
      "metadata": {
        "id": "cX710rkElFBr"
      },
      "execution_count": 92,
      "outputs": []
    },
    {
      "cell_type": "code",
      "source": [
        "torch.save(model.state_dict(), \"model.pth\")\n",
        "print(\"Saved PyTorch Model State to model.pth\")"
      ],
      "metadata": {
        "colab": {
          "base_uri": "https://localhost:8080/"
        },
        "id": "t0w_b6W9HSxm",
        "outputId": "5fdfeefa-eedd-4394-a0ec-b558777baeae"
      },
      "execution_count": 93,
      "outputs": [
        {
          "output_type": "stream",
          "name": "stdout",
          "text": [
            "Saved PyTorch Model State to model.pth\n"
          ]
        }
      ]
    },
    {
      "cell_type": "markdown",
      "source": [
        "#### 모델 불러오기\n",
        "모델을 불러오는 과정에는 모델 구조를 다시 만들고 상태 사전을 모델에 불러오는 과정이 포함됩니다."
      ],
      "metadata": {
        "id": "_80zOXyInsIN"
      }
    },
    {
      "cell_type": "code",
      "source": [
        "# model = NeuralNetwork().to(device)\n",
        "# model.load_state_dict(torch.load(save_path))"
      ],
      "metadata": {
        "id": "TOk0XSDflGta"
      },
      "execution_count": 94,
      "outputs": []
    },
    {
      "cell_type": "code",
      "source": [
        "model = NeuralNetwork().to(device)\n",
        "model.load_state_dict(torch.load(\"model.pth\"))"
      ],
      "metadata": {
        "colab": {
          "base_uri": "https://localhost:8080/"
        },
        "id": "2FQ_8p0qHN1U",
        "outputId": "509e7ec3-0683-4f6d-bc97-5e9abd0ff371"
      },
      "execution_count": 95,
      "outputs": [
        {
          "output_type": "stream",
          "name": "stderr",
          "text": [
            "<ipython-input-95-b4ef1eff0e4c>:2: FutureWarning: You are using `torch.load` with `weights_only=False` (the current default value), which uses the default pickle module implicitly. It is possible to construct malicious pickle data which will execute arbitrary code during unpickling (See https://github.com/pytorch/pytorch/blob/main/SECURITY.md#untrusted-models for more details). In a future release, the default value for `weights_only` will be flipped to `True`. This limits the functions that could be executed during unpickling. Arbitrary objects will no longer be allowed to be loaded via this mode unless they are explicitly allowlisted by the user via `torch.serialization.add_safe_globals`. We recommend you start setting `weights_only=True` for any use case where you don't have full control of the loaded file. Please open an issue on GitHub for any issues related to this experimental feature.\n",
            "  model.load_state_dict(torch.load(\"model.pth\"))\n"
          ]
        },
        {
          "output_type": "execute_result",
          "data": {
            "text/plain": [
              "<All keys matched successfully>"
            ]
          },
          "metadata": {},
          "execution_count": 95
        }
      ]
    },
    {
      "cell_type": "markdown",
      "source": [
        "#### 모델을 사용한 예측"
      ],
      "metadata": {
        "id": "Wt7c5vz_nyem"
      }
    },
    {
      "cell_type": "code",
      "source": [
        "classes = [\n",
        "    \"T-shirt/top\",\n",
        "    \"Trouser\",\n",
        "    \"Pullover\",\n",
        "    \"Dress\",\n",
        "    \"Coat\",\n",
        "    \"Sandal\",\n",
        "    \"Shirt\",\n",
        "    \"Sneaker\",\n",
        "    \"Bag\",\n",
        "    \"Ankle boot\",\n",
        "]\n",
        "\n",
        "model.eval()    # 평가(evaluation) 모드로 설정\n",
        "x, y = test_data[0][0], test_data[0][1]     # 테스트 데이터셋에서 첫 번쨰 생플(이미지)과 그에 해당하는 레이블을 가져옵니다\n",
        "with torch.no_grad():   # 평가 또는 추론 시에는 모델을 업데이트 할 필요가 없으므로 그라디언트를 계산 할 필요가 없습니다\n",
        "    x = x.to(device)    # 테스트 샘플을 현재 설정 된 장치(CPU 또느 GPU)로 이동\n",
        "    pred = model(x)     # 모델을 사용하여 예측 수행\n",
        "    predicted, actual = classes[pred[0].argmax(0)], classes[y]  # 모델의 예측 결과 중 가장 높은 값을 가지는 인덱스와 실제 레이블에 해당하는 클래스 이름\n",
        "    print(f'Predicted: \"{predicted}\", Actual: \"{actual}\"')"
      ],
      "metadata": {
        "colab": {
          "base_uri": "https://localhost:8080/"
        },
        "id": "qv30dnOblIKi",
        "outputId": "c540b249-43fe-435d-bcb9-60cae19360ce"
      },
      "execution_count": 96,
      "outputs": [
        {
          "output_type": "stream",
          "name": "stdout",
          "text": [
            "Predicted: \"Sandal\", Actual: \"Ankle boot\"\n"
          ]
        }
      ]
    }
  ]
}