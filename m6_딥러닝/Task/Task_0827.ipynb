{
  "nbformat": 4,
  "nbformat_minor": 0,
  "metadata": {
    "colab": {
      "provenance": [],
      "authorship_tag": "ABX9TyOW/KmUUc6raBmIb5THeaIB",
      "include_colab_link": true
    },
    "kernelspec": {
      "name": "python3",
      "display_name": "Python 3"
    },
    "language_info": {
      "name": "python"
    }
  },
  "cells": [
    {
      "cell_type": "markdown",
      "metadata": {
        "id": "view-in-github",
        "colab_type": "text"
      },
      "source": [
        "<a href=\"https://colab.research.google.com/github/hyojunyee/kita_2404/blob/main/m6_%EB%94%A5%EB%9F%AC%EB%8B%9D/Task/Task_0827.ipynb\" target=\"_parent\"><img src=\"https://colab.research.google.com/assets/colab-badge.svg\" alt=\"Open In Colab\"/></a>"
      ]
    },
    {
      "cell_type": "markdown",
      "source": [
        "Task1_0827. 2행 3열 텐서의 크기를 3행 2열로 변경하세요.\n",
        "- view 사용\n",
        "- reshape 사용\n",
        "- transpose 사용"
      ],
      "metadata": {
        "id": "EOkpYK4z35w9"
      }
    },
    {
      "cell_type": "code",
      "execution_count": null,
      "metadata": {
        "colab": {
          "base_uri": "https://localhost:8080/"
        },
        "id": "WQt7kQbB33nS",
        "outputId": "0fe7c69d-41e1-4d50-b771-47cb75e8b5bc"
      },
      "outputs": [
        {
          "output_type": "stream",
          "name": "stdout",
          "text": [
            "tensor([[0.2104, 0.8869, 0.1312],\n",
            "        [0.0916, 0.4312, 0.6461]])\n",
            "tensor([[0.2104, 0.8869],\n",
            "        [0.1312, 0.0916],\n",
            "        [0.4312, 0.6461]])\n"
          ]
        }
      ],
      "source": [
        "# view 사용\n",
        "import torch\n",
        "\n",
        "x = torch.rand(2, 3)\n",
        "print(x)\n",
        "print(x.view(3, 2))"
      ]
    },
    {
      "cell_type": "code",
      "source": [
        "# reshape 사용\n",
        "import torch\n",
        "\n",
        "x = torch.rand(2, 3)\n",
        "print(x)\n",
        "print(x.reshape(3, 2))"
      ],
      "metadata": {
        "colab": {
          "base_uri": "https://localhost:8080/"
        },
        "id": "wjGX_4rJ4K4j",
        "outputId": "c946d420-698a-4d7b-844f-a7a574c49f5e"
      },
      "execution_count": null,
      "outputs": [
        {
          "output_type": "stream",
          "name": "stdout",
          "text": [
            "tensor([[0.7875, 0.0552, 0.5317],\n",
            "        [0.7410, 0.7131, 0.7598]])\n",
            "tensor([[0.7875, 0.0552],\n",
            "        [0.5317, 0.7410],\n",
            "        [0.7131, 0.7598]])\n"
          ]
        }
      ]
    },
    {
      "cell_type": "code",
      "source": [
        "# transpose 사용\n",
        "import torch\n",
        "\n",
        "x = torch.rand(2, 3)\n",
        "print(x)\n",
        "print(x.transpose(0, 1))"
      ],
      "metadata": {
        "colab": {
          "base_uri": "https://localhost:8080/"
        },
        "id": "b2eZxAwm4NH4",
        "outputId": "03f678e6-a885-4eff-c366-4c4f37a66047"
      },
      "execution_count": null,
      "outputs": [
        {
          "output_type": "stream",
          "name": "stdout",
          "text": [
            "tensor([[0.7409, 0.6435, 0.0391],\n",
            "        [0.6212, 0.4928, 0.8725]])\n",
            "tensor([[0.7409, 0.6212],\n",
            "        [0.6435, 0.4928],\n",
            "        [0.0391, 0.8725]])\n"
          ]
        }
      ]
    }
  ]
}