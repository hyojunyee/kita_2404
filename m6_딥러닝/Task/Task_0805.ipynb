{
  "nbformat": 4,
  "nbformat_minor": 0,
  "metadata": {
    "colab": {
      "provenance": [],
      "authorship_tag": "ABX9TyMgjlefVP8ykPNa1iBE3FBK",
      "include_colab_link": true
    },
    "kernelspec": {
      "name": "python3",
      "display_name": "Python 3"
    },
    "language_info": {
      "name": "python"
    }
  },
  "cells": [
    {
      "cell_type": "markdown",
      "metadata": {
        "id": "view-in-github",
        "colab_type": "text"
      },
      "source": [
        "<a href=\"https://colab.research.google.com/github/hyojunyee/kita_2404/blob/main/m6_%EB%94%A5%EB%9F%AC%EB%8B%9D/Task/Task_0805.ipynb\" target=\"_parent\"><img src=\"https://colab.research.google.com/assets/colab-badge.svg\" alt=\"Open In Colab\"/></a>"
      ]
    },
    {
      "cell_type": "markdown",
      "source": [
        "Task1_0805. 주어진 함수 $ g(x,y)=e^{x+y} +sin(x∗y) $에 대해 x에 대한 편미분과 y에 대한 편미분을 구하세요."
      ],
      "metadata": {
        "id": "J35Hk0LEAkIP"
      }
    },
    {
      "cell_type": "code",
      "execution_count": null,
      "metadata": {
        "colab": {
          "base_uri": "https://localhost:8080/"
        },
        "id": "I3XPMLlRAe5E",
        "outputId": "10ca7458-3a71-4ba8-f788-097d3bd7a96a"
      },
      "outputs": [
        {
          "output_type": "stream",
          "name": "stdout",
          "text": [
            "Requirement already satisfied: sympy in /usr/local/lib/python3.10/dist-packages (1.13.1)\n",
            "Requirement already satisfied: mpmath<1.4,>=1.1.0 in /usr/local/lib/python3.10/dist-packages (from sympy) (1.3.0)\n"
          ]
        }
      ],
      "source": [
        "!pip install sympy"
      ]
    },
    {
      "cell_type": "code",
      "source": [
        "import sympy\n",
        "\n",
        "# Jupyter 노트북의 수학식의 LaTeX표현을 위해 필요함\n",
        "sympy.init_printing(use_latex='mathjax')"
      ],
      "metadata": {
        "id": "drmh177eAlya"
      },
      "execution_count": null,
      "outputs": []
    },
    {
      "cell_type": "code",
      "source": [
        "import sympy as sp\n",
        "x, y = sp.symbols('x y')\n",
        "g = sp.exp(x + y) + sp.sin(x * y)\n",
        "\n",
        "# x에 대한 편미분\n",
        "partial_gx = sp.diff(g, x)\n",
        "\n",
        "# y에 대한 편미분\n",
        "partial_gy = sp.diff(g, y)\n",
        "\n",
        "partial_gx, partial_gy"
      ],
      "metadata": {
        "colab": {
          "base_uri": "https://localhost:8080/",
          "height": 38
        },
        "id": "69JLEvTsA7A7",
        "outputId": "8b769020-c9cb-46fc-a8cf-fcff4ef6e89b"
      },
      "execution_count": null,
      "outputs": [
        {
          "output_type": "execute_result",
          "data": {
            "text/plain": [
              "⎛              x + y                x + y⎞\n",
              "⎝y⋅cos(x⋅y) + ℯ     , x⋅cos(x⋅y) + ℯ     ⎠"
            ],
            "text/latex": "$\\displaystyle \\left( y \\cos{\\left(x y \\right)} + e^{x + y}, \\  x \\cos{\\left(x y \\right)} + e^{x + y}\\right)$"
          },
          "metadata": {},
          "execution_count": 5
        }
      ]
    }
  ]
}