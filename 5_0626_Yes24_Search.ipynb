{
 "cells": [
  {
   "cell_type": "code",
   "execution_count": 1,
   "metadata": {},
   "outputs": [],
   "source": [
    "import selenium\n",
    "from selenium import webdriver\n",
    "from selenium.webdriver.common.keys import Keys\n",
    "from selenium.webdriver.common.by import By\n",
    "from bs4 import BeautifulSoup\n",
    "import time"
   ]
  },
  {
   "cell_type": "code",
   "execution_count": 22,
   "metadata": {},
   "outputs": [],
   "source": [
    "keyword = input(\"책 제목을 입력하세요: \")\n",
    "search_url = f'https://search.kyobobook.co.kr/search?keyword={keyword}&gbCode=TOT&target=total'\n",
    "driver = webdriver.Chrome()\n",
    "driver.get(search_url)\n",
    "element = driver.find_element(By.CLASS_NAME, 'auto_overflow_inner').click()"
   ]
  },
  {
   "cell_type": "code",
   "execution_count": 42,
   "metadata": {},
   "outputs": [
    {
     "name": "stdout",
     "output_type": "stream",
     "text": [
      "자랑질 책이다.젊은이들이여..현학적인 책에 속지마라자의식해체, 유전자오작동등등..참 언급하기 창피한 책이다\n",
      "기대를 많이 하고 봤으나.. 전 잘 모르겠네요.. 순리자 대로 살 팔자인가\n"
     ]
    }
   ],
   "source": [
    "html = driver.page_source\n",
    "soup = BeautifulSoup(html, 'html.parser')\n",
    "items = soup.select('.comment_text')\n",
    "# 추천수 상위 3개의 리뷰만 가져오기\n",
    "reviews = items[:2]\n",
    "\n",
    "# 결과 출력\n",
    "if len(reviews) == 0:\n",
    "    print(\"리뷰가 없습니다\")\n",
    "else:\n",
    "    for review in reviews:\n",
    "        print(review.get_text(strip=True))"
   ]
  }
 ],
 "metadata": {
  "kernelspec": {
   "display_name": "myenv",
   "language": "python",
   "name": "python3"
  },
  "language_info": {
   "codemirror_mode": {
    "name": "ipython",
    "version": 3
   },
   "file_extension": ".py",
   "mimetype": "text/x-python",
   "name": "python",
   "nbconvert_exporter": "python",
   "pygments_lexer": "ipython3",
   "version": "3.10.11"
  }
 },
 "nbformat": 4,
 "nbformat_minor": 2
}
