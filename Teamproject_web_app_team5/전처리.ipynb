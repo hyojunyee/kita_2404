{
 "cells": [
  {
   "cell_type": "code",
   "execution_count": 5,
   "metadata": {},
   "outputs": [
    {
     "name": "stdout",
     "output_type": "stream",
     "text": [
      "     시도명 시군구명  성별    연령대   인구수\n",
      "0  서울특별시  종로구  남자   0-9세   295\n",
      "1  서울특별시  종로구  남자    10대   536\n",
      "2  서울특별시  종로구  남자    20대   674\n",
      "3  서울특별시  종로구  남자    30대   670\n",
      "4  서울특별시  종로구  남자    40대   802\n",
      "5  서울특별시  종로구  남자    50대   859\n",
      "6  서울특별시  종로구  남자  60대이상  1282\n",
      "7  서울특별시  종로구  남자   0-9세   223\n",
      "8  서울특별시  종로구  남자    10대   262\n",
      "9  서울특별시  종로구  남자    20대   423\n"
     ]
    }
   ],
   "source": [
    "import pandas as pd\n",
    "\n",
    "# CSV 파일 읽기\n",
    "df = pd.read_csv('static/population(seoul).csv')  # 파일명을 적절히 변경해주세요\n",
    "\n",
    "# 서울특별시 데이터만 필터링\n",
    "df = df[df['시도명'] == '서울특별시']\n",
    "\n",
    "# 성별과 연령대별로 데이터 재구성을 위한 함수\n",
    "def reshape_data(row, gender):\n",
    "    base_cols = ['행정기관코드', '기준연월', '시도명', '시군구명']\n",
    "    age_cols = [f'{i}세{gender}' for i in range(0, 110)] + [f'110세이상 {gender}']\n",
    "    \n",
    "    data = row[base_cols].tolist() + [gender] + row[age_cols].tolist()\n",
    "    return pd.Series(data, index=base_cols + ['성별'] + list(range(111)))\n",
    "\n",
    "# 남성과 여성 데이터 재구성\n",
    "male_df = df.apply(lambda row: reshape_data(row, '남자'), axis=1)\n",
    "female_df = df.apply(lambda row: reshape_data(row, '여자'), axis=1)\n",
    "\n",
    "# 재구성된 데이터 합치기\n",
    "reshaped_df = pd.concat([male_df, female_df], ignore_index=True)\n",
    "\n",
    "# 연령대 그룹화 함수\n",
    "def age_group(age):\n",
    "    if age < 10:\n",
    "        return '0-9세'\n",
    "    elif age < 20:\n",
    "        return '10대'\n",
    "    elif age < 30:\n",
    "        return '20대'\n",
    "    elif age < 40:\n",
    "        return '30대'\n",
    "    elif age < 50:\n",
    "        return '40대'\n",
    "    elif age < 60:\n",
    "        return '50대'\n",
    "    else:\n",
    "        return '60대이상'\n",
    "\n",
    "# 연령대별 인구수 계산 및 데이터 재구성\n",
    "final_data = []\n",
    "for _, row in reshaped_df.iterrows():\n",
    "    age_groups = {'0-9세': 0, '10대': 0, '20대': 0, '30대': 0, '40대': 0, '50대': 0, '60대이상': 0}\n",
    "    for i in range(111):\n",
    "        group = age_group(i)\n",
    "        age_groups[group] += row[i]\n",
    "    \n",
    "    for group, population in age_groups.items():\n",
    "        final_data.append({\n",
    "            '시도명': row['시도명'],\n",
    "            '시군구명': row['시군구명'],\n",
    "            '성별': row['성별'],\n",
    "            '연령대': group,\n",
    "            '인구수': population\n",
    "        })\n",
    "\n",
    "# 최종 DataFrame 생성\n",
    "final_df = pd.DataFrame(final_data)\n",
    "\n",
    "# 결과 출력\n",
    "print(final_df.tail(10))"
   ]
  }
 ],
 "metadata": {
  "kernelspec": {
   "display_name": "myenv",
   "language": "python",
   "name": "python3"
  },
  "language_info": {
   "codemirror_mode": {
    "name": "ipython",
    "version": 3
   },
   "file_extension": ".py",
   "mimetype": "text/x-python",
   "name": "python",
   "nbconvert_exporter": "python",
   "pygments_lexer": "ipython3",
   "version": "3.11.7"
  }
 },
 "nbformat": 4,
 "nbformat_minor": 2
}
