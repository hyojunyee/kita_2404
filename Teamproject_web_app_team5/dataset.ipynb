{
 "cells": [
  {
   "cell_type": "code",
   "execution_count": 3,
   "metadata": {},
   "outputs": [],
   "source": [
    "import matplotlib.colors as mcolors\n",
    "import pandas as pd\n",
    "import matplotlib.font_manager as fm\n",
    "import os\n",
    "import matplotlib.gridspec as gridspec\n",
    "from collections import Counter\n",
    "import ast"
   ]
  },
  {
   "cell_type": "code",
   "execution_count": 4,
   "metadata": {},
   "outputs": [
    {
     "name": "stdout",
     "output_type": "stream",
     "text": [
      "<class 'pandas.core.frame.DataFrame'>\n",
      "RangeIndex: 13620 entries, 0 to 13619\n",
      "Data columns (total 16 columns):\n",
      " #   Column        Non-Null Count  Dtype  \n",
      "---  ------        --------------  -----  \n",
      " 0   Year          13620 non-null  int64  \n",
      " 1   Month         13620 non-null  int64  \n",
      " 2   Category      13620 non-null  object \n",
      " 3   Title         13620 non-null  object \n",
      " 4   Author        13620 non-null  object \n",
      " 5   Publisher     13620 non-null  object \n",
      " 6   Price         13620 non-null  int64  \n",
      " 7   Publish_Date  13620 non-null  object \n",
      " 8   Sales_Index   13620 non-null  int64  \n",
      " 9   Rating        13620 non-null  float64\n",
      " 10  Age_Scores    13620 non-null  object \n",
      " 11  Pages         13572 non-null  object \n",
      " 12  Keywords      13620 non-null  object \n",
      " 13  Gender        13620 non-null  int64  \n",
      " 14  Age           13620 non-null  int64  \n",
      " 15  month         13620 non-null  int64  \n",
      "dtypes: float64(1), int64(7), object(8)\n",
      "memory usage: 1.7+ MB\n"
     ]
    }
   ],
   "source": [
    "# 예스24 데이터셋 = yes_df\n",
    "yes24_df = pd.read_csv('D:\\kdt_240424\\workspace\\m4_웹애플리케이션구축\\Teamproject_web_app_team5\\static\\data\\yes24_bestseller_data_final.csv')\n",
    "yes24_df.info()"
   ]
  },
  {
   "cell_type": "code",
   "execution_count": 5,
   "metadata": {},
   "outputs": [
    {
     "name": "stdout",
     "output_type": "stream",
     "text": [
      "Year             0\n",
      "Month            0\n",
      "Category         0\n",
      "Title            0\n",
      "Author           0\n",
      "Publisher        0\n",
      "Price            0\n",
      "Publish_Date     0\n",
      "Sales_Index      0\n",
      "Rating           0\n",
      "Age_Scores       0\n",
      "Pages           48\n",
      "Keywords         0\n",
      "Gender           0\n",
      "Age              0\n",
      "month            0\n",
      "dtype: int64\n",
      "Year              int64\n",
      "Month             int64\n",
      "Category         object\n",
      "Title            object\n",
      "Author           object\n",
      "Publisher        object\n",
      "Price             int64\n",
      "Publish_Date     object\n",
      "Sales_Index       int64\n",
      "Rating          float64\n",
      "Age_Scores       object\n",
      "Pages            object\n",
      "Keywords         object\n",
      "Gender            int64\n",
      "Age               int64\n",
      "month             int64\n",
      "dtype: object\n"
     ]
    }
   ],
   "source": [
    "# 결측치 확인 및 dtype 확인\n",
    "print(yes24_df.isna().sum())\n",
    "print(yes24_df.dtypes)"
   ]
  },
  {
   "cell_type": "code",
   "execution_count": 6,
   "metadata": {},
   "outputs": [
    {
     "data": {
      "text/html": [
       "<div>\n",
       "<style scoped>\n",
       "    .dataframe tbody tr th:only-of-type {\n",
       "        vertical-align: middle;\n",
       "    }\n",
       "\n",
       "    .dataframe tbody tr th {\n",
       "        vertical-align: top;\n",
       "    }\n",
       "\n",
       "    .dataframe thead th {\n",
       "        text-align: right;\n",
       "    }\n",
       "</style>\n",
       "<table border=\"1\" class=\"dataframe\">\n",
       "  <thead>\n",
       "    <tr style=\"text-align: right;\">\n",
       "      <th></th>\n",
       "      <th>Year</th>\n",
       "      <th>Month</th>\n",
       "      <th>Category</th>\n",
       "      <th>Title</th>\n",
       "      <th>Author</th>\n",
       "      <th>Publisher</th>\n",
       "      <th>Price</th>\n",
       "      <th>Publish_Date</th>\n",
       "      <th>Sales_Index</th>\n",
       "      <th>Rating</th>\n",
       "      <th>Age_Scores</th>\n",
       "      <th>Pages</th>\n",
       "      <th>Keywords</th>\n",
       "      <th>Gender</th>\n",
       "      <th>Age</th>\n",
       "      <th>month</th>\n",
       "    </tr>\n",
       "  </thead>\n",
       "  <tbody>\n",
       "    <tr>\n",
       "      <th>3327</th>\n",
       "      <td>2024</td>\n",
       "      <td>1</td>\n",
       "      <td>역사</td>\n",
       "      <td>나의 문화유산답사기 소장본 세트</td>\n",
       "      <td>유홍준 저</td>\n",
       "      <td>창비</td>\n",
       "      <td>131400</td>\n",
       "      <td>2023년 04월</td>\n",
       "      <td>4452</td>\n",
       "      <td>10.0</td>\n",
       "      <td>{}</td>\n",
       "      <td>NaN</td>\n",
       "      <td>['#인문위클리레터에소개된책', '#ㅁㅁ로본세계사', '#이책이나를출판사도살렸다',...</td>\n",
       "      <td>1</td>\n",
       "      <td>30</td>\n",
       "      <td>6</td>\n",
       "    </tr>\n",
       "    <tr>\n",
       "      <th>3507</th>\n",
       "      <td>2024</td>\n",
       "      <td>2</td>\n",
       "      <td>역사</td>\n",
       "      <td>나의 문화유산답사기 소장본 세트</td>\n",
       "      <td>유홍준 저</td>\n",
       "      <td>창비</td>\n",
       "      <td>131400</td>\n",
       "      <td>2023년 04월</td>\n",
       "      <td>4452</td>\n",
       "      <td>10.0</td>\n",
       "      <td>{}</td>\n",
       "      <td>NaN</td>\n",
       "      <td>['#인문위클리레터에소개된책', '#ㅁㅁ로본세계사', '#이책이나를출판사도살렸다',...</td>\n",
       "      <td>1</td>\n",
       "      <td>30</td>\n",
       "      <td>6</td>\n",
       "    </tr>\n",
       "    <tr>\n",
       "      <th>3687</th>\n",
       "      <td>2024</td>\n",
       "      <td>3</td>\n",
       "      <td>역사</td>\n",
       "      <td>나의 문화유산답사기 소장본 세트</td>\n",
       "      <td>유홍준 저</td>\n",
       "      <td>창비</td>\n",
       "      <td>131400</td>\n",
       "      <td>2023년 04월</td>\n",
       "      <td>4452</td>\n",
       "      <td>10.0</td>\n",
       "      <td>{}</td>\n",
       "      <td>NaN</td>\n",
       "      <td>['#인문위클리레터에소개된책', '#ㅁㅁ로본세계사', '#이책이나를출판사도살렸다',...</td>\n",
       "      <td>1</td>\n",
       "      <td>30</td>\n",
       "      <td>6</td>\n",
       "    </tr>\n",
       "    <tr>\n",
       "      <th>3867</th>\n",
       "      <td>2024</td>\n",
       "      <td>4</td>\n",
       "      <td>역사</td>\n",
       "      <td>나의 문화유산답사기 소장본 세트</td>\n",
       "      <td>유홍준 저</td>\n",
       "      <td>창비</td>\n",
       "      <td>131400</td>\n",
       "      <td>2023년 04월</td>\n",
       "      <td>4452</td>\n",
       "      <td>10.0</td>\n",
       "      <td>{}</td>\n",
       "      <td>NaN</td>\n",
       "      <td>['#인문위클리레터에소개된책', '#ㅁㅁ로본세계사', '#이책이나를출판사도살렸다',...</td>\n",
       "      <td>1</td>\n",
       "      <td>30</td>\n",
       "      <td>6</td>\n",
       "    </tr>\n",
       "    <tr>\n",
       "      <th>4047</th>\n",
       "      <td>2024</td>\n",
       "      <td>5</td>\n",
       "      <td>역사</td>\n",
       "      <td>나의 문화유산답사기 소장본 세트</td>\n",
       "      <td>유홍준 저</td>\n",
       "      <td>창비</td>\n",
       "      <td>131400</td>\n",
       "      <td>2023년 04월</td>\n",
       "      <td>4452</td>\n",
       "      <td>10.0</td>\n",
       "      <td>{}</td>\n",
       "      <td>NaN</td>\n",
       "      <td>['#인문위클리레터에소개된책', '#ㅁㅁ로본세계사', '#이책이나를출판사도살렸다',...</td>\n",
       "      <td>1</td>\n",
       "      <td>30</td>\n",
       "      <td>6</td>\n",
       "    </tr>\n",
       "  </tbody>\n",
       "</table>\n",
       "</div>"
      ],
      "text/plain": [
       "      Year  Month Category              Title Author Publisher   Price  \\\n",
       "3327  2024      1       역사  나의 문화유산답사기 소장본 세트  유홍준 저        창비  131400   \n",
       "3507  2024      2       역사  나의 문화유산답사기 소장본 세트  유홍준 저        창비  131400   \n",
       "3687  2024      3       역사  나의 문화유산답사기 소장본 세트  유홍준 저        창비  131400   \n",
       "3867  2024      4       역사  나의 문화유산답사기 소장본 세트  유홍준 저        창비  131400   \n",
       "4047  2024      5       역사  나의 문화유산답사기 소장본 세트  유홍준 저        창비  131400   \n",
       "\n",
       "     Publish_Date  Sales_Index  Rating Age_Scores Pages  \\\n",
       "3327    2023년 04월         4452    10.0         {}   NaN   \n",
       "3507    2023년 04월         4452    10.0         {}   NaN   \n",
       "3687    2023년 04월         4452    10.0         {}   NaN   \n",
       "3867    2023년 04월         4452    10.0         {}   NaN   \n",
       "4047    2023년 04월         4452    10.0         {}   NaN   \n",
       "\n",
       "                                               Keywords  Gender  Age  month  \n",
       "3327  ['#인문위클리레터에소개된책', '#ㅁㅁ로본세계사', '#이책이나를출판사도살렸다',...       1   30      6  \n",
       "3507  ['#인문위클리레터에소개된책', '#ㅁㅁ로본세계사', '#이책이나를출판사도살렸다',...       1   30      6  \n",
       "3687  ['#인문위클리레터에소개된책', '#ㅁㅁ로본세계사', '#이책이나를출판사도살렸다',...       1   30      6  \n",
       "3867  ['#인문위클리레터에소개된책', '#ㅁㅁ로본세계사', '#이책이나를출판사도살렸다',...       1   30      6  \n",
       "4047  ['#인문위클리레터에소개된책', '#ㅁㅁ로본세계사', '#이책이나를출판사도살렸다',...       1   30      6  "
      ]
     },
     "execution_count": 6,
     "metadata": {},
     "output_type": "execute_result"
    }
   ],
   "source": [
    "yes24_df[yes24_df['Pages'].isna()].head()"
   ]
  },
  {
   "cell_type": "code",
   "execution_count": 17,
   "metadata": {},
   "outputs": [],
   "source": [
    "df = yes24_df.copy()"
   ]
  },
  {
   "cell_type": "code",
   "execution_count": 13,
   "metadata": {},
   "outputs": [],
   "source": [
    "def get_book_recommendations(gender, age):\n",
    "    # 성별로 1위 카테고리 찾기\n",
    "    gender_cat = df2.loc[df2['Gender'] == gender].groupby('Category')['Sales_Index'].mean().idxmax()\n",
    "    \n",
    "    # 나이로 1위 카테고리 찾기 \n",
    "    age_cat = df2.loc[df2['Age'] == age].groupby('Category')['Sales_Index'].mean().idxmax()\n",
    "    \n",
    "    # 두 카테고리의 교집합 찾기\n",
    "    top_category = set([gender_cat]).intersection(set([age_cat]))\n",
    "    \n",
    "    # 교집합 카테고리 중 가장 높은 Sales_Index 도서 추천\n",
    "    if top_category:\n",
    "        top_category = list(top_category)[0]\n",
    "        top_book = df2.loc[(df2['Category'] == top_category)].sort_values('Sales_Index', ascending=False).iloc[0]\n",
    "        return top_book['Title'], top_book['Author'], top_category\n",
    "    else:\n",
    "        return None, None, None"
   ]
  },
  {
   "cell_type": "code",
   "execution_count": 14,
   "metadata": {},
   "outputs": [
    {
     "data": {
      "text/plain": [
       "('세이노의 가르침', '세이노(SayNo) 저', '자기계발')"
      ]
     },
     "execution_count": 14,
     "metadata": {},
     "output_type": "execute_result"
    }
   ],
   "source": [
    "get_book_recommendations(0, 30)"
   ]
  },
  {
   "cell_type": "code",
   "execution_count": 38,
   "metadata": {},
   "outputs": [],
   "source": [
    "def get_book_recommendations(gender, age):\n",
    "    # 성별로 1위 카테고리 찾기\n",
    "    if gender == '남성':\n",
    "        gender_cat = df.loc[df['Gender'] == 0].groupby('Category')['Sales_Index'].mean().idxmax()\n",
    "    elif gender == '여성':\n",
    "        gender_cat = df.loc[df['Gender'] == 1].groupby('Category')['Sales_Index'].mean().idxmax()\n",
    "    else:\n",
    "        gender_cat = None\n",
    "    \n",
    "    # 나이로 1위 카테고리 찾기 \n",
    "    age_cat = df.loc[df['Age'] == age // 10 * 10].groupby('Category')['Sales_Index'].mean().idxmax()\n",
    "    \n",
    "    # 두 카테고리의 교집합 찾기\n",
    "    # top_category = set([gender_cat]).intersection(set([age_cat]))\n",
    "    \n",
    "    # 두 카테고리의 합집합 찾기\n",
    "    top_categories = set([gender_cat]).union(set([age_cat]))\n",
    "    \n",
    "    # 합집합 카테고리 중 가장 높은 Sales_Index 도서 추천\n",
    "    if top_categories:\n",
    "        recommendations = []\n",
    "        for cat in top_categories:\n",
    "            top_book = df.loc[(df['Category'] == cat)].sort_values('Sales_Index', ascending=False).iloc[0]\n",
    "            recommendations.append(f\"제목: {top_book['Title']}, 작가: {top_book['Author']}, 카테고리: {cat}\")\n",
    "        return '\\n'.join(recommendations)\n",
    "    else:\n",
    "        return None"
   ]
  },
  {
   "cell_type": "code",
   "execution_count": 39,
   "metadata": {},
   "outputs": [
    {
     "name": "stdout",
     "output_type": "stream",
     "text": [
      "제목: 마흔에 읽는 쇼펜하우어 (200쇄 기념 확장판), 작가: 강용수 저, 카테고리: 인문\n",
      "제목: 세이노의 가르침, 작가: 세이노(SayNo) 저, 카테고리: 자기계발\n"
     ]
    }
   ],
   "source": [
    "print(get_book_recommendations('여성', 25))"
   ]
  },
  {
   "cell_type": "markdown",
   "metadata": {},
   "source": []
  },
  {
   "cell_type": "code",
   "execution_count": 36,
   "metadata": {},
   "outputs": [],
   "source": [
    "from flask import Flask, render_template, request, redirect, url_for, request, jsonify"
   ]
  }
 ],
 "metadata": {
  "kernelspec": {
   "display_name": "myenv",
   "language": "python",
   "name": "python3"
  },
  "language_info": {
   "codemirror_mode": {
    "name": "ipython",
    "version": 3
   },
   "file_extension": ".py",
   "mimetype": "text/x-python",
   "name": "python",
   "nbconvert_exporter": "python",
   "pygments_lexer": "ipython3",
   "version": "3.10.11"
  }
 },
 "nbformat": 4,
 "nbformat_minor": 2
}
