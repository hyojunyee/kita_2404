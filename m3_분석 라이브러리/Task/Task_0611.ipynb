{
  "nbformat": 4,
  "nbformat_minor": 0,
  "metadata": {
    "colab": {
      "provenance": [],
      "authorship_tag": "ABX9TyNpMPBfOEB6Ul0nVrwGBHQP",
      "include_colab_link": true
    },
    "kernelspec": {
      "name": "python3",
      "display_name": "Python 3"
    },
    "language_info": {
      "name": "python"
    }
  },
  "cells": [
    {
      "cell_type": "markdown",
      "metadata": {
        "id": "view-in-github",
        "colab_type": "text"
      },
      "source": [
        "<a href=\"https://colab.research.google.com/github/hyojunyee/kita_2404/blob/main/m3_%EB%B6%84%EC%84%9D%20%EB%9D%BC%EC%9D%B4%EB%B8%8C%EB%9F%AC%EB%A6%AC/Task/Task_0611.ipynb\" target=\"_parent\"><img src=\"https://colab.research.google.com/assets/colab-badge.svg\" alt=\"Open In Colab\"/></a>"
      ]
    },
    {
      "cell_type": "code",
      "source": [
        "import numpy as np"
      ],
      "metadata": {
        "id": "AZxYGj42xHek"
      },
      "execution_count": 2,
      "outputs": []
    },
    {
      "cell_type": "markdown",
      "source": [
        "Task1_0611. 주어진 대각 행렬의 역행렬을 구하고, 역행렬이 맞는지 확인하세요."
      ],
      "metadata": {
        "id": "UPR1BeGAsDsB"
      }
    },
    {
      "cell_type": "code",
      "execution_count": 4,
      "metadata": {
        "colab": {
          "base_uri": "https://localhost:8080/"
        },
        "id": "5VN3lllGr_uS",
        "outputId": "dc48bc46-379c-4c97-83f1-e7823c084681"
      },
      "outputs": [
        {
          "output_type": "stream",
          "name": "stdout",
          "text": [
            "[[1 0 0]\n",
            " [0 2 0]\n",
            " [0 0 3]] \n",
            " [[1.         0.         0.        ]\n",
            " [0.         0.5        0.        ]\n",
            " [0.         0.         0.33333333]]\n",
            "[[1. 0. 0.]\n",
            " [0. 1. 0.]\n",
            " [0. 0. 1.]]\n",
            "False\n"
          ]
        }
      ],
      "source": [
        "# 대각행렬 정의\n",
        "D = np.diag([1, 2, 3])\n",
        "# 대각행렬의 역행렬\n",
        "D_inv = np.linalg.inv(D)\n",
        "print(D,'\\n',D_inv)\n",
        "#원래 행렬과 대각행렬의 곱\n",
        "result = np.allclose(D, D_inv)\n",
        "print(D @ D_inv)\n",
        "print(result)"
      ]
    },
    {
      "cell_type": "markdown",
      "source": [
        "Task2_0611. 임의의 상삼각 행렬을 생성하고, 그 행렬로 부터 하삼각 행렬을 구하여 출력하세요."
      ],
      "metadata": {
        "id": "ysJgNt8OsEvH"
      }
    },
    {
      "cell_type": "code",
      "source": [
        "# 상삼각행렬 정의\n",
        "a = np.triu(np.round(np.random.rand(3, 3)))\n",
        "\n",
        "# 상삼각행렬의 전치\n",
        "a.T\n",
        "\n",
        "print(\"Upper Triangular Matrix U = \\n\", a)\n",
        "print(\"Lower Triangular Matrix L = \\n\", a.T)"
      ],
      "metadata": {
        "colab": {
          "base_uri": "https://localhost:8080/"
        },
        "id": "bVHB-WCwJiPB",
        "outputId": "4c87900d-cf2c-43ac-970b-5f5c728415bc"
      },
      "execution_count": 12,
      "outputs": [
        {
          "output_type": "stream",
          "name": "stdout",
          "text": [
            "Upper Triangular Matrix U = \n",
            " [[0. 1. 1.]\n",
            " [0. 0. 1.]\n",
            " [0. 0. 0.]]\n",
            "Lower Triangular Matrix L = \n",
            " [[0. 0. 0.]\n",
            " [1. 0. 0.]\n",
            " [1. 1. 0.]]\n"
          ]
        }
      ]
    },
    {
      "cell_type": "code",
      "source": [
        "a = np.triu(np.random.rand(3, 3))\n",
        "np.round(a.T,2)"
      ],
      "metadata": {
        "colab": {
          "base_uri": "https://localhost:8080/"
        },
        "id": "5qfMvUs6sF81",
        "outputId": "af86e88c-2ed1-4d3a-dba0-b2163ec49d54"
      },
      "execution_count": null,
      "outputs": [
        {
          "output_type": "execute_result",
          "data": {
            "text/plain": [
              "array([[0.11, 0.  , 0.  ],\n",
              "       [0.42, 0.42, 0.  ],\n",
              "       [0.39, 0.04, 0.02]])"
            ]
          },
          "metadata": {},
          "execution_count": 31
        }
      ]
    },
    {
      "cell_type": "code",
      "source": [
        "import random as rd\n",
        "\n",
        "a = np.triu(np.random.randint(10, size=(3, 3)))\n",
        "a.T"
      ],
      "metadata": {
        "colab": {
          "base_uri": "https://localhost:8080/"
        },
        "id": "Ztmvw2vHIypp",
        "outputId": "76222c88-2797-41dc-aa30-612b0f8186e2"
      },
      "execution_count": null,
      "outputs": [
        {
          "output_type": "execute_result",
          "data": {
            "text/plain": [
              "array([[9, 0, 0],\n",
              "       [3, 9, 0],\n",
              "       [1, 7, 8]])"
            ]
          },
          "metadata": {},
          "execution_count": 26
        }
      ]
    },
    {
      "cell_type": "markdown",
      "source": [
        "Task3_0611. 주어진 행렬의 역행렬을 구하고, 역행렬이 맞는지 확인하세요."
      ],
      "metadata": {
        "id": "UtJdWKfOsFnl"
      }
    },
    {
      "cell_type": "code",
      "source": [
        "A = np.array([[4, 7], [2, 6]])\n",
        "A_inv = np.linalg.inv(A)\n",
        "result = np.dot(A, A_inv)\n",
        "# 단위행렬\n",
        "I = np.eye(2)\n",
        "print(\"Araay = \\n\",A)\n",
        "print(\"Inverse of Array = \\n\",A_inv)\n",
        "print(\"A * A_inv =\\n\", result)\n",
        "np.allclose(result, I)"
      ],
      "metadata": {
        "colab": {
          "base_uri": "https://localhost:8080/"
        },
        "id": "4sf_zfbUsGTp",
        "outputId": "b6779a7e-06b5-4d10-df35-29bd4fcaf67f"
      },
      "execution_count": 21,
      "outputs": [
        {
          "output_type": "stream",
          "name": "stdout",
          "text": [
            "Araay = \n",
            " [[4 7]\n",
            " [2 6]]\n",
            "Inverse of Array = \n",
            " [[ 0.6 -0.7]\n",
            " [-0.2  0.4]]\n",
            "A * A_inv =\n",
            " [[ 1.00000000e+00 -1.11022302e-16]\n",
            " [ 1.11022302e-16  1.00000000e+00]]\n"
          ]
        },
        {
          "output_type": "execute_result",
          "data": {
            "text/plain": [
              "True"
            ]
          },
          "metadata": {},
          "execution_count": 21
        }
      ]
    },
    {
      "cell_type": "markdown",
      "source": [
        "Task4_0611. 주어진 데이터 포인트와 모델 파라미터를 사용하여 선형 회귀 모델의 예측값을 계산하세요.\n",
        "\n",
        "- 1단계 : 주어진 입력 데이터 포인트 X와 모델 파라미터 θ를 정의.\n",
        "- 2단계 : 행렬 곱을 사용하여 예측값 y를 계산."
      ],
      "metadata": {
        "id": "-U3P1iak97E5"
      }
    },
    {
      "cell_type": "code",
      "source": [
        "X = np.array([1, 2, 3])\n",
        "theta = np.array([0.2, 0.3, 0.4])\n",
        "y = np.dot(X, theta)\n",
        "print(\"input Data Point X =\\n\",X)\n",
        "print(\"Model Parameters θ =\\n\",theta)\n",
        "print(\"Predicted Value y =\\n\",y)"
      ],
      "metadata": {
        "colab": {
          "base_uri": "https://localhost:8080/"
        },
        "id": "t7LbJSyp96YL",
        "outputId": "c28ed323-6933-4867-fd3a-5ed816265a3b"
      },
      "execution_count": 25,
      "outputs": [
        {
          "output_type": "stream",
          "name": "stdout",
          "text": [
            "input Data Point X =\n",
            " [1 2 3]\n",
            "Model Parameters θ =\n",
            " [0.2 0.3 0.4]\n",
            "Predicted Value y =\n",
            " 2.0\n"
          ]
        }
      ]
    },
    {
      "cell_type": "code",
      "source": [
        "# 입력 데이터 포인트(1,ㅌ1,ㅌ2)\n",
        "X = np.array([1, 2, 3])\n",
        "\n",
        "# 모델 파라미터(bias, w1, w2)\n",
        "theta = np.array([0.5, 1.5, -2])\n",
        "\n",
        "# 선형 회기 모델의 예측값 계산\n",
        "y = np.dot(X, theta)\n",
        "\n",
        "print(\"Input Data Point X =\\n\",X)\n",
        "print(\"Model Parameters θ =\\n\",theta)\n",
        "print(\"Predicted Value y =\\n\",y)"
      ],
      "metadata": {
        "colab": {
          "base_uri": "https://localhost:8080/"
        },
        "id": "L_O1fJkX4zHm",
        "outputId": "346e30e8-b5d0-4114-cca1-dbeadc74954d"
      },
      "execution_count": 22,
      "outputs": [
        {
          "output_type": "stream",
          "name": "stdout",
          "text": [
            "Input Data Point X =\n",
            " [1 2 3]\n",
            "Model Parameters θ =\n",
            " [ 0.5  1.5 -2. ]\n",
            "Predicted Value y =\n",
            " -2.5\n"
          ]
        }
      ]
    },
    {
      "cell_type": "markdown",
      "source": [
        "Task5_0611. 주어진 입력 벡터와 가중치 행렬을 사용하여 신경망의 단일 계층 출력을 계산하세요.\n",
        "\n",
        "- 1단계: 입력 벡터 X와 가중치 행렬 W를 정의.\n",
        "- 2단계: 행렬 곱을 사용하여 계층의 출력을 계산."
      ],
      "metadata": {
        "id": "vIfo_MeK-L6W"
      }
    },
    {
      "cell_type": "code",
      "source": [
        "# W는 가중치 행렬, X는 입력벡터이고 일반적인 표기방식은 WX\n",
        "\n",
        "# 입력벡터\n",
        "X = np.array([0.5, 1.0, -1.5])\n",
        "\n",
        "# 가중치 행렬 W\n",
        "W = np.array([\n",
        "    [0.1, 0.2, 0.3],\n",
        "    [-0.4, -0.5, -0.6],\n",
        "    [-0.1, -0.2, -0.3]\n",
        "])\n",
        "\n",
        "# 신경망의 단일 계층 출력\n",
        "output = np.dot(W, X)\n",
        "\n",
        "print(\"Input Vector X =\\n\",X)\n",
        "print(\"Weight Matrix W =\\n\",W)\n",
        "print(\"Layer Output =\\n\",output)"
      ],
      "metadata": {
        "colab": {
          "base_uri": "https://localhost:8080/"
        },
        "id": "S5pF9TEf-Ndm",
        "outputId": "c76ff4c3-7ddd-4957-db06-57b0e9ecc759"
      },
      "execution_count": 27,
      "outputs": [
        {
          "output_type": "stream",
          "name": "stdout",
          "text": [
            "Input Vector X =\n",
            " [ 0.5  1.  -1.5]\n",
            "Weight Matrix W =\n",
            " [[ 0.1  0.2  0.3]\n",
            " [-0.4 -0.5 -0.6]\n",
            " [-0.1 -0.2 -0.3]]\n",
            "Layer Output =\n",
            " [-0.2 -0.1  0. ]\n"
          ]
        }
      ]
    },
    {
      "cell_type": "code",
      "source": [
        "# W는 가중치 행렬, X는 입력벡터이고 일반적인 표기방식은 WX\n",
        "\n",
        "# 입력벡터\n",
        "X = np.array([0.5, 1.0, -1.5])\n",
        "\n",
        "# 가중치 행렬 W\n",
        "W = np.array([\n",
        "    [0.1, -0.3, 0.5],\n",
        "    [-0.4, 0.1, -0.2],\n",
        "    [-0.5, 0.4, 0.3]\n",
        "])\n",
        "\n",
        "# 신경망의 단일 계층 출력\n",
        "output = np.dot(W, X)\n",
        "# output = np.dot(X, W)\n",
        "\n",
        "print(\"Input Vector X =\\n\",X)\n",
        "print(\"Weight Matrix W =\\n\",W)\n",
        "print(\"Layer Output =\\n\",output)"
      ],
      "metadata": {
        "colab": {
          "base_uri": "https://localhost:8080/"
        },
        "id": "_sozOYDJ60T_",
        "outputId": "f36fd09d-0fc6-4582-f98b-050833d5266a"
      },
      "execution_count": 31,
      "outputs": [
        {
          "output_type": "stream",
          "name": "stdout",
          "text": [
            "Input Vector X =\n",
            " [ 0.5  1.  -1.5]\n",
            "Weight Matrix W =\n",
            " [[ 0.1 -0.3  0.5]\n",
            " [-0.4  0.1 -0.2]\n",
            " [-0.5  0.4  0.3]]\n",
            "Layer Output =\n",
            " [ 0.4  -0.65 -0.4 ]\n"
          ]
        }
      ]
    },
    {
      "cell_type": "markdown",
      "source": [
        "Task6_0611. 주어진 입력 벡터에 대해 신경망의 활성화 함수(ReLU, 시그모이드)를 적용하여 출력을 계산하세요.\n",
        "\n",
        "- 1단계: 입력 벡터 X를 정의.\n",
        "- 2단계: 가중치 행렬 W와 편향 벡터 b를 정의.\n",
        "- 3단계: 활성화 함수(ReLU, 시그모이드)를 적용하여 출력을 계산<br>\n",
        "활성화 함수 적용<br>\n",
        "output_relu = relu(Z)<br>\n",
        "output_sigmoid = sigmoid(Z)"
      ],
      "metadata": {
        "id": "NgCig1BZ-M-2"
      }
    },
    {
      "cell_type": "code",
      "source": [
        "# 활성화 함수 정의\n",
        "def relu(x):\n",
        "    return np.maximum(0, x)\n",
        "def sigmoid(x):\n",
        "    return 1 / (1 + np.exp(-x))\n",
        "\n",
        "# 입력 벡터 정의\n",
        "X = np.array([1, -2, 3])\n",
        "\n",
        "# 가중치 행렬과 편향 벡터 정의\n",
        "W = np.array([\n",
        "    [0.2, 0.5, 0.3],\n",
        "    [0.4, 0.1, -0.2],\n",
        "    [-0.3, -0.2, 0.3]\n",
        "])\n",
        "b = np.array([0.1, -0.2, 0.3])\n",
        "\n",
        "# 활성화 함수 적용\n",
        "Z = np.dot(X, W) + b\n",
        "output_relu = relu(Z)\n",
        "output_sigmoid = sigmoid(Z)\n",
        "\n",
        "print(\"Input Vector X =\\n\",X)\n",
        "print(\"Weight Matrix W =\\n\",W)\n",
        "print(\"Bias Vector b =\\n\",b)\n",
        "print(\"Z =\\n\",Z)\n",
        "print(\"ReLU Output =\\n\",output_relu)\n",
        "print(\"Sigmoid Output =\\n\",output_sigmoid)"
      ],
      "metadata": {
        "colab": {
          "base_uri": "https://localhost:8080/"
        },
        "id": "nLZ5CNNqAL_X",
        "outputId": "fed25d43-8e39-48be-b78b-0f80fa84df9d"
      },
      "execution_count": 32,
      "outputs": [
        {
          "output_type": "stream",
          "name": "stdout",
          "text": [
            "Input Vector X =\n",
            " [ 1 -2  3]\n",
            "Weight Matrix W =\n",
            " [[ 0.2  0.5  0.3]\n",
            " [ 0.4  0.1 -0.2]\n",
            " [-0.3 -0.2  0.3]]\n",
            "Bias Vector b =\n",
            " [ 0.1 -0.2  0.3]\n",
            "Z =\n",
            " [-1.4 -0.5  1.9]\n",
            "ReLU Output =\n",
            " [0.  0.  1.9]\n",
            "Sigmoid Output =\n",
            " [0.19781611 0.37754067 0.86989153]\n"
          ]
        }
      ]
    },
    {
      "cell_type": "code",
      "source": [
        "import tensorflow as tf\n",
        "from tensorflow.keras.activations import relu, sigmoid\n",
        "X = np.array([1, -2, 3])\n",
        "W = np.array([\n",
        "    [0.2, 0.5, 0.3],\n",
        "    [0.4, 0.1, -0.2],\n",
        "    [-0.3, -0.2, 0.3]\n",
        "])\n",
        "b = np.array([0.1, 0.2, 0.3])\n",
        "\n",
        "Z = np.dot(X, W) + b\n",
        "\n",
        "output_relu = relu(Z)\n",
        "output_sigmoid = sigmoid(Z)\n",
        "\n",
        "print(\"Input Vector X =\\n\",X)\n",
        "print(\"Weight Matrix W =\\n\",W)\n",
        "print(\"Bias Vector b =\\n\",b)\n",
        "print(\"Z =\\n\",Z)\n",
        "print(\"ReLU Output =\\n\",output_relu)\n",
        "print(\"Sigmoid Output =\\n\",output_sigmoid)"
      ],
      "metadata": {
        "colab": {
          "base_uri": "https://localhost:8080/"
        },
        "id": "aOsFBOb0-N6I",
        "outputId": "712413fe-04ca-46a1-a344-d920593c6161"
      },
      "execution_count": 33,
      "outputs": [
        {
          "output_type": "stream",
          "name": "stdout",
          "text": [
            "Input Vector X =\n",
            " [ 1 -2  3]\n",
            "Weight Matrix W =\n",
            " [[ 0.2  0.5  0.3]\n",
            " [ 0.4  0.1 -0.2]\n",
            " [-0.3 -0.2  0.3]]\n",
            "Bias Vector b =\n",
            " [0.1 0.2 0.3]\n",
            "Z =\n",
            " [-1.4 -0.1  1.9]\n",
            "ReLU Output =\n",
            " tf.Tensor([0.  0.  1.9], shape=(3,), dtype=float64)\n",
            "Sigmoid Output =\n",
            " tf.Tensor([0.19781611 0.47502081 0.86989153], shape=(3,), dtype=float64)\n"
          ]
        }
      ]
    },
    {
      "cell_type": "markdown",
      "source": [
        "Task7_0611. 주어진 선형 방정식을 행렬 형태로 나타내고, 역행렬을 사용하여\n",
        "x와 y를 구하세요.\n",
        "\n",
        "$\\begin{cases}\n",
        "3x + 4y = 10 \\\\\n",
        "2x + y = 5\n",
        "\\end{cases}$\n",
        "\n",
        "단계:\n",
        "1. 계수 행렬 A와 결과 벡터 b를 정의.\n",
        "2. 행렬 A의 역행렬을 구한다.\n",
        "3. 역행렬을 사용하여 변수 x를 구한다."
      ],
      "metadata": {
        "id": "GYrJMb1dHN5L"
      }
    },
    {
      "cell_type": "markdown",
      "source": [
        "[풀이]\n",
        "주어진 선형방정식을 행렬 형태로 나타내면 다음과 같다: \\\\\n",
        "$A\\mathbf{x} = \\mathbf{b}$ \\\\\n",
        "여기서 \\\\\n",
        "$A = \\begin{bmatrix}3 & 4 \\\\2 & 1\\end{bmatrix}$,\n",
        "\n",
        "$\\mathbf{x} = \\begin{bmatrix}x \\\\y\\end{bmatrix}$,\n",
        "\n",
        "$\\mathbf{b} = \\begin{bmatrix}10 \\\\5\\end{bmatrix}$\n",
        "\n",
        "$\\mathbf{x} = A^{-1} \\mathbf{b}$"
      ],
      "metadata": {
        "id": "bPQS5uxhChB7"
      }
    },
    {
      "cell_type": "code",
      "source": [
        "# 계수 행렬 A와 결과 벡터 b 정의\n",
        "A = np.array([[3, 4], [2, 1]])\n",
        "b = np.array([10, 5])\n",
        "\n",
        "# 행렬 A의 역행렬 계산\n",
        "A_inv = np.linalg.inv(A)\n",
        "\n",
        "# 해 계산\n",
        "x = np.dot(A_inv, b)\n",
        "\n",
        "print(\"Coefficient Matrix A =\\n\", A)\n",
        "print(\"Result Vector b =\\n\", b)\n",
        "print(\"Inverse of Coefficient Matrix A =\\n\", A_inv)\n",
        "print(\"Solution Vector x =\\n\", x)"
      ],
      "metadata": {
        "colab": {
          "base_uri": "https://localhost:8080/"
        },
        "id": "pZExEqKBCVUV",
        "outputId": "1040ca86-8dae-4b2e-84fa-c2537c099af9"
      },
      "execution_count": 34,
      "outputs": [
        {
          "output_type": "stream",
          "name": "stdout",
          "text": [
            "Coefficient Matrix A =\n",
            " [[3 4]\n",
            " [2 1]]\n",
            "Result Vector b =\n",
            " [10  5]\n",
            "Inverse of Coefficient Matrix A =\n",
            " [[-0.2  0.8]\n",
            " [ 0.4 -0.6]]\n",
            "Solution Vector x =\n",
            " [2. 1.]\n"
          ]
        }
      ]
    },
    {
      "cell_type": "code",
      "source": [
        "a = np.array([[3, 4], [2, 1]])\n",
        "b = np.array([10, 5])\n",
        "a_inv = np.linalg.inv(a)\n",
        "x = np.dot(a_inv, b)\n",
        "print(x)"
      ],
      "metadata": {
        "colab": {
          "base_uri": "https://localhost:8080/"
        },
        "id": "gNLk4LGuL-zo",
        "outputId": "7b828007-2834-422a-ece5-e1bf90c9bf41"
      },
      "execution_count": null,
      "outputs": [
        {
          "output_type": "stream",
          "name": "stdout",
          "text": [
            "[2. 1.]\n"
          ]
        }
      ]
    },
    {
      "cell_type": "markdown",
      "source": [
        "Task8_0611. 주어진 2D 평면의 점을 특정 변환 행렬을 사용하여 변환한 후, 변환된 좌표를 원래 좌표로 되돌리세요.\n",
        "\n",
        "단계\n",
        "1. 원래 점의 좌표 p와 변환 행렬 T를 정의.\n",
        "2. 변환 행렬 T를 사용하여 새로운 좌표 p`를 계산.\n",
        "3. 변환 행렬 T의 역행렬을 사용하여 새로운 좌표 p`에서 원래 좌표 p를 복원."
      ],
      "metadata": {
        "id": "ZsxIRSSvHJIh"
      }
    },
    {
      "cell_type": "code",
      "source": [
        "# 원래 점의 좌표 p와 변환 행렬 T 정의\n",
        "p = np.array([1, 2])\n",
        "T = np.array([[2, 0], [0, 3]])\n",
        "\n",
        "# 변환 행렬 T를 사용하여 새로운 좌표 p 계산\n",
        "new_p = np.dot(T, p)\n",
        "\n",
        "# 변환 행렬 T의 역행렬 계산\n",
        "T_inv = np.linalg.inv(T)\n",
        "\n",
        "# 변환 행렬 T의 역행렬을 사용하여 새로운 좌표 p에서 원래 좌표 p 복원\n",
        "restored_p = np.dot(T_inv, new_p)\n",
        "\n",
        "print(\"Original Point P =\" , p)\n",
        "print(\"Transformation Matrix T =\\n\", T)\n",
        "print(\"Transformed Point P` =\", new_p)\n",
        "print(\"Inverse of Transformation Matrix T =\\n\", T_inv)\n",
        "print(\"Restored Point P` =\", restored_p)"
      ],
      "metadata": {
        "colab": {
          "base_uri": "https://localhost:8080/"
        },
        "id": "xQuhK_pnHLf6",
        "outputId": "b068a8d3-1c4f-415a-8907-ffeef0823eae"
      },
      "execution_count": 38,
      "outputs": [
        {
          "output_type": "stream",
          "name": "stdout",
          "text": [
            "Original Point P = [1 2]\n",
            "Transformation Matrix T =\n",
            " [[2 0]\n",
            " [0 3]]\n",
            "Transformed Point P` = [2 6]\n",
            "Inverse of Transformation Matrix T =\n",
            " [[0.5        0.        ]\n",
            " [0.         0.33333333]]\n",
            "Restored Point P` = [1. 2.]\n"
          ]
        }
      ]
    }
  ]
}