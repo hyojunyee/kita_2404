{
  "nbformat": 4,
  "nbformat_minor": 0,
  "metadata": {
    "colab": {
      "provenance": [],
      "authorship_tag": "ABX9TyPdpd4A2ZH/xsctlH7tDSJm",
      "include_colab_link": true
    },
    "kernelspec": {
      "name": "python3",
      "display_name": "Python 3"
    },
    "language_info": {
      "name": "python"
    }
  },
  "cells": [
    {
      "cell_type": "markdown",
      "metadata": {
        "id": "view-in-github",
        "colab_type": "text"
      },
      "source": [
        "<a href=\"https://colab.research.google.com/github/hyojunyee/kita_2404/blob/main/m3_%EB%B6%84%EC%84%9D%20%EB%9D%BC%EC%9D%B4%EB%B8%8C%EB%9F%AC%EB%A6%AC/Task/Task_0611.ipynb\" target=\"_parent\"><img src=\"https://colab.research.google.com/assets/colab-badge.svg\" alt=\"Open In Colab\"/></a>"
      ]
    },
    {
      "cell_type": "code",
      "source": [
        "import numpy as np"
      ],
      "metadata": {
        "id": "AZxYGj42xHek"
      },
      "execution_count": null,
      "outputs": []
    },
    {
      "cell_type": "markdown",
      "source": [
        "Task1_0611. 주어진 대각 행렬의 역행렬을 구하고, 역행렬이 맞는지 확인하세요."
      ],
      "metadata": {
        "id": "UPR1BeGAsDsB"
      }
    },
    {
      "cell_type": "code",
      "execution_count": null,
      "metadata": {
        "colab": {
          "base_uri": "https://localhost:8080/"
        },
        "id": "5VN3lllGr_uS",
        "outputId": "5817ecd1-778e-4ee9-a240-25d872672e58"
      },
      "outputs": [
        {
          "output_type": "execute_result",
          "data": {
            "text/plain": [
              "False"
            ]
          },
          "metadata": {},
          "execution_count": 3
        }
      ],
      "source": [
        "D = np.diag([1, 2, 3])\n",
        "D_inv = np.linalg.inv(D)\n",
        "np.allclose(D, D_inv)"
      ]
    },
    {
      "cell_type": "markdown",
      "source": [
        "Task2_0611. 임의의 상삼각 행렬을 생성하고, 그 행렬로 부터 하삼각 행렬을 구하여 출력하세요."
      ],
      "metadata": {
        "id": "ysJgNt8OsEvH"
      }
    },
    {
      "cell_type": "code",
      "source": [
        "a = np.triu(np.random.rand(3, 3))\n",
        "a.T"
      ],
      "metadata": {
        "colab": {
          "base_uri": "https://localhost:8080/"
        },
        "id": "bVHB-WCwJiPB",
        "outputId": "2741e1c6-2436-458a-c4b2-7bd72d446739"
      },
      "execution_count": null,
      "outputs": [
        {
          "output_type": "execute_result",
          "data": {
            "text/plain": [
              "array([[0.57546046, 0.        , 0.        ],\n",
              "       [0.3151794 , 0.41970977, 0.        ],\n",
              "       [0.52470208, 0.20259493, 0.11743219]])"
            ]
          },
          "metadata": {},
          "execution_count": 33
        }
      ]
    },
    {
      "cell_type": "code",
      "source": [
        "a = np.triu(np.random.rand(3, 3))\n",
        "np.round(a.T,2)"
      ],
      "metadata": {
        "colab": {
          "base_uri": "https://localhost:8080/"
        },
        "id": "5qfMvUs6sF81",
        "outputId": "af86e88c-2ed1-4d3a-dba0-b2163ec49d54"
      },
      "execution_count": null,
      "outputs": [
        {
          "output_type": "execute_result",
          "data": {
            "text/plain": [
              "array([[0.11, 0.  , 0.  ],\n",
              "       [0.42, 0.42, 0.  ],\n",
              "       [0.39, 0.04, 0.02]])"
            ]
          },
          "metadata": {},
          "execution_count": 31
        }
      ]
    },
    {
      "cell_type": "code",
      "source": [
        "import random as rd\n",
        "\n",
        "a = np.triu(np.random.randint(10, size=(3, 3)))\n",
        "a.T"
      ],
      "metadata": {
        "colab": {
          "base_uri": "https://localhost:8080/"
        },
        "id": "Ztmvw2vHIypp",
        "outputId": "76222c88-2797-41dc-aa30-612b0f8186e2"
      },
      "execution_count": null,
      "outputs": [
        {
          "output_type": "execute_result",
          "data": {
            "text/plain": [
              "array([[9, 0, 0],\n",
              "       [3, 9, 0],\n",
              "       [1, 7, 8]])"
            ]
          },
          "metadata": {},
          "execution_count": 26
        }
      ]
    },
    {
      "cell_type": "markdown",
      "source": [
        "Task3_0611. 주어진 행렬의 역행렬을 구하고, 역행렬이 맞는지 확인하세요."
      ],
      "metadata": {
        "id": "UtJdWKfOsFnl"
      }
    },
    {
      "cell_type": "code",
      "source": [
        "A = np.array([[4, 7], [2, 6]])\n",
        "A_inv = np.linalg.inv(A)\n",
        "np.allclose(A, A_inv)"
      ],
      "metadata": {
        "colab": {
          "base_uri": "https://localhost:8080/"
        },
        "id": "4sf_zfbUsGTp",
        "outputId": "cc7a2dde-0434-4390-d3b9-9db222d3381a"
      },
      "execution_count": null,
      "outputs": [
        {
          "output_type": "execute_result",
          "data": {
            "text/plain": [
              "False"
            ]
          },
          "metadata": {},
          "execution_count": 12
        }
      ]
    },
    {
      "cell_type": "markdown",
      "source": [
        "Task4_0611. 주어진 데이터 포인트와 모델 파라미터를 사용하여 선형 회귀 모델의 예측값을 계산하세요.\n",
        "\n",
        "- 1단계 : 주어진 입력 데이터 포인트 X와 모델 파라미터 θ를 정의.\n",
        "- 2단계 : 행렬 곱을 사용하여 예측값 y를 계산."
      ],
      "metadata": {
        "id": "-U3P1iak97E5"
      }
    },
    {
      "cell_type": "code",
      "source": [
        "X = np.array([1, 2, 3])\n",
        "W = np.array([0.2, 0.3, 0.4])\n",
        "y = np.dot(X, W)\n",
        "print(y)"
      ],
      "metadata": {
        "colab": {
          "base_uri": "https://localhost:8080/"
        },
        "id": "t7LbJSyp96YL",
        "outputId": "1ce45986-7540-49a8-9abe-4e6bfecb26ac"
      },
      "execution_count": null,
      "outputs": [
        {
          "output_type": "stream",
          "name": "stdout",
          "text": [
            "2.0\n"
          ]
        }
      ]
    },
    {
      "cell_type": "markdown",
      "source": [
        "Task5_0611. 주어진 입력 벡터와 가중치 행렬을 사용하여 신경망의 단일 계층 출력을 계산하세요.\n",
        "\n",
        "- 1단계: 입력 벡터 X와 가중치 행렬 W를 정의.\n",
        "- 2단계: 행렬 곱을 사용하여 계층의 출력을 계산."
      ],
      "metadata": {
        "id": "vIfo_MeK-L6W"
      }
    },
    {
      "cell_type": "code",
      "source": [
        "X = np.array([0.5, 1.0, -1.5])\n",
        "\n",
        "# 가중치 행렬 W\n",
        "W = np.array([\n",
        "    [0.1, 0.2, 0.3],\n",
        "    [-0.4, -0.5, -0.6],\n",
        "    [-0.1, -0.2, -0.3]\n",
        "])\n",
        "\n",
        "output = np.dot(X, W)\n",
        "\n",
        "print(output)"
      ],
      "metadata": {
        "colab": {
          "base_uri": "https://localhost:8080/"
        },
        "id": "S5pF9TEf-Ndm",
        "outputId": "694ef21b-cd62-4ee6-fac4-f81a8c7ac284"
      },
      "execution_count": null,
      "outputs": [
        {
          "output_type": "stream",
          "name": "stdout",
          "text": [
            "[-0.2 -0.1  0. ]\n"
          ]
        }
      ]
    },
    {
      "cell_type": "markdown",
      "source": [
        "Task6_0611. 주어진 입력 벡터에 대해 신경망의 활성화 함수(ReLU, 시그모이드)를 적용하여 출력을 계산하세요.\n",
        "\n",
        "- 1단계: 입력 벡터 X를 정의.\n",
        "- 2단계: 가중치 행렬 W와 편향 벡터 b를 정의.\n",
        "- 3단계: 활성화 함수(ReLU, 시그모이드)를 적용하여 출력을 계산\n",
        "활성화 함수 적용<br>\n",
        "output_relu = relu(Z)<br>\n",
        "output_sigmoid = sigmoid(Z)"
      ],
      "metadata": {
        "id": "NgCig1BZ-M-2"
      }
    },
    {
      "cell_type": "code",
      "source": [
        "import tensorflow as tf\n",
        "from tensorflow.keras.activations import relu, sigmoid\n",
        "\n",
        "X = np.array([1, -2, 3])\n",
        "W = np.array([\n",
        "    [0.1, 0.2, 0.3],\n",
        "    [-0.4, -0.5, -0.6],\n",
        "    [-0.1, -0.2, -0.3]\n",
        "])\n",
        "b = np.array([0.1, 0.2, 0.3])\n",
        "\n",
        "Z = np.dot(X, W) + b\n",
        "\n",
        "output_relu = relu(Z)\n",
        "output_sigmoid = sigmoid(Z)\n",
        "print(output_relu)\n",
        "print(output_sigmoid)"
      ],
      "metadata": {
        "colab": {
          "base_uri": "https://localhost:8080/"
        },
        "id": "aOsFBOb0-N6I",
        "outputId": "419d0ca9-d4cb-4a62-c14f-9bf70e8c30dd"
      },
      "execution_count": null,
      "outputs": [
        {
          "output_type": "stream",
          "name": "stdout",
          "text": [
            "tf.Tensor([0.7 0.8 0.9], shape=(3,), dtype=float64)\n",
            "tf.Tensor([0.66818777 0.68997448 0.7109495 ], shape=(3,), dtype=float64)\n"
          ]
        }
      ]
    },
    {
      "cell_type": "markdown",
      "source": [
        "Task7_0611. 주어진 선형 방정식을 행렬 형태로 나타내고, 역행렬을 사용하여\n",
        "x와 y를 구하세요.\n",
        "\n",
        "$\\begin{cases}\n",
        "3x + 4y = 10 \\\\\n",
        "2x + y = 5\n",
        "\\end{cases}$\n",
        "\n",
        "단계:\n",
        "1. 계수 행렬 A와 결과 벡터 b를 정의.\n",
        "2. 행렬 A의 역행렬을 구한다.\n",
        "3. 역행렬을 사용하여 변수 x를 구한다."
      ],
      "metadata": {
        "id": "GYrJMb1dHN5L"
      }
    },
    {
      "cell_type": "code",
      "source": [
        "a = np.array([[3, 4], [2, 1]])\n",
        "b = np.array([10, 5])\n",
        "a_inv = np.linalg.inv(a)\n",
        "x = np.dot(a_inv, b)\n",
        "print(x)"
      ],
      "metadata": {
        "colab": {
          "base_uri": "https://localhost:8080/"
        },
        "id": "gNLk4LGuL-zo",
        "outputId": "7b828007-2834-422a-ece5-e1bf90c9bf41"
      },
      "execution_count": null,
      "outputs": [
        {
          "output_type": "stream",
          "name": "stdout",
          "text": [
            "[2. 1.]\n"
          ]
        }
      ]
    },
    {
      "cell_type": "markdown",
      "source": [
        "Task8_0611. 주어진 2D 평면의 점을 특정 변환 행렬을 사용하여 변환한 후, 변환된 좌표를 원래 좌표로 되돌리세요.\n",
        "\n",
        "단계\n",
        "1. 원래 점의 좌표 p와 변환 행렬 T를 정의.\n",
        "2. 변환 행렬 T를 사용하여 새로운 좌표 p를 계산.\n",
        "3. 변환 행렬 T의 역행렬을 사용하여 새로운 좌표 p에서 원래 좌표 p를 복원."
      ],
      "metadata": {
        "id": "ZsxIRSSvHJIh"
      }
    },
    {
      "cell_type": "code",
      "source": [
        "# 원래 점의 좌표 p와 변환 행렬 T 정의\n",
        "p = np.array([1, 2])\n",
        "T = np.array([[2, 0], [0, 3]])\n",
        "\n",
        "# 변환 행렬 T를 사용하여 새로운 좌표 p 계산\n",
        "new_p = np.dot(T, p)\n",
        "\n",
        "# 변환 행렬 T의 역행렬을 사용하여 새로운 좌표 p에서 원래 좌표 p 복원\n",
        "original_p = np.dot(np.linalg.inv(T), new_p)\n",
        "\n",
        "print(new_p)\n",
        "print(original_p)"
      ],
      "metadata": {
        "colab": {
          "base_uri": "https://localhost:8080/"
        },
        "id": "xQuhK_pnHLf6",
        "outputId": "f2292868-a838-489c-e686-d2266ce254d3"
      },
      "execution_count": null,
      "outputs": [
        {
          "output_type": "stream",
          "name": "stdout",
          "text": [
            "[2 6]\n",
            "[1. 2.]\n"
          ]
        }
      ]
    }
  ]
}