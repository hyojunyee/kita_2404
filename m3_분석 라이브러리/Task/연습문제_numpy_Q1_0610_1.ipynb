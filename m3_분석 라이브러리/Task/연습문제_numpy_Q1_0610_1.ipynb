{
  "cells": [
    {
      "cell_type": "markdown",
      "metadata": {
        "id": "view-in-github",
        "colab_type": "text"
      },
      "source": [
        "<a href=\"https://colab.research.google.com/github/hyojunyee/kita_2404/blob/main/m3_%EB%B6%84%EC%84%9D%20%EB%9D%BC%EC%9D%B4%EB%B8%8C%EB%9F%AC%EB%A6%AC/Task%20/%EC%97%B0%EC%8A%B5%EB%AC%B8%EC%A0%9C_numpy_Q1_0610_1.ipynb\" target=\"_parent\"><img src=\"https://colab.research.google.com/assets/colab-badge.svg\" alt=\"Open In Colab\"/></a>"
      ]
    },
    {
      "cell_type": "code",
      "source": [
        "import numpy as np"
      ],
      "metadata": {
        "id": "GSNl3ECRwfoc"
      },
      "execution_count": 1,
      "outputs": []
    },
    {
      "cell_type": "markdown",
      "source": [
        "## Numpy Quiz1"
      ],
      "metadata": {
        "id": "RoOMFkDduWog"
      }
    },
    {
      "cell_type": "markdown",
      "source": [
        "Q1. arange(), reshape() 이용 1차원 2차원 3차원 배열 생성"
      ],
      "metadata": {
        "id": "A6oIhoWUdNJG"
      }
    },
    {
      "cell_type": "code",
      "source": [
        "# arange(), reshape() 이용 1차원 2차원 3차원 배열 생성\n",
        "array1 = np.arange(10)\n",
        "array2 = np.arange(12).reshape(2, 6)\n",
        "array3 = np.arange(20).reshape(2, 5, 2)\n",
        "print(array1,'\\n')\n",
        "print(array2,'\\n')\n",
        "print(array3)"
      ],
      "metadata": {
        "colab": {
          "base_uri": "https://localhost:8080/"
        },
        "id": "mSrrk4CMwdDI",
        "outputId": "eac533dd-0f53-480f-e428-5edaac1b8159"
      },
      "execution_count": 17,
      "outputs": [
        {
          "output_type": "stream",
          "name": "stdout",
          "text": [
            "[0 1 2 3 4 5 6 7 8 9] \n",
            "\n",
            "[[ 0  1  2  3  4  5]\n",
            " [ 6  7  8  9 10 11]] \n",
            "\n",
            "[[[ 0  1]\n",
            "  [ 2  3]\n",
            "  [ 4  5]\n",
            "  [ 6  7]\n",
            "  [ 8  9]]\n",
            "\n",
            " [[10 11]\n",
            "  [12 13]\n",
            "  [14 15]\n",
            "  [16 17]\n",
            "  [18 19]]]\n"
          ]
        }
      ]
    },
    {
      "cell_type": "markdown",
      "source": [
        "Q2. reshape(-1,-1)을 이용 1차원을 2차원, 3차원으로 2차원을 1차원 3차원으로 3차원을 1차원 2차원으로 변환"
      ],
      "metadata": {
        "id": "761tjFT9dZg5"
      }
    },
    {
      "cell_type": "code",
      "source": [
        "resarr1 = array1.reshape(2, 5)\n",
        "resarr2 = array2.reshape(2, 3, 2)\n",
        "resarr3 = array3.reshape(-1)\n",
        "print(resarr1,'\\n')\n",
        "print(resarr2,'\\n')\n",
        "print(resarr3)"
      ],
      "metadata": {
        "colab": {
          "base_uri": "https://localhost:8080/"
        },
        "id": "Cxw64YAdxbel",
        "outputId": "628e8bee-e815-47f2-b821-fb8781e182e4"
      },
      "execution_count": 37,
      "outputs": [
        {
          "output_type": "stream",
          "name": "stdout",
          "text": [
            "[[0 1 2 3 4]\n",
            " [5 6 7 8 9]] \n",
            "\n",
            "[[[ 0  1]\n",
            "  [ 2  3]\n",
            "  [ 4  5]]\n",
            "\n",
            " [[ 6  7]\n",
            "  [ 8  9]\n",
            "  [10 11]]] \n",
            "\n",
            "[ 0  1  2  3  4  5  6  7  8  9 10 11 12 13 14 15 16 17 18 19]\n"
          ]
        }
      ]
    },
    {
      "cell_type": "markdown",
      "source": [
        "Q3. Q1 1차원 배열을 실수형으로 변환"
      ],
      "metadata": {
        "id": "zSZkXeKydhb0"
      }
    },
    {
      "cell_type": "code",
      "source": [
        "arr1 = np.arange(10).astype(float)\n",
        "print(arr1)"
      ],
      "metadata": {
        "colab": {
          "base_uri": "https://localhost:8080/"
        },
        "id": "2_yR1_7rx0SM",
        "outputId": "d5b2750c-1683-44d3-f269-004e726b19b9"
      },
      "execution_count": 24,
      "outputs": [
        {
          "output_type": "stream",
          "name": "stdout",
          "text": [
            "[0. 1. 2. 3. 4. 5. 6. 7. 8. 9.]\n"
          ]
        }
      ]
    },
    {
      "cell_type": "markdown",
      "source": [
        "Q4. Q1 1차원 배열의 dtype을 확인"
      ],
      "metadata": {
        "id": "Rm-fFE20ds8N"
      }
    },
    {
      "cell_type": "code",
      "source": [
        "print(arr1.dtype)"
      ],
      "metadata": {
        "colab": {
          "base_uri": "https://localhost:8080/"
        },
        "id": "WZoHzykCyJbq",
        "outputId": "20b6bb30-6d9b-4237-c782-25dfa4d1ec03"
      },
      "execution_count": 25,
      "outputs": [
        {
          "output_type": "stream",
          "name": "stdout",
          "text": [
            "float64\n"
          ]
        }
      ]
    },
    {
      "cell_type": "markdown",
      "source": [
        "Q5. 주어진 배열에서 음수 값을 모두 0으로 변경하세요.\n",
        "\n",
        "arr = np.array([-5, -3, -1, 0, 1, 3, 5])"
      ],
      "metadata": {
        "id": "nMX4Xp7Md3_1"
      }
    },
    {
      "cell_type": "code",
      "source": [
        "arr = np.array([-5, -3, -1, 0, 1, 3, 5])\n",
        "arr[arr < 0] = 0\n",
        "print(arr)"
      ],
      "metadata": {
        "colab": {
          "base_uri": "https://localhost:8080/"
        },
        "id": "NcHqSeEWyTF9",
        "outputId": "d25028a0-1c5e-4f1c-e231-8bda04b40889"
      },
      "execution_count": 26,
      "outputs": [
        {
          "output_type": "stream",
          "name": "stdout",
          "text": [
            "[0 0 0 0 1 3 5]\n"
          ]
        }
      ]
    },
    {
      "cell_type": "markdown",
      "source": [
        "Q6. 1 ~ 100 까지 배열에서 3의 배수인 것만을 출력"
      ],
      "metadata": {
        "id": "NMOy9R4Cd_3v"
      }
    },
    {
      "cell_type": "code",
      "source": [
        "result = np.arange(1, 101)\n",
        "print(result[result % 3 == 0])"
      ],
      "metadata": {
        "colab": {
          "base_uri": "https://localhost:8080/"
        },
        "id": "LggRlB4CyW72",
        "outputId": "2da699c1-509d-4465-8519-6d9d6c5350cd"
      },
      "execution_count": 27,
      "outputs": [
        {
          "output_type": "stream",
          "name": "stdout",
          "text": [
            "[ 3  6  9 12 15 18 21 24 27 30 33 36 39 42 45 48 51 54 57 60 63 66 69 72\n",
            " 75 78 81 84 87 90 93 96 99]\n"
          ]
        }
      ]
    },
    {
      "cell_type": "markdown",
      "source": [
        "Q7. 1 ~ 100 까지 배열에서 5의 배수이면서 2의 배수인 것만을 출력"
      ],
      "metadata": {
        "id": "reO7jBwqeX1W"
      }
    },
    {
      "cell_type": "code",
      "source": [
        "result = np.arange(1, 101)\n",
        "print(result[(result % 10 == 0)])"
      ],
      "metadata": {
        "colab": {
          "base_uri": "https://localhost:8080/"
        },
        "id": "VLuWCr0iyayY",
        "outputId": "40c09f35-c2ed-4dbc-91c8-adec4d90643d"
      },
      "execution_count": 30,
      "outputs": [
        {
          "output_type": "stream",
          "name": "stdout",
          "text": [
            "[ 10  20  30  40  50  60  70  80  90 100]\n"
          ]
        }
      ]
    },
    {
      "cell_type": "markdown",
      "source": [
        "Q8. 1 ~ 100 까지 배열에서 3의 배수이거나 5의 배수인 것만을 출력"
      ],
      "metadata": {
        "id": "Gg-SJytKefVU"
      }
    },
    {
      "cell_type": "code",
      "source": [
        "result = np.arange(1, 101)\n",
        "print(result[(result % 3 == 0) | (result % 5 == 0)])"
      ],
      "metadata": {
        "colab": {
          "base_uri": "https://localhost:8080/"
        },
        "id": "AMkFgrMxyiI3",
        "outputId": "bf3db759-bf5f-4736-e53e-6bb62def0ba1"
      },
      "execution_count": 32,
      "outputs": [
        {
          "output_type": "stream",
          "name": "stdout",
          "text": [
            "[  3   5   6   9  10  12  15  18  20  21  24  25  27  30  33  35  36  39\n",
            "  40  42  45  48  50  51  54  55  57  60  63  65  66  69  70  72  75  78\n",
            "  80  81  84  85  87  90  93  95  96  99 100]\n"
          ]
        }
      ]
    },
    {
      "cell_type": "markdown",
      "source": [
        "Q9. 101 ~ 150 사이의 정수를 랜덤하게 추출, 2행 5열 다차원 배열을 생성 후 전치하세요"
      ],
      "metadata": {
        "id": "Skud3jRrfJ2z"
      }
    },
    {
      "cell_type": "code",
      "source": [
        "result = np.random.randint(101, 151, size=(2, 5))\n",
        "print(result)\n",
        "print(result.T)"
      ],
      "metadata": {
        "colab": {
          "base_uri": "https://localhost:8080/"
        },
        "id": "Y_ItY2I4yoeg",
        "outputId": "ad080389-bd34-473e-f7fc-10fc6465dbc3"
      },
      "execution_count": 33,
      "outputs": [
        {
          "output_type": "stream",
          "name": "stdout",
          "text": [
            "[[145 110 107 103 144]\n",
            " [129 132 146 147 118]]\n",
            "[[145 129]\n",
            " [110 132]\n",
            " [107 146]\n",
            " [103 147]\n",
            " [144 118]]\n"
          ]
        }
      ]
    },
    {
      "cell_type": "markdown",
      "source": [
        "Q10. 표준정규분포로 구성된 5행 5열 다차원 배열을 생성하세요."
      ],
      "metadata": {
        "id": "CD2vUOIofTBW"
      }
    },
    {
      "cell_type": "code",
      "source": [
        "arr = np.random.randn(5, 5)\n",
        "print(arr)"
      ],
      "metadata": {
        "colab": {
          "base_uri": "https://localhost:8080/"
        },
        "id": "PI2R3F4YytM2",
        "outputId": "a789bc81-a374-41f4-d6bc-0d7f446d32c6"
      },
      "execution_count": 34,
      "outputs": [
        {
          "output_type": "stream",
          "name": "stdout",
          "text": [
            "[[-1.60739171 -0.94360132  1.64199751  0.18827765 -0.17098516]\n",
            " [ 0.55759781 -0.60433535 -1.59410228  1.58564374  0.11553912]\n",
            " [-0.56451844  0.37673149  0.3797767   1.62482081 -0.43312102]\n",
            " [-1.29447064  1.16315686 -0.81270645  0.44205438  0.83907997]\n",
            " [ 0.13492383 -0.0684372  -1.06687195  0.13604518 -0.0453675 ]]\n"
          ]
        }
      ]
    },
    {
      "cell_type": "markdown",
      "source": [
        "Q11. original_array를 1차원 배열로 변환하여 출력하세요."
      ],
      "metadata": {
        "id": "bXiDz5anfs5o"
      }
    },
    {
      "cell_type": "code",
      "source": [
        "original_array = np.array([[1, 2, 3], [4, 5, 6]])\n",
        "arr_1d = original_array.reshape(-1)\n",
        "print(arr_1d)"
      ],
      "metadata": {
        "id": "YmDWSLzkftkJ",
        "colab": {
          "base_uri": "https://localhost:8080/"
        },
        "outputId": "739ab61d-219a-44fc-dfce-6b1417c996a1"
      },
      "execution_count": 43,
      "outputs": [
        {
          "output_type": "stream",
          "name": "stdout",
          "text": [
            "[1 2 3 4 5 6]\n"
          ]
        }
      ]
    },
    {
      "cell_type": "markdown",
      "source": [
        "Q12. 주어진 2차원 배열에서 첫 번째 행을 view로 생성하고, 이 view를 수정하여 원본 배열에 반영되도록 하세요."
      ],
      "metadata": {
        "id": "0Nep-d7VgFSW"
      }
    },
    {
      "cell_type": "code",
      "source": [
        "original_array = np.array([[1, 2, 3], [4, 5, 6]])\n",
        "view_arr = original_array[0, :]\n",
        "print(view_arr, '\\n')\n",
        "view_arr[0] = 10\n",
        "print(view_arr, '\\n')\n",
        "print(original_array)"
      ],
      "metadata": {
        "colab": {
          "base_uri": "https://localhost:8080/"
        },
        "id": "AR5_RCY4y0S4",
        "outputId": "6b4b1e17-b56f-40e7-e6ec-2fefc682a2a7"
      },
      "execution_count": 48,
      "outputs": [
        {
          "output_type": "stream",
          "name": "stdout",
          "text": [
            "[1 2 3] \n",
            "\n",
            "[10  2  3] \n",
            "\n",
            "[[10  2  3]\n",
            " [ 4  5  6]]\n"
          ]
        }
      ]
    },
    {
      "cell_type": "markdown",
      "source": [
        "Q13. 주어진 3차원 배열에서 첫 번째 2차원 배열을 view로 생성하고, 이 view를 수정하여 원본 배열에 반영되도록 하세요."
      ],
      "metadata": {
        "id": "Lsou3ZeIgS__"
      }
    },
    {
      "cell_type": "code",
      "source": [
        "original_array = np.array([[[1, 2, 3], [4, 5, 6]], [[7, 8, 9], [10, 11, 12]]])\n",
        "view_arr = original_array[0, 1, :]\n",
        "print(view_arr, '\\n')\n",
        "view_arr[0] = 100\n",
        "print(view_arr, '\\n')\n",
        "print(original_array)"
      ],
      "metadata": {
        "colab": {
          "base_uri": "https://localhost:8080/"
        },
        "id": "0ZEZvqBry3O0",
        "outputId": "64dbfbe7-4d0d-4af2-9387-34f0845e9deb"
      },
      "execution_count": 50,
      "outputs": [
        {
          "output_type": "stream",
          "name": "stdout",
          "text": [
            "[4 5 6] \n",
            "\n",
            "[100   5   6] \n",
            "\n",
            "[[[  1   2   3]\n",
            "  [100   5   6]]\n",
            "\n",
            " [[  7   8   9]\n",
            "  [ 10  11  12]]]\n"
          ]
        }
      ]
    },
    {
      "cell_type": "markdown",
      "source": [
        "Q14. 주어진 2차원 배열을 1차원 배열 view로 reshape하고, 이 view를 수정하여 원본 배열에 반영되도록 하세요."
      ],
      "metadata": {
        "id": "Jd8VaOGmgjhx"
      }
    },
    {
      "cell_type": "code",
      "source": [
        "original_array = np.array([[1, 2, 3], [4, 5, 6]])\n",
        "view_arr = original_array.reshape(-1)\n",
        "print(view_arr, '\\n')\n",
        "view_arr[0] = 10\n",
        "print(view_arr, '\\n')\n",
        "print(original_array)"
      ],
      "metadata": {
        "colab": {
          "base_uri": "https://localhost:8080/"
        },
        "id": "Fi7JNbcwy4qp",
        "outputId": "3327079b-8fc7-41d8-86b4-a4f6b5cabe48"
      },
      "execution_count": 51,
      "outputs": [
        {
          "output_type": "stream",
          "name": "stdout",
          "text": [
            "[1 2 3 4 5 6] \n",
            "\n",
            "[10  2  3  4  5  6] \n",
            "\n",
            "[[10  2  3]\n",
            " [ 4  5  6]]\n"
          ]
        }
      ]
    },
    {
      "cell_type": "markdown",
      "source": [
        "Q15. np.ones((10,10))을 아래와 같이 출력하세요.\n",
        "```\n",
        "[[1. 1. 1. 1. 1. 1. 1. 1. 1. 1.]\n",
        " [1. 0. 0. 0. 0. 0. 0. 0. 0. 1.]\n",
        " [1. 0. 0. 0. 0. 0. 0. 0. 0. 1.]\n",
        " [1. 0. 0. 0. 0. 0. 0. 0. 0. 1.]\n",
        " [1. 0. 0. 0. 0. 0. 0. 0. 0. 1.]\n",
        " [1. 0. 0. 0. 0. 0. 0. 0. 0. 1.]\n",
        " [1. 0. 0. 0. 0. 0. 0. 0. 0. 1.]\n",
        " [1. 0. 0. 0. 0. 0. 0. 0. 0. 1.]\n",
        " [1. 0. 0. 0. 0. 0. 0. 0. 0. 1.]\n",
        " [1. 1. 1. 1. 1. 1. 1. 1. 1. 1.]]\n",
        " ```"
      ],
      "metadata": {
        "id": "-MLdPdHGpxFv"
      }
    },
    {
      "cell_type": "code",
      "source": [
        "arr = np.ones((10, 10))\n",
        "arr[1:-1, 1:-1] = 0\n",
        "print(arr)"
      ],
      "metadata": {
        "colab": {
          "base_uri": "https://localhost:8080/"
        },
        "id": "hYI59FkV00Ch",
        "outputId": "b6b41dbe-c71b-4a2e-e562-d05b4a838489"
      },
      "execution_count": 74,
      "outputs": [
        {
          "output_type": "stream",
          "name": "stdout",
          "text": [
            "[[1. 1. 1. 1. 1. 1. 1. 1. 1. 1.]\n",
            " [1. 0. 0. 0. 0. 0. 0. 0. 0. 1.]\n",
            " [1. 0. 0. 0. 0. 0. 0. 0. 0. 1.]\n",
            " [1. 0. 0. 0. 0. 0. 0. 0. 0. 1.]\n",
            " [1. 0. 0. 0. 0. 0. 0. 0. 0. 1.]\n",
            " [1. 0. 0. 0. 0. 0. 0. 0. 0. 1.]\n",
            " [1. 0. 0. 0. 0. 0. 0. 0. 0. 1.]\n",
            " [1. 0. 0. 0. 0. 0. 0. 0. 0. 1.]\n",
            " [1. 0. 0. 0. 0. 0. 0. 0. 0. 1.]\n",
            " [1. 1. 1. 1. 1. 1. 1. 1. 1. 1.]]\n"
          ]
        }
      ]
    },
    {
      "cell_type": "markdown",
      "source": [
        "Q16. Q. 1 ~ 100을 아래와 같이 출력하세요.\n",
        "\n",
        "```\n",
        "[[  1   2   3   4   5   6   7   8   9  10]\n",
        " [ 20  19  18  17  16  15  14  13  12  11]\n",
        " [ 21  22  23  24  25  26  27  28  29  30]\n",
        " [ 40  39  38  37  36  35  34  33  32  31]\n",
        " [ 41  42  43  44  45  46  47  48  49  50]\n",
        " [ 60  59  58  57  56  55  54  53  52  51]\n",
        " [ 61  62  63  64  65  66  67  68  69  70]\n",
        " [ 80  79  78  77  76  75  74  73  72  71]\n",
        " [ 81  82  83  84  85  86  87  88  89  90]\n",
        " [100  99  98  97  96  95  94  93  92  91]]\n",
        " ```"
      ],
      "metadata": {
        "id": "bF2o4HI6p7yS"
      }
    },
    {
      "cell_type": "code",
      "source": [
        "arr = np.arange(1, 101).reshape(10, -1)\n",
        "# print(arr)\n",
        "newarr = arr[::2]\n",
        "np.sort(newarr, axis=-1)\n",
        "newarr[::2] =\n",
        "print(newarr)"
      ],
      "metadata": {
        "colab": {
          "base_uri": "https://localhost:8080/",
          "height": 202
        },
        "id": "Ph0DmUYV08t_",
        "outputId": "4d7d1c8c-d46b-4dab-aeb1-09193be8fe37"
      },
      "execution_count": 109,
      "outputs": [
        {
          "output_type": "error",
          "ename": "ValueError",
          "evalue": "could not broadcast input array from shape (5,10) into shape (3,10)",
          "traceback": [
            "\u001b[0;31m---------------------------------------------------------------------------\u001b[0m",
            "\u001b[0;31mValueError\u001b[0m                                Traceback (most recent call last)",
            "\u001b[0;32m<ipython-input-109-fa8ff0bc006a>\u001b[0m in \u001b[0;36m<cell line: 5>\u001b[0;34m()\u001b[0m\n\u001b[1;32m      3\u001b[0m \u001b[0mnewarr\u001b[0m \u001b[0;34m=\u001b[0m \u001b[0marr\u001b[0m\u001b[0;34m[\u001b[0m\u001b[0;34m:\u001b[0m\u001b[0;34m:\u001b[0m\u001b[0;36m2\u001b[0m\u001b[0;34m]\u001b[0m\u001b[0;34m\u001b[0m\u001b[0;34m\u001b[0m\u001b[0m\n\u001b[1;32m      4\u001b[0m \u001b[0mnp\u001b[0m\u001b[0;34m.\u001b[0m\u001b[0msort\u001b[0m\u001b[0;34m(\u001b[0m\u001b[0mnewarr\u001b[0m\u001b[0;34m,\u001b[0m \u001b[0maxis\u001b[0m\u001b[0;34m=\u001b[0m\u001b[0;34m-\u001b[0m\u001b[0;36m1\u001b[0m\u001b[0;34m)\u001b[0m\u001b[0;34m\u001b[0m\u001b[0;34m\u001b[0m\u001b[0m\n\u001b[0;32m----> 5\u001b[0;31m \u001b[0mnewarr\u001b[0m\u001b[0;34m[\u001b[0m\u001b[0;34m:\u001b[0m\u001b[0;34m:\u001b[0m\u001b[0;36m2\u001b[0m\u001b[0;34m]\u001b[0m \u001b[0;34m=\u001b[0m \u001b[0mnewarr\u001b[0m\u001b[0;34m\u001b[0m\u001b[0;34m\u001b[0m\u001b[0m\n\u001b[0m\u001b[1;32m      6\u001b[0m \u001b[0mprint\u001b[0m\u001b[0;34m(\u001b[0m\u001b[0mnewarr\u001b[0m\u001b[0;34m)\u001b[0m\u001b[0;34m\u001b[0m\u001b[0;34m\u001b[0m\u001b[0m\n",
            "\u001b[0;31mValueError\u001b[0m: could not broadcast input array from shape (5,10) into shape (3,10)"
          ]
        }
      ]
    },
    {
      "cell_type": "markdown",
      "source": [
        "Q17. np.ones((5,5))을 아래와 같이 출력하세요.\n",
        "```\n",
        "[[0., 0., 0., 0., 0., 0., 0., 0., 0.],\n",
        "       [0., 0., 0., 0., 0., 0., 0., 0., 0.],\n",
        "       [0., 0., 1., 1., 1., 1., 1., 0., 0.],\n",
        "       [0., 0., 1., 1., 1., 1., 1., 0., 0.],\n",
        "       [0., 0., 1., 1., 1., 1., 1., 0., 0.],\n",
        "       [0., 0., 1., 1., 1., 1., 1., 0., 0.],\n",
        "       [0., 0., 1., 1., 1., 1., 1., 0., 0.],\n",
        "       [0., 0., 0., 0., 0., 0., 0., 0., 0.],\n",
        "       [0., 0., 0., 0., 0., 0., 0., 0., 0.]]\n",
        "```"
      ],
      "metadata": {
        "id": "8XTX6_u2qI2p"
      }
    },
    {
      "cell_type": "code",
      "source": [
        "np.ones((5,5))\n"
      ],
      "metadata": {
        "colab": {
          "base_uri": "https://localhost:8080/"
        },
        "id": "nO2NU8Qz09NX",
        "outputId": "1198d82d-82c5-4c23-ea44-1ba2a8a12196"
      },
      "execution_count": 77,
      "outputs": [
        {
          "output_type": "execute_result",
          "data": {
            "text/plain": [
              "array([[0., 0., 0., 0., 0.],\n",
              "       [0., 0., 0., 0., 0.],\n",
              "       [0., 0., 0., 0., 0.],\n",
              "       [0., 0., 0., 0., 0.],\n",
              "       [0., 0., 0., 0., 0.]])"
            ]
          },
          "metadata": {},
          "execution_count": 77
        }
      ]
    },
    {
      "cell_type": "markdown",
      "source": [
        "Q18. np.arange(4)을 이용해서 아래와 같이 출력하세요.\n",
        "```\n",
        "[[0, 0, 0, 0, 0],\n",
        " [1, 0, 0, 0, 0],\n",
        " [0, 2, 0, 0, 0],\n",
        " [0, 0, 3, 0, 0],\n",
        " [0, 0, 0, 4, 0]]\n",
        "```"
      ],
      "metadata": {
        "id": "a0ydxK-RqWS9"
      }
    },
    {
      "cell_type": "code",
      "source": [
        "# newarr = np.zeros((5,5))\n",
        "\n",
        "# for i in range(5):\n",
        "#     for j in range(5):\n",
        "#         if i == j:\n",
        "#             newarr[i, j] = i\n",
        "\n",
        "# print(newarr)"
      ],
      "metadata": {
        "colab": {
          "base_uri": "https://localhost:8080/"
        },
        "id": "hF2Ybq2v09jy",
        "outputId": "f4e26dd8-85ee-4192-d45e-d26c199ed289"
      },
      "execution_count": 95,
      "outputs": [
        {
          "output_type": "stream",
          "name": "stdout",
          "text": [
            "[[0. 0. 0. 0. 0.]\n",
            " [0. 1. 0. 0. 0.]\n",
            " [0. 0. 2. 0. 0.]\n",
            " [0. 0. 0. 3. 0.]\n",
            " [0. 0. 0. 0. 4.]]\n"
          ]
        }
      ]
    },
    {
      "cell_type": "code",
      "source": [
        "newarr = np.zeros((5,5))\n",
        "\n",
        "for i in range(5):\n",
        "    for j in range(5):\n",
        "        if i == j:\n",
        "            newarr[i,j-1] = i\n",
        "\n",
        "print(newarr)"
      ],
      "metadata": {
        "colab": {
          "base_uri": "https://localhost:8080/"
        },
        "id": "eZ3KpHvx43s5",
        "outputId": "a9e9f17d-34d7-4274-ae23-ac22d627424e"
      },
      "execution_count": 102,
      "outputs": [
        {
          "output_type": "stream",
          "name": "stdout",
          "text": [
            "[[0. 0. 0. 0. 0.]\n",
            " [1. 0. 0. 0. 0.]\n",
            " [0. 2. 0. 0. 0.]\n",
            " [0. 0. 3. 0. 0.]\n",
            " [0. 0. 0. 4. 0.]]\n"
          ]
        }
      ]
    },
    {
      "cell_type": "markdown",
      "source": [
        "Q19. Q. np.zeros((8,8))을 이용해서 아래와 같이 출력하세요(두가지 방식:인덱싱, tile 함수)\n",
        "```\n",
        "[[0, 1, 0, 1, 0, 1, 0, 1],\n",
        "[1, 0, 1, 0, 1, 0, 1, 0],\n",
        "[0, 1, 0, 1, 0, 1, 0, 1],\n",
        "[1, 0, 1, 0, 1, 0, 1, 0],\n",
        "[0, 1, 0, 1, 0, 1, 0, 1],\n",
        "[1, 0, 1, 0, 1, 0, 1, 0],\n",
        "[0, 1, 0, 1, 0, 1, 0, 1],\n",
        "[1, 0, 1, 0, 1, 0, 1, 0]]\n",
        "```"
      ],
      "metadata": {
        "id": "HeOK3cm3qr1U"
      }
    },
    {
      "cell_type": "code",
      "source": [
        "# for i in range(10):\n",
        "#     arr[i] = (i+1)%2\n",
        "# arr"
      ],
      "metadata": {
        "id": "tI2gmAej09_a"
      },
      "execution_count": null,
      "outputs": []
    },
    {
      "cell_type": "code",
      "source": [
        "newarr = np.zeros((8, 8))\n",
        "\n",
        "for i in range(8):\n",
        "    for j in range(8):\n",
        "        if (i + j) % 2 == 0:\n",
        "            newarr[i, j] = 1\n",
        "\n",
        "print(newarr)"
      ],
      "metadata": {
        "colab": {
          "base_uri": "https://localhost:8080/"
        },
        "id": "s1CEtL2S3s7E",
        "outputId": "bc04c6ac-b950-4641-96b1-baf1297419d3"
      },
      "execution_count": 89,
      "outputs": [
        {
          "output_type": "stream",
          "name": "stdout",
          "text": [
            "[[1. 0. 1. 0. 1. 0. 1. 0.]\n",
            " [0. 1. 0. 1. 0. 1. 0. 1.]\n",
            " [1. 0. 1. 0. 1. 0. 1. 0.]\n",
            " [0. 1. 0. 1. 0. 1. 0. 1.]\n",
            " [1. 0. 1. 0. 1. 0. 1. 0.]\n",
            " [0. 1. 0. 1. 0. 1. 0. 1.]\n",
            " [1. 0. 1. 0. 1. 0. 1. 0.]\n",
            " [0. 1. 0. 1. 0. 1. 0. 1.]]\n"
          ]
        }
      ]
    },
    {
      "cell_type": "markdown",
      "source": [
        "Q20. np.arange(336).reshape(6,7,8)에서 100번째 요소의 인덱스를 구하세요."
      ],
      "metadata": {
        "id": "8CSHIUxPrzmE"
      }
    },
    {
      "cell_type": "code",
      "source": [
        "np.arange(336).reshape(6,7,8)\n",
        "idx = np.index(100)\n",
        "print(idx)"
      ],
      "metadata": {
        "colab": {
          "base_uri": "https://localhost:8080/",
          "height": 312
        },
        "id": "53hPDEol0-X8",
        "outputId": "68af1c7f-bec1-4ac6-bb90-e22307a3cecb"
      },
      "execution_count": 85,
      "outputs": [
        {
          "output_type": "error",
          "ename": "AttributeError",
          "evalue": "module 'numpy' has no attribute 'index'",
          "traceback": [
            "\u001b[0;31m---------------------------------------------------------------------------\u001b[0m",
            "\u001b[0;31mAttributeError\u001b[0m                            Traceback (most recent call last)",
            "\u001b[0;32m<ipython-input-85-4aab472b80cf>\u001b[0m in \u001b[0;36m<cell line: 2>\u001b[0;34m()\u001b[0m\n\u001b[1;32m      1\u001b[0m \u001b[0mnp\u001b[0m\u001b[0;34m.\u001b[0m\u001b[0marange\u001b[0m\u001b[0;34m(\u001b[0m\u001b[0;36m336\u001b[0m\u001b[0;34m)\u001b[0m\u001b[0;34m.\u001b[0m\u001b[0mreshape\u001b[0m\u001b[0;34m(\u001b[0m\u001b[0;36m6\u001b[0m\u001b[0;34m,\u001b[0m\u001b[0;36m7\u001b[0m\u001b[0;34m,\u001b[0m\u001b[0;36m8\u001b[0m\u001b[0;34m)\u001b[0m\u001b[0;34m\u001b[0m\u001b[0;34m\u001b[0m\u001b[0m\n\u001b[0;32m----> 2\u001b[0;31m \u001b[0midx\u001b[0m \u001b[0;34m=\u001b[0m \u001b[0mnp\u001b[0m\u001b[0;34m.\u001b[0m\u001b[0mindex\u001b[0m\u001b[0;34m(\u001b[0m\u001b[0;36m100\u001b[0m\u001b[0;34m)\u001b[0m\u001b[0;34m\u001b[0m\u001b[0;34m\u001b[0m\u001b[0m\n\u001b[0m\u001b[1;32m      3\u001b[0m \u001b[0mprint\u001b[0m\u001b[0;34m(\u001b[0m\u001b[0midx\u001b[0m\u001b[0;34m)\u001b[0m\u001b[0;34m\u001b[0m\u001b[0;34m\u001b[0m\u001b[0m\n",
            "\u001b[0;32m/usr/local/lib/python3.10/dist-packages/numpy/__init__.py\u001b[0m in \u001b[0;36m__getattr__\u001b[0;34m(attr)\u001b[0m\n\u001b[1;32m    326\u001b[0m             \u001b[0;32mraise\u001b[0m \u001b[0mRuntimeError\u001b[0m\u001b[0;34m(\u001b[0m\u001b[0;34m\"Tester was removed in NumPy 1.25.\"\u001b[0m\u001b[0;34m)\u001b[0m\u001b[0;34m\u001b[0m\u001b[0;34m\u001b[0m\u001b[0m\n\u001b[1;32m    327\u001b[0m \u001b[0;34m\u001b[0m\u001b[0m\n\u001b[0;32m--> 328\u001b[0;31m         raise AttributeError(\"module {!r} has no attribute \"\n\u001b[0m\u001b[1;32m    329\u001b[0m                              \"{!r}\".format(__name__, attr))\n\u001b[1;32m    330\u001b[0m \u001b[0;34m\u001b[0m\u001b[0m\n",
            "\u001b[0;31mAttributeError\u001b[0m: module 'numpy' has no attribute 'index'"
          ]
        }
      ]
    }
  ],
  "metadata": {
    "kernelspec": {
      "display_name": "Python 3 (ipykernel)",
      "language": "python",
      "name": "python3"
    },
    "language_info": {
      "codemirror_mode": {
        "name": "ipython",
        "version": 3
      },
      "file_extension": ".py",
      "mimetype": "text/x-python",
      "name": "python",
      "nbconvert_exporter": "python",
      "pygments_lexer": "ipython3",
      "version": "3.8.13"
    },
    "colab": {
      "provenance": [],
      "include_colab_link": true
    }
  },
  "nbformat": 4,
  "nbformat_minor": 0
}
