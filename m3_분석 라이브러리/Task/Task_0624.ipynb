{
 "cells": [
  {
   "cell_type": "markdown",
   "metadata": {},
   "source": [
    "Task1_0624. 네이버 로그인한 후 읽지 않은 메일의 개수를 가져와서 출력하세요."
   ]
  },
  {
   "cell_type": "code",
   "execution_count": 2,
   "metadata": {},
   "outputs": [],
   "source": [
    "import selenium\n",
    "from selenium import webdriver\n",
    "from selenium.webdriver.common.keys import Keys\n",
    "from selenium.webdriver.common.by import By\n",
    "from bs4 import BeautifulSoup\n",
    "import time"
   ]
  },
  {
   "cell_type": "code",
   "execution_count": 11,
   "metadata": {},
   "outputs": [],
   "source": [
    "# 네이버 사이트 불러오기\n",
    "url = 'https:/www.naver.com'\n",
    "driver = webdriver.Chrome()\n",
    "driver.get(url)\n",
    "element = driver.find_element(By.CLASS_NAME, 'MyView-module__link_login___HpHMW').click()\n",
    "\n",
    "id = ''\n",
    "pw = ''\n",
    "driver.execute_script(\"document.getElementById('id').value=\\'\" + id + \"\\'\") \n",
    "time.sleep(1)\n",
    "driver.execute_script(\"document.getElementById('pw').value=\\'\" + pw + \"\\'\")\n",
    "time.sleep(1)\n",
    "\n",
    "element = driver.find_element(By.CLASS_NAME, 'btn_login')\n",
    "element.click()\n",
    "time.sleep(1)"
   ]
  },
  {
   "cell_type": "code",
   "execution_count": 8,
   "metadata": {},
   "outputs": [],
   "source": [
    "# 네이버 메일 페이지 열기\n",
    "driver.get('https://mail.naver.com/v2/folders/0/all')\n",
    "# 페이지가 완전히 로드 될 시간까지 대기\n",
    "time.sleep(3)\n",
    "# 페이지 소스 가져오기\n",
    "page_source = driver.page_source"
   ]
  },
  {
   "cell_type": "code",
   "execution_count": 10,
   "metadata": {},
   "outputs": [
    {
     "name": "stdout",
     "output_type": "stream",
     "text": [
      "Unread mail count:, 2\n"
     ]
    }
   ],
   "source": [
    "# BS4로 HTML 파싱\n",
    "soup = BeautifulSoup(page_source, 'html.parser')\n",
    "\n",
    "# 'class=\"count\"' 요소 찾기\n",
    "# unread_mail_count = soup.find('span', class_='count')\n",
    "unread_mail_count = soup.select_one('.unread_mail .count')\n",
    "\n",
    "if unread_mail_count:\n",
    "    print(f'Unread mail count:, {unread_mail_count.text}')\n",
    "else:\n",
    "    print('Unread mail count not found')\n",
    "\n",
    "driver.quit()"
   ]
  }
 ],
 "metadata": {
  "kernelspec": {
   "display_name": "myenv",
   "language": "python",
   "name": "python3"
  },
  "language_info": {
   "codemirror_mode": {
    "name": "ipython",
    "version": 3
   },
   "file_extension": ".py",
   "mimetype": "text/x-python",
   "name": "python",
   "nbconvert_exporter": "python",
   "pygments_lexer": "ipython3",
   "version": "3.10.11"
  }
 },
 "nbformat": 4,
 "nbformat_minor": 2
}
