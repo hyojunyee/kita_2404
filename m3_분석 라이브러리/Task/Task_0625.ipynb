{
 "cells": [
  {
   "cell_type": "markdown",
   "metadata": {},
   "source": [
    "Task1_0625. 다음 Selenium execute_script 메서드에 사용할 수 있는 JavaScript 명령어를 이용한 사례를 작성해서 실행 결과를 확인하세요.\n",
    "- document.getElementById(id) : 특정 ID를 가진 요소를 선택합니다.\n",
    "- document.getElementsByClassName(className) : 특정 클래스 이름을 가진 요소를 선택합니다.\n",
    "- document.getElementsByTagName(tagName) : 특정 태그 이름을 가진 요소를 선택합니다.\n",
    "- document.querySelector(selector) : CSS 선택자를 사용하여 첫 번째 일치하는 요소를 선택합니다.\n",
    "- document.querySelectorAll(selector) : CSS 선택자를 사용하여 일치하는 모든 요소를 선택합니다.\n",
    "- element.innerText : 요소의 텍스트 콘텐츠를 설정하거나 가져옵니다.\n",
    "- element.innerHTML : 요소의 HTML 콘텐츠를 설정하거나 가져옵니다.\n",
    "- element.value : 입력 필드의 값을 설정하거나 가져옵니다.\n",
    "- element.style.property : 요소의 CSS 스타일 속성을 설정합니다.\n",
    "- element.click() : 요소를 클릭합니다.\n",
    "- element.focus() : 요소에 포커스를 설정합니다.\n",
    "- element.blur() : 요소에서 포커스를 제거합니다.\n",
    "- window.scrollTo(x, y) : 페이지를 지정된 좌표로 스크롤합니다.\n",
    "- window.scrollBy(x, y) : 현재 위치에서 지정된 거리만큼 페이지를 스크롤합니다.\n",
    "- alert(message) : 경고창을 표시합니다.\n",
    "- confirm(message) : 확인창을 표시하고 사용자의 응답을 반환합니다.\n",
    "- prompt(message, default) : 입력창을 표시하고 사용자의 입력을 반환합니다.\n",
    "- form.submit() : 폼을 제출합니다.\n",
    "- form.reset() : 폼을 초기화합니다."
   ]
  },
  {
   "cell_type": "code",
   "execution_count": 6,
   "metadata": {},
   "outputs": [
    {
     "name": "stdout",
     "output_type": "stream",
     "text": [
      "New title\n"
     ]
    }
   ],
   "source": [
    "# Task_1 ID가 title인 요소의 텍스트를 변경하여 출력\n",
    "from selenium import webdriver\n",
    "import time\n",
    "\n",
    "driver = webdriver.Chrome()\n",
    "file_path = ('http://127.0.0.1:5501/Task_0625_1.html')\n",
    "driver.get(file_path)\n",
    "time.sleep(2)\n",
    "\n",
    "# 텍스트 변경\n",
    "driver.execute_script('document.getElementById(\"title\").innerText \\\n",
    "    = \"New title\"')\n",
    "\n",
    "# 변경된 텍스트 가져오기\n",
    "new_title = driver.execute_script('return document.\\\n",
    "    getElementById(\"title\").innerText')\n",
    "print(new_title)\n",
    "time.sleep(2)\n",
    "driver.quit()"
   ]
  },
  {
   "cell_type": "code",
   "execution_count": 13,
   "metadata": {},
   "outputs": [
    {
     "name": "stdout",
     "output_type": "stream",
     "text": [
      "Hidden Button Clicked!\n"
     ]
    }
   ],
   "source": [
    "# Task_2\n",
    "from selenium import webdriver\n",
    "from selenium.webdriver.common.by import By\n",
    "import time\n",
    "\n",
    "driver = webdriver.Chrome()\n",
    "\n",
    "# html파일 로드\n",
    "driver = webdriver.Chrome()\n",
    "file_path = ('http://127.0.0.1:5501/Task_0625_11.html')\n",
    "driver.get(file_path)\n",
    "time.sleep(2)\n",
    "\n",
    "# JavaScript를 사용하여 숨겨진 요소 클릭\n",
    "# arguments[0]은 hidden_element를 가르키며 click() 메서드를 호출하여 숨겨진 버튼을 클릭\n",
    "# selenium에서 python에서 정의된 객체를 javascript로 전달하기 위해 argumennt 배열을 사용\n",
    "hidden_element = driver.find_element(By.ID, 'hidden_element_id')\n",
    "driver.execute_script('arguments[0].click();', hidden_element)\n",
    "# driver.execute_script(hidden_element.click();')\n",
    "\n",
    "\n",
    "# 결과확인\n",
    "massage = driver.find_element(By.ID,'message').text\n",
    "# \"Hidden Button Clicked!\" 출력\n",
    "print(massage)\n",
    "time.sleep(2)\n",
    "driver.quit()"
   ]
  },
  {
   "cell_type": "code",
   "execution_count": 32,
   "metadata": {},
   "outputs": [
    {
     "name": "stdout",
     "output_type": "stream",
     "text": [
      "Update_paragraph: Updated First Paragraph\n",
      "First button background color: red\n"
     ]
    }
   ],
   "source": [
    "# Task_3\n",
    "from selenium import webdriver\n",
    "from selenium.webdriver.common.by import By\n",
    "import time\n",
    "\n",
    "driver = webdriver.Chrome()\n",
    "\n",
    "# html파일 로드\n",
    "driver = webdriver.Chrome()\n",
    "file_path = ('http://127.0.0.1:5501/Task_0625_3.html')\n",
    "driver.get(file_path)\n",
    "time.sleep(2)\n",
    "\n",
    "# 첫번째 <p> 태그의 텍스트 변경\n",
    "driver.execute_script(\"document.getElementsByTagName('p')[0].innerText = 'Updated First Paragraph';\")\n",
    "\n",
    "# 모든 <button> 태그의 배경색 변경\n",
    "driver.execute_script('''\n",
    "                      var buttons = document.getElementsByTagName(\"button\");\n",
    "                      for (var i = 0; i < buttons.length; i++) {\n",
    "                          buttons[i].style.backgroundColor = \"red\";\n",
    "                      }\n",
    "                    ''')\n",
    "# 첫번째 <p> 태그의 텍스트 가져오기\n",
    "update_paragraph = driver.execute_script('return document.getElementsByTagName(\"p\")[0].innerText;')\n",
    "print('Update_paragraph:', update_paragraph)\n",
    "\n",
    "# 첫번째 <button> 테그의 배경색 가져오기\n",
    "button_background_color = driver.execute_script('return document.getElementsByTagName\\\n",
    "    (\"button\")[0].style.backgroundColor;')\n",
    "print('First button background color:', button_background_color)\n",
    "time.sleep(2)\n",
    "driver.quit()"
   ]
  },
  {
   "cell_type": "code",
   "execution_count": null,
   "metadata": {},
   "outputs": [],
   "source": [
    "# # html파일 로드\n",
    "# driver = webdriver.Chrome()\n",
    "# file_path = ('http://127.0.0.1:5501/Task_0625_file4.html')\n",
    "# driver.get(file_path)\n",
    "# time.sleep(2)\n",
    "\n",
    "# # 첫번째 <p> 태그의 텍스트 변경\n",
    "# driver.execute_script(\"document.querySelector('firstParagraph').innerText = 'Updated First Paragraph';\")\n",
    "\n",
    "# # 첫번째 changeTextButton의 텍스트 변경\n",
    "# driver.execute_script(\"document.querySelector('.changeTextButton').innerText = 'Text Changed';\")\n",
    "\n",
    "# # 두번째 <p> 테그의 배경색 변경\n",
    "# driver.execute_script(\"document.querySelector('secondParagraph').style.backgroundColor = 'lightblue';\")\n",
    "\n",
    "# # 첫번째 p 태그의 텍스트 가져오기\n",
    "# update_paragraph = driver.execute_script(\"return document.querySelector('#fistPharagraph').innerText;\")\n",
    "\n",
    "# # 첫번째 changeTextButton의 텍스트 가져오기\n",
    "# update_button_text = driver.execute_script(\"return document.querySelector('.changeTextButton').innerText;\")\n",
    "\n",
    "# print(\"Update button text:\", update_button_text)\n",
    "# time.sleep(3)\n",
    "# driver.quit()"
   ]
  },
  {
   "cell_type": "code",
   "execution_count": 41,
   "metadata": {},
   "outputs": [
    {
     "name": "stdout",
     "output_type": "stream",
     "text": [
      "Updated paragragh :  Updated First Paragraph\n",
      "Updated button text : Text Changed\n"
     ]
    }
   ],
   "source": [
    "# Task_5\n",
    "from selenium import webdriver\n",
    "from selenium.webdriver.common.by import By\n",
    "import time\n",
    "\n",
    "# Task4\n",
    "\n",
    "\n",
    "# 웹 드라이버 인스턴스 생성 (여기서는 Chrome을 예로 사용)\n",
    "driver = webdriver.Chrome()\n",
    "\n",
    "# 로컬 HTML 파일 경로\n",
    "file_path = 'http://127.0.0.1:5501/Task_0625_4.html'  # 실제 파일 경로로 변경\n",
    "\n",
    "# HTML 파일 열기\n",
    "driver.get(file_path)\n",
    "\n",
    "# 2초 대기 (웹 페이지가 완전히 로드되도록)\n",
    "time.sleep(2)\n",
    "\n",
    "# 첫번쨰 p 태그의 텍스트 변경\n",
    "driver.execute_script(\"document.querySelector('#firstParagraph').innerText = 'Updated First Paragraph';\")\n",
    "\n",
    "# 첫번쨰 changeTextButton의 텍스트 변경\n",
    "driver.execute_script(\"document.querySelector('.changeTextButton').innerText = 'Text Changed';\")\n",
    "\n",
    "# 두번쨰 p 태그의 배경색 변경\n",
    "driver.execute_script(\"document.querySelector('#secondParagraph').style.backgroundColor = 'lightblue';\")\n",
    "\n",
    "# 첫번쨰 p 태그의 텍스트 가져오기\n",
    "updated_paragraph = driver.execute_script(\"return document.querySelector('#firstParagraph').innerText;\")\n",
    "print(\"Updated paragragh : \", updated_paragraph)\n",
    "\n",
    "# 첫번쨰 changeTextButton의 텍스트 가져오기\n",
    "updated_button_text = driver.execute_script(\"return document.querySelector('.changeTextButton').innerText;\")\n",
    "print(\"Updated button text :\", updated_button_text)\n",
    "time.sleep(5)\n",
    "driver.quit()\n"
   ]
  },
  {
   "cell_type": "code",
   "execution_count": 30,
   "metadata": {},
   "outputs": [
    {
     "name": "stdout",
     "output_type": "stream",
     "text": [
      "Paragraph highlighted: True\n"
     ]
    }
   ],
   "source": [
    "# Q. 첫번째 버튼 클릭시 첫번째 단락의 배경색을 노란색으로 변경하기\n",
    "\n",
    "# html파일 로드\n",
    "driver = webdriver.Chrome()\n",
    "file_path = ('http://127.0.0.1:5501/Task_0625_2.html')\n",
    "driver.get(file_path)\n",
    "time.sleep(2)\n",
    "\n",
    "first_button = driver.find_element(By.CSS_SELECTOR, 'button')\n",
    "driver.execute_script(\"\"\"\n",
    "                    arguments[0].addEventListener('click', function() {\n",
    "                    document.querySelector('.paragraph').classList.add('highlight');\n",
    "                    });\n",
    "                      \"\"\", first_button)\n",
    "first_button.click()\n",
    "\n",
    "first_pharagraph = driver.find_element(By.CSS_SELECTOR, '.paragraph')\n",
    "highlighted = driver.execute_script(\"return arguments[0].classList.contains('highlight');\",first_pharagraph)\n",
    "print(\"Paragraph highlighted:\", highlighted)\n",
    "time.sleep(2)\n",
    "driver.quit()"
   ]
  },
  {
   "cell_type": "code",
   "execution_count": 40,
   "metadata": {},
   "outputs": [
    {
     "name": "stdout",
     "output_type": "stream",
     "text": [
      "Updated paragragh :  Updated Paragraph 1\n",
      "Second button background Color : lightgreen\n"
     ]
    }
   ],
   "source": [
    "# # Task5\n",
    "\n",
    "# # 웹 드라이버 인스턴스 생성 (여기서는 Chrome을 예로 사용)\n",
    "# driver = webdriver.Chrome()\n",
    "\n",
    "# # 로컬 HTML 파일 경로\n",
    "# file_path = 'http://127.0.0.1:5501/Task_0625_5.html'  # 실제 파일 경로로 변경\n",
    "# # HTML 파일 열기\n",
    "# driver.get(file_path)\n",
    "\n",
    "# # 클래스가 'paragrath'인 모든 요소들의 텍스트 변경\n",
    "# driver.execute_script(\"\"\" \n",
    "#     var paragraphs = document.querySelectorAll('.paragraph');\n",
    "#     paragraphs.forEach(function(p, index) {\n",
    "#         p.innerText = 'Updated Paragraph ' + (index + 1);                \n",
    "#                       });\n",
    "#                     \"\"\")\n",
    "\n",
    "# # 클래스가 'changeColorButton'인 모든 요소들의 배경색 변경\n",
    "# driver.execute_script(\"\"\" \n",
    "#     var buttons = document.querySelectorAll('.changeColorButton');\n",
    "#     buttons.forEach(function(button) {\n",
    "#         button.style.backgroundColor = 'lightgreen';                \n",
    "#                       });\n",
    "#                     \"\"\")\n",
    "\n",
    "# # 클래스가 'paragrath'인 첫 번째 요소의 텍스트 가져오기\n",
    "# updated_paragraph = driver.execute_script(\"return document.querySelector('.paragraph').innerText;\")\n",
    "# print(\"Updated paragragh : \", updated_paragraph)\n",
    "\n",
    "# # 클래스가 'changedColorButton'인 두 번째 버튼의 배경색 가져오기\n",
    "# button_background_color = driver.execute_script(\"return document.querySelector('.changeColorButton').style.backgroundColor;\")\n",
    "# print(\"Second button background Color :\", button_background_color)\n",
    "# time.sleep(5)\n",
    "# driver.quit()"
   ]
  },
  {
   "cell_type": "code",
   "execution_count": 38,
   "metadata": {},
   "outputs": [
    {
     "name": "stdout",
     "output_type": "stream",
     "text": [
      "Updated fist paragraph : Updated paragraph1\n",
      "Updated button color : yellowgreen\n"
     ]
    }
   ],
   "source": [
    "# Task_5\n",
    "driver = webdriver.Chrome()\n",
    "file_path = ('http://127.0.0.1:5501/Task_0625_5.html')\n",
    "driver.get(file_path)\n",
    "time.sleep(2)\n",
    "\n",
    "# 클래스가 'paragraph'인 모든 요소의 텍스트 변경\n",
    "driver.execute_script(\"\"\"\n",
    "                    var paragraphs = document.querySelectorAll('.paragraph');\n",
    "                    paragraphs.forEach(function(p, index) {\n",
    "                        p.innerText = 'Updated paragraph'+ (index + 1);\n",
    "                        });\n",
    "                    \"\"\")\n",
    "\n",
    "# 클래스가 'changeColorButton'인 모든 버튼들의 배경색 변경\n",
    "driver.execute_script(\"\"\"\n",
    "                    var buttons = document.querySelectorAll('.changeColorButton');\n",
    "                    buttons.forEach(function(button) {\n",
    "                        button.style.backgroundColor ='yellowgreen';\n",
    "                        });\n",
    "                    \"\"\")\n",
    "\n",
    "# 클래스가 'paragraph'인 첫번째 요소의 텍스트 가져오기\n",
    "updated_paragraph = driver.execute_script(\"return document.querySelector('.paragraph').innerText;\")\n",
    "print(\"Updated fist paragraph :\", updated_paragraph)\n",
    "\n",
    "# 클래스가 'changeColorButton'인 두번째 버튼의 배경색 가져오기\n",
    "updated_background_color = driver.execute_script(\"return document.querySelector('.changeColorButton').style.backgroundColor;\")\n",
    "print(\"Updated button color :\", updated_background_color)\n",
    "time.sleep(2)\n",
    "driver.quit()"
   ]
  },
  {
   "cell_type": "code",
   "execution_count": null,
   "metadata": {},
   "outputs": [],
   "source": []
  }
 ],
 "metadata": {
  "kernelspec": {
   "display_name": "myenv",
   "language": "python",
   "name": "python3"
  },
  "language_info": {
   "codemirror_mode": {
    "name": "ipython",
    "version": 3
   },
   "file_extension": ".py",
   "mimetype": "text/x-python",
   "name": "python",
   "nbconvert_exporter": "python",
   "pygments_lexer": "ipython3",
   "version": "3.10.11"
  }
 },
 "nbformat": 4,
 "nbformat_minor": 2
}
