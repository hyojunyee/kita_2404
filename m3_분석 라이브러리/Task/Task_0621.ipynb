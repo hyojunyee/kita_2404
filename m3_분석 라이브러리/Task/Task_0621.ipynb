{
 "cells": [
  {
   "cell_type": "markdown",
   "metadata": {},
   "source": [
    "Task1_0621. https://www.google.com 사이트에서 셀레니움을 이용해서 다음을 수행하세요.\n",
    "- xpath 속성을 사용하여 접근하여 요소를 추출\n",
    "- 앵커태그(a 태그)에 사용되는 텍스트로 접근하여 요소를 추출\n",
    "- 앵커태그(a 태그)에 사용되는 일부 텍스트로 접근하여 요소를 추출\n",
    "- 태그를 사용하여 접근하여 요소를 추출\n",
    "- CSS 선택자를 사용하여 접근하여 요소를 추출"
   ]
  },
  {
   "cell_type": "code",
   "execution_count": 11,
   "metadata": {},
   "outputs": [
    {
     "data": {
      "text/plain": [
       "'\\n<textarea class=\"gLFyf\" aria-controls=\"Alh6id\" aria-owns=\"Alh6id\" autofocus=\"\" title=\"검색\" value=\"\" jsaction=\"paste:puy29d;\" aria-label=\"검색\" \\naria-autocomplete=\"both\" aria-expanded=\"false\" aria-haspopup=\"false\" autocapitalize=\"off\" autocomplete=\"off\" autocorrect=\"off\" id=\"APjFqb\" \\nmaxlength=\"2048\" name=\"q\" role=\"combobox\" rows=\"1\" spellcheck=\"false\" data-ved=\"0ahUKEwiTqeqlquWGAxVSh68BHeVpBlkQ39UDCAY\"></textarea>\\n'"
      ]
     },
     "execution_count": 11,
     "metadata": {},
     "output_type": "execute_result"
    }
   ],
   "source": [
    "\"\"\"\n",
    "<textarea class=\"gLFyf\" aria-controls=\"Alh6id\" aria-owns=\"Alh6id\" autofocus=\"\" title=\"검색\" value=\"\" jsaction=\"paste:puy29d;\" aria-label=\"검색\" \n",
    "aria-autocomplete=\"both\" aria-expanded=\"false\" aria-haspopup=\"false\" autocapitalize=\"off\" autocomplete=\"off\" autocorrect=\"off\" id=\"APjFqb\" \n",
    "maxlength=\"2048\" name=\"q\" role=\"combobox\" rows=\"1\" spellcheck=\"false\" data-ved=\"0ahUKEwiTqeqlquWGAxVSh68BHeVpBlkQ39UDCAY\"></textarea>\n",
    "\"\"\""
   ]
  },
  {
   "cell_type": "code",
   "execution_count": 1,
   "metadata": {},
   "outputs": [],
   "source": [
    "import selenium\n",
    "from selenium import webdriver\n",
    "from selenium.webdriver.common.by import By\n",
    "from selenium.webdriver.common.keys import Keys\n",
    "from selenium.webdriver.support.ui import WebDriverWait\n",
    "from selenium.webdriver.support import expected_conditions as EC\n",
    "from selenium.webdriver.chrome.options import Options\n",
    "\n",
    "# driver = webdriver.Chrome()\n",
    "# driver.get(url='https://www.google.com')\n",
    "\n",
    "# Chrom 옵션 설정\n",
    "options = Options()\n",
    "# options.add_argument('--start-maximized')           # 브라우저를 최대화된 상태로 시작하도록 설정\n",
    "options.add_experimental_option('detach', True)     # 스크립트가 종료된 후에도 브라우저가 닫히지 않도록 설정\n",
    "\n",
    "# WebDriverWait 설정\n",
    "driver = webdriver.Chrome(options=options)\n",
    "driver.get('https://www.google.com')\n",
    "\n",
    "# Google 웹사이트 열기\n",
    "# driver.quit()"
   ]
  },
  {
   "cell_type": "code",
   "execution_count": 5,
   "metadata": {},
   "outputs": [
    {
     "name": "stdout",
     "output_type": "stream",
     "text": [
      "Element found by XPATH: 검색\n"
     ]
    }
   ],
   "source": [
    "# xpath 속성을 사용하여 접근하여 요소를 추출\n",
    "try:\n",
    "    element_by_xpath = driver.find_element(By.XPATH, '//*[@id=\"APjFqb\"]')\n",
    "    print(\"Element found by XPATH:\", element_by_xpath.get_attribute('title'))\n",
    "except:\n",
    "    print(\"Element not found by XPATH\")"
   ]
  },
  {
   "cell_type": "code",
   "execution_count": 6,
   "metadata": {},
   "outputs": [
    {
     "name": "stdout",
     "output_type": "stream",
     "text": [
      "Element found by LINK_TEXT: Gmail\n"
     ]
    }
   ],
   "source": [
    "# 앵커태그(a 태그)에 사용되는 텍스트로 접근하여 요소를 추출\n",
    "# 링크 텍스트(link text)는 html에서 엥커테그(<a>)사이에 위치한 텍스트를 의미하며 웹 브라우저는 이 텍스트를 사용하여 사용자가 클릭 할 수 있ㄴ는 링크를 표시\n",
    "try:\n",
    "    element_by_link_text = driver.find_element(By.LINK_TEXT, 'Gmail')\n",
    "    print(\"Element found by LINK_TEXT:\", element_by_link_text.text)\n",
    "except:\n",
    "    print(\"Element not found by LINK_TEXT\")"
   ]
  },
  {
   "cell_type": "code",
   "execution_count": 10,
   "metadata": {},
   "outputs": [
    {
     "name": "stdout",
     "output_type": "stream",
     "text": [
      "Element found by PARTIAL_LINK_TEXT: Gmail\n"
     ]
    }
   ],
   "source": [
    "# 앵커태그(a 태그)에 사용되는 일부 텍스트로 접근하여 요소를 추출\n",
    "try:\n",
    "    element_by_partial_link_text = driver.find_element(By.PARTIAL_LINK_TEXT, 'Gm')\n",
    "    print(\"Element found by PARTIAL_LINK_TEXT:\", element_by_partial_link_text.text)\n",
    "except:\n",
    "    print(\"Element not found by PARTIAL_LINK_TEXT\")"
   ]
  },
  {
   "cell_type": "code",
   "execution_count": 12,
   "metadata": {},
   "outputs": [
    {
     "name": "stdout",
     "output_type": "stream",
     "text": [
      "Element found by TAG_NAME: Google 검색\n"
     ]
    }
   ],
   "source": [
    "# 태그를 사용하여 접근하여 요소를 추출\n",
    "try:\n",
    "    element_by_tag_name = driver.find_element(By.TAG_NAME, 'input')\n",
    "    print(\"Element found by TAG_NAME:\", element_by_tag_name.get_attribute('value'))\n",
    "except:\n",
    "    print(\"Element not found by TAG_NAME\")"
   ]
  },
  {
   "cell_type": "code",
   "execution_count": 15,
   "metadata": {},
   "outputs": [
    {
     "name": "stdout",
     "output_type": "stream",
     "text": [
      "Element found by CSS_SELECTOR: Google 검색\n"
     ]
    }
   ],
   "source": [
    "# CSS 선택자를 사용하여 접근하여 요소를 추출\n",
    "try:\n",
    "    element_by_css_selector = driver.find_element(By.CSS_SELECTOR, 'input.gNO89b')\n",
    "    print(\"Element found by CSS_SELECTOR:\", element_by_css_selector.get_attribute('value'))\n",
    "except:\n",
    "    print(\"Element not found by CSS_SELECTOR\")"
   ]
  },
  {
   "cell_type": "markdown",
   "metadata": {},
   "source": [
    "Task2_0621. 한빛 네트워크 사이트 https://www.hanbit.co.kr/ 로그인 후 마일리지 점수 가져와서 출력하세요."
   ]
  },
  {
   "cell_type": "code",
   "execution_count": 16,
   "metadata": {},
   "outputs": [
    {
     "name": "stdout",
     "output_type": "stream",
     "text": [
      "2,000\n"
     ]
    }
   ],
   "source": [
    "# 한빛 네트워크 사이트 로그인 후 점수 가져오기\n",
    "import selenium\n",
    "from selenium import webdriver\n",
    "from selenium.webdriver.common.keys import Keys\n",
    "from selenium.webdriver.common.by import By\n",
    "from bs4 import BeautifulSoup\n",
    "import time\n",
    "\n",
    "driver = webdriver.Chrome()\n",
    "driver.get('https://www.hanbit.co.kr/')\n",
    "element = driver.find_element(By.CLASS_NAME,'login')\n",
    "element.click()\n",
    "\n",
    "m_id = 'gywns9425'\n",
    "m_pw = '123123qwe!@'\n",
    "element = driver.find_element(By.ID,'m_id')\n",
    "element.send_keys(m_id)\n",
    "time.sleep(1)\n",
    "element = driver.find_element(By.ID,'m_passwd')\n",
    "element.send_keys(m_pw)\n",
    "time.sleep(1)\n",
    "# driver.execute_script(\"document.getElementById('m_id').value=\\'\" + m_id + \"\\'\")\n",
    "# time.sleep(2)\n",
    "# driver.execute_script(\"document.getElementById('m_pw').value=\\'\" + m_pw + \"\\'\")\n",
    "# time.sleep(2)\n",
    "\n",
    "element = driver.find_element(By.CLASS_NAME,'btn_login').click()\n",
    "time.sleep(1)\n",
    "driver.maximize_window()\n",
    "driver.find_element(By.XPATH,'//*[@id=\"wrap_nav\"]/ul[2]/li[2]/a').click()\n",
    "time.sleep(2)\n",
    "bs = BeautifulSoup(driver.page_source,'html.parser')\n",
    "element = bs.select_one('#container > div > div.sm_mymileage > dl.mileage_section1 > dd > span')\n",
    "print(element.text)\n",
    "time.sleep(3)\n",
    "driver.close()"
   ]
  }
 ],
 "metadata": {
  "kernelspec": {
   "display_name": "myenv",
   "language": "python",
   "name": "python3"
  },
  "language_info": {
   "codemirror_mode": {
    "name": "ipython",
    "version": 3
   },
   "file_extension": ".py",
   "mimetype": "text/x-python",
   "name": "python",
   "nbconvert_exporter": "python",
   "pygments_lexer": "ipython3",
   "version": "3.10.11"
  }
 },
 "nbformat": 4,
 "nbformat_minor": 2
}
