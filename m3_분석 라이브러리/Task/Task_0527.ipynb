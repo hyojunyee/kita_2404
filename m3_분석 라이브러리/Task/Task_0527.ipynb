{
  "nbformat": 4,
  "nbformat_minor": 0,
  "metadata": {
    "colab": {
      "provenance": [],
      "authorship_tag": "ABX9TyN6uSEkjx/6SwiP9fGM5+NY",
      "include_colab_link": true
    },
    "kernelspec": {
      "name": "python3",
      "display_name": "Python 3"
    },
    "language_info": {
      "name": "python"
    }
  },
  "cells": [
    {
      "cell_type": "markdown",
      "metadata": {
        "id": "view-in-github",
        "colab_type": "text"
      },
      "source": [
        "<a href=\"https://colab.research.google.com/github/hyojunyee/kita_2404/blob/main/m3_%EB%B6%84%EC%84%9D%20%EB%9D%BC%EC%9D%B4%EB%B8%8C%EB%9F%AC%EB%A6%AC/Task/Task_0527.ipynb\" target=\"_parent\"><img src=\"https://colab.research.google.com/assets/colab-badge.svg\" alt=\"Open In Colab\"/></a>"
      ]
    },
    {
      "cell_type": "markdown",
      "source": [
        "Task1_0527. 4개의 Series를 결합하여 데이터프레임을 생성하여 출력하세요.\n",
        "- 출력한 데이터프레임에서 추출하고 싶은 5개의 데이터를 인덱싱하여 출력\n",
        "- null값을 3개 추가\n",
        "- null값의 개수를 확인하고 삭제\n",
        "- 2개의 데이터를 수정\n",
        "- 1개의 행을 삭제"
      ],
      "metadata": {
        "id": "slKM0a6_x6sk"
      }
    },
    {
      "cell_type": "code",
      "source": [
        "import pandas as pd\n",
        "import numpy as np\n",
        "\n",
        "# 4개의 Series 생성\n",
        "s1 = pd.Series(['kim', 'lee', 'park', 'yoon', 'ryu'], name='이름')\n",
        "s2 = pd.Series([22, 35, 27, 29, 30], name='나이')\n",
        "s3 = pd.Series([1, 2, 1, 1, 2], name='성별')\n",
        "s4 = pd.Series(['seoul', 'seoul', 'degu', 'busan', 'seoul'], name='주소')"
      ],
      "metadata": {
        "id": "2vtO_gDEx6T_"
      },
      "execution_count": 13,
      "outputs": []
    },
    {
      "cell_type": "code",
      "source": [
        "# 데이터프레임 생성\n",
        "df = pd.concat([s1, s2, s3, s4], axis=1)\n",
        "print(\"Original DataFrame:\")\n",
        "print(df)"
      ],
      "metadata": {
        "colab": {
          "base_uri": "https://localhost:8080/"
        },
        "id": "Wib5DGBthIe7",
        "outputId": "4b659cef-2b64-44d4-e33f-3fb46a2507a5"
      },
      "execution_count": 14,
      "outputs": [
        {
          "output_type": "stream",
          "name": "stdout",
          "text": [
            "Original DataFrame:\n",
            "     이름  나이  성별     주소\n",
            "0   kim  22   1  seoul\n",
            "1   lee  35   2  seoul\n",
            "2  park  27   1   degu\n",
            "3  yoon  29   1  busan\n",
            "4   ryu  30   2  seoul\n"
          ]
        }
      ]
    },
    {
      "cell_type": "code",
      "source": [
        "# 5개의 데이터를 인덱싱하여 출력\n",
        "indexed_data = df.loc[0:4, ['이름', '성별']]\n",
        "print(\"\\nIndexed Data (5 items):\")\n",
        "print(indexed_data)"
      ],
      "metadata": {
        "colab": {
          "base_uri": "https://localhost:8080/"
        },
        "id": "tjNABuilhKHy",
        "outputId": "074d0130-2eee-4c0c-df53-92e6d03dde35"
      },
      "execution_count": 15,
      "outputs": [
        {
          "output_type": "stream",
          "name": "stdout",
          "text": [
            "\n",
            "Indexed Data (5 items):\n",
            "     이름  성별\n",
            "0   kim   1\n",
            "1   lee   2\n",
            "2  park   1\n",
            "3  yoon   1\n",
            "4   ryu   2\n"
          ]
        }
      ]
    },
    {
      "cell_type": "code",
      "source": [
        "# null 값을 3개 추가\n",
        "df.loc[1, '주소'] = np.nan\n",
        "df.loc[2, '나이'] = np.nan\n",
        "df.loc[3, '성별'] = np.nan\n",
        "print(\"\\nDataFrame with null values added:\")\n",
        "print(df)"
      ],
      "metadata": {
        "colab": {
          "base_uri": "https://localhost:8080/"
        },
        "id": "Im2iF41XhLR1",
        "outputId": "c6408c1a-f457-4d1c-a273-42d9bdf4104e"
      },
      "execution_count": 16,
      "outputs": [
        {
          "output_type": "stream",
          "name": "stdout",
          "text": [
            "\n",
            "DataFrame with null values added:\n",
            "     이름    나이   성별     주소\n",
            "0   kim  22.0  1.0  seoul\n",
            "1   lee  35.0  2.0    NaN\n",
            "2  park   NaN  1.0   degu\n",
            "3  yoon  29.0  NaN  busan\n",
            "4   ryu  30.0  2.0  seoul\n"
          ]
        }
      ]
    },
    {
      "cell_type": "code",
      "source": [
        "# null 값의 개수를 확인\n",
        "null_count = df.isnull().sum().sum()\n",
        "print(\"\\nNumber of null values:\", null_count)"
      ],
      "metadata": {
        "colab": {
          "base_uri": "https://localhost:8080/"
        },
        "id": "imQVDhojhPXD",
        "outputId": "d04a9d9b-dd95-4e77-d8f2-06b359bcc578"
      },
      "execution_count": 17,
      "outputs": [
        {
          "output_type": "stream",
          "name": "stdout",
          "text": [
            "\n",
            "Number of null values: 3\n"
          ]
        }
      ]
    },
    {
      "cell_type": "code",
      "source": [
        "#  null 값을 삭제\n",
        "df_cleaned = df.dropna()\n",
        "print(\"\\nDataFrame after dropping null values:\")\n",
        "print(df_cleaned)"
      ],
      "metadata": {
        "colab": {
          "base_uri": "https://localhost:8080/"
        },
        "id": "qC9OXdO8hQvx",
        "outputId": "563d34fb-26b4-4768-ab9e-2a770f1e9e5c"
      },
      "execution_count": 18,
      "outputs": [
        {
          "output_type": "stream",
          "name": "stdout",
          "text": [
            "\n",
            "DataFrame after dropping null values:\n",
            "    이름    나이   성별     주소\n",
            "0  kim  22.0  1.0  seoul\n",
            "4  ryu  30.0  2.0  seoul\n"
          ]
        }
      ]
    },
    {
      "cell_type": "code",
      "source": [
        "# 2개의 데이터를 수정\n",
        "df_cleaned.loc[0, '이름'] = 'seo'\n",
        "df_cleaned.loc[4, '나이'] = 27\n",
        "print(\"\\nDataFrame after modifying 2 values:\")\n",
        "print(df_cleaned)"
      ],
      "metadata": {
        "colab": {
          "base_uri": "https://localhost:8080/"
        },
        "id": "EIC9vWUShV2A",
        "outputId": "ad86b887-823d-4db1-f422-cb77cff866c2"
      },
      "execution_count": 19,
      "outputs": [
        {
          "output_type": "stream",
          "name": "stdout",
          "text": [
            "\n",
            "DataFrame after modifying 2 values:\n",
            "    이름    나이   성별     주소\n",
            "0  seo  22.0  1.0  seoul\n",
            "4  ryu  27.0  2.0  seoul\n"
          ]
        }
      ]
    },
    {
      "cell_type": "code",
      "source": [
        "# 1개의 행을 삭제\n",
        "df_cleaned = df_cleaned.drop(4)\n",
        "print(\"\\nDataFrame after deleting 1 row:\")\n",
        "print(df_cleaned)"
      ],
      "metadata": {
        "colab": {
          "base_uri": "https://localhost:8080/"
        },
        "id": "WEinvJOFhW1f",
        "outputId": "fc33b502-7adb-45e7-f7e8-fd694ebbcd3f"
      },
      "execution_count": 20,
      "outputs": [
        {
          "output_type": "stream",
          "name": "stdout",
          "text": [
            "\n",
            "DataFrame after deleting 1 row:\n",
            "    이름    나이   성별     주소\n",
            "0  seo  22.0  1.0  seoul\n"
          ]
        }
      ]
    },
    {
      "cell_type": "code",
      "source": [
        "import pandas as pd\n",
        "import numpy as np\n",
        "\n",
        "# 4개의 Series 생성\n",
        "series1 = pd.Series([1, 2, 3, 4, 5], name='A')\n",
        "series2 = pd.Series([10, 20, 30, 40, 50], name='B')\n",
        "series3 = pd.Series([100, 200, 300, 400, 500], name='C')\n",
        "series4 = pd.Series([1000, 2000, 3000, 4000, 5000], name='D')\n",
        "\n",
        "# 데이터프레임 생성\n",
        "df = pd.concat([series1, series2, series3, series4], axis=1)\n",
        "print(\"Original DataFrame:\")\n",
        "print(df)\n",
        "\n",
        "# 5개의 데이터를 인덱싱하여 출력\n",
        "indexed_data = df.loc[0:4, ['A', 'B']]\n",
        "print(\"\\nIndexed Data (5 items):\")\n",
        "print(indexed_data)\n",
        "\n",
        "# null 값을 3개 추가\n",
        "df.loc[1, 'A'] = np.nan\n",
        "df.loc[2, 'C'] = np.nan\n",
        "df.loc[3, 'D'] = np.nan\n",
        "print(\"\\nDataFrame with null values added:\")\n",
        "print(df)\n",
        "\n",
        "# null 값의 개수를 확인하고 삭제\n",
        "null_count = df.isnull().sum().sum()\n",
        "print(\"\\nNumber of null values:\", null_count)\n",
        "\n",
        "df_cleaned = df.dropna()\n",
        "print(\"\\nDataFrame after dropping null values:\")\n",
        "print(df_cleaned)\n",
        "\n",
        "# 2개의 데이터를 수정\n",
        "df_cleaned.loc[0, 'A'] = 9\n",
        "df_cleaned.loc[4, 'B'] = 99\n",
        "print(\"\\nDataFrame after modifying 2 values:\")\n",
        "print(df_cleaned)\n",
        "\n",
        "# 1개의 행을 삭제\n",
        "df_cleaned = df_cleaned.drop(4)\n",
        "print(\"\\nDataFrame after deleting 1 row:\")\n",
        "print(df_cleaned)"
      ],
      "metadata": {
        "id": "0IKcIbQwgUYP"
      },
      "execution_count": null,
      "outputs": []
    },
    {
      "cell_type": "markdown",
      "source": [
        "Task2_0527. 학생별 성적 데이터셋으로 의미있게 데이터 셋을 수정하세요.(아래 사항 반영)\n",
        "- S1 ~ S10은 평균 점수를 기준으로 1등급에서 10등급이고 등급간 점수 차는 5점\n",
        "- 결시자가 국어 3명, 수학 2명 있음\n",
        "- 영어, 수학의 평균 점수가 국어 대비 5점 낮음"
      ],
      "metadata": {
        "id": "No2LLSJH2vJB"
      }
    },
    {
      "cell_type": "code",
      "source": [
        "import pandas as pd\n",
        "import numpy as np\n",
        "df = np.random.randint(1,5,size=(10,5))\n",
        "df=pd.DataFrame(df,index=['s1','s2','s3','s4','s5','s6','s7','s8','s9','s10'],\n",
        "               columns=['국어','영어','수학','과학','사회'])\n",
        "df\n",
        "\n",
        "# 국어 점수 설정\n",
        "korean_scores = [100, 95, 90, 85, 80, 75, 70, 65, 60, 55]  # 1등급에서 10등급까지 5점 차이로 설정\n",
        "df['국어'] = korean_scores\n",
        "science_scores = [100, 95, 90, 85, 80, 75, 70, 65, 60, 55]\n",
        "society_scores = [100, 95, 90, 85, 80, 75, 70, 65, 60, 55]\n",
        "\n",
        "# 영어와 수학 점수 설정 (국어 평균 점수 대비 5점 낮게)\n",
        "korean_mean = np.mean(korean_scores)\n",
        "science_mean = np.mean(science_scores)\n",
        "society_mean = np.mean(society_scores)\n",
        "english_scores = korean_mean - 5 + np.random.normal(0, 5, 10)  # 노이즈를 추가하여 현실성 부여\n",
        "math_scores = korean_mean - 5 + np.random.normal(0, 5, 10)\n",
        "\n",
        "df['국어'] = np.clip(korean_scores, 0, 100).astype(int)\n",
        "df['영어'] = np.clip(english_scores, 0, 100).astype(int)\n",
        "df['수학'] = np.clip(math_scores, 0, 100).astype(int)\n",
        "df['과학'] = np.clip(science_scores, 0, 100).astype(int)\n",
        "df['사회'] = np.clip(society_scores, 0, 100).astype(int)\n",
        "\n",
        "# 결시자 반영 (결시자는 -1로 표시)\n",
        "df.loc[np.random.choice(df.index, 3, replace=False), '국어'] = '결시자'\n",
        "df.loc[np.random.choice(df.index, 2, replace=False), '수학'] = '결시자'\n",
        "\n",
        "df"
      ],
      "metadata": {
        "colab": {
          "base_uri": "https://localhost:8080/",
          "height": 363
        },
        "id": "7fbOVI2n2vct",
        "outputId": "42270c01-b6e6-4113-b92b-b6778cf1e6b7"
      },
      "execution_count": null,
      "outputs": [
        {
          "output_type": "execute_result",
          "data": {
            "text/plain": [
              "      국어  영어   수학   과학   사회\n",
              "s1   100  70  결시자  100  100\n",
              "s2    95  64   70   95   95\n",
              "s3   결시자  62   72   90   90\n",
              "s4   결시자  69   75   85   85\n",
              "s5    80  70   68   80   80\n",
              "s6    75  75   69   75   75\n",
              "s7    70  79   80   70   70\n",
              "s8   결시자  73  결시자   65   65\n",
              "s9    60  69   75   60   60\n",
              "s10   55  77   77   55   55"
            ],
            "text/html": [
              "\n",
              "  <div id=\"df-16501839-958f-4333-b31f-285fadc1a50a\" class=\"colab-df-container\">\n",
              "    <div>\n",
              "<style scoped>\n",
              "    .dataframe tbody tr th:only-of-type {\n",
              "        vertical-align: middle;\n",
              "    }\n",
              "\n",
              "    .dataframe tbody tr th {\n",
              "        vertical-align: top;\n",
              "    }\n",
              "\n",
              "    .dataframe thead th {\n",
              "        text-align: right;\n",
              "    }\n",
              "</style>\n",
              "<table border=\"1\" class=\"dataframe\">\n",
              "  <thead>\n",
              "    <tr style=\"text-align: right;\">\n",
              "      <th></th>\n",
              "      <th>국어</th>\n",
              "      <th>영어</th>\n",
              "      <th>수학</th>\n",
              "      <th>과학</th>\n",
              "      <th>사회</th>\n",
              "    </tr>\n",
              "  </thead>\n",
              "  <tbody>\n",
              "    <tr>\n",
              "      <th>s1</th>\n",
              "      <td>100</td>\n",
              "      <td>70</td>\n",
              "      <td>결시자</td>\n",
              "      <td>100</td>\n",
              "      <td>100</td>\n",
              "    </tr>\n",
              "    <tr>\n",
              "      <th>s2</th>\n",
              "      <td>95</td>\n",
              "      <td>64</td>\n",
              "      <td>70</td>\n",
              "      <td>95</td>\n",
              "      <td>95</td>\n",
              "    </tr>\n",
              "    <tr>\n",
              "      <th>s3</th>\n",
              "      <td>결시자</td>\n",
              "      <td>62</td>\n",
              "      <td>72</td>\n",
              "      <td>90</td>\n",
              "      <td>90</td>\n",
              "    </tr>\n",
              "    <tr>\n",
              "      <th>s4</th>\n",
              "      <td>결시자</td>\n",
              "      <td>69</td>\n",
              "      <td>75</td>\n",
              "      <td>85</td>\n",
              "      <td>85</td>\n",
              "    </tr>\n",
              "    <tr>\n",
              "      <th>s5</th>\n",
              "      <td>80</td>\n",
              "      <td>70</td>\n",
              "      <td>68</td>\n",
              "      <td>80</td>\n",
              "      <td>80</td>\n",
              "    </tr>\n",
              "    <tr>\n",
              "      <th>s6</th>\n",
              "      <td>75</td>\n",
              "      <td>75</td>\n",
              "      <td>69</td>\n",
              "      <td>75</td>\n",
              "      <td>75</td>\n",
              "    </tr>\n",
              "    <tr>\n",
              "      <th>s7</th>\n",
              "      <td>70</td>\n",
              "      <td>79</td>\n",
              "      <td>80</td>\n",
              "      <td>70</td>\n",
              "      <td>70</td>\n",
              "    </tr>\n",
              "    <tr>\n",
              "      <th>s8</th>\n",
              "      <td>결시자</td>\n",
              "      <td>73</td>\n",
              "      <td>결시자</td>\n",
              "      <td>65</td>\n",
              "      <td>65</td>\n",
              "    </tr>\n",
              "    <tr>\n",
              "      <th>s9</th>\n",
              "      <td>60</td>\n",
              "      <td>69</td>\n",
              "      <td>75</td>\n",
              "      <td>60</td>\n",
              "      <td>60</td>\n",
              "    </tr>\n",
              "    <tr>\n",
              "      <th>s10</th>\n",
              "      <td>55</td>\n",
              "      <td>77</td>\n",
              "      <td>77</td>\n",
              "      <td>55</td>\n",
              "      <td>55</td>\n",
              "    </tr>\n",
              "  </tbody>\n",
              "</table>\n",
              "</div>\n",
              "    <div class=\"colab-df-buttons\">\n",
              "\n",
              "  <div class=\"colab-df-container\">\n",
              "    <button class=\"colab-df-convert\" onclick=\"convertToInteractive('df-16501839-958f-4333-b31f-285fadc1a50a')\"\n",
              "            title=\"Convert this dataframe to an interactive table.\"\n",
              "            style=\"display:none;\">\n",
              "\n",
              "  <svg xmlns=\"http://www.w3.org/2000/svg\" height=\"24px\" viewBox=\"0 -960 960 960\">\n",
              "    <path d=\"M120-120v-720h720v720H120Zm60-500h600v-160H180v160Zm220 220h160v-160H400v160Zm0 220h160v-160H400v160ZM180-400h160v-160H180v160Zm440 0h160v-160H620v160ZM180-180h160v-160H180v160Zm440 0h160v-160H620v160Z\"/>\n",
              "  </svg>\n",
              "    </button>\n",
              "\n",
              "  <style>\n",
              "    .colab-df-container {\n",
              "      display:flex;\n",
              "      gap: 12px;\n",
              "    }\n",
              "\n",
              "    .colab-df-convert {\n",
              "      background-color: #E8F0FE;\n",
              "      border: none;\n",
              "      border-radius: 50%;\n",
              "      cursor: pointer;\n",
              "      display: none;\n",
              "      fill: #1967D2;\n",
              "      height: 32px;\n",
              "      padding: 0 0 0 0;\n",
              "      width: 32px;\n",
              "    }\n",
              "\n",
              "    .colab-df-convert:hover {\n",
              "      background-color: #E2EBFA;\n",
              "      box-shadow: 0px 1px 2px rgba(60, 64, 67, 0.3), 0px 1px 3px 1px rgba(60, 64, 67, 0.15);\n",
              "      fill: #174EA6;\n",
              "    }\n",
              "\n",
              "    .colab-df-buttons div {\n",
              "      margin-bottom: 4px;\n",
              "    }\n",
              "\n",
              "    [theme=dark] .colab-df-convert {\n",
              "      background-color: #3B4455;\n",
              "      fill: #D2E3FC;\n",
              "    }\n",
              "\n",
              "    [theme=dark] .colab-df-convert:hover {\n",
              "      background-color: #434B5C;\n",
              "      box-shadow: 0px 1px 3px 1px rgba(0, 0, 0, 0.15);\n",
              "      filter: drop-shadow(0px 1px 2px rgba(0, 0, 0, 0.3));\n",
              "      fill: #FFFFFF;\n",
              "    }\n",
              "  </style>\n",
              "\n",
              "    <script>\n",
              "      const buttonEl =\n",
              "        document.querySelector('#df-16501839-958f-4333-b31f-285fadc1a50a button.colab-df-convert');\n",
              "      buttonEl.style.display =\n",
              "        google.colab.kernel.accessAllowed ? 'block' : 'none';\n",
              "\n",
              "      async function convertToInteractive(key) {\n",
              "        const element = document.querySelector('#df-16501839-958f-4333-b31f-285fadc1a50a');\n",
              "        const dataTable =\n",
              "          await google.colab.kernel.invokeFunction('convertToInteractive',\n",
              "                                                    [key], {});\n",
              "        if (!dataTable) return;\n",
              "\n",
              "        const docLinkHtml = 'Like what you see? Visit the ' +\n",
              "          '<a target=\"_blank\" href=https://colab.research.google.com/notebooks/data_table.ipynb>data table notebook</a>'\n",
              "          + ' to learn more about interactive tables.';\n",
              "        element.innerHTML = '';\n",
              "        dataTable['output_type'] = 'display_data';\n",
              "        await google.colab.output.renderOutput(dataTable, element);\n",
              "        const docLink = document.createElement('div');\n",
              "        docLink.innerHTML = docLinkHtml;\n",
              "        element.appendChild(docLink);\n",
              "      }\n",
              "    </script>\n",
              "  </div>\n",
              "\n",
              "\n",
              "<div id=\"df-5817b240-304f-4341-a90a-c4532e18f592\">\n",
              "  <button class=\"colab-df-quickchart\" onclick=\"quickchart('df-5817b240-304f-4341-a90a-c4532e18f592')\"\n",
              "            title=\"Suggest charts\"\n",
              "            style=\"display:none;\">\n",
              "\n",
              "<svg xmlns=\"http://www.w3.org/2000/svg\" height=\"24px\"viewBox=\"0 0 24 24\"\n",
              "     width=\"24px\">\n",
              "    <g>\n",
              "        <path d=\"M19 3H5c-1.1 0-2 .9-2 2v14c0 1.1.9 2 2 2h14c1.1 0 2-.9 2-2V5c0-1.1-.9-2-2-2zM9 17H7v-7h2v7zm4 0h-2V7h2v10zm4 0h-2v-4h2v4z\"/>\n",
              "    </g>\n",
              "</svg>\n",
              "  </button>\n",
              "\n",
              "<style>\n",
              "  .colab-df-quickchart {\n",
              "      --bg-color: #E8F0FE;\n",
              "      --fill-color: #1967D2;\n",
              "      --hover-bg-color: #E2EBFA;\n",
              "      --hover-fill-color: #174EA6;\n",
              "      --disabled-fill-color: #AAA;\n",
              "      --disabled-bg-color: #DDD;\n",
              "  }\n",
              "\n",
              "  [theme=dark] .colab-df-quickchart {\n",
              "      --bg-color: #3B4455;\n",
              "      --fill-color: #D2E3FC;\n",
              "      --hover-bg-color: #434B5C;\n",
              "      --hover-fill-color: #FFFFFF;\n",
              "      --disabled-bg-color: #3B4455;\n",
              "      --disabled-fill-color: #666;\n",
              "  }\n",
              "\n",
              "  .colab-df-quickchart {\n",
              "    background-color: var(--bg-color);\n",
              "    border: none;\n",
              "    border-radius: 50%;\n",
              "    cursor: pointer;\n",
              "    display: none;\n",
              "    fill: var(--fill-color);\n",
              "    height: 32px;\n",
              "    padding: 0;\n",
              "    width: 32px;\n",
              "  }\n",
              "\n",
              "  .colab-df-quickchart:hover {\n",
              "    background-color: var(--hover-bg-color);\n",
              "    box-shadow: 0 1px 2px rgba(60, 64, 67, 0.3), 0 1px 3px 1px rgba(60, 64, 67, 0.15);\n",
              "    fill: var(--button-hover-fill-color);\n",
              "  }\n",
              "\n",
              "  .colab-df-quickchart-complete:disabled,\n",
              "  .colab-df-quickchart-complete:disabled:hover {\n",
              "    background-color: var(--disabled-bg-color);\n",
              "    fill: var(--disabled-fill-color);\n",
              "    box-shadow: none;\n",
              "  }\n",
              "\n",
              "  .colab-df-spinner {\n",
              "    border: 2px solid var(--fill-color);\n",
              "    border-color: transparent;\n",
              "    border-bottom-color: var(--fill-color);\n",
              "    animation:\n",
              "      spin 1s steps(1) infinite;\n",
              "  }\n",
              "\n",
              "  @keyframes spin {\n",
              "    0% {\n",
              "      border-color: transparent;\n",
              "      border-bottom-color: var(--fill-color);\n",
              "      border-left-color: var(--fill-color);\n",
              "    }\n",
              "    20% {\n",
              "      border-color: transparent;\n",
              "      border-left-color: var(--fill-color);\n",
              "      border-top-color: var(--fill-color);\n",
              "    }\n",
              "    30% {\n",
              "      border-color: transparent;\n",
              "      border-left-color: var(--fill-color);\n",
              "      border-top-color: var(--fill-color);\n",
              "      border-right-color: var(--fill-color);\n",
              "    }\n",
              "    40% {\n",
              "      border-color: transparent;\n",
              "      border-right-color: var(--fill-color);\n",
              "      border-top-color: var(--fill-color);\n",
              "    }\n",
              "    60% {\n",
              "      border-color: transparent;\n",
              "      border-right-color: var(--fill-color);\n",
              "    }\n",
              "    80% {\n",
              "      border-color: transparent;\n",
              "      border-right-color: var(--fill-color);\n",
              "      border-bottom-color: var(--fill-color);\n",
              "    }\n",
              "    90% {\n",
              "      border-color: transparent;\n",
              "      border-bottom-color: var(--fill-color);\n",
              "    }\n",
              "  }\n",
              "</style>\n",
              "\n",
              "  <script>\n",
              "    async function quickchart(key) {\n",
              "      const quickchartButtonEl =\n",
              "        document.querySelector('#' + key + ' button');\n",
              "      quickchartButtonEl.disabled = true;  // To prevent multiple clicks.\n",
              "      quickchartButtonEl.classList.add('colab-df-spinner');\n",
              "      try {\n",
              "        const charts = await google.colab.kernel.invokeFunction(\n",
              "            'suggestCharts', [key], {});\n",
              "      } catch (error) {\n",
              "        console.error('Error during call to suggestCharts:', error);\n",
              "      }\n",
              "      quickchartButtonEl.classList.remove('colab-df-spinner');\n",
              "      quickchartButtonEl.classList.add('colab-df-quickchart-complete');\n",
              "    }\n",
              "    (() => {\n",
              "      let quickchartButtonEl =\n",
              "        document.querySelector('#df-5817b240-304f-4341-a90a-c4532e18f592 button');\n",
              "      quickchartButtonEl.style.display =\n",
              "        google.colab.kernel.accessAllowed ? 'block' : 'none';\n",
              "    })();\n",
              "  </script>\n",
              "</div>\n",
              "\n",
              "  <div id=\"id_be147dc5-ed05-4c0c-bb7d-d4839b86cec9\">\n",
              "    <style>\n",
              "      .colab-df-generate {\n",
              "        background-color: #E8F0FE;\n",
              "        border: none;\n",
              "        border-radius: 50%;\n",
              "        cursor: pointer;\n",
              "        display: none;\n",
              "        fill: #1967D2;\n",
              "        height: 32px;\n",
              "        padding: 0 0 0 0;\n",
              "        width: 32px;\n",
              "      }\n",
              "\n",
              "      .colab-df-generate:hover {\n",
              "        background-color: #E2EBFA;\n",
              "        box-shadow: 0px 1px 2px rgba(60, 64, 67, 0.3), 0px 1px 3px 1px rgba(60, 64, 67, 0.15);\n",
              "        fill: #174EA6;\n",
              "      }\n",
              "\n",
              "      [theme=dark] .colab-df-generate {\n",
              "        background-color: #3B4455;\n",
              "        fill: #D2E3FC;\n",
              "      }\n",
              "\n",
              "      [theme=dark] .colab-df-generate:hover {\n",
              "        background-color: #434B5C;\n",
              "        box-shadow: 0px 1px 3px 1px rgba(0, 0, 0, 0.15);\n",
              "        filter: drop-shadow(0px 1px 2px rgba(0, 0, 0, 0.3));\n",
              "        fill: #FFFFFF;\n",
              "      }\n",
              "    </style>\n",
              "    <button class=\"colab-df-generate\" onclick=\"generateWithVariable('df')\"\n",
              "            title=\"Generate code using this dataframe.\"\n",
              "            style=\"display:none;\">\n",
              "\n",
              "  <svg xmlns=\"http://www.w3.org/2000/svg\" height=\"24px\"viewBox=\"0 0 24 24\"\n",
              "       width=\"24px\">\n",
              "    <path d=\"M7,19H8.4L18.45,9,17,7.55,7,17.6ZM5,21V16.75L18.45,3.32a2,2,0,0,1,2.83,0l1.4,1.43a1.91,1.91,0,0,1,.58,1.4,1.91,1.91,0,0,1-.58,1.4L9.25,21ZM18.45,9,17,7.55Zm-12,3A5.31,5.31,0,0,0,4.9,8.1,5.31,5.31,0,0,0,1,6.5,5.31,5.31,0,0,0,4.9,4.9,5.31,5.31,0,0,0,6.5,1,5.31,5.31,0,0,0,8.1,4.9,5.31,5.31,0,0,0,12,6.5,5.46,5.46,0,0,0,6.5,12Z\"/>\n",
              "  </svg>\n",
              "    </button>\n",
              "    <script>\n",
              "      (() => {\n",
              "      const buttonEl =\n",
              "        document.querySelector('#id_be147dc5-ed05-4c0c-bb7d-d4839b86cec9 button.colab-df-generate');\n",
              "      buttonEl.style.display =\n",
              "        google.colab.kernel.accessAllowed ? 'block' : 'none';\n",
              "\n",
              "      buttonEl.onclick = () => {\n",
              "        google.colab.notebook.generateWithVariable('df');\n",
              "      }\n",
              "      })();\n",
              "    </script>\n",
              "  </div>\n",
              "\n",
              "    </div>\n",
              "  </div>\n"
            ],
            "application/vnd.google.colaboratory.intrinsic+json": {
              "type": "dataframe",
              "variable_name": "df",
              "summary": "{\n  \"name\": \"df\",\n  \"rows\": 10,\n  \"fields\": [\n    {\n      \"column\": \"\\uad6d\\uc5b4\",\n      \"properties\": {\n        \"dtype\": \"string\",\n        \"num_unique_values\": 8,\n        \"samples\": [\n          95,\n          70,\n          100\n        ],\n        \"semantic_type\": \"\",\n        \"description\": \"\"\n      }\n    },\n    {\n      \"column\": \"\\uc601\\uc5b4\",\n      \"properties\": {\n        \"dtype\": \"number\",\n        \"std\": 5,\n        \"min\": 62,\n        \"max\": 79,\n        \"num_unique_values\": 8,\n        \"samples\": [\n          64,\n          79,\n          70\n        ],\n        \"semantic_type\": \"\",\n        \"description\": \"\"\n      }\n    },\n    {\n      \"column\": \"\\uc218\\ud559\",\n      \"properties\": {\n        \"dtype\": \"string\",\n        \"num_unique_values\": 8,\n        \"samples\": [\n          70,\n          69,\n          \"\\uacb0\\uc2dc\\uc790\"\n        ],\n        \"semantic_type\": \"\",\n        \"description\": \"\"\n      }\n    },\n    {\n      \"column\": \"\\uacfc\\ud559\",\n      \"properties\": {\n        \"dtype\": \"number\",\n        \"std\": 15,\n        \"min\": 55,\n        \"max\": 100,\n        \"num_unique_values\": 10,\n        \"samples\": [\n          60,\n          95,\n          75\n        ],\n        \"semantic_type\": \"\",\n        \"description\": \"\"\n      }\n    },\n    {\n      \"column\": \"\\uc0ac\\ud68c\",\n      \"properties\": {\n        \"dtype\": \"number\",\n        \"std\": 15,\n        \"min\": 55,\n        \"max\": 100,\n        \"num_unique_values\": 10,\n        \"samples\": [\n          60,\n          95,\n          75\n        ],\n        \"semantic_type\": \"\",\n        \"description\": \"\"\n      }\n    }\n  ]\n}"
            }
          },
          "metadata": {},
          "execution_count": 56
        }
      ]
    },
    {
      "cell_type": "markdown",
      "source": [
        "Task3_0527. df1에서 결측값 처리 후 딕셔너리, 리스트로 변환하여 출력하세요."
      ],
      "metadata": {
        "id": "0_1C4g9e2-f1"
      }
    },
    {
      "cell_type": "code",
      "source": [
        "df1 = pd.DataFrame({\n",
        "    \"Name\": [\"Alice\", \"Bob\", \"Charlie\", \"David\", \"Eve\"],\n",
        "    \"Math\": [85, np.nan, 88, 90, 76],\n",
        "    \"English\": [92, 85, 89, np.nan, 80],\n",
        "    \"Science\": [78, 90, 95, 85, 89],\n",
        "    \"History\": [88, 92, 85, 91, np.nan]\n",
        "})\n",
        "\n",
        "# 결측값에 0을 채워넣음\n",
        "df1_fillna = df1.fillna(0)\n",
        "\n",
        "# 딕셔너리 변환\n",
        "df1_dict = df1_fillna.to_dict()\n",
        "print(df1_dict)\n",
        "\n",
        "# 데이터프레임은 여러 행과 열로 구성된 구조를 가지고 있으며, 각 셀에는 데이터 값이 저장됨\n",
        "# tolist() 함수는 데이터프레임을 리스트 형태로 변환하는 함수이지만, 리스트는 1차원 구조만을 지원\n",
        "# 따라서, 다차원 구조인 데이터프레임을 직접 리스트로 변환하려고 하면 오류가 발생\n",
        "# df1_list = df1_fillna.tolist()\n",
        "# print(df1_list)\n",
        "\n",
        "# 리스트 변환\n",
        "df1_list = [list(value) for value in df1_dict.values()]\n",
        "print(df1_list)"
      ],
      "metadata": {
        "colab": {
          "base_uri": "https://localhost:8080/"
        },
        "id": "m0qmtHvj2-ya",
        "outputId": "19391516-c7e7-4768-d74f-75dd1604d332"
      },
      "execution_count": null,
      "outputs": [
        {
          "output_type": "stream",
          "name": "stdout",
          "text": [
            "{'Name': {0: 'Alice', 1: 'Bob', 2: 'Charlie', 3: 'David', 4: 'Eve'}, 'Math': {0: 85.0, 1: 0.0, 2: 88.0, 3: 90.0, 4: 76.0}, 'English': {0: 92.0, 1: 85.0, 2: 89.0, 3: 0.0, 4: 80.0}, 'Science': {0: 78, 1: 90, 2: 95, 3: 85, 4: 89}, 'History': {0: 88.0, 1: 92.0, 2: 85.0, 3: 91.0, 4: 0.0}}\n",
            "[[0, 1, 2, 3, 4], [0, 1, 2, 3, 4], [0, 1, 2, 3, 4], [0, 1, 2, 3, 4], [0, 1, 2, 3, 4]]\n"
          ]
        }
      ]
    },
    {
      "cell_type": "markdown",
      "source": [
        "Task4_0527. df2에서 아래와 같이 데이터 필터링 및 정렬 후 배열, 딕셔너리, 리스트로 변환하여 출력하세요.\n",
        "- Math 점수가 80 이상인 학생만 선택\n",
        "- English 점수를 기준으로 내림차순 정렬"
      ],
      "metadata": {
        "id": "0rITj4Rz3Gb0"
      }
    },
    {
      "cell_type": "code",
      "source": [
        "df2 = pd.DataFrame({\n",
        "    \"Name\": [\"Alice\", \"Bob\", \"Charlie\", \"David\", \"Eve\"],\n",
        "    \"Math\": [85, 79, 88, 90, 76],\n",
        "    \"English\": [92, 85, 89, 93, 80],\n",
        "    \"Science\": [78, 90, 95, 85, 89],\n",
        "    \"History\": [88, 92, 85, 91, 84]\n",
        "})\n",
        "\n",
        "# 수학점수가 80이상인 셀 선택\n",
        "df_filt = df2[df2[\"Math\"] >= 80]\n",
        "# 영어점수 내림차순 정렬\n",
        "df_sort = df_filt.sort_values(by=\"English\", ascending=False)\n",
        "\n",
        "# 출력\n",
        "print(df_sort)"
      ],
      "metadata": {
        "colab": {
          "base_uri": "https://localhost:8080/"
        },
        "id": "KfqVNQ4W3Hmi",
        "outputId": "fe21b866-ae95-4388-e2f3-0275967dd936"
      },
      "execution_count": null,
      "outputs": [
        {
          "output_type": "stream",
          "name": "stdout",
          "text": [
            "      Name  Math  English  Science  History\n",
            "3    David    90       93       85       91\n",
            "0    Alice    85       92       78       88\n",
            "2  Charlie    88       89       95       85\n"
          ]
        }
      ]
    },
    {
      "cell_type": "markdown",
      "source": [
        "Task5_0527. df3에서 각 학생의 평균 점수 계산 후 배열, 딕셔너리, 리스트로 변환하여 출력하세요."
      ],
      "metadata": {
        "id": "7oAInFNM3I2n"
      }
    },
    {
      "cell_type": "code",
      "source": [
        "df3 = pd.DataFrame({\n",
        "    \"Name\": [\"Alice\", \"Bob\", \"Charlie\", \"David\", \"Eve\", \"Alice\", \"Bob\", \"Charlie\", \"David\", \"Eve\"],\n",
        "    \"Subject\": [\"Math\", \"Math\", \"Math\", \"Math\", \"Math\", \"English\", \"English\", \"English\", \"English\", \"English\"],\n",
        "    \"Score\": [85, 79, 88, 90, 76, 92, 85, 89, 93, 80]\n",
        "})\n",
        "\n",
        "# 각 학생의 평균 점수 계산\n",
        "df3_avg = df3.groupby('Name')['Score'].mean()\n",
        "\n",
        "# 배열 변환\n",
        "array_avg = df3_avg.to_numpy()\n",
        "print(array_avg)\n",
        "\n",
        "# 딕셔너리 변환\n",
        "dict_avg = df3_avg.to_dict()\n",
        "print(dict_avg)\n",
        "\n",
        "# 리스트 변환\n",
        "list_avg = df3_avg.tolist()\n",
        "print(list_avg)"
      ],
      "metadata": {
        "colab": {
          "base_uri": "https://localhost:8080/"
        },
        "id": "hzSc7_y33J2x",
        "outputId": "a146b2ee-9896-44b7-a2d2-45eedeb45dec"
      },
      "execution_count": null,
      "outputs": [
        {
          "output_type": "stream",
          "name": "stdout",
          "text": [
            "[88.5 82.  88.5 91.5 78. ]\n",
            "{'Alice': 88.5, 'Bob': 82.0, 'Charlie': 88.5, 'David': 91.5, 'Eve': 78.0}\n",
            "[88.5, 82.0, 88.5, 91.5, 78.0]\n"
          ]
        }
      ]
    },
    {
      "cell_type": "markdown",
      "source": [
        "Task6_0527. df4에서 특정 열의 데이터 타입을 변환한 후 변환된 타입을 확인하세요."
      ],
      "metadata": {
        "id": "EFSJoLQj3NPZ"
      }
    },
    {
      "cell_type": "code",
      "source": [
        "df4 = pd.DataFrame({\n",
        "    'A': ['1', '2', '3', '4'],\n",
        "    'B': ['5.1', '6.2', '7.3', '8.4'],\n",
        "    'C': ['2021-01-01', '2021-02-01', '2021-03-01', '2021-04-01']\n",
        "})\n",
        "\n",
        "# 딕셔너리 변환\n",
        "df4_dict = df4.to_dict()\n",
        "\n",
        "# 리스트 변환\n",
        "df4_list = df4.values.tolist()\n",
        "\n",
        "# 출력\n",
        "print(df4_dict)\n",
        "print(type(df4_dict))\n",
        "print(df4_list)\n",
        "print(type(df4_list))"
      ],
      "metadata": {
        "colab": {
          "base_uri": "https://localhost:8080/"
        },
        "id": "8Rxl8oYe3Oyq",
        "outputId": "e715779b-c6c0-4941-8344-a0f7feafb526"
      },
      "execution_count": null,
      "outputs": [
        {
          "output_type": "stream",
          "name": "stdout",
          "text": [
            "{'A': {0: '1', 1: '2', 2: '3', 3: '4'}, 'B': {0: '5.1', 1: '6.2', 2: '7.3', 3: '8.4'}, 'C': {0: '2021-01-01', 1: '2021-02-01', 2: '2021-03-01', 3: '2021-04-01'}}\n",
            "<class 'dict'>\n",
            "[['1', '5.1', '2021-01-01'], ['2', '6.2', '2021-02-01'], ['3', '7.3', '2021-03-01'], ['4', '8.4', '2021-04-01']]\n",
            "<class 'list'>\n"
          ]
        }
      ]
    },
    {
      "cell_type": "markdown",
      "source": [
        "Task7_0527. df5에서 나이가 25 이상인 행을 출력하세요."
      ],
      "metadata": {
        "id": "MzVbUTgL3Sd4"
      }
    },
    {
      "cell_type": "code",
      "source": [
        "df5 = pd.DataFrame({\n",
        "    'Name': ['Alice', 'Bob', 'Charlie', 'David', 'Eve'],\n",
        "    'Age': [24, 27, 22, 32, 29],\n",
        "    'City': ['New York', 'Los Angeles', 'Chicago', 'Houston', 'Phoenix']\n",
        "})\n",
        "\n",
        "# 나이가 25 이상인 행 선택\n",
        "df_filt = df5[df5['Age'] >= 25]\n",
        "\n",
        "# 출력\n",
        "print(df_filt)"
      ],
      "metadata": {
        "colab": {
          "base_uri": "https://localhost:8080/"
        },
        "id": "EVJmyjtc3Uc-",
        "outputId": "d8dd8990-b03f-48d7-a954-485a938cc492"
      },
      "execution_count": null,
      "outputs": [
        {
          "output_type": "stream",
          "name": "stdout",
          "text": [
            "    Name  Age         City\n",
            "1    Bob   27  Los Angeles\n",
            "3  David   32      Houston\n",
            "4    Eve   29      Phoenix\n"
          ]
        }
      ]
    }
  ]
}