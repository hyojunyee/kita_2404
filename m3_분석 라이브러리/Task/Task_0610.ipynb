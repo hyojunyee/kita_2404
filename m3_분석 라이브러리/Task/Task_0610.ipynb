{
  "nbformat": 4,
  "nbformat_minor": 0,
  "metadata": {
    "colab": {
      "provenance": [],
      "authorship_tag": "ABX9TyOlP02qStM6ve/Nr13kOmyx",
      "include_colab_link": true
    },
    "kernelspec": {
      "name": "python3",
      "display_name": "Python 3"
    },
    "language_info": {
      "name": "python"
    }
  },
  "cells": [
    {
      "cell_type": "markdown",
      "metadata": {
        "id": "view-in-github",
        "colab_type": "text"
      },
      "source": [
        "<a href=\"https://colab.research.google.com/github/hyojunyee/kita_2404/blob/main/m3_%EB%B6%84%EC%84%9D%20%EB%9D%BC%EC%9D%B4%EB%B8%8C%EB%9F%AC%EB%A6%AC/Task/Task_0610.ipynb\" target=\"_parent\"><img src=\"https://colab.research.google.com/assets/colab-badge.svg\" alt=\"Open In Colab\"/></a>"
      ]
    },
    {
      "cell_type": "code",
      "source": [
        "import numpy as np"
      ],
      "metadata": {
        "id": "aqXDv1eqZQm4"
      },
      "execution_count": 3,
      "outputs": []
    },
    {
      "cell_type": "markdown",
      "source": [
        "Task1_0610. 주어진 두 배열 arr1과 arr2에서, arr2의 요소가 10보다 큰 위치의 arr1 요소들을 선택하세요."
      ],
      "metadata": {
        "id": "0N1D-ZYA7UAX"
      }
    },
    {
      "cell_type": "code",
      "execution_count": 4,
      "metadata": {
        "colab": {
          "base_uri": "https://localhost:8080/"
        },
        "id": "Dq3d5UmY7F-h",
        "outputId": "4510bc23-4827-41af-c32b-f17b7361b07f"
      },
      "outputs": [
        {
          "output_type": "stream",
          "name": "stdout",
          "text": [
            "[False  True  True False  True]\n",
            "[20 30 50]\n"
          ]
        }
      ],
      "source": [
        "arr1 = np.array([10, 20, 30, 40, 50])\n",
        "arr2 = np.array([5, 15, 25, 10, 35])\n",
        "mask = arr2 > 10\n",
        "# print(mask)\n",
        "numarr = arr1[mask]\n",
        "\n",
        "print(numarr)"
      ]
    },
    {
      "cell_type": "markdown",
      "source": [
        "Task2_0610. 주어진 배열에서 짝수 인덱스에 있는 요소들을 선택하세요."
      ],
      "metadata": {
        "id": "feWovS5T7Lgx"
      }
    },
    {
      "cell_type": "code",
      "source": [
        "arr = np.array([5, 10, 15, 20, 25, 30, 35, 40])\n",
        "mask = arr % 2 == 1\n",
        "numarr = arr[mask]\n",
        "# print(mask)\n",
        "print(numarr)"
      ],
      "metadata": {
        "colab": {
          "base_uri": "https://localhost:8080/"
        },
        "id": "MMqN4OYq7OIy",
        "outputId": "545b46f0-fc66-4c65-aaff-2d6223fd4f49"
      },
      "execution_count": 10,
      "outputs": [
        {
          "output_type": "stream",
          "name": "stdout",
          "text": [
            "[ 5 15 25 35]\n"
          ]
        }
      ]
    },
    {
      "cell_type": "code",
      "source": [
        "arr = np.array([5, 10, 15, 20, 25, 30, 35, 40])\n",
        "numarr = arr[::2]\n",
        "print(numarr)"
      ],
      "metadata": {
        "colab": {
          "base_uri": "https://localhost:8080/"
        },
        "id": "vVVwpa7oplZY",
        "outputId": "f5506dc4-9b28-4dd7-c04a-d5542610ceee"
      },
      "execution_count": 9,
      "outputs": [
        {
          "output_type": "stream",
          "name": "stdout",
          "text": [
            "[ 5 15 25 35]\n"
          ]
        }
      ]
    },
    {
      "cell_type": "markdown",
      "source": [
        "Task3_0610. 주어진 배열에서 20보다 작은 요소들의 값을 0으로 변경하세요."
      ],
      "metadata": {
        "id": "tahiA4IK7Nzj"
      }
    },
    {
      "cell_type": "code",
      "source": [
        "arr = np.array([10, 25, 30, 15, 40, 5])\n",
        "\n",
        "mask = arr < 20\n",
        "numarr = arr[mask]\n",
        "arr[mask] = 0\n",
        "# print(mask)\n",
        "# print(numarr)\n",
        "print(arr)"
      ],
      "metadata": {
        "colab": {
          "base_uri": "https://localhost:8080/"
        },
        "id": "vLRVMVUQ7Q9z",
        "outputId": "719cfef8-5b2b-4587-ad0b-635a6bdbe896"
      },
      "execution_count": 8,
      "outputs": [
        {
          "output_type": "stream",
          "name": "stdout",
          "text": [
            "[ True False False  True False  True]\n",
            "[10 15  5]\n",
            "[ 0 25 30  0 40  0]\n"
          ]
        }
      ]
    },
    {
      "cell_type": "code",
      "source": [
        "arr = np.array([10, 25, 30, 15, 40, 5])\n",
        "arr[arr < 20] = 0\n",
        "print(arr)"
      ],
      "metadata": {
        "colab": {
          "base_uri": "https://localhost:8080/"
        },
        "id": "jgDELj0apwtG",
        "outputId": "3fab1bfd-6720-4d45-8da6-8d862c787597"
      },
      "execution_count": 11,
      "outputs": [
        {
          "output_type": "stream",
          "name": "stdout",
          "text": [
            "[ 0 25 30  0 40  0]\n"
          ]
        }
      ]
    }
  ]
}