{
  "nbformat": 4,
  "nbformat_minor": 0,
  "metadata": {
    "colab": {
      "provenance": [],
      "mount_file_id": "1GdJNye1gSAZohAKhBets-I8cxPE5Jnfu",
      "authorship_tag": "ABX9TyOZc3GsUgm+n5bzC/C27lJ1",
      "include_colab_link": true
    },
    "kernelspec": {
      "name": "python3",
      "display_name": "Python 3"
    },
    "language_info": {
      "name": "python"
    }
  },
  "cells": [
    {
      "cell_type": "markdown",
      "metadata": {
        "id": "view-in-github",
        "colab_type": "text"
      },
      "source": [
        "<a href=\"https://colab.research.google.com/github/hyojunyee/kita_2404/blob/main/m3_%EB%B6%84%EC%84%9D%20%EB%9D%BC%EC%9D%B4%EB%B8%8C%EB%9F%AC%EB%A6%AC/pandas/pandas_4_%EB%82%A0%EC%A7%9C_0603.ipynb\" target=\"_parent\"><img src=\"https://colab.research.google.com/assets/colab-badge.svg\" alt=\"Open In Colab\"/></a>"
      ]
    },
    {
      "cell_type": "markdown",
      "source": [
        "## Contents\n",
        "- 날짜 변환 : to_datetime, to_timestamp, to_period\n",
        "- 날짜 생성 : date_range, period_range, date_range\n",
        "- 날짜 인덱싱, 필터링, 집계, 속성 접근, 정렬"
      ],
      "metadata": {
        "id": "dovQKvGix3cG"
      }
    },
    {
      "cell_type": "markdown",
      "source": [
        "python, numpy, pandas 날짜 타입 비교 및 정리\n",
        "\n",
        "- datetime은 python 설치 시 기본적으로 내장된 라이브러리로, 날짜를 쓸 것인지, 시간을 쓸 것인지, 날짜시간을 합쳐쓸 것인지에 따라 클래스가 분화되어 있는 것이 특징. 예를들어 '2021-3-16'을 표시하고 싶으면 date 클래스를 사용하고, '2021-3-16 12:34:21'를 표시하고 싶으면 'datetime' 클래스를 사용합니다.\n",
        "- 반면 datetime64나 Timestamp는 각각 numpy, pandas 라이브러리에서 새로 정의한 날짜시간 클래스입니다. 이 둘은 numpy, pandas를 설치해야만 이용할 수 있고, 한 클래스로 날짜, 시간, 날짜시간을 모두 정의할 수 있는 것이 특징\n",
        "- 날짜, 시간 타입은 일반적인 정수, 실수끼리 연산할 때와 달리 단위를 가지고 있는 점 때문에 시간의 차이를 저장하는 별도의 클래스가 있다는 특징. 이를 timedelta(타임델타)라고 하는데, 날짜, 시간은 특정 시점의 시각을 표시하는 용도이고(2021년 3월 16일), 타임델타는 기간 또는 시간 차이를 표시하는 용도(5일)"
      ],
      "metadata": {
        "id": "YX1rG82KyXby"
      }
    },
    {
      "cell_type": "markdown",
      "source": [
        "파이썬 datetime 모듈\n",
        "- 기본 개념: datetime 모듈은 날짜 및 시간을 다루는 기본적인 클래스들(date, time, datetime, timedelta, tzinfo)을 제공\n",
        "- 날짜 생성 및 조작: 특정 날짜를 생성하거나 날짜 간의 차이를 계산하는 등의 기능을 수행\n",
        "- 포맷팅: strftime()을 사용하여 날짜를 문자열로, strptime()을 사용하여 문자열을 날짜로 변환\n",
        "- 시간대 처리: 시간대를 처리하는 기능을 포함하고 있지만, 별도의 라이브러리(pytz 등)의 도움이 필요\n",
        "\n",
        "판다스\n",
        "- 시계열 데이터 처리에 최적화: 판다스는 시계열 데이터 처리에 특화되어 있으며, 대량의 날짜 데이터를 빠르고 효율적으로 처리할 수 있다.\n",
        "- DateTimeIndex: 판다스는 DateTimeIndex를 제공하여 시계열 데이터의 인덱싱과 슬라이싱을 간편하게 한다.\n",
        "- 시간대 처리: 판다스는 내장된 시간대 처리 기능을 제공하며, 시간대 변환을 손쉽게 할 수 있다.\n",
        "- 날짜 데이터 변환 및 조작: to_datetime() 함수로 다양한 형식의 날짜 문자열을 datetime 객체로 변환할 수 있다. 또한, resample, asfreq 등의 메서드로 시계열 데이터의 빈도를 변경하는 등 다양한 날짜 관련 조작을 지원.\n",
        "- 통합된 데이터 처리: 판다스는 DataFrame이나 Series 내의 날짜 데이터를 다룰 때, 다른 데이터 유형과의 통합된 처리가 가능.\n",
        "\n",
        "포인트\n",
        "- 파이썬 datetime: 날짜 및 시간의 기본적인 처리에 적합하며, 작고 단순한 날짜 관련 작업에 이상적이다.\n",
        "- 판다스: 대규모 데이터셋에서 복잡하고 고급 시계열 데이터 처리에 적합하며, 데이터 분석과 관련된 다양한 기능을 제공한다.\n",
        "- 사용 사례에 따라 적절한 도구를 선택하는 것이 중요. 작은 규모의 기본적인 날짜 연산에는 datetime을, 복잡한 데이터셋과 시계열 분석에는 판다스를 사용하는 것이 일반적.\n",
        "\n",
        "Python의 datetime 모듈을 사용한 날짜 처리 예시. 이 예제들은 datetime 모듈을 사용하여 날짜 및 시간 데이터를 다루는 기본적인 방법을 보여준다.\n",
        "\n",
        "- 현재 날짜 및 시간 얻기: datetime.now()를 사용.\n",
        "- 특정 날짜 및 시간 생성: datetime 객체를 직접 생성.\n",
        "- 날짜 간 차이 계산: timedelta를 사용.\n",
        "- 날짜 포맷팅: 날짜를 문자열로 변환하거나 문자열로부터 날짜를 파싱.\n",
        "- 날짜와 시간 요소 접근: 날짜의 연도, 월, 일 등을 접근.\n",
        "\n",
        "판다스를 사용한 날짜 처리의 예. 이 예제들은 판다스가 시계열 데이터를 어떻게 다룰 수 있는지 보여준다.\n",
        "\n",
        "- 날짜 범위 생성: pd.date_range()를 사용하여 날짜 범위를 생성.\n",
        "- 날짜 변환: 문자열을 pd.to_datetime()을 사용하여 날짜 객체로 변환.\n",
        "- 시계열 데이터 생성: 날짜를 인덱스로 사용하는 시계열 데이터를 생성.\n",
        "- 날짜 기반 필터링: 특정 날짜 조건을 만족하는 데이터를 필터링.\n",
        "- 시계열 데이터 리샘플링: 월별 평균 등으로 데이터를 리샘플링.\n",
        "- 이 코드를 실행하면, 판다스를 사용하여 날짜 데이터를 다양하게 처리하는 방법을 확인할 수 있다. 날짜 범위 생성, 날짜 변환, 시계열 데이터 처리 등은 데이터 분석에서 매우 유용하게 활용."
      ],
      "metadata": {
        "id": "-n9JPZkAyPQj"
      }
    },
    {
      "cell_type": "code",
      "execution_count": null,
      "metadata": {
        "colab": {
          "base_uri": "https://localhost:8080/"
        },
        "collapsed": true,
        "id": "9povFYRexk2j",
        "outputId": "c83688ca-e7d5-4564-e865-af8b5188c634"
      },
      "outputs": [
        {
          "output_type": "execute_result",
          "data": {
            "text/plain": [
              "datetime.datetime(2024, 6, 3, 2, 9, 15, 887692)"
            ]
          },
          "metadata": {},
          "execution_count": 3
        }
      ],
      "source": [
        "import datetime\n",
        "datetime.datetime.now()"
      ]
    },
    {
      "cell_type": "code",
      "source": [
        "# 문자열 형식의 날짜를 datetime 형식으로 변환하여 처리\n",
        "import pandas as pd\n",
        "\n",
        "date_str = '2022-01-01'\n",
        "date_dt = pd.to_datetime(date_str)\n",
        "print(date_dt)\n",
        "print(date_dt.date())\n",
        "print(date_dt.time())"
      ],
      "metadata": {
        "colab": {
          "base_uri": "https://localhost:8080/"
        },
        "id": "jeZObdsc20dI",
        "outputId": "1785607a-6414-48d4-c117-f2c7aaf830ae"
      },
      "execution_count": null,
      "outputs": [
        {
          "output_type": "stream",
          "name": "stdout",
          "text": [
            "2022-01-01 00:00:00\n",
            "2022-01-01\n",
            "00:00:00\n"
          ]
        }
      ]
    },
    {
      "cell_type": "code",
      "source": [
        "# 날짜 변환\n",
        "dates = ['2020-01-01', '2020-01-05', '2020-01-10', ]\n",
        "date_objects = pd.to_datetime(dates)\n",
        "print(\"날짜 객체:\", date_objects)"
      ],
      "metadata": {
        "colab": {
          "base_uri": "https://localhost:8080/"
        },
        "id": "HQcgD-Pv3KdO",
        "outputId": "9c59adb1-9915-4be1-bf62-e19739bb2542"
      },
      "execution_count": null,
      "outputs": [
        {
          "output_type": "stream",
          "name": "stdout",
          "text": [
            "날짜 객체: DatetimeIndex(['2020-01-01', '2020-01-05', '2020-01-10'], dtype='datetime64[ns]', freq=None)\n"
          ]
        }
      ]
    },
    {
      "cell_type": "code",
      "source": [
        "date_only_list = [date.date() for date in date_objects]\n",
        "print(date_only_list)"
      ],
      "metadata": {
        "colab": {
          "base_uri": "https://localhost:8080/"
        },
        "id": "gEsCr5q_42Pv",
        "outputId": "5206318b-4fbf-45b1-f515-da8490689ba6"
      },
      "execution_count": null,
      "outputs": [
        {
          "output_type": "stream",
          "name": "stdout",
          "text": [
            "[datetime.date(2020, 1, 1), datetime.date(2020, 1, 5), datetime.date(2020, 1, 10)]\n"
          ]
        }
      ]
    },
    {
      "cell_type": "code",
      "source": [
        "# Q. date_only_list ['2020-01-01', '2020-01-05', '2020-01-10', ]으로 출력\n",
        "dates = ['2020-01-01', '2020-01-05', '2020-01-10', ]\n",
        "date_objects = pd.to_datetime(dates)\n",
        "date_only_list = [date.strftime('%Y-%m-%d') for date in date_objects]\n",
        "print(date_only_list)"
      ],
      "metadata": {
        "colab": {
          "base_uri": "https://localhost:8080/"
        },
        "id": "u4nEmRC25Whu",
        "outputId": "b49ea081-1e36-48b1-a48e-6cea5b97e3f8"
      },
      "execution_count": null,
      "outputs": [
        {
          "output_type": "stream",
          "name": "stdout",
          "text": [
            "['2020-01-01', '2020-01-05', '2020-01-10']\n"
          ]
        }
      ]
    },
    {
      "cell_type": "code",
      "source": [
        "# pd.date_range 함수는 일정한 간격으로 날짜 범위를 생성하는데 사용\n",
        "# pd.date_range 함수는 pandas에서 제공하지만 내부적으로 numpy의 날짜/시간 타입인 datetime64를 사용\n",
        "date_range = pd.date_range(start = '2022-01-01', end = '2022-01-10')\n",
        "# freq로 빈도 설정 가능\n",
        "# date_range = pd.date_range(start = '2022-01-01', end = '2022-01-10', freq='2D')\n",
        "print(date_range)"
      ],
      "metadata": {
        "colab": {
          "base_uri": "https://localhost:8080/"
        },
        "id": "oR-PB7KH4Afg",
        "outputId": "6f16858e-faf9-4668-d49d-656f7c2cb223"
      },
      "execution_count": null,
      "outputs": [
        {
          "output_type": "stream",
          "name": "stdout",
          "text": [
            "DatetimeIndex(['2022-01-01', '2022-01-02', '2022-01-03', '2022-01-04',\n",
            "               '2022-01-05', '2022-01-06', '2022-01-07', '2022-01-08',\n",
            "               '2022-01-09', '2022-01-10'],\n",
            "              dtype='datetime64[ns]', freq='D')\n"
          ]
        }
      ]
    },
    {
      "cell_type": "code",
      "source": [
        "# 날짜를 인덱스로 설정하여 데이터프레임을 구성하면 날짜를 기준으로 데이터 조작이 용이\n",
        "data = {'date': ['2022-01-01','2022-01-02','2022-01-03'], 'value':[1,2,3]}\n",
        "df = pd.DataFrame(data)\n",
        "print(df, '\\n')\n",
        "# 데이터 타입 바꾸기   * 참고\n",
        "# df['date'] = pd.to_datetime(df['date'])\n",
        "df.set_index('date', inplace=True)\n",
        "print(df, '\\n')\n",
        "# 인덱스 이름 지우기\n",
        "df.index.name=None\n",
        "print(df)"
      ],
      "metadata": {
        "colab": {
          "base_uri": "https://localhost:8080/"
        },
        "id": "88HhYKOW6wsU",
        "outputId": "51f49b0a-9017-417c-f21d-dc1467dbf446"
      },
      "execution_count": null,
      "outputs": [
        {
          "output_type": "stream",
          "name": "stdout",
          "text": [
            "         date  value\n",
            "0  2022-01-01      1\n",
            "1  2022-01-02      2\n",
            "2  2022-01-03      3 \n",
            "\n",
            "            value\n",
            "date             \n",
            "2022-01-01      1\n",
            "2022-01-02      2\n",
            "2022-01-03      3 \n",
            "\n",
            "            value\n",
            "2022-01-01      1\n",
            "2022-01-02      2\n",
            "2022-01-03      3\n"
          ]
        }
      ]
    },
    {
      "cell_type": "code",
      "source": [
        "# 날짜를 인덱스로 설정한 데이터프레임에서는 특정 기간의 데이터를 쉽게 인덱싱하고 슬라이싱\n",
        "# 특정 날짜의 데이터 선택\n",
        "print(df.loc['2022-01-02'], '\\n')\n",
        "\n",
        "# 날짜 범위 슬라이싱\n",
        "print(df['2022-01-01':'2022-01-02'])"
      ],
      "metadata": {
        "colab": {
          "base_uri": "https://localhost:8080/"
        },
        "id": "JWgGgNd_78vT",
        "outputId": "a38aa7df-f288-40ab-b267-1c07c4981a59"
      },
      "execution_count": null,
      "outputs": [
        {
          "output_type": "stream",
          "name": "stdout",
          "text": [
            "value    2\n",
            "Name: 2022-01-02, dtype: int64 \n",
            "\n",
            "            value\n",
            "2022-01-01      1\n",
            "2022-01-02      2\n"
          ]
        }
      ]
    },
    {
      "cell_type": "code",
      "source": [
        "# 불리언 조건식을 사용하여 날짜 범위를 필터링\n",
        "date_range = pd.date_range(start = '2022-01-01', end = '2022-01-10')\n",
        "date_series = pd.Series(date_range)\n",
        "fd = date_series[(date_series >= '2022-01-01') & (date_series <= '2022-01-03')]\n",
        "print(fd)"
      ],
      "metadata": {
        "colab": {
          "base_uri": "https://localhost:8080/"
        },
        "id": "ZOzNOCvH8sjK",
        "outputId": "28cc8bde-36ac-4519-c298-9bb1b3595201"
      },
      "execution_count": null,
      "outputs": [
        {
          "output_type": "stream",
          "name": "stdout",
          "text": [
            "0   2022-01-01\n",
            "1   2022-01-02\n",
            "2   2022-01-03\n",
            "dtype: datetime64[ns]\n"
          ]
        }
      ]
    },
    {
      "cell_type": "code",
      "source": [
        "# Pandas는 주어진 주기(일, 월, 분기 등)에 따라 데이터를 리샘플링 할 수 있는 기능을 제공.\n",
        "# resample 메소드를 사용하면 다양한 방법으로 데이터를 집계\n",
        "date_range = pd.date_range(start = '2022-01-01', periods=10, freq='10D')\n",
        "data = {'value':range(10)}\n",
        "df = pd.DataFrame(data, index=date_range)\n",
        "print(df, '\\n')\n",
        "# 월별 데이터 합계 계산\n",
        "monthly_sum = df.resample('M').sum()\n",
        "print(monthly_sum)"
      ],
      "metadata": {
        "colab": {
          "base_uri": "https://localhost:8080/"
        },
        "id": "2JU1BLk19tDR",
        "outputId": "264c392d-2191-4768-f101-766f25185d39"
      },
      "execution_count": null,
      "outputs": [
        {
          "output_type": "stream",
          "name": "stdout",
          "text": [
            "            value\n",
            "2022-01-01      0\n",
            "2022-01-11      1\n",
            "2022-01-21      2\n",
            "2022-01-31      3\n",
            "2022-02-10      4\n",
            "2022-02-20      5\n",
            "2022-03-02      6\n",
            "2022-03-12      7\n",
            "2022-03-22      8\n",
            "2022-04-01      9 \n",
            "\n",
            "            value\n",
            "2022-01-31      6\n",
            "2022-02-28      9\n",
            "2022-03-31     21\n",
            "2022-04-30      9\n"
          ]
        }
      ]
    },
    {
      "cell_type": "code",
      "source": [
        "# Q. 365일간 일당을 성과에 따라서 50 ~ 100 달러를 받는다. 월별 합계를 구하세요\n",
        "import numpy as np\n",
        "date_range = pd.date_range(start = '2022-01-01', periods=365, freq='D')\n",
        "data = {'성과급 월별 합계':np.random.randint(50, 100, 365)}\n",
        "df = pd.DataFrame(data, index=date_range)\n",
        "# 월별 데이터 합계 계산\n",
        "monthly_sum = df.resample('M').sum()\n",
        "print(monthly_sum)"
      ],
      "metadata": {
        "colab": {
          "base_uri": "https://localhost:8080/"
        },
        "id": "KIZCWZlx-6C0",
        "outputId": "6dfc823b-a9d2-48cd-d3ed-5fee3d134cd2"
      },
      "execution_count": null,
      "outputs": [
        {
          "output_type": "stream",
          "name": "stdout",
          "text": [
            "            성과급 월별 합계\n",
            "2022-01-31       2269\n",
            "2022-02-28       2092\n",
            "2022-03-31       2377\n",
            "2022-04-30       2252\n",
            "2022-05-31       2237\n",
            "2022-06-30       2048\n",
            "2022-07-31       2318\n",
            "2022-08-31       2317\n",
            "2022-09-30       2211\n",
            "2022-10-31       2310\n",
            "2022-11-30       2271\n",
            "2022-12-31       2340\n"
          ]
        }
      ]
    },
    {
      "cell_type": "code",
      "source": [
        "import numpy as np\n",
        "\n",
        "random_numbers = np.random.randint(50, 100, 365)\n",
        "print(random_numbers)"
      ],
      "metadata": {
        "colab": {
          "base_uri": "https://localhost:8080/"
        },
        "collapsed": true,
        "id": "D-QCkM6K_xTC",
        "outputId": "1911498a-ad78-4f99-f776-878bc2aa8da3"
      },
      "execution_count": null,
      "outputs": [
        {
          "output_type": "stream",
          "name": "stdout",
          "text": [
            "[78 63 86 58 81 76 87 97 96 79 99 61 51 64 68 76 84 78 81 64 69 80 71 72\n",
            " 91 67 55 83 91 50 80 52 53 65 85 89 87 53 63 72 57 51 75 69 57 89 76 79\n",
            " 89 92 66 59 56 59 99 74 75 91 82 83 69 52 67 57 69 95 60 65 67 99 52 64\n",
            " 60 53 50 59 57 81 94 94 96 88 75 79 97 83 71 98 92 64 61 98 56 98 65 95\n",
            " 99 67 82 84 67 67 59 51 57 79 62 76 56 87 66 95 72 99 56 81 89 98 90 51\n",
            " 70 99 55 96 82 85 95 69 53 95 53 86 99 94 51 91 56 68 87 89 60 71 50 91\n",
            " 94 94 63 70 88 78 88 64 71 52 61 74 64 53 71 79 67 59 55 98 96 75 97 56\n",
            " 89 68 78 91 76 79 99 68 96 81 77 81 66 93 93 66 50 96 80 53 90 68 84 58\n",
            " 92 89 88 79 73 74 76 78 92 84 65 95 54 81 99 53 92 78 63 53 53 77 77 60\n",
            " 86 67 89 69 84 54 70 75 58 52 72 89 87 97 91 91 86 86 58 52 60 58 74 99\n",
            " 53 98 71 66 72 64 93 96 85 83 84 86 98 92 84 94 59 53 85 72 56 50 95 86\n",
            " 60 94 80 57 98 66 59 82 84 71 54 96 71 78 66 65 95 75 77 90 71 80 61 98\n",
            " 72 80 51 55 63 75 65 59 98 77 84 87 73 85 59 54 85 63 55 60 99 91 82 74\n",
            " 56 58 82 94 71 52 73 93 68 81 94 81 67 78 65 54 80 97 90 57 79 66 95 51\n",
            " 61 68 77 82 99 98 54 61 54 57 63 97 94 58 50 92 59 87 79 96 94 66 52 88\n",
            " 92 99 72 98 91]\n"
          ]
        }
      ]
    },
    {
      "cell_type": "code",
      "source": [
        "data = {'date': ['2022-01-01','2022-01-02','2022-01-03'], 'value':[1,2,3]}\n",
        "df = pd.DataFrame(data)\n",
        "print(df,'\\n')\n",
        "df['date'] = pd.to_datetime(df['date'])\n",
        "df.set_index('date', inplace=True)\n",
        "print(df)"
      ],
      "metadata": {
        "colab": {
          "base_uri": "https://localhost:8080/"
        },
        "id": "bQgZ-1pe21-1",
        "outputId": "dae95056-dfd9-4faa-94e1-355f6938b1a4"
      },
      "execution_count": null,
      "outputs": [
        {
          "output_type": "stream",
          "name": "stdout",
          "text": [
            "         date  value\n",
            "0  2022-01-01      1\n",
            "1  2022-01-02      2\n",
            "2  2022-01-03      3 \n",
            "\n",
            "            value\n",
            "date             \n",
            "2022-01-01      1\n",
            "2022-01-02      2\n",
            "2022-01-03      3\n"
          ]
        }
      ]
    },
    {
      "cell_type": "code",
      "source": [
        "# Pandas의 datetime 형식 데이터는 다양한 속성에 접근 할 수 있다. 예를 들어, 연도, 월, 일 요일 등을 쉽게 추출\n",
        "df['year'] = df.index.year\n",
        "df['month'] = df.index.month\n",
        "df['day'] = df.index.day\n",
        "df['day_of_week'] = df.index.day_of_week\n",
        "print(df)"
      ],
      "metadata": {
        "colab": {
          "base_uri": "https://localhost:8080/"
        },
        "id": "2_VGsLp3-5po",
        "outputId": "8e4abf4e-40b3-4606-9cf5-6b86093b73b4"
      },
      "execution_count": null,
      "outputs": [
        {
          "output_type": "stream",
          "name": "stdout",
          "text": [
            "            value  year  month  day  day_of_week\n",
            "date                                            \n",
            "2022-01-01      1  2022      1    1            5\n",
            "2022-01-02      2  2022      1    2            6\n",
            "2022-01-03      3  2022      1    3            0\n"
          ]
        }
      ]
    },
    {
      "cell_type": "code",
      "source": [
        "# 요일 문자열을 담을 새로운 열 생성\n",
        "df['요일'] = df['day_of_week'].map({\n",
        "    0: '월요일',\n",
        "    1: '화요일',\n",
        "    2: '수요일',\n",
        "    3: '목요일',\n",
        "    4: '금요일',\n",
        "    5: '토요일',\n",
        "    6: '일요일'\n",
        "})\n",
        "print(df)"
      ],
      "metadata": {
        "colab": {
          "base_uri": "https://localhost:8080/"
        },
        "id": "G848EAXCDem5",
        "outputId": "def19a67-13ea-4218-edb9-9ad32a98528f"
      },
      "execution_count": null,
      "outputs": [
        {
          "output_type": "stream",
          "name": "stdout",
          "text": [
            "            value  year  month  day  day_of_week   요일\n",
            "date                                                 \n",
            "2022-01-01      1  2022      1    1            5  토요일\n",
            "2022-01-02      2  2022      1    2            6  일요일\n",
            "2022-01-03      3  2022      1    3            0  월요일\n"
          ]
        }
      ]
    },
    {
      "cell_type": "code",
      "source": [
        "df['요일'] = df.index.strftime('%A')  # %A는 요일의 전체 이름 (예: 월요일)\n",
        "print(df)"
      ],
      "metadata": {
        "colab": {
          "base_uri": "https://localhost:8080/"
        },
        "id": "H4XwNsbfDnKz",
        "outputId": "62669ac2-4b09-4e6b-cfb6-db3fa54dcd7e"
      },
      "execution_count": null,
      "outputs": [
        {
          "output_type": "stream",
          "name": "stdout",
          "text": [
            "            value  year  month  day  day_of_week        요일\n",
            "date                                                      \n",
            "2022-01-01      1  2022      1    1            5  Saturday\n",
            "2022-01-02      2  2022      1    2            6    Sunday\n",
            "2022-01-03      3  2022      1    3            0    Monday\n"
          ]
        }
      ]
    },
    {
      "cell_type": "code",
      "source": [
        "df['요일'] = df.index.day_name()\n",
        "print(df)"
      ],
      "metadata": {
        "colab": {
          "base_uri": "https://localhost:8080/"
        },
        "id": "Eu9pqIhRDxvm",
        "outputId": "57df70ef-ac0a-4abe-c51a-939fcc4783ad"
      },
      "execution_count": null,
      "outputs": [
        {
          "output_type": "stream",
          "name": "stdout",
          "text": [
            "            value  year  month  day  day_of_week        요일\n",
            "date                                                      \n",
            "2022-01-01      1  2022      1    1            5  Saturday\n",
            "2022-01-02      2  2022      1    2            6    Sunday\n",
            "2022-01-03      3  2022      1    3            0    Monday\n"
          ]
        }
      ]
    },
    {
      "cell_type": "code",
      "source": [
        "from google.colab import drive\n",
        "drive.mount('/content/drive')\n",
        "# 데이터 불러오기\n",
        "file_path = '/content/drive/MyDrive/kdt_240424/m3_분석라이브러리/m_3_datas/stock-data.csv'\n",
        "# file_path = 'stock-data.csv'\n",
        "df = pd.read_csv(file_path)"
      ],
      "metadata": {
        "colab": {
          "base_uri": "https://localhost:8080/"
        },
        "id": "rl-cyx5gERpc",
        "outputId": "f7875a4f-372c-4f91-c694-21fc29b7ea6a"
      },
      "execution_count": null,
      "outputs": [
        {
          "output_type": "stream",
          "name": "stdout",
          "text": [
            "Drive already mounted at /content/drive; to attempt to forcibly remount, call drive.mount(\"/content/drive\", force_remount=True).\n"
          ]
        }
      ]
    },
    {
      "cell_type": "code",
      "source": [
        "df['New_Date'] = pd.to_datetime(df['Date'])\n",
        "df.info()"
      ],
      "metadata": {
        "colab": {
          "base_uri": "https://localhost:8080/"
        },
        "id": "Ccf3lpjjFE_R",
        "outputId": "fba68fab-7d8d-422a-c9b0-48f1aca78ec9"
      },
      "execution_count": null,
      "outputs": [
        {
          "output_type": "stream",
          "name": "stdout",
          "text": [
            "<class 'pandas.core.frame.DataFrame'>\n",
            "RangeIndex: 20 entries, 0 to 19\n",
            "Data columns (total 7 columns):\n",
            " #   Column    Non-Null Count  Dtype         \n",
            "---  ------    --------------  -----         \n",
            " 0   Date      20 non-null     datetime64[ns]\n",
            " 1   Close     20 non-null     int64         \n",
            " 2   Start     20 non-null     int64         \n",
            " 3   High      20 non-null     int64         \n",
            " 4   Low       20 non-null     int64         \n",
            " 5   Volume    20 non-null     int64         \n",
            " 6   New_Date  20 non-null     datetime64[ns]\n",
            "dtypes: datetime64[ns](2), int64(5)\n",
            "memory usage: 1.2 KB\n"
          ]
        }
      ]
    },
    {
      "cell_type": "code",
      "source": [
        "df.drop('Date', axis=1, inplace=True)"
      ],
      "metadata": {
        "id": "M9YupCmHIvpO"
      },
      "execution_count": null,
      "outputs": []
    },
    {
      "cell_type": "code",
      "source": [
        "df['year'] = df['New_Date'].dt.year\n",
        "df['month'] = df['New_Date'].dt.month\n",
        "df['day'] = df['New_Date'].dt.day\n",
        "\n",
        "print(df.head())"
      ],
      "metadata": {
        "colab": {
          "base_uri": "https://localhost:8080/"
        },
        "id": "9ItUBMdsFXq6",
        "outputId": "d54243e4-a3c4-4bbf-b2e1-a698f214065d"
      },
      "execution_count": null,
      "outputs": [
        {
          "output_type": "stream",
          "name": "stdout",
          "text": [
            "   Close  Start   High    Low  Volume   New_Date  year  month  day\n",
            "0  10100  10850  10900  10000  137977 2018-07-02  2018      7    2\n",
            "1  10700  10550  10900   9990  170253 2018-06-29  2018      6   29\n",
            "2  10400  10900  10950  10150  155769 2018-06-28  2018      6   28\n",
            "3  10900  10800  11050  10500  133548 2018-06-27  2018      6   27\n",
            "4  10800  10900  11000  10700   63039 2018-06-26  2018      6   26\n"
          ]
        }
      ]
    }
  ]
}