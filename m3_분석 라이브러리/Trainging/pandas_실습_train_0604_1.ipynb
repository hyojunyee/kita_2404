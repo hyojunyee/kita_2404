{
  "nbformat": 4,
  "nbformat_minor": 0,
  "metadata": {
    "colab": {
      "provenance": [],
      "authorship_tag": "ABX9TyPHGhy91bfy5P+JzvM+TpLm",
      "include_colab_link": true
    },
    "kernelspec": {
      "name": "python3",
      "display_name": "Python 3"
    },
    "language_info": {
      "name": "python"
    }
  },
  "cells": [
    {
      "cell_type": "markdown",
      "metadata": {
        "id": "view-in-github",
        "colab_type": "text"
      },
      "source": [
        "<a href=\"https://colab.research.google.com/github/hyojunyee/kita_2404/blob/main/m3_%EB%B6%84%EC%84%9D%20%EB%9D%BC%EC%9D%B4%EB%B8%8C%EB%9F%AC%EB%A6%AC/Trainging/pandas_%EC%8B%A4%EC%8A%B5_train_0604_1.ipynb\" target=\"_parent\"><img src=\"https://colab.research.google.com/assets/colab-badge.svg\" alt=\"Open In Colab\"/></a>"
      ]
    },
    {
      "cell_type": "markdown",
      "source": [
        "- 지금 넣어준건 GroupSize와 FarePerPerson, Title에 따라서 bool 값을 넣어줬다.\n",
        "- cabin을 통해 좌석이 있냐 없냐로 deck에 null값을 넣어서 좌석여부에 따라 생존률을 결측값에 넣었으나, 너무 많은 불확실한 데이터가 들어가서 오히려 부정확한 데이터가 나와버렸다.\n",
        "- Accuracy: 0.8547486033519553"
      ],
      "metadata": {
        "id": "_cZj1pQwIl4E"
      }
    },
    {
      "cell_type": "markdown",
      "source": [
        "Task4. train.csv 파일로 생존자 예측 모델 생성을 위한 분석용 데이터 셋을 작성하세요"
      ],
      "metadata": {
        "id": "e5WViQuqvvVY"
      }
    },
    {
      "cell_type": "code",
      "execution_count": null,
      "metadata": {
        "id": "BP3R65mQvIVM"
      },
      "outputs": [],
      "source": [
        "import numpy as np\n",
        "import pandas as pd\n",
        "import seaborn as sns\n",
        "import statsmodels.api as sm\n",
        "import matplotlib.pyplot as plt\n",
        "from sklearn.model_selection import train_test_split\n",
        "from sklearn.linear_model import LinearRegression\n",
        "from sklearn.metrics import mean_squared_error, r2_score\n",
        "from sklearn.preprocessing import StandardScaler\n",
        "from sklearn.ensemble import RandomForestClassifier\n",
        "from sklearn.model_selection import train_test_split\n",
        "from sklearn.metrics import accuracy_score, confusion_matrix, classification_report"
      ]
    },
    {
      "cell_type": "code",
      "source": [
        "from google.colab import drive\n",
        "drive.mount('/content/drive')\n",
        "# 데이터 불러오기\n",
        "file_path = '/content/drive/MyDrive/kdt_240424/m3_분석라이브러리/m_3_datas/train.csv'\n",
        "# file_path = 'train.csv'\n",
        "df = pd.read_csv(file_path)"
      ],
      "metadata": {
        "colab": {
          "base_uri": "https://localhost:8080/"
        },
        "id": "XbLc1p50wZY8",
        "outputId": "ee52dbdd-26b7-4441-d1c1-1d93915e23d8"
      },
      "execution_count": null,
      "outputs": [
        {
          "output_type": "stream",
          "name": "stdout",
          "text": [
            "Drive already mounted at /content/drive; to attempt to forcibly remount, call drive.mount(\"/content/drive\", force_remount=True).\n"
          ]
        }
      ]
    },
    {
      "cell_type": "code",
      "source": [
        "# print(df.info())"
      ],
      "metadata": {
        "id": "EZSQPs3Ew3AI"
      },
      "execution_count": null,
      "outputs": []
    },
    {
      "cell_type": "code",
      "source": [
        "# print(df.head())"
      ],
      "metadata": {
        "id": "x4act7UfxDFd"
      },
      "execution_count": null,
      "outputs": []
    },
    {
      "cell_type": "code",
      "source": [
        "# 성별을 숫자로 바꿈\n",
        "df['Sex'] = df['Sex'].map({'male': 0, 'female': 1})"
      ],
      "metadata": {
        "id": "6nY4W2UpzF8x"
      },
      "execution_count": null,
      "outputs": []
    },
    {
      "cell_type": "code",
      "source": [
        "# # 결측치 확인\n",
        "# print(df.isnull().sum())"
      ],
      "metadata": {
        "id": "fDARdwNYxIg5"
      },
      "execution_count": null,
      "outputs": []
    },
    {
      "cell_type": "code",
      "source": [
        "# df_sorted = df.sort_values(by='Fare', ascending=False)\n",
        "# df_sorted"
      ],
      "metadata": {
        "id": "K5MqV8apy_gg"
      },
      "execution_count": null,
      "outputs": []
    },
    {
      "cell_type": "code",
      "source": [
        "def extract_title(name):\n",
        "    return name.split(',')[1].split('.')[0].strip()\n",
        "\n",
        "# 'Title' 열 추가\n",
        "df['Title'] = df['Name'].apply(extract_title)\n",
        "\n",
        "# 호칭별 나이 평균 계산\n",
        "title_age_mean = df.groupby('Title')['Age'].mean()\n",
        "\n",
        "# 결측치를 호칭별 평균값으로 대체\n",
        "for title, age_mean in title_age_mean.items():\n",
        "    df.loc[(df['Age'].isnull()) & (df['Title'] == title), 'Age'] = age_mean"
      ],
      "metadata": {
        "id": "RhXrEVZUEMWZ"
      },
      "execution_count": null,
      "outputs": []
    },
    {
      "cell_type": "code",
      "source": [
        "# df.info()"
      ],
      "metadata": {
        "id": "et4kp7FBEt83"
      },
      "execution_count": null,
      "outputs": []
    },
    {
      "cell_type": "code",
      "source": [
        "# # Cabin에서 Deck 정보를 추출하고 누락된 값을 채웁니다. pclass랑 표값에 따라서 자리가 있고 없을 수 있음.\n",
        "# def fill_deck(pclass, deck_mode):\n",
        "#     if pd.isna(pclass):\n",
        "#         return deck_mode\n",
        "#     return pclass\n",
        "\n",
        "# # 캐빈에서 데크 정보 추출\n",
        "# df['Deck'] = df['Cabin'].apply(lambda x: x[0] if pd.notna(x) else np.nan)\n",
        "\n",
        "# # 각 Pclass에 대해 가장 일반적인 데크를 계산\n",
        "# deck_mode_per_pclass = df.groupby('Pclass')['Deck'].agg(lambda x: x.mode().iloc[0] if not x.mode().empty else 'U')\n",
        "\n",
        "# # 누락된 값 채우기\n",
        "# df['Deck'] = df.apply(lambda row: fill_deck(row['Deck'], deck_mode_per_pclass[row['Pclass']]), axis=1)\n",
        "\n",
        "# # 결과 확인\n",
        "# print(df['Deck'].value_counts())"
      ],
      "metadata": {
        "id": "2T5eUxOq7Q7C"
      },
      "execution_count": null,
      "outputs": []
    },
    {
      "cell_type": "code",
      "source": [
        "# 1인당 요금을 계산\n",
        "df['GroupSize'] = df.groupby('Ticket')['Ticket'].transform('count')\n",
        "df['FarePerPerson'] = df['Fare'] / df['GroupSize']"
      ],
      "metadata": {
        "id": "3gQIplgc22Xd"
      },
      "execution_count": null,
      "outputs": []
    },
    {
      "cell_type": "code",
      "source": [
        "# Embarked에서 누락된 값을 처리\n",
        "df['Embarked'].fillna(df['Embarked'].mode()[0], inplace=True)\n",
        "df['Embarked'] = df['Embarked'].map({'C': 0, 'Q': 1, 'S': 2})"
      ],
      "metadata": {
        "id": "c64e4Ioc8FNF"
      },
      "execution_count": null,
      "outputs": []
    },
    {
      "cell_type": "code",
      "source": [
        "# # 결측치 처리 (예: Age 열의 결측치를 평균으로 대체)\n",
        "# df['Age'].fillna(df['Age'].mean(), inplace=True)"
      ],
      "metadata": {
        "collapsed": true,
        "id": "dq3rsF-s03lO"
      },
      "execution_count": null,
      "outputs": []
    },
    {
      "cell_type": "code",
      "source": [
        "df['Embarked'].fillna(df['Embarked'].mode()[0], inplace=True)"
      ],
      "metadata": {
        "id": "6-sSZM0k9QE7"
      },
      "execution_count": null,
      "outputs": []
    },
    {
      "cell_type": "code",
      "source": [
        "# Age_group을 6개 범주로 확대\n",
        "bins = [0,5,12,18,35,60,100]\n",
        "labels = ['Infant','child','Teenager','Young Adult','Adult','Senior']\n",
        "df['Age_group'] = pd.cut(df['Age'], bins=bins, labels=labels)\n",
        "df.drop(columns=['Age'], inplace=True)\n",
        "# df.head()"
      ],
      "metadata": {
        "collapsed": true,
        "id": "C76myU2N1hGx"
      },
      "execution_count": null,
      "outputs": []
    },
    {
      "cell_type": "code",
      "source": [
        "# Fare를 3개의 범주로 변환\n",
        "bins = [0, 25, 50, 600]\n",
        "labels = ['Low', 'Medium', 'High']\n",
        "df['Fare_bin'] = pd.cut(df['Fare'], bins=bins, labels=labels, include_lowest=True)\n",
        "\n",
        "# 각 범주의 개수 출력\n",
        "# fare_bin_counts = df['Fare_bin'].value_counts()\n",
        "# print(fare_bin_counts)"
      ],
      "metadata": {
        "id": "b5pN7R481rYd"
      },
      "execution_count": null,
      "outputs": []
    },
    {
      "cell_type": "code",
      "source": [
        "# One-Hot Encoding\n",
        "# 범주형 변수를 더미 변수로 변환할 열 목록\n",
        "categorical_columns = ['Age_group', 'Fare_bin', 'Embarked']\n",
        "\n",
        "# 반복문을 사용하여 범주형 변수를 더미 변수로 변환\n",
        "for column in categorical_columns:\n",
        "    # 첫번쨰 카테고리는 drop_first=True로 제거\n",
        "    df = pd.get_dummies(df, columns=[column])"
      ],
      "metadata": {
        "collapsed": true,
        "id": "siR98rJh7oju"
      },
      "execution_count": null,
      "outputs": []
    },
    {
      "cell_type": "code",
      "source": [
        "# df.info()"
      ],
      "metadata": {
        "id": "9Nzt6S9X82mH"
      },
      "execution_count": null,
      "outputs": []
    },
    {
      "cell_type": "code",
      "source": [
        "# SibSp와 Parch 합쳐서 가족 규모 변수 생성\n",
        "df['family_size'] = df['SibSp'] + df['Parch'] + 1   # 자기 자신 포함\n",
        "df.drop(columns=['SibSp', 'Parch'], inplace=True)"
      ],
      "metadata": {
        "id": "sqFg2Beb1zij"
      },
      "execution_count": null,
      "outputs": []
    },
    {
      "cell_type": "code",
      "source": [
        "# df.info()"
      ],
      "metadata": {
        "id": "ZZKToINR5rtJ",
        "collapsed": true
      },
      "execution_count": null,
      "outputs": []
    },
    {
      "cell_type": "code",
      "source": [
        "# Name에 Title 값을 원핫 인코딩\n",
        "df = pd.get_dummies(df, columns=['Title'])"
      ],
      "metadata": {
        "collapsed": true,
        "id": "cCiKI9qL_F6p"
      },
      "execution_count": null,
      "outputs": []
    },
    {
      "cell_type": "code",
      "source": [
        "# # Deck 값을 원핫 인코딩\n",
        "# df = pd.get_dummies(df, columns=['Deck'])"
      ],
      "metadata": {
        "id": "bfhSurSMAF4o"
      },
      "execution_count": null,
      "outputs": []
    },
    {
      "cell_type": "code",
      "source": [
        "# df.info()"
      ],
      "metadata": {
        "id": "xu1OgVC9AN1Q"
      },
      "execution_count": null,
      "outputs": []
    },
    {
      "cell_type": "code",
      "source": [
        "# 필요 없는 열 제거\n",
        "df.drop(columns = ['PassengerId','Name','Ticket','Cabin'], inplace=True)\n",
        "df.head()"
      ],
      "metadata": {
        "colab": {
          "base_uri": "https://localhost:8080/",
          "height": 273
        },
        "id": "FVMcMDvsxShN",
        "outputId": "002e1c3c-575a-4e62-a87b-6837958e1a4c",
        "collapsed": true
      },
      "execution_count": null,
      "outputs": [
        {
          "output_type": "execute_result",
          "data": {
            "text/plain": [
              "   Survived  Pclass  Sex     Fare  GroupSize  FarePerPerson  Age_group_Infant  \\\n",
              "0         0       3    0   7.2500          1         7.2500             False   \n",
              "1         1       1    1  71.2833          1        71.2833             False   \n",
              "2         1       3    1   7.9250          1         7.9250             False   \n",
              "3         1       1    1  53.1000          2        26.5500             False   \n",
              "4         0       3    0   8.0500          1         8.0500             False   \n",
              "\n",
              "   Age_group_child  Age_group_Teenager  Age_group_Young Adult  ...  \\\n",
              "0            False               False                   True  ...   \n",
              "1            False               False                  False  ...   \n",
              "2            False               False                   True  ...   \n",
              "3            False               False                   True  ...   \n",
              "4            False               False                   True  ...   \n",
              "\n",
              "   Title_Master  Title_Miss  Title_Mlle  Title_Mme  Title_Mr  Title_Mrs  \\\n",
              "0         False       False       False      False      True      False   \n",
              "1         False       False       False      False     False       True   \n",
              "2         False        True       False      False     False      False   \n",
              "3         False       False       False      False     False       True   \n",
              "4         False       False       False      False      True      False   \n",
              "\n",
              "   Title_Ms  Title_Rev  Title_Sir  Title_the Countess  \n",
              "0     False      False      False               False  \n",
              "1     False      False      False               False  \n",
              "2     False      False      False               False  \n",
              "3     False      False      False               False  \n",
              "4     False      False      False               False  \n",
              "\n",
              "[5 rows x 36 columns]"
            ],
            "text/html": [
              "\n",
              "  <div id=\"df-1cf305b5-0fbc-45a8-a220-82497081ed5a\" class=\"colab-df-container\">\n",
              "    <div>\n",
              "<style scoped>\n",
              "    .dataframe tbody tr th:only-of-type {\n",
              "        vertical-align: middle;\n",
              "    }\n",
              "\n",
              "    .dataframe tbody tr th {\n",
              "        vertical-align: top;\n",
              "    }\n",
              "\n",
              "    .dataframe thead th {\n",
              "        text-align: right;\n",
              "    }\n",
              "</style>\n",
              "<table border=\"1\" class=\"dataframe\">\n",
              "  <thead>\n",
              "    <tr style=\"text-align: right;\">\n",
              "      <th></th>\n",
              "      <th>Survived</th>\n",
              "      <th>Pclass</th>\n",
              "      <th>Sex</th>\n",
              "      <th>Fare</th>\n",
              "      <th>GroupSize</th>\n",
              "      <th>FarePerPerson</th>\n",
              "      <th>Age_group_Infant</th>\n",
              "      <th>Age_group_child</th>\n",
              "      <th>Age_group_Teenager</th>\n",
              "      <th>Age_group_Young Adult</th>\n",
              "      <th>...</th>\n",
              "      <th>Title_Master</th>\n",
              "      <th>Title_Miss</th>\n",
              "      <th>Title_Mlle</th>\n",
              "      <th>Title_Mme</th>\n",
              "      <th>Title_Mr</th>\n",
              "      <th>Title_Mrs</th>\n",
              "      <th>Title_Ms</th>\n",
              "      <th>Title_Rev</th>\n",
              "      <th>Title_Sir</th>\n",
              "      <th>Title_the Countess</th>\n",
              "    </tr>\n",
              "  </thead>\n",
              "  <tbody>\n",
              "    <tr>\n",
              "      <th>0</th>\n",
              "      <td>0</td>\n",
              "      <td>3</td>\n",
              "      <td>0</td>\n",
              "      <td>7.2500</td>\n",
              "      <td>1</td>\n",
              "      <td>7.2500</td>\n",
              "      <td>False</td>\n",
              "      <td>False</td>\n",
              "      <td>False</td>\n",
              "      <td>True</td>\n",
              "      <td>...</td>\n",
              "      <td>False</td>\n",
              "      <td>False</td>\n",
              "      <td>False</td>\n",
              "      <td>False</td>\n",
              "      <td>True</td>\n",
              "      <td>False</td>\n",
              "      <td>False</td>\n",
              "      <td>False</td>\n",
              "      <td>False</td>\n",
              "      <td>False</td>\n",
              "    </tr>\n",
              "    <tr>\n",
              "      <th>1</th>\n",
              "      <td>1</td>\n",
              "      <td>1</td>\n",
              "      <td>1</td>\n",
              "      <td>71.2833</td>\n",
              "      <td>1</td>\n",
              "      <td>71.2833</td>\n",
              "      <td>False</td>\n",
              "      <td>False</td>\n",
              "      <td>False</td>\n",
              "      <td>False</td>\n",
              "      <td>...</td>\n",
              "      <td>False</td>\n",
              "      <td>False</td>\n",
              "      <td>False</td>\n",
              "      <td>False</td>\n",
              "      <td>False</td>\n",
              "      <td>True</td>\n",
              "      <td>False</td>\n",
              "      <td>False</td>\n",
              "      <td>False</td>\n",
              "      <td>False</td>\n",
              "    </tr>\n",
              "    <tr>\n",
              "      <th>2</th>\n",
              "      <td>1</td>\n",
              "      <td>3</td>\n",
              "      <td>1</td>\n",
              "      <td>7.9250</td>\n",
              "      <td>1</td>\n",
              "      <td>7.9250</td>\n",
              "      <td>False</td>\n",
              "      <td>False</td>\n",
              "      <td>False</td>\n",
              "      <td>True</td>\n",
              "      <td>...</td>\n",
              "      <td>False</td>\n",
              "      <td>True</td>\n",
              "      <td>False</td>\n",
              "      <td>False</td>\n",
              "      <td>False</td>\n",
              "      <td>False</td>\n",
              "      <td>False</td>\n",
              "      <td>False</td>\n",
              "      <td>False</td>\n",
              "      <td>False</td>\n",
              "    </tr>\n",
              "    <tr>\n",
              "      <th>3</th>\n",
              "      <td>1</td>\n",
              "      <td>1</td>\n",
              "      <td>1</td>\n",
              "      <td>53.1000</td>\n",
              "      <td>2</td>\n",
              "      <td>26.5500</td>\n",
              "      <td>False</td>\n",
              "      <td>False</td>\n",
              "      <td>False</td>\n",
              "      <td>True</td>\n",
              "      <td>...</td>\n",
              "      <td>False</td>\n",
              "      <td>False</td>\n",
              "      <td>False</td>\n",
              "      <td>False</td>\n",
              "      <td>False</td>\n",
              "      <td>True</td>\n",
              "      <td>False</td>\n",
              "      <td>False</td>\n",
              "      <td>False</td>\n",
              "      <td>False</td>\n",
              "    </tr>\n",
              "    <tr>\n",
              "      <th>4</th>\n",
              "      <td>0</td>\n",
              "      <td>3</td>\n",
              "      <td>0</td>\n",
              "      <td>8.0500</td>\n",
              "      <td>1</td>\n",
              "      <td>8.0500</td>\n",
              "      <td>False</td>\n",
              "      <td>False</td>\n",
              "      <td>False</td>\n",
              "      <td>True</td>\n",
              "      <td>...</td>\n",
              "      <td>False</td>\n",
              "      <td>False</td>\n",
              "      <td>False</td>\n",
              "      <td>False</td>\n",
              "      <td>True</td>\n",
              "      <td>False</td>\n",
              "      <td>False</td>\n",
              "      <td>False</td>\n",
              "      <td>False</td>\n",
              "      <td>False</td>\n",
              "    </tr>\n",
              "  </tbody>\n",
              "</table>\n",
              "<p>5 rows × 36 columns</p>\n",
              "</div>\n",
              "    <div class=\"colab-df-buttons\">\n",
              "\n",
              "  <div class=\"colab-df-container\">\n",
              "    <button class=\"colab-df-convert\" onclick=\"convertToInteractive('df-1cf305b5-0fbc-45a8-a220-82497081ed5a')\"\n",
              "            title=\"Convert this dataframe to an interactive table.\"\n",
              "            style=\"display:none;\">\n",
              "\n",
              "  <svg xmlns=\"http://www.w3.org/2000/svg\" height=\"24px\" viewBox=\"0 -960 960 960\">\n",
              "    <path d=\"M120-120v-720h720v720H120Zm60-500h600v-160H180v160Zm220 220h160v-160H400v160Zm0 220h160v-160H400v160ZM180-400h160v-160H180v160Zm440 0h160v-160H620v160ZM180-180h160v-160H180v160Zm440 0h160v-160H620v160Z\"/>\n",
              "  </svg>\n",
              "    </button>\n",
              "\n",
              "  <style>\n",
              "    .colab-df-container {\n",
              "      display:flex;\n",
              "      gap: 12px;\n",
              "    }\n",
              "\n",
              "    .colab-df-convert {\n",
              "      background-color: #E8F0FE;\n",
              "      border: none;\n",
              "      border-radius: 50%;\n",
              "      cursor: pointer;\n",
              "      display: none;\n",
              "      fill: #1967D2;\n",
              "      height: 32px;\n",
              "      padding: 0 0 0 0;\n",
              "      width: 32px;\n",
              "    }\n",
              "\n",
              "    .colab-df-convert:hover {\n",
              "      background-color: #E2EBFA;\n",
              "      box-shadow: 0px 1px 2px rgba(60, 64, 67, 0.3), 0px 1px 3px 1px rgba(60, 64, 67, 0.15);\n",
              "      fill: #174EA6;\n",
              "    }\n",
              "\n",
              "    .colab-df-buttons div {\n",
              "      margin-bottom: 4px;\n",
              "    }\n",
              "\n",
              "    [theme=dark] .colab-df-convert {\n",
              "      background-color: #3B4455;\n",
              "      fill: #D2E3FC;\n",
              "    }\n",
              "\n",
              "    [theme=dark] .colab-df-convert:hover {\n",
              "      background-color: #434B5C;\n",
              "      box-shadow: 0px 1px 3px 1px rgba(0, 0, 0, 0.15);\n",
              "      filter: drop-shadow(0px 1px 2px rgba(0, 0, 0, 0.3));\n",
              "      fill: #FFFFFF;\n",
              "    }\n",
              "  </style>\n",
              "\n",
              "    <script>\n",
              "      const buttonEl =\n",
              "        document.querySelector('#df-1cf305b5-0fbc-45a8-a220-82497081ed5a button.colab-df-convert');\n",
              "      buttonEl.style.display =\n",
              "        google.colab.kernel.accessAllowed ? 'block' : 'none';\n",
              "\n",
              "      async function convertToInteractive(key) {\n",
              "        const element = document.querySelector('#df-1cf305b5-0fbc-45a8-a220-82497081ed5a');\n",
              "        const dataTable =\n",
              "          await google.colab.kernel.invokeFunction('convertToInteractive',\n",
              "                                                    [key], {});\n",
              "        if (!dataTable) return;\n",
              "\n",
              "        const docLinkHtml = 'Like what you see? Visit the ' +\n",
              "          '<a target=\"_blank\" href=https://colab.research.google.com/notebooks/data_table.ipynb>data table notebook</a>'\n",
              "          + ' to learn more about interactive tables.';\n",
              "        element.innerHTML = '';\n",
              "        dataTable['output_type'] = 'display_data';\n",
              "        await google.colab.output.renderOutput(dataTable, element);\n",
              "        const docLink = document.createElement('div');\n",
              "        docLink.innerHTML = docLinkHtml;\n",
              "        element.appendChild(docLink);\n",
              "      }\n",
              "    </script>\n",
              "  </div>\n",
              "\n",
              "\n",
              "<div id=\"df-bbd3b90d-1d7e-4155-b174-dc6c264c12cb\">\n",
              "  <button class=\"colab-df-quickchart\" onclick=\"quickchart('df-bbd3b90d-1d7e-4155-b174-dc6c264c12cb')\"\n",
              "            title=\"Suggest charts\"\n",
              "            style=\"display:none;\">\n",
              "\n",
              "<svg xmlns=\"http://www.w3.org/2000/svg\" height=\"24px\"viewBox=\"0 0 24 24\"\n",
              "     width=\"24px\">\n",
              "    <g>\n",
              "        <path d=\"M19 3H5c-1.1 0-2 .9-2 2v14c0 1.1.9 2 2 2h14c1.1 0 2-.9 2-2V5c0-1.1-.9-2-2-2zM9 17H7v-7h2v7zm4 0h-2V7h2v10zm4 0h-2v-4h2v4z\"/>\n",
              "    </g>\n",
              "</svg>\n",
              "  </button>\n",
              "\n",
              "<style>\n",
              "  .colab-df-quickchart {\n",
              "      --bg-color: #E8F0FE;\n",
              "      --fill-color: #1967D2;\n",
              "      --hover-bg-color: #E2EBFA;\n",
              "      --hover-fill-color: #174EA6;\n",
              "      --disabled-fill-color: #AAA;\n",
              "      --disabled-bg-color: #DDD;\n",
              "  }\n",
              "\n",
              "  [theme=dark] .colab-df-quickchart {\n",
              "      --bg-color: #3B4455;\n",
              "      --fill-color: #D2E3FC;\n",
              "      --hover-bg-color: #434B5C;\n",
              "      --hover-fill-color: #FFFFFF;\n",
              "      --disabled-bg-color: #3B4455;\n",
              "      --disabled-fill-color: #666;\n",
              "  }\n",
              "\n",
              "  .colab-df-quickchart {\n",
              "    background-color: var(--bg-color);\n",
              "    border: none;\n",
              "    border-radius: 50%;\n",
              "    cursor: pointer;\n",
              "    display: none;\n",
              "    fill: var(--fill-color);\n",
              "    height: 32px;\n",
              "    padding: 0;\n",
              "    width: 32px;\n",
              "  }\n",
              "\n",
              "  .colab-df-quickchart:hover {\n",
              "    background-color: var(--hover-bg-color);\n",
              "    box-shadow: 0 1px 2px rgba(60, 64, 67, 0.3), 0 1px 3px 1px rgba(60, 64, 67, 0.15);\n",
              "    fill: var(--button-hover-fill-color);\n",
              "  }\n",
              "\n",
              "  .colab-df-quickchart-complete:disabled,\n",
              "  .colab-df-quickchart-complete:disabled:hover {\n",
              "    background-color: var(--disabled-bg-color);\n",
              "    fill: var(--disabled-fill-color);\n",
              "    box-shadow: none;\n",
              "  }\n",
              "\n",
              "  .colab-df-spinner {\n",
              "    border: 2px solid var(--fill-color);\n",
              "    border-color: transparent;\n",
              "    border-bottom-color: var(--fill-color);\n",
              "    animation:\n",
              "      spin 1s steps(1) infinite;\n",
              "  }\n",
              "\n",
              "  @keyframes spin {\n",
              "    0% {\n",
              "      border-color: transparent;\n",
              "      border-bottom-color: var(--fill-color);\n",
              "      border-left-color: var(--fill-color);\n",
              "    }\n",
              "    20% {\n",
              "      border-color: transparent;\n",
              "      border-left-color: var(--fill-color);\n",
              "      border-top-color: var(--fill-color);\n",
              "    }\n",
              "    30% {\n",
              "      border-color: transparent;\n",
              "      border-left-color: var(--fill-color);\n",
              "      border-top-color: var(--fill-color);\n",
              "      border-right-color: var(--fill-color);\n",
              "    }\n",
              "    40% {\n",
              "      border-color: transparent;\n",
              "      border-right-color: var(--fill-color);\n",
              "      border-top-color: var(--fill-color);\n",
              "    }\n",
              "    60% {\n",
              "      border-color: transparent;\n",
              "      border-right-color: var(--fill-color);\n",
              "    }\n",
              "    80% {\n",
              "      border-color: transparent;\n",
              "      border-right-color: var(--fill-color);\n",
              "      border-bottom-color: var(--fill-color);\n",
              "    }\n",
              "    90% {\n",
              "      border-color: transparent;\n",
              "      border-bottom-color: var(--fill-color);\n",
              "    }\n",
              "  }\n",
              "</style>\n",
              "\n",
              "  <script>\n",
              "    async function quickchart(key) {\n",
              "      const quickchartButtonEl =\n",
              "        document.querySelector('#' + key + ' button');\n",
              "      quickchartButtonEl.disabled = true;  // To prevent multiple clicks.\n",
              "      quickchartButtonEl.classList.add('colab-df-spinner');\n",
              "      try {\n",
              "        const charts = await google.colab.kernel.invokeFunction(\n",
              "            'suggestCharts', [key], {});\n",
              "      } catch (error) {\n",
              "        console.error('Error during call to suggestCharts:', error);\n",
              "      }\n",
              "      quickchartButtonEl.classList.remove('colab-df-spinner');\n",
              "      quickchartButtonEl.classList.add('colab-df-quickchart-complete');\n",
              "    }\n",
              "    (() => {\n",
              "      let quickchartButtonEl =\n",
              "        document.querySelector('#df-bbd3b90d-1d7e-4155-b174-dc6c264c12cb button');\n",
              "      quickchartButtonEl.style.display =\n",
              "        google.colab.kernel.accessAllowed ? 'block' : 'none';\n",
              "    })();\n",
              "  </script>\n",
              "</div>\n",
              "\n",
              "    </div>\n",
              "  </div>\n"
            ],
            "application/vnd.google.colaboratory.intrinsic+json": {
              "type": "dataframe",
              "variable_name": "df"
            }
          },
          "metadata": {},
          "execution_count": 186
        }
      ]
    },
    {
      "cell_type": "code",
      "source": [
        "# df.drop(columns = ['Cabin'], inplace=True)"
      ],
      "metadata": {
        "id": "MTvk0pJIF9Nm"
      },
      "execution_count": null,
      "outputs": []
    },
    {
      "cell_type": "code",
      "source": [
        "df.info()"
      ],
      "metadata": {
        "colab": {
          "base_uri": "https://localhost:8080/"
        },
        "id": "0wg0MFx9F4PW",
        "outputId": "fa773e05-d948-432b-c6bb-977c285ba1b7"
      },
      "execution_count": null,
      "outputs": [
        {
          "output_type": "stream",
          "name": "stdout",
          "text": [
            "<class 'pandas.core.frame.DataFrame'>\n",
            "RangeIndex: 891 entries, 0 to 890\n",
            "Data columns (total 36 columns):\n",
            " #   Column                 Non-Null Count  Dtype  \n",
            "---  ------                 --------------  -----  \n",
            " 0   Survived               891 non-null    int64  \n",
            " 1   Pclass                 891 non-null    int64  \n",
            " 2   Sex                    891 non-null    int64  \n",
            " 3   Fare                   891 non-null    float64\n",
            " 4   GroupSize              891 non-null    int64  \n",
            " 5   FarePerPerson          891 non-null    float64\n",
            " 6   Age_group_Infant       891 non-null    bool   \n",
            " 7   Age_group_child        891 non-null    bool   \n",
            " 8   Age_group_Teenager     891 non-null    bool   \n",
            " 9   Age_group_Young Adult  891 non-null    bool   \n",
            " 10  Age_group_Adult        891 non-null    bool   \n",
            " 11  Age_group_Senior       891 non-null    bool   \n",
            " 12  Fare_bin_Low           891 non-null    bool   \n",
            " 13  Fare_bin_Medium        891 non-null    bool   \n",
            " 14  Fare_bin_High          891 non-null    bool   \n",
            " 15  Embarked_0             891 non-null    bool   \n",
            " 16  Embarked_1             891 non-null    bool   \n",
            " 17  Embarked_2             891 non-null    bool   \n",
            " 18  family_size            891 non-null    int64  \n",
            " 19  Title_Capt             891 non-null    bool   \n",
            " 20  Title_Col              891 non-null    bool   \n",
            " 21  Title_Don              891 non-null    bool   \n",
            " 22  Title_Dr               891 non-null    bool   \n",
            " 23  Title_Jonkheer         891 non-null    bool   \n",
            " 24  Title_Lady             891 non-null    bool   \n",
            " 25  Title_Major            891 non-null    bool   \n",
            " 26  Title_Master           891 non-null    bool   \n",
            " 27  Title_Miss             891 non-null    bool   \n",
            " 28  Title_Mlle             891 non-null    bool   \n",
            " 29  Title_Mme              891 non-null    bool   \n",
            " 30  Title_Mr               891 non-null    bool   \n",
            " 31  Title_Mrs              891 non-null    bool   \n",
            " 32  Title_Ms               891 non-null    bool   \n",
            " 33  Title_Rev              891 non-null    bool   \n",
            " 34  Title_Sir              891 non-null    bool   \n",
            " 35  Title_the Countess     891 non-null    bool   \n",
            "dtypes: bool(29), float64(2), int64(5)\n",
            "memory usage: 74.1 KB\n"
          ]
        }
      ]
    },
    {
      "cell_type": "code",
      "source": [
        "# # 예시로 선택할 열 목록\n",
        "# columns_of_interest = ['Survived','Age','Pclass','Sex','SibSp','Parch','Fare']\n",
        "\n",
        "# # 선택한 열들로 새로운 데이터프레임 생성\n",
        "# selected_df = df[columns_of_interest]"
      ],
      "metadata": {
        "id": "S_eqcjAX0Di1"
      },
      "execution_count": null,
      "outputs": []
    },
    {
      "cell_type": "code",
      "source": [
        "# correlation_matrix = df.corr()\n",
        "\n",
        "# # Heatmap으로 시각화\n",
        "# plt.figure(figsize=(10, 8))\n",
        "# sns.heatmap(correlation_matrix, annot=True, cmap='coolwarm', fmt=\".2f\")\n",
        "# plt.title(\"Correlation Matrix\")\n",
        "# plt.show()"
      ],
      "metadata": {
        "id": "D4wtbOl7-5uQ",
        "collapsed": true
      },
      "execution_count": null,
      "outputs": []
    },
    {
      "cell_type": "code",
      "source": [
        "# 타겟 변수와 피처 변수 설정\n",
        "X = df.drop('Survived', axis=1)\n",
        "y = df['Survived']\n",
        "\n",
        "# 학습 데이터와 테스트 데이터 분할\n",
        "X_train, X_test, y_train, y_test = train_test_split(X, y, test_size=0.2, random_state=42)\n",
        "\n",
        "# 데이터 크기 확인\n",
        "print(X_train.shape, X_test.shape, y_train.shape, y_test.shape)\n",
        "\n",
        "# 랜덤 포레스트 모델 학습\n",
        "model = RandomForestClassifier(n_estimators=100, random_state=42)\n",
        "model.fit(X_train, y_train)\n",
        "\n",
        "# 예측\n",
        "y_pred = model.predict(X_test)\n",
        "\n",
        "# 성능 평가\n",
        "print(\"Accuracy:\", accuracy_score(y_test, y_pred))\n",
        "# print(\"Confusion Matrix:\\n\", confusion_matrix(y_test, y_pred))\n",
        "# print(\"Classification Report:\\n\", classification_report(y_test, y_pred))"
      ],
      "metadata": {
        "id": "xEefwuZD9dxD",
        "colab": {
          "base_uri": "https://localhost:8080/"
        },
        "outputId": "a3c2c2e5-7cf8-4986-84da-abb26606c567"
      },
      "execution_count": null,
      "outputs": [
        {
          "output_type": "stream",
          "name": "stdout",
          "text": [
            "(712, 35) (179, 35) (712,) (179,)\n",
            "Accuracy: 0.8547486033519553\n"
          ]
        }
      ]
    }
  ]
}