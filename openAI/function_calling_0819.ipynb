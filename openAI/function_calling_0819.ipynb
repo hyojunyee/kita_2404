{
  "cells": [
    {
      "cell_type": "markdown",
      "metadata": {
        "id": "zyFYY4Bo_wNJ"
      },
      "source": [
        "#### Function Calling의 사용\n",
        "- 이 코드에서 function calling은 모델이 적절한 시점에 외부 함수(get_current_weather)를 호출하도록 유도합니다. 모델이 What is the current weather in {user_location}?와 같은 질문에 응답할 때, 해당 함수가 정의되어 있으면 모델은 그 함수를 호출하여 날씨 정보를 가져오려 합니다.\n",
        "\n",
        "- function_call=\"auto\" 설정을 통해 GPT 모델은 적절한 함수가 있을 때 자동으로 그 함수를 호출할 수 있습니다. 여기서는 get_current_weather 함수 명세를 통해 사용자가 입력한 위치에 맞는 날씨 정보를 가져올 수 있도록 유도됩니다.\n",
        "\n",
        "- 만약 모델이 함수 호출을 결정하면, 응답에 function_call이 포함되며, 이때 함수 이름과 그 인자가 함께 반환됩니다. 그런 후에 함수가 호출되고, 결과가 다시 모델에 제공됩니다.\n",
        "\n",
        "이 과정에서 모델은 단순히 인자를 생성하고, 함수를 호출하는 것은 개발자의 책임입니다. OpenAI의 API는 실제 함수 실행을 수행하지 않으므로, 함수 호출 후 결과를 처리하고 다시 모델에 넘기는 과정을 수동으로 처리하게 됩니다."
      ]
    },
    {
      "cell_type": "code",
      "execution_count": null,
      "metadata": {
        "colab": {
          "base_uri": "https://localhost:8080/"
        },
        "id": "JxPX20eH_s1d",
        "outputId": "f2c79b49-3a62-45c4-aac4-74f3c025d919"
      },
      "outputs": [
        {
          "name": "stdout",
          "output_type": "stream",
          "text": [
            "\u001b[?25l   \u001b[90m━━━━━━━━━━━━━━━━━━━━━━━━━━━━━━━━━━━━━━━━\u001b[0m \u001b[32m0.0/362.4 kB\u001b[0m \u001b[31m?\u001b[0m eta \u001b[36m-:--:--\u001b[0m\r\u001b[2K   \u001b[91m━━━━━━━━━━━━━━━━━━━━━━━━━━━━━━━━━━━━━━━\u001b[0m\u001b[91m╸\u001b[0m \u001b[32m358.4/362.4 kB\u001b[0m \u001b[31m24.2 MB/s\u001b[0m eta \u001b[36m0:00:01\u001b[0m\r\u001b[2K   \u001b[90m━━━━━━━━━━━━━━━━━━━━━━━━━━━━━━━━━━━━━━━━\u001b[0m \u001b[32m362.4/362.4 kB\u001b[0m \u001b[31m9.6 MB/s\u001b[0m eta \u001b[36m0:00:00\u001b[0m\n",
            "\u001b[?25h\u001b[?25l   \u001b[90m━━━━━━━━━━━━━━━━━━━━━━━━━━━━━━━━━━━━━━━━\u001b[0m \u001b[32m0.0/75.6 kB\u001b[0m \u001b[31m?\u001b[0m eta \u001b[36m-:--:--\u001b[0m\r\u001b[2K   \u001b[90m━━━━━━━━━━━━━━━━━━━━━━━━━━━━━━━━━━━━━━━━\u001b[0m \u001b[32m75.6/75.6 kB\u001b[0m \u001b[31m3.2 MB/s\u001b[0m eta \u001b[36m0:00:00\u001b[0m\n",
            "\u001b[2K   \u001b[90m━━━━━━━━━━━━━━━━━━━━━━━━━━━━━━━━━━━━━━━━\u001b[0m \u001b[32m77.9/77.9 kB\u001b[0m \u001b[31m3.6 MB/s\u001b[0m eta \u001b[36m0:00:00\u001b[0m\n",
            "\u001b[2K   \u001b[90m━━━━━━━━━━━━━━━━━━━━━━━━━━━━━━━━━━━━━━━━\u001b[0m \u001b[32m318.9/318.9 kB\u001b[0m \u001b[31m13.8 MB/s\u001b[0m eta \u001b[36m0:00:00\u001b[0m\n",
            "\u001b[2K   \u001b[90m━━━━━━━━━━━━━━━━━━━━━━━━━━━━━━━━━━━━━━━━\u001b[0m \u001b[32m58.3/58.3 kB\u001b[0m \u001b[31m2.7 MB/s\u001b[0m eta \u001b[36m0:00:00\u001b[0m\n",
            "\u001b[?25h"
          ]
        }
      ],
      "source": [
        "!pip install openai --quiet"
      ]
    },
    {
      "cell_type": "markdown",
      "metadata": {
        "id": "uD4GEqpQCCo3"
      },
      "source": [
        "openweather 사이트 api로 연결하여 현재 날씨를 조회할 수 있는 챗봇\n",
        "\n",
        "https://home.openweathermap.org/"
      ]
    },
    {
      "cell_type": "code",
      "execution_count": null,
      "metadata": {
        "colab": {
          "base_uri": "https://localhost:8080/"
        },
        "id": "qdgsWD1VCBon",
        "outputId": "43946573-2cb9-40c1-eb44-310eb7bf46dd"
      },
      "outputs": [
        {
          "name": "stdout",
          "output_type": "stream",
          "text": [
            "ChatCompletionMessage(content=None, refusal=None, role='assistant', function_call=FunctionCall(arguments='{\"location\":\"New York\"}', name='get_current_weather'), tool_calls=None)\n"
          ]
        }
      ],
      "source": [
        "import openai\n",
        "import json\n",
        "import requests\n",
        "\n",
        "from openai import OpenAI\n",
        "client = OpenAI(api_key='')\n",
        "\n",
        "weather_api_key = ''\n",
        "\n",
        "# 날씨 정보를 가져오는 함수 정의\n",
        "def get_current_weather(location):\n",
        "  url = f\"https://api.openweathermap.org/data/2.5/weather?q={location}&appid={weather_api_key}&units=metric\"\n",
        "  response = requests.get(url)\n",
        "  return response.json()\n",
        "\n",
        "# 사용자 요청 메시지\n",
        "messages = [\n",
        "  {\"role\":\"system\", \"content\": \"You are a helpful assistant.\"},\n",
        "  {\"role\":\"user\",\"content\":\"What is the current weather in New York?\"}\n",
        "]\n",
        "\n",
        "# GPT-4모델 호출\n",
        "response = client.chat.completions.create(\n",
        "    model=\"gpt-4o-mini-2024-07-18\",\n",
        "    messages=messages,\n",
        "    functions=[{\n",
        "      \"name\":\"get_current_weather\",\n",
        "      \"description\":\"Get the current weather for a specific location\",\n",
        "      \"parameters\":{\n",
        "        \"type\":\"object\",\n",
        "        \"properties\":{\n",
        "          \"location\":{\n",
        "            \"type\":\"string\",\n",
        "            \"description\":\"The name of the city to get the weather for\"\n",
        "          }\n",
        "        },\n",
        "        \"required\":[\"location\"]\n",
        "        }\n",
        "    }],\n",
        "    function_call=\"auto\"\n",
        ")\n",
        "\n",
        "# 모델의 응답 메시지를 messages 리스트에 추가하고 출력합니다.\n",
        "response_message = response.choices[0].message\n",
        "messages.append(response_message)\n",
        "\n",
        "print(response_message)"
      ]
    },
    {
      "cell_type": "code",
      "execution_count": null,
      "metadata": {
        "colab": {
          "base_uri": "https://localhost:8080/"
        },
        "id": "_PEglEUDGzjx",
        "outputId": "9caebbe2-8a95-49ba-a6bb-459999956f63"
      },
      "outputs": [
        {
          "name": "stdout",
          "output_type": "stream",
          "text": [
            "The current weather in New York is as follows:\n",
            "\n",
            "- **Condition**: Moderate rain and mist\n",
            "- **Temperature**: 21.76°C (feels like 22.34°C)\n",
            "- **Humidity**: 90%\n",
            "- **Wind Speed**: 4.63 m/s (with gusts up to 7.72 m/s)\n",
            "- **Visibility**: 4828 meters\n",
            "- **Rain**: 3.59 mm in the last hour\n",
            "- **Cloud Cover**: 100%\n",
            "\n",
            "Please note that these conditions can change rapidly.\n"
          ]
        }
      ],
      "source": [
        "\n",
        "# 도구 호출 여부 확인\n",
        "function_call = response_message.function_call\n",
        "if function_call:\n",
        "  tool_function_name = function_call.name\n",
        "  tool_arguments = json.loads(function_call.arguments)\n",
        "\n",
        "  # 함수 호출 및 결과 처리\n",
        "  if tool_function_name == 'get_current_weather':\n",
        "    location = tool_arguments['location']\n",
        "    weather_results = get_current_weather(location)\n",
        "\n",
        "    # 함수 호출 결과 메시지 추가\n",
        "    messages.append({\n",
        "        \"role\":\"function\",\n",
        "      \"name\":tool_function_name,\n",
        "      \"content\":json.dumps(weather_results) # JSON 형식으로 변환\n",
        "    })\n",
        "\n",
        "    # 모델 재호출\n",
        "    model_response_with_function_call = client.chat.completions.create(\n",
        "      model=\"gpt-4o-mini-2024-07-18\",\n",
        "      messages=messages\n",
        "    )\n",
        "    print(model_response_with_function_call.choices[0].message.content)\n",
        "  else:\n",
        "    print(f\"Error: function {tool_function_name} does not exist\")\n",
        "else:\n",
        "  # 도구 호출이 없는 경우 결과 반환\n",
        "  print(response_message.content)"
      ]
    },
    {
      "cell_type": "code",
      "execution_count": null,
      "metadata": {
        "colab": {
          "base_uri": "https://localhost:8080/"
        },
        "id": "vxKjpLmANw_t",
        "outputId": "49c91aa9-58c7-4de3-cb37-45416f71593d"
      },
      "outputs": [
        {
          "name": "stdout",
          "output_type": "stream",
          "text": [
            "Enter the location: Seoul\n",
            "ChatCompletionMessage(content=None, refusal=None, role='assistant', function_call=FunctionCall(arguments='{\"location\":\"Seoul\"}', name='get_current_weather'), tool_calls=None)\n",
            "The current weather in Seoul is as follows:\n",
            "\n",
            "- **Temperature**: 31.8°C\n",
            "- **Feels Like**: 38.8°C\n",
            "- **Condition**: Few clouds\n",
            "- **Humidity**: 70%\n",
            "- **Wind Speed**: 1.5 m/s from the South (170°)\n",
            "- **Cloud Cover**: 20%\n",
            "\n",
            "Overall, it’s a warm day with a few clouds in the sky.\n"
          ]
        }
      ],
      "source": [
        "import openai\n",
        "import json\n",
        "import requests\n",
        "\n",
        "from openai import OpenAI\n",
        "client = OpenAI(api_key='')\n",
        "\n",
        "weather_api_key = ''\n",
        "\n",
        "location = input(\"Enter the location: \")\n",
        "\n",
        "# 날씨 정보를 가져오는 함수 정의\n",
        "def get_current_weather(location):\n",
        "  url = f\"https://api.openweathermap.org/data/2.5/weather?q={location}&appid={weather_api_key}&units=metric\"\n",
        "  response = requests.get(url)\n",
        "  return response.json()\n",
        "\n",
        "# 사용자 요청 메시지\n",
        "messages = [\n",
        "  {\"role\":\"system\", \"content\": \"You are a helpful assistant.\"},\n",
        "  {\"role\":\"user\",\"content\":f\"What is the current weather in {location}?\"}\n",
        "]\n",
        "\n",
        "# GPT-4모델 호출\n",
        "response = client.chat.completions.create(\n",
        "    model=\"gpt-4o-mini-2024-07-18\",\n",
        "    messages=messages,\n",
        "    functions=[{\n",
        "      \"name\":\"get_current_weather\",\n",
        "      \"description\":\"Get the current weather for a specific location\",\n",
        "      \"parameters\":{\n",
        "        \"type\":\"object\",\n",
        "        \"properties\":{\n",
        "          \"location\":{\n",
        "            \"type\":\"string\",\n",
        "            \"description\":\"The name of the city to get the weather for\"\n",
        "          }\n",
        "        },\n",
        "        \"required\":[\"location\"]\n",
        "        }\n",
        "    }],\n",
        "    function_call=\"auto\"\n",
        ")\n",
        "\n",
        "# 모델의 응답 메시지를 messages 리스트에 추가하고 출력합니다.\n",
        "response_message = response.choices[0].message\n",
        "messages.append(response_message)\n",
        "\n",
        "print(response_message)\n",
        "\n",
        "# 도구 호출 여부 확인\n",
        "function_call = response_message.function_call\n",
        "if function_call:\n",
        "  tool_function_name = function_call.name\n",
        "  tool_arguments = json.loads(function_call.arguments)\n",
        "\n",
        "  # 함수 호출 및 결과 처리\n",
        "  if tool_function_name == 'get_current_weather':\n",
        "    location = tool_arguments['location']\n",
        "    weather_results = get_current_weather(location)\n",
        "\n",
        "    # 함수 호출 결과 메시지 추가\n",
        "    messages.append({\n",
        "      \"role\":\"function\",\n",
        "      \"name\":tool_function_name,\n",
        "      \"content\":json.dumps(weather_results) # JSON 형식으로 변환\n",
        "    })\n",
        "\n",
        "    # 모델 재호출\n",
        "    model_response_with_function_call = client.chat.completions.create(\n",
        "      model=\"gpt-4o-mini-2024-07-18\",\n",
        "      messages=messages\n",
        "    )\n",
        "    print(model_response_with_function_call.choices[0].message.content)\n",
        "  else:\n",
        "    print(f\"Error: function {tool_function_name} does not exist\")\n",
        "else:\n",
        "  # 도구 호출이 없는 경우 결과 반환\n",
        "  print(response_message.content)"
      ]
    },
    {
      "cell_type": "markdown",
      "metadata": {
        "id": "NwA0OgbtX9qP"
      },
      "source": [
        "## How to call functions with model generated arguments\n",
        "\n",
        "다음 예제에서는 모델에서 생성된 입력을 갖는 함수를 실행하는 방법을 보여주고 이를 사용하여 데이터베이스에 대한 질문에 답할 수 있는 에이전트를 구현합니다. 단순화를 위해 Chinook 샘플 데이터베이스를 사용하겠습니다 .\n",
        "\n",
        "참고: 모델이 올바른 SQL을 생성하는 데 완벽하게 신뢰할 수 없기 때문에 프로덕션 환경에서 SQL 생성은 위험할 수 있습니다.\n",
        "\n",
        "이 코드는 OpenAI의 GPT 모델을 사용하여 SQLite 데이터베이스에서 음악 관련 질문에 대한 답변을 SQL 쿼리로 변환한 후, 해당 쿼리를 실행하여 결과를 반환하는 방식으로 function calling을 구현한 예시입니다. 여기서는 사용자가 앨범 관련 질문을 하면, GPT-4가 질문을 SQL 쿼리로 변환하고, SQLite 데이터베이스를 조회하여 결과를 반환합니다."
      ]
    },
    {
      "cell_type": "code",
      "execution_count": 1,
      "metadata": {
        "colab": {
          "base_uri": "https://localhost:8080/"
        },
        "id": "pncjunPAYAKR",
        "outputId": "421154df-0770-4e77-bb60-dfe910fcd4d5"
      },
      "outputs": [
        {
          "name": "stdout",
          "output_type": "stream",
          "text": [
            "Opened database successfully\n"
          ]
        }
      ],
      "source": [
        "import sqlite3\n",
        "\n",
        "conn = sqlite3.connect(\"data\\Chinook.db\")\n",
        "print(\"Opened database successfully\")"
      ]
    },
    {
      "cell_type": "markdown",
      "metadata": {
        "id": "DaKvxPd9ZP96"
      },
      "source": [
        "### 데이터베이스 테이블 및 열 정보 조회\n",
        "\n",
        "- get_table_names, get_column_names 함수를 통해 데이터베이스의 테이블 및 열 이름을 가져옵니다.\n",
        "- 이 정보는 나중에 GPT 모델이 SQL 쿼리를 생성할 때 사용할 스키마 정보를 제공하는 데 활용됩니다."
      ]
    },
    {
      "cell_type": "code",
      "execution_count": null,
      "metadata": {
        "id": "_MjFgxahZaVa"
      },
      "outputs": [],
      "source": [
        "# 데이터베이스에서 테이블 목록을 추출하는 함수입니다. sqlite_mast 테이블에서 'type'인 항목들의 이름을 가져와 리스트로 반환\n",
        "def get_table_names(conn):\n",
        "  \"\"\"Return al list of table names.\"\"\"\n",
        "  table_names = []\n",
        "  tables = conn.execute(\"SELECT name FROM sqlite_master WHERE type='table';\")\n",
        "  for table in tables.fetchall():\n",
        "    table_names.append(table[0])\n",
        "  return table_names\n",
        "\n",
        "# PRAGMA table_info(table_name)명령을 사용하여 테이블의 스키마 정볼르 가져오고, 컬럼 이름을 리스트로 반환\n",
        "def get_column_names(conn, table_name):\n",
        "  \"\"\"Return a list of column names.\"\"\"\n",
        "  column_names = []\n",
        "  columns = conn.execute(f\"PRAGMA table_info({table_name});\").fetchall()\n",
        "  for col in columns:\n",
        "    column_names.append(col[1])\n",
        "  return column_names\n",
        "\n",
        "def get_database_info(conn):\n",
        "  \"\"\"Return a list of dicts containing the table name and columns for each table in the database.\"\"\"\n",
        "  table_dicts = []\n",
        "  for table_name in get_table_names(conn):\n",
        "    columns_names = get_column_names(conn, table_name)\n",
        "    table_dicts.append({\"table_name\":table_name, \"column_names\":columns_names})\n",
        "  return table_dicts"
      ]
    },
    {
      "cell_type": "markdown",
      "metadata": {
        "id": "KdtwGhsdaXlU"
      },
      "source": [
        "### 데이터베이스의 테이블과 열 정보를 문자열 형태로 저장하여, 나중에 SQL 쿼리 작성 시 참조할 수 있도록 합니다."
      ]
    },
    {
      "cell_type": "code",
      "execution_count": null,
      "metadata": {
        "id": "ZxOf8yjQacWb"
      },
      "outputs": [],
      "source": [
        "database_schema_dict = get_database_info(conn)\n",
        "database_schema_string = \"\\n\".join(\n",
        "    [\n",
        "        f\"Table: {table['table_name']}\\nColumns: {', '.join(table['column_names'])}\"\n",
        "        for table in database_schema_dict\n",
        "    ]\n",
        ")"
      ]
    },
    {
      "cell_type": "markdown",
      "metadata": {
        "id": "VaJHmFoOcuKn"
      },
      "source": [
        "### tools라는 리스트에 ask_database라는 함수 명세를 정의합니다.\n",
        "- 이 함수는 사용자의 질문에 맞는 SQL 쿼리를 받아 데이터베이스에서 정보를 조회하고, 이를 반환하는 기능을 합니다.\n",
        "- 함수의 매개변수로 query가 있으며, 이는 SQL 쿼리를 텍스트 형태로 전달받아 실행하는 구조입니다.\n",
        "- 중요한 점은 database_schema_string이 함수 설명에 포함되어 있어, 모델이 데이터베이스 스키마에 맞는 SQL 쿼리를 생성할 수 있도록 도움을 줍니다."
      ]
    },
    {
      "cell_type": "code",
      "execution_count": null,
      "metadata": {
        "id": "ID7HMAgCcxb8"
      },
      "outputs": [],
      "source": [
        "tools = [\n",
        "    {\n",
        "        \"type\": \"function\",\n",
        "        \"function\": {\n",
        "            \"name\" : \"ask_databse\",\n",
        "            \"description\": \"Use this function to answer user questions about music. Input should be a fully formed SQL query.\",\n",
        "            \"parameters\" : {\n",
        "                \"type\" : \"object\",\n",
        "                \"properties\": {\n",
        "                    \"query\" : {\n",
        "                        \"type\" : \"string\",\n",
        "                        \"description\": f\"\"\"\n",
        "                          SQL query extracting info to answer the user's question.\n",
        "                          SQL should be written using this database schema:\n",
        "                          {database_schema_string}\n",
        "                          The query should be returned in plain text, not in JSON.\n",
        "                          \"\"\",\n",
        "                    }\n",
        "                },\n",
        "                \"required\" : [\"query\"]\n",
        "            },\n",
        "        }\n",
        "    }\n",
        "]"
      ]
    },
    {
      "cell_type": "markdown",
      "metadata": {
        "id": "LNCJTF6XeEhi"
      },
      "source": [
        "## Executing SQL queries\n",
        "\n",
        "이제 실제로 데이터베이스에 대한 쿼리를 실행하는 함수를 구현해 보겠습니다."
      ]
    },
    {
      "cell_type": "code",
      "execution_count": null,
      "metadata": {
        "id": "y7vcu09CeGXP"
      },
      "outputs": [],
      "source": [
        "def ask_database(conn, query):\n",
        "  \"\"\"Function to query SQLite database with a provided SQL query.\"\"\"\n",
        "  try:\n",
        "    results = str(conn.execute(query).fetchall())\n",
        "  except Exception as e:\n",
        "    results = f\"query failed with error: {e}\"\n",
        "  return results"
      ]
    },
    {
      "cell_type": "markdown",
      "metadata": {
        "id": "iK3VRCA7gL8p"
      },
      "source": [
        "##### Steps to invoke a function call using Chat Completions API:\n",
        "\n",
        "- 1단계 : 모델이 사용할 도구를 선택하도록 하는 내용으로 모델을 프롬프트합니다. 함수 이름 및 서명과 같은 도구에 대한 설명은 '도구' 목록에 정의되어 API 호출에서 모델에 전달됩니다. 선택한 경우 함수 이름과 매개변수가 응답에 포함됩니다.\n",
        "- 2단계 : 모델이 함수를 호출하려고 하는지 프로그래밍적으로 확인합니다. 참이면 3단계로 진행합니다.\n",
        "- 3단계 : 응답에서 함수 이름과 매개변수를 추출하고 매개변수와 함께 함수를 호출합니다. 결과를 메시지에 추가합니다.\n",
        "- 4단계 : 메시지 목록으로 채팅 완료 API를 호출하여 응답을 가져옵니다."
      ]
    },
    {
      "cell_type": "code",
      "execution_count": null,
      "metadata": {
        "colab": {
          "base_uri": "https://localhost:8080/"
        },
        "id": "VHbZcuHvgeYH",
        "outputId": "ce3a847d-889d-4d3e-b0aa-7a88adad6514"
      },
      "outputs": [
        {
          "name": "stdout",
          "output_type": "stream",
          "text": [
            "ChatCompletionMessage(content=None, refusal=None, role='assistant', function_call=None, tool_calls=[ChatCompletionMessageToolCall(id='call_7POiEPQ9HWNWWprduj9SJUjx', function=Function(arguments='{\"query\":\"SELECT A.Title FROM Album A JOIN Track T ON A.AlbumId = T.AlbumId GROUP BY A.AlbumId ORDER BY COUNT(T.TrackId) DESC LIMIT 1;\"}', name='ask_databse'), type='function')])\n"
          ]
        }
      ],
      "source": [
        "# 사용자의 요청 메시지를 정의합니다.\n",
        "messages = [{\n",
        "    \"role\":\"user\",\n",
        "    \"content\":\"What is the name of the album with the most tracks?\"\n",
        "}]\n",
        "\n",
        "# 사용자의 질문에 대한 응답을 생성. tools와 tool_choice 파라미터는 모델이 데이터베이스 쿼리를 인식하고 자동으로 도구를 선택할 수 있도록 돕습니다.\n",
        "response = client.chat.completions.create(\n",
        "    model=\"gpt-4o-mini-2024-07-18\",\n",
        "    messages=messages,\n",
        "    tools=tools,\n",
        "    tool_choice=\"auto\" # 모델이 자동으로 함수 호출을 결정, SQL 쿼리로 변환할 필요가 있다고 판단하면 자동으로 ask_databse 함수를 호출하게 됩니다.\n",
        ")\n",
        "\n",
        "# 모델의 응답 메시지를 messages 리스트에 추가하고 출력합니다.\n",
        "response_message = response.choices[0].message\n",
        "messages.append(response_message)\n",
        "print(response_message.content)"
      ]
    },
    {
      "cell_type": "code",
      "execution_count": null,
      "metadata": {
        "colab": {
          "base_uri": "https://localhost:8080/"
        },
        "id": "gFap2SBthbt6",
        "outputId": "6cf6ad50-e521-4581-f7a8-29395fea453c"
      },
      "outputs": [
        {
          "name": "stdout",
          "output_type": "stream",
          "text": [
            "Error: function get_current_weather does not exist\n"
          ]
        }
      ],
      "source": [
        "# 모델 응답에서 도구 호출이 포함되어 있는지 확인하고, 도구 호출이 있다면 도구 호출 ID, 함수 이름 및 쿼리 문자열을 추출합니다.\n",
        "tool_calls = response_message.tool_calls\n",
        "if tool_calls:\n",
        "  tool_call_id = tool_calls[0].id\n",
        "  function_name = tool_calls[0].function.name\n",
        "  tool_query_string = json.loads(tool_calls[0].function.arguments)[\"query\"]\n",
        "\n",
        "  # 도구 호출 함수 이름이 'ask_database'인 경우, ask_database 함수를 호출하여 데이터베이스 쿼리를 실행하고 결과를 messages 리스트에 추가합니다.\n",
        "  if tool_function_name == 'ask_database':\n",
        "    results = ask_database(conn, tool_query_string)\n",
        "\n",
        "    messages.append({\n",
        "        \"role\":\"tool\",\n",
        "        \"tool_call_id\":tool_call_id,\n",
        "        \"content\":results\n",
        "    })\n",
        "\n",
        "    # 도구 호출 결과가 포함된 messages 리스트를 사용하여 모델을 다시 호출하고 최종 응답을 출력합니다.\n",
        "    # Note that messages with role 'tool' must be a response to a preceding message with 'tool_calls'\n",
        "    model_response_with_function_call = client.chat.completions.create(\n",
        "        model = 'gpt-4o-mini-2024-07-18',\n",
        "        messages = messages\n",
        "    ) #get a new response from the model where it ca see the function responese\n",
        "    print(model_response_with_function_call.choices[0].message.content)\n",
        "    # 도구 호출 함수 이름이 'ask_database'가 아닌 경우 오류 메시지를 출력하거나, 도구 호출이 없으면 모델의 응답 내용을 바로 출력합니다.\n",
        "  else:\n",
        "    print(f\"Error: function {tool_function_name} does not exist\")\n",
        "else:\n",
        "  print(response_message.content)"
      ]
    }
  ],
  "metadata": {
    "colab": {
      "provenance": []
    },
    "kernelspec": {
      "display_name": "Python 3",
      "name": "python3"
    },
    "language_info": {
      "codemirror_mode": {
        "name": "ipython",
        "version": 3
      },
      "file_extension": ".py",
      "mimetype": "text/x-python",
      "name": "python",
      "nbconvert_exporter": "python",
      "pygments_lexer": "ipython3",
      "version": "3.10.11"
    }
  },
  "nbformat": 4,
  "nbformat_minor": 0
}
