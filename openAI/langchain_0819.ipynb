{
  "cells": [
    {
      "cell_type": "markdown",
      "metadata": {
        "id": "OFEsnds8qQtn"
      },
      "source": [
        "## LangChain\n",
        "- 자연어 처리(NLP)와 생성형 AI 응용 프로그램을 개발하기 위한 프레임워크입니다. 주로 대형 언어 모델(LLMs)과 같은 최신 NLP 기술을 기반으로 하여 다양한 작업을 자동화하거나 개선할 수 있는 도구와 서비스를 제공합니다.\n",
        "- 이 프레임워크는 특히 언어 모델의 기능을 확장하고 이를 보다 쉽게 사용할 수 있도록 설계되었습니다.\n",
        "- LangChain의 핵심 목표는 언어 모델을 활용하여 여러 복잡한 작업을 수행할 수 있도록 돕는 것이며, 특히 긴 텍스트, 문서 체인 또는 여러 단계의 워크플로를 필요로 하는 복잡한 응용 프로그램에 유용합니다.\n",
        "\n",
        "### LangChain의 구성 요소:\n",
        "- Language Models: 언어 모델 자체를 사용하여 텍스트 생성, 요약, 번역 등의 작업을 수행합니다.\n",
        "- Chains: 여러 모델 호출을 연결하여 복잡한 작업을 수행하는 논리적 흐름을 정의할 수 있습니다. 예를 들어, 텍스트를 요약한 후 요약된 텍스트에 대한 질의응답을 수행하는 체인을 만들 수 있습니다.\n",
        "- Agents: 주어진 작업에 따라 다양한 툴을 선택하고 사용할 수 있는 지능형 에이전트입니다. 예를 들어, 정보 검색, API 호출 등을 수행하는 역할을 합니다.\n",
        "- Memory: 이전의 상호작용 또는 맥락을 기억하는 기능입니다. 이를 통해 대화형 AI나 컨텍스트를 유지해야 하는 애플리케이션을 구현할 수 있습니다.\n",
        "\n",
        "### 활용 사례:\n",
        "- 대화형 에이전트: 사용자와의 대화에서 맥락을 유지하며 대답할 수 있는 챗봇 개발.\n",
        "문서 처리: 긴 문서나 여러 문서의 내용을 요약하거나 분석하는 애플리케이션.\n",
        "- 지식 탐색: 사용자가 특정 주제에 대해 질문하면, 관련된 정보를 검색하고 이를 바탕으로 대답을 제공하는 시스템.\n",
        "\n",
        "### 통합:\n",
        "- LangChain은 다양한 데이터 소스, API 및 언어 모델과 통합될 수 있으며, 이를 통해 다양한 도메인에서 사용될 수 있습니다. 예를 들어, SQL 데이터베이스에 쿼리를 보내고 결과를 요약하거나, 웹에서 정보를 수집한 후 이를 기반으로 질문에 답하는 작업을 수행할 수 있습니다.\n",
        "\n",
        "이 프레임워크는 특히 연구자, 데이터 사이언티스트, 개발자들이 생성형 AI를 활용하여 복잡한 텍스트 기반 응용 프로그램을 구축하는 데 큰 도움이 됩니다. LangChain은 이러한 작업을 더 쉽게, 더 직관적으로 구현할 수 있게 도와줍니다."
      ]
    },
    {
      "cell_type": "markdown",
      "metadata": {
        "id": "U4s1c9YovZcv"
      },
      "source": [
        "- langchain-openai: LangChain과 OpenAI를 연결하는 패키지.\n",
        "- faiss-cpu: 벡터 검색을 위한 FAISS 라이브러리의 CPU 버전.\n",
        "- langchain_community: LangChain의 커뮤니티에서 개발된 추가 도구.\n",
        "- tiktoken: OpenAI 모델에서 사용하는 토큰화 도구."
      ]
    },
    {
      "cell_type": "code",
      "execution_count": 2,
      "metadata": {
        "colab": {
          "base_uri": "https://localhost:8080/"
        },
        "id": "Gh255SPDqOv0",
        "outputId": "3c53655e-8337-418d-d8a3-7a9303165fb5"
      },
      "outputs": [],
      "source": [
        "!pip install -q openai\n",
        "!pip install langchain langchain-openai -q\n",
        "!pip install faiss-cpu -q\n",
        "!pip install langchain_community -q\n",
        "!pip install tiktoken -q"
      ]
    },
    {
      "cell_type": "code",
      "execution_count": 3,
      "metadata": {
        "id": "cCjLNRxtvNro"
      },
      "outputs": [],
      "source": [
        "from openai import OpenAI\n",
        "MODEL = \"gpt-4o-mini-2024-07-18\"\n",
        "client = OpenAI(api_key = '')"
      ]
    },
    {
      "cell_type": "markdown",
      "metadata": {
        "id": "ziVVzOSEvlsJ"
      },
      "source": [
        "### documents.txt"
      ]
    },
    {
      "cell_type": "code",
      "execution_count": 4,
      "metadata": {
        "id": "PkTx5ndfvoJe"
      },
      "outputs": [],
      "source": [
        "content = \"\"\"\n",
        "Document 1:\n",
        "Polar bears are directly impacted by climate change due to their dependence on sea ice for hunting seals. As global temperatures rise, sea ice is melting earlier and forming later each year, reducing the time polar bears have to hunt. This has led to decreased body condition, lower cub survival rates, and in some cases, increased mortality.\n",
        "\n",
        "Document 2:\n",
        "The loss of sea ice habitat is one of the most significant threats to polar bear populations. As the ice retreats, polar bears are forced to travel greater distances to find food, leading to increased energy expenditure. This can result in malnutrition and a decline in reproductive success, further endangering the species.\n",
        "\n",
        "Document 3:\n",
        "Climate change is not only affecting polar bears' hunting grounds but also their denning areas. Warmer temperatures and unstable snow conditions are making it more difficult for pregnant females to find suitable denning sites, which is crucial for the birth and survival of their cubs. This adds an additional layer of risk to polar bear populations already struggling due to loss of sea ice.\n",
        "\n",
        "Document 4:\n",
        "As their traditional food sources become less accessible, some polar bears have been observed scavenging on human waste or preying on seabirds and their eggs. While this behavior may provide some short-term relief, it does not replace the high-fat diet they obtain from seals, which is essential for their long-term survival in the harsh Arctic environment.\n",
        "\n",
        "Document 5:\n",
        "Recent studies suggest that if current trends in greenhouse gas emissions continue, polar bears could face extinction within this century. Conservation efforts are focusing on reducing global emissions and protecting critical polar bear habitats, but these efforts may not be sufficient if the climate continues to warm at the current rate.\n",
        "\"\"\"\n",
        "\n",
        "with open('documents.txt', 'w') as f:\n",
        "    f.write(content)"
      ]
    }
  ],
  "metadata": {
    "colab": {
      "provenance": []
    },
    "kernelspec": {
      "display_name": "Python 3",
      "name": "python3"
    },
    "language_info": {
      "codemirror_mode": {
        "name": "ipython",
        "version": 3
      },
      "file_extension": ".py",
      "mimetype": "text/x-python",
      "name": "python",
      "nbconvert_exporter": "python",
      "pygments_lexer": "ipython3",
      "version": "3.10.11"
    }
  },
  "nbformat": 4,
  "nbformat_minor": 0
}
