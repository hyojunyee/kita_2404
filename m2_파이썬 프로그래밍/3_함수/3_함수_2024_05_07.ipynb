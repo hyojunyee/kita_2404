{
  "nbformat": 4,
  "nbformat_minor": 0,
  "metadata": {
    "colab": {
      "provenance": []
    },
    "kernelspec": {
      "name": "python3",
      "display_name": "Python 3"
    },
    "language_info": {
      "name": "python"
    }
  },
  "cells": [
    {
      "cell_type": "markdown",
      "source": [
        "파이썬에서 함수는 크게 내장 함수(Built-in Functions)와 외장 함수(External Functions)로 나뉩니다.\n",
        "\n",
        "파이썬 표준 라이브러리\n",
        "https://docs.python.org/ko/3.10/library/index.html\n",
        "1. 내장 함수 (Built-in Functions):\n",
        "- 내장 함수는 파이썬 인터프리터에 포함되어 있어, 별도의 모듈을 임포트(import)하지 않고도 사용 예를 들어, print(), len(), type(), range(), zip() 등이 내장 함수입니다.\n",
        "- 이러한 함수들은 기본적인 작업을 수행하며, 파이썬 프로그래밍의 기본적인 빌딩 블록(building blocks)으로 작동\n",
        "\n",
        "2. 외장 함수 (External Functions):\n",
        "- 표준 라이브러리에 포함된 모듈과 함수를 가리키는 것으로 모듈을 임포트하여 사용\n",
        "- 파이썬 표준 라이브러리의 os, sys, math, random, datetime 등의 모듈에는 다양한 외장 함수가 포함\n",
        "\n",
        "3. 외부 라이브러리나 패키지\n",
        "- 표준 라이브러리에 포함되지 않아 기본 설치에는 포함되지 않는다.\n",
        "- 이를 사용하려면 먼저 해당 라이브러리나 패키지를 설치\n",
        "- 외부 라이브러리는 통상적으로 파이썬의 패키지 관리자인 pip를 사용하여 설치\n",
        "- 설치 후에는 외장 함수와 마찬가지로 필요한 모듈을 임포트하여 사용\n",
        "- 예: numpy, pandas, requests 등의 외부 라이브러리에 포함된 함수들.\n",
        "\n",
        "3. 사용자 정의 함수(User-Defined Functions):\n",
        "- 사용자가 직접 정의하여 사용하는 함수\n",
        "- def 키워드를 사용하여 함수를 정의하며, 필요에 따라 매개변수와 반환 값을 지정\n",
        "\n",
        "4. 람다 함수(Lambda Functions):\n",
        "- 이름 없는 간단한 함수를 정의할 때 사용하는 익명 함수\n",
        "- lambda 키워드를 사용하여 한 줄로 함수를 정의하며, 주로 간단한 연산이 필요할 때 사용"
      ],
      "metadata": {
        "id": "HgZCmXmmD_63"
      }
    },
    {
      "cell_type": "code",
      "execution_count": null,
      "metadata": {
        "colab": {
          "base_uri": "https://localhost:8080/"
        },
        "id": "jItkHrfwDvsQ",
        "outputId": "de4e2293-3908-4991-914c-c07d158f9029"
      },
      "outputs": [
        {
          "output_type": "stream",
          "name": "stdout",
          "text": [
            "Hell, World!\n",
            "4\n",
            "<class 'int'>\n"
          ]
        }
      ],
      "source": [
        "# 내장 함수 예제\n",
        "print(\"Hell, World!\")       # 출력 함수\n",
        "print(len([1, 2, 3, 4,]))   # 길이 계산 함수\n",
        "print(type(10))             # 타입 확인 함수"
      ]
    },
    {
      "cell_type": "code",
      "source": [
        "# Q. 내장함수 다음을 수행하세요.\n",
        "a = [1, 2, 3, 4 ,5]\n",
        "print(sum(a))\n",
        "print(max(a))\n",
        "print(min(a))\n",
        "print(sorted(a))\n",
        "print(list(reversed(a)))"
      ],
      "metadata": {
        "colab": {
          "base_uri": "https://localhost:8080/"
        },
        "id": "D5zyDxX6G4PD",
        "outputId": "ab92217d-dd6d-4776-d3b2-b0ce04fec2eb"
      },
      "execution_count": null,
      "outputs": [
        {
          "output_type": "stream",
          "name": "stdout",
          "text": [
            "15\n",
            "5\n",
            "1\n",
            "[1, 2, 3, 4, 5]\n",
            "[5, 4, 3, 2, 1]\n"
          ]
        }
      ]
    },
    {
      "cell_type": "code",
      "source": [
        "print(type(42))\n",
        "print(abs(-5))            # 절대값\n",
        "print(round(3.14159, 2))  # 반올림\n",
        "print(pow(2,3))           # 2의 3승"
      ],
      "metadata": {
        "id": "vVd1aWjQHlGb"
      },
      "execution_count": null,
      "outputs": []
    },
    {
      "cell_type": "code",
      "source": [
        "# 외장 함수 예제\n",
        "import math           # 수학 모듈 임포트\n",
        "print(math.sqrt(16))  # 제곱근 계산 함수\n",
        "\n",
        "import random                   # 랜덤 모듈 임포트\n",
        "print(random.randint(1, 10))    # 랜덤 정수 생성 함수, 양끝 포함\n",
        "\n",
        "import datetime               # 날짜와 시간 모듈 임포트\n",
        "print(datetime.datetime.now())  # 현재 날짜와 시간 출력 함수"
      ],
      "metadata": {
        "colab": {
          "base_uri": "https://localhost:8080/"
        },
        "id": "LnjIy9H1Gg6Y",
        "outputId": "f48b67a9-3eea-4e92-b973-c943d0e0ab3a"
      },
      "execution_count": null,
      "outputs": [
        {
          "output_type": "stream",
          "name": "stdout",
          "text": [
            "4.0\n",
            "9\n",
            "2024-05-03 06:27:04.550927\n"
          ]
        }
      ]
    },
    {
      "cell_type": "code",
      "source": [
        "# Q. datetime.datetime.now()에서 연도, 월, 일, 시, 분, 초, 마이크로초를 각각 출력하세요\n",
        "import datetime\n",
        "now = datetime.datetime.now()\n",
        "print(now.year)\n",
        "print(now.month)\n",
        "print(now.day)\n",
        "print(now.hour)\n",
        "print(now.minute)\n",
        "print(now.second)\n",
        "print(now.microsecond)\n"
      ],
      "metadata": {
        "colab": {
          "base_uri": "https://localhost:8080/"
        },
        "id": "KjVowSqcIqi7",
        "outputId": "295a7998-872e-4269-f53f-ea903f4aba6a"
      },
      "execution_count": null,
      "outputs": [
        {
          "output_type": "stream",
          "name": "stdout",
          "text": [
            "2024\n",
            "5\n",
            "3\n",
            "6\n",
            "30\n",
            "8\n",
            "181164\n"
          ]
        }
      ]
    },
    {
      "cell_type": "code",
      "source": [
        "import os\n",
        "print(os.getcwd())\n",
        "print(os.listdir())"
      ],
      "metadata": {
        "colab": {
          "base_uri": "https://localhost:8080/"
        },
        "id": "hoj7AdmaKZ1w",
        "outputId": "bb20189c-dad7-4660-d51a-8336b2c2010f"
      },
      "execution_count": null,
      "outputs": [
        {
          "output_type": "stream",
          "name": "stdout",
          "text": [
            "/content\n",
            "['.config', 'new_folder', 'sample_data']\n"
          ]
        }
      ]
    },
    {
      "cell_type": "code",
      "source": [
        "os.mkdir('new_folder')        # 새폴더를 만듬"
      ],
      "metadata": {
        "id": "YBw8sjJhK66W"
      },
      "execution_count": null,
      "outputs": []
    },
    {
      "cell_type": "code",
      "source": [
        "os.removedirs('new_folder')   # 폴더를 지움"
      ],
      "metadata": {
        "id": "YmI8a2hZLjM-"
      },
      "execution_count": null,
      "outputs": []
    },
    {
      "cell_type": "code",
      "source": [
        "!ls"
      ],
      "metadata": {
        "colab": {
          "base_uri": "https://localhost:8080/"
        },
        "id": "6vkecCALLSya",
        "outputId": "c85e8787-ac19-4a37-ac08-341992610884"
      },
      "execution_count": null,
      "outputs": [
        {
          "output_type": "stream",
          "name": "stdout",
          "text": [
            "new_folder  sample_data\n"
          ]
        }
      ]
    },
    {
      "cell_type": "code",
      "source": [
        "# 외부 라이브러리 예제\n",
        "# 먼저 pip 사용하여 라이브러리를 설치합니다.\n",
        "# !pip install pandas   # 로컬에서는 느낌표가 필요 없다.\n",
        "# 콜랩에는 웬만한 것들이 다 설치가 되어있음.\n",
        "\n",
        "import pandas as pd\n",
        "\n",
        "# pandas의 DataFrame 객체 생성\n",
        "data = {'Name': ['Alice', 'Bob', 'Charlie'], 'Age': [25, 30, 35]}\n",
        "df = pd.DataFrame(data) # df로 pd.DataFrame에 있는 자료들을 쓸 수 있게 된다.\n",
        "\n",
        "# pandas의 head() 함수 사용하여 DataFrame의 처음 5행 출력(여기서는 3행만 존재)\n",
        "print(df.head())"
      ],
      "metadata": {
        "colab": {
          "base_uri": "https://localhost:8080/"
        },
        "id": "8vV_VOSCL7nl",
        "outputId": "5d8b9947-49e5-4298-d2f6-6acca93ff868"
      },
      "execution_count": null,
      "outputs": [
        {
          "output_type": "stream",
          "name": "stdout",
          "text": [
            "      Name  Age\n",
            "0    Alice   25\n",
            "1      Bob   30\n",
            "2  Charlie   35\n"
          ]
        }
      ]
    },
    {
      "cell_type": "code",
      "source": [
        "import numpy as np\n",
        "data = [1, 2, 3, 4]\n",
        "arr = np.array(data)\n",
        "print(arr)"
      ],
      "metadata": {
        "colab": {
          "base_uri": "https://localhost:8080/"
        },
        "id": "PCjCbt6QQ3p7",
        "outputId": "e215a272-e61c-45ce-b1bf-3b43423313aa"
      },
      "execution_count": null,
      "outputs": [
        {
          "output_type": "stream",
          "name": "stdout",
          "text": [
            "[1 2 3 4]\n"
          ]
        }
      ]
    },
    {
      "cell_type": "code",
      "source": [
        "# 사용자 정의 함수 예제\n",
        "def greet(name):\n",
        "  return f\"hello {name}!\"\n",
        "\n",
        "print(greet(\"홍길동\"))"
      ],
      "metadata": {
        "colab": {
          "base_uri": "https://localhost:8080/"
        },
        "id": "QgNUFh9qGiOp",
        "outputId": "04b42037-b8c2-4e6a-fee6-fffec04dcd9c"
      },
      "execution_count": null,
      "outputs": [
        {
          "output_type": "stream",
          "name": "stdout",
          "text": [
            "hello 홍길동!\n"
          ]
        }
      ]
    },
    {
      "cell_type": "markdown",
      "source": [
        "#### 람다함수"
      ],
      "metadata": {
        "id": "RwBfnAuwSgRV"
      }
    },
    {
      "cell_type": "code",
      "source": [
        "# 람다 함수는 간단한 한 줄의 함수를 작성할때 유용\n",
        "multiply = lambda x, y: x * y\n",
        "print(multiply(3,4))"
      ],
      "metadata": {
        "colab": {
          "base_uri": "https://localhost:8080/"
        },
        "id": "kctqcDAIGibZ",
        "outputId": "5c11e004-d37d-4902-e82b-3c4cfa6b1899"
      },
      "execution_count": null,
      "outputs": [
        {
          "output_type": "stream",
          "name": "stdout",
          "text": [
            "12\n"
          ]
        }
      ]
    },
    {
      "cell_type": "code",
      "source": [
        "# 조건 사용:\n",
        "is_even = lambda x: True if x % 2 == 0 else False\n",
        "print(is_even(4))\n",
        "print(is_even(5))"
      ],
      "metadata": {
        "colab": {
          "base_uri": "https://localhost:8080/"
        },
        "id": "BuMzTcoBTHa-",
        "outputId": "7d87421e-62d5-4511-cc04-9881fd8abb94"
      },
      "execution_count": null,
      "outputs": [
        {
          "output_type": "stream",
          "name": "stdout",
          "text": [
            "True\n",
            "False\n"
          ]
        }
      ]
    },
    {
      "cell_type": "markdown",
      "source": [
        "Task2_0503. 내장함수 5개를 활용해서 사용자 함수로 간단한 프로그램을 만드세요.\n",
        "\n",
        "[예시] 문서관리 프로그램\n",
        "\n",
        "len() - 문자열의 길이를 계산합니다.\\\n",
        "input() - 사용자로부터 입력을 받습니다.\\\n",
        "print() - 결과를 출력합니다.\\\n",
        "sum() - 주어진 조건에 따라 특정 개수를 계산합니다.\\\n",
        "Counter (from collections) - 문자의 빈도수를 계산합니다."
      ],
      "metadata": {
        "id": "zuqbAnDzTmz2"
      }
    },
    {
      "cell_type": "code",
      "source": [
        "# 내장함수\n",
        "print(dir(__builtins__))\n",
        "print(len(dir(__builtins__)))"
      ],
      "metadata": {
        "colab": {
          "base_uri": "https://localhost:8080/"
        },
        "id": "UGUaPGNl_7MK",
        "outputId": "ce057f5b-b3cb-417d-ab06-0ad07f582d1e"
      },
      "execution_count": 1,
      "outputs": [
        {
          "output_type": "stream",
          "name": "stdout",
          "text": [
            "['ArithmeticError', 'AssertionError', 'AttributeError', 'BaseException', 'BlockingIOError', 'BrokenPipeError', 'BufferError', 'BytesWarning', 'ChildProcessError', 'ConnectionAbortedError', 'ConnectionError', 'ConnectionRefusedError', 'ConnectionResetError', 'DeprecationWarning', 'EOFError', 'Ellipsis', 'EncodingWarning', 'EnvironmentError', 'Exception', 'False', 'FileExistsError', 'FileNotFoundError', 'FloatingPointError', 'FutureWarning', 'GeneratorExit', 'IOError', 'ImportError', 'ImportWarning', 'IndentationError', 'IndexError', 'InterruptedError', 'IsADirectoryError', 'KeyError', 'KeyboardInterrupt', 'LookupError', 'MemoryError', 'ModuleNotFoundError', 'NameError', 'None', 'NotADirectoryError', 'NotImplemented', 'NotImplementedError', 'OSError', 'OverflowError', 'PendingDeprecationWarning', 'PermissionError', 'ProcessLookupError', 'RecursionError', 'ReferenceError', 'ResourceWarning', 'RuntimeError', 'RuntimeWarning', 'StopAsyncIteration', 'StopIteration', 'SyntaxError', 'SyntaxWarning', 'SystemError', 'SystemExit', 'TabError', 'TimeoutError', 'True', 'TypeError', 'UnboundLocalError', 'UnicodeDecodeError', 'UnicodeEncodeError', 'UnicodeError', 'UnicodeTranslateError', 'UnicodeWarning', 'UserWarning', 'ValueError', 'Warning', 'ZeroDivisionError', '__IPYTHON__', '__build_class__', '__debug__', '__doc__', '__import__', '__loader__', '__name__', '__package__', '__spec__', 'abs', 'aiter', 'all', 'anext', 'any', 'ascii', 'bin', 'bool', 'breakpoint', 'bytearray', 'bytes', 'callable', 'chr', 'classmethod', 'compile', 'complex', 'copyright', 'credits', 'delattr', 'dict', 'dir', 'display', 'divmod', 'enumerate', 'eval', 'exec', 'execfile', 'filter', 'float', 'format', 'frozenset', 'get_ipython', 'getattr', 'globals', 'hasattr', 'hash', 'help', 'hex', 'id', 'input', 'int', 'isinstance', 'issubclass', 'iter', 'len', 'license', 'list', 'locals', 'map', 'max', 'memoryview', 'min', 'next', 'object', 'oct', 'open', 'ord', 'pow', 'print', 'property', 'range', 'repr', 'reversed', 'round', 'runfile', 'set', 'setattr', 'slice', 'sorted', 'staticmethod', 'str', 'sum', 'super', 'tuple', 'type', 'vars', 'zip']\n",
            "158\n"
          ]
        }
      ]
    },
    {
      "cell_type": "code",
      "source": [
        "def string_statistics(user_input):\n",
        "    # 문자열 길이 반환\n",
        "    length = len(user_input)\n",
        "    # 가장 자주 등장하는 문자 찾기(공백이 제일 많아서 공백이 출력됨)\n",
        "    from collections import Counter\n",
        "    frequency = Counter(user_input)\n",
        "    most_common = frequency.most_common(1)[0][0]\n",
        "    # 숫자 개수 세기\n",
        "    num_count = sum(c.isdigit() for c in user_input)\n",
        "    # 대문자 개수 세기\n",
        "    uppercase_count = sum(c.isupper() for c in user_input)\n",
        "    # 대문자 개수 세기\n",
        "    lowercase_count = sum(c.islower() for c in user_input)\n",
        "    # 결과 출력\n",
        "    print(f'입력된 문자열의 길이: {length}')\n",
        "    print(f'가장 자주 등장하는 문자: {most_common}')\n",
        "    print(f'숫자의 개수: {num_count}')\n",
        "    print(f'대문자의 개수: {uppercase_count}')\n",
        "    print(f'소문자의 개수: {lowercase_count}')\n",
        "\n",
        "# 사용자로부터 문자열 입력 받기\n",
        "user_input = input(\"문자열을 입력하세요 \")\n",
        "# 문자열 통계 함수 출력\n",
        "string_statistics(user_input)"
      ],
      "metadata": {
        "colab": {
          "base_uri": "https://localhost:8080/"
        },
        "id": "6rm5OWRtAZNV",
        "outputId": "f9cc386c-931b-4091-c42e-7cf796915843"
      },
      "execution_count": 3,
      "outputs": [
        {
          "output_type": "stream",
          "name": "stdout",
          "text": [
            "문자열을 입력하세요 Hamas’s abrupt acceptance of the cease-fire deal came hours after Israel ordered an evacuation of some 100,000 Palestinians from eastern neighborhoods of Rafah, signaling an invasion was imminent.\n",
            "입력된 문자열의 길이: 196\n",
            "가장 자주 등장하는 문자:  \n",
            "숫자의 개수: 6\n",
            "대문자의 개수: 4\n",
            "소문자의 개수: 154\n"
          ]
        }
      ]
    },
    {
      "cell_type": "markdown",
      "source": [
        "Task3_0503. 외장함수 3개이상을 활용해서 간단한 프로그램을 만드세요."
      ],
      "metadata": {
        "id": "9dzrHZ6xUsGm"
      }
    },
    {
      "cell_type": "code",
      "source": [
        "import os         #\n",
        "import datetime   # 날짜\n",
        "import shutil     # 복사\n",
        "\n",
        "def daily_scheduler():\n",
        "    # 현재 날짜와 시간을 가져옵니다.\n",
        "    today = datetime.datetime.now()\n",
        "    date_string = today.strftime(\"%Y-%m-%d %H:%M:%S\")\n",
        "    print(f\"오늘의 날짜와 시간 : {date_string}\")\n",
        "    # 작업 파일의 이름을 정합니다.\n",
        "    filename = f\"task_{today.strftime('%Y%m%d')}.txt\"\n",
        "    # 파일이 이미 존재하는지 확인합니다.\n",
        "    if os.path.exists(filename):\n",
        "        print(f\"'{filename}' 파일이 이미 존재합니다. 백업을 생성합니다.\")\n",
        "        # 백업 파일 생성\n",
        "        shutil.copy(filename, filename + \".bak\")\n",
        "    else:\n",
        "        print(f\"'{filename}' 파일이 존재하지 않습니다. 새로운 파일을 생성합니다.\")\n",
        "    # 사용자로부터 오늘의 주요 작업을 입력받습니다.\n",
        "    task = input(\"오늘의 주요 작업을 입력하세요 : \")\n",
        "    # 작업 내용을 파일에 저장합니다.\n",
        "    with open(filename, 'a') as file:\n",
        "        file.write(f\"{date_string}: {task}\\n\")\n",
        "    print(f\"'{filename}' 파일에 작업이 저장되었습니다.\")\n",
        "if __name__ == \"__main__\":\n",
        "    daily_scheduler()"
      ],
      "metadata": {
        "id": "DC_3heeLWVTj",
        "colab": {
          "base_uri": "https://localhost:8080/"
        },
        "outputId": "c742446f-284d-4147-bae8-c2bfb5317359"
      },
      "execution_count": 5,
      "outputs": [
        {
          "output_type": "stream",
          "name": "stdout",
          "text": [
            "오늘의 날짜와 시간 : 2024-05-07 03:33:30\n",
            "'task_20240507.txt' 파일이 존재하지 않습니다. 새로운 파일을 생성합니다.\n",
            "오늘의 주요 작업을 입력하세요 : 파이썬_함수\n",
            "'task_20240507.txt' 파일에 작업이 저장되었습니다.\n"
          ]
        }
      ]
    },
    {
      "cell_type": "markdown",
      "source": [
        "Task4_0503. 리스트를 작성하고 람다 함수를 이용해서 한번에 함수를 적용하여 결과값을 출력하세요."
      ],
      "metadata": {
        "id": "pS-ruRIAWAEX"
      }
    },
    {
      "cell_type": "code",
      "source": [
        "numbers = [1, 2, 3, 4, 5]\n",
        "squared_numbers = map(lambda x: x*x, numbers)\n",
        "print(list(squared_numbers))"
      ],
      "metadata": {
        "colab": {
          "base_uri": "https://localhost:8080/"
        },
        "id": "rnGI9jaIWVo1",
        "outputId": "cef58d00-a67f-433b-9e46-e47b7180f0c1"
      },
      "execution_count": null,
      "outputs": [
        {
          "output_type": "stream",
          "name": "stdout",
          "text": [
            "[1, 4, 9, 16, 25]\n"
          ]
        }
      ]
    },
    {
      "cell_type": "code",
      "source": [
        "# 짝수\n",
        "numbers = [1, 2, 3, 4, 5]\n",
        "filtered_number = filter(lambda x: x % 2 == 0, numbers)\n",
        "print(list(filtered_number))"
      ],
      "metadata": {
        "colab": {
          "base_uri": "https://localhost:8080/"
        },
        "id": "fDPYgXLIJQAh",
        "outputId": "20bc38b3-91fd-4073-b1fd-443ede74939e"
      },
      "execution_count": 8,
      "outputs": [
        {
          "output_type": "stream",
          "name": "stdout",
          "text": [
            "[2, 4]\n"
          ]
        }
      ]
    },
    {
      "cell_type": "markdown",
      "source": [
        "Task5_0503. 외부 라이브러리를 임포트해서 간단한 프로그램을 만드세요."
      ],
      "metadata": {
        "id": "NJmWnHv_WAjq"
      }
    },
    {
      "cell_type": "code",
      "source": [
        "# 예시\n",
        "# from bs4 import BeautifulSoup\n",
        "# html_doc = \"<html><head><title>Hello World</title></head></html>\"\n",
        "# soup = BeautifulSoup(html_doc, 'html.parser')\n",
        "# print(soup.title.text)"
      ],
      "metadata": {
        "id": "LGjQvf-0TmGg"
      },
      "execution_count": null,
      "outputs": []
    },
    {
      "cell_type": "code",
      "source": [
        "!pip install requests -q # -q는 외부 라이브러리를 설치할때 뜨는글자를 좀 간략하게 보여줌"
      ],
      "metadata": {
        "id": "vB1fqN-2Kdvs"
      },
      "execution_count": 9,
      "outputs": []
    },
    {
      "cell_type": "code",
      "source": [
        "import requests\n",
        "from bs4 import BeautifulSoup\n",
        "\n",
        "def fetch_website_content(url):\n",
        "    # URL에서 데이터를 가져옵니다.\n",
        "    response = requests.get(url)\n",
        "    if response.status_code == 200:\n",
        "      # HTML 내용을 BeautifulSoup 객체로 파싱합니다.\n",
        "      soup = BeautifulSoup(response.text, 'html.parser')\n",
        "\n",
        "      # 예제: 페이지 타이틀을 출력합니다.\n",
        "      print(\"Page Title:\", soup.title.string if soup. title else \"No title found\")\n",
        "    else:\n",
        "      print(\"Failed to retrieve th webpage\")\n",
        "      print(\"Status code:\", response.statuse_code)\n",
        "\n",
        "url = input(\"주소를 입력해주세요:\")\n",
        "if __name__ == \"__main__\":\n",
        "    fetch_website_content(url)"
      ],
      "metadata": {
        "colab": {
          "base_uri": "https://localhost:8080/"
        },
        "id": "pCZZLfK2Kp-w",
        "outputId": "ad3fc4f9-2ca7-432e-aeb3-20b132edd9f2"
      },
      "execution_count": 12,
      "outputs": [
        {
          "output_type": "stream",
          "name": "stdout",
          "text": [
            "주소를 입력해주세요:https://www.naver.com/\n",
            "Page Title: NAVER\n"
          ]
        }
      ]
    },
    {
      "cell_type": "markdown",
      "source": [
        "#### 파이썬 패키지,  모듈, 함수, 클래스\n",
        "- 코드 작성 시 이미 만들어져 있는 함수들을 활용하면 보다 효율적이고 빠르게 개발 가능\n",
        "- 이미 만들어져 있고 안정성이 검증된 함수들을 성격에 맞게 하나의 파이썬 파일에 묶어 만들어 놓을 것을 모듈이라 함\n",
        "- 외부 모듈에 있는 함수들을 활용하려면 이 모듈을 먼저 가져와서 사용해야 하는데 이것을 모듈을 임포트한다고 한다.\n",
        "- 파이썬 모듈이 하나의 파이썬 파일이라면 패키지는 디렉토리로 볼 수 있다.\n",
        "\n",
        "패키지\n",
        "1. 라이브러리라고도 부름\n",
        "2. 특정 기능과 관련된 여러 모듈을 한 그룹으로 묶은 것\n",
        "3. 패키지 안에 서브패키지가 있을 수도 있다.\n",
        "4. import 패키지/모듈, from 패키지/모듈 import 서브패키지/모듈\n",
        "  \n",
        "   \n",
        "모듈\n",
        "1. 여러 기능들이 뭉쳐진 하나의. py파일\n",
        "2. 함수, 클래스, 변수 등 포함\n",
        "3. import 모듈\n",
        "\n",
        "함수\n",
        "1. 하나의 기능을 가진 코드의 집합\n",
        "2. 함수를 사용한다 = 함수를 호출한다\n",
        "3. 함수 사용 형태: 함수( )\n",
        "   - 필요한 경우 () 안에 매개변수 또는 옵션\n",
        "4. 종류\n",
        "   - 내장 함수(built in function)\n",
        "   - 외장 함수: import 해주어야 함\n",
        "   \n",
        "클래스   \n",
        "- 파이썬은 객체 지향 언어로클래스를 기반으로 객체를 만들어 사용한다.\n",
        "- 한 파이썬 파일(. py) 내에서 \"class class명():\"을 통해 클래스 선언"
      ],
      "metadata": {
        "id": "OlDE2aSCdvAS"
      }
    },
    {
      "cell_type": "markdown",
      "source": [
        "#### 함수 vs 메소드\n",
        "- 함수 (Function)\n",
        "    - 함수는 특정 작업을 수행하거나 값을 계산하기 위해 정의된 코드의 블록\n",
        "    - 함수는 def 키워드를 사용하여 정의\n",
        "    - 함수는 전역적으로 호출할 수 있거나 다른 함수 내부에서 호출할 수 있다.    \n",
        "- 메소드 (Method)\n",
        "    - 메소드는 객체에 속한 함수, 메소드는 특정 객체의 기능으로 정의\n",
        "    - 메소드는 객체와 연결되어 있으며, . (점) 표기법을 사용하여 해당 객체에 대한 메소드를 호출\n",
        "    - 메소드는 첫 번째 매개변수로 self를 사용하여 객체 자체를 참조 (클래스 내부에서 메소드를 정의할 때)\n",
        "- 주요 차이점\n",
        "    - 정의: 함수는 독립적으로 정의되지만, 메소드는 클래스 내부에서 정의\n",
        "    - 호출: 함수는 이름만으로 호출될 수 있지만, 메소드는 객체를 통해 호출\n",
        "    - 참조: 메소드는 첫 번째 매개변수로 객체 자신을 참조(self), 반면 함수는 이런 자체 참조 매개변수를 갖지 않는다."
      ],
      "metadata": {
        "id": "A5LOhGVcdyfO"
      }
    },
    {
      "cell_type": "code",
      "source": [
        "# 함수 호출\n",
        "def my_function():\n",
        "    print(\"Hello from a function\")\n",
        "\n",
        "my_function()"
      ],
      "metadata": {
        "colab": {
          "base_uri": "https://localhost:8080/"
        },
        "id": "YrAzg0XadzL9",
        "outputId": "04dee8fd-5f45-4c55-d4c7-8255ca3382b5"
      },
      "execution_count": 14,
      "outputs": [
        {
          "output_type": "stream",
          "name": "stdout",
          "text": [
            "Hello from a function\n"
          ]
        }
      ]
    },
    {
      "cell_type": "code",
      "source": [
        "# 메소드 호출\n",
        "class MyClass:\n",
        "    def my_method(self):\n",
        "        print(\"Hello from a method\")\n",
        "    def sumn(self):\n",
        "\n",
        "\n",
        "obj = MyClass()\n",
        "obj.my_method()"
      ],
      "metadata": {
        "colab": {
          "base_uri": "https://localhost:8080/"
        },
        "id": "-EK5pJUjg1JY",
        "outputId": "2412c5dc-3967-4043-eb5d-c21b4e900ae8"
      },
      "execution_count": 15,
      "outputs": [
        {
          "output_type": "stream",
          "name": "stdout",
          "text": [
            "Hello from a method\n"
          ]
        }
      ]
    },
    {
      "cell_type": "markdown",
      "source": [
        "####내장함수연습"
      ],
      "metadata": {
        "id": "xtq4uvWoiUSc"
      }
    },
    {
      "cell_type": "code",
      "source": [
        "print(abs(-3))\n",
        "print(all([1,2,3,0])) # x가 모두 참이면 True, 거짓이 하나라도 있으면 False\n",
        "print(any([1,2,3,0])) # x가 하나라도 참이면 True, 모두 거짓이면 False\n",
        "print(chr(65))        # 아스키  코드\n",
        "print(float(3))\n",
        "print(int(3.9))\n",
        "print(max(1,10))\n",
        "print(min(1,10))\n",
        "print(pow(10,2))      # 거듭제곱\n",
        "print(round(2.675,2))"
      ],
      "metadata": {
        "colab": {
          "base_uri": "https://localhost:8080/"
        },
        "id": "ONhCSc5hiT28",
        "outputId": "29c5a648-8318-4957-ba16-bbd49f858f8a"
      },
      "execution_count": 17,
      "outputs": [
        {
          "output_type": "stream",
          "name": "stdout",
          "text": [
            "3\n",
            "False\n",
            "True\n",
            "A\n",
            "3.0\n",
            "3\n",
            "10\n",
            "1\n",
            "100\n",
            "2.67\n"
          ]
        }
      ]
    },
    {
      "cell_type": "code",
      "source": [
        "# 클래스 정의\n",
        "class Car:\n",
        "    def __init__(self, brand, model):\n",
        "        self.brand = brand\n",
        "        self.model = model\n",
        "\n",
        "# 인스턴스 생성\n",
        "car1 = Car(\"Toyota\", \"Corolla\")\n",
        "car2 = Car(\"Hyundai\", \"Sonata\")\n",
        "\n",
        "print(car1.brand, car1.model)\n",
        "print(car2.brand, car2.model)"
      ],
      "metadata": {
        "colab": {
          "base_uri": "https://localhost:8080/"
        },
        "id": "2RqV81VZjyLS",
        "outputId": "e8d76818-5a7f-432b-a453-c2127da4555d"
      },
      "execution_count": 23,
      "outputs": [
        {
          "output_type": "stream",
          "name": "stdout",
          "text": [
            "Toyota Corolla\n",
            "Hyundai Sonata\n"
          ]
        }
      ]
    },
    {
      "cell_type": "code",
      "source": [
        "# 함수가 다른 객체와 마찬가지로 변수에 할당되거나, 다른 함수로 전달되거나, 다른 함수로부터 반환될 수 있음.\n",
        "# pow를 다른 변수에 할당\n",
        "my_pow = pow\n",
        "result = my_pow(2,3)\n",
        "print(result)\n",
        "# 함수를 인자로 전달 # 내장 함수를 사용자 함수의 변수 값으로 사용한 경우\n",
        "def apply_func(func, x, y):\n",
        "    return func(x, y)\n",
        "result = apply_func(pow, 3, 4) # pow(3,4)\n",
        "print(result)"
      ],
      "metadata": {
        "colab": {
          "base_uri": "https://localhost:8080/"
        },
        "id": "aQS1Y-P2kQNK",
        "outputId": "c1d391a7-0755-4a87-f7c9-301cc71f987a"
      },
      "execution_count": 25,
      "outputs": [
        {
          "output_type": "stream",
          "name": "stdout",
          "text": [
            "8\n",
            "81\n"
          ]
        }
      ]
    },
    {
      "cell_type": "code",
      "source": [
        "age = 30\n",
        "print(\"I am \" + str(age) + \" years old.\")"
      ],
      "metadata": {
        "colab": {
          "base_uri": "https://localhost:8080/"
        },
        "id": "QPQD8MvilO9j",
        "outputId": "0eb91190-f09f-488b-94fe-de652412c0f2"
      },
      "execution_count": 27,
      "outputs": [
        {
          "output_type": "stream",
          "name": "stdout",
          "text": [
            "I am 30 years old.\n"
          ]
        }
      ]
    },
    {
      "cell_type": "markdown",
      "source": [
        "#### sort, sorted 모두 key, reverse 매개변수를 갖고 있따.\n",
        "\n",
        "- revers : 기본값은 reverse=False(오름차순), reverse=True를 매개변수로 입력하면 내림차순으로 정렬\n",
        "- key : 정렬을 목적으로 하는 함수를 값으로 넣는다. lambda를 이용할 수 있고 key 값을 기준으로 정렬되고 기본값은 오름차순"
      ],
      "metadata": {
        "id": "ATIIAFI6lxkR"
      }
    },
    {
      "cell_type": "code",
      "source": [
        "my_list = [3, 1, 4, 2]\n",
        "print(sorted(my_list))\n",
        "print(my_list)"
      ],
      "metadata": {
        "colab": {
          "base_uri": "https://localhost:8080/"
        },
        "id": "FdY3un70lw88",
        "outputId": "aa2ba083-4354-4905-ee90-294f9704bf90"
      },
      "execution_count": 28,
      "outputs": [
        {
          "output_type": "stream",
          "name": "stdout",
          "text": [
            "[1, 2, 3, 4]\n",
            "[3, 1, 4, 2]\n"
          ]
        }
      ]
    },
    {
      "cell_type": "code",
      "source": [
        "# Q. 점수를 기준으로 리스트를 정렬하세요\n",
        "# sorted() 함수와 함께 사용:\n",
        "students = [('Alice',90),('Bob',85),('Charlie',88)]\n",
        "# sorted_student = sorted(students, key=lambda x: x[1]) # key는 sort 기준\n",
        "sorted_student = sorted(students, key=lambda x: x[1], reverse=True) #내림차순\n",
        "print(sorted_student)"
      ],
      "metadata": {
        "colab": {
          "base_uri": "https://localhost:8080/"
        },
        "id": "8gI9TR3EmabY",
        "outputId": "50e4949d-3d16-4d96-c704-4090ae35feb3"
      },
      "execution_count": 47,
      "outputs": [
        {
          "output_type": "stream",
          "name": "stdout",
          "text": [
            "[('Alice', 90), ('Charlie', 88), ('Bob', 85)]\n"
          ]
        }
      ]
    },
    {
      "cell_type": "markdown",
      "source": [
        "Task1_0507. 튜플 형태인 strings를 다양한 문자가 포함된 순서로 정렬하세요.\n",
        "\n",
        "strings = ('a', 'ca', 'bar', 'aaaa', 'ababa')"
      ],
      "metadata": {
        "id": "JUkoiOFGqTKP"
      }
    },
    {
      "cell_type": "code",
      "source": [
        "strings = ('a','ca','bar','aaaa','ababa')\n",
        "# sorted.strings = set(string)\n",
        "\n"
      ],
      "metadata": {
        "id": "dqVXAQ3AqWS1"
      },
      "execution_count": null,
      "outputs": []
    },
    {
      "cell_type": "code",
      "source": [
        "my_string = 'Python'\n",
        "print(type(my_string))"
      ],
      "metadata": {
        "colab": {
          "base_uri": "https://localhost:8080/"
        },
        "id": "I0R7KlAAtMqj",
        "outputId": "1e95f6b3-50bc-42c9-c80e-92dd4dd5d4e6"
      },
      "execution_count": 52,
      "outputs": [
        {
          "output_type": "stream",
          "name": "stdout",
          "text": [
            "<class 'str'>\n"
          ]
        }
      ]
    },
    {
      "cell_type": "code",
      "source": [
        "print(list(range(5)))\n",
        "print(list(range(1,6)))\n",
        "print(list(range(1,10,2)))\n",
        "print(list(range(0,-10,-1)))"
      ],
      "metadata": {
        "colab": {
          "base_uri": "https://localhost:8080/"
        },
        "id": "ayBhZsKTtXkh",
        "outputId": "4f3d8f7d-bac2-4348-f104-5f77b37150c6"
      },
      "execution_count": 53,
      "outputs": [
        {
          "output_type": "stream",
          "name": "stdout",
          "text": [
            "[0, 1, 2, 3, 4]\n",
            "[1, 2, 3, 4, 5]\n",
            "[1, 3, 5, 7, 9]\n",
            "[0, -1, -2, -3, -4, -5, -6, -7, -8, -9]\n"
          ]
        }
      ]
    },
    {
      "cell_type": "code",
      "source": [
        "# Q. 실행 가능한 숫자를 문자열('5+5') 입력으로 받아 문자열을 숫자 연산으로 실행한 결과값을 출력하세요.\n",
        "# eval 함수 -> 문자열 값도 숫자값으로 계산하게 해줌.\n",
        "print(eval(input( '연산을 입력하세요. >  ')))"
      ],
      "metadata": {
        "colab": {
          "base_uri": "https://localhost:8080/"
        },
        "id": "zU2OZ-b8uO5W",
        "outputId": "4d0c6530-c256-4ce0-909d-9aa99936668e"
      },
      "execution_count": 56,
      "outputs": [
        {
          "output_type": "stream",
          "name": "stdout",
          "text": [
            "연산을 입력하세요. >  5+6*5\n",
            "35\n"
          ]
        }
      ]
    },
    {
      "cell_type": "code",
      "source": [
        "expression = input(\"계산할 수식을 입력하세요: \")\n",
        "result = eval(expression)\n",
        "print(f'계산결과: {result}')"
      ],
      "metadata": {
        "colab": {
          "base_uri": "https://localhost:8080/"
        },
        "id": "vx-2brghuwR9",
        "outputId": "7d714e19-9b83-4165-ac98-94ba94eff51d"
      },
      "execution_count": 57,
      "outputs": [
        {
          "output_type": "stream",
          "name": "stdout",
          "text": [
            "계산할 수식을 입력하세요: 3*3\n",
            "계산결과: 9\n"
          ]
        }
      ]
    },
    {
      "cell_type": "code",
      "source": [
        "data = [1, 2, 3, 4, 5]\n",
        "operation = input(\"실행할 리스트 연산을 입력하세요 (예: 'data.append(6), 'data.pop()): .> \")\n",
        "eval(operation)\n",
        "print(f'수정된 데이터: {data}')"
      ],
      "metadata": {
        "colab": {
          "base_uri": "https://localhost:8080/"
        },
        "id": "WMSTJGKFvJ9V",
        "outputId": "e5d70daf-197e-45ad-c901-ef3bfeb40fe3"
      },
      "execution_count": 60,
      "outputs": [
        {
          "output_type": "stream",
          "name": "stdout",
          "text": [
            "실행할 리스트 연산을 입력하세요 (예: 'data.append(6), 'data.pop()): .> data.append(6)\n",
            "수정된 데이터: [1, 2, 3, 4, 5, 6]\n"
          ]
        }
      ]
    },
    {
      "cell_type": "markdown",
      "source": [
        "Task2_0507. a,b 변수와 연산자를 입력하면 사칙연산을 수행하는 코드를 작성하세요.(eval 사용하는 경우와 안하는 경우)"
      ],
      "metadata": {
        "id": "Ak3rWc4owh9-"
      }
    },
    {
      "cell_type": "code",
      "source": [
        "\n"
      ],
      "metadata": {
        "id": "7pIJ0eW_wkE1"
      },
      "execution_count": null,
      "outputs": []
    },
    {
      "cell_type": "code",
      "source": [
        "for idx, element in enumerate(['ele1','ele2','ele3']):\n",
        "  print(idx+1,element)"
      ],
      "metadata": {
        "colab": {
          "base_uri": "https://localhost:8080/"
        },
        "id": "4lXryYiRwz9j",
        "outputId": "f54801b7-f6b3-4249-ae9e-29fa4a6aa572"
      },
      "execution_count": 63,
      "outputs": [
        {
          "output_type": "stream",
          "name": "stdout",
          "text": [
            "1 ele1\n",
            "2 ele2\n",
            "3 ele3\n"
          ]
        }
      ]
    },
    {
      "cell_type": "code",
      "source": [
        "# Q. enumerate와 f-string을 사용해서 특정 리스트에서 원하는 형태로 출력을 하세요.(인덱스와 내용을 믹스하여)\n",
        "list02 = ['사과', '키위', '딸기', '참외', '수박']\n",
        "\n",
        "print(\"과일의 종류\")\n",
        "for idx, fruit in enumerate(list02):\n",
        "    print(f'{idx}. {fruit}')"
      ],
      "metadata": {
        "colab": {
          "base_uri": "https://localhost:8080/"
        },
        "id": "HK76iJwtxRBK",
        "outputId": "aaae731f-4889-4354-aa68-c77cd02cc96f"
      },
      "execution_count": 69,
      "outputs": [
        {
          "output_type": "stream",
          "name": "stdout",
          "text": [
            "과일의 종류\n",
            "0. 사과\n",
            "1. 키위\n",
            "2. 딸기\n",
            "3. 참외\n",
            "4. 수박\n"
          ]
        }
      ]
    },
    {
      "cell_type": "markdown",
      "source": [
        "Task3_0507. list1에 대해서 아래와 같이 출력하는 코드를 작성하세요.\n",
        "\n",
        "인사평가 1번째 해당자는 김부장입니다. 회의실A로 오시기 바랍니다.\\\n",
        "인사평가 2번째 해당자는 이차장입니다. 회의실A로 오시기 바랍니다.\\\n",
        "인사평가 3번째 해당자는 김과장입니다. 회의실A로 오시기 바랍니다.\\\n",
        "인사평가 4번째 해당자는 이대리입니다. 회의실A로 오시기 바랍니다.\\\n",
        "인사평가 5번째 해당자는 오사원입니다. 회의실A로 오시기 바랍니다.\\\n",
        "인사평가 6번째 해당자는 김인턴입니다. 회의실A로 오시기 바랍니다."
      ],
      "metadata": {
        "id": "hQ86neG2zYsj"
      }
    },
    {
      "cell_type": "code",
      "source": [
        "list1 = ['김부장','이차장','김과장','이대리','오사원','김인턴']\n",
        "\n",
        "for idx, emp in enumerate(list1):\n",
        "  print(f'인사평가 {idx+1}번째 해당자는 {emp}입니다. 회의실 A로 오시기 바랍니다')"
      ],
      "metadata": {
        "colab": {
          "base_uri": "https://localhost:8080/"
        },
        "id": "9OaQ0HWdzZUv",
        "outputId": "45c5bbf2-8413-406d-95e6-1dc0f5a1bdd1"
      },
      "execution_count": 87,
      "outputs": [
        {
          "output_type": "stream",
          "name": "stdout",
          "text": [
            "인사평가 1번째 해당자는 김부장입니다. 회의실 A로 오시기 바랍니다\n",
            "인사평가 2번째 해당자는 이차장입니다. 회의실 A로 오시기 바랍니다\n",
            "인사평가 3번째 해당자는 김과장입니다. 회의실 A로 오시기 바랍니다\n",
            "인사평가 4번째 해당자는 이대리입니다. 회의실 A로 오시기 바랍니다\n",
            "인사평가 5번째 해당자는 오사원입니다. 회의실 A로 오시기 바랍니다\n",
            "인사평가 6번째 해당자는 김인턴입니다. 회의실 A로 오시기 바랍니다\n"
          ]
        }
      ]
    },
    {
      "cell_type": "markdown",
      "source": [
        "Task4_0507. 주어진 문자열 리스트의 요소들을 대문자로 변환하세요."
      ],
      "metadata": {
        "id": "5IjWt-0UzvPL"
      }
    },
    {
      "cell_type": "code",
      "source": [
        "words = [\"hello\", \"world\", \"python\", \"map\"]\n",
        "upper_words = []\n",
        "for i in words:\n",
        "    upper_words.append(i.upper())\n",
        "print(upper_words)"
      ],
      "metadata": {
        "colab": {
          "base_uri": "https://localhost:8080/"
        },
        "id": "iV6VqH1HzwfI",
        "outputId": "d3112bb1-c187-4b2b-b935-6e8a28b2e3da"
      },
      "execution_count": 81,
      "outputs": [
        {
          "output_type": "stream",
          "name": "stdout",
          "text": [
            "['HELLO', 'WORLD', 'PYTHON', 'MAP']\n"
          ]
        }
      ]
    },
    {
      "cell_type": "markdown",
      "source": [
        "Task5_0507. 주어진 리스트에서 'p'로 시작하는 단어만 필터링하세요."
      ],
      "metadata": {
        "id": "PZ8pcBfnz81P"
      }
    },
    {
      "cell_type": "code",
      "source": [
        "# 필터링만 한 경우\n",
        "words = [\"python\", \"is\", \"powerful\", \"programming\", \"language\", \"pandas\"]\n",
        "for alph in words:\n",
        "    if alph[0] == 'p':\n",
        "        print(alph)"
      ],
      "metadata": {
        "colab": {
          "base_uri": "https://localhost:8080/"
        },
        "id": "Pnj_Ni-88IWG",
        "outputId": "3e2938c3-6e8b-42b6-f017-288908bf2cf9"
      },
      "execution_count": 94,
      "outputs": [
        {
          "output_type": "stream",
          "name": "stdout",
          "text": [
            "python\n",
            "powerful\n",
            "programming\n",
            "pandas\n"
          ]
        }
      ]
    },
    {
      "cell_type": "code",
      "source": [
        "# 리스트 까지 만든 경우\n",
        "words = [\"python\", \"is\", \"powerful\", \"programming\", \"language\", \"pandas\"]\n",
        "pwords_list = []\n",
        "for alph in words:\n",
        "    if alph[0] == 'p':\n",
        "        pwords_list.append(alph)\n",
        "\n",
        "print(pwords_list)"
      ],
      "metadata": {
        "colab": {
          "base_uri": "https://localhost:8080/"
        },
        "id": "2IZdpodiz972",
        "outputId": "0dd9a870-ed25-433b-8cb0-4b312b1e8f93"
      },
      "execution_count": 96,
      "outputs": [
        {
          "output_type": "stream",
          "name": "stdout",
          "text": [
            "['python', 'powerful', 'programming', 'pandas']\n"
          ]
        }
      ]
    },
    {
      "cell_type": "markdown",
      "source": [
        "Task6_0507. 내장함수를 이용해서 list = [0,1,2,3,4,5,6]에서 2를 삭제 후 출력하세요.(2가지 방법)"
      ],
      "metadata": {
        "id": "PHEskJuq0KFy"
      }
    },
    {
      "cell_type": "code",
      "source": [
        "# 방법 1\n",
        "list1 = [0,1,2,3,4,5,6]\n",
        "list1.remove(2)\n",
        "print(list1)"
      ],
      "metadata": {
        "colab": {
          "base_uri": "https://localhost:8080/"
        },
        "id": "0UL0TmJe0Lnx",
        "outputId": "169bfb3a-22ee-45e2-b96c-cd27ffb5d422"
      },
      "execution_count": 103,
      "outputs": [
        {
          "output_type": "stream",
          "name": "stdout",
          "text": [
            "[0, 1, 3, 4, 5, 6]\n"
          ]
        }
      ]
    },
    {
      "cell_type": "code",
      "source": [
        "# 방법 2\n",
        "list1 = [0,1,2,3,4,5,6]\n",
        "del list1[2]\n",
        "print(list1)"
      ],
      "metadata": {
        "colab": {
          "base_uri": "https://localhost:8080/"
        },
        "id": "N5wSeCHf9Xwh",
        "outputId": "3aa507d6-9e12-4b20-9485-6612d6e9c563"
      },
      "execution_count": 104,
      "outputs": [
        {
          "output_type": "stream",
          "name": "stdout",
          "text": [
            "[0, 1, 3, 4, 5, 6]\n"
          ]
        }
      ]
    },
    {
      "cell_type": "code",
      "source": [
        "# 방법 3\n",
        "list1 = [0,1,2,3,4,5,6]\n",
        "list1.pop(2)\n",
        "print(list1)"
      ],
      "metadata": {
        "colab": {
          "base_uri": "https://localhost:8080/"
        },
        "id": "M8LUaWqI9niw",
        "outputId": "904f5c37-ea74-492f-af45-a3a2f8897e27"
      },
      "execution_count": 108,
      "outputs": [
        {
          "output_type": "stream",
          "name": "stdout",
          "text": [
            "[0, 1, 3, 4, 5, 6]\n"
          ]
        }
      ]
    },
    {
      "cell_type": "code",
      "source": [
        "# 방법 4\n",
        "list1 = [0, 1, 2, 3, 4, 5, 6]\n",
        "list1 = [x for x in list1 if x != 2]\n",
        "print(list1)"
      ],
      "metadata": {
        "id": "y-7qalib-OZA"
      },
      "execution_count": null,
      "outputs": []
    },
    {
      "cell_type": "markdown",
      "source": [
        "Task7_0507. 내장함수를 이용하여 동일한 개수로 이루어진 자료형을 화살표 좌측에서 우측으로 변환하세요.\n",
        "\n",
        "[1,2,3],[4,5,6] -> [(1,4),(2,5),(3,6)]\\\n",
        "[1,2,3],[4,5,6],[7,8,9] -> [(1,4,7),(2,5,8),(3,6,9)]\\\n",
        "('abc','def') -> [('a','d'),('b','e'),('c','f')]"
      ],
      "metadata": {
        "id": "AYvC2WT90lVr"
      }
    },
    {
      "cell_type": "code",
      "source": [
        "# 1. 각 리스트의 첫번째 항목은 첫번째에 두번째 항목은 두번째... 이런식으로 가는 튜플 리스트를 만들어야 된다.\n",
        "# 2. 이 튜플들의 값을 공통적으로 추출 할 수  있는 방법을 찾아야된다."
      ],
      "metadata": {
        "id": "lonU-ahSE54a"
      },
      "execution_count": null,
      "outputs": []
    },
    {
      "cell_type": "code",
      "source": [
        "list1 = [1,2,3],[4,5,6]\n",
        "# list2 = [1,2,3],[4,5,6],[7,8,9]\n",
        "# tp1 = ('abc','def')\n",
        "\n",
        "def i in make_list()"
      ],
      "metadata": {
        "id": "R4xt5BdD0mzY"
      },
      "execution_count": null,
      "outputs": []
    },
    {
      "cell_type": "code",
      "source": [
        "list1 = [1,2,3],[4,5,6]\n",
        "# list2 = [1,2,3],[4,5,6],[7,8,9]\n",
        "# tp1 = ('abc','def')\n",
        "\n",
        "# def i in make_list():\n",
        "#     for [x[i] for x in list1]:\n",
        "#         i += 1\n"
      ],
      "metadata": {
        "colab": {
          "base_uri": "https://localhost:8080/"
        },
        "id": "EnJTGVIcBZy6",
        "outputId": "9415040c-e0a2-4ab1-f76c-a199f5255df5"
      },
      "execution_count": 134,
      "outputs": [
        {
          "output_type": "execute_result",
          "data": {
            "text/plain": [
              "<enumerate at 0x7cfe602de480>"
            ]
          },
          "metadata": {},
          "execution_count": 134
        }
      ]
    },
    {
      "cell_type": "markdown",
      "source": [
        "Task8_0507. url에서 호스트 도메인(news.naver.com)을 추출하여 출력하세요."
      ],
      "metadata": {
        "id": "PpYNkW532Rer"
      }
    },
    {
      "cell_type": "code",
      "source": [
        "url = 'http://news.naver.com/main/read.nhn?mode=LSD&mid=shm&sid1=105&oid=028&aid=0002334601'"
      ],
      "metadata": {
        "id": "iM-lVf6T2RGr"
      },
      "execution_count": null,
      "outputs": []
    }
  ]
}