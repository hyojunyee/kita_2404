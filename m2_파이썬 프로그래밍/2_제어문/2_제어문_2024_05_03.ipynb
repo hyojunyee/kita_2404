{
  "nbformat": 4,
  "nbformat_minor": 0,
  "metadata": {
    "colab": {
      "provenance": []
    },
    "kernelspec": {
      "name": "python3",
      "display_name": "Python 3"
    },
    "language_info": {
      "name": "python"
    }
  },
  "cells": [
    {
      "cell_type": "markdown",
      "source": [
        "제어문(control statement)은 프로그램의 흐름을 제어하는데 사용\n",
        "\n",
        "#### 조건문 (Conditional Statements):\n",
        "- if: 특정 조건이 참(True)일 때 코드 블록을 실행\n",
        "    - 조건은 비교 연산자(==, !=, <, >, <=, >=)와 논리 연산자(and, or, not)를 사용하여 표현할 수 있다\n",
        "- elif: 이전의 if 또는 elif 조건이 거짓(False)일 때 다른 조건을 검사\n",
        "    - elif는 'else if'의 축약형으로, 이전 if 또는 elif 문의 조건이 거짓(False)일 때 다른 조건을 검사\n",
        "    - 여러 elif 문을 사용하여 다양한 조건을 검사할 수 있다\n",
        "- else:\n",
        "    - 이전의 if 또는 elif 문의 조건이 모두 거짓일 때 실행할 코드 블록을 지정"
      ],
      "metadata": {
        "id": "gUSemduq8vh6"
      }
    },
    {
      "cell_type": "code",
      "source": [
        "x = 10\n",
        "if x > 5:\n",
        "  print(\"x는 5보다 큽니다.\")\n",
        "elif x == 5:\n",
        "  print(\"x는 5입니다.\")\n",
        "else:\n",
        "  print(\"x는 5보다 작습니다.\")"
      ],
      "metadata": {
        "colab": {
          "base_uri": "https://localhost:8080/"
        },
        "id": "vrqHbuj08wo1",
        "outputId": "0caa6947-4345-42e5-90c2-8c8a985a8bb5"
      },
      "execution_count": null,
      "outputs": [
        {
          "output_type": "stream",
          "name": "stdout",
          "text": [
            "x는 5보다 큽니다.\n"
          ]
        }
      ]
    },
    {
      "cell_type": "code",
      "execution_count": null,
      "metadata": {
        "colab": {
          "base_uri": "https://localhost:8080/"
        },
        "id": "j5oQN4_C8Gov",
        "outputId": "cdbc95a3-71ab-4fd5-be41-1b65f0fb67f9"
      },
      "outputs": [
        {
          "output_type": "stream",
          "name": "stdout",
          "text": [
            "x는 5보다 크거나 같다.\n"
          ]
        }
      ],
      "source": [
        "x = 10\n",
        "if x >= 5:\n",
        "  print(\"x는 5보다 크거나 같다.\")\n",
        "else:\n",
        "  print(\"x는 5보다 작습니다.\")"
      ]
    },
    {
      "cell_type": "code",
      "source": [
        "# 각 조건이 서로 독립적일때 if문을 연속해서 사용\n",
        "x = 10\n",
        "y = 5\n",
        "\n",
        "if x > 5:\n",
        "  print(\"x는 5보다 큽니다\")\n",
        "if y < 10:\n",
        "  print(\"y는 10보다 작습니다\")\n",
        "if x > y:\n",
        "  print(\"x는 y보다 큽니다\")"
      ],
      "metadata": {
        "colab": {
          "base_uri": "https://localhost:8080/"
        },
        "id": "7FmTxqeKSAv4",
        "outputId": "7a6b252d-aa80-4ff8-a93c-a9b5bdc4be34"
      },
      "execution_count": null,
      "outputs": [
        {
          "output_type": "stream",
          "name": "stdout",
          "text": [
            "x는 5보다 큽니다\n",
            "y는 10보다 작습니다\n",
            "x는 y보다 큽니다\n"
          ]
        }
      ]
    },
    {
      "cell_type": "code",
      "source": [
        "x = 10\n",
        "y = 5\n",
        "if x > 5:\n",
        "  if y>= 3:\n",
        "    print(\"x는 5보다 큽니다\")\n",
        "  else:\n",
        "    print(\"'x는 5보다크고 y는 3보다 작습니다'\")\n",
        "else:\n",
        "  print(\"는 5보다 작거나 같습니다\")"
      ],
      "metadata": {
        "colab": {
          "base_uri": "https://localhost:8080/"
        },
        "id": "GECWvWOxS7d2",
        "outputId": "f94e9ba0-2a94-4cf7-95ca-4258aedf5f0f"
      },
      "execution_count": null,
      "outputs": [
        {
          "output_type": "stream",
          "name": "stdout",
          "text": [
            "x는 5보다 큽니다\n"
          ]
        }
      ]
    },
    {
      "cell_type": "code",
      "source": [
        "# Q. 이중 조건문을 사용하여 코들르 작성하세요.(조건 내용은 자유,, 단 if~ if 문 ~elif ~ else 중첩하여 사용)\n",
        "\n",
        "\n",
        "\n"
      ],
      "metadata": {
        "colab": {
          "base_uri": "https://localhost:8080/"
        },
        "id": "KnpRKL8qUCHE",
        "outputId": "74f8b8af-72d9-4b26-d7c5-62faca7c5fa9"
      },
      "execution_count": null,
      "outputs": [
        {
          "output_type": "stream",
          "name": "stdout",
          "text": [
            "x는 짝수 입니다.\n"
          ]
        }
      ]
    },
    {
      "cell_type": "code",
      "source": [
        "score = int(input(\"점수를 입력하세요 : \"))\n",
        "if score < 70:\n",
        "  print(\"점수가 70점 미만입니다. 채점을 진행하지 않습니다.\")\n",
        "else:\n",
        "  if score >= 90:\n",
        "    print(\"A\")\n",
        "  elif score >= 80:\n",
        "    print(\"B\")\n",
        "  else:\n",
        "    print(\"C\")\n"
      ],
      "metadata": {
        "colab": {
          "base_uri": "https://localhost:8080/"
        },
        "id": "7Bqz45wHVa2d",
        "outputId": "294b9be9-4820-4090-f29d-870dfcfe2d1c"
      },
      "execution_count": null,
      "outputs": [
        {
          "output_type": "stream",
          "name": "stdout",
          "text": [
            "점수를 입력하세요 : 82\n",
            "B\n"
          ]
        }
      ]
    },
    {
      "cell_type": "code",
      "source": [
        "# Q. listdata = ['a', 'b', 'c']에서 조건문을 이용해서 아래와 같이 출력하세요\n",
        "\n",
        "listdata = ['a', 'b', 'c']\n",
        "\n",
        "if 'a' in listdata:\n",
        "  print('a가 listdata에 있습니다.')\n",
        "if 'b' in listdata:\n",
        "  print('b가 listdata에 있습니다.')\n",
        "if 'c' in listdata:\n",
        "  print('c가 listdata에 있습니다.')"
      ],
      "metadata": {
        "colab": {
          "base_uri": "https://localhost:8080/"
        },
        "id": "ebiadqN3YR8T",
        "outputId": "2f71cf88-75ef-4bf2-b4d6-9e9be0736c1a"
      },
      "execution_count": null,
      "outputs": [
        {
          "output_type": "stream",
          "name": "stdout",
          "text": [
            "a가 listdata에 있습니다.\n",
            "b가 listdata에 있습니다.\n",
            "c가 listdata에 있습니다.\n"
          ]
        }
      ]
    },
    {
      "cell_type": "code",
      "source": [
        "listdata = ['a', 'b', 'c']\n",
        "\n",
        "for i in listdata:\n",
        "  if i in listdata:\n",
        "    print(f\"{i}가 listdata에 있습니다\")"
      ],
      "metadata": {
        "colab": {
          "base_uri": "https://localhost:8080/"
        },
        "id": "j9LqDmL2Y9HT",
        "outputId": "99d423fd-63f7-430e-df0a-d9af78bb43a5"
      },
      "execution_count": null,
      "outputs": [
        {
          "output_type": "stream",
          "name": "stdout",
          "text": [
            "a가 listdata에 있습니다\n",
            "b가 listdata에 있습니다\n",
            "c가 listdata에 있습니다\n"
          ]
        }
      ]
    },
    {
      "cell_type": "code",
      "source": [
        "# Q 돈이 만원이상 있으면 택시를 타고, 돈이 없으면 걸어간다를 만족하는 조건문을 작성하세요\n",
        "\n",
        "pocket_money = int(input(\"주머니에 있는돈 : \"))\n",
        "if pocket_money >= 10000:\n",
        "  print(\"택시를 타고 간다\")\n",
        "else:\n",
        "  print(\"걸어간다\")"
      ],
      "metadata": {
        "colab": {
          "base_uri": "https://localhost:8080/"
        },
        "id": "BFlAx5c5Z7MQ",
        "outputId": "8155c145-47e6-4a99-b307-afd2b3759d3c"
      },
      "execution_count": null,
      "outputs": [
        {
          "output_type": "stream",
          "name": "stdout",
          "text": [
            "주머니에 있는돈 : 10000\n",
            "택시를 타고 간다\n"
          ]
        }
      ]
    },
    {
      "cell_type": "code",
      "source": [
        "# Q. 조건부 표현식을 한줄의 조건문으로 작성하세요.\n",
        "score = 70\n",
        "if score >= 60:\n",
        "  message = \"success\"\n",
        "else:\n",
        "  message = \"failure\"\n",
        "\n",
        "print(message)"
      ],
      "metadata": {
        "colab": {
          "base_uri": "https://localhost:8080/"
        },
        "id": "f79P7DcYe8sy",
        "outputId": "3c00373a-f657-429c-9b55-1c7c2dd04e84"
      },
      "execution_count": null,
      "outputs": [
        {
          "output_type": "stream",
          "name": "stdout",
          "text": [
            "succesess\n"
          ]
        }
      ]
    },
    {
      "cell_type": "code",
      "source": [
        "score = 70\n",
        "print([\"success\" if score >= 60 else \"failure\"])"
      ],
      "metadata": {
        "colab": {
          "base_uri": "https://localhost:8080/"
        },
        "id": "3HhipVP7fQe7",
        "outputId": "f81cf96d-3024-4a45-9ba9-785ef16ec7be"
      },
      "execution_count": null,
      "outputs": [
        {
          "output_type": "stream",
          "name": "stdout",
          "text": [
            "['success']\n"
          ]
        }
      ]
    },
    {
      "cell_type": "code",
      "source": [
        "# Q. \"수입과 지출금액을 비교해서 수입이 많으면 저축 증가, 반대이면 빚이 증가\" 프로그램 작성\n",
        "\n",
        "income = int(input(\"수입 : \"))\n",
        "spend = int(input(\"지출 : \"))\n",
        "\n",
        "if income > spend:\n",
        "  print(\"저축이\", income - spend, \"만큼 증가하였습니다. ^^\")\n",
        "elif income < spend:\n",
        "  print(\"빚이\", income - spend, \"만큼 증가하였습니다. ㅠㅠ\")\n",
        "else:\n",
        "  print(\"변한게 없습니다... ㅇoㅇ\")"
      ],
      "metadata": {
        "colab": {
          "base_uri": "https://localhost:8080/"
        },
        "id": "Ws26aFL-f_hu",
        "outputId": "14a061af-1fbc-492c-df3b-87b0a55b77a8"
      },
      "execution_count": null,
      "outputs": [
        {
          "output_type": "stream",
          "name": "stdout",
          "text": [
            "수입 : 100000000\n",
            "지출 : 40000000\n",
            "저축이 60000000 만큼 증가하였습니다. ^^\n"
          ]
        }
      ]
    },
    {
      "cell_type": "markdown",
      "source": [
        "#### 반복문 (Loop Statements):\n",
        "- for: 시퀀스(리스트, 튜플, 문자열 등)의 아이템을 순회하면서 코드 블록을 실행\n",
        "- while: 특정 조건이 참인 동안 코드 블록을 반복하여 실행"
      ],
      "metadata": {
        "id": "EbPe8ZNAhpE3"
      }
    },
    {
      "cell_type": "code",
      "source": [
        "# for 루프는 시퀀스(리스트, 튜플, 문자열 등)나 반복 가능한 객체(iterable)의 요소를 순회\n",
        "for i in range(5):\n",
        "  print(i, end=\" \")\n",
        "print('\\n')\n",
        "\n",
        "count = 0\n",
        "while count < 5:\n",
        "  print(count, end=\" \")\n",
        "  count += 1"
      ],
      "metadata": {
        "colab": {
          "base_uri": "https://localhost:8080/"
        },
        "id": "M0AilkXHhmwi",
        "outputId": "4e7ae523-8927-4213-a8b4-ebba467081f6"
      },
      "execution_count": null,
      "outputs": [
        {
          "output_type": "stream",
          "name": "stdout",
          "text": [
            "0 1 2 3 4 \n",
            "\n",
            "0 1 2 3 4 "
          ]
        }
      ]
    },
    {
      "cell_type": "code",
      "source": [
        "# 리스트를 순회하는 예\n",
        "for i in [1, 2, 3, 4, 5]:\n",
        "  print(i, end=\" \")\n",
        "print('\\n')\n",
        "# 문자열을 순회하는 예\n",
        "for char in \"hello\":\n",
        "  print(char, end=\" \")"
      ],
      "metadata": {
        "colab": {
          "base_uri": "https://localhost:8080/"
        },
        "id": "Q7yGkyvMktY1",
        "outputId": "10414811-5551-4b7c-932d-0581f6989648"
      },
      "execution_count": null,
      "outputs": [
        {
          "output_type": "stream",
          "name": "stdout",
          "text": [
            "1 2 3 4 5 \n",
            "\n",
            "h e l l o "
          ]
        }
      ]
    },
    {
      "cell_type": "code",
      "source": [
        "# while루프는 주어진 조건이 참(True)인 동안 코드 블록을 반복\n",
        "# 조건이 거짓(False)이 되면 루프가 종료\n",
        "count = 0\n",
        "sum = 0\n",
        "while count < 5:\n",
        "  sum += count\n",
        "  print(sum, end=\" \")\n",
        "  count += 1"
      ],
      "metadata": {
        "colab": {
          "base_uri": "https://localhost:8080/"
        },
        "id": "SbeOv0oclYKL",
        "outputId": "6519bdab-6f6d-48ce-d390-66034c3309c9"
      },
      "execution_count": null,
      "outputs": [
        {
          "output_type": "stream",
          "name": "stdout",
          "text": [
            "0 1 3 6 10 "
          ]
        }
      ]
    },
    {
      "cell_type": "code",
      "source": [
        "# Q. d에서 반복문을 사용하여 97 98 99을  출력하세요.\n",
        "d = {'a' : 97, 'b' : 98, \"c\" : 99}\n",
        "for key in d:\n",
        "  print(d[key], end=\" \")\n",
        "  print(type(d[key]), end=\" \")"
      ],
      "metadata": {
        "colab": {
          "base_uri": "https://localhost:8080/"
        },
        "id": "0zsmYD5XqSDu",
        "outputId": "95ced0e2-296a-4a9d-ef92-5d01485ee40a"
      },
      "execution_count": null,
      "outputs": [
        {
          "output_type": "stream",
          "name": "stdout",
          "text": [
            "97 <class 'int'> 98 <class 'int'> 99 <class 'int'> "
          ]
        }
      ]
    },
    {
      "cell_type": "code",
      "source": [
        "print(d.keys())\n",
        "print(type(d.keys()))"
      ],
      "metadata": {
        "colab": {
          "base_uri": "https://localhost:8080/"
        },
        "id": "_p-zOU_7rEl0",
        "outputId": "7f38ef53-c0cf-4556-ab64-5632968cf8af"
      },
      "execution_count": null,
      "outputs": [
        {
          "output_type": "stream",
          "name": "stdout",
          "text": [
            "dict_keys(['a', 'b', 'c'])\n",
            "<class 'dict_keys'>\n"
          ]
        }
      ]
    },
    {
      "cell_type": "code",
      "source": [
        "print(d.values())\n",
        "print(type(d.values()))"
      ],
      "metadata": {
        "colab": {
          "base_uri": "https://localhost:8080/"
        },
        "id": "WsASRH7WxeqI",
        "outputId": "4c092770-0408-4622-b232-1c82498c20f6"
      },
      "execution_count": null,
      "outputs": [
        {
          "output_type": "stream",
          "name": "stdout",
          "text": [
            "dict_values([97, 98, 99])\n",
            "<class 'dict_values'>\n"
          ]
        }
      ]
    },
    {
      "cell_type": "markdown",
      "source": [
        "dict_values 클래스의 이해:\n",
        "- 클래스 정의: 파이썬에서 클래스는 객체를 생성하는 데 사용되는 템플릿. dict_values는 딕셔너리의 값을 보여주는 뷰 객체를 생성하는 특별한 내장 클래스.\n",
        "- 뷰 객체: dict_values 객체는 딕셔너리의 값에 대한 동적인 뷰를 제공. \"뷰(view)\"란 원본 딕셔너리 객체의 값이 변하면 그 변화가 dict_values 객체에도 반영되는, 원본 데이터의 실시간 반영본을 의미. 이는 딕셔너리의 값들이 수정, 추가, 삭제될 때 dict_values 객체가 자동으로 업데이트된다는 의미.\n",
        "- 객체 인스턴스: dict_values 객체는 dict_values 클래스의 인스턴스. 이 클래스는 파이썬의 다른 모든 클래스처럼 특정 데이터 구조와 메서드를 가진다. 예를 들어, dict_values 객체는 순회 가능하며 (iterable), 딕셔너리의 모든 값을 순차적으로 접근할 수 있는 메서드를 제공."
      ],
      "metadata": {
        "id": "BUsuektqxnIS"
      }
    },
    {
      "cell_type": "code",
      "source": [
        "d['b'] = 100\n",
        "print(d)\n",
        "print(d.values())"
      ],
      "metadata": {
        "colab": {
          "base_uri": "https://localhost:8080/"
        },
        "id": "HBJGgFRiylWE",
        "outputId": "dbf2a513-d632-4917-f9d5-897c7b87c23b"
      },
      "execution_count": null,
      "outputs": [
        {
          "output_type": "stream",
          "name": "stdout",
          "text": [
            "{'a': 97, 'b': 100, 'c': 99}\n",
            "dict_values([97, 100, 99])\n"
          ]
        }
      ]
    },
    {
      "cell_type": "markdown",
      "source": [
        "#### 제어문 관련 키워드:\n",
        "- break: 현재의 반복문을 중단하고, 반복문 바깥의 코드를 실행\n",
        "- continue: 반복문의 나머지 부분을 건너뛰고, 다음 반복을 시작"
      ],
      "metadata": {
        "id": "5viyY9zayyxe"
      }
    },
    {
      "cell_type": "code",
      "source": [
        "for i in range(5):\n",
        "  if i == 3:\n",
        "    break\n",
        "  print(i,end=' ')\n",
        "print('\\n')\n",
        "\n",
        "for i in range(5):\n",
        "  if i == 3:\n",
        "    continue\n",
        "  print(i,end=' ')"
      ],
      "metadata": {
        "colab": {
          "base_uri": "https://localhost:8080/"
        },
        "id": "_z2Tgb8SyyfP",
        "outputId": "b188584f-7183-49fa-ef80-b8d7a639a64d"
      },
      "execution_count": null,
      "outputs": [
        {
          "output_type": "stream",
          "name": "stdout",
          "text": [
            "0 1 2 \n",
            "\n",
            "0 1 2 4 "
          ]
        }
      ]
    },
    {
      "cell_type": "code",
      "source": [
        "for i in range(10):\n",
        "  if i == 5:\n",
        "    break\n",
        "  print(i,end=' ')\n",
        "print('\\n')\n",
        "\n",
        "for i in range(10):\n",
        "  if i % 2 == 0 :\n",
        "    continue\n",
        "  print(i,end=' ')"
      ],
      "metadata": {
        "colab": {
          "base_uri": "https://localhost:8080/"
        },
        "id": "G-hnqVgG0Yg_",
        "outputId": "7c8121d5-1d20-42aa-b2ca-30d46f251a6d"
      },
      "execution_count": null,
      "outputs": [
        {
          "output_type": "stream",
          "name": "stdout",
          "text": [
            "0 1 2 3 4 \n",
            "\n",
            "1 3 5 7 9 "
          ]
        }
      ]
    },
    {
      "cell_type": "code",
      "source": [
        "# for 또는 while 루프에 else 절을 사용하면, 루프가 정상적으로 완료된 후에 실행할\n",
        "for i in range(5):\n",
        "  print(i, end=' ')\n",
        "else:\n",
        "  print(\"루프가 완료되었습니다.\")\n",
        "# print(\"루프가 완료되었습니다.\")  # 루프밖에서도 가능\n",
        "print('\\n')\n",
        "\n",
        "count = 0\n",
        "while count < 5:\n",
        "  print(count, end=' ')\n",
        "  count += 1\n",
        "else:\n",
        "  print(\"루프가 완료되었습니다.\")\n",
        "# print(\"루프가 완료되었습니다.\")  # 루프밖에서도 가능"
      ],
      "metadata": {
        "colab": {
          "base_uri": "https://localhost:8080/"
        },
        "id": "6hVw-ODq1oCP",
        "outputId": "e6529973-4e7d-4f68-a060-991a6f3170fd"
      },
      "execution_count": null,
      "outputs": [
        {
          "output_type": "stream",
          "name": "stdout",
          "text": [
            "0 1 2 3 4 루프가 완료되었습니다.\n",
            "\n",
            "\n",
            "0 1 2 3 4 루프가 완료되었습니다.\n"
          ]
        }
      ]
    },
    {
      "cell_type": "code",
      "source": [
        "# break 문을 사용하여 루프를 중단하면 else절은 실행되지 않음\n",
        "for i in range(5):\n",
        "  if i == 3:\n",
        "    print(f'{i}에서 루프를 중단합니다.')\n",
        "    break\n",
        "else:\n",
        "  print(\"루프가 완료되었습니다.\")"
      ],
      "metadata": {
        "colab": {
          "base_uri": "https://localhost:8080/"
        },
        "id": "vFFtx5Rx22U_",
        "outputId": "3781799e-649e-43d7-a5fb-f00285871db2"
      },
      "execution_count": null,
      "outputs": [
        {
          "output_type": "stream",
          "name": "stdout",
          "text": [
            "3에서 루프를 중단합니다.\n"
          ]
        }
      ]
    },
    {
      "cell_type": "markdown",
      "source": [
        "조건과 반복을 결합"
      ],
      "metadata": {
        "id": "Z-MUKZP335ve"
      }
    },
    {
      "cell_type": "code",
      "source": [
        "# 10 미만의 홀수만 출력\n",
        "for i in range(10):\n",
        "  if i % 2 == 1:\n",
        "    print(i,end=' ')"
      ],
      "metadata": {
        "colab": {
          "base_uri": "https://localhost:8080/"
        },
        "id": "cAv6Sn8O37Xt",
        "outputId": "80b99fe6-6dee-4721-e36f-7e7272764e54"
      },
      "execution_count": null,
      "outputs": [
        {
          "output_type": "stream",
          "name": "stdout",
          "text": [
            "1 3 5 7 9 "
          ]
        }
      ]
    },
    {
      "cell_type": "code",
      "source": [
        "# Q. 1~10 범위의 정수에서 1부터 5까지만 출력하세요\n",
        "\n",
        "for i in range(1, 11):\n",
        "  if i > 5:\n",
        "      break\n",
        "  print(i,end=' ')"
      ],
      "metadata": {
        "colab": {
          "base_uri": "https://localhost:8080/"
        },
        "id": "bwQoh51w4lII",
        "outputId": "909a7082-d2cb-487f-902c-45b6c0ec9851"
      },
      "execution_count": null,
      "outputs": [
        {
          "output_type": "stream",
          "name": "stdout",
          "text": [
            "1 2 3 4 5 "
          ]
        }
      ]
    },
    {
      "cell_type": "code",
      "source": [
        "# Q. numbers 리스트에서 15, 20, 25를 출력하세요.(for문과 if 조건 사용 필수)\n",
        "numbers = [5, 15, 6, 20, 7, 25]\n",
        "\n",
        "for i in numbers:\n",
        "  if i % 5 == 0 and i > 10:\n",
        "    print(i,end=' ')\n",
        "print('\\n')\n",
        "\n",
        "for i in numbers:\n",
        "  if i >= 15:\n",
        "    print(i,end=' ')\n",
        "print('\\n')\n",
        "\n",
        "\n",
        "numbers.sort()\n",
        "print(numbers[-3:])   #for if 안씀."
      ],
      "metadata": {
        "colab": {
          "base_uri": "https://localhost:8080/"
        },
        "id": "ZyiDvVGB5Xst",
        "outputId": "c9708714-2ae3-4cf7-caad-f2b8ee78aabe"
      },
      "execution_count": null,
      "outputs": [
        {
          "output_type": "stream",
          "name": "stdout",
          "text": [
            "15 20 25 \n",
            "\n",
            "15 20 25 \n",
            "\n",
            "[15, 20, 25]\n"
          ]
        }
      ]
    },
    {
      "cell_type": "code",
      "source": [
        "# 특정 조건을 만족할 때까지 반복\n",
        "count = 0\n",
        "while 1: # 무한 루프\n",
        "  count += 1\n",
        "  if count > 5:\n",
        "    break # count가 5보다 클 때 루프를 종료합니다.\n",
        "  print(count)\n",
        "print('루프가 종료됨')"
      ],
      "metadata": {
        "colab": {
          "base_uri": "https://localhost:8080/"
        },
        "id": "rgXX0Xpp-axI",
        "outputId": "f84e6366-44dc-4c74-a6fc-87c649e7d036"
      },
      "execution_count": null,
      "outputs": [
        {
          "output_type": "stream",
          "name": "stdout",
          "text": [
            "루프가 종료됨\n"
          ]
        }
      ]
    },
    {
      "cell_type": "code",
      "source": [
        "# Q. 리스트에서 특정값 찾기\n",
        "numbers = [1, 2, 3, 4, 5]\n",
        "target = 5\n",
        "\n",
        "for num in numbers:\n",
        "  if num == target:\n",
        "    print(f'{target}을(를) 찾았습니다!')\n",
        "    break\n",
        "else:\n",
        "  print(f'{target}을(를) 찾지못했습니다')"
      ],
      "metadata": {
        "colab": {
          "base_uri": "https://localhost:8080/"
        },
        "id": "RGyJpaZw_LE9",
        "outputId": "dd8a45e2-0f2a-41d7-e699-24c0f7ef4f46"
      },
      "execution_count": null,
      "outputs": [
        {
          "output_type": "stream",
          "name": "stdout",
          "text": [
            "5을(를) 찾았습니다!\n"
          ]
        }
      ]
    },
    {
      "cell_type": "code",
      "source": [
        "# Q. 1 ~ 20 사이의 정수에서 10보다 작은 홀수만 출력\n",
        "\n",
        "for i in range(1, 21):\n",
        "  if i < 10:\n",
        "    if i % 2 != 0:\n",
        "      print(i,end=' ')\n",
        "  else:\n",
        "    break"
      ],
      "metadata": {
        "colab": {
          "base_uri": "https://localhost:8080/"
        },
        "id": "zUShV_nrCfQZ",
        "outputId": "ec5b8654-762f-4af3-a4f1-7e02e3aa9a63"
      },
      "execution_count": null,
      "outputs": [
        {
          "output_type": "stream",
          "name": "stdout",
          "text": [
            "1 3 5 7 9 "
          ]
        }
      ]
    },
    {
      "cell_type": "code",
      "source": [
        "# while ~ continue ~ break\n",
        "# 20보다 작은 정수에서 1 3 5 7 9 만을 출력\n",
        "a = 0\n",
        "while a < 20:\n",
        "  a += 1\n",
        "  if a % 2 == 0:\n",
        "    continue\n",
        "  if a >=10:\n",
        "    break\n",
        "  print(a, end=' ')\n",
        "\n"
      ],
      "metadata": {
        "colab": {
          "base_uri": "https://localhost:8080/"
        },
        "id": "xHeSYJwpEAMs",
        "outputId": "84eaa4ac-6785-49ff-e2c9-c6b17cb22d28"
      },
      "execution_count": null,
      "outputs": [
        {
          "output_type": "stream",
          "name": "stdout",
          "text": [
            "1 3 5 7 9 "
          ]
        }
      ]
    },
    {
      "cell_type": "code",
      "source": [
        "# Q. 정수 1 부터 n까지 더할 때 그 합이 1000보다 커지게 되는 n과 합을 구하세요.(while ~ break)\n",
        "\n",
        "n = 1\n",
        "sum = 0\n",
        "\n",
        "while 1:\n",
        "  sum += n\n",
        "  if sum > 1000:\n",
        "    print(n)\n",
        "    print(sum)\n",
        "    break\n",
        "  n = n + 1"
      ],
      "metadata": {
        "colab": {
          "base_uri": "https://localhost:8080/"
        },
        "id": "KXGGCyhwFtCg",
        "outputId": "aff39003-1531-4f76-a3b3-3bbb17a1db78"
      },
      "execution_count": null,
      "outputs": [
        {
          "output_type": "stream",
          "name": "stdout",
          "text": [
            "45\n",
            "1035\n"
          ]
        }
      ]
    },
    {
      "cell_type": "code",
      "source": [
        "n = 0\n",
        "sum = 0\n",
        "\n",
        "while 1:\n",
        "  n = n + 1\n",
        "  sum += n\n",
        "  if sum > 1000:\n",
        "    print(n)\n",
        "    print(sum)\n",
        "    break"
      ],
      "metadata": {
        "id": "hJb9e_ahbLFc"
      },
      "execution_count": null,
      "outputs": []
    },
    {
      "cell_type": "code",
      "source": [
        "n = 0\n",
        "sum = 0\n",
        "\n",
        "while sum < 1000:\n",
        "  n = n + 1\n",
        "  sum += n\n",
        "print(n)\n",
        "print(sum)"
      ],
      "metadata": {
        "colab": {
          "base_uri": "https://localhost:8080/"
        },
        "id": "bK3sTCsRbcp3",
        "outputId": "a988119b-6cfe-4d1f-f592-5b757d59e40d"
      },
      "execution_count": null,
      "outputs": [
        {
          "output_type": "stream",
          "name": "stdout",
          "text": [
            "45\n",
            "1035\n"
          ]
        }
      ]
    },
    {
      "cell_type": "code",
      "source": [
        "# Q. while문을 사용해 1부터 1000까지의 정수 중 3의 배수의 합을 구하세요."
      ],
      "metadata": {
        "id": "ktGOddIEF2Dl"
      },
      "execution_count": null,
      "outputs": []
    },
    {
      "cell_type": "code",
      "source": [
        "count = 1\n",
        "multiple_sum = 0\n",
        "\n",
        "while count <= 1000:\n",
        "  if count % 3 == 0:\n",
        "    multiple_sum += count\n",
        "  count += 1\n",
        "print(multiple_sum)\n"
      ],
      "metadata": {
        "colab": {
          "base_uri": "https://localhost:8080/"
        },
        "id": "HFUFxAhYXEEI",
        "outputId": "5d542b41-21e0-4ae9-8041-65c2b3f317ff"
      },
      "execution_count": null,
      "outputs": [
        {
          "output_type": "stream",
          "name": "stdout",
          "text": [
            "166833\n"
          ]
        }
      ]
    },
    {
      "cell_type": "code",
      "source": [
        "n = 0\n",
        "sum = 0\n",
        "while n < 1000:\n",
        "  n += 1\n",
        "  if n % 3 == 0:\n",
        "    sum += n\n",
        "print(sum)"
      ],
      "metadata": {
        "colab": {
          "base_uri": "https://localhost:8080/"
        },
        "id": "adAQedTCe33s",
        "outputId": "3bb738d5-9efe-4ad3-e4cd-136d08994684"
      },
      "execution_count": null,
      "outputs": [
        {
          "output_type": "stream",
          "name": "stdout",
          "text": [
            "166833\n"
          ]
        }
      ]
    },
    {
      "cell_type": "code",
      "source": [
        "n = 3\n",
        "sum = 0\n",
        "while n <= 1000:\n",
        "  sum += n\n",
        "  n += 3\n",
        "print(sum)"
      ],
      "metadata": {
        "colab": {
          "base_uri": "https://localhost:8080/"
        },
        "id": "qBYi-gV5fHxj",
        "outputId": "934e72ff-aed1-4afd-a693-37c1ec5206d0"
      },
      "execution_count": null,
      "outputs": [
        {
          "output_type": "stream",
          "name": "stdout",
          "text": [
            "166833\n"
          ]
        }
      ]
    },
    {
      "cell_type": "code",
      "source": [
        "# Q. 정수를 입력하면 홀수 짝수를 판별하는 프로그램 작성"
      ],
      "metadata": {
        "id": "lIOwGiFzF8mD"
      },
      "execution_count": null,
      "outputs": []
    },
    {
      "cell_type": "code",
      "source": [
        "while True:\n",
        "  try: #예외처리\n",
        "    int1 = int(input(\"정수를 입력하세요 :\"))\n",
        "    if int1 % 2 == 1:\n",
        "      print(f'{int1}은(는) 홀수입니다.')\n",
        "    else:\n",
        "      print(f'{int1}은(는) 홀수 입니다.')\n",
        "    break\n",
        "  except ValueError:\n",
        "    print('정수가 아닌 값이 입력되었어요. 정수를 입력하세요')"
      ],
      "metadata": {
        "colab": {
          "base_uri": "https://localhost:8080/"
        },
        "id": "kcm6taTMXFJf",
        "outputId": "28c19d9b-c9a6-4049-d1e0-951b229ff58d"
      },
      "execution_count": null,
      "outputs": [
        {
          "output_type": "stream",
          "name": "stdout",
          "text": [
            "정수를 입력하세요 :0.2\n",
            "정수가 아닌 값이 입력되었어요. 정수를 입력하세요\n",
            "정수를 입력하세요 :1\n",
            "1은(는) 홀수입니다.\n"
          ]
        }
      ]
    },
    {
      "cell_type": "code",
      "source": [
        "# 입력받은 문자열의 각 문자를 그 다음 문자로 변경하여 출력하세요. (ABC -> BCA)\n",
        "\n",
        "data = input(\"문자열을 입력하세요 : \")\n",
        "for i in range(len(data)):\n",
        "  if i == 0:\n",
        "    continue\n",
        "  print(data[i], end = ' ')\n",
        "else:\n",
        "  print(data[0])"
      ],
      "metadata": {
        "colab": {
          "base_uri": "https://localhost:8080/"
        },
        "id": "UP4V2UmPjCsE",
        "outputId": "78ade216-8a15-4923-a2ae-e997caa6af1c"
      },
      "execution_count": null,
      "outputs": [
        {
          "output_type": "stream",
          "name": "stdout",
          "text": [
            "문자열을 입력하세요 : abc\n",
            "b c a\n"
          ]
        }
      ]
    },
    {
      "cell_type": "markdown",
      "source": [
        "zip() 함수   *이터러블은 반복가능한\n",
        "- 여러 개의 이터러블(리스트, 튜플 등)을 인자로 받아, 동일한 인덱스에 있는 요소들을 하나의 튜플로 묶어서 이터레이터를 반환\n",
        "- 데이터를 병렬로 처리할 때 유용"
      ],
      "metadata": {
        "id": "Elr1RH3bnEAL"
      }
    },
    {
      "cell_type": "code",
      "source": [
        "list1 = [1, 2, 3, 4]\n",
        "list2 = ['a', 'b', 'c', 'd']\n",
        "zipped = zip(list1, list2)\n",
        "print(list(zipped))"
      ],
      "metadata": {
        "colab": {
          "base_uri": "https://localhost:8080/"
        },
        "id": "xjIqPgAQnKHH",
        "outputId": "c9181076-09b4-4e22-8373-aa72c994fdee"
      },
      "execution_count": null,
      "outputs": [
        {
          "output_type": "stream",
          "name": "stdout",
          "text": [
            "[(1, 'a'), (2, 'b'), (3, 'c'), (4, 'd')]\n"
          ]
        }
      ]
    },
    {
      "cell_type": "code",
      "source": [
        "# Q. 두 개의 리스트(이름과 성)를 사용하여 각 사람의 전체 이름을 생성하세요.\n",
        "first_names = [\"John\", \"Jane\", \"Corey\", \"Travis\"]\n",
        "last_names = [\"doe\", \"Smith\", \"Turner\", \"Scott\"]\n",
        "\n",
        "full_name = [first + \" \" + last for first, last in zip(first_names, last_names)]\n",
        "print(list(full_name))"
      ],
      "metadata": {
        "colab": {
          "base_uri": "https://localhost:8080/"
        },
        "id": "eW2HvvRZnFOw",
        "outputId": "a00685b2-a2a8-4a08-96ac-12a21a5f1392"
      },
      "execution_count": null,
      "outputs": [
        {
          "output_type": "stream",
          "name": "stdout",
          "text": [
            "['John doe', 'Jane Smith', 'Corey Turner', 'Travis Scott']\n"
          ]
        }
      ]
    },
    {
      "cell_type": "code",
      "source": [
        "# Q. 학생들의 수학과 영어 점수를 각각의 리스트로 받아 평균 점수를 계산하세요.\n",
        "math_scores = [88, 92, 79, 92, 85]\n",
        "english_scores = [90, 91, 85, 88, 86]\n",
        "\n",
        "average_scores = [(math + english) / 2 for math, english in zip(math_scores, english_scores)]\n",
        "print(average_scores)"
      ],
      "metadata": {
        "colab": {
          "base_uri": "https://localhost:8080/"
        },
        "id": "xEpO_vYMoUYW",
        "outputId": "fc9eb750-722b-4a42-939a-a3139080f0b8"
      },
      "execution_count": null,
      "outputs": [
        {
          "output_type": "stream",
          "name": "stdout",
          "text": [
            "[89.0, 91.5, 82.0, 90.0, 85.5]\n"
          ]
        }
      ]
    },
    {
      "cell_type": "code",
      "source": [
        "# Q. 상품 이름과 가격이 각각 다른 리스트에 저장되어 있을때, 상품명과 가격을 튜플로 묶어 출력하세요.\n",
        "products = [\"apple\", \"banana\", \"cherry\"]\n",
        "prices = [1.2, 0.5, 2.5]\n",
        "\n",
        "for product, price in zip(products, prices):\n",
        "  print(f'product : {product}, Price ${price}')"
      ],
      "metadata": {
        "colab": {
          "base_uri": "https://localhost:8080/"
        },
        "id": "wJPalHnYoUlK",
        "outputId": "be59bc8d-7775-451e-b623-2b2d694a6a6e"
      },
      "execution_count": null,
      "outputs": [
        {
          "output_type": "stream",
          "name": "stdout",
          "text": [
            "product : apple, Price $1.2\n",
            "product : banana, Price $0.5\n",
            "product : cherry, Price $2.5\n"
          ]
        }
      ]
    },
    {
      "cell_type": "markdown",
      "source": [
        "#### 파이썬의 random 모듈\n",
        "난수를 생성하기 위한 다양한 함수를 제공\n",
        "- 기본 난수 생성:\n",
        "  - random.random(): 0과 1 사이의 무작위 부동소수점 숫자를 반환.\n",
        "- 범위 지정 난수 생성:\n",
        "  - random.randint(a, b): a와 b 사이의 무작위 정수를 반환(b 포함).\n",
        "  - random.randrange(start, stop[, step]): 지정된 범위에서 무작위 정수를 반환. step을 설정하여 수의 간격을 조정할 수 있다.\n",
        "- 시퀀스용 함수:\n",
        "  - random.choice(sequence): 주어진 시퀀스(리스트, 튜플 등)에서 무작위로 아이템을 선택하여 반환.\n",
        "  - random.shuffle(x[, random]): 리스트의 항목들을 무작위로 섞는다. random은 섞기를 위한 함수를 커스텀할 때 사용.\n",
        "  - random.sample(population, k): 주어진 시퀀스에서 무작위로 k개의 항목을 뽑아 새 리스트로 반환.\n",
        "- 분포 기반 난수 생성:\n",
        "  - random.uniform(a, b): a와 b 사이의 무작위 부동소수점 숫자를 균등 분포로 반환.\n",
        "  - random.gauss(mu, sigma): 평균 mu와 표준편차 sigma를 가지는 정규 분포에서 난수를 반환."
      ],
      "metadata": {
        "id": "FOIAVvt0rVB1"
      }
    },
    {
      "cell_type": "code",
      "source": [
        "import random\n",
        "\n",
        "#0과 1사이의 난수 생성\n",
        "print(random.random())\n",
        "# 1에서 10사이의 정수 반환()\n",
        "print(random.randint(1, 10))\n",
        "# 리스트에서 무작위로 하나의 원소 선택\n",
        "items = [1, 2, 3, 4, 5]\n",
        "print(random.choice(items))\n",
        "#리스트의 원소를 무작위로 섞기\n",
        "random.shuffle(items)\n",
        "print(items)\n",
        "#정규분포 난수 생성\n",
        "mean = 0\n",
        "std_dev = 1\n",
        "print(random.gauss(mean, std_dev))"
      ],
      "metadata": {
        "colab": {
          "base_uri": "https://localhost:8080/"
        },
        "id": "xUicmAiyoZTf",
        "outputId": "57a2861e-3769-4f2d-ec75-8b89cacc5621"
      },
      "execution_count": null,
      "outputs": [
        {
          "output_type": "stream",
          "name": "stdout",
          "text": [
            "0.3552611168993953\n",
            "9\n",
            "2\n",
            "[1, 2, 4, 3, 5]\n",
            "0.260825886677911\n"
          ]
        }
      ]
    },
    {
      "cell_type": "code",
      "source": [
        "from random import shuffle # random 모듈에서 셔플만 가져온다.\n",
        "male = ['철수', '갑돌','로미오','이몽룡','온돌']\n",
        "shuffle(male)\n",
        "print(male)"
      ],
      "metadata": {
        "colab": {
          "base_uri": "https://localhost:8080/"
        },
        "id": "MpOtuIeewBIc",
        "outputId": "0e524902-7461-466e-ad28-6e8abba05848"
      },
      "execution_count": null,
      "outputs": [
        {
          "output_type": "stream",
          "name": "stdout",
          "text": [
            "['갑돌', '온돌', '이몽룡', '로미오', '철수']\n"
          ]
        }
      ]
    },
    {
      "cell_type": "markdown",
      "source": [
        "Task1_0430. 남녀 파트너 정해주기 프로그램(zip)\n",
        "\n",
        "같은 수의 남녀 모임에서 파트너를 랜덤하게 정해주는 프로그램을 만들어 보세요\n",
        "\n",
        "male = ['철수','갑돌','로미오','이몽룡','온돌']\n",
        "\n",
        "female = ['미미','갑순','줄리엣','성춘향','평강']"
      ],
      "metadata": {
        "id": "rVwKPbwDzRjS"
      }
    },
    {
      "cell_type": "markdown",
      "source": [
        "zip 함수는 이터레이터를 반환하고 이 이더레이터를 단 한번만 소비할 수 있음. list() 함수를 사용하여 이터레이터의 모든 원소를 한번에 소비해버리면, 그 결과는 빈 이터레이터가 되기 때문에 리스트로 다시 저장한 후 사용해야됨."
      ],
      "metadata": {
        "id": "jNwCM9YCFcx2"
      }
    },
    {
      "cell_type": "code",
      "source": [
        "import random\n",
        "\n",
        "male = ['철수','갑돌','로미오','이몽룡','온돌']\n",
        "female = ['미미','갑순','줄리엣','성춘향','평강']\n",
        "\n",
        "random.shuffle(male)\n",
        "print(male)\n",
        "random.shuffle(female)\n",
        "print(female)\n",
        "couples = list(zip(male, female))\n",
        "print(couples)\n",
        "\n",
        "for i, couple in enumerate(couples):  #inumerate -> 인덱스 활용시 사용\n",
        "  print(f'커플{i+1}: {couple[0]}, {couple[1]}')"
      ],
      "metadata": {
        "colab": {
          "base_uri": "https://localhost:8080/"
        },
        "id": "3JzFI8Npzk0T",
        "outputId": "678036c1-9d4d-40c0-8f44-97438f8f44f6"
      },
      "execution_count": null,
      "outputs": [
        {
          "output_type": "stream",
          "name": "stdout",
          "text": [
            "['로미오', '이몽룡', '철수', '온돌', '갑돌']\n",
            "['평강', '성춘향', '미미', '갑순', '줄리엣']\n",
            "[('로미오', '평강'), ('이몽룡', '성춘향'), ('철수', '미미'), ('온돌', '갑순'), ('갑돌', '줄리엣')]\n",
            "커플1: 로미오, 평강\n",
            "커플2: 이몽룡, 성춘향\n",
            "커플3: 철수, 미미\n",
            "커플4: 온돌, 갑순\n",
            "커플5: 갑돌, 줄리엣\n"
          ]
        }
      ]
    },
    {
      "cell_type": "markdown",
      "source": [
        "Task2_0430. 대문자, 소문자, 숫자를 포함하는 8자리 랜덤 비밀번호를 생성하는 프로그램을 작성하세요."
      ],
      "metadata": {
        "id": "w5RKI0Z2zN-n"
      }
    },
    {
      "cell_type": "code",
      "source": [
        "import random\n",
        "\n",
        "def make_password():\n",
        "    upperwords = 'ABCDEFGHIJKLMNOPQRSTUVWXYZ'\n",
        "    lowerwords = 'abcdefghijklmnopqrstuvwxyz'\n",
        "    digit = '0123456789'\n",
        "\n",
        "    password = random.choice(upperwords) + random.choice(lowerwords) + random.choice(digit)\n",
        "\n",
        "    for i in range(5):\n",
        "        i = random.choice([upperwords, lowerwords, digit])\n",
        "        password += random.choice(i)\n",
        "\n",
        "    password_list = list(password)\n",
        "    random.shuffle(password_list)\n",
        "    password = ''.join(password_list)\n",
        "\n",
        "    return password\n",
        "\n",
        "random_password = make_password()\n",
        "print(\"랜덤 비밀번호 :\", random_password)"
      ],
      "metadata": {
        "id": "XABsF-G53OdB",
        "colab": {
          "base_uri": "https://localhost:8080/"
        },
        "outputId": "04dba81f-fe92-4f53-dcb2-ecfb288887f8"
      },
      "execution_count": null,
      "outputs": [
        {
          "output_type": "stream",
          "name": "stdout",
          "text": [
            "랜덤 비밀번호 : cV1d9FzL\n"
          ]
        }
      ]
    },
    {
      "cell_type": "code",
      "source": [
        "import random\n",
        "import string # 문자열 상수를 제공하는 모듈로, 여기서는 알파벳 문자와 숫자를 포함\n",
        "\n",
        "characters = string.ascii_letters + string.digits # 모든 소문자와 대문자 알파벳을 포함(a-z A-z), 모든 숫자를 포함\n",
        "password = \"\".join(random.choice(characters) for i in range(8))\n",
        "print(\"랜덤 비밀번호 : \", password)"
      ],
      "metadata": {
        "colab": {
          "base_uri": "https://localhost:8080/"
        },
        "id": "-FaplGkMwlkB",
        "outputId": "880562f7-d60c-4c0b-9802-e440bd6c6d43"
      },
      "execution_count": null,
      "outputs": [
        {
          "output_type": "stream",
          "name": "stdout",
          "text": [
            "랜덤 비밀번호 :  u56dS90s\n"
          ]
        }
      ]
    },
    {
      "cell_type": "code",
      "source": [
        "# 대문자, 소문자, 숫자가 한번씩은 반드시 포함 되어야 하는 경우\n",
        "import random\n",
        "import string\n",
        "\n",
        "upperwords = random.choice(string.ascii_uppercase)\n",
        "lowerwords = random.choice(string.ascii_uppercase)\n",
        "digit = random.choice(string.digits)\n",
        "\n",
        "characters = string.ascii_letters + string.digits # 모든 소문자와 대문자 알파벳을 포함(a-z, A-Z)\n",
        "# characters = random.choice(upperwords) + random.choice(lowerwords) + random.choice(digit)\n",
        "rest = ''.join(random.choice(characters) for i in range(5))\n",
        "# 모든 요소를 하나의 문자열로 합치기\n",
        "password = upperwords + lowerwords + digit + rest\n",
        "# 비밀번호 임의로 섞기\n",
        "\n",
        "password = \"\".join(random.sample(password, len(password))) # 선택할 시퀀스, 선택할 요소)\n",
        "print(f'랜덤 비밀번호 : {password}')"
      ],
      "metadata": {
        "colab": {
          "base_uri": "https://localhost:8080/"
        },
        "id": "V7DwIGCI0pSD",
        "outputId": "ea24285b-065f-43c8-9d40-3b7cc51dc29d"
      },
      "execution_count": null,
      "outputs": [
        {
          "output_type": "stream",
          "name": "stdout",
          "text": [
            "랜덤 비밀번호 : RZbD6WrT\n"
          ]
        }
      ]
    },
    {
      "cell_type": "markdown",
      "source": [
        "Task3_0430. 발표자 수를 랜덤하게 출력하는 프로그램을 작성하세요.(발표자 수 입력)\n",
        "\n",
        "kita = ['김성현','황강민','윤효준','류윤선','이상협','박지환','최환욱','서보선','김한결','김도현','김하준',\n",
        "        '김도원','신현진','소지승','이범석','이현석','이명신','박윤경','이도헌','김홍준']"
      ],
      "metadata": {
        "id": "cY-7yEXyzNk7"
      }
    },
    {
      "cell_type": "code",
      "source": [
        "import random\n",
        "\n",
        "kita = ['김성현','황강민','윤효준','류윤선','이상협','박지환','최환욱','서보선','김한결','김도현','김하준', '김도원','신현진','소지승','이범석','이현석','이명신','박윤경','이도헌','김홍준']\n",
        "\n",
        "num = int(input('발표자 수 입력 > '))\n",
        "ans = random.sample(kita, num) # 중복 없이 요소를 선택\n",
        "print(ans)"
      ],
      "metadata": {
        "colab": {
          "base_uri": "https://localhost:8080/"
        },
        "id": "6A2pi0SN3YOM",
        "outputId": "899c5158-c368-4452-e277-178fcb23b6c4"
      },
      "execution_count": null,
      "outputs": [
        {
          "output_type": "stream",
          "name": "stdout",
          "text": [
            "발표자 수 입력 > 5\n",
            "['김도현', '황강민', '신현진', '김성현', '서보선']\n"
          ]
        }
      ]
    },
    {
      "cell_type": "markdown",
      "source": [
        "Task4_0430. 사용자로부터 숫자를 입력받아 해당 숫자의 구구단을 출력하는 프로그램을 작성하세요."
      ],
      "metadata": {
        "id": "O-9HlUrkzMjC"
      }
    },
    {
      "cell_type": "code",
      "source": [
        "n1 = int(input(\"구구단을 출력할 숫자를 입력하세요 : \"))\n",
        "count = 0\n",
        "while count < 9:\n",
        "  count += 1\n",
        "  mul_result = n1 * count\n",
        "  print(f\"{n1} * {count} = {mul_result}\")"
      ],
      "metadata": {
        "colab": {
          "base_uri": "https://localhost:8080/"
        },
        "id": "4O1uRSzY3X4s",
        "outputId": "0a8fbbe8-3742-4851-d55b-e2dde9c0bf63"
      },
      "execution_count": null,
      "outputs": [
        {
          "output_type": "stream",
          "name": "stdout",
          "text": [
            "숫자를 입력하세요 : 7\n",
            "7 * 1 = 7\n",
            "7 * 2 = 14\n",
            "7 * 3 = 21\n",
            "7 * 4 = 28\n",
            "7 * 5 = 35\n",
            "7 * 6 = 42\n",
            "7 * 7 = 49\n",
            "7 * 8 = 56\n",
            "7 * 9 = 63\n"
          ]
        }
      ]
    },
    {
      "cell_type": "code",
      "source": [
        "num = int(input(\"구구단을 출력할 숫자를 입력하세요 : \"))\n",
        "for i in range(1, 10):\n",
        "  print(f\"{num} * {i} = {num * i}\")"
      ],
      "metadata": {
        "colab": {
          "base_uri": "https://localhost:8080/"
        },
        "id": "hCSCXPlc6iAJ",
        "outputId": "8c13c70b-e280-46b9-a8d5-a90ecae8d6b7"
      },
      "execution_count": null,
      "outputs": [
        {
          "output_type": "stream",
          "name": "stdout",
          "text": [
            "구구단을 출력할 숫자를 입력하세요 : 5\n",
            "5 * 1 = 5\n",
            "5 * 2 = 10\n",
            "5 * 3 = 15\n",
            "5 * 4 = 20\n",
            "5 * 5 = 25\n",
            "5 * 6 = 30\n",
            "5 * 7 = 35\n",
            "5 * 8 = 40\n",
            "5 * 9 = 45\n"
          ]
        }
      ]
    },
    {
      "cell_type": "code",
      "source": [
        "# 구구단을 전부 출력하세요\n",
        "for i in range(2,10):\n",
        "  for j in range(1, 10):\n",
        "    print(f\"{i} * {j} = {i * j}\")\n",
        "  print('\\n')"
      ],
      "metadata": {
        "colab": {
          "base_uri": "https://localhost:8080/"
        },
        "id": "9OmQR3yf6XDh",
        "outputId": "8b6fedd9-326b-437d-e289-6b5342c7f439"
      },
      "execution_count": null,
      "outputs": [
        {
          "output_type": "stream",
          "name": "stdout",
          "text": [
            "2 * 1 = 2\n",
            "2 * 2 = 4\n",
            "2 * 3 = 6\n",
            "2 * 4 = 8\n",
            "2 * 5 = 10\n",
            "2 * 6 = 12\n",
            "2 * 7 = 14\n",
            "2 * 8 = 16\n",
            "2 * 9 = 18\n",
            "\n",
            "\n",
            "3 * 1 = 3\n",
            "3 * 2 = 6\n",
            "3 * 3 = 9\n",
            "3 * 4 = 12\n",
            "3 * 5 = 15\n",
            "3 * 6 = 18\n",
            "3 * 7 = 21\n",
            "3 * 8 = 24\n",
            "3 * 9 = 27\n",
            "\n",
            "\n",
            "4 * 1 = 4\n",
            "4 * 2 = 8\n",
            "4 * 3 = 12\n",
            "4 * 4 = 16\n",
            "4 * 5 = 20\n",
            "4 * 6 = 24\n",
            "4 * 7 = 28\n",
            "4 * 8 = 32\n",
            "4 * 9 = 36\n",
            "\n",
            "\n",
            "5 * 1 = 5\n",
            "5 * 2 = 10\n",
            "5 * 3 = 15\n",
            "5 * 4 = 20\n",
            "5 * 5 = 25\n",
            "5 * 6 = 30\n",
            "5 * 7 = 35\n",
            "5 * 8 = 40\n",
            "5 * 9 = 45\n",
            "\n",
            "\n",
            "6 * 1 = 6\n",
            "6 * 2 = 12\n",
            "6 * 3 = 18\n",
            "6 * 4 = 24\n",
            "6 * 5 = 30\n",
            "6 * 6 = 36\n",
            "6 * 7 = 42\n",
            "6 * 8 = 48\n",
            "6 * 9 = 54\n",
            "\n",
            "\n",
            "7 * 1 = 7\n",
            "7 * 2 = 14\n",
            "7 * 3 = 21\n",
            "7 * 4 = 28\n",
            "7 * 5 = 35\n",
            "7 * 6 = 42\n",
            "7 * 7 = 49\n",
            "7 * 8 = 56\n",
            "7 * 9 = 63\n",
            "\n",
            "\n",
            "8 * 1 = 8\n",
            "8 * 2 = 16\n",
            "8 * 3 = 24\n",
            "8 * 4 = 32\n",
            "8 * 5 = 40\n",
            "8 * 6 = 48\n",
            "8 * 7 = 56\n",
            "8 * 8 = 64\n",
            "8 * 9 = 72\n",
            "\n",
            "\n",
            "9 * 1 = 9\n",
            "9 * 2 = 18\n",
            "9 * 3 = 27\n",
            "9 * 4 = 36\n",
            "9 * 5 = 45\n",
            "9 * 6 = 54\n",
            "9 * 7 = 63\n",
            "9 * 8 = 72\n",
            "9 * 9 = 81\n",
            "\n",
            "\n"
          ]
        }
      ]
    },
    {
      "cell_type": "code",
      "source": [
        "# 구구단을 횡방향으로 출력하세요\n",
        "\n",
        "for j in range(1,10):\n",
        "  for i in range(2, 10):\n",
        "    print(f\"{i} * {j} = {i * j}\", end='\\t')\n",
        "  print()"
      ],
      "metadata": {
        "colab": {
          "base_uri": "https://localhost:8080/"
        },
        "id": "I_UPFg2o91sQ",
        "outputId": "f12a8085-d1f5-4d35-f069-73ad65af43d1"
      },
      "execution_count": null,
      "outputs": [
        {
          "output_type": "stream",
          "name": "stdout",
          "text": [
            "2 * 1 = 2\t3 * 1 = 3\t4 * 1 = 4\t5 * 1 = 5\t6 * 1 = 6\t7 * 1 = 7\t8 * 1 = 8\t9 * 1 = 9\t\n",
            "2 * 2 = 4\t3 * 2 = 6\t4 * 2 = 8\t5 * 2 = 10\t6 * 2 = 12\t7 * 2 = 14\t8 * 2 = 16\t9 * 2 = 18\t\n",
            "2 * 3 = 6\t3 * 3 = 9\t4 * 3 = 12\t5 * 3 = 15\t6 * 3 = 18\t7 * 3 = 21\t8 * 3 = 24\t9 * 3 = 27\t\n",
            "2 * 4 = 8\t3 * 4 = 12\t4 * 4 = 16\t5 * 4 = 20\t6 * 4 = 24\t7 * 4 = 28\t8 * 4 = 32\t9 * 4 = 36\t\n",
            "2 * 5 = 10\t3 * 5 = 15\t4 * 5 = 20\t5 * 5 = 25\t6 * 5 = 30\t7 * 5 = 35\t8 * 5 = 40\t9 * 5 = 45\t\n",
            "2 * 6 = 12\t3 * 6 = 18\t4 * 6 = 24\t5 * 6 = 30\t6 * 6 = 36\t7 * 6 = 42\t8 * 6 = 48\t9 * 6 = 54\t\n",
            "2 * 7 = 14\t3 * 7 = 21\t4 * 7 = 28\t5 * 7 = 35\t6 * 7 = 42\t7 * 7 = 49\t8 * 7 = 56\t9 * 7 = 63\t\n",
            "2 * 8 = 16\t3 * 8 = 24\t4 * 8 = 32\t5 * 8 = 40\t6 * 8 = 48\t7 * 8 = 56\t8 * 8 = 64\t9 * 8 = 72\t\n",
            "2 * 9 = 18\t3 * 9 = 27\t4 * 9 = 36\t5 * 9 = 45\t6 * 9 = 54\t7 * 9 = 63\t8 * 9 = 72\t9 * 9 = 81\t\n"
          ]
        }
      ]
    },
    {
      "cell_type": "markdown",
      "source": [
        "f-string내에서 { }안에는 변수 뿐만 아니라 python 표현식도 올 수 있음."
      ],
      "metadata": {
        "id": "3vRLEVADFWRp"
      }
    },
    {
      "cell_type": "markdown",
      "source": [
        "표현식(Expression)\n",
        "- 하나 이상의 값, 변수, 연산자, 함수 호출 등을 조합하여 평가(evaluate)될 때 값을 생성하거나 반환하는 코드\n",
        "- 표현식은 계산되어 값이 되는 모든 것을 의미\n",
        "\n",
        "표현식의 예시:\n",
        "- 수치 계산: 2 + 3는 5라는 값을 반환\n",
        "- 문자열 조합: \"Hello \" + \"World\"는 \"Hello World\"라는 문자열을 생성\n",
        "- 논리 연산: x > 5는 x의 값에 따라 True 또는 False를 반환\n",
        "- 함수 호출: sum([1, 2, 3])은 리스트의 합인 6을 반환\n",
        "- 조건식: x if x > 0 else -x는 x가 양수면 x를, 음수면 -x를 반환"
      ],
      "metadata": {
        "id": "cpZnmeeHGYoy"
      }
    },
    {
      "cell_type": "code",
      "source": [
        "# 몇단인지 표시하시오\n",
        "for i in range(2, 10):\n",
        "  print(f\"{' '*5}{i}단{' '*5}\", end=\"\\t\")\n",
        "print()\n",
        "\n",
        "for i in range(2, 10):\n",
        "  print(\"=\"*12, end=\"\\t\")\n",
        "print()\n",
        "\n",
        "for j in range(1,10):\n",
        "  for i in range(2, 10):\n",
        "    print(f\"{i} * {j} = {i * j}\", end='\\t')\n",
        "  print()"
      ],
      "metadata": {
        "colab": {
          "base_uri": "https://localhost:8080/"
        },
        "id": "EpTrOvheB_7-",
        "outputId": "a7c5693a-26ea-4f34-9b03-7c87e2457688"
      },
      "execution_count": null,
      "outputs": [
        {
          "output_type": "stream",
          "name": "stdout",
          "text": [
            "     2단     \t     3단     \t     4단     \t     5단     \t     6단     \t     7단     \t     8단     \t     9단     \t\n",
            "============\t============\t============\t============\t============\t============\t============\t============\t\n",
            "2 * 1 = 2\t3 * 1 = 3\t4 * 1 = 4\t5 * 1 = 5\t6 * 1 = 6\t7 * 1 = 7\t8 * 1 = 8\t9 * 1 = 9\t\n",
            "2 * 2 = 4\t3 * 2 = 6\t4 * 2 = 8\t5 * 2 = 10\t6 * 2 = 12\t7 * 2 = 14\t8 * 2 = 16\t9 * 2 = 18\t\n",
            "2 * 3 = 6\t3 * 3 = 9\t4 * 3 = 12\t5 * 3 = 15\t6 * 3 = 18\t7 * 3 = 21\t8 * 3 = 24\t9 * 3 = 27\t\n",
            "2 * 4 = 8\t3 * 4 = 12\t4 * 4 = 16\t5 * 4 = 20\t6 * 4 = 24\t7 * 4 = 28\t8 * 4 = 32\t9 * 4 = 36\t\n",
            "2 * 5 = 10\t3 * 5 = 15\t4 * 5 = 20\t5 * 5 = 25\t6 * 5 = 30\t7 * 5 = 35\t8 * 5 = 40\t9 * 5 = 45\t\n",
            "2 * 6 = 12\t3 * 6 = 18\t4 * 6 = 24\t5 * 6 = 30\t6 * 6 = 36\t7 * 6 = 42\t8 * 6 = 48\t9 * 6 = 54\t\n",
            "2 * 7 = 14\t3 * 7 = 21\t4 * 7 = 28\t5 * 7 = 35\t6 * 7 = 42\t7 * 7 = 49\t8 * 7 = 56\t9 * 7 = 63\t\n",
            "2 * 8 = 16\t3 * 8 = 24\t4 * 8 = 32\t5 * 8 = 40\t6 * 8 = 48\t7 * 8 = 56\t8 * 8 = 64\t9 * 8 = 72\t\n",
            "2 * 9 = 18\t3 * 9 = 27\t4 * 9 = 36\t5 * 9 = 45\t6 * 9 = 54\t7 * 9 = 63\t8 * 9 = 72\t9 * 9 = 81\t\n"
          ]
        }
      ]
    },
    {
      "cell_type": "markdown",
      "source": [
        "Task5_0430. 사용자로부터 숫자를 입력받아 해당 숫자의 팩토리얼을 계산하세요."
      ],
      "metadata": {
        "id": "oGKuG9xuzVrg"
      }
    },
    {
      "cell_type": "code",
      "source": [
        "# 5! 5*4*3*2*1\n",
        "num = int(input(\"팩토리얼을 계산할 숫자를 입력하세요 : \"))\n",
        "factorial = 1\n",
        "\n",
        "for i in range(1, num + 1):\n",
        "  factorial *= i\n",
        "\n",
        "print(f'{num}의 팩토리얼은 {factorial}입니다')"
      ],
      "metadata": {
        "colab": {
          "base_uri": "https://localhost:8080/"
        },
        "id": "hdlVL6rFKzaQ",
        "outputId": "9337f15f-2630-43ea-b6bf-c0503a43eff5"
      },
      "execution_count": null,
      "outputs": [
        {
          "output_type": "stream",
          "name": "stdout",
          "text": [
            "팩토리얼을 계산할 숫자를 입력하세요 : 9\n",
            "9의 팩토리얼은 362880입니다\n"
          ]
        }
      ]
    },
    {
      "cell_type": "markdown",
      "source": [
        "Task6_0430. 0부터 20까지의 숫자 중에서 짝수와 홀수를 분리하여 두 개의 리스트에 저장하세요."
      ],
      "metadata": {
        "id": "ya_YbtugzWzA"
      }
    },
    {
      "cell_type": "code",
      "source": [
        "odd_number = []\n",
        "even_number = []\n",
        "\n",
        "for i in range(21):\n",
        "  if i % 2 != 0:\n",
        "    odd_number.append(i)\n",
        "  else:\n",
        "    even_number.append(i)\n",
        "print(odd_number)\n",
        "print(even_number)"
      ],
      "metadata": {
        "colab": {
          "base_uri": "https://localhost:8080/"
        },
        "id": "YYNefvwL3ZzE",
        "outputId": "b61dc31c-7d01-47f0-be6f-5a31925b6513"
      },
      "execution_count": null,
      "outputs": [
        {
          "output_type": "stream",
          "name": "stdout",
          "text": [
            "[1, 3, 5, 7, 9, 11, 13, 15, 17, 19]\n",
            "[0, 2, 4, 6, 8, 10, 12, 14, 16, 18, 20]\n"
          ]
        }
      ]
    },
    {
      "cell_type": "markdown",
      "source": [
        "Task7_0430. 주어진 리스트에서 최대값을 찾아 출력하세요.\n",
        "\n",
        "numbers = [34, 78, 2, 45, 99, 23]"
      ],
      "metadata": {
        "id": "OthqTYOszX0q"
      }
    },
    {
      "cell_type": "code",
      "source": [
        "numbers = [34, 78, 2, 45, 99, 23]\n",
        "\n",
        "print(f'최대값 = {max(numbers)}')"
      ],
      "metadata": {
        "colab": {
          "base_uri": "https://localhost:8080/"
        },
        "id": "IC_q2zQW3ZKh",
        "outputId": "f80054b4-8d20-4e91-c5a5-efae44ee970c"
      },
      "execution_count": null,
      "outputs": [
        {
          "output_type": "stream",
          "name": "stdout",
          "text": [
            "최대값 = 99\n"
          ]
        }
      ]
    },
    {
      "cell_type": "code",
      "source": [
        "numbers = [34, 78, 2, 45, 99, 23]\n",
        "max = 0\n",
        "for i in numbers:\n",
        "  if i > max:\n",
        "    max = i\n",
        "print(max)"
      ],
      "metadata": {
        "colab": {
          "base_uri": "https://localhost:8080/"
        },
        "id": "6NIbaGH4Iw7R",
        "outputId": "3f18acf9-77e6-4f3c-ac8c-b985bc836899"
      },
      "execution_count": null,
      "outputs": [
        {
          "output_type": "stream",
          "name": "stdout",
          "text": [
            "99\n"
          ]
        }
      ]
    },
    {
      "cell_type": "markdown",
      "source": [
        "Task8_0430.  1부터 10 사이의 임의의 숫자를 맞추는 게임을 만드세요. 사용자가 숫자를 맞출 때까지 입력을 계속 받으며, 정답을 맞추면 게임을 종료하세요. 단, 입력숫자가 정답보다 큰지 작은지 힌트를 주는 방식으로 코드 작성"
      ],
      "metadata": {
        "id": "4vrWJbyOzYui"
      }
    },
    {
      "cell_type": "code",
      "source": [
        "import random\n",
        "target_number = random.randint(1, 10)\n",
        "while True:\n",
        "  guess = int(input(\"숫자를 맞추세요! :  \"))\n",
        "  if guess > target_number:\n",
        "    print(\"더 작은 숫자입니다!\")\n",
        "  elif guess < target_number:\n",
        "    print(\"더 큰 숫자입니다!\")\n",
        "  else:\n",
        "    print(\"정답입니다!\")\n",
        "    break"
      ],
      "metadata": {
        "id": "qe-NqQun3aQq",
        "colab": {
          "base_uri": "https://localhost:8080/"
        },
        "outputId": "de03edd4-5043-4ded-ad29-36e8bbf386bd"
      },
      "execution_count": null,
      "outputs": [
        {
          "output_type": "stream",
          "name": "stdout",
          "text": [
            "숫자를 맞추세요! :  3\n",
            "더 큰 숫자입니다!\n",
            "숫자를 맞추세요! :  5\n",
            "더 큰 숫자입니다!\n",
            "숫자를 맞추세요! :  7\n",
            "더 큰 숫자입니다!\n",
            "숫자를 맞추세요! :  9\n",
            "정답입니다!\n"
          ]
        }
      ]
    },
    {
      "cell_type": "markdown",
      "source": [
        "Task9_0430. 태어난 연도를 입력받아 띠를 출력하는 프로그램을 작성하세요."
      ],
      "metadata": {
        "id": "pAl3PUHczZ-l"
      }
    },
    {
      "cell_type": "code",
      "source": [
        "zodiacs = [\"원숭이\", \"닭\", \"개\", \"돼지\",\"쥐\", \"소\", \"호랑이\", \"토끼\",\"용\", \"뱀\", \"말\", \"양\"]\n",
        "\n",
        "def find_zodiac(year):\n",
        "    years = birth_year % 12\n",
        "    zodiac = zodiacs[years]\n",
        "    return zodiac\n",
        "\n",
        "birth_year = int(input(\"태어난 연도를 입력하세요: \"))\n",
        "zodiac = find_zodiac(year)\n",
        "print(f\"{birth_year}년은 {zodiac}띠 입니다.\")"
      ],
      "metadata": {
        "id": "uW2DS58R3a43",
        "colab": {
          "base_uri": "https://localhost:8080/"
        },
        "outputId": "b20bd9e2-9afb-4cf9-a97b-4ebf49d5c024"
      },
      "execution_count": null,
      "outputs": [
        {
          "output_type": "stream",
          "name": "stdout",
          "text": [
            "태어난 연도를 입력하세요: 1966\n",
            "1966년은 말띠 입니다.\n"
          ]
        }
      ]
    },
    {
      "cell_type": "code",
      "source": [
        "# 강사님 풀이\n",
        "# 값을 쥐띠의 해로 빼서 리스트를 수정하지 않아도 된다.\n",
        "birth_year = int(input(\"태어난 연도를 입력하세요: \"))\n",
        "\n",
        "zodiacs = [\"쥐\", \"소\", \"호랑이\", \"토끼\",\"용\", \"뱀\", \"말\", \"양\", \"원숭이\", \"닭\", \"개\", \"돼지\"]\n",
        "\n",
        "zodiacs_index = (birth_year - 1996 ) % 12\n",
        "zodiacs = zodiacs[zodiacs_index]\n",
        "\n",
        "print(f'{birth_year}년은 {zodiacs}띠 입니다')"
      ],
      "metadata": {
        "colab": {
          "base_uri": "https://localhost:8080/"
        },
        "id": "LyQu8koJLBC6",
        "outputId": "8aa33a75-a0ab-4e24-e238-aeac9ba6de45"
      },
      "execution_count": null,
      "outputs": [
        {
          "output_type": "stream",
          "name": "stdout",
          "text": [
            "태어난 연도를 입력하세요: 1971\n",
            "1971년은 돼지띠 입니다\n"
          ]
        }
      ]
    },
    {
      "cell_type": "code",
      "source": [
        "#아주 간단한 풀이\n",
        "y = [\"원숭이\", \"닭\", \"개\", \"돼지\",\"쥐\", \"소\", \"호랑이\", \"토끼\",\"용\", \"뱀\", \"말\", \"양\"]\n",
        "x = int(input(\"태어난 연도를 입력하세요: \"))\n",
        "print(f\"{y[x%12]}띠 입니다.\")"
      ],
      "metadata": {
        "colab": {
          "base_uri": "https://localhost:8080/"
        },
        "id": "eh2ad7msNlzR",
        "outputId": "467e1f58-4364-471e-e476-ff67498c56ba"
      },
      "execution_count": null,
      "outputs": [
        {
          "output_type": "stream",
          "name": "stdout",
          "text": [
            "태어난 연도를 입력하세요: 1996\n",
            "쥐띠 입니다.\n"
          ]
        }
      ]
    },
    {
      "cell_type": "markdown",
      "source": [
        "Task10_0430. 아래 사항을 반영하여 커피 자판기 프로그램을 작성하세요.\n",
        "- 시나리오 : 자판기 커피 재고 5잔, 커피 1잔 가격 300원, 재고 범위내에서 300원 이상 돈을 넣으면 거스름돈과 커피를 주고 그렇지 않으면 반환하며 재고가 소진되면 안내멘트 출력\n",
        "- 각 Case별 멘트 출력은 상황에 맞게 창작\n",
        "- while, if ~ elif ~ else 제어문을 사용하여 작성"
      ],
      "metadata": {
        "id": "RlAFfW3fza8V"
      }
    },
    {
      "cell_type": "code",
      "source": [
        "coffee = 5\n",
        "while True:\n",
        "  money = int(input(\"돈을 넣어주세요\"))\n",
        "  if money == 300:\n",
        "    print(\"맛있는 커피를 만들고 있습니다\")\n",
        "    coffee -= 1\n",
        "  elif money > 300:\n",
        "    print(\"%d원의 거스름돈은 %d원입니다. 맛있는 커피를 추출합니다.\"%(money, money-300))\n",
        "    coffee -= 1\n",
        "  else:\n",
        "    print(\"%d원이 부족합니다. 돈을 %d원 만큼 더 넣어주세요\"%(300-money,300-money))\n",
        "  if coffee == 0:\n",
        "    print(\"커피가 다 소진 되었습니다. 010-0000-0000으로 연락주시면 금방 채워 드리겠습니다\")\n",
        "    break"
      ],
      "metadata": {
        "id": "6zowLPrLNOsW"
      },
      "execution_count": null,
      "outputs": []
    },
    {
      "cell_type": "code",
      "source": [
        "# Q. 로또 번호 6개를 6세트 출력하는 코드를 작성하세요(중복안됨)\n",
        "import random\n",
        "r = list(range(1,46))\n",
        "for i in range(6):\n",
        "  lotto = random.sample(r,6)\n",
        "  print(sorted(lotto))"
      ],
      "metadata": {
        "colab": {
          "base_uri": "https://localhost:8080/"
        },
        "id": "358NOPskTAoH",
        "outputId": "a2325345-971c-4066-e48f-6c49933140e8"
      },
      "execution_count": null,
      "outputs": [
        {
          "output_type": "stream",
          "name": "stdout",
          "text": [
            "[4, 12, 14, 21, 25, 36]\n",
            "[3, 10, 16, 27, 30, 37]\n",
            "[6, 7, 19, 31, 44, 45]\n",
            "[23, 27, 33, 37, 40, 41]\n",
            "[17, 20, 25, 34, 35, 40]\n",
            "[2, 11, 20, 24, 27, 40]\n"
          ]
        }
      ]
    },
    {
      "cell_type": "code",
      "source": [
        "# Q. n개 그룹으로 분류하는 코드를 작성하세요.\n",
        "kita = ['김성현','황강민','윤효준','류윤선','이상협','박지환','최환욱','서보선','김한결','김도현','김하준','김도원','신현진','소지승','이범석','이현석','이명신','박윤경','이도헌','김홍준']\n",
        "n = int(input(\"몇개의 그룹으로 나누시겠습니까? \"))\n",
        "random.shuffle(kita)\n",
        "# print(kita)\n",
        "groups = [kita[i::n] for i in range(n)]\n",
        "# print(groups)\n",
        "for idx, group in enumerate(groups):\n",
        "  print(f\"그룹 {idx + 1}: {group}\")"
      ],
      "metadata": {
        "colab": {
          "base_uri": "https://localhost:8080/"
        },
        "id": "7nz0VSoNTH1B",
        "outputId": "315341dd-335a-4225-ad68-18f2c355d610"
      },
      "execution_count": null,
      "outputs": [
        {
          "output_type": "stream",
          "name": "stdout",
          "text": [
            "몇개의 그룹으로 나누시겠습니까? 4\n",
            "그룹 1: ['이현석', '황강민', '김도원', '신현진', '윤효준']\n",
            "그룹 2: ['김도현', '김한결', '이상협', '박지환', '김홍준']\n",
            "그룹 3: ['서보선', '박윤경', '이범석', '소지승', '이명신']\n",
            "그룹 4: ['김하준', '김성현', '최환욱', '이도헌', '류윤선']\n"
          ]
        }
      ]
    },
    {
      "cell_type": "code",
      "source": [
        "# Q. 1부터 100까지의 정수중 5에서 95까지의 합을 구하세요\n",
        "sum = 0\n",
        "\n",
        "for i in range(1,101):\n",
        "  if 5 <= i <= 95:\n",
        "    sum += i\n",
        "print(sum)"
      ],
      "metadata": {
        "colab": {
          "base_uri": "https://localhost:8080/"
        },
        "id": "4ZkYqnaFTONw",
        "outputId": "d87ad38d-aa3d-45cb-db19-3abc39b620b1"
      },
      "execution_count": null,
      "outputs": [
        {
          "output_type": "stream",
          "name": "stdout",
          "text": [
            "4550\n"
          ]
        }
      ]
    },
    {
      "cell_type": "code",
      "source": [
        "# 강사님 풀이\n",
        "sum = 0\n",
        "i = 1\n",
        "while i <= 100:\n",
        "  if 5 <= i <= 95:\n",
        "    sum += i\n",
        "  i += 1\n",
        "print(sum)"
      ],
      "metadata": {
        "colab": {
          "base_uri": "https://localhost:8080/"
        },
        "id": "q-qRUYvpvBbN",
        "outputId": "72892e02-947c-41a1-ce7e-8e30fadd6e5d"
      },
      "execution_count": null,
      "outputs": [
        {
          "output_type": "stream",
          "name": "stdout",
          "text": [
            "4550\n"
          ]
        }
      ]
    },
    {
      "cell_type": "code",
      "source": [
        "# Q. while문을 사용해 1부터 1000까지의 정수중 3과 5의 공배수의 합을 구하세요\n",
        "i = 1\n",
        "sum = 0\n",
        "\n",
        "while i <= 1000:\n",
        "    if i % 3 == 0 and i % 5 == 0:\n",
        "    # if i % 15 = 0  # 15가 3과 5의 최소공배수이므로 15로 나눠서도 가능\n",
        "      sum += i\n",
        "    i += 1\n",
        "\n",
        "print(sum)"
      ],
      "metadata": {
        "colab": {
          "base_uri": "https://localhost:8080/"
        },
        "id": "v8UCwcROTTfw",
        "outputId": "f68b6ba6-1ee9-4dab-b91d-7224d95e0586"
      },
      "execution_count": null,
      "outputs": [
        {
          "output_type": "stream",
          "name": "stdout",
          "text": [
            "33165\n"
          ]
        }
      ]
    },
    {
      "cell_type": "code",
      "source": [
        "# Q. 현재 시각을 오전과 오후로 구분하는 프로그램을 작성하세요\n",
        "import datetime\n",
        "import pytz\n",
        "\n",
        "tz = pytz.timezone('Asia/Seoul')\n",
        "now = datetime.datetime.now(tz)\n",
        "now_time = now.hour\n",
        "now_time\n",
        "if now_time >= 12:\n",
        "  print(\"오후입니다.\")\n",
        "else:\n",
        "  print(\"오전입니다.\")"
      ],
      "metadata": {
        "colab": {
          "base_uri": "https://localhost:8080/"
        },
        "id": "isOykTduTccR",
        "outputId": "ad728fb4-44e2-4eea-eb49-b5e55b3b4659"
      },
      "execution_count": null,
      "outputs": [
        {
          "output_type": "stream",
          "name": "stdout",
          "text": [
            "오후입니다.\n"
          ]
        }
      ]
    },
    {
      "cell_type": "code",
      "source": [
        "# 다양한 오류 입력에 대한 해결 방안 추가 필요\n",
        "time = input(\"현재 시간을 입력하세요(ex. 15시 30분, 15시)\")\n",
        "\n",
        "# if time[2] != '시':  # 이렇게 작성하게 되면 인덱스에서 세번째 값이 '시' 와같은 값이 아닐때 에러가 뜬다. 그래서 시가 없을 경우 else 값을 뽑기 위해서\n",
        "if '시' not in time:\n",
        "  print(\"형식에 맞춰 작성해 주세요.\")\n",
        "elif int(time.split('시')[0]) >= 0 and int(time.split('시')[0]):\n",
        "  print(\"오전 입니다.\")\n",
        "elif int(time.split('시')[0]) >= 0 and int(time.split('시')[0]):\n",
        "  print(\"오후 입니다.\")\n",
        "else:\n",
        "  print(\"시간을 다시 입력해 주세요.\")"
      ],
      "metadata": {
        "colab": {
          "base_uri": "https://localhost:8080/"
        },
        "id": "h7XAWmu_yxUY",
        "outputId": "a2083ee8-ba54-4320-9152-745d49210948"
      },
      "execution_count": null,
      "outputs": [
        {
          "output_type": "stream",
          "name": "stdout",
          "text": [
            "현재 시간을 입력하세요(ex. 15시 30분, 15시)15시\n",
            "오전 입니다.\n"
          ]
        }
      ]
    },
    {
      "cell_type": "markdown",
      "source": [
        "#### pop 함수\n",
        "- 리스트와 같은 자료 구조에서 주로 사용되는 함수\n",
        "- 이 함수는 특정 인덱스에 위치한 요소를 리스트에서 제거하고 해당 요소를 반환"
      ],
      "metadata": {
        "id": "YGkhlxQx2MX8"
      }
    },
    {
      "cell_type": "code",
      "source": [
        "from os import remove\n",
        "fruits = [\"apple\", \"banana\", \"cherry\", \"date\"]\n",
        "\n",
        "# 인덱스 2의 요소 (cherry)를 제거하고 반환\n",
        "remove_fruit = fruits.pop(2)\n",
        "print(remove_fruit)\n",
        "print(fruits)\n",
        "\n",
        "# 리스트의 마지막요소 (date)를 제거하고 반환\n",
        "last_fruit = fruits.pop()\n",
        "print(last_fruit)\n",
        "print(fruits)"
      ],
      "metadata": {
        "colab": {
          "base_uri": "https://localhost:8080/"
        },
        "id": "7nTsjKHQ2em3",
        "outputId": "87dd60e6-a62d-412d-d2e5-09f993dd04a0"
      },
      "execution_count": null,
      "outputs": [
        {
          "output_type": "stream",
          "name": "stdout",
          "text": [
            "cherry\n",
            "['apple', 'banana', 'date']\n",
            "date\n",
            "['apple', 'banana']\n"
          ]
        }
      ]
    },
    {
      "cell_type": "markdown",
      "source": [
        "Task1_0502. 짝수와 짝수를 입력하면 곱한 값을 출력하고 홀수와 홀수를 입력하면 덧셈 값을 출력하고 그외는 다시 입력하라는 메시지를 출력하세요."
      ],
      "metadata": {
        "id": "sTH_yit42EXW"
      }
    },
    {
      "cell_type": "code",
      "source": [
        "while True:\n",
        "  i = int(input(\"숫자를 입력하세요 : \"))\n",
        "  j = int(input(\"숫자를 입력하세요 : \"))\n",
        "  if i % 2 ==0 and j % 2 ==0:\n",
        "    print(f\"짝수의 곱은 {i * j}입니다.\")\n",
        "  elif i % 2 !=0 and j % 2 !=0:\n",
        "    print(f\"홀수의 합은{i + j} 입니다.\")\n",
        "  else:\n",
        "    print('다시 확인하시고 짝수나 홀수만 입력해 주세요')\n",
        "    continue\n",
        "  break"
      ],
      "metadata": {
        "colab": {
          "base_uri": "https://localhost:8080/"
        },
        "id": "nbeA7X9Z2E-V",
        "outputId": "7972e80f-dc3e-4e70-de16-d3f5d3715935"
      },
      "execution_count": 12,
      "outputs": [
        {
          "output_type": "stream",
          "name": "stdout",
          "text": [
            "숫자를 입력하세요 : 2\n",
            "숫자를 입력하세요 : 1\n",
            "다시 확인하시고 짝수나 홀수만 입력해 주세요\n",
            "숫자를 입력하세요 : 22\n",
            "숫자를 입력하세요 : 22\n",
            "짝수의 곱은 484입니다.\n"
          ]
        }
      ]
    },
    {
      "cell_type": "markdown",
      "source": [
        "Task2_0502. 현재 계절 구분 프로그램\n",
        "- 시나리오 : 3 ~ 5월은 봄, 6 ~ 8월은 여름, 9 ~ 11월은 가을, 12 ~ 2월은 겨울로 구분. 지금 계절을 알려주는 프로그램\n",
        "- 각 계절별 출력 멘트는 계절에 맞게 창작\n",
        "- if 조건문으로 datetime 모듈을 import해서 datetime.now 함수를 사용해서 작성"
      ],
      "metadata": {
        "id": "x3iqb62953n5"
      }
    },
    {
      "cell_type": "code",
      "source": [
        "from datetime import datetime\n",
        "spring = [3, 4, 5]\n",
        "summer = [6, 8, 7]\n",
        "autumn = [9, 10, 11]\n",
        "wintter = [12, 1, 2]\n",
        "\n",
        "today = datetime.now()\n",
        "month = today.month\n",
        "if month in spring:\n",
        "  print(\"쌔싹이 돋아나는 봄이 왔습니다.\")\n",
        "elif month in summer:\n",
        "  print(\"바캉스의 계절 여름이 왔습니다.\")\n",
        "elif month in autumn:\n",
        "  print(\"독서의 계절 가을이 왔습니다\")\n",
        "else:\n",
        "  print(\"연말 연초의 겨울이 왔습니다.\")"
      ],
      "metadata": {
        "id": "MuAkYFB-KFWG",
        "colab": {
          "base_uri": "https://localhost:8080/"
        },
        "outputId": "1272a30c-1b46-4659-837e-7ae7c0efa790"
      },
      "execution_count": 14,
      "outputs": [
        {
          "output_type": "stream",
          "name": "stdout",
          "text": [
            "쌔싹이 돋아나는 봄이 왔습니다.\n"
          ]
        }
      ]
    },
    {
      "cell_type": "code",
      "source": [
        "# import datetime\n",
        "\n",
        "# t= datetime.datetime.now()\n",
        "\n",
        "# print('지금 우리가 지내는 계절은 어디쯤 있나요?')\n",
        "# if t.month<12 and t.month>=9:\n",
        "#   print('단풍이 지천을 물들이는 계절, 가을입니다.')\n",
        "# elif t.month<9 and t.month>=6:\n",
        "#   print('작열하는 태양과 신록이 공존하는 계절, 여름입니다.')\n",
        "# elif t.month<6 and t.month>=3:\n",
        "#   print('벚꽃 나들이가 설래는 봄입니다.')\n",
        "# else:\n",
        "#   print('살고싶으면 장롱에 히트텍 꺼내, 겨울입니다')"
      ],
      "metadata": {
        "colab": {
          "base_uri": "https://localhost:8080/"
        },
        "id": "S7GTbHqHz7tS",
        "outputId": "261652da-ec99-4f78-d1a9-c1252979076a"
      },
      "execution_count": 16,
      "outputs": [
        {
          "output_type": "stream",
          "name": "stdout",
          "text": [
            "지금 우리가 지내는 계절은 어디쯤 있나요?\n",
            "벚꽃 나들이가 설래는 봄입니다.\n"
          ]
        }
      ]
    },
    {
      "cell_type": "markdown",
      "source": [
        "Task3_0502. 1부터 99까지 아래와 같이 2개의 수를 곱해서 가장 큰 수를 구하세요.\n",
        "\n",
        "`1*99, 2*98 ...99*1`"
      ],
      "metadata": {
        "id": "R_837aDT55dJ"
      }
    },
    {
      "cell_type": "code",
      "source": [
        "i = range(1,100)\n",
        "j = range(99,1,-1)\n",
        "max_result = 0\n",
        "\n",
        "for num1, num2 in zip(i,j):\n",
        "  result = num1 * num2\n",
        "  if result > max_result:\n",
        "    max_result = result\n",
        "print(f'최대값 = {max_result}')"
      ],
      "metadata": {
        "colab": {
          "base_uri": "https://localhost:8080/"
        },
        "id": "NZU-FqBw6Knv",
        "outputId": "45d9158b-921a-40cf-d7f8-c47242241635"
      },
      "execution_count": null,
      "outputs": [
        {
          "output_type": "stream",
          "name": "stdout",
          "text": [
            "최대값 = 2500\n"
          ]
        }
      ]
    },
    {
      "cell_type": "code",
      "source": [
        "# 다른 풀이 방법\n",
        "max_value = 0\n",
        "for i in range(1,100):\n",
        "  if max_value >= (i*(100-i)):\n",
        "    continue\n",
        "  else:\n",
        "    max_value = i*(100-i)\n",
        "print(max_value)"
      ],
      "metadata": {
        "colab": {
          "base_uri": "https://localhost:8080/"
        },
        "id": "SZPV_NRg1ND1",
        "outputId": "08f05d52-2d68-41c3-cc73-cbf9f8b497c9"
      },
      "execution_count": 17,
      "outputs": [
        {
          "output_type": "stream",
          "name": "stdout",
          "text": [
            "2500\n"
          ]
        }
      ]
    },
    {
      "cell_type": "code",
      "source": [
        "# 또 다른 풀이법\n",
        "n = 1\n",
        "result = 0\n",
        "while n <= 100:\n",
        "  a = n*(100-n)\n",
        "  if a > result:\n",
        "    result = a\n",
        "    n += 1\n",
        "  else:\n",
        "    n += 1\n",
        "    continue\n",
        "print(result)"
      ],
      "metadata": {
        "colab": {
          "base_uri": "https://localhost:8080/"
        },
        "id": "ZbPIWUd_2Yuw",
        "outputId": "5d95a7cc-3298-4e88-860f-6bb7560436a4"
      },
      "execution_count": 18,
      "outputs": [
        {
          "output_type": "stream",
          "name": "stdout",
          "text": [
            "2500\n"
          ]
        }
      ]
    },
    {
      "cell_type": "code",
      "source": [
        "# 입력값 없고, 출력값만 있는 형태의 사용자 함수 만들어서 풀기\n",
        "def findBiggestOne():\n",
        "  biggestNum = 0\n",
        "  for i, j in zip(range(1,100), range(99,0,-1)):\n",
        "    if i * j > biggestNum:\n",
        "      biggestNum = i*j\n",
        "  return biggestNum\n",
        "print(findBiggestOne())"
      ],
      "metadata": {
        "colab": {
          "base_uri": "https://localhost:8080/"
        },
        "id": "Eyc6ie--3Jxb",
        "outputId": "99887b48-1442-4975-caa4-bb9a492e46a3"
      },
      "execution_count": 26,
      "outputs": [
        {
          "output_type": "stream",
          "name": "stdout",
          "text": [
            "2500\n"
          ]
        }
      ]
    },
    {
      "cell_type": "code",
      "source": [
        "# for i in range(99,0,-1):\n",
        "#   print(i, end=\" \")\n",
        "# 이 자료를 리스트로 뽑기\n",
        "# numbers = [i for i in range(99,0,-1)]\n",
        "# print(numbers)\n",
        "# 튜플로 뽑기\n",
        "# numbers = tuple([i for i in range(99,0,-1)])\n",
        "# print(numbers)\n",
        "# 문자로 뽑기\n",
        "# numbers = str(i for i in range(99,0,-1))\n",
        "# print(numbers)\n",
        "# 문자열 리스트로 뽑기\n",
        "# numbers = [str(i) for i in range(99,0,-1)]\n",
        "# print(numbers)"
      ],
      "metadata": {
        "colab": {
          "base_uri": "https://localhost:8080/"
        },
        "id": "71w9Vd0w-XPi",
        "outputId": "ad49b15c-0aef-4a5e-f349-587635fb1525"
      },
      "execution_count": 49,
      "outputs": [
        {
          "output_type": "stream",
          "name": "stdout",
          "text": [
            "['99', '98', '97', '96', '95', '94', '93', '92', '91', '90', '89', '88', '87', '86', '85', '84', '83', '82', '81', '80', '79', '78', '77', '76', '75', '74', '73', '72', '71', '70', '69', '68', '67', '66', '65', '64', '63', '62', '61', '60', '59', '58', '57', '56', '55', '54', '53', '52', '51', '50', '49', '48', '47', '46', '45', '44', '43', '42', '41', '40', '39', '38', '37', '36', '35', '34', '33', '32', '31', '30', '29', '28', '27', '26', '25', '24', '23', '22', '21', '20', '19', '18', '17', '16', '15', '14', '13', '12', '11', '10', '9', '8', '7', '6', '5', '4', '3', '2', '1']\n"
          ]
        }
      ]
    },
    {
      "cell_type": "markdown",
      "source": [
        "Task4_0502. [    ]을 채워서 아래의 출력과 같이 출력하세요."
      ],
      "metadata": {
        "id": "cy51BBbz5_Xg"
      }
    },
    {
      "cell_type": "code",
      "source": [
        "numbers = [1,2,3,4,5,6,7,8,9]\n",
        "output = [[], [], []]\n",
        "i = 0\n",
        "\n",
        "for _ in numbers:\n",
        "  output[i%3].append(numbers[i])\n",
        "  i += 1\n",
        "print(output)\n",
        "\n",
        "# enmerate를 사용하여 인덱스를 활용한 풀이방법\n",
        "# for idx, num in enumerate(numbers):\n",
        "#   output[idx%3].append(num)\n",
        "# print(output)\n",
        "\n",
        "# [[1,4,7],[2,5,8],[3,6,9]]"
      ],
      "metadata": {
        "colab": {
          "base_uri": "https://localhost:8080/"
        },
        "id": "TcXSba5w6Aog",
        "outputId": "e6707d0c-802a-479a-dd39-7f94752d9ac3"
      },
      "execution_count": 35,
      "outputs": [
        {
          "output_type": "stream",
          "name": "stdout",
          "text": [
            "[[1, 4, 7], [2, 5, 8], [3, 6, 9]]\n"
          ]
        }
      ]
    },
    {
      "cell_type": "code",
      "source": [
        "# # 다른 풀이방법\n",
        "# numbers = [1,2,3,4,5,6,7,8,9]\n",
        "# output = [[], [], []]\n",
        "# for num in numbers:\n",
        "#   if num % 3 == 1:\n",
        "#     output[0].append(num)\n",
        "#   elif num % 3 == 2:\n",
        "#     output[1].append(num)\n",
        "#   else:\n",
        "#     output[2].append(num)\n",
        "#   print(output)"
      ],
      "metadata": {
        "colab": {
          "base_uri": "https://localhost:8080/"
        },
        "id": "uR2GTyWV64Mk",
        "outputId": "c96842ed-d827-4bd7-8533-b18c77690a69"
      },
      "execution_count": 34,
      "outputs": [
        {
          "output_type": "stream",
          "name": "stdout",
          "text": [
            "[[1, 4, 7], [2, 5, 8], [3, 6, 9]]\n"
          ]
        }
      ]
    },
    {
      "cell_type": "code",
      "source": [
        "# # 다른 풀이방법\n",
        "# numbers = [1,2,3,4,5,6,7,8,9]\n",
        "# output = [[], [], []]\n",
        "\n",
        "# for number in numbers:\n",
        "#   output[(number-1)%3].append(number)\n",
        "# print(output)"
      ],
      "metadata": {
        "colab": {
          "base_uri": "https://localhost:8080/"
        },
        "id": "mTKxB15i7Tqx",
        "outputId": "f9ba92d7-f55d-45bf-f30d-6a84bafc88d4"
      },
      "execution_count": 37,
      "outputs": [
        {
          "output_type": "stream",
          "name": "stdout",
          "text": [
            "[[1, 4, 7], [2, 5, 8], [3, 6, 9]]\n"
          ]
        }
      ]
    },
    {
      "cell_type": "markdown",
      "source": [
        "Task5_0502. 주어진 리스트에서 중복된 요소를 제거하고, 남은 요소만을 포함하는 새 리스트를 반환합니다. 순서는 유지해야 합니다."
      ],
      "metadata": {
        "id": "jlSWLr--6Q8j"
      }
    },
    {
      "cell_type": "code",
      "source": [
        "input_list = [1, 2, 6, 2, 3, 7, 4, 4, 5, 6, 7, 7]\n",
        "output_list = []\n",
        "\n",
        "# for i in input_list:\n",
        "#     if i not in output_list:\n",
        "#         output_list.append(i)\n",
        "\n",
        "# print(output_list)\n",
        "\n",
        "input_list = [1, 2, 6, 2, 3, 7, 4, 4, 5, 6, 7, 7]\n",
        "def remove_dup(input_list):\n",
        "  num = []\n",
        "  out_list = []\n",
        "  for i in input_list:\n",
        "    if i not in num:\n",
        "      num.append(i)\n",
        "  return num\n",
        "\n",
        "out_list=remove_dup(input_list)\n",
        "print(out_list)"
      ],
      "metadata": {
        "colab": {
          "base_uri": "https://localhost:8080/"
        },
        "id": "GlgzLHbgCgJn",
        "outputId": "2625146d-8a0d-4282-fe2f-c905f279f804"
      },
      "execution_count": 8,
      "outputs": [
        {
          "output_type": "stream",
          "name": "stdout",
          "text": [
            "[1, 2, 6, 3, 7, 4, 5]\n"
          ]
        }
      ]
    },
    {
      "cell_type": "code",
      "source": [
        "input_list = [1, 2, 6, 2, 3, 7, 4, 4, 5, 6, 7, 7]\n",
        "print()\n",
        "def remove_deplicates(input_list):\n",
        "  num = set()\n",
        "  result = []\n",
        "  for i in input_list:\n",
        "    if i not in num: # set 자료형인 num과 비교하면서 input_list의 각 요소들에서 중복 안되는 것만 도출\n",
        "      num.add(i)\n",
        "      result.append(i)\n",
        "  return result\n",
        "print(remove_deplicates(input_list))"
      ],
      "metadata": {
        "colab": {
          "base_uri": "https://localhost:8080/"
        },
        "id": "mu68daGREh1d",
        "outputId": "49e42f04-b831-4590-cc28-a3dd409d2914"
      },
      "execution_count": 4,
      "outputs": [
        {
          "output_type": "stream",
          "name": "stdout",
          "text": [
            "[1, 2, 6, 3, 7, 4, 5]\n"
          ]
        }
      ]
    },
    {
      "cell_type": "code",
      "source": [
        "# 이것도 순서유지는 안됨.. ㅠㅠ\n",
        "# input_list = [8,6,7,2,1,4,6,3,5,2,2,1]\n",
        "# for i in input_list:\n",
        "#   if input_list.count(i) > 1:\n",
        "#     input_list.remove(i)\n",
        "# print(input_list)"
      ],
      "metadata": {
        "colab": {
          "base_uri": "https://localhost:8080/"
        },
        "id": "2OH28OgO__UU",
        "outputId": "30c392a5-3631-4bce-92a7-3140d98efc0b"
      },
      "execution_count": 54,
      "outputs": [
        {
          "output_type": "stream",
          "name": "stdout",
          "text": [
            "[8, 7, 4, 6, 3, 5, 2, 1]\n"
          ]
        }
      ]
    },
    {
      "cell_type": "code",
      "source": [
        "# set을 쓰게되면 중복되는 요소가 있으면 순서가 정렬된다\n",
        "input_list = [8,6,7,2,1,4,6,3,5,2,2,1]\n",
        "new_list = list(set(input_list))\n",
        "print(new_list)"
      ],
      "metadata": {
        "colab": {
          "base_uri": "https://localhost:8080/"
        },
        "id": "N7rpePCT6Pif",
        "outputId": "a75b21a0-f7f7-48a0-cf8e-3aa150b1d08f"
      },
      "execution_count": 52,
      "outputs": [
        {
          "output_type": "stream",
          "name": "stdout",
          "text": [
            "[1, 2, 3, 4, 5, 6, 7, 8]\n"
          ]
        }
      ]
    },
    {
      "cell_type": "markdown",
      "source": [
        "Task6_0502. 주어진 문자열을 모스 코드로 변환하는 함수를 작성하세요. 공백은 무시하고 알파벳만 변환하세요.\n",
        "\n",
        "input_text = \"Hello World\""
      ],
      "metadata": {
        "id": "frGVuBnk6xtG"
      }
    },
    {
      "cell_type": "code",
      "source": [
        "morse_code = {\n",
        "        'A': '.-', 'B': '-...', 'C': '-.-.', 'D': '-..', 'E': '.', 'F': '..-.',\n",
        "        'G': '--.', 'H': '....', 'I': '..', 'J': '.---', 'K': '-.-', 'L': '.-..',\n",
        "        'M': '--', 'N': '-.', 'O': '---', 'P': '.--.', 'Q': '--.-', 'R': '.-.',\n",
        "        'S': '...', 'T': '-', 'U': '..-', 'V': '...-', 'W': '.--', 'X': '-..-',\n",
        "        'Y': '-.--', 'Z': '--..'\n",
        "    }\n",
        "input_text = \"Hello World\"\n",
        "result = \"\"\n",
        "\n",
        "for char in input_text:\n",
        "  if char.upper() in morse_code:\n",
        "    result += morse_code[char.upper()]\n",
        "print(result)"
      ],
      "metadata": {
        "id": "ahBcZIqs60Nq",
        "colab": {
          "base_uri": "https://localhost:8080/"
        },
        "outputId": "5b6d5707-01d4-4412-c86a-ffe6bce35cd9"
      },
      "execution_count": 61,
      "outputs": [
        {
          "output_type": "stream",
          "name": "stdout",
          "text": [
            "......-...-..---.-----.-..-..-..\n"
          ]
        }
      ]
    },
    {
      "cell_type": "markdown",
      "source": [
        "Task7_0502. 주어진 비대칭 m×n 매트릭스(2차원 리스트)에서, 모든 대각선 상의 합을 계산하는 함수를 작성하세요. 결과는 각 대각선의 합을 리스트로 반환해야 합니다."
      ],
      "metadata": {
        "id": "v4wfS3OL7BjR"
      }
    },
    {
      "cell_type": "code",
      "source": [
        "input_matrix = [\n",
        "    [1, 2, 3],\n",
        "    [4, 5, 6],\n",
        "    [7, 8, 9],\n",
        "    [10, 11, 12]\n",
        "]\n",
        "# [1, 6, 15, 24, 20, 12]"
      ],
      "metadata": {
        "id": "gclW7nOF7HFt"
      },
      "execution_count": 12,
      "outputs": []
    },
    {
      "cell_type": "code",
      "source": [
        "# 강사님 풀이\n",
        "def diagonal_sums(matrix):\n",
        "    if not matrix:\n",
        "        return []\n",
        "    m, n = len(matrix), len(matrix[0])\n",
        "    # 최대 가능한 대각선 수는 m + n - 1\n",
        "    # print(m,n)\n",
        "    max_diagonals = m + n - 1\n",
        "    result = [0] * max_diagonals\n",
        "\n",
        "    # 모든 원소를 순회하면서 해당 대각선 인덱스에 값을 더함\n",
        "    for i in range(m):\n",
        "        for j in range(n):\n",
        "            # 대각선 인덱스는 행 인덱스와 열 인덱스의 차의 절댓값\n",
        "            diagonal_index = i + j\n",
        "            result[diagonal_index] += matrix[i][j]\n",
        "    return result\n",
        "\n",
        "# 매트릭스 입력\n",
        "input_matrix = [\n",
        "    [1, 2, 3],\n",
        "    [4, 5, 6],\n",
        "    [7, 8, 9],\n",
        "    [10, 11, 12]\n",
        "]\n",
        "\n",
        "# 대각선 합 결과 출력\n",
        "print(diagonal_sums(input_matrix))"
      ],
      "metadata": {
        "colab": {
          "base_uri": "https://localhost:8080/"
        },
        "id": "dRhHs7COMs1E",
        "outputId": "b4d3b444-646e-4061-e9e3-40b5daf366be"
      },
      "execution_count": 9,
      "outputs": [
        {
          "output_type": "stream",
          "name": "stdout",
          "text": [
            "[1, 6, 15, 24, 20, 12]\n"
          ]
        }
      ]
    },
    {
      "cell_type": "code",
      "source": [
        "input_matrix = [\n",
        "    [1, 2, 3],\n",
        "    [4, 5, 6],\n",
        "    [7, 8, 9],\n",
        "    [10, 11, 12]\n",
        "]\n",
        "print(len(input_matrix))\n",
        "print(len(input_matrix[0]))"
      ],
      "metadata": {
        "id": "2n9rP6yeMehu"
      },
      "execution_count": null,
      "outputs": []
    },
    {
      "cell_type": "markdown",
      "source": [
        "[ 대각선 수 구하기 ]\n",
        "\n",
        "4행 3열에서\n",
        "첫 번째 행은 3개의 대각선에 각각 기여합니다.\n",
        "첫 번째 열은 4개의 대각선에 각각 기여합니다.\n",
        "하지만 가장 왼쪽 상단의 원소가 두 방향에서 모두 카운트되므로, 총 대각선 수는 3 + 4 − 1 = 6개가 됩니다.\n",
        "\n",
        "[ 대각선 합 구하기 ]\n",
        "\n",
        "a b c\\\n",
        "d e f\\\n",
        "g h i\\\n",
        "j k l\n",
        "\n",
        "대각선 0: a\\\n",
        "대각선 1: b + d\\\n",
        "대각선 2: c + e + g\\\n",
        "대각선 3: f + h + j\\\n",
        "대각선 4: i + k\\\n",
        "대각선 5: l"
      ],
      "metadata": {
        "id": "q7gI2eBsbsNm"
      }
    },
    {
      "cell_type": "code",
      "source": [
        "# 김한결님 풀이\n",
        "# [1, 6, 15, 24, 20, 12]\n",
        "\n",
        "# [0][0]\n",
        "# [0][1] [1][0]\n",
        "# [0][2] [1][1] [2][0]\n",
        "# [1][2] [2][1] [3][0]\n",
        "# [2][2] [3][1]\n",
        "# [3][2]\n",
        "\n",
        "# 0-1-2-1-2-3-2-3-4-3-4-5\n",
        "\n",
        "\n",
        "def get_sum_diagonal(arr):\n",
        "  out_arr = [0, 0, 0, 0, 0, 0]\n",
        "\n",
        "  for i1 in range(len(arr)):\n",
        "    for i2 in range(len(arr[i1])):\n",
        "      out_arr[i1+i2] += arr[i1][i2]\n",
        "\n",
        "  return out_arr\n",
        "\n",
        "arr = [\n",
        "    [ 1,  2,  3],\n",
        "    [ 4,  5,  6],\n",
        "    [ 7,  8,  9],\n",
        "    [10, 11, 12]\n",
        "]\n",
        "result = get_sum_diagonal(arr)\n",
        "result"
      ],
      "metadata": {
        "colab": {
          "base_uri": "https://localhost:8080/"
        },
        "id": "AH9Lj6thMhKN",
        "outputId": "4af94967-dcd8-4b27-b637-2f98d1538aec"
      },
      "execution_count": 16,
      "outputs": [
        {
          "output_type": "execute_result",
          "data": {
            "text/plain": [
              "[1, 6, 15, 24, 20, 12]"
            ]
          },
          "metadata": {},
          "execution_count": 16
        }
      ]
    },
    {
      "cell_type": "code",
      "source": [
        "# 최환욱님 풀이\n",
        "input_arr = [\n",
        "    [1, 2, 3],\n",
        "    [4, 5, 6],\n",
        "    [7, 8, 9],\n",
        "    [10, 11, 12]\n",
        "]\n",
        "# input_arr = [\n",
        "#     [1,  2,  3,  7],\n",
        "#     [4,  5,  6,  5],\n",
        "#     [7,  8,  9,  1],\n",
        "#     [10, 11, 12, 2]\n",
        "# ]\n",
        "# input_arr = [\n",
        "    # [1,  2,  3,  7, 20],\n",
        "    # [4,  5,  6,  5, 21],\n",
        "    # [7,  8,  9,  1, 34],\n",
        "    # [10, 11, 12, 2, 23]\n",
        "# ]\n",
        "# input_arr = [\n",
        "    # [1,  2,  3,  7, 20],\n",
        "    # [4,  5,  6,  5, 21],\n",
        "    # [7,  8,  9,  1, 34],\n",
        "    # [10, 11, 12, 2, 23],\n",
        "    # [3,  16, 42, 21,3]\n",
        "# ]\n",
        "\n",
        "def cal_sum_diag(input_arr):\n",
        "  row_n=len(input_arr); col_n=len(input_arr[0]); sum_diag_list=[]\n",
        "  # Calculating along with the most outer element in an anticlockwise direction\n",
        "  for i in range(row_n):\n",
        "    sum_diag=0; l=0;\n",
        "    for j in range(0,min(i+1, col_n),1):\n",
        "     sum_diag=sum_diag+input_arr[i-l][j]\n",
        "     l += 1\n",
        "    sum_diag_list.append(sum_diag)\n",
        "\n",
        "  l=0\n",
        "  for j in range(1, col_n):\n",
        "    sum_diag=0; k=0\n",
        "    for i in range(row_n-1,row_n-col_n+l,-1):\n",
        "      sum_diag=sum_diag+input_arr[i][j+k]\n",
        "      k += 1\n",
        "    l += 1\n",
        "    sum_diag_list.append(sum_diag)\n",
        "  return sum_diag_list\n",
        "\n",
        "print(f\"주어진 M x N 매트릭스의 대각선 상에 있는 요소의 합을 계산, 각 대각선의 합을 리스트로 출력: {cal_sum_diag(input_arr)}\")"
      ],
      "metadata": {
        "id": "LccWxkCfHdjt"
      },
      "execution_count": null,
      "outputs": []
    },
    {
      "cell_type": "code",
      "source": [
        "def diagonal_sums(matrix):\n",
        "  if not matrix:\n",
        "    return []\n",
        "  m, n = len(input_matrix) len(input_matrix[0])"
      ],
      "metadata": {
        "id": "COWPqh4PHGdp"
      },
      "execution_count": null,
      "outputs": []
    },
    {
      "cell_type": "code",
      "source": [
        "# Q. 가위 바위 보 게임을 프로그래밍하세요."
      ],
      "metadata": {
        "id": "aRg7RjmI7z8l"
      },
      "execution_count": null,
      "outputs": []
    },
    {
      "cell_type": "code",
      "source": [
        "import random\n",
        "# ['가위', '바위', '보']\n",
        "\n",
        "com = ['가위', '바위', '보']\n",
        "win_case = {'가위':'바위', '바위':'보', '보':'가위'}\n",
        "random.shuffle(com)\n",
        "\n",
        "while True:\n",
        "  my_hand = input(\"가위 바위 보! 오타를 입력하면 패배로 간주됩니다!!!  \")\n",
        "  com_select = com[random.randint(0,2)]\n",
        "  print(f\"컴퓨터가 낸것은?!  {com_select}\")\n",
        "  if win_case[com_select] == my_hand:\n",
        "    print('축하드려요! 이겼어요!')\n",
        "  elif com_select == my_hand:\n",
        "    print(\"비겼습니다!\")\n",
        "  else:\n",
        "    print('아쉬워요 졌습니다 ㅠㅠ')\n",
        "  break"
      ],
      "metadata": {
        "colab": {
          "base_uri": "https://localhost:8080/"
        },
        "id": "BpSxbzsd8Evn",
        "outputId": "b4303785-6827-427b-b757-1ba9e8f761b6"
      },
      "execution_count": 18,
      "outputs": [
        {
          "output_type": "stream",
          "name": "stdout",
          "text": [
            "가위 바위 보! 오타를 입력하면 패배로 간주됩니다!!!  가위\n",
            "컴퓨터가 낸것은?!  보\n",
            "축하드려요! 이겼어요!\n"
          ]
        }
      ]
    },
    {
      "cell_type": "code",
      "source": [
        "# 수정이 필요하다.\n",
        "print('''\n",
        "KITA 식당에 오신 것을 환영합니다\n",
        "\n",
        "========================================\n",
        "\n",
        "          - 메  뉴 -\n",
        "    1. 불고기 비빔밥 : 12,000원\n",
        "    2. 야채 비빔밥 : 8,000원\n",
        "    3. 전주 비빔밥 : 10,000원\n",
        "\n",
        "    세트 주문시 : 3000원 추가\n",
        "    (세트는 밥과 반찬이 추가됩니다.)\n",
        "\n",
        "========================================\n",
        "\n",
        "''')\n",
        "\n",
        "# 비빔밥 메뉴를 선택해 주세요. 1, 2, 3 >>> 2\n",
        "# 세트 주문을 하시겠습니까? 3,000원 추가. y, n >>> y\n",
        "# 총 금액은 11000원 입니다.\n",
        "\n",
        "menu_price = {'불고기 비빔밥' : 12000, '야채 비빔밥' : 8000, '전주비빔밥' : 10000}\n",
        "menu = list(menu_price.keys())\n",
        "set_price = 3000\n",
        "choice_menu = input(\"메뉴를 선택해 주세요 \")\n",
        "set_order = input('세트 주문을 하시겠어요? y or n ').lower()\n",
        "total_price = 0\n",
        "  if menu[0] == choice_menu:\n",
        "    print(f\"{menu[0]}은 {menu_price[choice_menu]}원 입니다\")\n",
        "  elif menu[1] == choice_menu:\n",
        "    print(f\"{menu[1]}은 {menu_price[choice_menu]}원 입니다\")\n",
        "  elif menu[2] == choice_menu:\n",
        "    print(f\"{menu[2]}은 {menu_price[choice_menu]}원 입니다\")\n",
        "  else:\n",
        "    print(\"메뉴를 확인해 주세요\")"
      ],
      "metadata": {
        "id": "hFkGxC7gPII6"
      },
      "execution_count": null,
      "outputs": []
    },
    {
      "cell_type": "code",
      "source": [
        "def main():\n",
        "    print(\"KITA 식당에 오신 것을 환영합니다\")\n",
        "    print(\"\\n\" + \"=\" * 40)\n",
        "    print(\"\\n          - 메  뉴 -\")\n",
        "    print(\"    1. 불고기 비빔밥 : 12,000원\")\n",
        "    print(\"    2. 야채 비빔밥 : 8,000원\")\n",
        "    print(\"    3. 전주 비빔밥 : 10,000원\")\n",
        "    print(\"\\n    세트 주문시 : 3,000원 추가\")\n",
        "    print(\"    (세트는 밥과 반찬이 추가됩니다.)\")\n",
        "    print(\"\\n\" + \"=\" * 40)\n",
        "\n",
        "    # 사용자로부터 메뉴 선택을 받는다.\n",
        "    menu_choice = int(input(\"\\n비빔밥 메뉴를 선택해 주세요. 1, 2, 3 >>> \"))\n",
        "\n",
        "    # 메뉴별 가격을 설정한다.\n",
        "    prices = {1: 12000, 2: 8000, 3: 10000}\n",
        "\n",
        "    # 사용자가 선택한 메뉴의 가격을 가져온다.\n",
        "    total_price = prices.get(menu_choice, 0)\n",
        "\n",
        "    # 세트 주문 여부를 확인한다.\n",
        "    set_order = input(\"세트 주문을 하시겠습니까? 3,000원 추가. y, n >>> \").lower()\n",
        "    if set_order == 'y':\n",
        "        total_price += 3000\n",
        "\n",
        "    print(f\"총 금액은 {total_price}원 입니다.\")\n",
        "\n",
        "if __name__ == \"__main__\":\n",
        "    main()"
      ],
      "metadata": {
        "colab": {
          "base_uri": "https://localhost:8080/"
        },
        "id": "2OA-fEemWt85",
        "outputId": "b3456f0b-f869-4615-9405-a3b9241ebd96"
      },
      "execution_count": 1,
      "outputs": [
        {
          "output_type": "stream",
          "name": "stdout",
          "text": [
            "KITA 식당에 오신 것을 환영합니다\n",
            "\n",
            "========================================\n",
            "\n",
            "          - 메  뉴 -\n",
            "    1. 불고기 비빔밥 : 12,000원\n",
            "    2. 야채 비빔밥 : 8,000원\n",
            "    3. 전주 비빔밥 : 10,000원\n",
            "\n",
            "    세트 주문시 : 3,000원 추가\n",
            "    (세트는 밥과 반찬이 추가됩니다.)\n",
            "\n",
            "========================================\n",
            "\n",
            "비빔밥 메뉴를 선택해 주세요. 1, 2, 3 >>> 1\n",
            "세트 주문을 하시겠습니까? 3,000원 추가. y, n >>> y\n",
            "총 금액은 15000원 입니다.\n"
          ]
        }
      ]
    },
    {
      "cell_type": "code",
      "source": [
        "# 계속 주문 할 수 있는기능 추가 난주 확인\n",
        "print(\"KITA 식당에 오신 것을 환영합니다\")\n",
        "print(\"\\n\" + \"=\" * 40)\n",
        "print(\"\\n          - 메  뉴 -\")\n",
        "print(\"    1. 불고기 비빔밥 : 12,000원\")\n",
        "print(\"    2. 야채 비빔밥 : 8,000원\")\n",
        "print(\"    3. 전주 비빔밥 : 10,000원\")\n",
        "print(\"\\n    세트 주문시 : 3,000원 추가\")\n",
        "print(\"    (세트는 밥과 반찬이 추가됩니다.)\")\n",
        "print(\"\\n\" + \"=\" * 40)\n",
        "def main():\n",
        "    menu_choice = int(input(\"\\n비빔밥 메뉴를 선택해 주세요. 1, 2, 3 >>> \"))\n",
        "    prices = {1: 12000, 2: 8000, 3: 10000}\n",
        "    menu_price = prices.get(menu_choice, 0)\n",
        "    set_order = input(\"세트 주문을 하시겠습니까? 3,000원 추가. y, n >>> \").lower()\n",
        "    if set_order == 'y':\n",
        "        menu_price += 3000\n",
        "\n",
        "    print(f\"금액은 {total_price}원 입니다.\")\n",
        "\n",
        "while True:\n",
        "    main()\n",
        "    stop_order = input(\"주문을 그만하시려면 y : \").lower()\n",
        "    if stop_order == y:\n",
        "      print(f\"주문을 마칩니다. 총 가격은 {total_price}입니다.\")\n",
        "      break\n",
        "\n",
        "if __name__ == \"__main__\":\n",
        "    main()"
      ],
      "metadata": {
        "id": "hoYPmhDHdiFd"
      },
      "execution_count": null,
      "outputs": []
    },
    {
      "cell_type": "code",
      "source": [
        "def display_menu():\n",
        "    print(\"KITA 식당에 오신 것을 환영합니다\")\n",
        "    print(\"\\n\" + \"=\" * 40)\n",
        "    print(\"\\n          - 메  뉴 -\")\n",
        "    print(\"    1. 불고기 비빔밥 : 12,000원\")\n",
        "    print(\"    2. 야채 비빔밥 : 8,000원\")\n",
        "    print(\"    3. 전주 비빔밥 : 10,000원\")\n",
        "    print(\"\\n    세트 주문시 : 3,000원 추가\")\n",
        "    print(\"    (세트는 밥과 반찬이 추가됩니다.)\")\n",
        "    print(\"\\n\" + \"=\" * 40)\n",
        "\n",
        "def order():\n",
        "    menu_choice = int(input(\"\\n비빔밥 메뉴를 선택해 주세요. 1, 2, 3 >>> \"))\n",
        "    prices = {1: 12000, 2: 8000, 3: 10000}\n",
        "    total_price = prices.get(menu_choice, 0)\n",
        "    set_order = input(\"세트 주문을 하시겠습니까? 3,000원 추가. y, n >>> \").lower()\n",
        "    if set_order == 'y':\n",
        "        total_price += 3000\n",
        "    print(f\"총 금액은 {total_price}원 입니다.\")\n",
        "\n",
        "def main():\n",
        "    while True:\n",
        "        display()\n",
        "        order()\n",
        "        continue_ordering = input(\"\\n다시 주문하시겠습니까? (주문: enter, 종료: '종료' 입력)\")\n",
        "        if continue_ordering == '종료':\n",
        "          break\n",
        "    print(\"\\n감사합니다! 다음에 또 방문해 주세요.\")\n",
        "\n",
        "if __name__ == \"__main__\":\n",
        "    main()"
      ],
      "metadata": {
        "colab": {
          "base_uri": "https://localhost:8080/"
        },
        "id": "gmkpCCt3hfwU",
        "outputId": "61131a7e-ec1a-4099-8487-d1e3bf8a7d67"
      },
      "execution_count": 9,
      "outputs": [
        {
          "output_type": "stream",
          "name": "stdout",
          "text": [
            "\n",
            "비빔밥 메뉴를 선택해 주세요. 1, 2, 3 >>> 1\n",
            "세트 주문을 하시겠습니까? 3,000원 추가. y, n >>> n\n",
            "총 금액은 12000원 입니다.\n",
            "\n",
            "다시 주문하시겠습니까? (주문: enter, 종료: '종료' 입력)종료\n",
            "\n",
            "감사합니다! 다음에 또 방문해 주세요.\n"
          ]
        }
      ]
    },
    {
      "cell_type": "code",
      "source": [
        "print(__name__)"
      ],
      "metadata": {
        "colab": {
          "base_uri": "https://localhost:8080/"
        },
        "id": "iy9mN9kpyp4b",
        "outputId": "ec5ed135-53d6-472a-9c39-dd170b0f604c"
      },
      "execution_count": 1,
      "outputs": [
        {
          "output_type": "stream",
          "name": "stdout",
          "text": [
            "__main__\n"
          ]
        }
      ]
    },
    {
      "cell_type": "markdown",
      "source": [
        "if __name__ == \"__main__\":\n",
        "\n",
        "- 현재 모듈이 직접 실행되는지 또는 다른 파일에 의해 임포트되어 사용되는지를 판단할 때 사용.\n",
        "- 만약 모듈이 직접 실행되면 __name__ 변수의 값은 \"__main__\"이 되고, 모듈이 다른 파일에서 임포트되어 사용될 경우 __name__은 모듈의 이름이 된다."
      ],
      "metadata": {
        "id": "d9hCreOU4r2H"
      }
    },
    {
      "cell_type": "code",
      "source": [
        "# mymodule.py 파일의 내용을 문자열로 정의합니다.\n",
        "module_content = \"\"\"\n",
        "def print_hello():\n",
        "    print(\"Hello from mymodule!\")\n",
        "\n",
        "def print_goodbye():\n",
        "    print(\"Goodbye from mymodule!\")\n",
        "\n",
        "\n",
        "print_hello()\n",
        "print_goodbye()\n",
        "\"\"\"\n",
        "\n",
        "# 파일을 쓰기 모드로 열고, 내용을 작성한 뒤 파일을 닫습니다.\n",
        "with open(\"mymodule.py\", \"w\") as file:\n",
        "    file.write(module_content)\n",
        "\n",
        "# 파일이 저장된 위치 확인 (일반적으로 Colab의 현재 작업 디렉토리)\n",
        "!ls"
      ],
      "metadata": {
        "colab": {
          "base_uri": "https://localhost:8080/"
        },
        "id": "zLFqwR4w2hI5",
        "outputId": "b8e4b253-a645-4c55-e518-87a41ec06f5f"
      },
      "execution_count": 6,
      "outputs": [
        {
          "output_type": "stream",
          "name": "stdout",
          "text": [
            "mymodule.py  __pycache__  sample_data\n"
          ]
        }
      ]
    },
    {
      "cell_type": "code",
      "source": [
        "import mymodule"
      ],
      "metadata": {
        "id": "Yv3-KPj74vcU"
      },
      "execution_count": 7,
      "outputs": []
    },
    {
      "cell_type": "code",
      "source": [
        "# mymodule.py 파일의 내용을 문자열로 정의합니다.\n",
        "# if __name__ == \"__main__\":는 직접 실행할 경우만 True, 모듈로 import 하는 경우 False\n",
        "module_content = \"\"\"\n",
        "def print_hello():\n",
        "    print(\"Hello from mymodule!\")\n",
        "\n",
        "def print_goodbye():\n",
        "    print(\"Goodbye from mymodule!\")\n",
        "\n",
        "if __name__ == \"__main__\":\n",
        "print_hello()\n",
        "print_goodbye()\n",
        "\"\"\"\n",
        "# 파일을 쓰기 모드로 열고, 내용을 작성한 뒤 파일을 닫습니다.\n",
        "with open(\"mymodule.py\", \"w\") as file:\n",
        "    file.write(module_content)\n",
        "\n",
        "# 파일이 저장된 위치 확인 (일반적으로 Colab의 현재 작업 디렉토리)\n",
        "!ls"
      ],
      "metadata": {
        "colab": {
          "base_uri": "https://localhost:8080/"
        },
        "id": "WDN0-wWW3PtP",
        "outputId": "74b207d9-2bf9-473a-d7cd-c49db33729be"
      },
      "execution_count": 3,
      "outputs": [
        {
          "output_type": "stream",
          "name": "stdout",
          "text": [
            "mymodule.py  __pycache__  sample_data\n"
          ]
        }
      ]
    },
    {
      "cell_type": "markdown",
      "source": [
        "Task1_0503. 여러개의 음식을 동시에 주문할 수 있는 주문 시스템을 작성하세요(구조 지향)"
      ],
      "metadata": {
        "id": "SfexV1D-5vI6"
      }
    },
    {
      "cell_type": "code",
      "source": [
        "# global(전역 변수)"
      ],
      "metadata": {
        "id": "sZA70Ib9DMMY"
      },
      "execution_count": null,
      "outputs": []
    },
    {
      "cell_type": "code",
      "source": [
        "def display_menu():\n",
        "    print(\"KITA 식당에 오신 것을 환영합니다\")\n",
        "    print(\"\\n\" + \"=\" * 40)\n",
        "    print(\"\\n          - 메  뉴 -\")\n",
        "    print(\"    1. 불고기 비빔밥 : 12,000원\")\n",
        "    print(\"    2. 야채 비빔밥 : 8,000원\")\n",
        "    print(\"    3. 전주 비빔밥 : 10,000원\")\n",
        "    print(\"\\n    세트 주문시 : 3,000원 추가\")\n",
        "    print(\"    (세트는 밥과 반찬이 추가됩니다.)\")\n",
        "    print(\"\\n\" + \"=\" * 40)\n",
        "\n",
        "def order():\n",
        "    menu_choice = int(input(\"\\n비빔밥 메뉴를 선택해 주세요. 1, 2, 3 >>> \"))\n",
        "    prices = {1: 12000, 2: 8000, 3: 10000}\n",
        "    total_price = prices.get(menu_choice, 0)\n",
        "    set_order = input(\"세트 주문을 하시겠습니까? 3,000원 추가. y, n >>> \").lower()\n",
        "    if set_order == 'y':\n",
        "        total_price += 3000\n",
        "    print(f\"총 금액은 {total_price}원 입니다.\")\n",
        "\n",
        "def main():\n",
        "    while True:\n",
        "        display()\n",
        "        order()\n",
        "        continue_ordering = input(\"\\n다시 주문하시겠습니까? (주문: enter, 종료: '종료' 입력)\")\n",
        "        if continue_ordering == '종료':\n",
        "          break\n",
        "    print(\"\\n감사합니다! 다음에 또 방문해 주세요.\")\n",
        "\n",
        "if __name__ == \"__main__\":\n",
        "    main()"
      ],
      "metadata": {
        "id": "RqbIsfCF6FVc"
      },
      "execution_count": null,
      "outputs": []
    },
    {
      "cell_type": "code",
      "source": [],
      "metadata": {
        "colab": {
          "base_uri": "https://localhost:8080/"
        },
        "id": "fWkkOkrA7cSd",
        "outputId": "40ee46c2-953e-463c-e2e5-8b08b6167537"
      },
      "execution_count": 3,
      "outputs": [
        {
          "name": "stdout",
          "output_type": "stream",
          "text": [
            "\n",
            "비빔밥 메뉴를 선택해 주세요. 1, 2, 3 >>> 1\n",
            "세트 주문을 하시겠습니까? 3,000원 추가. y, n >>> y\n",
            "추가로 주문하시겠습니까? y, n >>> n\n"
          ]
        }
      ]
    }
  ]
}