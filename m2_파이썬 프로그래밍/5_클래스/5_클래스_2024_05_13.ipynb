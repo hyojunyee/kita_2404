{
  "nbformat": 4,
  "nbformat_minor": 0,
  "metadata": {
    "colab": {
      "provenance": []
    },
    "kernelspec": {
      "name": "python3",
      "display_name": "Python 3"
    },
    "language_info": {
      "name": "python"
    }
  },
  "cells": [
    {
      "cell_type": "markdown",
      "source": [
        "#### 객체(object) 개념 정리 ( 신원/타입/속성/메소드/클래스/OOP)\n",
        "- 파이썬 프로그램에서 모든 데이터는 객체(object)라는 개념을 사용하여 저장됩니다.\n",
        "- 가장 기본이 되는 데이터 타입인 숫자, 문자열, 리스트, 사전은 다 객체입니다.\n",
        "- 클래스를 사용해서 사용자 정의 객체를 생성할 수도 있습니다.\n",
        "- 또한 프로그램의 구조와 인터프리터의 내부 동작과 관련된 객체들도 있습니다\n",
        "- 객체(object) : 프로그램에서 저장되는 모든 데이터는 객체입니다. 각 객체는 신원(identity), 타입(클래스라고도 함)과 값을 가집니다.\n",
        "  - 객체의 신원(identity) : 객체가 메모리에 저장된 위치를 가리키는 포인터\n",
        "  - 객체의 타입(클래스) : 객체의 내부적인 표현 형태와 객체가 지원하는 메서드 및 연산들을 설명, 특정 타입의 객체가 생성되면 그 객체를 그 타입의 인스턴스(instance)라고 부른다.\n",
        "  - 객체의 속성(attribute)와 메서드(method) : 속성(attribute)은 객체에 연결된 값이고 메서드(method)는 호출될 때 객체에 대해 특정 연산을 수행하는 함수\n",
        "  \n",
        "https://happy-obok.tistory.com/22"
      ],
      "metadata": {
        "id": "OZRa7uuwWNje"
      }
    },
    {
      "cell_type": "markdown",
      "source": [
        "## 클래스\n",
        "\n",
        "클래스(class)란 똑같은 무엇인가를 계속해서 만들어 낼 수 있는 설계 도면이고(과자 틀),\n",
        "객체(object)란 클래스로 만든 피조물(과자 틀을 사용해 만든 과자)을 뜻한다.  \n",
        "과자 틀 → 클래스 (class)  \n",
        "과자 틀에 의해서 만들어진 과자 → 객체 (object)\n",
        "\n",
        "- class : 함수 + 변수 모아놓은 것\n",
        "- 오브젝트(object) : 클래스를 써서 만든 것\n",
        "- 오브젝트(object) == 인스턴스(instance)\n",
        "- 클래스를 정의한 후, 그 클래스를 사용해서 데이터 객체(인스턴스)를 만들 수 있다.\n",
        "- 동일한 클래스에 의해 만들어진 각 객체들은 유사한 특징을 공유한다.\n",
        "- 모든 인스턴스에서 메소드(=코드)는 동일하지만, 속성(데이터)는 다르다.\n",
        "  * 메소드 : 코드\n",
        "  * 속성 : 데이터\n",
        "  * 인스턴스 : 클래스에 의해 만들어진 데이터 객체\n",
        "  * a = 클래스() 이렇게 만든 a는 객체이다. 그리고 a 객체는 클래스의 인스턴스이다. 즉 인스턴스라는 말은 특정 객체(a)가 어떤 클래스의 객체인지를 관계 위주로 설명할 때 사용"
      ],
      "metadata": {
        "id": "mZgCYgAQWSZM"
      }
    },
    {
      "cell_type": "code",
      "execution_count": null,
      "metadata": {
        "colab": {
          "base_uri": "https://localhost:8080/"
        },
        "id": "WUSD7muAWMtM",
        "outputId": "b4bddb86-0a0a-4546-b913-2bfb535a7e72"
      },
      "outputs": [
        {
          "output_type": "stream",
          "name": "stdout",
          "text": [
            "Kita 과정입니다.\n",
            "kita\n"
          ]
        }
      ],
      "source": [
        "# 생성자(Constructor)란 객체가 생성될 때 자동으로 호출되는 메서드를 의미\n",
        "# 파이썬 메서드 이름으로 __init__를 사용하면 이 메서드는 생성자가 된다.\n",
        "# 클래스 생성자(인자가 없는 경우)\n",
        "class Kita:\n",
        "    def __init__(self):\n",
        "      self.var = \"kita\"       # 인스턴스 맴버\n",
        "      print('Kita 과정입니다.')\n",
        "obj = Kita()\n",
        "print(obj.var)"
      ]
    },
    {
      "cell_type": "markdown",
      "source": [
        "#### self\n",
        "- Python에서 클래스 정의 시 self 키워드는 인스턴스 메서드의 첫 번째 매개변수로 사용\n",
        "- self의 사용법\n",
        "    - 클래스의 인스턴스 메서드를 정의할 때, 첫 번째 매개변수로 self를 사용\n",
        "    - self를 사용하여 인스턴스 속성에 접근하거나 설정\n",
        "    - self를 통해 같은 객체의 다른 메서드를 호출\n",
        "    - 클래스로부터 객체를 생성할 때, Python은 자동으로 self를 첫 번째 매개변수로 전달\n",
        "    - self는 객체의 속성과 메서드를 해당 객체에 속한 네임스페이스에 바인딩\n",
        "    - self는 해당 서브클래스의 인스턴스를 가리키며, 이를 통해 부모 클래스의 메서드와 속성에 접근"
      ],
      "metadata": {
        "id": "cGmfvl29cmkt"
      }
    },
    {
      "cell_type": "code",
      "source": [
        "# 인스턴스 메서드 정의\n",
        "class MyClass:\n",
        "    def method(self, arg1, grg2):\n",
        "        # 여기에서 self는 인스턴스 객체를 가리킵니다.\n",
        "        # arg1과 arg2는 전달된 인자입니다."
      ],
      "metadata": {
        "id": "Gf9FfucaclbU"
      },
      "execution_count": null,
      "outputs": []
    },
    {
      "cell_type": "code",
      "source": [
        "class MyClass:\n",
        "    def __init__(self, value):\n",
        "        self.instance_variable = value    # 인스턴스 변수 설정\n",
        "    def method(self):\n",
        "        return self.instance_variable     # 인스턴스 변수 접근"
      ],
      "metadata": {
        "id": "qob2IE6tdl3R"
      },
      "execution_count": null,
      "outputs": []
    },
    {
      "cell_type": "code",
      "source": [
        "class Person:\n",
        "    def __init__(self, name, age):\n",
        "        self.name = name\n",
        "        self.age = age\n",
        "\n",
        "    def introduce(self):\n",
        "        print(f\"My name is {self.name} and I am {self.age} years old.\")"
      ],
      "metadata": {
        "id": "5rVJl1TFfSvw"
      },
      "execution_count": null,
      "outputs": []
    },
    {
      "cell_type": "code",
      "source": [
        "ps1 = Person('Kim',22)\n",
        "ps2 = Person('Yoon',29)\n",
        "ps1.introduce()\n",
        "ps2.introduce()"
      ],
      "metadata": {
        "colab": {
          "base_uri": "https://localhost:8080/"
        },
        "id": "tot-4L2PfUyn",
        "outputId": "97a88461-297e-4337-badd-1e12110cd1a0"
      },
      "execution_count": null,
      "outputs": [
        {
          "output_type": "stream",
          "name": "stdout",
          "text": [
            "My name is Kim and I am 22 years old.\n",
            "My name is Yoon and I am 29 years old.\n"
          ]
        }
      ]
    },
    {
      "cell_type": "code",
      "source": [
        "class Kita:\n",
        "    def __init__(self, name, age, major):\n",
        "        self.name = name\n",
        "        self.age = age\n",
        "        self.major = major\n",
        "        print(f\"{self.name}은 {self.age}세이며 {self.major}을 전공했습니다.\")\n",
        "\n",
        "a = Kita('홍길동',25,'computer')\n",
        "b = Kita('홍길순',27,'business')\n",
        "print(a.name)\n",
        "print(b.major)"
      ],
      "metadata": {
        "colab": {
          "base_uri": "https://localhost:8080/"
        },
        "id": "Q2Tm0xiBgRfl",
        "outputId": "30adfcf4-f476-4706-f3ca-ff76eaf3272f"
      },
      "execution_count": null,
      "outputs": [
        {
          "output_type": "stream",
          "name": "stdout",
          "text": [
            "홍길동은 25세이며 computer을 전공했습니다.\n",
            "홍길순은 27세이며 business을 전공했습니다.\n",
            "홍길동\n",
            "business\n"
          ]
        }
      ]
    },
    {
      "cell_type": "code",
      "source": [
        "class Kita:\n",
        "    def __init__(self, name, age, major):\n",
        "        self.name = name\n",
        "        self.age = age\n",
        "        self.major = major\n",
        "    def introduce(self):\n",
        "        print(f\"{self.name}은 {self.age}세이며 {self.major}을 전공했습니다.\")\n",
        "\n",
        "a = Kita('홍길동',25,'computer')\n",
        "b = Kita('홍길순',27,'business')\n",
        "a.introduce()\n",
        "b.introduce()\n",
        "print(a.name)\n",
        "print(b.major)"
      ],
      "metadata": {
        "colab": {
          "base_uri": "https://localhost:8080/"
        },
        "id": "i6kB63ffhez5",
        "outputId": "466ce531-8efa-4a15-cf0e-6b6eaa9f865c"
      },
      "execution_count": null,
      "outputs": [
        {
          "output_type": "stream",
          "name": "stdout",
          "text": [
            "홍길동은 25세이며 computer을 전공했습니다.\n",
            "홍길순은 27세이며 business을 전공했습니다.\n",
            "홍길동\n",
            "business\n"
          ]
        }
      ]
    },
    {
      "cell_type": "markdown",
      "source": [
        "Task4_0510. 생성자만으로 구성된 클래스를 작성하고 객체 3개를 만들어서 결과를 출력하세요."
      ],
      "metadata": {
        "id": "vgV27_SqhvRh"
      }
    },
    {
      "cell_type": "code",
      "source": [
        "class Test:\n",
        "    def __init__(self,a,b):\n",
        "        self.a = a\n",
        "        self.b = b\n",
        "        print(a+b)\n",
        "obj1 = Test(1,2)\n",
        "obj2 = Test(3,8)\n",
        "obj3 = Test(10,21)"
      ],
      "metadata": {
        "id": "-dncSvubhwXQ",
        "colab": {
          "base_uri": "https://localhost:8080/"
        },
        "outputId": "70d8a45f-4f48-4282-a095-e11ab180781c"
      },
      "execution_count": null,
      "outputs": [
        {
          "output_type": "stream",
          "name": "stdout",
          "text": [
            "3\n",
            "11\n",
            "31\n"
          ]
        }
      ]
    },
    {
      "cell_type": "markdown",
      "source": [
        "Task5_0510. 생성자, 메소드를 모두 포함하는 클래스를 작성하고 객체 3개를 만들어서 결과를 출력하세요"
      ],
      "metadata": {
        "id": "MXHsnVOHhwxO"
      }
    },
    {
      "cell_type": "code",
      "source": [
        "class MyCar:\n",
        "    def __init__(self,name,color='white',price=2000):\n",
        "        self.name = name\n",
        "        self.color = color\n",
        "        self.price = price\n",
        "\n",
        "    def car_sound(self):\n",
        "        if self.price > 15000:\n",
        "            print('부와아아아')\n",
        "        elif self.price > 10000:\n",
        "            print('부웅부웅')\n",
        "        else:\n",
        "            print('털털털털')\n",
        "\n",
        "a = MyCar('아반떼')\n",
        "b = MyCar('페라리','red',17000)\n",
        "c = MyCar('벤츠','black',11000)\n",
        "\n",
        "print(a.name)\n",
        "print(b.price)\n",
        "print(c.color)\n",
        "print()\n",
        "a.car_sound()\n",
        "b.car_sound()\n",
        "c.car_sound()"
      ],
      "metadata": {
        "id": "tCwd7h0vhxyK",
        "colab": {
          "base_uri": "https://localhost:8080/"
        },
        "outputId": "b63171f2-e68b-4e65-e70d-1eacbf66c02d"
      },
      "execution_count": null,
      "outputs": [
        {
          "output_type": "stream",
          "name": "stdout",
          "text": [
            "아반떼\n",
            "17000\n",
            "black\n",
            "\n",
            "털털털털\n",
            "부와아아아\n",
            "부웅부웅\n"
          ]
        }
      ]
    },
    {
      "cell_type": "markdown",
      "source": [
        "#### 클래스를 구성하는 요소\n",
        "- 클래스 선언: class 키워드와 대문자로 시작하는 이름 사용.\n",
        "- 생성자: \\__init__ 메서드로 인스턴스 초기화, self를 첫 인자로 사용.\n",
        "- 속성(Attributes): self.변수명 형태의 인스턴스 변수로 각 객체의 상태 정의.\n",
        "- 메서드(Methods): 객체의 동작을 정의하는 함수, 첫 인자로 self를 사용.\n",
        "- 상속(Inheritance): 다른 클래스의 기능을 확장 또는 수정.\n",
        "- 인스턴스화: 클래스 이름에 괄호를 추가하여 객체 인스턴스 생성.\n",
        "- self: 메서드와 속성에서 객체 자신을 참조.\n",
        "- 클래스 변수: 클래스 내 정의되고 모든 인스턴스에 공유.\n",
        "- 인스턴스 변수: self로 접근, 각 인스턴스에 고유한 데이터 저장.\n",
        "- 매직 메서드(특수 메서드): __로 둘러싸인 메서드로 내장 연산/함수 커스터마이즈."
      ],
      "metadata": {
        "id": "3aAAt1wpiCOO"
      }
    },
    {
      "cell_type": "code",
      "source": [
        "# 상속 : 기본 클래스 또는 부모 클래스\n",
        "class Animal:\n",
        "    def __init__(self, name):\n",
        "      self.name = name\n",
        "\n",
        "    def speak(self):\n",
        "        raise NotImplementedError(\"Subclass must implement abstract method\")\n",
        "\n",
        "# 자식 클래스에서 Animal 클래스 상속\n",
        "class Dog(Animal):\n",
        "    def speak(self):\n",
        "        return f\"{self.name} say Woolf!\"\n",
        "class Cat(Animal):\n",
        "    def speak(self):\n",
        "        return f\"{self.name} say Meow~\"\n",
        "\n",
        "dog = Dog('Byeori')\n",
        "print(dog.speak())\n",
        "\n",
        "cat = Cat('Jiwoo')\n",
        "print(cat.speak())"
      ],
      "metadata": {
        "colab": {
          "base_uri": "https://localhost:8080/"
        },
        "id": "iXklRDXmiD42",
        "outputId": "21f925c4-6ebf-4129-fcd5-14d9836b5d60"
      },
      "execution_count": null,
      "outputs": [
        {
          "output_type": "stream",
          "name": "stdout",
          "text": [
            "Byeori say Woolf!\n",
            "Jiwoo say Meow~\n"
          ]
        }
      ]
    },
    {
      "cell_type": "code",
      "source": [
        "# 상속 : 기본 클래스 또는 부모 클래스\n",
        "class Animal:\n",
        "    def __init__(self, name):\n",
        "      self.name = name\n",
        "\n",
        "    def speak(self):\n",
        "        raise NotImplementedError(\"Subclass must implement abstract method\")\n",
        "\n",
        "# 자식 클래스에서 Animal 클래스 상속\n",
        "class Dog(Animal):\n",
        "    # def __init__(self, name):\n",
        "    #   self.name = name\n",
        "    def speak(self):\n",
        "        return f\"{self.name} say Woolf!\""
      ],
      "metadata": {
        "id": "9fqAb38RmRYz"
      },
      "execution_count": null,
      "outputs": []
    },
    {
      "cell_type": "code",
      "source": [
        "# 클래스 변수 vs 인스턴스 변수\n",
        "# 클래스 변수 : 클래스의 모든 인스턴스에 공유되는 변수, 클래스 정의 내부에서 선언되고, 클래스 이름을 사용하여 접근\n",
        "class Car:\n",
        "    wheels = 4      # 클래스 변수\n",
        "\n",
        "    def __init__(self, brand, model):\n",
        "        self.brand = brand\n",
        "        self.model = model"
      ],
      "metadata": {
        "id": "RQCe8MIbm599"
      },
      "execution_count": null,
      "outputs": []
    },
    {
      "cell_type": "markdown",
      "source": [
        "매직 메서드(Magic Methods)\n",
        "- 파이썬에서 특별한 의미를 가지는 내장 메서드로, 더블 언더스코어(__)로 시작하고 끝나는 메서드 이름을 갖는다.\n",
        "- 파이썬의 데이터 모델을 구성하는 핵심적인 부분으로, 파이썬의 객체가 다양한 연산에서 어떻게 동작할지를 정의.\n",
        "- 사용자가 이러한 메서드를 직접 호출하기보다는, 파이썬의 내부적인 구조나 연산을 통해 자동으로 호출.\n",
        "\n",
        "[ 매직 메서드의 예 ]\n",
        "\n",
        "`__init__(self, [...])`: 객체가 생성될 때 초기화를 위해 호출. 생성자라고도 한다.\\\n",
        "`__str__(self)`: 객체를 인간이 읽을 수 있는 문자열 형태로 변환할 때 사용. print() 함수나 str() 내장 함수를 사용할 때 자동으로 호출.\\\n",
        "`__repr__(self)`: 객체의 공식적인 문자열 표현을 생성할 때 사용. 개발자가 이 객체를 어떻게 볼지를 정의. 보통 객체를 다시 해당 객체를 생성할 수 있는 코드 형태로 표현.\\\n",
        "`__eq__(self, other)`: 두 객체의 동등성을 비교할 때 사용 (== 연산자).\\\n",
        "`__add__(self, other)`: 두 객체를 더할 때 사용 (+ 연산자).\\\n",
        "`__len__(self)`: 객체의 길이를 반환할 때 사용, 예를 들어 len() 함수가 호출될 때 자동으로 이 메서드를 사용."
      ],
      "metadata": {
        "id": "whvZv7NvnXwF"
      }
    },
    {
      "cell_type": "code",
      "source": [
        "# 매직 메서드\n",
        "# __str__ 메서드는 객체의 \"공식적인\" 문자열 표현을 제공하는 표준 방법.\n",
        "# 이를 통해 print() 함수나 str() 함수와 같은 내장 함숭에서 객체를 자동으로 문자열로 변환 할 수 있다.\n",
        "\n",
        "class Book:\n",
        "    def __init__(self, title, author):\n",
        "        self.title = title\n",
        "        self.author = author\n",
        "\n",
        "    def __str__(self):      # 객체를 문자열로 표현할 때 사용\n",
        "        return f\"{self.title} by {self.author}\"\n",
        "\n",
        "BestSeller = Book('불변의 법칙', '모건하우저')\n",
        "SteadySeller = Book('삼국지', '나관중')\n",
        "print(BestSeller.__str__())\n",
        "print(SteadySeller.__str__())\n",
        "SteadySeller.__str__()"
      ],
      "metadata": {
        "colab": {
          "base_uri": "https://localhost:8080/",
          "height": 72
        },
        "id": "rj50OC1qoDSl",
        "outputId": "6dccac3b-952e-4da8-f919-4422c1719f10"
      },
      "execution_count": null,
      "outputs": [
        {
          "output_type": "stream",
          "name": "stdout",
          "text": [
            "불변의 법칙 by 모건하우저\n",
            "삼국지 by 나관중\n"
          ]
        },
        {
          "output_type": "execute_result",
          "data": {
            "text/plain": [
              "'삼국지 by 나관중'"
            ],
            "application/vnd.google.colaboratory.intrinsic+json": {
              "type": "string"
            }
          },
          "metadata": {},
          "execution_count": 14
        }
      ]
    },
    {
      "cell_type": "markdown",
      "source": [
        "Task6_0510. 여러개의 음식을 주문할 수 있는 주문 시스템을 작성하세요.(클래스 활용 - 객체 지향)"
      ],
      "metadata": {
        "id": "HXFDLQKC4dSP"
      }
    },
    {
      "cell_type": "code",
      "source": [
        "class OrderSystem:\n",
        "    def __init__(self):\n",
        "        self.menu_items = {\n",
        "            '1': (\"불고기 비빔밥\", 12000),\n",
        "            '2': (\"야채 비빔밥\", 8000),\n",
        "            '3': (\"전주 비빔밥\", 10000)\n",
        "        }\n",
        "        self.set_price = 3000\n",
        "        self.orders = {}\n",
        "        self.price_total = 0\n",
        "\n",
        "    def display_menu(self):\n",
        "        print(\"\\n♣♣♣ KITA 식당에 오신 것을 환영합니다 ♣♣♣\")\n",
        "        print(\"========================================\")\n",
        "        print(\"           - 메뉴 -\")\n",
        "        for key, (name, price) in self.menu_items.items():\n",
        "            print(f\"  {key}. {name} : {price}원\")\n",
        "        print(\"\\n  세트 주문시 : 3000원 추가 (세트는 밥과 반찬이 추가됩니다.)\")\n",
        "        print(\"========================================\")\n",
        "\n",
        "    def display_order_summary(self):\n",
        "        print(\"\\n■장바구니\")\n",
        "        self.price_total = 0\n",
        "        for key, (name, price) in self.menu_items.items():\n",
        "            count = self.orders.get((key, False), 0)\n",
        "            count_set = self.orders.get((key, True), 0)\n",
        "            print(f\" {name} {count}개: {count * price}원\")\n",
        "            print(f\" {name} 세트 {count_set}개: {count_set * (price + self.set_price)}원\")\n",
        "            self.price_total += (count * price) + (count_set * (price + self.set_price))\n",
        "        print(f\" 총 금액 {self.price_total}원\\n\")\n",
        "\n",
        "    def add_order(self, menu_id, is_set):\n",
        "        item_name, item_price = self.menu_items[menu_id]\n",
        "        if is_set:\n",
        "            item_price += self.set_price\n",
        "        num = input(f\"\\n● {item_name}{' 세트' if is_set else ''} 몇 개 주문 하시겠습니까?\\n\")\n",
        "        if num.isdigit() and int(num) > 0:\n",
        "            self.orders[(menu_id, is_set)] = self.orders.get((menu_id, is_set), 0) + int(num)\n",
        "            print(f\"\\n{item_name}{' 세트' if is_set else ''} {num}개가 장바구니에 담겼습니다.\\n\")\n",
        "        else:\n",
        "            print('★양수만 입력하세요.★')\n",
        "\n",
        "    def process_order(self):\n",
        "        while True:\n",
        "            print('★비빔밥 주문 KIOSK★','\\n')\n",
        "            msg = input(\"● 주문을 하시겠습니까? (y 또는 n) >> \").strip().lower()\n",
        "            if msg == 'y':\n",
        "                while True:\n",
        "                    self.display_menu()\n",
        "                    self.display_order_summary()\n",
        "                    choice = input(\"● 주문할 메뉴를 골라주세요. (불고기 비빔밥:1, 야채 비빔밥:2, 전주 비빔밥:3, 전체 취소:0, 결제:5) >> \").strip().lower()\n",
        "                    if choice in self.menu_items:\n",
        "                        set_choice = input(\"\\n●3000원을 추가해 세트로 주문하시겠습니까? (일반주문시:n, 세트주문시:y)\\n\").strip().lower()\n",
        "                        if set_choice in ['y', 'n']:\n",
        "                            self.add_order(choice, set_choice == 'y')\n",
        "                        else:\n",
        "                            print('★올바른 선택을 입력하세요 (y 또는 n).★')\n",
        "\n",
        "                    elif choice == '0':\n",
        "                        self.orders.clear()\n",
        "                        print('\\n모든 주문이 취소되었습니다.')\n",
        "\n",
        "                    elif choice == '5':\n",
        "                        if self.price_total > 0:\n",
        "                            print(f'\\n●주문하려면 결제해주세요. 결제금액은 {self.price_total}원 입니다.\\n')\n",
        "                            input(\"결제를 완료하려면 아무 키나 누르세요...\")  # 사용자가 결제를 확인할 수 있도록 입력 대기\n",
        "                            print(f\"\\n총 금액은 {self.price_total}원이 결제 되었습니다. 감사합니다.\",'\\n')\n",
        "                            self.orders.clear()\n",
        "                            break\n",
        "                        else:\n",
        "                            print('★메뉴를 고르고 주문해주세요!★')\n",
        "\n",
        "                    else:\n",
        "                        print('★메뉴의 지정된 숫자로 입력하세요★')\n",
        "\n",
        "            else:\n",
        "                print('감사합니다.')\n",
        "                break\n",
        "\n",
        "if __name__ == \"__main__\":\n",
        "    order_system = OrderSystem()\n",
        "    order_system.process_order()"
      ],
      "metadata": {
        "id": "RGbCzF9eviPf"
      },
      "execution_count": null,
      "outputs": []
    },
    {
      "cell_type": "code",
      "source": [
        "from cryptography.fernet import Fernet\n",
        "import difflib\n",
        "\n",
        "class File:\n",
        "  def __init__(self, filename):\n",
        "    self.filename = filename\n",
        "class Encrypt(File):\n",
        "  def __init__(self, filename):\n",
        "    pass\n",
        "class Key(File):\n",
        "  def __init__(self, filename):\n",
        "    super().__init__(filename)\n",
        "    print(self.filename)\n",
        "class Decrypt(File):\n",
        "  def __init__(self, filename):\n",
        "    pass\n",
        "\n",
        "\n",
        "filename = 'test.txt'\n",
        "# originFile = File(filename)\n",
        "dataKey = Key(filename)\n",
        "print(dataKey)\n",
        "encryptedFile = Encrypt(filename)\n",
        "print(encryptedFile)\n",
        "decryptFile = Decrypt(filename)\n",
        "print(decryptFile)"
      ],
      "metadata": {
        "id": "DLYDMHVQ4e1Q",
        "colab": {
          "base_uri": "https://localhost:8080/"
        },
        "outputId": "01bbd65f-a63d-4d89-a2a5-bd3b8c0bc1fd"
      },
      "execution_count": null,
      "outputs": [
        {
          "output_type": "stream",
          "name": "stdout",
          "text": [
            "test.txt\n",
            "<__main__.Key object at 0x7f43f9bd6b90>\n",
            "<__main__.Encrypt object at 0x7f43f9bd7a30>\n",
            "<__main__.Decrypt object at 0x7f43f9bd5ff0>\n"
          ]
        }
      ]
    },
    {
      "cell_type": "markdown",
      "source": [
        "Task1_0513 클래스 구성 요소와 관련 아래 사항에 대한 사례를 작성하세요.\n",
        "- 클래스 선언\n",
        "- 생성자\n",
        "- 속성(attributes)\n",
        "- 메서드\n",
        "- 상속\n",
        "- 인스턴스화(객체 만들기)\n",
        "- 클래스 변수\n",
        "- 매직 메서드(특수 메서드)"
      ],
      "metadata": {
        "id": "xQu5LiXVfTd-"
      }
    },
    {
      "cell_type": "code",
      "source": [
        "# class 선언\n",
        "class Car:\n",
        "    # 생성자와 속성\n",
        "    def __init__(self,name, brand, kind):\n",
        "        self.name = name\n",
        "        self.brand = brand\n",
        "        self.kind = kind\n",
        "    # 매직 메서드 사용\n",
        "    def __str__(self):\n",
        "        return f\"{self.name} is {self.brand}'s {self.kind}\"\n",
        "\n",
        "# 인스턴스화(객체 만들기)\n",
        "sonata = Car('sonata','hyundai', 'sedan')\n",
        "porche = Car('porche','porche', 'sports car')\n",
        "\n",
        "print(sonata.__str__())\n",
        "print(porche.__str__())"
      ],
      "metadata": {
        "colab": {
          "base_uri": "https://localhost:8080/"
        },
        "id": "ZFmkQpBgiMOG",
        "outputId": "b50bbcd2-3ea0-4efc-e242-875892bad3eb"
      },
      "execution_count": null,
      "outputs": [
        {
          "output_type": "stream",
          "name": "stdout",
          "text": [
            "sonata is hyundai's sedan\n",
            "porche is porche's sports car\n"
          ]
        }
      ]
    },
    {
      "cell_type": "code",
      "source": [
        "# 클래스 변수는 모든 인스턴스에서 공유되며, 인스턴스 변수는 각 객체마다 독립적입니다.\n",
        "# 인스턴스 메서드는 해당 인스턴스의 데이터에 접근하고 조작할 수 있는 기능을 제공\n",
        "class MyClass:\n",
        "    var = '안녕하세요'    # 클래스 변수\n",
        "    def __init__(self):   # 생성자는 객체 만들 때 자동으로 호출\n",
        "        self.name='kita'  # 지역변수, 인스턴스 변수\n",
        "        print(f'{self.name} 과정입니다.')\n",
        "    def sayHello(self):   # 인스턴스 메소드\n",
        "        return self.var\n",
        "# MyClass 클래스의 인스턴스인 obj를 생성. 이 과정에서 __init__ 생성자가 호출되고, \"kita 과정입니다.\"가 출력\n",
        "obj = MyClass()\n",
        "# obj 인스턴스를 통해 클래스 변수 var에 접근하여 그 값을 출력\n",
        "print(obj.var)\n",
        "# obj 인스턴스의 sayHello 메서드를 호출. 이 메서드는 클래스 변수 var를 반환하므로 결과적으로 '안녕하세요'가 출력\n",
        "print(obj.sayHello())"
      ],
      "metadata": {
        "colab": {
          "base_uri": "https://localhost:8080/"
        },
        "id": "a87DL16YfUG_",
        "outputId": "53b5025a-81b3-43e0-a122-c6df042e2e0a"
      },
      "execution_count": null,
      "outputs": [
        {
          "output_type": "stream",
          "name": "stdout",
          "text": [
            "kita 과정입니다.\n",
            "안녕하세요\n",
            "안녕하세요\n"
          ]
        }
      ]
    },
    {
      "cell_type": "code",
      "source": [
        "class AutoEmail:\n",
        "    def __init__(self, name, time):\n",
        "        self.name = name\n",
        "        self.time = time\n",
        "    def send(self):\n",
        "        return f\"안녕하세요 {self.name}님, 업무미팅은 {self.time}시 입니다.\"\n",
        "\n",
        "run1 = AutoEmail(\"Kevin\",2)\n",
        "run2 = AutoEmail(\"James\",5)\n",
        "print(run1.send())\n",
        "print(run2.send())"
      ],
      "metadata": {
        "colab": {
          "base_uri": "https://localhost:8080/"
        },
        "id": "nCj53PwvjS7w",
        "outputId": "0a707e3d-53ac-4c41-bf97-aac6ca2696a8"
      },
      "execution_count": null,
      "outputs": [
        {
          "output_type": "stream",
          "name": "stdout",
          "text": [
            "안녕하세요 Kevin님, 업무미팅은 2입니다.\n",
            "안녕하세요 James님, 업무미팅은 5입니다.\n"
          ]
        }
      ]
    },
    {
      "cell_type": "markdown",
      "source": [
        "Q. 기본가격 1000원인 2개의 상품에 대하여 임의의 추가 가격을 입력시 아래 두개의 방식으로 산출하세요.(class 이용)\n",
        "- price1 : 기본가격 + 추가가격\n",
        "- price2 : (기본가격 + 추가가격) * 90%"
      ],
      "metadata": {
        "id": "AiTkKF4Um2iK"
      }
    },
    {
      "cell_type": "code",
      "source": [
        "# 생성자가 없지만, 자동으로 생성자가 생성된다.\n",
        "\n",
        "class Price():\n",
        "    p = int(input('추가가격 > '))\n",
        "    # def setprice(self, p):\n",
        "    #     self.p = p\n",
        "    def sum(self):\n",
        "        b = 1000\n",
        "        b += self.p\n",
        "        return b\n",
        "    def discount(self):\n",
        "        b = 1000\n",
        "        b += self.p\n",
        "        b *= 0.9\n",
        "        return b\n",
        "\n",
        "price1 = Price()\n",
        "print(f'price1 : {price1.sum()}')\n",
        "price2 = Price()\n",
        "print(f'price2 : {price2.discount():.0f}')"
      ],
      "metadata": {
        "colab": {
          "base_uri": "https://localhost:8080/"
        },
        "id": "0eenSw4JkHR2",
        "outputId": "dd753a51-5ba2-4f9f-aa42-6d7187b8493a"
      },
      "execution_count": null,
      "outputs": [
        {
          "output_type": "stream",
          "name": "stdout",
          "text": [
            "추가가격 > 300\n",
            "price1 : 1300\n",
            "price2 : 1170\n"
          ]
        }
      ]
    },
    {
      "cell_type": "code",
      "source": [
        "class PlusPrice2:\n",
        "    def __init__(self, plus):\n",
        "        self.price1 = 1000+plus\n",
        "        self.price2 = (1000+plus)*0.9\n",
        "\n",
        "a = int(input(\"추가 가격을 입력 > \"))\n",
        "\n",
        "result = PlusPrice2(a)\n",
        "print(f\"- price1 : {result.price1}\\n- price2 : {result.price2 :.0f}\")"
      ],
      "metadata": {
        "colab": {
          "base_uri": "https://localhost:8080/"
        },
        "id": "KLCNLHwsk8kS",
        "outputId": "6a5d3862-4102-495f-c1a9-18ef2ced35f6"
      },
      "execution_count": null,
      "outputs": [
        {
          "output_type": "stream",
          "name": "stdout",
          "text": [
            "추가 가격을 입력 > 200\n",
            "- price1 : 1200\n",
            "- price2 : 1080\n"
          ]
        }
      ]
    },
    {
      "cell_type": "markdown",
      "source": [
        "Task2_0513. 두개의 수를 입력한 후 두개의 수에 대한 사칙연산을 수행하세요.(0을 입력한 경우 다시 입력하도록 조치)"
      ],
      "metadata": {
        "id": "ddVLXSU5n_M0"
      }
    },
    {
      "cell_type": "code",
      "source": [],
      "metadata": {
        "id": "gPqWEuFE_VDe"
      },
      "execution_count": null,
      "outputs": []
    },
    {
      "cell_type": "code",
      "source": [
        "class Element:\n",
        "    def __init__(self, a, b):\n",
        "        if a != 0 and b != 0:\n",
        "          self.sum = a + b\n",
        "          self.subt = a - b\n",
        "          self.mult = a * b\n",
        "          self.div = a / b\n",
        "        else:\n",
        "          print('0이 아닌 숫자를 입력하세요')\n",
        "          self.sum = None\n",
        "          self.subt = None\n",
        "          self.mult = None\n",
        "          self.div = None\n",
        "\n",
        "a = int(input())\n",
        "b = int(input())\n",
        "element = Element(a,b)\n",
        "print(f'덧셈 : {element.sum} / 뺄셈 : {element.subt} / 곱셈 : {element.mult} / 나눗셈 : {element.div}')"
      ],
      "metadata": {
        "colab": {
          "base_uri": "https://localhost:8080/",
          "height": 110
        },
        "id": "RFbOooZRn_54",
        "outputId": "c63614e1-0cda-43a3-da71-7e2a12fde47b"
      },
      "execution_count": null,
      "outputs": [
        {
          "output_type": "error",
          "ename": "SyntaxError",
          "evalue": "invalid syntax (<ipython-input-68-50c8959ad55d>, line 3)",
          "traceback": [
            "\u001b[0;36m  File \u001b[0;32m\"<ipython-input-68-50c8959ad55d>\"\u001b[0;36m, line \u001b[0;32m3\u001b[0m\n\u001b[0;31m    for a, b:\u001b[0m\n\u001b[0m            ^\u001b[0m\n\u001b[0;31mSyntaxError\u001b[0m\u001b[0;31m:\u001b[0m invalid syntax\n"
          ]
        }
      ]
    },
    {
      "cell_type": "markdown",
      "source": [
        "오버라이딩(Overriding)\n",
        "- 부모 클래스에 정의된 메서드를 자식 클래스에서 재정의\n",
        "\n",
        "오버로딩(Overloading)\n",
        "- 오버로딩(Overloading)은 하나의 클래스 내에서 메서드 이름은 같지만 매개변수의 타입이나 개수가 다른 여러 메서드를 정의하는 것을 의미. 이를 통해 동일한 메서드 호출에 다양한 매개변수를 사용할 수 있다.\n",
        "- 파이썬은 기본적으로 오버로딩을 직접 지원하지 않지만,  기본값 인자(default arguments), 가변 인자(variable arguments), 키워드 인자(keyword arguments) 등을 사용하여 유사한 기능을 구현\n",
        "\n",
        "다형성(Polymorphism)\n",
        "- 서로 다른 클래스의 객체가 동일한 인터페이스를 공유할 수 있게 하는 개념\n",
        "-  다형성은 하나의 인터페이스가 다양한 형태의 객체에 적용될 수 있음을 의미\n",
        "- 예를 들어, 여러 동물 클래스가 모두 speak 메서드를 갖고 있을 때, 이 메서드는 각 동물에 맞게 다르게 구현"
      ],
      "metadata": {
        "id": "rvrhLqy2oLci"
      }
    },
    {
      "cell_type": "code",
      "source": [
        "class Animal:\n",
        "    def speak(self):\n",
        "        return \"I'm an animal!\"\n",
        "\n",
        "# 오버라이딩 : Dog과 Cat 클래스는 Animal 클래스의 speak 메서드를 오버라이딩\n",
        "class Dog(Animal):\n",
        "    def speak(self):\n",
        "        return \"Woof!\"\n",
        "class Cat(Animal):\n",
        "    def speak(self):\n",
        "        return \"Meow~\"\n",
        "\n",
        "dog = Dog()\n",
        "cat = Cat()\n",
        "print(dog.speak())\n",
        "print(cat.speak())"
      ],
      "metadata": {
        "colab": {
          "base_uri": "https://localhost:8080/"
        },
        "id": "jA9iJ-f8pa_N",
        "outputId": "798971bb-946e-4b57-cd6d-81feb84582d1"
      },
      "execution_count": null,
      "outputs": [
        {
          "output_type": "stream",
          "name": "stdout",
          "text": [
            "Woof!\n",
            "Meow~\n"
          ]
        }
      ]
    },
    {
      "cell_type": "code",
      "source": [
        "# 오버로딩 : 하나의 클래스 내에서 메서드 이름은 같지만 매개변수의 타입이나 개수가 다른 여러 메서드를 정의\n",
        "# 오버로딩 유사 구현 : Bird 클래스는 기본값 인자를 사용하여 오버로딩과 유사한 기능을 구현.\n",
        "class Bird(Animal):\n",
        "    def speak(self, mood=\"happy\"):\n",
        "        if mood == \"happy\":\n",
        "            return \"Tweet!\"\n",
        "        else:\n",
        "            return \"Squak!\"\n",
        "bird = Bird()\n",
        "# 오버로딩 유사 구현 사용\n",
        "print(bird.speak(\"angry\"))\n",
        "print(bird.speak(\"happy\"))"
      ],
      "metadata": {
        "colab": {
          "base_uri": "https://localhost:8080/"
        },
        "id": "1d42zCGEtAMN",
        "outputId": "ed79c52b-b4b5-4ac2-928f-bf9359309744"
      },
      "execution_count": null,
      "outputs": [
        {
          "output_type": "stream",
          "name": "stdout",
          "text": [
            "Squak!\n",
            "Tweet!\n"
          ]
        }
      ]
    },
    {
      "cell_type": "code",
      "source": [
        "# 다향성 : 하나의 인터페이스가 다양한 형태의 객체에 적용\n",
        "def animal_sound(animal):\n",
        "    print(animal.speak())\n",
        "\n",
        "# 다향성을 통한 메서드 호출\n",
        "animal_sound(dog)\n",
        "animal_sound(cat)\n",
        "animal_sound(bird)"
      ],
      "metadata": {
        "colab": {
          "base_uri": "https://localhost:8080/"
        },
        "id": "ibpVuRsduPyg",
        "outputId": "106169c8-bce4-43bf-cd70-ac8042150b11"
      },
      "execution_count": null,
      "outputs": [
        {
          "output_type": "stream",
          "name": "stdout",
          "text": [
            "Woof!\n",
            "Meow~\n",
            "Tweet!\n"
          ]
        }
      ]
    },
    {
      "cell_type": "markdown",
      "source": [
        "Task3_0513. 파이썬 오버라이딩, 오버로딩, 다형성의 사례를 만들어 보세요."
      ],
      "metadata": {
        "id": "BcFbJgDHuvZT"
      }
    },
    {
      "cell_type": "code",
      "source": [],
      "metadata": {
        "id": "J7y-iMwluvxB"
      },
      "execution_count": null,
      "outputs": []
    }
  ]
}
