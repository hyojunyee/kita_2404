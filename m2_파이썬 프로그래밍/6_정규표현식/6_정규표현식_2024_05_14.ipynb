{
  "nbformat": 4,
  "nbformat_minor": 0,
  "metadata": {
    "colab": {
      "provenance": [],
      "authorship_tag": "ABX9TyNglaLIBuSq+krm1a1FhbXC",
      "include_colab_link": true
    },
    "kernelspec": {
      "name": "python3",
      "display_name": "Python 3"
    },
    "language_info": {
      "name": "python"
    }
  },
  "cells": [
    {
      "cell_type": "markdown",
      "metadata": {
        "id": "view-in-github",
        "colab_type": "text"
      },
      "source": [
        "<a href=\"https://colab.research.google.com/github/hyojunyee/kita_2404/blob/main/m2_%ED%8C%8C%EC%9D%B4%EC%8D%AC%20%ED%94%84%EB%A1%9C%EA%B7%B8%EB%9E%98%EB%B0%8D/6_%EC%A0%95%EA%B7%9C%ED%91%9C%ED%98%84%EC%8B%9D/6_%EC%A0%95%EA%B7%9C%ED%91%9C%ED%98%84%EC%8B%9D.ipynb\" target=\"_parent\"><img src=\"https://colab.research.google.com/assets/colab-badge.svg\" alt=\"Open In Colab\"/></a>"
      ]
    },
    {
      "cell_type": "markdown",
      "source": [
        "파이썬에서 정규 표현식(Regular Expressions)은 문자열을 처리할 때 매우 강력하고 유연한 도구\n",
        "\n",
        "기본 개념:\n",
        "- 패턴 매칭 (Pattern Matching): 특정 패턴이 문자열에 존재하는지 확인. 예를 들어, 이메일 주소나 전화번호와 같은 특정 형식을 갖는 문자열을 찾을 때 사용\n",
        "\n",
        "- 메타 문자 (Meta Characters): 정규 표현식의 핵심 요소로, 특별한 의미를 가진 문자들. 예를 들어, ^, $, *, +, ?, {}, [], \\, |, () 등이 있습니다.\n",
        "\n",
        "- 리터럴 (Literal): 일반 텍스트 문자. 특별한 의미 없이 문자 그대로를 의미\n",
        "\n",
        "re 모듈 : 파이썬은 정규표현식을 지원하기 위해 기본으로 제공\n",
        "- re.compile의 결과로 리턴되는 객체를 이용하여 그 이후 작업 수행\n",
        "\n",
        "주요 기능:\n",
        "- re.match(pattern, string): 문자열 내에서 시작 부분부터 정규표현식과 일치하는지 확인\n",
        "- re.search(pattern, string): 문자열 전체를 검색하여 주어진 정규표현식과 일치하는 첫번째 위치를 확인\n",
        "- re.findall(pattern, string): 문자열 내에서 주어진 패턴과 일치하는 모든 부분을 찾아 리스트로 반환\n",
        "- re.finditer(): 정규식과 매치되는 모든 문자열을 반복 가능한 객체로 리턴\n",
        "- re.sub(pattern, repl, string): 문자열 내에서 주어진 패턴과 일치하는 부분을 다른 문자열로 대체\n",
        "- re.compile(pattern): 주어진 패턴을 컴파일하여 재사용 가능한 정규 표현식 객체를 생성"
      ],
      "metadata": {
        "id": "x2QkGruuvy_H"
      }
    },
    {
      "cell_type": "markdown",
      "source": [
        "re.match에서 반환되는 match 객체는 클래스의 인스턴스\n",
        "- Python의 re 모듈에서 match 객체는 re.Match 클래스의 인스턴스로, 정규 표현식과의 일치에 대한 정보를 담고 있다.\n",
        "\n",
        "- re.Match 클래스의 인스턴스는 다음과 같은 중요한 메소드와 속성을 가지고 있다:\n",
        "  - group(): 일치하는 문자열을 반환. group(0) 또는 group()은 전체 일치를 반환\n",
        "  - start() 및 end(): 일치하는 부분의 시작과 끝 인덱스를 반환.\n",
        "  - span(): 일치하는 부분의 시작과 끝 인덱스를 포함하는 튜플을 반환.\n",
        "  \n",
        "re.match() 함수의 작동원리\n",
        "- 입력: re.match() 함수는 두 가지 주요 인자를 받는다:\n",
        "    - pattern: 검사할 정규 표현식 패턴. 이 패턴은 문자열에서 찾고자 하는 문자의 시퀀스를 정의.\n",
        "    - string: 검사할 전체 문자열입니다.\n",
        "- 패턴 일치 검사: 함수는 주어진 string의 시작 부분부터 pattern에 정의된 정규 표현식과 일치하는지 확인. 여기서 \"시작 부분\"이 중요한데, 이는 함수가 문자열의 처음부터 패턴과 일치하는 부분을 찾는다는 것을 의미.\n",
        "\n",
        "- 결과 반환:\n",
        "    - 일치하는 경우: 패턴이 문자열의 시작 부분과 일치하는 경우, 함수는 re.Match 객체를 반환. 이 객체는 일치에 대한 상세한 정보(예: 일치하는 문자열, 시작 및 끝 인덱스, 캡처된 그룹 등)를 포함.\n",
        "    - 일치하지 않는 경우: 패턴이 문자열의 시작 부분과 일치하지 않으면, 함수는 None을 반환."
      ],
      "metadata": {
        "id": "Z9rtdVUIyVFI"
      }
    },
    {
      "cell_type": "code",
      "source": [
        "import re\n",
        "\n",
        "pattern = r'\\d+'\n",
        "string = '123 apple'\n",
        "match = re.match(pattern, string)     # match는 re.Match의 인스턴스\n",
        "if match:\n",
        "    print(match.group())\n",
        "    print(match.start())\n",
        "    print(match.end())\n",
        "    print(match.span())\n",
        "else:\n",
        "    print('No match found')"
      ],
      "metadata": {
        "colab": {
          "base_uri": "https://localhost:8080/"
        },
        "id": "Z7yWnE5ZskGw",
        "outputId": "3119b828-a8b1-4a78-afec-bc2f6c09157f"
      },
      "execution_count": null,
      "outputs": [
        {
          "output_type": "stream",
          "name": "stdout",
          "text": [
            "123\n",
            "0\n",
            "3\n",
            "(0, 3)\n"
          ]
        }
      ]
    },
    {
      "cell_type": "code",
      "source": [
        "import re\n",
        "\n",
        "pattern = re.compile('hello')\n",
        "match_obj = pattern.match('hello world')\n",
        "\n",
        "print(match_obj.group())  # 출력: hello\n",
        "print(match_obj.start())  # 출력: 0\n",
        "print(match_obj.end())    # 출력: 5\n",
        "print(match_obj.span())   # 출력: (0, 5)"
      ],
      "metadata": {
        "id": "T4n7WRKxtSRw"
      },
      "execution_count": null,
      "outputs": []
    },
    {
      "cell_type": "code",
      "execution_count": null,
      "metadata": {
        "id": "HZMYsE6uvwKq"
      },
      "outputs": [],
      "source": [
        "import re\n",
        "\n",
        "# match는 시작부분이어야 되고, 처음시작되는 하나에만 적용된다.\n",
        "match = re.match('apple', 'apple pie apple')\n",
        "print(match.group())\n",
        "print(match.group(0))\n",
        "print(match.start())\n",
        "print(match.end())\n",
        "print(match.span())"
      ]
    },
    {
      "cell_type": "code",
      "source": [
        "# 괄호는 문자열 \"apple\"을 \"캡처 그룹\"으로 지정하는 ㅇ녁할\n",
        "p = '(apple) pie'\n",
        "t = 'apple pie'\n",
        "\n",
        "match = re.match(p,t)\n",
        "print(match.group())\n",
        "print(match.group(1))"
      ],
      "metadata": {
        "id": "ryLkBSWqzvYs"
      },
      "execution_count": null,
      "outputs": []
    },
    {
      "cell_type": "code",
      "source": [
        "# ()가 단순한 문자열로 매치되길 원할 때는 이스케이프 처리\n",
        "p = '\\\\(apple\\\\) pie'\n",
        "t = '(apple) pie'\n",
        "\n",
        "match = re.match(p,t)\n",
        "print(match.group())"
      ],
      "metadata": {
        "id": "fkuRuFRT0JPs"
      },
      "execution_count": null,
      "outputs": []
    },
    {
      "cell_type": "code",
      "source": [
        "# 로우스트링 r'...'을 사용한다면, 백슬래시를 두 번 연속해서 쓰는 것을 피할 수 있어 코드가 더 깔끔해지고 오류 발생가능성이 줄어듬\n",
        "p = r'\\(apple\\) pie'\n",
        "t = '(apple) pie'\n",
        "\n",
        "match = re.match(p,t)\n",
        "print(match.group())"
      ],
      "metadata": {
        "id": "vljjlJxH06Go"
      },
      "execution_count": null,
      "outputs": []
    },
    {
      "cell_type": "code",
      "source": [
        "# 그룹\n",
        "\n",
        "p = '(apple) (pie)'\n",
        "t = 'apple pie'\n",
        "\n",
        "match = re.match(p,t)\n",
        "print(match.group())\n",
        "print(match.group(0))\n",
        "print(match.group(1))\n",
        "print(match.group(2))"
      ],
      "metadata": {
        "id": "JCqKILUA1fef"
      },
      "execution_count": null,
      "outputs": []
    },
    {
      "cell_type": "code",
      "source": [
        "# 시작에 없어서 동작을 안함.\n",
        "p = 'apple'\n",
        "t = 'sweet apple pie'\n",
        "\n",
        "match = re.match(p,t)\n",
        "print = (match.group)"
      ],
      "metadata": {
        "id": "FP-fW44O16OO"
      },
      "execution_count": null,
      "outputs": []
    },
    {
      "cell_type": "code",
      "source": [
        "search = re.search('apple','sweet apple pie')\n",
        "print(search.group())\n",
        "print(search.group(0))\n",
        "print(search.start())\n",
        "print(search.end())\n",
        "print(search.span())"
      ],
      "metadata": {
        "id": "cxkvfeBQ2Jv7"
      },
      "execution_count": null,
      "outputs": []
    },
    {
      "cell_type": "code",
      "source": [
        "import re\n",
        "\n",
        "# 검색하기\n",
        "if re.search('apple', 'apple pie'):\n",
        "    print(\"Found an apple!\")\n",
        "# 모든 일치 항목 찾기\n",
        "print(re.findall('a.', 'ab ac ad')) # 어떤 한 문자와 일치\n",
        "# 문자열 대체하기\n",
        "print(re.sub('blue', 'red', 'blue sky and blue ocean'))\n",
        "# 페턴 컴파일하기\n",
        "pattern = re.compile('[a-e]')\n",
        "print(pattern.findall('hello world'))"
      ],
      "metadata": {
        "colab": {
          "base_uri": "https://localhost:8080/"
        },
        "id": "thavTECap6go",
        "outputId": "d13311bb-4215-4d97-a838-df4a600bb8cb"
      },
      "execution_count": null,
      "outputs": [
        {
          "output_type": "stream",
          "name": "stdout",
          "text": [
            "Found an apple!\n",
            "['ab', 'ac', 'ad']\n",
            "red sky and red ocean\n",
            "['e', 'd']\n"
          ]
        }
      ]
    },
    {
      "cell_type": "markdown",
      "source": [
        "#### 정규 표현식의 기본 구성 요소\n",
        "1. 리터럴(Literals): 일반 텍스트 문자(예: a, b, 1, 2)\n",
        "\n",
        "2. 메타 문자(Meta Characters): 특별한 의미를 지닌 문자들\n",
        "- `.`: 어떤 한 문자와 일치 (\\n 제외)\n",
        "- ^: 문자열의 시작과 일치\n",
        "- $: 문자열의 끝과 일치\n",
        "- *: 0번 이상 반복되는 경우와 일치\n",
        "- +: 1번 이상 반복되는 경우와 일치\n",
        "- ?: 0번 또는 1번 등장하는 경우와 일치\n",
        "- {m,n}: 최소 m번, 최대 n번 반복\n",
        "- []: 문자 집합 중 하나와 일치 (예: [abc]는 a, b, c 중 하나와 일치)\n",
        "- |: OR 조건 (예: a|b는 a 또는 b)\n",
        "- (...): 그룹화\n",
        "\n",
        "3. 특수 시퀀스(Special Sequences):\n",
        "- \\d: 숫자와 일치\n",
        "- \\D: 숫자가 아닌 공백, 문자, 구두점 등 모든 문자와 일치\n",
        "- \\s: 스페이스(' '), 탭('\\t'), 캐리지 리턴('\\r'), 뉴라인('\\n'), 폼 피드('\\f') 등 공백 문자와 일치\n",
        "- \\S: 공백이 아닌 문자, 숫자, 특수 문자 등 모든 것과 일치\n",
        "- \\w: 단어 문자(문자, 숫자, 밑줄)와 일치\n",
        "- \\W: 단어 문자가 아닌 특수 문자, 공백 문자, 구두점 등과 일치"
      ],
      "metadata": {
        "id": "qdOfcnlItUYA"
      }
    },
    {
      "cell_type": "markdown",
      "source": [
        "1. `.` (마침표)\n",
        "- 의미: 어떤 한 문자와 일치(줄바꿈 문자 제외)\n",
        "- 예시:\n",
        "  - 패턴: a.b\n",
        "  - 매칭 예시: \"acb\", \"a*b\", \"a3b\"\n",
        "  - 불일치 예시: \"ab\", \"a\\nb\"\n",
        "2. ^ (캐럿)\n",
        "- 의미: 문자열의 시작과 일치\n",
        "- 예시:\n",
        "  - 패턴: ^Hello\n",
        "  - 매칭 예시: \"Hello world\"\n",
        "  - 불일치 예시: \"world, Hello\"\n",
        "3. \\$ (달러 기호)\n",
        "- 의미: 문자열의 끝과 일치\n",
        "- 예시:\n",
        "  - 패턴: end$\n",
        "  - 매칭 예시: \"It's the end\"\n",
        "  - 불일치 예시: \"end of the story\"\n",
        "4. \\* (별표)\n",
        "- 의미: 앞의 문자가 0번 이상 반복\n",
        "- 예시:\n",
        "  - 패턴: a*b\n",
        "  - 매칭 예시: \"b\", \"ab\", \"aaab\"\n",
        "  - 불일치 예시: \"a\"\n",
        "5. \\+ (플러스)\n",
        "- 의미: 앞의 문자가 1번 이상 반복\n",
        "- 예시:\n",
        "  - 패턴: a+b\n",
        "  - 매칭 예시: \"ab\", \"aaab\"\n",
        "  - 불일치 예시: \"b\", \"a\"\n",
        "6. ? (물음표)\n",
        "- 의미: 앞의 문자가 0번 또는 1번 등장\n",
        "- 예시:\n",
        "  - 패턴: a?b\n",
        "  - 매칭 예시: \"ab\", \"b\"\n",
        "  - 불일치 예시: \"aab\"\n",
        "7. {m,n} (중괄호)\n",
        "- 의미: 앞의 문자가 최소 m번, 최대 n번 반복\n",
        "- 예시:\n",
        "  - 패턴: a{2,3}\n",
        "  - 매칭 예시: \"aa\", \"aaa\"\n",
        "  - 불일치 예시: \"a\", \"aaaa\"\n",
        "8. `[]` (대괄호)\n",
        "- 의미: 대괄호 안의 문자 중 하나와 일치\n",
        "- 예시:\n",
        "  - 패턴: [abc]\n",
        "  - 매칭 예시: \"a\", \"b\", \"c\"\n",
        "  - 불일치 예시: \"d\"\n",
        "9. | (파이프)\n",
        "- 의미: OR 조건\n",
        "- 예시:\n",
        "  - 패턴: a|b\n",
        "  - 매칭 예시: \"a\", \"b\"\n",
        "  - 불일치 예시: \"c\"\n",
        "10. (...) (괄호)\n",
        "- 의미: 그룹화, 캡처 그룹\n",
        "- 예시:\n",
        "  - 패턴: (a|b)c\n",
        "  - 매칭 예시: \"ac\", \"bc\""
      ],
      "metadata": {
        "id": "QtpmYvtZtVJP"
      }
    },
    {
      "cell_type": "markdown",
      "source": [
        "이스케이프 문자(escape character) vs 이스케이프 시퀀스(escape sequence)\n",
        "\n",
        "이스케이프 문자\n",
        "- 이스케이프 문자는 문자열 내에서 특수한 목적을 가지고 사용되는 문자. 대표적인 예로는 백슬래시(\\\\)가 있다.\n",
        "- 이 문자는 문자열 내에서 다른 문자와 결합하여 다양한 이스케이프 시퀀스를 형성하거나 특정 문자를 리터럴 값으로 표현하는 데 사용.\n",
        "\n",
        "이스케이프 시퀀스\n",
        "- 이스케이프 시퀀스는 이스케이프 문자에 이어지는 하나 또는 그 이상의 문자로 구성된 문자열.\n",
        "- 이스케이프 시퀀스는 일반적으로 출력할 수 없는 특수한 명령이나 문자를 표현하는 데 사용. 예를 들어, \\n은 새 줄(new line)을, \\t는 탭(tab)을 의미. 이스케이프 시퀀스는 이스케이프 문자를 통해 특별한 처리를 필요로 하는 여러 문자를 문자열 안에 포함시킬 수 있게 한다."
      ],
      "metadata": {
        "id": "M-GB_sWswiae"
      }
    },
    {
      "cell_type": "code",
      "source": [
        "# 이스케이프 문자 사용 예\n",
        "text = 'He said, \\\"Hello.\\\"'\n",
        "print(text)\n",
        "# 이스케이프 시퀀스 사용 예\n",
        "text = \"First Line\\nSecond Line\"\n",
        "print(text)"
      ],
      "metadata": {
        "colab": {
          "base_uri": "https://localhost:8080/"
        },
        "id": "KPOHtxNkukUj",
        "outputId": "b330038f-fc62-44c8-a1c7-70e8a544cc89"
      },
      "execution_count": null,
      "outputs": [
        {
          "output_type": "stream",
          "name": "stdout",
          "text": [
            "He said, \"Hello.\"\n",
            "First Line\n",
            "Second Line\n"
          ]
        }
      ]
    },
    {
      "cell_type": "markdown",
      "source": [
        "Python에서 로우 스트링\n",
        "- 문자열 앞에 r이나 R을 붙여 정의\n",
        "- 주요 목적은 문자열 내에서 백슬래시(\\\\)와 같은 이스케이프 문자를 문자 그대로 처리하여, 특수 문자열을 이스케이프하는 복잡성을 줄인다.\n",
        "- 로우스트링 사용이 필수적인 경우\n",
        "  - 백슬래시 다음에 특정 문자가 오는 경우: 만약 문자열 내에 백슬래시(\\\\) 다음에 특별한 의미를 가지는 문자(n, t, b, r, u, x 등)가 오면, 이들은 각각 줄바꿈(\\n), 탭(\\t), 백스페이스(\\b), 캐리지 리턴(\\r), 유니코드 문자(\\uXXXX), 16진수 문자(\\xXX) 등으로 해석. 이런 경우 로우스트링을 사용하지 않으면 문자열이 의도치 않게 변경될 수 있다.\n",
        "\n",
        "  - 정규 표현식의 메타문자를 이스케이프 해야 할 때: 정규 표현식에서 메타문자(예: *, +, [, ], (, ), {, }, ^, $, ., |, ?, \\\\ 등)를 리터럴 문자로 사용하고 싶다면, 이스케이프 처리(\\)를 해야 합니다. 이때 로우스트링을 사용하지 않으면, \\ 자체를 이스케이프해야 하므로 코드가 복잡해질 수 있다."
      ],
      "metadata": {
        "id": "1LZ8KrjVyECG"
      }
    },
    {
      "cell_type": "code",
      "source": [
        "# 일반 문자열에서의 이스케이프 시퀀스 사용\n",
        "path = \"C:\\\\users\\\\username\\\\Documents\"\n",
        "print(path)   # 출력 : C:\\users\\username\\Documents\n",
        "raw_path = r\"C:\\users\\username\\Documents\"\n",
        "print(raw_path)   # 출력 : C:\\users\\username\\Documents"
      ],
      "metadata": {
        "colab": {
          "base_uri": "https://localhost:8080/"
        },
        "id": "Bps-LDvEy1Pp",
        "outputId": "e545f004-ba35-49a6-91df-161bad3fb6f6"
      },
      "execution_count": null,
      "outputs": [
        {
          "output_type": "stream",
          "name": "stdout",
          "text": [
            "C:\\users\\username\\Documents\n",
            "C:\\users\\username\\Documents\n"
          ]
        }
      ]
    },
    {
      "cell_type": "code",
      "source": [
        "import re\n",
        "pattern = r'(\\d{4})-(\\d{2})-(\\d{2})'\n",
        "text = \"오늘의 날짜는 2023-04-30입니다.\"\n",
        "match = re.search(pattern, text)\n",
        "print(\"전체 날짜: \", match.group())"
      ],
      "metadata": {
        "colab": {
          "base_uri": "https://localhost:8080/"
        },
        "id": "omZE6jEg3psa",
        "outputId": "3c169fec-c6e7-4906-83ad-cc91b31ffa95"
      },
      "execution_count": null,
      "outputs": [
        {
          "output_type": "stream",
          "name": "stdout",
          "text": [
            "전체 날짜:  2023-04-30\n"
          ]
        }
      ]
    },
    {
      "cell_type": "code",
      "source": [
        "# 정규 표현식의 패턴\n",
        "pattern = r'(\\d{4})-(\\d{2})-(\\d{2})'\n",
        "text = \"오늘의 날짜는 2023-04-30입니다.\"\n",
        "print(\"전체 날짜: \", match.group())\n",
        "# 패턴 검색\n",
        "match = re.search(pattern, text)\n",
        "# 매치 결과 확인\n",
        "if match:\n",
        "    print(\"전체 날짜:\",match.group())\n",
        "    print(\"연도:\",match.group(1))\n",
        "    print(\"월:\",match.group(2))\n",
        "    print(\"일:\",match.group(3))\n",
        "else:\n",
        "    print(\"매치되는 날짜가 없습니다.\")"
      ],
      "metadata": {
        "colab": {
          "base_uri": "https://localhost:8080/"
        },
        "id": "L7hd4q-P4wMt",
        "outputId": "7f10a8f2-9a1c-4e2b-d04f-ddcf2be7a9e4"
      },
      "execution_count": null,
      "outputs": [
        {
          "output_type": "stream",
          "name": "stdout",
          "text": [
            "전체 날짜:  2023-04-30\n",
            "전체 날짜: 2023-04-30\n",
            "연도: 2023\n",
            "월: 04\n",
            "일: 30\n"
          ]
        }
      ]
    },
    {
      "cell_type": "code",
      "source": [
        "import re\n",
        "print(re.findall(\"[ch]*at\",\"The cat in the hat\"))   # 0번 이상 등장\n",
        "print(re.findall(\"[ch]+at\",\"The cat in the hat\"))   # 1번 이상 등장\n",
        "print(re.findall(\"[ch]?at\",\"The cat in the hat\"))   # 0번 이나 1번 등장\n",
        "print(re.findall(\"cat|hat\",\"The cat in the hat\"))"
      ],
      "metadata": {
        "colab": {
          "base_uri": "https://localhost:8080/"
        },
        "id": "a69gaVg35UZV",
        "outputId": "db0bb662-553c-4f4a-be44-c1c39a9e0175"
      },
      "execution_count": null,
      "outputs": [
        {
          "output_type": "stream",
          "name": "stdout",
          "text": [
            "['cat', 'hat']\n",
            "['cat', 'hat']\n",
            "['cat', 'hat']\n",
            "['cat', 'hat']\n"
          ]
        }
      ]
    },
    {
      "cell_type": "code",
      "source": [
        "import re\n",
        "\n",
        "# matches는 리스트 객체\n",
        "text = \"bat, cat, rat , fat\"\n",
        "# pattern = r'[bcr]at'\n",
        "pattern = r'[^f]at'     # 대괄호 안에서 ^는 시작이 아닌 것으로 해석\n",
        "matches = re.findall(pattern, text)\n",
        "print(matches)"
      ],
      "metadata": {
        "colab": {
          "base_uri": "https://localhost:8080/"
        },
        "id": "27O6pGdj6cZ1",
        "outputId": "bca66fc4-32ee-4ba2-a2e3-7c24cb5d0a4d"
      },
      "execution_count": null,
      "outputs": [
        {
          "output_type": "stream",
          "name": "stdout",
          "text": [
            "['bat', 'cat', 'rat']\n"
          ]
        }
      ]
    },
    {
      "cell_type": "markdown",
      "source": [
        "Q. 문자열 \"123 abc 456\"에서 모든 숫자를 찾으세요"
      ],
      "metadata": {
        "id": "-h-7hdpm7UPg"
      }
    },
    {
      "cell_type": "code",
      "source": [
        "import re\n",
        "\n",
        "# matches는 리스트 객체\n",
        "text = \"123 abc 456\"\n",
        "pattern = r'\\d+'\n",
        "matches = re.findall(pattern, text)\n",
        "print(matches)"
      ],
      "metadata": {
        "colab": {
          "base_uri": "https://localhost:8080/"
        },
        "id": "0zDBbzBU7XSw",
        "outputId": "7737fee9-3fd8-4d27-adaf-ffc868671c07"
      },
      "execution_count": null,
      "outputs": [
        {
          "output_type": "stream",
          "name": "stdout",
          "text": [
            "['123', '456']\n"
          ]
        }
      ]
    },
    {
      "cell_type": "markdown",
      "source": [
        "Q. 문자열 \"Hello, my name is John.\"에서 첫단어 \"Hello\"를 찾으세요"
      ],
      "metadata": {
        "id": "w46qQUiE8bsl"
      }
    },
    {
      "cell_type": "code",
      "source": [
        "import re\n",
        "\n",
        "text = \"Hello, my name is John.\"\n",
        "pattern = r'^Hello'\n",
        "match = re.match(pattern, text)\n",
        "if match:\n",
        "    print(match.group())"
      ],
      "metadata": {
        "colab": {
          "base_uri": "https://localhost:8080/"
        },
        "id": "2hMfRDF98ig_",
        "outputId": "fba01d45-0b4c-46b0-8b3c-71a56a9301cf"
      },
      "execution_count": null,
      "outputs": [
        {
          "output_type": "stream",
          "name": "stdout",
          "text": [
            "Hello\n"
          ]
        }
      ]
    },
    {
      "cell_type": "markdown",
      "source": [
        "Q. 문자열 \"The car parked in the garage #42.\"에서 문장의 마지막단어 \"garage\"를 찾으세요"
      ],
      "metadata": {
        "id": "XGG5g7Ih9gqz"
      }
    },
    {
      "cell_type": "code",
      "source": [
        "print(re.search(\"garage\",\"The car parked in the garage #42.\").group())"
      ],
      "metadata": {
        "colab": {
          "base_uri": "https://localhost:8080/"
        },
        "id": "s8m2l_vf-Swh",
        "outputId": "1908a8a3-179f-479d-bd4a-272891b40972"
      },
      "execution_count": null,
      "outputs": [
        {
          "output_type": "stream",
          "name": "stdout",
          "text": [
            "garage\n"
          ]
        }
      ]
    },
    {
      "cell_type": "code",
      "source": [
        "# 문자 클래스 : []\n",
        "pattern = re.compile('[a-z]+')\n",
        "p1 = pattern.search('Banker')\n",
        "p2 = pattern.search('banker')\n",
        "print(p1)\n",
        "print(p2)\n",
        "print(p2.group())\n",
        "print(p2.span())"
      ],
      "metadata": {
        "colab": {
          "base_uri": "https://localhost:8080/"
        },
        "id": "XTKt9UYL-pnw",
        "outputId": "54149482-0a5a-40fa-984e-589ed37e58be"
      },
      "execution_count": null,
      "outputs": [
        {
          "output_type": "stream",
          "name": "stdout",
          "text": [
            "<re.Match object; span=(1, 6), match='anker'>\n",
            "<re.Match object; span=(0, 6), match='banker'>\n",
            "banker\n",
            "(0, 6)\n"
          ]
        }
      ]
    },
    {
      "cell_type": "code",
      "source": [
        "# Q. 'abc12345Abc'에서 'A'만 출력하세요\n",
        "pattern = re.compile('[A-Z]')\n",
        "text = 'abc12345Abc'\n",
        "fA = pattern.search(text)\n",
        "print(fA.group())"
      ],
      "metadata": {
        "colab": {
          "base_uri": "https://localhost:8080/"
        },
        "id": "QEXaOZbI_p2V",
        "outputId": "3df2fbcf-c0e2-4bea-fe21-3cc23205f29f"
      },
      "execution_count": null,
      "outputs": [
        {
          "output_type": "stream",
          "name": "stdout",
          "text": [
            "A\n"
          ]
        }
      ]
    },
    {
      "cell_type": "code",
      "source": [
        "# Q. 'KOREA 대한민국' 에서 '아'만 출력하세요.\n",
        "regex = re.compile('[가-힣]')\n",
        "text = 'KOREA 아대한민국'\n",
        "m = regex.search(text)\n",
        "print(m.group())"
      ],
      "metadata": {
        "colab": {
          "base_uri": "https://localhost:8080/"
        },
        "id": "mhMqUb_sASO-",
        "outputId": "5bb0001d-734a-4789-cde8-ce23c41c6856"
      },
      "execution_count": null,
      "outputs": [
        {
          "output_type": "stream",
          "name": "stdout",
          "text": [
            "아\n"
          ]
        }
      ]
    },
    {
      "cell_type": "code",
      "source": [
        "# search는 문자열 전체를 검색하여 정규식과 매칭되는 패턴을 찾는다.\n",
        "# a{2}는 a를 2회 반복하여 사용\n",
        "# Q. '122333c'를 모두 출력하세요.\n",
        "import re\n",
        "regex = re.compile('12{2}3{3}c')\n",
        "text = '122333c'\n",
        "m = regex.search(text)\n",
        "m.group()"
      ],
      "metadata": {
        "colab": {
          "base_uri": "https://localhost:8080/",
          "height": 35
        },
        "id": "rvc0IEBlDiJ6",
        "outputId": "ade4cb01-7504-4a5e-f20c-f216054a63d6"
      },
      "execution_count": null,
      "outputs": [
        {
          "output_type": "execute_result",
          "data": {
            "text/plain": [
              "'122333c'"
            ],
            "application/vnd.google.colaboratory.intrinsic+json": {
              "type": "string"
            }
          },
          "metadata": {},
          "execution_count": 44
        }
      ]
    },
    {
      "cell_type": "code",
      "source": [
        "# Q. 'aaaaBBBcccDDDeee'를 모두 출력하세요\n",
        "regex = re.compile('a{4}B{3}c{3}D{3}e{3}')\n",
        "text = 'aaaaBBBcccDDDeee'\n",
        "li = regex.search(text)\n",
        "li.group()"
      ],
      "metadata": {
        "colab": {
          "base_uri": "https://localhost:8080/",
          "height": 35
        },
        "id": "-faZR0sdD8Il",
        "outputId": "ec26502e-8710-4bef-ae14-38b69ccb3e29"
      },
      "execution_count": null,
      "outputs": [
        {
          "output_type": "execute_result",
          "data": {
            "text/plain": [
              "'aaaaBBBcccDDDeee'"
            ],
            "application/vnd.google.colaboratory.intrinsic+json": {
              "type": "string"
            }
          },
          "metadata": {},
          "execution_count": 46
        }
      ]
    },
    {
      "cell_type": "markdown",
      "source": [
        "Task1_0514. BC, CC, ABC 모두 C가 출력되는 정규 표현식을 ( )에 작성하세요."
      ],
      "metadata": {
        "id": "YY39LNMiEaMw"
      }
    },
    {
      "cell_type": "code",
      "source": [
        "# 페턴을 넣었을때 전부 C가 출력되도록\n",
        "pattern = re.compile()\n",
        "text1 = 'BC'\n",
        "text2 = 'CC'\n",
        "text3 = 'ABC'\n",
        "p1 = pattern.search(text1)\n",
        "p2 = pattern.search(text2)\n",
        "p3 = pattern.search(text3)\n",
        "print(p1)\n",
        "print(p2)\n",
        "print(p3)"
      ],
      "metadata": {
        "colab": {
          "base_uri": "https://localhost:8080/",
          "height": 221
        },
        "id": "xAaSybmUEgGJ",
        "outputId": "8a2bf6c7-ef4d-40f8-c628-4f5d5186f904"
      },
      "execution_count": null,
      "outputs": [
        {
          "output_type": "error",
          "ename": "TypeError",
          "evalue": "compile() missing 1 required positional argument: 'pattern'",
          "traceback": [
            "\u001b[0;31m---------------------------------------------------------------------------\u001b[0m",
            "\u001b[0;31mTypeError\u001b[0m                                 Traceback (most recent call last)",
            "\u001b[0;32m<ipython-input-49-fcf8696dff7f>\u001b[0m in \u001b[0;36m<cell line: 2>\u001b[0;34m()\u001b[0m\n\u001b[1;32m      1\u001b[0m \u001b[0;31m# 페턴을 넣었을때 전부 C가 출력되도록\u001b[0m\u001b[0;34m\u001b[0m\u001b[0;34m\u001b[0m\u001b[0m\n\u001b[0;32m----> 2\u001b[0;31m \u001b[0mpattern\u001b[0m \u001b[0;34m=\u001b[0m \u001b[0mre\u001b[0m\u001b[0;34m.\u001b[0m\u001b[0mcompile\u001b[0m\u001b[0;34m(\u001b[0m\u001b[0;34m)\u001b[0m\u001b[0;34m\u001b[0m\u001b[0;34m\u001b[0m\u001b[0m\n\u001b[0m\u001b[1;32m      3\u001b[0m \u001b[0mtext1\u001b[0m \u001b[0;34m=\u001b[0m \u001b[0;34m'BC'\u001b[0m\u001b[0;34m\u001b[0m\u001b[0;34m\u001b[0m\u001b[0m\n\u001b[1;32m      4\u001b[0m \u001b[0mtext2\u001b[0m \u001b[0;34m=\u001b[0m \u001b[0;34m'CC'\u001b[0m\u001b[0;34m\u001b[0m\u001b[0;34m\u001b[0m\u001b[0m\n\u001b[1;32m      5\u001b[0m \u001b[0mtext3\u001b[0m \u001b[0;34m=\u001b[0m \u001b[0;34m'ABC'\u001b[0m\u001b[0;34m\u001b[0m\u001b[0;34m\u001b[0m\u001b[0m\n",
            "\u001b[0;31mTypeError\u001b[0m: compile() missing 1 required positional argument: 'pattern'"
          ]
        }
      ]
    },
    {
      "cell_type": "code",
      "source": [
        "p = re.compile('[a-z]+')\n",
        "result = p.findall('life is too short')\n",
        "# result = p.search('life is too short')\n",
        "print(result)"
      ],
      "metadata": {
        "colab": {
          "base_uri": "https://localhost:8080/"
        },
        "id": "apNltSeWFBKd",
        "outputId": "0fc24110-659a-43f8-b520-3e1f0d2f5c29"
      },
      "execution_count": null,
      "outputs": [
        {
          "output_type": "stream",
          "name": "stdout",
          "text": [
            "['life', 'is', 'too', 'short']\n"
          ]
        }
      ]
    },
    {
      "cell_type": "code",
      "source": [
        "# finditer는 findall과 동일하지만 그 결과로 반복 가능한 객체(iterator object)를 돌려준다.\n",
        "# 반복가능한 객체가 포함되는 각각의 요소는 match 객체이다.\n",
        "p = re.compile('[a-z]+')\n",
        "result = p.finditer('life is too short')\n",
        "# print(result)     # 프린트 하게 되면 반복가능한 객체가 나온다.\n",
        "# print(list(result))\n",
        "for r in result:print(r.group())"
      ],
      "metadata": {
        "colab": {
          "base_uri": "https://localhost:8080/"
        },
        "id": "wjXKApKsFb41",
        "outputId": "6c499179-a276-4ee9-d07b-c77e78a6d967"
      },
      "execution_count": null,
      "outputs": [
        {
          "output_type": "stream",
          "name": "stdout",
          "text": [
            "<callable_iterator object at 0x7f13b8cc3400>\n",
            "life\n",
            "is\n",
            "too\n",
            "short\n"
          ]
        }
      ]
    },
    {
      "cell_type": "code",
      "source": [
        "# Q. '1234a1234'에서 '1','2','3','4'를 모두 출력하세요.\n",
        "import re\n",
        "regex = re.compile('[1234]')\n",
        "text = '1234a1234'\n",
        "print(regex.findall(text))"
      ],
      "metadata": {
        "colab": {
          "base_uri": "https://localhost:8080/"
        },
        "id": "9kE7xo-XGDBf",
        "outputId": "13f41fde-aa52-4962-c109-9dcb72a74890"
      },
      "execution_count": null,
      "outputs": [
        {
          "output_type": "stream",
          "name": "stdout",
          "text": [
            "['1', '2', '3', '4', '1', '2', '3', '4']\n"
          ]
        }
      ]
    },
    {
      "cell_type": "markdown",
      "source": [
        "Task2_0514. ' Python3 is very good programming language!'에서  ['Python', 'is', 'very', 'good', 'programming', 'language']를 모두 출력하세요."
      ],
      "metadata": {
        "id": "CfS05PvHG5I6"
      }
    },
    {
      "cell_type": "code",
      "source": [
        "regex = re.compile('[a-z]')\n",
        "text = ' Python3 is very good programming language!'\n",
        "result = re.findall(text)\n",
        "print(result)"
      ],
      "metadata": {
        "colab": {
          "base_uri": "https://localhost:8080/",
          "height": 202
        },
        "id": "cBsx0NAHG5lv",
        "outputId": "7aa40e43-9b00-45b4-f934-7f6ff6b14459"
      },
      "execution_count": null,
      "outputs": [
        {
          "output_type": "error",
          "ename": "TypeError",
          "evalue": "findall() missing 1 required positional argument: 'string'",
          "traceback": [
            "\u001b[0;31m---------------------------------------------------------------------------\u001b[0m",
            "\u001b[0;31mTypeError\u001b[0m                                 Traceback (most recent call last)",
            "\u001b[0;32m<ipython-input-60-6c36de284c52>\u001b[0m in \u001b[0;36m<cell line: 3>\u001b[0;34m()\u001b[0m\n\u001b[1;32m      1\u001b[0m \u001b[0mregex\u001b[0m \u001b[0;34m=\u001b[0m \u001b[0mre\u001b[0m\u001b[0;34m.\u001b[0m\u001b[0mcompile\u001b[0m\u001b[0;34m(\u001b[0m\u001b[0;34m'[a-z]'\u001b[0m\u001b[0;34m)\u001b[0m\u001b[0;34m\u001b[0m\u001b[0;34m\u001b[0m\u001b[0m\n\u001b[1;32m      2\u001b[0m \u001b[0mtext\u001b[0m \u001b[0;34m=\u001b[0m \u001b[0;34m' Python3 is very good programming language!'\u001b[0m\u001b[0;34m\u001b[0m\u001b[0;34m\u001b[0m\u001b[0m\n\u001b[0;32m----> 3\u001b[0;31m \u001b[0mresult\u001b[0m \u001b[0;34m=\u001b[0m \u001b[0mre\u001b[0m\u001b[0;34m.\u001b[0m\u001b[0mfindall\u001b[0m\u001b[0;34m(\u001b[0m\u001b[0mtext\u001b[0m\u001b[0;34m)\u001b[0m\u001b[0;34m\u001b[0m\u001b[0;34m\u001b[0m\u001b[0m\n\u001b[0m\u001b[1;32m      4\u001b[0m \u001b[0mprint\u001b[0m\u001b[0;34m(\u001b[0m\u001b[0mresult\u001b[0m\u001b[0;34m)\u001b[0m\u001b[0;34m\u001b[0m\u001b[0;34m\u001b[0m\u001b[0m\n",
            "\u001b[0;31mTypeError\u001b[0m: findall() missing 1 required positional argument: 'string'"
          ]
        }
      ]
    }
  ]
}
